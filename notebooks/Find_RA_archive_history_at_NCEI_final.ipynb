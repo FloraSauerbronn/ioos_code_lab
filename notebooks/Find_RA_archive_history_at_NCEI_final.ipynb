{
 "cells": [
  {
   "cell_type": "markdown",
   "metadata": {},
   "source": [
    "Using NCEI geoportal REST API to collect information about IOOS Regional Association archived data\n",
    "==================\n",
    "\n",
    "by Mathew Biddle, Faculty Specialist, UMD/ESSIC/CICS at the NOAA National Centers for Environmental Information (NCEI)"
   ]
  },
  {
   "cell_type": "markdown",
   "metadata": {
    "collapsed": true
   },
   "source": [
    "### IOOS regional associations archive their non-federal observational data with NOAA's National Center for Environmental Information (NCEI). In this notebook we will use the [RESTful](https://github.com/Esri/geoportal-server/wiki/REST-API-Syntax) services of the [NCEI geoportal](https://www.nodc.noaa.gov/archivesearch/catalog/search/search.page) to collect metadata from the Archival Information Packages found in the NCEI archives. The metadata information are stored in [ISO 19115-2](https://wiki.earthdata.nasa.gov/display/NASAISO/ISO+19115-2) xml files which the NCEI geoportal uses for discovery of Archival Information Packages (AIPs). This example uses the ISO metadata records to display publication information as well as plot the time coverage of each AIP at NCEI which meets the search criteria."
   ]
  },
  {
   "cell_type": "markdown",
   "metadata": {},
   "source": [
    "First we import the owslib and numpy package. This allows us to parse the ISO xml records and process the information we gather."
   ]
  },
  {
   "cell_type": "code",
   "execution_count": 1,
   "metadata": {
    "collapsed": true
   },
   "outputs": [],
   "source": [
    "# Importing packages. \n",
    "from owslib.iso import *\n",
    "from owslib import util\n",
    "import numpy as np"
   ]
  },
  {
   "cell_type": "raw",
   "metadata": {
    "raw_mimetype": "text/restructuredtext"
   },
   "source": [
    "Initialize a counter for plotting and a list to collect the NCEI Accession identifiers (we use this in the plotting routine). Also, update the namespaces dictionary from owslib to include the approriate namespace reference for gmi and gml. \n",
    "\n",
    "For more information on ISO Namespaces see:  https://geo-ide.noaa.gov/wiki/index.php?title=ISO_Namespaces"
   ]
  },
  {
   "cell_type": "code",
   "execution_count": 2,
   "metadata": {
    "collapsed": true
   },
   "outputs": [],
   "source": [
    "## start some variables and update others ##\n",
    "i=0 # initialize i\n",
    "accenos=[] # empty list\n",
    "namespaces.update({'gmi':'http://www.isotc211.org/2005/gmi'}) # append gmi namespace to namespaces dictionary\n",
    "namespaces.update({'gml': 'http://www.opengis.net/gml/3.2'})"
   ]
  },
  {
   "cell_type": "markdown",
   "metadata": {},
   "source": [
    "### Now we select a Regional Association \n",
    "This is where the user identifies the Regional Association they are interested in. Simply uncomment the line that identifies the region of interest. The user can also omit the Regional Association to collect metadata information about all IOOS non-Federal observation data archived through the NCEI-IOOS pipeline."
   ]
  },
  {
   "cell_type": "code",
   "execution_count": 3,
   "metadata": {
    "collapsed": true
   },
   "outputs": [],
   "source": [
    "##-----Select RA---##\n",
    "#ra = \"Great Lakes Observing System\"\n",
    "ra = \"Southern California Coastal Ocean Observing System\"\n",
    "#ra = \"Southeast Coastal Ocean Observing Regional Association\"\n",
    "#ra = \"Pacific Islands Ocean Observing System\"\n",
    "#ra = \"Northwest Association of Networked Ocean Observing Systems\""
   ]
  },
  {
   "cell_type": "markdown",
   "metadata": {},
   "source": [
    "### Next we generate a geoportal query and georss feed\n",
    "To find more information about how to compile a geoportal query, have a look at [REST API Syntax](https://github.com/Esri/geoportal-server/wiki/REST-API-Syntax) and the [NCEI Search Tips](https://www.nodc.noaa.gov/search/granule/catalog/searchtips/searchtips.page) for the [NCEI geoportal](https://data.nodc.noaa.gov/geoportal/catalog/search/search.page). The example provided is specfic to the NCEI-IOOS data pipeline project and only searches for non-federal timeseries data collected by each Regional Association. \n",
    "\n",
    "The query developed here can be updated to search for any Archival Information Packages at NCEI, therefore the user should develop the appropriate query using the [NCEI Geoportal](https://data.nodc.noaa.gov/geoportal/catalog/search/search.page) and update this portion of the code to identify the REST API of interest."
   ]
  },
  {
   "cell_type": "code",
   "execution_count": 7,
   "metadata": {},
   "outputs": [
    {
     "data": {
      "text/plain": [
       "(<function print>,\n",
       " 'search page response:\\n',\n",
       " 'https://data.nodc.noaa.gov/geoportal/rest/find/document?searchText=dataThemeprojects%3A%22Integrated%20Ocean%20Observing%20System%20Data%20Assembly%20Centers%20Data%20Stewardship%20Program%22%20AND%20%22Southern%20California%20Coastal%20Ocean%20Observing%20System%22%20AND%20%22FIXED%20PLATFORM%22&start=1&max=1010&f=searchPage')"
      ]
     },
     "execution_count": 7,
     "metadata": {},
     "output_type": "execute_result"
    }
   ],
   "source": [
    "import urllib\n",
    "##----generate geoportal query and georss feed-----##\n",
    "# base geoportal url\n",
    "url1 = \"https://data.nodc.noaa.gov/geoportal/rest/find/document?searchText=\" \n",
    "# Identify the project: dataThemeprojects:\"Integrated Ocean Observing System Data Assembly Centers Data Stewardship Program\" \n",
    "url2 = \"dataThemeprojects%3A%22Integrated%20Ocean%20Observing%20System%20Data%20Assembly%20Centers%20Data%20Stewardship%20Program%22\"\n",
    "# Identify the Regional Association as perscribed above: AND \"Northwest Association of Networked Ocean Observing Systems\"\n",
    "try:\n",
    "    ra\n",
    "except NameError:\n",
    "    url3 = \"%20\"\n",
    "else:\n",
    "    url3 = \"%%20AND%%20%%22%s%%22%%20\" %urllib.parse.quote(ra)\n",
    "# Identify the platform: AND \"FIXED PLATFORM\"\n",
    "url4 = \"AND%20%22FIXED%20PLATFORM%22\"\n",
    "# Identify the amount of records and format of the response: 1 to 1010 records \n",
    "url5 = \"&start=1&max=1010\"\n",
    "# Identify the format of the response: georss\n",
    "url6 = \"&f=georss\"\n",
    "# Combine all into one url\n",
    "url = url1+url2+url3+url4+url5+url6\n",
    "print, \"identified response format:'\\n'\", url,'\\n'\n",
    "print, \"search page response:\\n\",url.replace(url6,\"&f=searchPage\")"
   ]
  },
  {
   "cell_type": "markdown",
   "metadata": {},
   "source": [
    "### Time to query the portal and parse out the georrs response\n",
    "Here we are opening the specified REST API and parsing it into a string. Then, since we identified it as a georss xml format above, we parse it using the etree package. We then pull out all the ISO metadata record links and print them out so the user can browse to the metadata record and look for what items they might be interested in."
   ]
  },
  {
   "cell_type": "code",
   "execution_count": 9,
   "metadata": {
    "collapsed": true
   },
   "outputs": [],
   "source": [
    "## Query the NCEI Geoportal and parse the georss response##\n",
    "import urllib\n",
    "\n",
    "f = urllib.request.urlopen(url) # open georss response\n",
    "url_string = f.read() # read response into string\n",
    "url_root = etree.fromstring(url_string) # create etree object from georss response\n",
    "iso_record = url_root.findall('channel/item/link') # find all iso record links\n",
    "print, 'Found %i records' %len(iso_record)\n",
    "for item in iso_record:\n",
    "    print, item.text # print url to ISO19115-2 record"
   ]
  },
  {
   "cell_type": "markdown",
   "metadata": {},
   "source": [
    "### Lets plot up what we have found\n",
    "Now that we have all the ISO metadata records we are interested in, it's time to do something fun with them. In this example we want to generate a timeseries plot of the data coverage for the \"Southern California Coastal Ocean Observing System\" stations we have archived at NCEI.\n",
    "\n",
    "First we set up the figure and import some modules to facilitate plotting and string parsing."
   ]
  },
  {
   "cell_type": "code",
   "execution_count": 10,
   "metadata": {},
   "outputs": [
    {
     "data": {
      "text/plain": [
       "<matplotlib.figure.Figure at 0x2613cb0af98>"
      ]
     },
     "metadata": {},
     "output_type": "display_data"
    }
   ],
   "source": [
    "%matplotlib inline\n",
    "import matplotlib.pyplot as plt\n",
    "import datetime\n",
    "import re\n",
    "import matplotlib.dates as mdates\n",
    "\n",
    "fig = plt.figure(figsize=(15,12))"
   ]
  },
  {
   "cell_type": "markdown",
   "metadata": {},
   "source": [
    "Next, we loop through each iso record to collect metadata information about each package. The example here shows how to collect the following items:\n",
    "   1. NCEI Archival Information Package (AIP) Accession ID (7-digit Accession Number) \n",
    "   2. The first date the archive package was published.\n",
    "   3. The platform code identified from the provider.\n",
    "   4. The version number and date it was published.\n",
    "   5. The current AIP size, in MB.\n",
    "   6. The bounding time, for each AIP found.\n",
    "\n",
    "There are plenty of other metadata elements to collect from the ISO records, so we recommend browsing to one of the records and having a look at the items of interest to your community.\n",
    "\n",
    "Then, the process plots each AIP as a timeseries showing the time coverage. "
   ]
  },
  {
   "cell_type": "code",
   "execution_count": 11,
   "metadata": {
    "scrolled": true
   },
   "outputs": [
    {
     "data": {
      "image/png": "[encoded data removed]",
      "text/plain": [
       "<matplotlib.figure.Figure at 0x2613d678cc0>"
      ]
     },
     "metadata": {},
     "output_type": "display_data"
    }
   ],
   "source": [
    "## Process each iso record ##\n",
    "for item in iso_record: # for each accession in georss response\n",
    "    iso_url = urllib.request.urlopen(item.text) #opens the iso xml web reference\n",
    "    iso_tree = etree.ElementTree(file=urllib.request.urlopen(item.text)) #creates tree element\n",
    "    root = iso_tree.getroot() # gets the root from tree element\n",
    "    ident = root.find(util.nspath_eval('gmd:fileIdentifier/gco:CharacterString', namespaces)) # pulls out identifier string\n",
    "    acce = re.search('[0-9]{7}',util.testXMLValue(ident)) # pulls out 7-digit accession number from identifier\n",
    "    accenos.append(acce.group(0)) # adds accession number to accenos list\n",
    "    print, \"Accession Number = \", acce.group(0) # print the accession number\n",
    "\n",
    "    ##-------Collect Publication date information----##\n",
    "    date_path='gmd:identificationInfo/gmd:MD_DataIdentification/gmd:citation/gmd:CI_Citation/gmd:date/gmd:CI_Date/gmd:date/gco:Date'\n",
    "    pubdate=root.find(util.nspath_eval(date_path, namespaces)) # first published date\n",
    "    print, \"First published date =\",util.testXMLValue(pubdate)\n",
    "    \n",
    "    ##-------Collect Provider Platform Codes (if it has it)----##\n",
    "    for tag in root.getiterator(util.nspath_eval('gco:CharacterString', namespaces)):\n",
    "        #print dir(tag)\n",
    "        if tag.text == \"Provider Platform Codes\":\n",
    "            node=tag.getparent().getparent().getparent().getparent() # backs up to the MD_keywords element\n",
    "            for item in node.findall(util.nspath_eval('gmd:keyword/gco:CharacterString', namespaces)):\n",
    "                print, \"Provider Platform Code = \", item.text\n",
    "    \n",
    "    ##------Pull out the version information------##\n",
    "    # iterate through each processing step which is an NCEI version\n",
    "    for tag in root.getiterator(util.nspath_eval('gmd:processStep', namespaces)):\n",
    "        ## only parse gco:DateTime and gmd:title/gco:CharacterString\n",
    "        vers_title='gmi:LE_ProcessStep/gmi:output/gmi:LE_Source/gmd:sourceCitation/gmd:CI_Citation/gmd:title/gco:CharacterString'\n",
    "        vers_date='gmi:LE_ProcessStep/gmd:dateTime/gco:DateTime'\n",
    "        if tag.findall(util.nspath_eval(vers_date, namespaces)) and \\\n",
    "        tag.findall(util.nspath_eval(vers_title, namespaces)): \n",
    "            # extract dateTime for each version\n",
    "            datetimes=tag.findall(util.nspath_eval(vers_date, namespaces)) \n",
    "            # extract title string (contains version number)\n",
    "            titles=tag.findall(util.nspath_eval(vers_title, namespaces)) \n",
    "            print, util.testXMLValue(titles[0]),\"=\",util.testXMLValue(datetimes[0])\n",
    "    \n",
    "    ##------Collect package size information ----#\n",
    "    # iterate through transfersize nodes\n",
    "    for tag in  root.getiterator(util.nspath_eval('gmd:transferSize', namespaces)):\n",
    "        #print tag.find(util.nspath_eval('gco:Real', namespaces)).text\n",
    "        if tag.find(util.nspath_eval('gco:Real', namespaces)).text: #only go into first gco:Real (where size exists)\n",
    "            sizes=tag.find(util.nspath_eval('gco:Real', namespaces)) # extract size\n",
    "            print, 'Current AIP Size =',sizes.text,'MB'\n",
    "            break\n",
    "        break # only use first size instance, all gco:Real attributes are the same\n",
    "\n",
    "    for tag in root.getiterator(util.nspath_eval('gml:TimePeriod', namespaces)): # Bounding time for AIP\n",
    "        #if text exists in begin or end position nodes.\n",
    "        if tag.find(util.nspath_eval('gml:beginPosition', namespaces)).text and \\\n",
    "        tag.find(util.nspath_eval('gml:endPosition', namespaces)).text: #if text exists in begin or end position nodes.\n",
    "            start_date = tag.find(util.nspath_eval('gml:beginPosition', namespaces)).text\n",
    "            end_date = tag.find(util.nspath_eval('gml:endPosition', namespaces)).text\n",
    "    print, \"Bounding Time =\",start_date,\"TO\",end_date,\"\\n\"\n",
    "    \n",
    "    ## Plotting routine for each accession, plot start-end as timeseries for each accession\n",
    "    # create datetime objects for start_date and end_date\n",
    "    date1 = datetime.datetime(int(start_date.split('-')[0]),int(start_date.split('-')[1]),int(start_date.split('-')[2]))\n",
    "    date2 = datetime.datetime(int(end_date.split('-')[0]),int(end_date.split('-')[1]),int(end_date.split('-')[2]))\n",
    "    dates = [date1,date2]\n",
    "    i += 1 # counter for plotting\n",
    "    y = [i,i]\n",
    "    plt.plot_date(x=dates, y=y,fmt='-',color='b',linewidth=6.0) # plot the timeseries\n",
    "\n",
    "## Clean up the plot    \n",
    "plt.ylim([0,i+1])\n",
    "years = mdates.YearLocator() # every year\n",
    "months = mdates.MonthLocator()  # every month\n",
    "yearsFmt = mdates.DateFormatter('%Y')\n",
    "ax = plt.gca()\n",
    "ax.xaxis.grid(True)\n",
    "ax.xaxis.set_major_locator(years)\n",
    "ax.xaxis.set_major_formatter(yearsFmt) # format the xaxis labels\n",
    "ax.xaxis.set_minor_locator(months)\n",
    "ax.xaxis.set_ticks_position('bottom')\n",
    "ax.yaxis.grid(True)\n",
    "ax.set(yticks=np.arange(1,len(accenos)+1))\n",
    "ax.tick_params(which = 'both', direction = 'out')\n",
    "ax.set_yticklabels(accenos)\n",
    "plt.ylabel('NCEI Accession Number')\n",
    "#plt.xlabel('Archival Information Package Coverage')\n",
    "plt.title('%s Data Archived at NCEI'%ra)\n",
    "plt.show()"
   ]
  },
  {
   "cell_type": "markdown",
   "metadata": {
    "collapsed": true
   },
   "source": [
    "This procedure has been developed as an example of how to use NCEI's geoportal REST API's to collect information about packages that have been archived at NCEI. The intention is to provide some guidance and ways to collect this information without having to request it directly from NCEI. There are a significant amount of metadata elements which NCEI makes available through their ISO metadata records. Therefore, anyone interested in collecting other information from the records at NCEI should have a look at the ISO metadata records and determine which items are of interest to their community. Then, update the example code provided to collect that information.\n"
   ]
  }
 ],
 "metadata": {
  "anaconda-cloud": {},
  "celltoolbar": "Raw Cell Format",
  "kernelspec": {
   "display_name": "Python [conda env:IOOS3]",
   "language": "python",
   "name": "conda-env-IOOS3-py"
  },
  "language_info": {
   "codemirror_mode": {
    "name": "ipython",
    "version": 3
   },
   "file_extension": ".py",
   "mimetype": "text/x-python",
   "name": "python",
   "nbconvert_exporter": "python",
   "pygments_lexer": "ipython3",
   "version": "3.6.1"
  }
 },
 "nbformat": 4,
 "nbformat_minor": 1
}
