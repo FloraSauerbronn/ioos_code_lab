{
 "cells": [
  {
   "cell_type": "markdown",
   "metadata": {
    "deletable": true,
    "editable": true
   },
   "source": [
    "# Read realtime data from IOOS Sensor Map via ERDDAP tabledap\n",
    "\n",
    "Exploring use of Python to formulate requests to the [`ERDDAP` `tabledap`](http://coastwatch.pfeg.noaa.gov/erddap/index.html) service from [IOOS Sensor Map](https://sensors.ioos.us/#map) data requests and process the various responses available.\n",
    "\n",
    "`ERDDAP` [RESTful Web Services](http://coastwatch.pfeg.noaa.gov/erddap/rest.html) can be accessed via the [Data Access Form](http://erddap.axiomdatascience.com/erddap/tabledap/sensor_service.html)\n",
    " or we can construct then endpoint with a simple `Python` function like the one below."
   ]
  },
  {
   "cell_type": "code",
   "execution_count": 1,
   "metadata": {
    "collapsed": true,
    "deletable": true,
    "editable": true
   },
   "outputs": [],
   "source": [
    "import requests\n",
    "from urllib.parse import urlencode\n",
    "\n",
    "\n",
    "def encode_erddap(urlbase, fname, columns, params):\n",
    "    \"\"\"\n",
    "    urlbase: the base string for the endpoint\n",
    "             (e.g.: http://erddap.axiomdatascience.com/erddap/tabledap).\n",
    "    fname: the data source (e.g.: `sensor_service`) and the response (e.g.: `.csvp` for CSV).\n",
    "    columns: the columns of the return table.\n",
    "    params: the parameters for the query.\n",
    "\n",
    "    Returns a valid ERDDAP endpoint.\n",
    "    \"\"\"\n",
    "    urlbase = urlbase.rstrip('/')\n",
    "    if not urlbase.lower().startswith(('http:', 'https:')):\n",
    "        msg = 'Expected valid URL but got {}'.format\n",
    "        raise ValueError(msg(urlbase))\n",
    "\n",
    "    columns = ','.join(columns)\n",
    "    params = urlencode(params)\n",
    "    endpoint = '{urlbase}/{fname}?{columns}&{params}'.format\n",
    "\n",
    "    url = endpoint(urlbase=urlbase, fname=fname,\n",
    "                   columns=columns, params=params)\n",
    "    r = requests.get(url)\n",
    "    r.raise_for_status()\n",
    "    return url"
   ]
  },
  {
   "cell_type": "markdown",
   "metadata": {
    "deletable": true,
    "editable": true
   },
   "source": [
    "We want to bypass the forms and get the data by generating the URL \"by hand\" using the function we defined above. Below we have a query for `Significant Wave Height` from buoy `44011` starting at the begining of the year 2017.\n",
    "\n",
    "Please check the [documentation](http://coastwatch.pfeg.noaa.gov/erddap/tabledap/documentation.html) for more information on the various parameters and responses of ERDDAP."
   ]
  },
  {
   "cell_type": "code",
   "execution_count": 2,
   "metadata": {
    "collapsed": false,
    "deletable": true,
    "editable": true
   },
   "outputs": [
    {
     "name": "stdout",
     "output_type": "stream",
     "text": [
      "http://erddap.axiomdatascience.com/erddap/tabledap/sensor_service.csvp?time,value,station,longitude,latitude,parameter,unit,depth&time>=2017-01-00T00:00:00Z&station=\"urn:ioos:station:wmo:44011\"&parameter=\"Significant+Wave+Height\"&unit=\"m\"\n"
     ]
    }
   ],
   "source": [
    "from urllib.parse import unquote\n",
    "\n",
    "\n",
    "urlbase = 'http://erddap.axiomdatascience.com/erddap/tabledap'\n",
    "\n",
    "fname = 'sensor_service.csvp'\n",
    "\n",
    "columns = ('time',\n",
    "           'value',\n",
    "           'station',\n",
    "           'longitude',\n",
    "           'latitude',\n",
    "           'parameter',\n",
    "           'unit',\n",
    "           'depth')\n",
    "params = {\n",
    "    # Inequalities do not exist in HTTP parameters,\n",
    "    # so we need to hardcoded the `>` in the time key to get a '>='.\n",
    "    # Note that a '>' or '<' cannot be encoded with `urlencode`, only `>=` and `<=`.\n",
    "    'time>': '2017-01-00T00:00:00Z',\n",
    "    'station': '\"urn:ioos:station:wmo:44011\"',\n",
    "    'parameter': '\"Significant Wave Height\"',\n",
    "    'unit': '\"m\"',\n",
    "}\n",
    "\n",
    "url = encode_erddap(urlbase, fname, columns, params)\n",
    "\n",
    "print(unquote(url))"
   ]
  },
  {
   "cell_type": "markdown",
   "metadata": {
    "deletable": true,
    "editable": true
   },
   "source": [
    "The data `tabledap` `csvp` response can be easily read by pandas `read_csv`."
   ]
  },
  {
   "cell_type": "code",
   "execution_count": 3,
   "metadata": {
    "collapsed": false,
    "deletable": true,
    "editable": true,
    "scrolled": false
   },
   "outputs": [
    {
     "data": {
      "text/html": [
       "<div>\n",
       "<table border=\"1\" class=\"dataframe\">\n",
       "  <thead>\n",
       "    <tr style=\"text-align: right;\">\n",
       "      <th></th>\n",
       "      <th>value</th>\n",
       "      <th>station</th>\n",
       "      <th>longitude (degrees_east)</th>\n",
       "      <th>latitude (degrees_north)</th>\n",
       "      <th>parameter</th>\n",
       "      <th>unit</th>\n",
       "      <th>depth (m)</th>\n",
       "    </tr>\n",
       "    <tr>\n",
       "      <th>time (UTC)</th>\n",
       "      <th></th>\n",
       "      <th></th>\n",
       "      <th></th>\n",
       "      <th></th>\n",
       "      <th></th>\n",
       "      <th></th>\n",
       "      <th></th>\n",
       "    </tr>\n",
       "  </thead>\n",
       "  <tbody>\n",
       "    <tr>\n",
       "      <th>2017-03-22 18:00:00</th>\n",
       "      <td>1.1</td>\n",
       "      <td>urn:ioos:station:wmo:44011</td>\n",
       "      <td>-66.619</td>\n",
       "      <td>41.098</td>\n",
       "      <td>Significant Wave Height</td>\n",
       "      <td>m</td>\n",
       "      <td>0.0</td>\n",
       "    </tr>\n",
       "    <tr>\n",
       "      <th>2017-03-22 17:50:00</th>\n",
       "      <td>1.1</td>\n",
       "      <td>urn:ioos:station:wmo:44011</td>\n",
       "      <td>-66.619</td>\n",
       "      <td>41.098</td>\n",
       "      <td>Significant Wave Height</td>\n",
       "      <td>m</td>\n",
       "      <td>0.0</td>\n",
       "    </tr>\n",
       "    <tr>\n",
       "      <th>2017-03-22 17:00:00</th>\n",
       "      <td>1.1</td>\n",
       "      <td>urn:ioos:station:wmo:44011</td>\n",
       "      <td>-66.619</td>\n",
       "      <td>41.098</td>\n",
       "      <td>Significant Wave Height</td>\n",
       "      <td>m</td>\n",
       "      <td>0.0</td>\n",
       "    </tr>\n",
       "    <tr>\n",
       "      <th>2017-03-22 16:50:00</th>\n",
       "      <td>1.1</td>\n",
       "      <td>urn:ioos:station:wmo:44011</td>\n",
       "      <td>-66.619</td>\n",
       "      <td>41.098</td>\n",
       "      <td>Significant Wave Height</td>\n",
       "      <td>m</td>\n",
       "      <td>0.0</td>\n",
       "    </tr>\n",
       "    <tr>\n",
       "      <th>2017-03-22 16:00:00</th>\n",
       "      <td>1.0</td>\n",
       "      <td>urn:ioos:station:wmo:44011</td>\n",
       "      <td>-66.619</td>\n",
       "      <td>41.098</td>\n",
       "      <td>Significant Wave Height</td>\n",
       "      <td>m</td>\n",
       "      <td>0.0</td>\n",
       "    </tr>\n",
       "  </tbody>\n",
       "</table>\n",
       "</div>"
      ],
      "text/plain": [
       "                     value                     station  \\\n",
       "time (UTC)                                               \n",
       "2017-03-22 18:00:00    1.1  urn:ioos:station:wmo:44011   \n",
       "2017-03-22 17:50:00    1.1  urn:ioos:station:wmo:44011   \n",
       "2017-03-22 17:00:00    1.1  urn:ioos:station:wmo:44011   \n",
       "2017-03-22 16:50:00    1.1  urn:ioos:station:wmo:44011   \n",
       "2017-03-22 16:00:00    1.0  urn:ioos:station:wmo:44011   \n",
       "\n",
       "                     longitude (degrees_east)  latitude (degrees_north)  \\\n",
       "time (UTC)                                                                \n",
       "2017-03-22 18:00:00                   -66.619                    41.098   \n",
       "2017-03-22 17:50:00                   -66.619                    41.098   \n",
       "2017-03-22 17:00:00                   -66.619                    41.098   \n",
       "2017-03-22 16:50:00                   -66.619                    41.098   \n",
       "2017-03-22 16:00:00                   -66.619                    41.098   \n",
       "\n",
       "                                   parameter unit  depth (m)  \n",
       "time (UTC)                                                    \n",
       "2017-03-22 18:00:00  Significant Wave Height    m        0.0  \n",
       "2017-03-22 17:50:00  Significant Wave Height    m        0.0  \n",
       "2017-03-22 17:00:00  Significant Wave Height    m        0.0  \n",
       "2017-03-22 16:50:00  Significant Wave Height    m        0.0  \n",
       "2017-03-22 16:00:00  Significant Wave Height    m        0.0  "
      ]
     },
     "execution_count": 3,
     "metadata": {},
     "output_type": "execute_result"
    }
   ],
   "source": [
    "from pandas import read_csv\n",
    "\n",
    "df = read_csv(url, index_col=0, parse_dates=True)\n",
    "\n",
    "df.head()"
   ]
  },
  {
   "cell_type": "markdown",
   "metadata": {
    "deletable": true,
    "editable": true
   },
   "source": [
    "With the `DataFrame` we can easily plot the data."
   ]
  },
  {
   "cell_type": "code",
   "execution_count": 4,
   "metadata": {
    "collapsed": false,
    "deletable": true,
    "editable": true
   },
   "outputs": [
    {
     "data": {
      "image/png": "[encoded data removed]",
      "text/plain": [
       "<matplotlib.figure.Figure at 0x7fae95f7f208>"
      ]
     },
     "metadata": {},
     "output_type": "display_data"
    }
   ],
   "source": [
    "%matplotlib inline\n",
    "\n",
    "ax = df['value'].plot(figsize=(11, 2.75), title=df['parameter'][0])"
   ]
  },
  {
   "cell_type": "markdown",
   "metadata": {
    "deletable": true,
    "editable": true
   },
   "source": [
    "Note that slicing the time dimension on the sever side is very fast when compared with an OPeNDAP request, download of the time dimension data, slice, and subsequent download of the actual data.\n",
    "\n",
    "`ERDDAP` also allows filtering the values of the variable. Let's get Wave Heights that are bigger than 6 meters for example starting from `2016`.\n",
    "\n",
    "PS: note how we can lazily build on top of the previous query using Python's dictionaries."
   ]
  },
  {
   "cell_type": "code",
   "execution_count": 5,
   "metadata": {
    "collapsed": false,
    "deletable": true,
    "editable": true
   },
   "outputs": [
    {
     "data": {
      "text/html": [
       "<div>\n",
       "<table border=\"1\" class=\"dataframe\">\n",
       "  <thead>\n",
       "    <tr style=\"text-align: right;\">\n",
       "      <th></th>\n",
       "      <th>value</th>\n",
       "      <th>station</th>\n",
       "      <th>longitude (degrees_east)</th>\n",
       "      <th>latitude (degrees_north)</th>\n",
       "      <th>parameter</th>\n",
       "      <th>unit</th>\n",
       "      <th>depth (m)</th>\n",
       "    </tr>\n",
       "    <tr>\n",
       "      <th>time (UTC)</th>\n",
       "      <th></th>\n",
       "      <th></th>\n",
       "      <th></th>\n",
       "      <th></th>\n",
       "      <th></th>\n",
       "      <th></th>\n",
       "      <th></th>\n",
       "    </tr>\n",
       "  </thead>\n",
       "  <tbody>\n",
       "    <tr>\n",
       "      <th>2017-03-15 20:00:00</th>\n",
       "      <td>6.4</td>\n",
       "      <td>urn:ioos:station:wmo:44011</td>\n",
       "      <td>-66.619</td>\n",
       "      <td>41.098</td>\n",
       "      <td>Significant Wave Height</td>\n",
       "      <td>m</td>\n",
       "      <td>0.0</td>\n",
       "    </tr>\n",
       "    <tr>\n",
       "      <th>2017-03-15 19:50:00</th>\n",
       "      <td>6.4</td>\n",
       "      <td>urn:ioos:station:wmo:44011</td>\n",
       "      <td>-66.619</td>\n",
       "      <td>41.098</td>\n",
       "      <td>Significant Wave Height</td>\n",
       "      <td>m</td>\n",
       "      <td>0.0</td>\n",
       "    </tr>\n",
       "    <tr>\n",
       "      <th>2017-03-15 19:00:00</th>\n",
       "      <td>6.8</td>\n",
       "      <td>urn:ioos:station:wmo:44011</td>\n",
       "      <td>-66.619</td>\n",
       "      <td>41.098</td>\n",
       "      <td>Significant Wave Height</td>\n",
       "      <td>m</td>\n",
       "      <td>0.0</td>\n",
       "    </tr>\n",
       "    <tr>\n",
       "      <th>2017-03-15 18:50:00</th>\n",
       "      <td>6.8</td>\n",
       "      <td>urn:ioos:station:wmo:44011</td>\n",
       "      <td>-66.619</td>\n",
       "      <td>41.098</td>\n",
       "      <td>Significant Wave Height</td>\n",
       "      <td>m</td>\n",
       "      <td>0.0</td>\n",
       "    </tr>\n",
       "    <tr>\n",
       "      <th>2017-03-15 18:00:00</th>\n",
       "      <td>6.4</td>\n",
       "      <td>urn:ioos:station:wmo:44011</td>\n",
       "      <td>-66.619</td>\n",
       "      <td>41.098</td>\n",
       "      <td>Significant Wave Height</td>\n",
       "      <td>m</td>\n",
       "      <td>0.0</td>\n",
       "    </tr>\n",
       "  </tbody>\n",
       "</table>\n",
       "</div>"
      ],
      "text/plain": [
       "                     value                     station  \\\n",
       "time (UTC)                                               \n",
       "2017-03-15 20:00:00    6.4  urn:ioos:station:wmo:44011   \n",
       "2017-03-15 19:50:00    6.4  urn:ioos:station:wmo:44011   \n",
       "2017-03-15 19:00:00    6.8  urn:ioos:station:wmo:44011   \n",
       "2017-03-15 18:50:00    6.8  urn:ioos:station:wmo:44011   \n",
       "2017-03-15 18:00:00    6.4  urn:ioos:station:wmo:44011   \n",
       "\n",
       "                     longitude (degrees_east)  latitude (degrees_north)  \\\n",
       "time (UTC)                                                                \n",
       "2017-03-15 20:00:00                   -66.619                    41.098   \n",
       "2017-03-15 19:50:00                   -66.619                    41.098   \n",
       "2017-03-15 19:00:00                   -66.619                    41.098   \n",
       "2017-03-15 18:50:00                   -66.619                    41.098   \n",
       "2017-03-15 18:00:00                   -66.619                    41.098   \n",
       "\n",
       "                                   parameter unit  depth (m)  \n",
       "time (UTC)                                                    \n",
       "2017-03-15 20:00:00  Significant Wave Height    m        0.0  \n",
       "2017-03-15 19:50:00  Significant Wave Height    m        0.0  \n",
       "2017-03-15 19:00:00  Significant Wave Height    m        0.0  \n",
       "2017-03-15 18:50:00  Significant Wave Height    m        0.0  \n",
       "2017-03-15 18:00:00  Significant Wave Height    m        0.0  "
      ]
     },
     "execution_count": 5,
     "metadata": {},
     "output_type": "execute_result"
    }
   ],
   "source": [
    "params.update(\n",
    "    {\n",
    "        'value>': 6,\n",
    "        'time>': '2016-01-00T00:00:00Z',\n",
    "    }\n",
    ")\n",
    "\n",
    "url = encode_erddap(urlbase, fname, columns, params)\n",
    "\n",
    "df = read_csv(url, index_col=0, parse_dates=True)\n",
    "\n",
    "df.head()"
   ]
  },
  {
   "cell_type": "markdown",
   "metadata": {
    "deletable": true,
    "editable": true
   },
   "source": [
    "And now we can visualize the frequency of `Significant Wave Height` greater than 6 meters by month."
   ]
  },
  {
   "cell_type": "code",
   "execution_count": 6,
   "metadata": {
    "collapsed": false,
    "deletable": true,
    "editable": true
   },
   "outputs": [
    {
     "data": {
      "image/png": "[encoded data removed]",
      "text/plain": [
       "<matplotlib.figure.Figure at 0x7fae93853ba8>"
      ]
     },
     "metadata": {},
     "output_type": "display_data"
    }
   ],
   "source": [
    "def key(x):\n",
    "    return x.month\n",
    "\n",
    "\n",
    "grouped = df['value'].groupby(key)\n",
    "\n",
    "ax = grouped.count().plot.bar()\n",
    "m = ax.set_xticklabels(['Jan', 'Feb', 'Mar', 'Apr', 'May', 'Jun',\n",
    "                        'Jul', 'Ago', 'Sep', 'Oct', 'Nov', 'Dec'])"
   ]
  },
  {
   "cell_type": "markdown",
   "metadata": {
    "deletable": true,
    "editable": true
   },
   "source": [
    "There is also a built-in relative time functionality.\n",
    "Here we demonstrate that by getting the last 2 hours and displaying that with the HTML response in an `IFrame`."
   ]
  },
  {
   "cell_type": "code",
   "execution_count": 7,
   "metadata": {
    "collapsed": false,
    "deletable": true,
    "editable": true
   },
   "outputs": [
    {
     "data": {
      "text/html": [
       "<iframe src=http://erddap.axiomdatascience.com/erddap/tabledap/sensor_service.htmlTable?time,value,station,longitude,latitude,parameter,unit,depth&time%3E=now-2hours&time%3C=now&station=%22urn%3Aioos%3Astation%3Anerrs%3Awqbchmet%22&parameter=%22Wind+Speed%22&unit=%22m.s-1%22 width=650 height=370></iframe>"
      ],
      "text/plain": [
       "<IPython.core.display.HTML object>"
      ]
     },
     "execution_count": 7,
     "metadata": {},
     "output_type": "execute_result"
    }
   ],
   "source": [
    "from IPython.display import HTML\n",
    "\n",
    "\n",
    "fname = 'sensor_service.htmlTable'\n",
    "\n",
    "params = {\n",
    "    'time>': 'now-2hours',\n",
    "    'time<': 'now',\n",
    "    'station': '\"urn:ioos:station:nerrs:wqbchmet\"',\n",
    "    'parameter': '\"Wind Speed\"',\n",
    "    'unit': '\"m.s-1\"'\n",
    "}\n",
    "\n",
    "url = encode_erddap(urlbase, fname, columns, params)\n",
    "\n",
    "iframe = '<iframe src={src} width=650 height=370></iframe>'.format\n",
    "HTML(iframe(src=url))"
   ]
  },
  {
   "cell_type": "markdown",
   "metadata": {
    "deletable": true,
    "editable": true
   },
   "source": [
    "`ERDDAP` responses are very rich.\n",
    "There is even multiple image formats in the graph.\n",
    "Here is how to get a `png` for the temperature time-series with an arbitrary width/height."
   ]
  },
  {
   "cell_type": "code",
   "execution_count": 8,
   "metadata": {
    "collapsed": false,
    "deletable": true,
    "editable": true
   },
   "outputs": [
    {
     "data": {
      "text/html": [
       "<iframe src=http://erddap.axiomdatascience.com/erddap/tabledap/sensor_service.png?time,value,station,longitude,latitude,parameter,unit,depth&time%3E=now-7days&station=%22urn%3Aioos%3Astation%3Awmo%3A44011%22&parameter=%22Water+Temperature%22&unit=%22degree_Celsius%22&.size=450%7C500 width=455 height=505></iframe>"
      ],
      "text/plain": [
       "<IPython.core.display.HTML object>"
      ]
     },
     "execution_count": 8,
     "metadata": {},
     "output_type": "execute_result"
    }
   ],
   "source": [
    "fname = 'sensor_service.png'\n",
    "\n",
    "params = {\n",
    "    'time>': 'now-7days',\n",
    "    'station': '\"urn:ioos:station:wmo:44011\"',\n",
    "    'parameter': '\"Water Temperature\"',\n",
    "    'unit': '\"degree_Celsius\"',\n",
    "}\n",
    "\n",
    "\n",
    "width, height = 450, 500\n",
    "params.update(\n",
    "    {'.size': '{}|{}'.format(width, height)}\n",
    ")\n",
    "\n",
    "url = encode_erddap(urlbase, fname, columns, params)\n",
    "\n",
    "iframe = '<iframe src={src} width={width} height={height}></iframe>'.format\n",
    "HTML(iframe(src=url, width=width+5, height=height+5))"
   ]
  },
  {
   "cell_type": "markdown",
   "metadata": {
    "deletable": true,
    "editable": true
   },
   "source": [
    "Explore more datasets using the sensor map [website](https://sensors.ioos.us/#map)!"
   ]
  },
  {
   "cell_type": "markdown",
   "metadata": {
    "deletable": true,
    "editable": true
   },
   "source": [
    "<br>\n",
    "Right click and choose Save link as... to\n",
    "[download](https://raw.githubusercontent.com/ioos/notebooks_demos/master/notebooks/2017-03-21-ERDDAP_IOOS_Sensor_Map.ipynb)\n",
    "this notebook, or see a static view [here](http://nbviewer.ipython.org/urls/raw.githubusercontent.com/ioos/notebooks_demos/master/notebooks/2017-03-21-ERDDAP_IOOS_Sensor_Map.ipynb)."
   ]
  }
 ],
 "metadata": {
  "kernelspec": {
   "display_name": "Python [conda env:IOOS3]",
   "language": "python",
   "name": "conda-env-IOOS3-py"
  },
  "language_info": {
   "codemirror_mode": {
    "name": "ipython",
    "version": 3
   },
   "file_extension": ".py",
   "mimetype": "text/x-python",
   "name": "python",
   "nbconvert_exporter": "python",
   "pygments_lexer": "ipython3",
   "version": "3.6.0"
  }
 },
 "nbformat": 4,
 "nbformat_minor": 0
}
