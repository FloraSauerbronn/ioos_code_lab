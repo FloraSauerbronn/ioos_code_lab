{
 "cells": [
  {
   "cell_type": "markdown",
   "metadata": {
    "collapsed": true
   },
   "source": [
    "# Demonstrate some CSW query capabilities "
   ]
  },
  {
   "cell_type": "markdown",
   "metadata": {},
   "source": [
    "We will use the owslib library to construct queries and parse responses from CSW"
   ]
  },
  {
   "cell_type": "markdown",
   "metadata": {},
   "source": [
    "Specify a CSW endpoint.  You can test if it's working with a getCapabilities request:\n",
    "\n",
    "```\n",
    "<endpoint>?request=GetCapabilities&service=CSW\n",
    "```\n",
    "\n",
    "for example:\n",
    "\n",
    "```\n",
    "http://catalog.data.gov/csw-all?service=CSW&version=2.0.2&request=GetCapabilities\n",
    "```"
   ]
  },
  {
   "cell_type": "code",
   "execution_count": 1,
   "metadata": {
    "collapsed": false
   },
   "outputs": [
    {
     "name": "stdout",
     "output_type": "stream",
     "text": [
      "2.0.2\n"
     ]
    }
   ],
   "source": [
    "from owslib.csw import CatalogueServiceWeb\n",
    "\n",
    "endpoints = dict(\n",
    "    csw_all='http://catalog.data.gov/csw-all',  # Granule level production catalog.\n",
    "    whoi='http://geoport.whoi.edu/csw',\n",
    "    geoportal='http://www.ngdc.noaa.gov/geoportal/csw',\n",
    "    ioos='https://data.ioos.us/csw',\n",
    "    ioos_dev='https://dev-catalog.ioos.us/csw'\n",
    ")\n",
    "\n",
    "csw = CatalogueServiceWeb(endpoints['ioos'], timeout=60)\n",
    "\n",
    "print(csw.version)"
   ]
  },
  {
   "cell_type": "code",
   "execution_count": 2,
   "metadata": {
    "collapsed": false,
    "scrolled": true
   },
   "outputs": [
    {
     "name": "stdout",
     "output_type": "stream",
     "text": [
      "Found 10 records.\n",
      "\n",
      "[Mooring Temperature and Salinity Data from site WHOTS-5]: OceanSITES:OS_WHOTS_200806_D_MICROCAT-105m\n",
      "[BATS BTL Timeseries ExpoCode=33H420090303 Station=BATSBLMA Cast=4]: OceanSITES:OS_BATS-1_BATSBLMA-0245-4_D_BTL\n",
      "[Time-series of in situ Temperature, Conductivity, and derived Salinity Data from the ALOHA Cabled Observatory]: OceanSITES:OS_ACO_20111010-00-08_P_CTD3-4726m\n",
      "[clark-20150709T1803]: deployments/rutgers/clark-20150709T1803/clark-20150709T1803.nc3.nc\n",
      "[None]: OceanSITES:OS_DYFAMED_2000_TSOF\n",
      "[BATS BTL Timeseries ExpoCode=320G19900716 Station=BATSCR Cast=1]: OceanSITES:OS_BATS-1_BATSCR-0022-1_D_BTL\n",
      "[BATS BTL Timeseries ExpoCode=320G19900813 Station=BATSCR Cast=2]: OceanSITES:OS_BATS-1_BATSCR-0023-2_D_BTL\n",
      "[BATS BTL Timeseries ExpoCode=320G19980113 Station=BATSCR Cast=8]: OceanSITES:OS_BATS-1_BATSCR-0112-8_D_BTL\n",
      "[Ocean salinity data from surface mooring NTAS deployment 10]: OceanSITES:OS_NTAS_2010_P_TS\n",
      "[gichigami-20110701T0123]: deployments/lfiorentino/gichigami-20110701T0123/gichigami-20110701T0123.nc3.nc\n"
     ]
    }
   ],
   "source": [
    "from owslib import fes\n",
    "\n",
    "filter1 = fes.PropertyIsLike(\n",
    "    propertyname='apiso:AnyText',\n",
    "    literal=('*sea_water_salinity*'),\n",
    "    escapeChar='\\\\',\n",
    "    wildCard='*',\n",
    "    singleChar='?'\n",
    ")\n",
    "\n",
    "csw.getrecords2(constraints=[filter1], maxrecords=100, esn='full')\n",
    "\n",
    "print('Found {} records.\\n'.format(len(csw.records.keys())))\n",
    "for key, value in list(csw.records.items()):\n",
    "    print('[{}]: {}'.format(value.title, key))"
   ]
  },
  {
   "cell_type": "markdown",
   "metadata": {},
   "source": [
    "Hmmm..... In the query above, we only get 10 records, even though we specified maxrecords=100.  \n",
    "\n",
    "What's up with that?\n",
    "\n",
    "Turns out the CSW service specified a MaxRecordDefault that cannot be exceeded. For example, checking https://data.ioos.us/csw?request=GetCapabilities&service=CSW we find:\n",
    "\n",
    "```\n",
    "<ows:Constraint name=\"MaxRecordDefault\">\n",
    "    <ows:Value>10</ows:Value>\n",
    "</ows:Constraint>\n",
    "```\n",
    "\n",
    "So we need to loop the getrecords request, incrementing the startposition:"
   ]
  },
  {
   "cell_type": "code",
   "execution_count": 3,
   "metadata": {
    "collapsed": true
   },
   "outputs": [],
   "source": [
    "from owslib.fes import SortBy, SortProperty\n",
    "\n",
    "pagesize = 10\n",
    "maxrecords = 50\n",
    "sort_order = 'ASC'  # Should be 'ASC' or 'DESC' (ascending or descending).\n",
    "sort_property = 'dc:title'  # A supported queryable of the CSW.\n",
    "\n",
    "sortby = SortBy([SortProperty(sort_property, sort_order)])"
   ]
  },
  {
   "cell_type": "code",
   "execution_count": 4,
   "metadata": {
    "collapsed": false,
    "scrolled": false
   },
   "outputs": [
    {
     "name": "stdout",
     "output_type": "stream",
     "text": [
      "getting records 0 to 10\n",
      "AOOS/Models/Prince William Sound ROMS/Prince William Sound (PWS) Regional Ocean Modeling System (ROMS) L0 Forecast\n",
      "AOOS/Models/Prince William Sound ROMS/Prince William Sound (PWS) Regional Ocean Modeling System (ROMS) L1 Forecast\n",
      "AOOS/Models/Prince William Sound ROMS/Prince William Sound (PWS) Regional Ocean Modeling System (ROMS) L2 Forecast\n",
      "AOOS/Models/Prince William Sound ROMS/Regional Ocean Modeling System (ROMS) Nowcast\n",
      "Arctic Seas Regional Climatology : sea_water_temperature January 0.25 degree\n",
      "ASIMet logger data from surface mooring NTAS deployment 1\n",
      "ASIMet logger data from surface mooring NTAS deployment 10\n",
      "ASIMet logger data from surface mooring NTAS deployment 11\n",
      "ASIMet logger data from surface mooring NTAS deployment 12\n",
      "ASIMet logger data from surface mooring NTAS deployment 2\n",
      "\n",
      "getting records 10 to 20\n",
      "ASIMet logger data from surface mooring NTAS deployment 2\n",
      "ASIMet logger data from surface mooring NTAS deployment 3\n",
      "ASIMet logger data from surface mooring NTAS deployment 4\n",
      "ASIMet logger data from surface mooring NTAS deployment 5\n",
      "ASIMet logger data from surface mooring NTAS deployment 6\n",
      "ASIMet logger data from surface mooring NTAS deployment 7\n",
      "ASIMet logger data from surface mooring NTAS deployment 8\n",
      "ASIMet logger data from surface mooring NTAS deployment 9\n",
      "ASIMet logger data from surface mooring Stratus deployment 1\n",
      "ASIMet logger data from surface mooring Stratus deployment 10\n",
      "\n",
      "getting records 20 to 30\n",
      "ASIMet logger data from surface mooring Stratus deployment 11\n",
      "ASIMet logger data from surface mooring Stratus deployment 12\n",
      "ASIMet logger data from surface mooring Stratus deployment 2\n",
      "ASIMet logger data from surface mooring Stratus deployment 3\n",
      "ASIMet logger data from surface mooring Stratus deployment 4\n",
      "ASIMet logger data from surface mooring Stratus deployment 5\n",
      "ASIMet logger data from surface mooring Stratus deployment 6\n",
      "ASIMet logger data from surface mooring Stratus deployment 7\n",
      "ASIMet logger data from surface mooring Stratus deployment 8\n",
      "ASIMet logger data from surface mooring Stratus deployment 9\n",
      "\n",
      "getting records 30 to 40\n",
      "ASIMet logger data from surface mooring WHOTS deployment 1\n",
      "ASIMet logger data from surface mooring WHOTS deployment 2\n",
      "ASIMet logger data from surface mooring WHOTS deployment 3\n",
      "ASIMet logger data from surface mooring WHOTS deployment 4\n",
      "ASIMet logger data from surface mooring WHOTS deployment 5\n",
      "ASIMet logger data from surface mooring WHOTS deployment 6\n",
      "ASIMet logger data from surface mooring WHOTS deployment 7\n",
      "ASIMet logger data from surface mooring WHOTS deployment 8\n",
      "ASIMet logger data from surface mooring WHOTS deployment 9\n",
      "bass-20150706T151619Z\n",
      "\n",
      "getting records 40 to 50\n",
      "bass-20150827T1909\n",
      "BATS BTL Timeseries ExpoCode=320G19891119 Station=BATSCR Cast=1\n",
      "BATS BTL Timeseries ExpoCode=320G19891119 Station=BATSCR Cast=2\n",
      "BATS BTL Timeseries ExpoCode=320G19891119 Station=BATSCR Cast=3\n",
      "BATS BTL Timeseries ExpoCode=320G19891119 Station=BATSCR Cast=4\n",
      "BATS BTL Timeseries ExpoCode=320G19891119 Station=BATSCR Cast=5\n",
      "BATS BTL Timeseries ExpoCode=320G19891219 Station=BATSCR Cast=1\n",
      "BATS BTL Timeseries ExpoCode=320G19891219 Station=BATSCR Cast=2\n",
      "BATS BTL Timeseries ExpoCode=320G19900115 Station=BATSBLMA Cast=1\n",
      "BATS BTL Timeseries ExpoCode=320G19900115 Station=BATSBLMA Cast=2\n",
      "\n"
     ]
    }
   ],
   "source": [
    "startposition = 0\n",
    "\n",
    "while True:\n",
    "    print('getting records %d to %d' % (startposition, startposition+pagesize))\n",
    "    csw.getrecords2(constraints=[filter1],\n",
    "                    startposition=startposition,\n",
    "                    maxrecords=pagesize,\n",
    "                    sortby=sortby)\n",
    "    for rec, item in csw.records.items():\n",
    "        print(item.title)\n",
    "    print()\n",
    "    if csw.results['nextrecord'] == 0:\n",
    "        break\n",
    "    startposition += pagesize\n",
    "    if startposition >= maxrecords:\n",
    "        break"
   ]
  },
  {
   "cell_type": "markdown",
   "metadata": {},
   "source": [
    "Okay, now lets add another query filter and add it to the first one"
   ]
  },
  {
   "cell_type": "code",
   "execution_count": 5,
   "metadata": {
    "collapsed": false
   },
   "outputs": [],
   "source": [
    "filter2 = fes.PropertyIsLike(\n",
    "    propertyname='apiso:AnyText',\n",
    "    literal=('*ROMS*'),\n",
    "    escapeChar='\\\\',\n",
    "    wildCard='*', singleChar='?'\n",
    ")\n",
    "\n",
    "filter_list = [fes.And([filter1, filter2])]"
   ]
  },
  {
   "cell_type": "code",
   "execution_count": 6,
   "metadata": {
    "collapsed": false,
    "scrolled": false
   },
   "outputs": [
    {
     "name": "stdout",
     "output_type": "stream",
     "text": [
      "getting records 0 to 10\n",
      "AOOS/Models/Prince William Sound ROMS/Prince William Sound (PWS) Regional Ocean Modeling System (ROMS) L0 Forecast\n",
      "AOOS/Models/Prince William Sound ROMS/Prince William Sound (PWS) Regional Ocean Modeling System (ROMS) L1 Forecast\n",
      "AOOS/Models/Prince William Sound ROMS/Prince William Sound (PWS) Regional Ocean Modeling System (ROMS) L2 Forecast\n",
      "AOOS/Models/Prince William Sound ROMS/Regional Ocean Modeling System (ROMS) Nowcast\n",
      "CBOFS - Chesapeake Bay Operational Forecast System - NOAA CO-OPS - POM\n",
      "CeNCOOS/Models/ROMS/California ROMS/California Coastal Regional Ocean Modeling System (ROMS) Forecast\n",
      "CeNCOOS/Models/ROMS/California ROMS/California Coastal Regional Ocean Modeling System (ROMS) Nowcast\n",
      "CeNCOOS/Models/ROMS/Monterey Bay ROMS (Oct 2010 to Jan 2013)/Monterey Bay (MB) Regional Ocean Modeling System (ROMS) Forecast\n",
      "DBOFS - Delaware Bay Operational Forecast System - NOAA CO-OPS - POM\n",
      "Regional Ocean Modeling System (ROMS): CNMI\n",
      "\n",
      "getting records 10 to 20\n",
      "Regional Ocean Modeling System (ROMS): CNMI\n",
      "Regional Ocean Modeling System (ROMS): CNMI: Data Assimilating\n",
      "Regional Ocean Modeling System (ROMS): Guam\n",
      "Regional Ocean Modeling System (ROMS): Main Hawaiian Islands\n",
      "Regional Ocean Modeling System (ROMS): Main Hawaiian Islands: Data Assimilating\n",
      "Regional Ocean Modeling System (ROMS): Oahu\n",
      "Regional Ocean Modeling System (ROMS): Oahu: Data Assimilating\n",
      "Regional Ocean Modeling System (ROMS): Oahu South Shore\n",
      "Regional Ocean Modeling System (ROMS): Oregon Coast\n",
      "Regional Ocean Modeling System (ROMS): Samoa\n",
      "\n",
      "getting records 20 to 30\n",
      "Regional Ocean Modeling System (ROMS): Samoa: Data Assimilating\n",
      "Regional Ocean Modeling System (ROMS): Waikiki\n",
      "ROMS ESPRESSO Real-Time Operational IS4DVAR Forecast System Version 2 (NEW) 2013-present FMRC Averages\n",
      "ROMS ESPRESSO Real-Time Operational IS4DVAR Forecast System Version 2 (NEW) 2013-present FMRC History\n",
      "ROMS/TOMS 3.0 - New Floria Shelf Application\n",
      "Shelf Hypoxia : DAL : ROMS : 2004-2009 climatology obc with oxygen inst rem 20layers\n",
      "TBOFS - Tampa Bay Operational Forecast System - NOAA CO-OPS - POM\n",
      "UCSC California Current System ROMS Nowcast 10km\n",
      "\n"
     ]
    }
   ],
   "source": [
    "startposition = 0\n",
    "maxrecords = 50\n",
    "\n",
    "while True:\n",
    "    print('getting records %d to %d' % (startposition, startposition+pagesize))\n",
    "    csw.getrecords2(constraints=filter_list,\n",
    "                    startposition=startposition, maxrecords=pagesize, sortby=sortby)\n",
    "    for rec, item in csw.records.items():\n",
    "        print(item.title)\n",
    "    print()\n",
    "    if csw.results['nextrecord'] == 0:\n",
    "        break\n",
    "    startposition += pagesize\n",
    "    if startposition >= maxrecords:\n",
    "        break"
   ]
  },
  {
   "cell_type": "code",
   "execution_count": 7,
   "metadata": {
    "collapsed": false,
    "scrolled": true
   },
   "outputs": [
    {
     "name": "stdout",
     "output_type": "stream",
     "text": [
      "ROMS/TOMS 3.0 - New Floria Shelf Application\n"
     ]
    },
    {
     "data": {
      "text/plain": [
       "[{'scheme': 'WWW:LINK',\n",
       "  'url': 'http://crow.marine.usf.edu:8080/thredds/dodsC/WFS_ROMS_NF_model/USF_Ocean_Circulation_Group_West_Florida_Shelf_Daily_ROMS_Nowcast_Forecast_Model_Data_best.ncd.html'},\n",
       " {'scheme': 'None',\n",
       "  'url': 'http://www.ncdc.noaa.gov/oa/wct/wct-jnlp-beta.php?singlefile=http://crow.marine.usf.edu:8080/thredds/dodsC/WFS_ROMS_NF_model/USF_Ocean_Circulation_Group_West_Florida_Shelf_Daily_ROMS_Nowcast_Forecast_Model_Data_best.ncd'},\n",
       " {'scheme': 'None',\n",
       "  'url': 'http://crow.marine.usf.edu:8080/thredds/dodsC/WFS_ROMS_NF_model/USF_Ocean_Circulation_Group_West_Florida_Shelf_Daily_ROMS_Nowcast_Forecast_Model_Data_best.ncd'},\n",
       " {'scheme': 'None',\n",
       "  'url': 'http://crow.marine.usf.edu:8080/thredds/wms/WFS_ROMS_NF_model/USF_Ocean_Circulation_Group_West_Florida_Shelf_Daily_ROMS_Nowcast_Forecast_Model_Data_best.ncd?service=WMS&version=1.3.0&request=GetCapabilities'}]"
      ]
     },
     "execution_count": 7,
     "metadata": {},
     "output_type": "execute_result"
    }
   ],
   "source": [
    "import random\n",
    "\n",
    "choice = random.choice(list(csw.records.keys()))\n",
    "\n",
    "print(csw.records[choice].title)\n",
    "\n",
    "csw.records[choice].references"
   ]
  },
  {
   "cell_type": "markdown",
   "metadata": {},
   "source": [
    "Lets see what the full XML record looks like"
   ]
  },
  {
   "cell_type": "code",
   "execution_count": 8,
   "metadata": {
    "collapsed": false,
    "scrolled": false
   },
   "outputs": [
    {
     "name": "stdout",
     "output_type": "stream",
     "text": [
      "<?xml version=\"1.0\" ?>\n",
      "<csw:SummaryRecord xmlns:apiso=\"http://www.opengis.net/cat/csw/apiso/1.0\" xmlns:atom=\"http://www.w3.org/2005/Atom\" xmlns:csw=\"http://www.opengis.net/cat/csw/2.0.2\" xmlns:dc=\"http://purl.org/dc/elements/1.1/\" xmlns:dct=\"http://purl.org/dc/terms/\" xmlns:dif=\"http://gcmd.gsfc.nasa.gov/Aboutus/xml/dif/\" xmlns:fgdc=\"http://www.opengis.net/cat/csw/csdgm\" xmlns:gco=\"http://www.isotc211.org/2005/gco\" xmlns:gmd=\"http://www.isotc211.org/2005/gmd\" xmlns:gml=\"http://www.opengis.net/gml\" xmlns:inspire_common=\"http://inspire.ec.europa.eu/schemas/common/1.0\" xmlns:inspire_ds=\"http://inspire.ec.europa.eu/schemas/inspire_ds/1.0\" xmlns:ogc=\"http://www.opengis.net/ogc\" xmlns:os=\"http://a9.com/-/spec/opensearch/1.1/\" xmlns:ows=\"http://www.opengis.net/ows\" xmlns:rdf=\"http://www.w3.org/1999/02/22-rdf-syntax-ns#\" xmlns:sitemap=\"http://www.sitemaps.org/schemas/sitemap/0.9\" xmlns:soapenv=\"http://www.w3.org/2003/05/soap-envelope\" xmlns:srv=\"http://www.isotc211.org/2005/srv\" xmlns:xlink=\"http://www.w3.org/1999/xlink\" xmlns:xs=\"http://www.w3.org/2001/XMLSchema\" xmlns:xsi=\"http://www.w3.org/2001/XMLSchema-instance\">\n",
      "\t<dc:identifier>WFS_ROMS_NF_model/USF_Ocean_Circulation_Group_West_Florida_Shelf_Daily_ROMS_Nowcast_Forecast_Model_Data_best.ncd</dc:identifier>\n",
      "\t<dc:title>ROMS/TOMS 3.0 - New Floria Shelf Application</dc:title>\n",
      "\t<dc:type>dataset</dc:type>\n",
      "\t<dc:subject>West Florida Shelf Nowcast/Forecast System</dc:subject>\n",
      "\t<dc:subject>College of Marine Science</dc:subject>\n",
      "\t<dc:subject> University of South Florida</dc:subject>\n",
      "\t<dc:subject>sea_floor_depth</dc:subject>\n",
      "\t<dc:subject>sea_surface_height</dc:subject>\n",
      "\t<dc:subject>northward_sea_water_vertically_integrated_velocity_assuming_no_tide</dc:subject>\n",
      "\t<dc:subject>eastward_sea_water_velocity_assuming_no_tide</dc:subject>\n",
      "\t<dc:subject>northward_sea_water_velocity_assuming_no_tide</dc:subject>\n",
      "\t<dc:subject>upward_sea_water_velocity_assuming_no_tide</dc:subject>\n",
      "\t<dc:subject>sea_water_potential_temperature</dc:subject>\n",
      "\t<dc:subject>sea_water_salinity</dc:subject>\n",
      "\t<dc:subject>forecast_period</dc:subject>\n",
      "\t<dc:subject>ocean_s_coordinate_g1</dc:subject>\n",
      "\t<dc:subject>ocean_s_coordinate_g1</dc:subject>\n",
      "\t<dc:subject>longitude</dc:subject>\n",
      "\t<dc:subject>latitude</dc:subject>\n",
      "\t<dc:subject>longitude</dc:subject>\n",
      "\t<dc:subject>latitude</dc:subject>\n",
      "\t<dc:subject>longitude</dc:subject>\n",
      "\t<dc:subject>latitude</dc:subject>\n",
      "\t<dc:subject>longitude</dc:subject>\n",
      "\t<dc:subject>latitude</dc:subject>\n",
      "\t<dc:subject>time</dc:subject>\n",
      "\t<dc:subject>forecast_reference_time</dc:subject>\n",
      "\t<dct:references scheme=\"WWW:LINK\">http://crow.marine.usf.edu:8080/thredds/dodsC/WFS_ROMS_NF_model/USF_Ocean_Circulation_Group_West_Florida_Shelf_Daily_ROMS_Nowcast_Forecast_Model_Data_best.ncd.html</dct:references>\n",
      "\t<dct:references scheme=\"None\">http://www.ncdc.noaa.gov/oa/wct/wct-jnlp-beta.php?singlefile=http://crow.marine.usf.edu:8080/thredds/dodsC/WFS_ROMS_NF_model/USF_Ocean_Circulation_Group_West_Florida_Shelf_Daily_ROMS_Nowcast_Forecast_Model_Data_best.ncd</dct:references>\n",
      "\t<dct:references scheme=\"None\">http://crow.marine.usf.edu:8080/thredds/dodsC/WFS_ROMS_NF_model/USF_Ocean_Circulation_Group_West_Florida_Shelf_Daily_ROMS_Nowcast_Forecast_Model_Data_best.ncd</dct:references>\n",
      "\t<dct:references scheme=\"None\">http://crow.marine.usf.edu:8080/thredds/wms/WFS_ROMS_NF_model/USF_Ocean_Circulation_Group_West_Florida_Shelf_Daily_ROMS_Nowcast_Forecast_Model_Data_best.ncd?service=WMS&amp;version=1.3.0&amp;request=GetCapabilities</dct:references>\n",
      "\t<dc:relation/>\n",
      "\t<dct:modified>2014-06-25</dct:modified>\n",
      "\t<ows:BoundingBox crs=\"urn:x-ogc:def:crs:EPSG:6.11:4326\" dimensions=\"2\">\n",
      "\t\t<ows:LowerCorner>24.31 -90.47</ows:LowerCorner>\n",
      "\t\t<ows:UpperCorner>30.78 -80.45</ows:UpperCorner>\n",
      "\t</ows:BoundingBox>\n",
      "</csw:SummaryRecord>\n",
      "\n"
     ]
    }
   ],
   "source": [
    "import xml.dom.minidom\n",
    "\n",
    "xml = xml.dom.minidom.parseString(csw.records[choice].xml)\n",
    "\n",
    "print(xml.toprettyxml())"
   ]
  },
  {
   "cell_type": "markdown",
   "metadata": {},
   "source": [
    "Yuk!  That's why we use OWSlib!  :-)\n",
    "\n",
    "Now add contraint to return only records that have either the OPeNDAP or SOS service.  \n",
    "\n",
    "Let's first see what services are advertised:"
   ]
  },
  {
   "cell_type": "code",
   "execution_count": 9,
   "metadata": {
    "collapsed": false
   },
   "outputs": [
    {
     "name": "stdout",
     "output_type": "stream",
     "text": [
      "['THREDDS OPeNDAP,Open Geospatial Consortium Web Map Service (WMS),THREDDS NetCDF Subset Service', 'ERDDAP OPeNDAP', 'Open Geospatial Consortium Web Map Service (WMS),Open Geospatial Consortium Web Feature Service (WFS)', 'THREDDS OPeNDAP,Open Geospatial Consortium Web Coverage Service (WCS),Open Geospatial Consortium Web Map Service (WMS),THREDDS NetCDF Subset Service', 'THREDDS OPeNDAP,Open Geospatial Consortium Sensor Observation Service (SOS),THREDDS HTTP Service', 'Open Geospatial Consortium Web Feature Service (WFS),Open Geospatial Consortium Web Map Service (WMS)', 'THREDDS OPeNDAP,Open Geospatial Consortium Web Coverage Service (WCS),THREDDS NetCDF Subset Service', 'OPeNDAP:OPeNDAP,OGC:WCS,OGC:WMS,UNIDATA:NCSS', 'OPeNDAP:OPeNDAP,file', 'OPeNDAP:OPeNDAP,OGC:WMS,UNIDATA:NCSS', 'THREDDS OPeNDAP,Open Geospatial Consortium Sensor Observation Service (SOS)', 'ERDDAP tabledap,OPeNDAP,ERDDAP Subset', 'OPeNDAP:OPeNDAP,OGC:SOS', 'THREDDS OPeNDAP,Open Geospatial Consortium Web Coverage Service (WCS),Open Geospatial Consortium Web Map Service (WMS),Open Geospatial Consortium Sensor Observation Service (SOS),THREDDS HTTP Service', 'OPeNDAP:OPeNDAP,OGC:SOS,file', 'THREDDS OPeNDAP,THREDDS NetCDF Subset Service', 'OPeNDAP:OPeNDAP', 'THREDDS OPeNDAP,Open Geospatial Consortium Web Map Service (WMS)', 'OPeNDAP:OPeNDAP,OGC:WMS,UNIDATA:NCSS,file', 'OPeNDAP:OPeNDAP,OGC:WCS,OGC:WMS', 'OPeNDAP:OPeNDAP,OGC:WMS,file', 'THREDDS OPeNDAP,Open Geospatial Consortium Web Map Service (WMS),THREDDS HTTP Service', 'THREDDS OPeNDAP,THREDDS HTTP Service', 'OGC:SOS', 'THREDDS OPeNDAP', 'OPeNDAP:OPeNDAP,OGC:WMS', 'Open Geospatial Consortium Web Map Service (WMS)']\n"
     ]
    }
   ],
   "source": [
    "try:\n",
    "    csw.get_operation_by_name('GetDomain')\n",
    "    csw.getdomain('apiso:ServiceType', 'property')\n",
    "    print(csw.results['values'])\n",
    "except:\n",
    "    print('GetDomain not supported')"
   ]
  },
  {
   "cell_type": "code",
   "execution_count": 10,
   "metadata": {
    "collapsed": false
   },
   "outputs": [],
   "source": [
    "services = ['OPeNDAP', 'SOS']\n",
    "\n",
    "service_filt = fes.Or(\n",
    "    [fes.PropertyIsLike(propertyname='apiso:ServiceType',\n",
    "                        literal=('*%s*' % val),\n",
    "                        escapeChar='\\\\',\n",
    "                        wildCard='*',\n",
    "                        singleChar='?')\n",
    "     for val in services])\n",
    "\n",
    "filter_list = [fes.And([filter1, filter2, service_filt])]"
   ]
  },
  {
   "cell_type": "code",
   "execution_count": 11,
   "metadata": {
    "collapsed": false
   },
   "outputs": [
    {
     "name": "stdout",
     "output_type": "stream",
     "text": [
      "getting records 0 to 10\n",
      "AOOS/Models/Prince William Sound ROMS/Prince William Sound (PWS) Regional Ocean Modeling System (ROMS) L0 Forecast\n",
      "AOOS/Models/Prince William Sound ROMS/Prince William Sound (PWS) Regional Ocean Modeling System (ROMS) L1 Forecast\n",
      "AOOS/Models/Prince William Sound ROMS/Prince William Sound (PWS) Regional Ocean Modeling System (ROMS) L2 Forecast\n",
      "AOOS/Models/Prince William Sound ROMS/Regional Ocean Modeling System (ROMS) Nowcast\n",
      "CBOFS - Chesapeake Bay Operational Forecast System - NOAA CO-OPS - POM\n",
      "CeNCOOS/Models/ROMS/California ROMS/California Coastal Regional Ocean Modeling System (ROMS) Forecast\n",
      "CeNCOOS/Models/ROMS/California ROMS/California Coastal Regional Ocean Modeling System (ROMS) Nowcast\n",
      "CeNCOOS/Models/ROMS/Monterey Bay ROMS (Oct 2010 to Jan 2013)/Monterey Bay (MB) Regional Ocean Modeling System (ROMS) Forecast\n",
      "DBOFS - Delaware Bay Operational Forecast System - NOAA CO-OPS - POM\n",
      "Regional Ocean Modeling System (ROMS): CNMI\n",
      "\n",
      "getting records 10 to 20\n",
      "Regional Ocean Modeling System (ROMS): CNMI\n",
      "Regional Ocean Modeling System (ROMS): CNMI: Data Assimilating\n",
      "Regional Ocean Modeling System (ROMS): Guam\n",
      "Regional Ocean Modeling System (ROMS): Main Hawaiian Islands\n",
      "Regional Ocean Modeling System (ROMS): Main Hawaiian Islands: Data Assimilating\n",
      "Regional Ocean Modeling System (ROMS): Oahu\n",
      "Regional Ocean Modeling System (ROMS): Oahu: Data Assimilating\n",
      "Regional Ocean Modeling System (ROMS): Oahu South Shore\n",
      "Regional Ocean Modeling System (ROMS): Oregon Coast\n",
      "Regional Ocean Modeling System (ROMS): Samoa\n",
      "\n",
      "getting records 20 to 30\n",
      "Regional Ocean Modeling System (ROMS): Samoa: Data Assimilating\n",
      "Regional Ocean Modeling System (ROMS): Waikiki\n",
      "ROMS ESPRESSO Real-Time Operational IS4DVAR Forecast System Version 2 (NEW) 2013-present FMRC Averages\n",
      "ROMS ESPRESSO Real-Time Operational IS4DVAR Forecast System Version 2 (NEW) 2013-present FMRC History\n",
      "ROMS/TOMS 3.0 - New Floria Shelf Application\n",
      "Shelf Hypoxia : DAL : ROMS : 2004-2009 climatology obc with oxygen inst rem 20layers\n",
      "TBOFS - Tampa Bay Operational Forecast System - NOAA CO-OPS - POM\n",
      "UCSC California Current System ROMS Nowcast 10km\n",
      "\n"
     ]
    }
   ],
   "source": [
    "startposition = 0\n",
    "\n",
    "while True:\n",
    "    print('getting records %d to %d' % (startposition, startposition+pagesize))\n",
    "    csw.getrecords2(constraints=filter_list,\n",
    "                    startposition=startposition,\n",
    "                    maxrecords=pagesize,\n",
    "                    sortby=sortby)\n",
    "    for rec, item in csw.records.items():\n",
    "        print(item.title)\n",
    "    print()\n",
    "    if csw.results['nextrecord'] == 0:\n",
    "        break\n",
    "    startposition += pagesize\n",
    "    if startposition >= maxrecords:\n",
    "        break"
   ]
  },
  {
   "cell_type": "markdown",
   "metadata": {},
   "source": [
    "Let's try adding a search for a non-existant service, which should result in no records back:"
   ]
  },
  {
   "cell_type": "code",
   "execution_count": 12,
   "metadata": {
    "collapsed": false
   },
   "outputs": [
    {
     "name": "stdout",
     "output_type": "stream",
     "text": [
      "Found 0 records.\n",
      "\n"
     ]
    }
   ],
   "source": [
    "val = 'not_a_real_service'\n",
    "\n",
    "filter3 = fes.PropertyIsLike(\n",
    "    propertyname='apiso:ServiceType',\n",
    "    literal=('*%s*' % val),\n",
    "    escapeChar='\\\\',\n",
    "    wildCard='*',\n",
    "    singleChar='?'\n",
    ")\n",
    "\n",
    "filter_list = [fes.And([filter1, filter2, filter3])]\n",
    "\n",
    "csw.getrecords2(constraints=filter_list, maxrecords=100, esn='full')\n",
    "\n",
    "print('Found {} records.\\n'.format(len(csw.records.keys())))\n",
    "for key, value in list(csw.records.items()):\n",
    "    print('[{}]: {}'.format(value.title, key))"
   ]
  },
  {
   "cell_type": "markdown",
   "metadata": {
    "collapsed": true
   },
   "source": [
    "Good!"
   ]
  },
  {
   "cell_type": "markdown",
   "metadata": {},
   "source": [
    "Now add bounding box constraint. To specify lon,lat order for bbox (which we want to do so that we can use the same bbox with either geoportal server or pycsw requests), we need to request the bounding box specifying the CRS84 coordinate reference system.   The CRS84 option is available in `pycsw 1.1.10`+. The ability to specify the `crs` in the bounding box request is available in `owslib 0.8.12`+.  For more info on the bounding box problem and how it was solved, see this [pycsw issue](https://github.com/geopython/pycsw/issues/287), this [geoportal server issue](https://github.com/Esri/geoportal-server/issues/124), and this [owslib issue](https://github.com/geopython/OWSLib/issues/201)"
   ]
  },
  {
   "cell_type": "code",
   "execution_count": 13,
   "metadata": {
    "collapsed": false
   },
   "outputs": [
    {
     "name": "stdout",
     "output_type": "stream",
     "text": [
      "getting records 0 to 10\n",
      "Regional Ocean Modeling System (ROMS): Main Hawaiian Islands\n",
      "Regional Ocean Modeling System (ROMS): Main Hawaiian Islands: Data Assimilating\n",
      "Regional Ocean Modeling System (ROMS): Oahu\n",
      "Regional Ocean Modeling System (ROMS): Oahu: Data Assimilating\n",
      "Regional Ocean Modeling System (ROMS): Oahu South Shore\n",
      "Regional Ocean Modeling System (ROMS): Waikiki\n",
      "\n"
     ]
    }
   ],
   "source": [
    "# [lon_min, lat_min, lon_max, lat_max]\n",
    "bbox = [-158.4, 21.24, -157.5, 21.77]\n",
    "bbox_filter = fes.BBox(bbox, crs='urn:ogc:def:crs:OGC:1.3:CRS84')\n",
    "\n",
    "filter_list = [fes.And([filter1, filter2, service_filt, bbox_filter])]\n",
    "\n",
    "startposition = 0\n",
    "\n",
    "while True:\n",
    "    print('getting records %d to %d' % (startposition, startposition+pagesize))\n",
    "    csw.getrecords2(constraints=filter_list,\n",
    "                    startposition=startposition, maxrecords=pagesize, sortby=sortby)\n",
    "    for rec, item in csw.records.items():\n",
    "        print(item.title)\n",
    "    print()\n",
    "    if csw.results['nextrecord'] == 0:\n",
    "        break\n",
    "    startposition += pagesize\n",
    "    if startposition >= maxrecords:\n",
    "        break"
   ]
  },
  {
   "cell_type": "markdown",
   "metadata": {},
   "source": [
    "Now add time contraints.  Here we first define a function that will return records if any data in the records overlaps the specified time period"
   ]
  },
  {
   "cell_type": "code",
   "execution_count": 14,
   "metadata": {
    "collapsed": true
   },
   "outputs": [],
   "source": [
    "def date_range(start, stop, constraint='overlaps'):\n",
    "    \"\"\"\n",
    "    Take start and stop datetime objects and return a `fes.PropertyIs<>` filter.\n",
    "\n",
    "    \"\"\"\n",
    "    start = start.strftime('%Y-%m-%d %H:%M')\n",
    "    stop = stop.strftime('%Y-%m-%d %H:%M')\n",
    "\n",
    "    if constraint == 'overlaps':\n",
    "        begin = fes.PropertyIsLessThanOrEqualTo(\n",
    "            propertyname='apiso:TempExtent_begin', literal=stop\n",
    "        )\n",
    "        end = fes.PropertyIsGreaterThanOrEqualTo(\n",
    "            propertyname='apiso:TempExtent_end', literal=start\n",
    "        )\n",
    "    elif constraint == 'within':\n",
    "        begin = fes.PropertyIsGreaterThanOrEqualTo(\n",
    "            propertyname='apiso:TempExtent_begin', literal=start\n",
    "        )\n",
    "        end = fes.PropertyIsLessThanOrEqualTo(\n",
    "            propertyname='apiso:TempExtent_end', literal=stop\n",
    "        )\n",
    "    return begin, end"
   ]
  },
  {
   "cell_type": "code",
   "execution_count": 15,
   "metadata": {
    "collapsed": false
   },
   "outputs": [
    {
     "name": "stdout",
     "output_type": "stream",
     "text": [
      "2016-10-08 17:38:35.456314 to 2016-10-14 17:38:35.456314\n"
     ]
    }
   ],
   "source": [
    "from datetime import datetime, timedelta\n",
    "\n",
    "now = datetime.utcnow()\n",
    "start = now - timedelta(days=3)\n",
    "stop = now + timedelta(days=3)\n",
    "\n",
    "print('{} to {}'.format(start, stop))\n",
    "\n",
    "start, stop = date_range(start, stop)"
   ]
  },
  {
   "cell_type": "code",
   "execution_count": 16,
   "metadata": {
    "collapsed": false,
    "scrolled": true
   },
   "outputs": [
    {
     "name": "stdout",
     "output_type": "stream",
     "text": [
      "getting records 0 to 10\n",
      "\n"
     ]
    }
   ],
   "source": [
    "filter_list = [fes.And([filter1, filter2, service_filt, bbox_filter, start, stop])]\n",
    "\n",
    "startposition = 0\n",
    "while True:\n",
    "    print('getting records %d to %d' % (startposition, startposition+pagesize))\n",
    "    csw.getrecords2(constraints=filter_list,\n",
    "                    startposition=startposition,\n",
    "                    maxrecords=pagesize,\n",
    "                    sortby=sortby)\n",
    "    for rec, item in csw.records.items():\n",
    "        print(item.title)\n",
    "    print()\n",
    "    if csw.results['nextrecord'] == 0:\n",
    "        break\n",
    "    startposition += pagesize\n",
    "    if startposition >= maxrecords:\n",
    "        break"
   ]
  },
  {
   "cell_type": "markdown",
   "metadata": {},
   "source": [
    "Now add a NOT filter to eliminate some entries"
   ]
  },
  {
   "cell_type": "code",
   "execution_count": 17,
   "metadata": {
    "collapsed": false
   },
   "outputs": [],
   "source": [
    "kw = dict(\n",
    "    wildCard='*',\n",
    "    escapeChar='\\\\',\n",
    "    singleChar='?',\n",
    "    propertyname='apiso:AnyText')\n",
    "\n",
    "not_filt = fes.Not([fes.PropertyIsLike(literal='*Waikiki*', **kw)])"
   ]
  },
  {
   "cell_type": "code",
   "execution_count": 18,
   "metadata": {
    "collapsed": false
   },
   "outputs": [
    {
     "name": "stdout",
     "output_type": "stream",
     "text": [
      "getting records 0 to 10\n",
      "\n"
     ]
    }
   ],
   "source": [
    "filter_list = [fes.And([filter1, filter2, service_filt, bbox_filter, start, stop, not_filt])]\n",
    "\n",
    "startposition = 0\n",
    "while True:\n",
    "    print('getting records %d to %d' % (startposition, startposition+pagesize))\n",
    "    csw.getrecords2(constraints=filter_list,\n",
    "                    startposition=startposition, maxrecords=pagesize, sortby=sortby)\n",
    "    for rec, item in csw.records.items():\n",
    "        print(item.title)\n",
    "    print()\n",
    "    if csw.results['nextrecord'] == 0:\n",
    "        break\n",
    "    startposition += pagesize\n",
    "    if startposition >= maxrecords:\n",
    "        break"
   ]
  },
  {
   "cell_type": "markdown",
   "metadata": {},
   "source": [
    "Hopefully this notebook demonstrated some of the power (and complexity) of CSW!  ;-)"
   ]
  }
 ],
 "metadata": {
  "kernelspec": {
   "display_name": "Python [default]",
   "language": "python",
   "name": "python3"
  },
  "language_info": {
   "codemirror_mode": {
    "name": "ipython",
    "version": 3
   },
   "file_extension": ".py",
   "mimetype": "text/x-python",
   "name": "python",
   "nbconvert_exporter": "python",
   "pygments_lexer": "ipython3",
   "version": "3.4.5"
  }
 },
 "nbformat": 4,
 "nbformat_minor": 0
}
