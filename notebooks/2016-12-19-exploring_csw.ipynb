{
 "cells": [
  {
   "cell_type": "markdown",
   "metadata": {
    "collapsed": false
   },
   "source": [
    "# How to search the IOOS CSW catalog with Python tools\n",
    "\n",
    "\n",
    "This notebook demonstrates a how to query a [Catalog Service for the Web (CSW)](https://en.wikipedia.org/wiki/Catalog_Service_for_the_Web), like the IOOS Catalog, and to parse its results into endpoints that can be used to access the data."
   ]
  },
  {
   "cell_type": "code",
   "execution_count": 1,
   "metadata": {
    "collapsed": true
   },
   "outputs": [],
   "source": [
    "import os\n",
    "import sys\n",
    "\n",
    "ioos_tools = os.path.join(os.path.pardir)\n",
    "sys.path.append(ioos_tools)"
   ]
  },
  {
   "cell_type": "markdown",
   "metadata": {},
   "source": [
    "Let's start by creating the search filters.\n",
    "The filter used here constraints the search on a certain geographical region (bounding box), a time span (last week), and some [CF](http://cfconventions.org/Data/cf-standard-names/37/build/cf-standard-name-table.html) variable standard names that represent sea surface temperature."
   ]
  },
  {
   "cell_type": "code",
   "execution_count": 2,
   "metadata": {
    "collapsed": false
   },
   "outputs": [],
   "source": [
    "from datetime import datetime, timedelta\n",
    "\n",
    "# Region: Northwest coast.\n",
    "bbox = [-127, 43, -123.75, 48]\n",
    "min_lon, max_lon = -127, -123.75\n",
    "min_lat, max_lat = 43, 48\n",
    "\n",
    "bbox = [min_lon, min_lat, max_lon, max_lat]\n",
    "crs = 'urn:ogc:def:crs:OGC:1.3:CRS84'\n",
    "\n",
    "# Temporal range: Last week.\n",
    "now = datetime.utcnow()\n",
    "start, stop = now - timedelta(days=(7)), now\n",
    "\n",
    "# Sea surface temperature CF names.\n",
    "cf_names = ['sea_water_temperature',\n",
    "            'sea_surface_temperature',\n",
    "            'sea_water_potential_temperature',\n",
    "            'equivalent_potential_temperature',\n",
    "            'sea_water_conservative_temperature',\n",
    "            'pseudo_equivalent_potential_temperature']"
   ]
  },
  {
   "cell_type": "markdown",
   "metadata": {},
   "source": [
    "With these 3 elements it is possible to assemble a [OGC Filter Encoding (FE)](http://www.opengeospatial.org/standards/filter) using the `owslib.fes`\\* module.\n",
    "\n",
    "\\* OWSLib is a Python package for client programming with Open Geospatial Consortium (OGC) web service (hence OWS) interface standards, and their related content models."
   ]
  },
  {
   "cell_type": "code",
   "execution_count": 3,
   "metadata": {
    "collapsed": false
   },
   "outputs": [],
   "source": [
    "from owslib import fes\n",
    "from ioos_tools.ioos import fes_date_filter\n",
    "\n",
    "kw = dict(wildCard='*', escapeChar='\\\\',\n",
    "          singleChar='?', propertyname='apiso:AnyText')\n",
    "\n",
    "or_filt = fes.Or([fes.PropertyIsLike(literal=('*%s*' % val), **kw)\n",
    "                  for val in cf_names])\n",
    "\n",
    "begin, end = fes_date_filter(start, stop)\n",
    "bbox_crs = fes.BBox(bbox, crs=crs)\n",
    "\n",
    "filter_list = [\n",
    "    fes.And(\n",
    "        [\n",
    "            bbox_crs,  # bounding box\n",
    "            begin, end,  # start and end date\n",
    "            or_filt  # or conditions (CF variable names)\n",
    "        ]\n",
    "    )\n",
    "]"
   ]
  },
  {
   "cell_type": "code",
   "execution_count": 4,
   "metadata": {
    "collapsed": true
   },
   "outputs": [],
   "source": [
    "from owslib.csw import CatalogueServiceWeb\n",
    "\n",
    "\n",
    "endpoint = 'https://data.ioos.us/csw'\n",
    "\n",
    "csw = CatalogueServiceWeb(endpoint, timeout=60)"
   ]
  },
  {
   "cell_type": "markdown",
   "metadata": {},
   "source": [
    "The `csw` object created from `CatalogueServiceWeb` did not fetched anything yet.\n",
    "It is the method `getrecords2` that uses the filter for the search. However, even though there is a `maxrecords` option, the search is always limited by the server side and there is the need to iterate over multiple calls of `getrecords2` to actually retrieve all records.\n",
    "The `get_csw_records` does exactly that."
   ]
  },
  {
   "cell_type": "code",
   "execution_count": 5,
   "metadata": {
    "collapsed": true
   },
   "outputs": [],
   "source": [
    "def get_csw_records(csw, filter_list, pagesize=10, maxrecords=1000):\n",
    "    \"\"\"Iterate `maxrecords`/`pagesize` times until the requested value in\n",
    "    `maxrecords` is reached.\n",
    "    \"\"\"\n",
    "    from owslib.fes import SortBy, SortProperty\n",
    "    # Iterate over sorted results.\n",
    "    sortby = SortBy([SortProperty('dc:title', 'ASC')])\n",
    "    csw_records = {}\n",
    "    startposition = 0\n",
    "    nextrecord = getattr(csw, 'results', 1)\n",
    "    while nextrecord != 0:\n",
    "        csw.getrecords2(constraints=filter_list, startposition=startposition,\n",
    "                        maxrecords=pagesize, sortby=sortby)\n",
    "        csw_records.update(csw.records)\n",
    "        if csw.results['nextrecord'] == 0:\n",
    "            break\n",
    "        startposition += pagesize + 1  # Last one is included.\n",
    "        if startposition >= maxrecords:\n",
    "            break\n",
    "    csw.records.update(csw_records)"
   ]
  },
  {
   "cell_type": "code",
   "execution_count": 6,
   "metadata": {
    "collapsed": false,
    "scrolled": true
   },
   "outputs": [
    {
     "name": "stdout",
     "output_type": "stream",
     "text": [
      "Found 39 records.\n",
      "\n",
      "[SREF CONUS 40km Ensemble Derived Products (Bias Corrected)/Best SREF CONUS 40km Ensemble Derived Products (Bias Corrected) Time Series]\n",
      "edu.ucar.unidata:grib/NCEP/SREF/CONUS_40km/ensprod_biasc/Best\n",
      "\n",
      "[UCSC California Current System ROMS Nowcast 10km]\n",
      "UCSC\n",
      "\n",
      "[urn:ioos:station:NOAA.NOS.CO-OPS:9432780 station, Charleston, OR]\n",
      "opendap.co-ops.nos.noaa.gov-urn_ioos_station_NOAA.NOS.CO-OPS_9432780\n",
      "\n",
      "[urn:ioos:station:NOAA.NOS.CO-OPS:9435380 station, South Beach, OR]\n",
      "opendap.co-ops.nos.noaa.gov-urn_ioos_station_NOAA.NOS.CO-OPS_9435380\n",
      "\n",
      "[urn:ioos:station:NOAA.NOS.CO-OPS:9437540 station, Garibaldi, OR]\n",
      "opendap.co-ops.nos.noaa.gov-urn_ioos_station_NOAA.NOS.CO-OPS_9437540\n",
      "\n",
      "[urn:ioos:station:NOAA.NOS.CO-OPS:9439040 station, Astoria, OR]\n",
      "opendap.co-ops.nos.noaa.gov-urn_ioos_station_NOAA.NOS.CO-OPS_9439040\n",
      "\n",
      "[urn:ioos:station:NOAA.NOS.CO-OPS:9440910 station, Toke Point, WA]\n",
      "opendap.co-ops.nos.noaa.gov-urn_ioos_station_NOAA.NOS.CO-OPS_9440910\n",
      "\n",
      "[urn:ioos:station:NOAA.NOS.CO-OPS:9441102 station, Westport, WA]\n",
      "opendap.co-ops.nos.noaa.gov-urn_ioos_station_NOAA.NOS.CO-OPS_9441102\n",
      "\n",
      "[urn:ioos:station:NOAA.NOS.CO-OPS:9442396 station, La Push, WA]\n",
      "opendap.co-ops.nos.noaa.gov-urn_ioos_station_NOAA.NOS.CO-OPS_9442396\n",
      "\n",
      "[FNMOC COAMPS Northeast Pacific/Best FNMOC COAMPS Northeast Pacific Time Series]\n",
      "edu.ucar.unidata:grib/FNMOC/COAMPS/Northeast_Pacific/Best\n",
      "\n",
      "[DGEX CONUS 12km/Best DGEX CONUS 12km Time Series]\n",
      "edu.ucar.unidata:grib/NCEP/DGEX/CONUS_12km/Best\n",
      "\n",
      "[Rapid Refresh CONUS 40km/Best Rapid Refresh CONUS 40km Time Series]\n",
      "edu.ucar.unidata:grib/NCEP/RAP/CONUS_40km/Best\n",
      "\n",
      "[NAM CONUS 12km from NOAAPORT/Best NAM CONUS 12km from NOAAPORT Time Series]\n",
      "edu.ucar.unidata:grib/NCEP/NAM/CONUS_12km/Best\n",
      "\n",
      "[Directional wave and sea surface temperature measurements collected in situ by Datawell Mark 3 directional buoy located near SCRIPPS NEARSHORE, CA from 2015/01/07 23:00:00 to 2016/12/19 00:01:25.]\n",
      "edu.ucsd.cdip:CDIP_201p1_20150107-20161219\n",
      "\n",
      "[Rapid Refresh CONUS 20km/Best Rapid Refresh CONUS 20km Time Series]\n",
      "edu.ucar.unidata:grib/NCEP/RAP/CONUS_20km/Best\n",
      "\n",
      "[Directional wave and sea surface temperature measurements collected in situ by Datawell Mark 3 directional buoy located near ASTORIA CANYON, OR from 2016/03/30 17:00:00 to 2016/12/19 00:02:25.]\n",
      "edu.ucsd.cdip:CDIP_179p1_20160330-20161219\n",
      "\n",
      "[NAM CONUS 80km/Best NAM CONUS 80km Time Series]\n",
      "edu.ucar.unidata:grib/NCEP/NAM/CONUS_80km/Best\n",
      "\n",
      "[Rapid Refresh CONUS 13km/Best Rapid Refresh CONUS 13km Time Series]\n",
      "edu.ucar.unidata:grib/NCEP/RAP/CONUS_13km/Best\n",
      "\n",
      "[Directional wave and sea surface temperature measurements collected in situ by Datawell Mark 3 directional buoy located near OCEAN STATION PAPA from 2015/01/01 01:00:00 to 2016/12/19 00:00:43.]\n",
      "edu.ucsd.cdip:CDIP_166p1_20150101-20161219\n",
      "\n",
      "[SREF Alaska 45km Ensemble Derived Products/Best SREF Alaska 45km Ensemble Derived Products Time Series]\n",
      "edu.ucar.unidata:grib/NCEP/SREF/Alaska_45km/ensprod/Best\n",
      "\n",
      "[Directional wave and sea surface temperature measurements collected in situ by Datawell Mark 3 directional buoy located near GRAYS HARBOR, WA from 2016/03/16 22:00:00 to 2016/12/18 23:53:56.]\n",
      "edu.ucsd.cdip:CDIP_036p1_20160316-20161218\n",
      "\n",
      "[NAM Alaska 45km from CONDUIT/Best NAM Alaska 45km from CONDUIT Time Series]\n",
      "edu.ucar.unidata:grib/NCEP/NAM/Alaska_45km/conduit/Best\n",
      "\n",
      "[NAM CONUS 40km/Best NAM CONUS 40km Time Series]\n",
      "edu.ucar.unidata:grib/NCEP/NAM/CONUS_40km/conduit/Best\n",
      "\n",
      "[GFS CONUS 80km/Best GFS CONUS 80km Time Series]\n",
      "edu.ucar.unidata:grib/NCEP/GFS/CONUS_80km/Best\n",
      "\n",
      "[NAM Alaska 22km/Best NAM Alaska 22km Time Series]\n",
      "edu.ucar.unidata:grib/NCEP/NAM/Alaska_22km/Best\n",
      "\n",
      "[NCEP HRRR CONUS 2.5km/Best NCEP HRRR CONUS 2.5km Time Series]\n",
      "edu.ucar.unidata:grib/NCEP/HRRR/CONUS_2p5km/Best\n",
      "\n",
      "[Directional wave and sea surface temperature measurements collected in situ by Datawell Mark 3 directional buoy located near CLATSOP SPIT, OR from 2016/10/12 17:00:00 to 2016/12/19 00:04:07.]\n",
      "edu.ucsd.cdip:CDIP_162p1_20161012-20161219\n",
      "\n",
      "[COAMPS Ground and Sea Surface Temperature, 4km]\n",
      "COAMPS_4KM_GRND_SEA_TEMP\n",
      "\n",
      "[Directional wave and sea surface temperature measurements collected in situ by Datawell Mark 3 directional buoy located near UMPQUA OFFSHORE, OR from 2016/12/02 21:00:00 to 2016/12/18 23:49:37.]\n",
      "edu.ucsd.cdip:CDIP_139p1_20161202-20161218\n",
      "\n",
      "[HYbrid Coordinate Ocean Model (HYCOM): Global]\n",
      "hycom_global\n",
      "\n",
      "[NAM Alaska 95km/Best NAM Alaska 95km Time Series]\n",
      "edu.ucar.unidata:grib/NCEP/NAM/Alaska_95km/Best\n",
      "\n",
      "[NAM Alaska 11km/Best NAM Alaska 11km Time Series]\n",
      "edu.ucar.unidata:grib/NCEP/NAM/Alaska_11km/Best\n",
      "\n",
      "[COAMPS Visibility Forecast, 4km]\n",
      "COAMPS_4KM_VISIB\n",
      "\n",
      "[NOAA/NCEP Global Forecast System (GFS) Atmospheric Model]\n",
      "ncep_global\n",
      "\n",
      "[FNMOC COAMPS Southern California/Best FNMOC COAMPS Southern California Time Series]\n",
      "edu.ucar.unidata:grib/FNMOC/COAMPS/Southern_California/Best\n",
      "\n",
      "[NAM Alaska 45km from NOAAPORT/Best NAM Alaska 45km from NOAAPORT Time Series]\n",
      "edu.ucar.unidata:grib/NCEP/NAM/Alaska_45km/noaaport/Best\n",
      "\n",
      "[G1SST, 1km blended SST]\n",
      "G1_SST_GLOBAL\n",
      "\n",
      "[GFS CONUS 20km/Best GFS CONUS 20km Time Series]\n",
      "edu.ucar.unidata:grib/NCEP/GFS/CONUS_20km/Best\n",
      "\n",
      "[NAM CONUS 20km/Best NAM CONUS 20km Time Series]\n",
      "edu.ucar.unidata:grib/NCEP/NAM/CONUS_20km/noaaport/Best\n",
      "\n"
     ]
    }
   ],
   "source": [
    "get_csw_records(csw, filter_list, pagesize=10, maxrecords=1000)\n",
    "\n",
    "records = '\\n'.join(csw.records.keys())\n",
    "print('Found {} records.\\n'.format(len(csw.records.keys())))\n",
    "for key, value in list(csw.records.items()):\n",
    "    print('[{}]\\n{}\\n'.format(value.title, key))"
   ]
  },
  {
   "cell_type": "markdown",
   "metadata": {},
   "source": [
    "That search returned a lot of records!\n",
    "What if the user is not interested in those model results nor global dataset?\n",
    "We can those be excluded  from the search with a `fes.Not` filter."
   ]
  },
  {
   "cell_type": "code",
   "execution_count": 7,
   "metadata": {
    "collapsed": false
   },
   "outputs": [
    {
     "name": "stdout",
     "output_type": "stream",
     "text": [
      "Found 12 records.\n",
      "\n",
      "[urn:ioos:station:NOAA.NOS.CO-OPS:9441102 station, Westport, WA]\n",
      "opendap.co-ops.nos.noaa.gov-urn_ioos_station_NOAA.NOS.CO-OPS_9441102\n",
      "\n",
      "[urn:ioos:station:NOAA.NOS.CO-OPS:9442396 station, La Push, WA]\n",
      "opendap.co-ops.nos.noaa.gov-urn_ioos_station_NOAA.NOS.CO-OPS_9442396\n",
      "\n",
      "[FNMOC COAMPS Northeast Pacific/Best FNMOC COAMPS Northeast Pacific Time Series]\n",
      "edu.ucar.unidata:grib/FNMOC/COAMPS/Northeast_Pacific/Best\n",
      "\n",
      "[COAMPS Ground and Sea Surface Temperature, 4km]\n",
      "COAMPS_4KM_GRND_SEA_TEMP\n",
      "\n",
      "[urn:ioos:station:NOAA.NOS.CO-OPS:9435380 station, South Beach, OR]\n",
      "opendap.co-ops.nos.noaa.gov-urn_ioos_station_NOAA.NOS.CO-OPS_9435380\n",
      "\n",
      "[urn:ioos:station:NOAA.NOS.CO-OPS:9439040 station, Astoria, OR]\n",
      "opendap.co-ops.nos.noaa.gov-urn_ioos_station_NOAA.NOS.CO-OPS_9439040\n",
      "\n",
      "[urn:ioos:station:NOAA.NOS.CO-OPS:9432780 station, Charleston, OR]\n",
      "opendap.co-ops.nos.noaa.gov-urn_ioos_station_NOAA.NOS.CO-OPS_9432780\n",
      "\n",
      "[urn:ioos:station:NOAA.NOS.CO-OPS:9437540 station, Garibaldi, OR]\n",
      "opendap.co-ops.nos.noaa.gov-urn_ioos_station_NOAA.NOS.CO-OPS_9437540\n",
      "\n",
      "[COAMPS Visibility Forecast, 4km]\n",
      "COAMPS_4KM_VISIB\n",
      "\n",
      "[urn:ioos:station:NOAA.NOS.CO-OPS:9440910 station, Toke Point, WA]\n",
      "opendap.co-ops.nos.noaa.gov-urn_ioos_station_NOAA.NOS.CO-OPS_9440910\n",
      "\n",
      "[FNMOC COAMPS Southern California/Best FNMOC COAMPS Southern California Time Series]\n",
      "edu.ucar.unidata:grib/FNMOC/COAMPS/Southern_California/Best\n",
      "\n",
      "[SREF Alaska 45km Ensemble Derived Products/Best SREF Alaska 45km Ensemble Derived Products Time Series]\n",
      "edu.ucar.unidata:grib/NCEP/SREF/Alaska_45km/ensprod/Best\n",
      "\n"
     ]
    }
   ],
   "source": [
    "kw = dict(\n",
    "    wildCard='*',\n",
    "    escapeChar='\\\\\\\\',\n",
    "    singleChar='?',\n",
    "    propertyname='apiso:AnyText')\n",
    "\n",
    "\n",
    "filter_list = [\n",
    "    fes.And(\n",
    "        [\n",
    "            bbox_crs,  # Bounding box\n",
    "            begin, end,  # start and end date\n",
    "            or_filt,  # or conditions (CF variable names).\n",
    "            fes.Not([fes.PropertyIsLike(literal='*NAM*', **kw)]),  # no NAM results\n",
    "            fes.Not([fes.PropertyIsLike(literal='*CONUS*', **kw)]),  # no NAM results\n",
    "            fes.Not([fes.PropertyIsLike(literal='*GLOBAL*', **kw)]),  # no NAM results\n",
    "            fes.Not([fes.PropertyIsLike(literal='*ROMS*', **kw)]),  # no NAM results\n",
    "        ]\n",
    "    )\n",
    "]\n",
    "\n",
    "get_csw_records(csw, filter_list, pagesize=10, maxrecords=1000)\n",
    "\n",
    "records = '\\n'.join(csw.records.keys())\n",
    "print('Found {} records.\\n'.format(len(csw.records.keys())))\n",
    "for key, value in list(csw.records.items()):\n",
    "    print('[{}]\\n{}\\n'.format(value.title, key))"
   ]
  },
  {
   "cell_type": "markdown",
   "metadata": {},
   "source": [
    "12 Records. That's better. But if the user is interested in only some specific service, it is better to filter by a string, like [`CO-OPS`](https://tidesandcurrents.noaa.gov/)."
   ]
  },
  {
   "cell_type": "code",
   "execution_count": 8,
   "metadata": {
    "collapsed": false
   },
   "outputs": [
    {
     "name": "stdout",
     "output_type": "stream",
     "text": [
      "Found 7 records.\n",
      "\n",
      "[urn:ioos:station:NOAA.NOS.CO-OPS:9432780 station, Charleston, OR]\n",
      "opendap.co-ops.nos.noaa.gov-urn_ioos_station_NOAA.NOS.CO-OPS_9432780\n",
      "\n",
      "[urn:ioos:station:NOAA.NOS.CO-OPS:9435380 station, South Beach, OR]\n",
      "opendap.co-ops.nos.noaa.gov-urn_ioos_station_NOAA.NOS.CO-OPS_9435380\n",
      "\n",
      "[urn:ioos:station:NOAA.NOS.CO-OPS:9437540 station, Garibaldi, OR]\n",
      "opendap.co-ops.nos.noaa.gov-urn_ioos_station_NOAA.NOS.CO-OPS_9437540\n",
      "\n",
      "[urn:ioos:station:NOAA.NOS.CO-OPS:9439040 station, Astoria, OR]\n",
      "opendap.co-ops.nos.noaa.gov-urn_ioos_station_NOAA.NOS.CO-OPS_9439040\n",
      "\n",
      "[urn:ioos:station:NOAA.NOS.CO-OPS:9440910 station, Toke Point, WA]\n",
      "opendap.co-ops.nos.noaa.gov-urn_ioos_station_NOAA.NOS.CO-OPS_9440910\n",
      "\n",
      "[urn:ioos:station:NOAA.NOS.CO-OPS:9441102 station, Westport, WA]\n",
      "opendap.co-ops.nos.noaa.gov-urn_ioos_station_NOAA.NOS.CO-OPS_9441102\n",
      "\n",
      "[urn:ioos:station:NOAA.NOS.CO-OPS:9442396 station, La Push, WA]\n",
      "opendap.co-ops.nos.noaa.gov-urn_ioos_station_NOAA.NOS.CO-OPS_9442396\n",
      "\n"
     ]
    }
   ],
   "source": [
    "filter_list = [\n",
    "    fes.And(\n",
    "        [\n",
    "            bbox_crs,  # Bounding box\n",
    "            begin, end,  # start and end date\n",
    "            or_filt,  # or conditions (CF variable names).\n",
    "            fes.PropertyIsLike(literal='*CO-OPS*', **kw),  # must have CO-OPS\n",
    "        ]\n",
    "    )\n",
    "]\n",
    "\n",
    "get_csw_records(csw, filter_list, pagesize=10, maxrecords=1000)\n",
    "\n",
    "records = '\\n'.join(csw.records.keys())\n",
    "print('Found {} records.\\n'.format(len(csw.records.keys())))\n",
    "for key, value in list(csw.records.items()):\n",
    "    print('[{}]\\n{}\\n'.format(value.title, key))"
   ]
  },
  {
   "cell_type": "markdown",
   "metadata": {},
   "source": [
    "The easiest way to get more information is to explorer the individual records.\n",
    "Here is the `abstract` and `subjects` from the station in Astoria, OR."
   ]
  },
  {
   "cell_type": "code",
   "execution_count": 9,
   "metadata": {
    "collapsed": false
   },
   "outputs": [
    {
     "name": "stdout",
     "output_type": "stream",
     "text": [
      "NOAA.NOS.CO-OPS Sensor Observation Service (SOS) Server  This station\n",
      "provides the following variables: Air pressure, Air temperature, Sea\n",
      "surface height amplitude due to equilibrium ocean tide, Sea water\n",
      "temperature, Water surface height above reference datum, Wind from\n",
      "direction, Wind speed, Wind speed of gust\n"
     ]
    }
   ],
   "source": [
    "import textwrap\n",
    "\n",
    "\n",
    "value = csw.records['opendap.co-ops.nos.noaa.gov-urn_ioos_station_NOAA.NOS.CO-OPS_9439040']\n",
    "\n",
    "print('\\n'.join(textwrap.wrap(value.abstract)))"
   ]
  },
  {
   "cell_type": "code",
   "execution_count": 10,
   "metadata": {
    "collapsed": false
   },
   "outputs": [
    {
     "name": "stdout",
     "output_type": "stream",
     "text": [
      "Air Temperature\n",
      "Barometric Pressure\n",
      "Conductivity\n",
      "Currents\n",
      "Datum\n",
      "Harmonic Constituents\n",
      "Rain Fall\n",
      "Relative Humidity\n",
      "Salinity\n",
      "Visibility\n",
      "Water Level\n",
      "Water Level Predictions\n",
      "Water Temperature\n",
      "Winds\n",
      "air_pressure\n",
      "air_temperature\n",
      "sea_surface_height_amplitude_due_to_equilibrium_ocean_tide\n",
      "sea_water_temperature\n",
      "water_surface_height_above_reference_datum\n",
      "wind_from_direction\n",
      "wind_speed\n",
      "wind_speed_of_gust\n",
      "climatologyMeteorologyAtmosphere\n"
     ]
    }
   ],
   "source": [
    "print('\\n'.join(value.subjects))"
   ]
  },
  {
   "cell_type": "markdown",
   "metadata": {},
   "source": [
    "The next step is to inspect the type services/schemes available for downloading the data. The easiest way to accomplish that is with by \"sniffing\" the URLs with `geolinks`."
   ]
  },
  {
   "cell_type": "code",
   "execution_count": 11,
   "metadata": {
    "collapsed": false,
    "scrolled": false
   },
   "outputs": [
    {
     "name": "stdout",
     "output_type": "stream",
     "text": [
      "geolink: OGC:SOS\n",
      "scheme: Astoria\n",
      "URL: https://opendap.co-ops.nos.noaa.gov/ioos-dif-sos/SOS?procedure=urn:ioos:station:NOAA.NOS.CO-OPS:9439040&version=1.0.0&request=DescribeSensor&outputFormat=text/xml; subtype=\"sensorML/1.0.1/profiles/ioos_sos/1.0\"&service=SOS\n",
      "\n",
      "geolink: OGC:SOS\n",
      "scheme: WWW:LINK - text/csv\n",
      "URL: http://opendap.co-ops.nos.noaa.gov/ioos-dif-sos/SOS?offering=urn:ioos:station:NOAA.NOS.CO-OPS:9439040&service=SOS&responseFormat=text/csv&version=1.0.0&request=GetObservation&observedProperty=http://mmisw.org/ont/cf/parameter/air_pressure&eventTime=2016-12-18T02:58:01/2016-12-18T04:58:01\n",
      "\n",
      "geolink: OGC:SOS\n",
      "scheme: WWW:LINK - text/xml\n",
      "URL: http://opendap.co-ops.nos.noaa.gov/ioos-dif-sos/SOS?offering=urn:ioos:station:NOAA.NOS.CO-OPS:9439040&service=SOS&responseFormat=text/xml;subtype=\"om/1.0.0/profiles/ioos_sos/1.0\"&version=1.0.0&request=GetObservation&observedProperty=http://mmisw.org/ont/cf/parameter/air_pressure&eventTime=2016-12-18T02:58:01/2016-12-18T04:58:01\n",
      "\n",
      "geolink: OGC:SOS\n",
      "scheme: WWW:LINK - text/csv\n",
      "URL: http://opendap.co-ops.nos.noaa.gov/ioos-dif-sos/SOS?offering=urn:ioos:station:NOAA.NOS.CO-OPS:9439040&service=SOS&responseFormat=text/csv&version=1.0.0&request=GetObservation&observedProperty=http://mmisw.org/ont/cf/parameter/air_temperature&eventTime=2016-12-18T02:58:01/2016-12-18T04:58:01\n",
      "\n",
      "geolink: OGC:SOS\n",
      "scheme: WWW:LINK - text/xml\n",
      "URL: http://opendap.co-ops.nos.noaa.gov/ioos-dif-sos/SOS?offering=urn:ioos:station:NOAA.NOS.CO-OPS:9439040&service=SOS&responseFormat=text/xml;subtype=\"om/1.0.0/profiles/ioos_sos/1.0\"&version=1.0.0&request=GetObservation&observedProperty=http://mmisw.org/ont/cf/parameter/air_temperature&eventTime=2016-12-18T02:58:01/2016-12-18T04:58:01\n",
      "\n",
      "geolink: OGC:SOS\n",
      "scheme: WWW:LINK - text/csv\n",
      "URL: http://opendap.co-ops.nos.noaa.gov/ioos-dif-sos/SOS?offering=urn:ioos:station:NOAA.NOS.CO-OPS:9439040&service=SOS&responseFormat=text/csv&version=1.0.0&request=GetObservation&observedProperty=http://mmisw.org/ont/cf/parameter/sea_surface_height_amplitude_due_to_equilibrium_ocean_tide&eventTime=2016-12-18T02:58:01/2016-12-18T04:58:01\n",
      "\n",
      "geolink: OGC:SOS\n",
      "scheme: WWW:LINK - text/xml\n",
      "URL: http://opendap.co-ops.nos.noaa.gov/ioos-dif-sos/SOS?offering=urn:ioos:station:NOAA.NOS.CO-OPS:9439040&service=SOS&responseFormat=text/xml;subtype=\"om/1.0.0/profiles/ioos_sos/1.0\"&version=1.0.0&request=GetObservation&observedProperty=http://mmisw.org/ont/cf/parameter/sea_surface_height_amplitude_due_to_equilibrium_ocean_tide&eventTime=2016-12-18T02:58:01/2016-12-18T04:58:01\n",
      "\n",
      "geolink: OGC:SOS\n",
      "scheme: WWW:LINK - text/csv\n",
      "URL: http://opendap.co-ops.nos.noaa.gov/ioos-dif-sos/SOS?offering=urn:ioos:station:NOAA.NOS.CO-OPS:9439040&service=SOS&responseFormat=text/csv&version=1.0.0&request=GetObservation&observedProperty=http://mmisw.org/ont/cf/parameter/sea_water_temperature&eventTime=2016-12-18T02:58:01/2016-12-18T04:58:01\n",
      "\n",
      "geolink: OGC:SOS\n",
      "scheme: WWW:LINK - text/xml\n",
      "URL: http://opendap.co-ops.nos.noaa.gov/ioos-dif-sos/SOS?offering=urn:ioos:station:NOAA.NOS.CO-OPS:9439040&service=SOS&responseFormat=text/xml;subtype=\"om/1.0.0/profiles/ioos_sos/1.0\"&version=1.0.0&request=GetObservation&observedProperty=http://mmisw.org/ont/cf/parameter/sea_water_temperature&eventTime=2016-12-18T02:58:01/2016-12-18T04:58:01\n",
      "\n",
      "geolink: OGC:SOS\n",
      "scheme: WWW:LINK - text/csv\n",
      "URL: http://opendap.co-ops.nos.noaa.gov/ioos-dif-sos/SOS?offering=urn:ioos:station:NOAA.NOS.CO-OPS:9439040&service=SOS&responseFormat=text/csv&version=1.0.0&request=GetObservation&observedProperty=http://mmisw.org/ont/cf/parameter/water_surface_height_above_reference_datum&eventTime=2016-12-18T02:58:01/2016-12-18T04:58:01\n",
      "\n",
      "geolink: OGC:SOS\n",
      "scheme: WWW:LINK - text/xml\n",
      "URL: http://opendap.co-ops.nos.noaa.gov/ioos-dif-sos/SOS?offering=urn:ioos:station:NOAA.NOS.CO-OPS:9439040&service=SOS&responseFormat=text/xml;subtype=\"om/1.0.0/profiles/ioos_sos/1.0\"&version=1.0.0&request=GetObservation&observedProperty=http://mmisw.org/ont/cf/parameter/water_surface_height_above_reference_datum&eventTime=2016-12-18T02:58:01/2016-12-18T04:58:01\n",
      "\n",
      "geolink: OGC:SOS\n",
      "scheme: WWW:LINK - text/csv\n",
      "URL: http://opendap.co-ops.nos.noaa.gov/ioos-dif-sos/SOS?offering=urn:ioos:station:NOAA.NOS.CO-OPS:9439040&service=SOS&responseFormat=text/csv&version=1.0.0&request=GetObservation&observedProperty=http://mmisw.org/ont/cf/parameter/wind_from_direction&eventTime=2016-12-18T02:58:01/2016-12-18T04:58:01\n",
      "\n",
      "geolink: OGC:SOS\n",
      "scheme: WWW:LINK - text/xml\n",
      "URL: http://opendap.co-ops.nos.noaa.gov/ioos-dif-sos/SOS?offering=urn:ioos:station:NOAA.NOS.CO-OPS:9439040&service=SOS&responseFormat=text/xml;subtype=\"om/1.0.0/profiles/ioos_sos/1.0\"&version=1.0.0&request=GetObservation&observedProperty=http://mmisw.org/ont/cf/parameter/wind_from_direction&eventTime=2016-12-18T02:58:01/2016-12-18T04:58:01\n",
      "\n",
      "geolink: OGC:SOS\n",
      "scheme: WWW:LINK - text/csv\n",
      "URL: http://opendap.co-ops.nos.noaa.gov/ioos-dif-sos/SOS?offering=urn:ioos:station:NOAA.NOS.CO-OPS:9439040&service=SOS&responseFormat=text/csv&version=1.0.0&request=GetObservation&observedProperty=http://mmisw.org/ont/cf/parameter/wind_speed&eventTime=2016-12-18T02:58:01/2016-12-18T04:58:01\n",
      "\n",
      "geolink: OGC:SOS\n",
      "scheme: WWW:LINK - text/xml\n",
      "URL: http://opendap.co-ops.nos.noaa.gov/ioos-dif-sos/SOS?offering=urn:ioos:station:NOAA.NOS.CO-OPS:9439040&service=SOS&responseFormat=text/xml;subtype=\"om/1.0.0/profiles/ioos_sos/1.0\"&version=1.0.0&request=GetObservation&observedProperty=http://mmisw.org/ont/cf/parameter/wind_speed&eventTime=2016-12-18T02:58:01/2016-12-18T04:58:01\n",
      "\n",
      "geolink: OGC:SOS\n",
      "scheme: WWW:LINK - text/csv\n",
      "URL: http://opendap.co-ops.nos.noaa.gov/ioos-dif-sos/SOS?offering=urn:ioos:station:NOAA.NOS.CO-OPS:9439040&service=SOS&responseFormat=text/csv&version=1.0.0&request=GetObservation&observedProperty=http://mmisw.org/ont/cf/parameter/wind_speed_of_gust&eventTime=2016-12-18T02:58:01/2016-12-18T04:58:01\n",
      "\n",
      "geolink: OGC:SOS\n",
      "scheme: WWW:LINK - text/xml\n",
      "URL: http://opendap.co-ops.nos.noaa.gov/ioos-dif-sos/SOS?offering=urn:ioos:station:NOAA.NOS.CO-OPS:9439040&service=SOS&responseFormat=text/xml;subtype=\"om/1.0.0/profiles/ioos_sos/1.0\"&version=1.0.0&request=GetObservation&observedProperty=http://mmisw.org/ont/cf/parameter/wind_speed_of_gust&eventTime=2016-12-18T02:58:01/2016-12-18T04:58:01\n",
      "\n",
      "geolink: None\n",
      "scheme: WWW:LINK\n",
      "URL: https://tidesandcurrents.noaa.gov/images/stationphotos/9439040A.jpg\n",
      "\n",
      "geolink: None\n",
      "scheme: WWW:LINK\n",
      "URL: https://tidesandcurrents.noaa.gov/publications/NOAA_Technical_Report_NOS_CO-OPS_030_QC_requirements_doc(revised)-11102004.pdf\n",
      "\n",
      "geolink: None\n",
      "scheme: WWW:LINK\n",
      "URL: https://tidesandcurrents.noaa.gov/stationhome.html?id=9439040\n",
      "\n",
      "geolink: OGC:SOS\n",
      "scheme: OGC:SOS\n",
      "URL: http://opendap.co-ops.nos.noaa.gov/ioos-dif-sos/SOS?request=GetCapabilities&acceptVersions=1.0.0&service=SOS\n",
      "\n"
     ]
    }
   ],
   "source": [
    "from geolinks import sniff_link\n",
    "\n",
    "msg = 'geolink: {geolink}\\nscheme: {scheme}\\nURL: {url}\\n'.format\n",
    "for ref in value.references:\n",
    "    print(msg(geolink=sniff_link(ref['url']), **ref))"
   ]
  },
  {
   "cell_type": "markdown",
   "metadata": {},
   "source": [
    "There are many direct links to Comma Separated Value (`CSV`) and\n",
    "eXtensible Markup Language (`XML`) responses to the various variables available in that station. \n",
    "\n",
    "In addition to those links, there are three very interesting links for more information: 1.) the QC document, 2.) the station photo, 3.) the station home page.\n",
    "\n",
    "\n",
    "For a detailed description of what those `geolink` results mean check the [lookup](https://github.com/OSGeo/Cat-Interop/blob/master/LinkPropertyLookupTable.csv) table.\n",
    "\n",
    "\n",
    "![](https://tidesandcurrents.noaa.gov/images/stationphotos/9439040A.jpg)"
   ]
  },
  {
   "cell_type": "markdown",
   "metadata": {},
   "source": [
    "The original search was focused on sea water temperature,\n",
    "so there is the need to extract only the endpoint for that variable.\n",
    "\n",
    "PS: see also the [pyoos example](http://ioos.github.io/notebooks_demos/notebooks/2016-10-12-fetching_data/) for fetching data from `CO-OPS`."
   ]
  },
  {
   "cell_type": "code",
   "execution_count": 12,
   "metadata": {
    "collapsed": false
   },
   "outputs": [
    {
     "data": {
      "text/plain": [
       "(datetime.datetime(2016, 12, 12, 20, 49, 29, 121653),\n",
       " datetime.datetime(2016, 12, 19, 20, 49, 29, 121653))"
      ]
     },
     "execution_count": 12,
     "metadata": {},
     "output_type": "execute_result"
    }
   ],
   "source": [
    "start, stop"
   ]
  },
  {
   "cell_type": "code",
   "execution_count": 13,
   "metadata": {
    "collapsed": false
   },
   "outputs": [
    {
     "name": "stdout",
     "output_type": "stream",
     "text": [
      "geolink: OGC:SOS\n",
      "scheme: WWW:LINK - text/csv\n",
      "URL: http://opendap.co-ops.nos.noaa.gov/ioos-dif-sos/SOS?offering=urn:ioos:station:NOAA.NOS.CO-OPS:9439040&service=SOS&responseFormat=text/csv&version=1.0.0&request=GetObservation&observedProperty=http://mmisw.org/ont/cf/parameter/sea_water_temperature&eventTime=2016-12-18T02:58:01/2016-12-18T04:58:01\n",
      "\n"
     ]
    }
   ],
   "source": [
    "for ref in value.references:\n",
    "    url = ref['url']\n",
    "    if 'csv' in url and 'sea' in url and 'temperature' in url:\n",
    "        print(msg(geolink=sniff_link(url), **ref))\n",
    "        break"
   ]
  },
  {
   "cell_type": "markdown",
   "metadata": {},
   "source": [
    "Note that the URL returned by the service has some hard-coded start/stop dates.\n",
    "It is easy to overwrite those with the same dates from the filter."
   ]
  },
  {
   "cell_type": "code",
   "execution_count": 14,
   "metadata": {
    "collapsed": false
   },
   "outputs": [],
   "source": [
    "fmt = ('http://opendap.co-ops.nos.noaa.gov/ioos-dif-sos/SOS?'\n",
    "       'service=SOS&'\n",
    "       'eventTime={0:%Y-%m-%dT00:00:00}/{1:%Y-%m-%dT00:00:00}&'\n",
    "       'observedProperty=http://mmisw.org/ont/cf/parameter/sea_water_temperature&'\n",
    "       'version=1.0.0&'\n",
    "       'request=GetObservation&offering=urn:ioos:station:NOAA.NOS.CO-OPS:9439040&'\n",
    "       'responseFormat=text/csv')\n",
    "\n",
    "url = fmt.format(start, stop)"
   ]
  },
  {
   "cell_type": "markdown",
   "metadata": {},
   "source": [
    "Finally, it is possible to download the data directly into a data `pandas` data frame and plot it."
   ]
  },
  {
   "cell_type": "code",
   "execution_count": 15,
   "metadata": {
    "collapsed": false
   },
   "outputs": [],
   "source": [
    "import io\n",
    "import requests\n",
    "import pandas as pd\n",
    "\n",
    "r = requests.get(url)\n",
    "\n",
    "df = pd.read_csv(io.StringIO(r.content.decode('utf-8')),\n",
    "                 index_col='date_time', parse_dates=True)"
   ]
  },
  {
   "cell_type": "code",
   "execution_count": 16,
   "metadata": {
    "collapsed": false
   },
   "outputs": [
    {
     "data": {
      "text/plain": [
       "<matplotlib.text.Text at 0x7fdc6803ac50>"
      ]
     },
     "execution_count": 16,
     "metadata": {},
     "output_type": "execute_result"
    },
    {
     "data": {
      "image/png": "[encoded data removed]",
      "text/plain": [
       "<matplotlib.figure.Figure at 0x7fdc673ed978>"
      ]
     },
     "metadata": {},
     "output_type": "display_data"
    }
   ],
   "source": [
    "%matplotlib inline\n",
    "import matplotlib.pyplot as plt\n",
    "\n",
    "\n",
    "fig, ax = plt.subplots(figsize=(11, 2.75))\n",
    "ax = df['sea_water_temperature (C)'].plot(ax=ax)\n",
    "ax.set_xlabel('')\n",
    "ax.set_ylabel(r'Sea water temperature ($^\\circ$C)')\n",
    "ax.set_title(value.title)"
   ]
  }
 ],
 "metadata": {
  "kernelspec": {
   "display_name": "Python [default]",
   "language": "python",
   "name": "python3"
  },
  "language_info": {
   "codemirror_mode": {
    "name": "ipython",
    "version": 3
   },
   "file_extension": ".py",
   "mimetype": "text/x-python",
   "name": "python",
   "nbconvert_exporter": "python",
   "pygments_lexer": "ipython3",
   "version": "3.5.2"
  }
 },
 "nbformat": 4,
 "nbformat_minor": 0
}
