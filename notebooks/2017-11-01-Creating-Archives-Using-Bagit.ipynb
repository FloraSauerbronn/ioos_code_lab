{
 "cells": [
  {
   "cell_type": "code",
   "execution_count": 1,
   "metadata": {},
   "outputs": [
    {
     "data": {
      "text/html": [
       "<div>\n",
       "<style scoped>\n",
       "    .dataframe tbody tr th:only-of-type {\n",
       "        vertical-align: middle;\n",
       "    }\n",
       "\n",
       "    .dataframe tbody tr th {\n",
       "        vertical-align: top;\n",
       "    }\n",
       "\n",
       "    .dataframe thead th {\n",
       "        text-align: right;\n",
       "    }\n",
       "</style>\n",
       "<table border=\"1\" class=\"dataframe\">\n",
       "  <thead>\n",
       "    <tr style=\"text-align: right;\">\n",
       "      <th></th>\n",
       "      <th>time</th>\n",
       "      <th>lon</th>\n",
       "      <th>lat</th>\n",
       "      <th>depth</th>\n",
       "      <th>station</th>\n",
       "      <th>humidity</th>\n",
       "      <th>temperature</th>\n",
       "    </tr>\n",
       "  </thead>\n",
       "  <tbody>\n",
       "    <tr>\n",
       "      <th>0</th>\n",
       "      <td>1990-01-01 00:00:00</td>\n",
       "      <td>-76.5</td>\n",
       "      <td>37.5</td>\n",
       "      <td>0.0</td>\n",
       "      <td>Station1</td>\n",
       "      <td>89.708794</td>\n",
       "      <td>15.698009</td>\n",
       "    </tr>\n",
       "    <tr>\n",
       "      <th>1</th>\n",
       "      <td>1990-01-01 00:00:00</td>\n",
       "      <td>-76.5</td>\n",
       "      <td>37.5</td>\n",
       "      <td>10.0</td>\n",
       "      <td>Station1</td>\n",
       "      <td>55.789471</td>\n",
       "      <td>10.916656</td>\n",
       "    </tr>\n",
       "    <tr>\n",
       "      <th>2</th>\n",
       "      <td>1990-01-01 00:00:00</td>\n",
       "      <td>-76.5</td>\n",
       "      <td>37.5</td>\n",
       "      <td>20.0</td>\n",
       "      <td>Station1</td>\n",
       "      <td>50.176994</td>\n",
       "      <td>15.666663</td>\n",
       "    </tr>\n",
       "    <tr>\n",
       "      <th>3</th>\n",
       "      <td>1990-01-01 00:00:00</td>\n",
       "      <td>-76.5</td>\n",
       "      <td>37.5</td>\n",
       "      <td>30.0</td>\n",
       "      <td>Station1</td>\n",
       "      <td>36.855045</td>\n",
       "      <td>1.158752</td>\n",
       "    </tr>\n",
       "    <tr>\n",
       "      <th>4</th>\n",
       "      <td>1990-01-01 01:00:00</td>\n",
       "      <td>-76.5</td>\n",
       "      <td>37.5</td>\n",
       "      <td>0.0</td>\n",
       "      <td>Station1</td>\n",
       "      <td>65.016937</td>\n",
       "      <td>31.059647</td>\n",
       "    </tr>\n",
       "  </tbody>\n",
       "</table>\n",
       "</div>"
      ],
      "text/plain": [
       "                 time   lon   lat  depth   station   humidity  temperature\n",
       "0 1990-01-01 00:00:00 -76.5  37.5    0.0  Station1  89.708794    15.698009\n",
       "1 1990-01-01 00:00:00 -76.5  37.5   10.0  Station1  55.789471    10.916656\n",
       "2 1990-01-01 00:00:00 -76.5  37.5   20.0  Station1  50.176994    15.666663\n",
       "3 1990-01-01 00:00:00 -76.5  37.5   30.0  Station1  36.855045     1.158752\n",
       "4 1990-01-01 01:00:00 -76.5  37.5    0.0  Station1  65.016937    31.059647"
      ]
     },
     "execution_count": 1,
     "metadata": {},
     "output_type": "execute_result"
    }
   ],
   "source": [
    "# Create a dataframe from a sample CSV file\n",
    "import pandas as pd\n",
    "df = pd.read_csv('./data/dsg/timeseriesProfile.csv', parse_dates=['time'])\n",
    "df.head()"
   ]
  },
  {
   "cell_type": "code",
   "execution_count": 2,
   "metadata": {},
   "outputs": [
    {
     "name": "stdout",
     "output_type": "stream",
     "text": [
      "<class 'pocean.dsg.timeseriesProfile.om.OrthogonalMultidimensionalTimeseriesProfile'>\n",
      "root group (NETCDF4 data model, file format HDF5):\n",
      "    Conventions: CF-1.6\n",
      "    date_created: 2017-11-03T18:08:00Z\n",
      "    featureType: timeSeriesProfile\n",
      "    cdm_data_type: TimeseriesProfile\n",
      "    naming_authority: ioos\n",
      "    id: Station1\n",
      "    dimensions(sizes): station(1), time(100), depth(4)\n",
      "    variables(dimensions): <class 'str'> \u001b[4mstation\u001b[0m(station), float64 \u001b[4mlat\u001b[0m(station), float64 \u001b[4mlon\u001b[0m(station), int32 \u001b[4mcrs\u001b[0m(), float64 \u001b[4mtime\u001b[0m(time), float64 \u001b[4mdepth\u001b[0m(depth), int32 \u001b[4mindex\u001b[0m(time,depth,station), float64 \u001b[4mhumidity\u001b[0m(time,depth,station), float64 \u001b[4mtemperature\u001b[0m(time,depth,station)\n",
      "    groups: \n",
      "\n"
     ]
    }
   ],
   "source": [
    "# Save dataframe as a netCDF file\n",
    "import os\n",
    "import tempfile\n",
    "from pocean.dsg import OrthogonalMultidimensionalTimeseriesProfile as omtsp\n",
    "\n",
    "output_fp, output = tempfile.mkstemp()\n",
    "os.close(output_fp)\n",
    "\n",
    "axes = {\n",
    "    't': 'time',\n",
    "    'x': 'lon',\n",
    "    'y': 'lat',\n",
    "    'z': 'depth'\n",
    "}\n",
    "ncd = omtsp.from_dataframe(\n",
    "    df.reset_index(),\n",
    "    output=output,\n",
    "    axes=axes,\n",
    "    mode='a'\n",
    ")\n",
    "ncd.naming_authority = 'ioos'\n",
    "ncd.id = 'Station1'\n",
    "print(ncd)\n",
    "ncd.close()"
   ]
  },
  {
   "cell_type": "code",
   "execution_count": 3,
   "metadata": {},
   "outputs": [],
   "source": [
    "# Create an archive for the file\n",
    "import shutil\n",
    "import bagit\n",
    "import netCDF4 as nc4\n",
    "\n",
    "with nc4.Dataset(output) as ncd:\n",
    "    urn = 'urn:ioos:station:{naming_authority}:{id}'.format(**ncd.__dict__)\n",
    "    \n",
    "temp_bagit_folder = tempfile.mkdtemp()\n",
    "temp_data_folder = os.path.join(temp_bagit_folder, 'data')\n",
    "\n",
    "# Create a new bag\n",
    "bag = bagit.make_bag(\n",
    "    temp_bagit_folder,\n",
    "    checksum=['sha256']\n",
    ")\n",
    "\n",
    "# Copy netCDF file into the bag\n",
    "shutil.copy2(output, temp_data_folder + '/parameter1.nc')\n",
    "\n",
    "# Set bagit metadata\n",
    "bag_meta = {\n",
    "    'Bag-Count': '1 of 1',\n",
    "    'Bag-Group-Identifier': 'ioos_bagit_testing',\n",
    "    'Contact-Name': 'Kyle Wilcox',\n",
    "    'Contact-Phone': '907-230-0304',\n",
    "    'Contact-Email': 'axiom+ncei@axiomdatascience.com',\n",
    "    'External-Identifier': urn,\n",
    "    'External-Description':\n",
    "        'Sensor data from station {}'.format(urn),\n",
    "    'Internal-Sender-Identifier': urn,\n",
    "    'Internal-Sender-Description':\n",
    "        'Station - URN:{}'.format(urn),\n",
    "    'Organization-address':\n",
    "        '1016 W 6th Ave, Ste. 105, Anchorage, AK 99501, USA',\n",
    "    'Source-Organization': 'Axiom Data Science',\n",
    "}\n",
    "# Update existing bag\n",
    "bag.info.update(bag_meta)\n",
    "bag.save(manifests=True, processes=4)"
   ]
  },
  {
   "cell_type": "code",
   "execution_count": 4,
   "metadata": {},
   "outputs": [
    {
     "name": "stdout",
     "output_type": "stream",
     "text": [
      "\u001b[01;34m/tmp/tmp7n_n1o50\u001b[00m\n",
      "├── bag-info.txt\n",
      "├── bagit.txt\n",
      "├── \u001b[01;34mdata\u001b[00m\n",
      "│   └── parameter1.nc\n",
      "├── manifest-sha256.txt\n",
      "└── tagmanifest-sha256.txt\n",
      "\n",
      "1 directory, 5 files\n",
      "e146e4d1850264e0bd71efb6ffb187e6f2069b564aef2c8317035bc25f28a1f1  data/parameter1.nc\n"
     ]
    }
   ],
   "source": [
    "!tree $temp_bagit_folder\n",
    "!cat $temp_bagit_folder/manifest-sha256.txt"
   ]
  },
  {
   "cell_type": "code",
   "execution_count": 5,
   "metadata": {},
   "outputs": [],
   "source": [
    "# Copy a few more files into the bag\n",
    "shutil.copy2(output, temp_data_folder + '/parameter2.nc')\n",
    "shutil.copy2(output, temp_data_folder + '/parameter3.nc')\n",
    "shutil.copy2(output, temp_data_folder + '/parameter4.nc')\n",
    "bag.save(manifests=True, processes=4)"
   ]
  },
  {
   "cell_type": "code",
   "execution_count": 6,
   "metadata": {},
   "outputs": [
    {
     "name": "stdout",
     "output_type": "stream",
     "text": [
      "\u001b[01;34m/tmp/tmp7n_n1o50\u001b[00m\n",
      "├── bag-info.txt\n",
      "├── bagit.txt\n",
      "├── \u001b[01;34mdata\u001b[00m\n",
      "│   ├── parameter1.nc\n",
      "│   ├── parameter2.nc\n",
      "│   ├── parameter3.nc\n",
      "│   └── parameter4.nc\n",
      "├── manifest-sha256.txt\n",
      "└── tagmanifest-sha256.txt\n",
      "\n",
      "1 directory, 8 files\n",
      "e146e4d1850264e0bd71efb6ffb187e6f2069b564aef2c8317035bc25f28a1f1  data/parameter1.nc\n",
      "e146e4d1850264e0bd71efb6ffb187e6f2069b564aef2c8317035bc25f28a1f1  data/parameter2.nc\n",
      "e146e4d1850264e0bd71efb6ffb187e6f2069b564aef2c8317035bc25f28a1f1  data/parameter3.nc\n",
      "e146e4d1850264e0bd71efb6ffb187e6f2069b564aef2c8317035bc25f28a1f1  data/parameter4.nc\n"
     ]
    }
   ],
   "source": [
    "!tree $temp_bagit_folder\n",
    "!cat $temp_bagit_folder/manifest-sha256.txt"
   ]
  }
 ],
 "metadata": {
  "kernelspec": {
   "display_name": "Python [conda env:ioos36]",
   "language": "python",
   "name": "conda-env-ioos36-py"
  },
  "language_info": {
   "codemirror_mode": {
    "name": "ipython",
    "version": 3
   },
   "file_extension": ".py",
   "mimetype": "text/x-python",
   "name": "python",
   "nbconvert_exporter": "python",
   "pygments_lexer": "ipython3",
   "version": "3.6.3"
  }
 },
 "nbformat": 4,
 "nbformat_minor": 2
}
