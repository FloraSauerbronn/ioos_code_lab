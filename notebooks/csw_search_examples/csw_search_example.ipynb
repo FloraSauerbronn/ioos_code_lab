{
 "cells": [
  {
   "cell_type": "markdown",
   "metadata": {
    "collapsed": true
   },
   "source": [
    "# Demonstrate some CSW query capabilities "
   ]
  },
  {
   "cell_type": "markdown",
   "metadata": {},
   "source": [
    "We will use the owslib library to construct queries and parse responses from CSW"
   ]
  },
  {
   "cell_type": "markdown",
   "metadata": {},
   "source": [
    "Specify a CSW endpoint.  You can test if it's working with a getCapabilities request:  \n",
    "```\n",
    "<endpoint>?request=GetCapabilities&service=CSW\n",
    "```\n",
    "for example:\n",
    "```\n",
    "http://catalog.data.gov/csw-all?service=CSW&version=2.0.2&request=GetCapabilities\n",
    "```"
   ]
  },
  {
   "cell_type": "code",
   "execution_count": 1,
   "metadata": {
    "collapsed": false
   },
   "outputs": [
    {
     "name": "stdout",
     "output_type": "stream",
     "text": [
      "2.0.2\n"
     ]
    }
   ],
   "source": [
    "from owslib.csw import CatalogueServiceWeb\n",
    "\n",
    "endpoints = [\n",
    "    'http://catalog.data.gov/csw-all',  # Granule level production catalog.\n",
    "    'http://geoport.whoi.edu/csw',\n",
    "    'http://www.ngdc.noaa.gov/geoportal/csw',\n",
    "    'https://data.ioos.us/csw',\n",
    "    'https://dev-catalog.ioos.us/csw'\n",
    "]\n",
    "\n",
    "csw = CatalogueServiceWeb(endpoints[-1], timeout=60)\n",
    "print(csw.version)"
   ]
  },
  {
   "cell_type": "code",
   "execution_count": 2,
   "metadata": {
    "collapsed": false,
    "scrolled": true
   },
   "outputs": [
    {
     "name": "stdout",
     "output_type": "stream",
     "text": [
      "Found 10 records.\n",
      "\n",
      "[SG610-20150811T1630]: SG610-20150811T1630\n",
      "[NERACOOS Gulf of Maine Ocean Array: Realtime Buoy Observations: E01 Central Maine Shelf: E01 AANDERAA Central Maine Shelf]: edu.maine:E01\n",
      "[sp028-20150716T2019]: sp028-20150716T2019\n",
      "[None]: gov.noaa.nos.ioos:nanoos_regional_data_portal\n",
      "[None]: gov.noaa.nos.ioos:caricoos_regional_data_portal\n",
      "[Alaska Regional Data Portal For US Integrated Ocean Observing System]: gov.noaa.nos.ioos:aoos_regional_data_portal\n",
      "[GLOS Data Portal]: gov.noaa.nos.ioos:glos_regional_data_portal\n",
      "[NERACOOS Real-time Data Portal]: gov.noaa.nos.ioos:neracoos_regional_data_portal\n",
      "[PacIOOS Voyager]: gov.noaa.nos.ioos:pacioos_regional_data_portal\n",
      "[Central California Regional Data Portal For US Integrated Ocean Observing System]: gov.noaa.nos.ioos:cencoos_regional_data_portal\n"
     ]
    }
   ],
   "source": [
    "from owslib import fes\n",
    "\n",
    "filter1 = fes.PropertyIsLike(\n",
    "    propertyname='apiso:AnyText',\n",
    "    literal=('*sea_water_salinity*'),\n",
    "    escapeChar='\\\\',\n",
    "    wildCard='*',\n",
    "    singleChar='?'\n",
    ")\n",
    "\n",
    "csw.getrecords2(constraints=[filter1], maxrecords=100, esn='full')\n",
    "\n",
    "print('Found {} records.\\n'.format(len(csw.records.keys())))\n",
    "for key, value in list(csw.records.items()):\n",
    "    print('[{}]: {}'.format(value.title, key))"
   ]
  },
  {
   "cell_type": "markdown",
   "metadata": {},
   "source": [
    "Hmmm..... In the query above, we only get 10 records, even though we specified maxrecords=100.  \n",
    "\n",
    "What's up with that?\n",
    "\n",
    "Turns out the CSW service specified a MaxRecordDefault that cannot be exceeded.\n",
    "For example, checking: https://dev-catalog.ioos.us/csw?request=GetCapabilities&service=CSW we find:\n",
    "```\n",
    "<ows:Constraint name=\"MaxRecordDefault\">\n",
    "    <ows:Value>10</ows:Value>\n",
    "</ows:Constraint>\n",
    "```\n",
    "So we need to loop the getrecords request, incrementing the startposition:"
   ]
  },
  {
   "cell_type": "code",
   "execution_count": 3,
   "metadata": {
    "collapsed": true
   },
   "outputs": [],
   "source": [
    "from owslib.fes import SortBy, SortProperty\n",
    "\n",
    "pagesize = 10\n",
    "maxrecords = 50\n",
    "sort_order = 'ASC'  # Should be 'ASC' or 'DESC' (ascending or descending).\n",
    "sort_property = 'dc:title'  # A supported queryable of the CSW.\n",
    "\n",
    "sortby = SortBy([SortProperty(sort_property, sort_order)])"
   ]
  },
  {
   "cell_type": "code",
   "execution_count": 4,
   "metadata": {
    "collapsed": false,
    "scrolled": true
   },
   "outputs": [
    {
     "name": "stdout",
     "output_type": "stream",
     "text": [
      "getting records 0 to 10\n",
      "1AE10 SeaCAT Data\n",
      "1BE12 SeaCAT Data\n",
      "1DY09  SeaCAT Data\n",
      "1DY10 SeaCAT Data\n",
      "1DY11 SeaCAT Data\n",
      "1FA05 SeaCAT Data\n",
      "1MB11 SeaCAT Data\n",
      "1MF08 SeaCAT Data\n",
      "1MF09 SeaCAT Data\n",
      "1TT05 SeaCAT Data\n",
      "\n",
      "getting records 10 to 20\n",
      "1TT05 SeaCAT Data\n",
      "1TT06 SeaCAT Data\n",
      "2BE12 SeaCAT Data\n",
      "2DY08 SeaCAT Data\n",
      "2DY10 SeaCAT Data\n",
      "2DY11 SeaCAT Data\n",
      "2HX04 SeaCAT Data\n",
      "2KM03 SeaCAT Data\n",
      "2MF03\n",
      "2MF05 SeaCAT Data\n",
      "\n",
      "getting records 20 to 30\n",
      "2MF09 SeaCAT Data\n",
      "3DY08 SeaCAT Data\n",
      "3DY09 SeaCAT Data\n",
      "3DY10 SeaCAT Data\n",
      "3KM03\n",
      "3MF02 SeaCAT Data\n",
      "3MF03 SeaCAT Data\n",
      "3MF04 SeaCAT Data\n",
      "3MF06 SeaCAT Data\n",
      "3MF07 SeaCAT Data\n",
      "\n",
      "getting records 30 to 40\n",
      "3MF08 SeaCAT Data\n",
      "4DY08 SeaCAT Data\n",
      "4DY09 SeaCAT Data\n",
      "4MF02\n",
      "4MF03 SeaCAT Data\n",
      "4MF05 SeaCAT Data\n",
      "4MF06 SeaCAT Data\n",
      "4MF07 SeaCAT Data\n",
      "5MF02\n",
      "5MF03 Seacat data\n",
      "\n",
      "getting records 40 to 50\n",
      "5MF04 SeaCAT Data\n",
      "5MF05 SeaCAT Data\n",
      "5MF07 SeaCAT Data\n",
      "6MF05 SeaCAT Data\n",
      "6MF06 SeaCAT Data\n",
      "6MF07 SeaCAT Data\n",
      "7MF03 Seacat data\n",
      "7MF04 SeaCAT Data\n",
      "7MF05 SeaCAT Data\n",
      "7MF06 SeaCAT Data\n",
      "\n"
     ]
    }
   ],
   "source": [
    "startposition = 0\n",
    "\n",
    "while True:\n",
    "    print('getting records %d to %d' % (startposition, startposition+pagesize))\n",
    "    csw.getrecords2(constraints=[filter1],\n",
    "                    startposition=startposition,\n",
    "                    maxrecords=pagesize,\n",
    "                    sortby=sortby)\n",
    "    for rec, item in csw.records.items():\n",
    "        print(item.title)\n",
    "    print()\n",
    "    if csw.results['nextrecord'] == 0:\n",
    "        break\n",
    "    startposition += pagesize\n",
    "    if startposition >= maxrecords:\n",
    "        break"
   ]
  },
  {
   "cell_type": "markdown",
   "metadata": {},
   "source": [
    "Okay, now lets add another query filter and add it to the first one"
   ]
  },
  {
   "cell_type": "code",
   "execution_count": 5,
   "metadata": {
    "collapsed": false
   },
   "outputs": [],
   "source": [
    "filter2 = fes.PropertyIsLike(\n",
    "    propertyname='apiso:AnyText',\n",
    "    literal=('*ROMS*'),\n",
    "    escapeChar='\\\\',\n",
    "    wildCard='*', singleChar='?'\n",
    ")\n",
    "\n",
    "filter_list = [fes.And([filter1, filter2])]"
   ]
  },
  {
   "cell_type": "code",
   "execution_count": 6,
   "metadata": {
    "collapsed": false,
    "scrolled": true
   },
   "outputs": [
    {
     "name": "stdout",
     "output_type": "stream",
     "text": [
      "getting records 0 to 10\n",
      "CeNCOOS/Models/ROMS/California ROMS/California Coastal Regional Ocean Modeling System (ROMS) Forecast\n",
      "CeNCOOS/Models/ROMS/California ROMS/California Coastal Regional Ocean Modeling System (ROMS) Nowcast\n",
      "CeNCOOS/Models/ROMS/Monterey Bay ROMS (Oct 2010 to Jan 2013)/Monterey Bay (MB) Regional Ocean Modeling System (ROMS) Forecast\n",
      "Regional Ocean Modeling System (ROMS): CNMI\n",
      "Regional Ocean Modeling System (ROMS): CNMI: Data Assimilating\n",
      "Regional Ocean Modeling System (ROMS): Guam\n",
      "Regional Ocean Modeling System (ROMS): Main Hawaiian Islands\n",
      "Regional Ocean Modeling System (ROMS): Main Hawaiian Islands: Data Assimilating\n",
      "Regional Ocean Modeling System (ROMS): Oahu\n",
      "Regional Ocean Modeling System (ROMS): Oahu: Data Assimilating\n",
      "\n",
      "getting records 10 to 20\n",
      "Regional Ocean Modeling System (ROMS): Oahu: Data Assimilating\n",
      "Regional Ocean Modeling System (ROMS): Oahu South Shore\n",
      "Regional Ocean Modeling System (ROMS): Oregon Coast\n",
      "Regional Ocean Modeling System (ROMS): Samoa\n",
      "Regional Ocean Modeling System (ROMS): Samoa: Data Assimilating\n",
      "Regional Ocean Modeling System (ROMS): Waikiki\n",
      "ROMS/TOMS 3.0 - New Floria Shelf Application\n",
      "UCSC California Current System ROMS Nowcast 10km\n",
      "\n"
     ]
    }
   ],
   "source": [
    "startposition = 0\n",
    "maxrecords = 50\n",
    "\n",
    "while True:\n",
    "    print('getting records %d to %d' % (startposition, startposition+pagesize))\n",
    "    csw.getrecords2(constraints=filter_list,\n",
    "                    startposition=startposition, maxrecords=pagesize, sortby=sortby)\n",
    "    for rec, item in csw.records.items():\n",
    "        print(item.title)\n",
    "    print()\n",
    "    if csw.results['nextrecord'] == 0:\n",
    "        break\n",
    "    startposition += pagesize\n",
    "    if startposition >= maxrecords:\n",
    "        break"
   ]
  },
  {
   "cell_type": "code",
   "execution_count": 7,
   "metadata": {
    "collapsed": false
   },
   "outputs": [
    {
     "name": "stdout",
     "output_type": "stream",
     "text": [
      "Regional Ocean Modeling System (ROMS): Waikiki\n"
     ]
    },
    {
     "data": {
      "text/plain": [
       "[{'scheme': 'http',\n",
       "  'url': 'http://oos.soest.hawaii.edu/thredds/catalog/hioos/roms_forec/hiomsag/catalog.html?dataset=hioos/roms_forec/hiomsag/ROMS_Waikiki_Regional_Ocean_Model_best.ncd'},\n",
       " {'scheme': 'http',\n",
       "  'url': 'http://oos.soest.hawaii.edu/thredds/dodsC/hioos/roms_forec/hiomsag/ROMS_Waikiki_Regional_Ocean_Model_best.ncd.html'},\n",
       " {'scheme': 'http',\n",
       "  'url': 'http://pacioos.org/voyager_dev/index.html?b=21.209486%2C-158.01104%2C21.373269%2C-157.7187&t=h&o=ofore:1:f:d9'},\n",
       " {'scheme': 'http', 'url': 'http://pacioos.org/currents/model-waikiki/'},\n",
       " {'scheme': 'NOAA:LAS',\n",
       "  'url': 'http://oos.soest.hawaii.edu/las/UI.vm?catid=hiroms_hiomsag&dsid=hiroms_hiomsag&varid=temp-hiroms_hiomsag'},\n",
       " {'scheme': 'OPeNDAP:OPeNDAP',\n",
       "  'url': 'http://oos.soest.hawaii.edu/thredds/dodsC/hioos/roms_forec/hiomsag/ROMS_Waikiki_Regional_Ocean_Model_best.ncd'},\n",
       " {'scheme': 'OGC:WMS',\n",
       "  'url': 'http://oos.soest.hawaii.edu/thredds/wms/hioos/roms_forec/hiomsag/ROMS_Waikiki_Regional_Ocean_Model_best.ncd?service=WMS&version=1.3.0&request=GetCapabilities'},\n",
       " {'scheme': 'UNIDATA:NCSS',\n",
       "  'url': 'http://oos.soest.hawaii.edu/thredds/ncss/hioos/roms_forec/hiomsag/ROMS_Waikiki_Regional_Ocean_Model_best.ncd/dataset.html'}]"
      ]
     },
     "execution_count": 7,
     "metadata": {},
     "output_type": "execute_result"
    }
   ],
   "source": [
    "import random\n",
    "\n",
    "choice = random.choice(list(csw.records.keys()))\n",
    "\n",
    "print(csw.records[choice].title)\n",
    "\n",
    "csw.records[choice].references"
   ]
  },
  {
   "cell_type": "markdown",
   "metadata": {},
   "source": [
    "Lets see what the full XML record looks like"
   ]
  },
  {
   "cell_type": "code",
   "execution_count": 8,
   "metadata": {
    "collapsed": false,
    "scrolled": true
   },
   "outputs": [
    {
     "name": "stdout",
     "output_type": "stream",
     "text": [
      "<?xml version=\"1.0\" ?>\n",
      "<csw:SummaryRecord xmlns:apiso=\"http://www.opengis.net/cat/csw/apiso/1.0\" xmlns:atom=\"http://www.w3.org/2005/Atom\" xmlns:csw=\"http://www.opengis.net/cat/csw/2.0.2\" xmlns:dc=\"http://purl.org/dc/elements/1.1/\" xmlns:dct=\"http://purl.org/dc/terms/\" xmlns:dif=\"http://gcmd.gsfc.nasa.gov/Aboutus/xml/dif/\" xmlns:fgdc=\"http://www.opengis.net/cat/csw/csdgm\" xmlns:gco=\"http://www.isotc211.org/2005/gco\" xmlns:gmd=\"http://www.isotc211.org/2005/gmd\" xmlns:gml=\"http://www.opengis.net/gml\" xmlns:inspire_common=\"http://inspire.ec.europa.eu/schemas/common/1.0\" xmlns:inspire_ds=\"http://inspire.ec.europa.eu/schemas/inspire_ds/1.0\" xmlns:ogc=\"http://www.opengis.net/ogc\" xmlns:os=\"http://a9.com/-/spec/opensearch/1.1/\" xmlns:ows=\"http://www.opengis.net/ows\" xmlns:rdf=\"http://www.w3.org/1999/02/22-rdf-syntax-ns#\" xmlns:sitemap=\"http://www.sitemaps.org/schemas/sitemap/0.9\" xmlns:soapenv=\"http://www.w3.org/2003/05/soap-envelope\" xmlns:srv=\"http://www.isotc211.org/2005/srv\" xmlns:xlink=\"http://www.w3.org/1999/xlink\" xmlns:xs=\"http://www.w3.org/2001/XMLSchema\" xmlns:xsi=\"http://www.w3.org/2001/XMLSchema-instance\">\n",
      "\t<dc:identifier>roms_hiomsag_forecast</dc:identifier>\n",
      "\t<dc:title>Regional Ocean Modeling System (ROMS): Waikiki</dc:title>\n",
      "\t<dc:type>dataset</dc:type>\n",
      "\t<dc:subject>Earth Science Services &gt; Models &gt; Ocean General Circulation Models (OGCM)/Regional Ocean Models</dc:subject>\n",
      "\t<dc:subject>Earth Science Services &gt; Models &gt; Weather Research/Forecast Models</dc:subject>\n",
      "\t<dc:subject>Earth Science &gt; Oceans &gt; Ocean Optics &gt; Turbidity</dc:subject>\n",
      "\t<dc:subject>Earth Science &gt; Oceans &gt; Ocean Temperature &gt; Potential Temperature</dc:subject>\n",
      "\t<dc:subject>Earth Science &gt; Oceans &gt; Salinity/Density &gt; Salinity</dc:subject>\n",
      "\t<dc:subject>Earth Science &gt; Oceans &gt; Sea Surface Topography &gt; Sea Surface Height</dc:subject>\n",
      "\t<dc:subject>Earth Science &gt; Oceans &gt; Ocean Circulation &gt; Ocean Currents</dc:subject>\n",
      "\t<dc:subject>Continent &gt; North America &gt; United States Of America &gt; Hawaii</dc:subject>\n",
      "\t<dc:subject>Ocean &gt; Pacific Ocean &gt; Central Pacific Ocean &gt; Hawaiian Islands &gt; Oahu &gt; South Shore</dc:subject>\n",
      "\t<dc:subject>Ocean &gt; Pacific Ocean &gt; Central Pacific Ocean &gt; Hawaiian Islands &gt; Oahu &gt; Honolulu</dc:subject>\n",
      "\t<dc:subject>Ocean &gt; Pacific Ocean &gt; Central Pacific Ocean &gt; Hawaiian Islands &gt; Oahu &gt; Waikiki</dc:subject>\n",
      "\t<dc:subject>Pacific Islands Ocean Observing System (PacIOOS)</dc:subject>\n",
      "\t<dc:subject>Pacific Islands Ocean Observing System (PacIOOS)</dc:subject>\n",
      "\t<dc:subject>sea_binary_mask</dc:subject>\n",
      "\t<dc:subject>sea_surface_height</dc:subject>\n",
      "\t<dc:subject>eastward_sea_water_velocity</dc:subject>\n",
      "\t<dc:subject>northward_sea_water_velocity</dc:subject>\n",
      "\t<dc:subject>sea_water_potential_temperature</dc:subject>\n",
      "\t<dc:subject>sea_water_salinity</dc:subject>\n",
      "\t<dc:subject>sea_water_turbidity</dc:subject>\n",
      "\t<dc:subject>forecast_period</dc:subject>\n",
      "\t<dc:subject>latitude</dc:subject>\n",
      "\t<dc:subject>longitude</dc:subject>\n",
      "\t<dc:subject>depth</dc:subject>\n",
      "\t<dc:subject>time</dc:subject>\n",
      "\t<dc:subject>forecast_reference_time</dc:subject>\n",
      "\t<dct:references scheme=\"http\">http://oos.soest.hawaii.edu/thredds/catalog/hioos/roms_forec/hiomsag/catalog.html?dataset=hioos/roms_forec/hiomsag/ROMS_Waikiki_Regional_Ocean_Model_best.ncd</dct:references>\n",
      "\t<dct:references scheme=\"http\">http://oos.soest.hawaii.edu/thredds/dodsC/hioos/roms_forec/hiomsag/ROMS_Waikiki_Regional_Ocean_Model_best.ncd.html</dct:references>\n",
      "\t<dct:references scheme=\"http\">http://pacioos.org/voyager_dev/index.html?b=21.209486%2C-158.01104%2C21.373269%2C-157.7187&amp;t=h&amp;o=ofore:1:f:d9</dct:references>\n",
      "\t<dct:references scheme=\"http\">http://pacioos.org/currents/model-waikiki/</dct:references>\n",
      "\t<dct:references scheme=\"NOAA:LAS\">http://oos.soest.hawaii.edu/las/UI.vm?catid=hiroms_hiomsag&amp;dsid=hiroms_hiomsag&amp;varid=temp-hiroms_hiomsag</dct:references>\n",
      "\t<dct:references scheme=\"OPeNDAP:OPeNDAP\">http://oos.soest.hawaii.edu/thredds/dodsC/hioos/roms_forec/hiomsag/ROMS_Waikiki_Regional_Ocean_Model_best.ncd</dct:references>\n",
      "\t<dct:references scheme=\"OGC:WMS\">http://oos.soest.hawaii.edu/thredds/wms/hioos/roms_forec/hiomsag/ROMS_Waikiki_Regional_Ocean_Model_best.ncd?service=WMS&amp;version=1.3.0&amp;request=GetCapabilities</dct:references>\n",
      "\t<dct:references scheme=\"UNIDATA:NCSS\">http://oos.soest.hawaii.edu/thredds/ncss/hioos/roms_forec/hiomsag/ROMS_Waikiki_Regional_Ocean_Model_best.ncd/dataset.html</dct:references>\n",
      "\t<dc:relation/>\n",
      "\t<dct:modified>2016-09-13</dct:modified>\n",
      "\t<dct:abstract>Regional Ocean Modeling System (ROMS) 3-day, hourly forecast and 3-day, hourly hindcast for the region surrounding the Waikiki area of the island of Oahu at approximately 40-m resolution. Boundary conditions provided by the wider ROMS model for the region surrounding the south shore of the island of Oahu (ROMS_HIOMSG) at approximately 200-m resolution. Wave forcings generated by the Simulating WAves Nearshore (SWAN) regional wave model for the island of Oahu at approximately 500-m resolution. Atmospheric forcing generated by the Weather Research and Forecasting (WRF) model for the region surrounding the island of Oahu (WRF_OA) at approximately 1.5-km resolution. Tide forcing uses the Oregon State University (OSU) Tidal Prediction Software (OTPS) TOPEX/Poseidon global inverse solution (TPXO) to derive barotropic tidal elevation and velocity. Data are assimilated over the previous 3 days using all available observations to improve the model estimate of current ocean state (its nowcast) before forecasts are run. Assimilated observations may include satellite-based sea surface temperatures from MODIS, AVHRR, or OSTIA; satellite-based sea surface height from AVISO; surface currents from PacIOOS high-frequency radios (HFR); and in-situ water temperature and salinity profiles from ARGO floats and ocean glider autonomous underwater vehicles (AUV). While considerable effort has been made to implement all model components in a thorough, correct, and accurate manner, numerous sources of error are possible. As such, please use these data with the caution appropriate for any ocean related activity.</dct:abstract>\n",
      "\t<ows:BoundingBox crs=\"urn:x-ogc:def:crs:EPSG:6.11:4326\" dimensions=\"2\">\n",
      "\t\t<ows:LowerCorner>21.24 -157.92</ows:LowerCorner>\n",
      "\t\t<ows:UpperCorner>21.34 -157.81</ows:UpperCorner>\n",
      "\t</ows:BoundingBox>\n",
      "</csw:SummaryRecord>\n",
      "\n"
     ]
    }
   ],
   "source": [
    "import xml.dom.minidom\n",
    "\n",
    "xml = xml.dom.minidom.parseString(csw.records[choice].xml)\n",
    "\n",
    "print(xml.toprettyxml())"
   ]
  },
  {
   "cell_type": "markdown",
   "metadata": {},
   "source": [
    "Yuk!  That's why we use OWSlib!  :-)\n",
    "\n",
    "Now add contraint to return only records that have either the OPeNDAP or SOS service.  \n",
    "\n",
    "Let's first see what services are advertised:"
   ]
  },
  {
   "cell_type": "code",
   "execution_count": 9,
   "metadata": {
    "collapsed": false
   },
   "outputs": [
    {
     "name": "stdout",
     "output_type": "stream",
     "text": [
      "[None, 'ERDDAP OPeNDAP', 'ERDDAP tabledap,OPeNDAP,ERDDAP Subset', 'OPeNDAP:OPeNDAP', 'OPeNDAP:OPeNDAP,OGC:SOS', 'OPeNDAP:OPeNDAP,OGC:WMS,file', 'Open Geospatial Consortium Web Coverage Service (WCS),Open Geospatial Consortium Web Map Service (WMS),Open Geospatial Consortium Web Map Service - Cached (WMS-C)', 'Open Geospatial Consortium Web Feature Service (WFS),Open Geospatial Consortium Web Map Service (WMS)', 'Open Geospatial Consortium Web Feature Service (WFS),Open Geospatial Consortium Web Map Service (WMS),Open Geospatial Consortium Web Map Service - Cached (WMS-C)', 'Open Geospatial Consortium Web Map Service (WMS)', 'THREDDS OPeNDAP', 'THREDDS OPeNDAP,Open Geospatial Consortium Sensor Observation Service (SOS)', 'THREDDS OPeNDAP,Open Geospatial Consortium Sensor Observation Service (SOS),THREDDS HTTP Service', 'THREDDS OPeNDAP,Open Geospatial Consortium Web Coverage Service (WCS),Open Geospatial Consortium Sensor Observation Service (SOS),THREDDS NetCDF Subset Service', 'THREDDS OPeNDAP,Open Geospatial Consortium Web Coverage Service (WCS),Open Geospatial Consortium Web Map Service (WMS),THREDDS NetCDF Subset Service', 'THREDDS OPeNDAP,Open Geospatial Consortium Web Coverage Service (WCS),THREDDS NetCDF Subset Service', 'THREDDS OPeNDAP,Open Geospatial Consortium Web Map Service (WMS)', 'THREDDS OPeNDAP,Open Geospatial Consortium Web Map Service (WMS),THREDDS HTTP Service', 'THREDDS OPeNDAP,Open Geospatial Consortium Web Map Service (WMS),THREDDS NetCDF Subset Service', 'THREDDS OPeNDAP,THREDDS HTTP Service']\n"
     ]
    }
   ],
   "source": [
    "try:\n",
    "    csw.get_operation_by_name('GetDomain')\n",
    "    csw.getdomain('apiso:ServiceType', 'property')\n",
    "    print(csw.results['values'])\n",
    "except:\n",
    "    print('GetDomain not supported')"
   ]
  },
  {
   "cell_type": "code",
   "execution_count": 10,
   "metadata": {
    "collapsed": false
   },
   "outputs": [],
   "source": [
    "services = ['OPeNDAP', 'SOS']\n",
    "\n",
    "service_filt = fes.Or(\n",
    "    [fes.PropertyIsLike(propertyname='apiso:ServiceType',\n",
    "                        literal=('*%s*' % val),\n",
    "                        escapeChar='\\\\',\n",
    "                        wildCard='*',\n",
    "                        singleChar='?')\n",
    "     for val in services])\n",
    "\n",
    "filter_list = [fes.And([filter1, filter2, service_filt])]"
   ]
  },
  {
   "cell_type": "code",
   "execution_count": 11,
   "metadata": {
    "collapsed": false
   },
   "outputs": [
    {
     "name": "stdout",
     "output_type": "stream",
     "text": [
      "getting records 0 to 10\n",
      "CeNCOOS/Models/ROMS/California ROMS/California Coastal Regional Ocean Modeling System (ROMS) Forecast\n",
      "CeNCOOS/Models/ROMS/California ROMS/California Coastal Regional Ocean Modeling System (ROMS) Nowcast\n",
      "CeNCOOS/Models/ROMS/Monterey Bay ROMS (Oct 2010 to Jan 2013)/Monterey Bay (MB) Regional Ocean Modeling System (ROMS) Forecast\n",
      "Regional Ocean Modeling System (ROMS): CNMI\n",
      "Regional Ocean Modeling System (ROMS): CNMI: Data Assimilating\n",
      "Regional Ocean Modeling System (ROMS): Guam\n",
      "Regional Ocean Modeling System (ROMS): Main Hawaiian Islands\n",
      "Regional Ocean Modeling System (ROMS): Main Hawaiian Islands: Data Assimilating\n",
      "Regional Ocean Modeling System (ROMS): Oahu\n",
      "Regional Ocean Modeling System (ROMS): Oahu: Data Assimilating\n",
      "\n",
      "getting records 10 to 20\n",
      "Regional Ocean Modeling System (ROMS): Oahu: Data Assimilating\n",
      "Regional Ocean Modeling System (ROMS): Oahu South Shore\n",
      "Regional Ocean Modeling System (ROMS): Oregon Coast\n",
      "Regional Ocean Modeling System (ROMS): Samoa\n",
      "Regional Ocean Modeling System (ROMS): Samoa: Data Assimilating\n",
      "Regional Ocean Modeling System (ROMS): Waikiki\n",
      "ROMS/TOMS 3.0 - New Floria Shelf Application\n",
      "UCSC California Current System ROMS Nowcast 10km\n",
      "\n"
     ]
    }
   ],
   "source": [
    "startposition = 0\n",
    "\n",
    "while True:\n",
    "    print('getting records %d to %d' % (startposition, startposition+pagesize))\n",
    "    csw.getrecords2(constraints=filter_list,\n",
    "                    startposition=startposition,\n",
    "                    maxrecords=pagesize,\n",
    "                    sortby=sortby)\n",
    "    for rec, item in csw.records.items():\n",
    "        print(item.title)\n",
    "    print()\n",
    "    if csw.results['nextrecord'] == 0:\n",
    "        break\n",
    "    startposition += pagesize\n",
    "    if startposition >= maxrecords:\n",
    "        break"
   ]
  },
  {
   "cell_type": "markdown",
   "metadata": {},
   "source": [
    "Let's try adding a search for a non-existant service, which should result in no records back:"
   ]
  },
  {
   "cell_type": "code",
   "execution_count": 12,
   "metadata": {
    "collapsed": false
   },
   "outputs": [
    {
     "name": "stdout",
     "output_type": "stream",
     "text": [
      "Found 0 records.\n",
      "\n"
     ]
    }
   ],
   "source": [
    "val = 'not_a_real_service'\n",
    "\n",
    "filter3 = fes.PropertyIsLike(\n",
    "    propertyname='apiso:ServiceType',\n",
    "    literal=('*%s*' % val),\n",
    "    escapeChar='\\\\',\n",
    "    wildCard='*',\n",
    "    singleChar='?'\n",
    ")\n",
    "\n",
    "filter_list = [fes.And([filter1, filter2, filter3])]\n",
    "\n",
    "csw.getrecords2(constraints=filter_list, maxrecords=100, esn='full')\n",
    "\n",
    "print('Found {} records.\\n'.format(len(csw.records.keys())))\n",
    "for key, value in list(csw.records.items()):\n",
    "    print('[{}]: {}'.format(value.title, key))"
   ]
  },
  {
   "cell_type": "markdown",
   "metadata": {
    "collapsed": true
   },
   "source": [
    "Good!"
   ]
  },
  {
   "cell_type": "markdown",
   "metadata": {},
   "source": [
    "Now add bounding box constraint. To specify lon,lat order for bbox (which we want to do so that we can use the same bbox with either geoportal server or pycsw requests), we need to request the bounding box specifying the CRS84 coordinate reference system.   The CRS84 option is available in `pycsw 1.1.10`+. The ability to specify the `crs` in the bounding box request is available in `owslib 0.8.12`+.  For more info on the bounding box problem and how it was solved, see this [pycsw issue](https://github.com/geopython/pycsw/issues/287), this [geoportal server issue](https://github.com/Esri/geoportal-server/issues/124), and this [owslib issue](https://github.com/geopython/OWSLib/issues/201)"
   ]
  },
  {
   "cell_type": "code",
   "execution_count": 13,
   "metadata": {
    "collapsed": false
   },
   "outputs": [
    {
     "name": "stdout",
     "output_type": "stream",
     "text": [
      "getting records 0 to 10\n",
      "Regional Ocean Modeling System (ROMS): Main Hawaiian Islands\n",
      "Regional Ocean Modeling System (ROMS): Main Hawaiian Islands: Data Assimilating\n",
      "Regional Ocean Modeling System (ROMS): Oahu\n",
      "Regional Ocean Modeling System (ROMS): Oahu: Data Assimilating\n",
      "Regional Ocean Modeling System (ROMS): Oahu South Shore\n",
      "Regional Ocean Modeling System (ROMS): Waikiki\n",
      "\n"
     ]
    }
   ],
   "source": [
    "# [lon_min, lat_min, lon_max, lat_max]\n",
    "bbox = [-158.4, 21.24, -157.5, 21.77]\n",
    "bbox_filter = fes.BBox(bbox, crs='urn:ogc:def:crs:OGC:1.3:CRS84')\n",
    "\n",
    "filter_list = [fes.And([filter1, filter2, service_filt, bbox_filter])]\n",
    "\n",
    "startposition = 0\n",
    "\n",
    "while True:\n",
    "    print('getting records %d to %d' % (startposition, startposition+pagesize))\n",
    "    csw.getrecords2(constraints=filter_list,\n",
    "                    startposition=startposition, maxrecords=pagesize, sortby=sortby)\n",
    "    for rec, item in csw.records.items():\n",
    "        print(item.title)\n",
    "    print()\n",
    "    if csw.results['nextrecord'] == 0:\n",
    "        break\n",
    "    startposition += pagesize\n",
    "    if startposition >= maxrecords:\n",
    "        break"
   ]
  },
  {
   "cell_type": "markdown",
   "metadata": {},
   "source": [
    "Now add time contraints.  Here we first define a function that will return records if any data in the records overlaps the specified time period"
   ]
  },
  {
   "cell_type": "code",
   "execution_count": 14,
   "metadata": {
    "collapsed": true
   },
   "outputs": [],
   "source": [
    "def date_range(start, stop, constraint='overlaps'):\n",
    "    \"\"\"\n",
    "    Take start and stop datetime objects and return a `fes.PropertyIs<>` filter.\n",
    "\n",
    "    \"\"\"\n",
    "    start = start.strftime('%Y-%m-%d %H:%M')\n",
    "    stop = stop.strftime('%Y-%m-%d %H:%M')\n",
    "\n",
    "    if constraint == 'overlaps':\n",
    "        begin = fes.PropertyIsLessThanOrEqualTo(\n",
    "            propertyname='apiso:TempExtent_begin', literal=stop\n",
    "        )\n",
    "        end = fes.PropertyIsGreaterThanOrEqualTo(\n",
    "            propertyname='apiso:TempExtent_end', literal=start\n",
    "        )\n",
    "    elif constraint == 'within':\n",
    "        begin = fes.PropertyIsGreaterThanOrEqualTo(\n",
    "            propertyname='apiso:TempExtent_begin', literal=start\n",
    "        )\n",
    "        end = fes.PropertyIsLessThanOrEqualTo(\n",
    "            propertyname='apiso:TempExtent_end', literal=stop\n",
    "        )\n",
    "    return begin, end"
   ]
  },
  {
   "cell_type": "code",
   "execution_count": 15,
   "metadata": {
    "collapsed": false
   },
   "outputs": [
    {
     "name": "stdout",
     "output_type": "stream",
     "text": [
      "2016-09-11 22:01:26.923984 to 2016-09-17 22:01:26.923984\n"
     ]
    }
   ],
   "source": [
    "from datetime import datetime, timedelta\n",
    "\n",
    "now = datetime.utcnow()\n",
    "start = now - timedelta(days=3)\n",
    "stop = now + timedelta(days=3)\n",
    "\n",
    "print('{} to {}'.format(start, stop))\n",
    "\n",
    "start, stop = date_range(start, stop)"
   ]
  },
  {
   "cell_type": "code",
   "execution_count": 16,
   "metadata": {
    "collapsed": false,
    "scrolled": true
   },
   "outputs": [
    {
     "name": "stdout",
     "output_type": "stream",
     "text": [
      "getting records 0 to 10\n",
      "Regional Ocean Modeling System (ROMS): Main Hawaiian Islands\n",
      "Regional Ocean Modeling System (ROMS): Main Hawaiian Islands: Data Assimilating\n",
      "Regional Ocean Modeling System (ROMS): Oahu\n",
      "Regional Ocean Modeling System (ROMS): Oahu: Data Assimilating\n",
      "Regional Ocean Modeling System (ROMS): Oahu South Shore\n",
      "Regional Ocean Modeling System (ROMS): Waikiki\n",
      "\n"
     ]
    }
   ],
   "source": [
    "filter_list = [fes.And([filter1, filter2, service_filt, bbox_filter, start, stop])]\n",
    "\n",
    "startposition = 0\n",
    "while True:\n",
    "    print('getting records %d to %d' % (startposition, startposition+pagesize))\n",
    "    csw.getrecords2(constraints=filter_list,\n",
    "                    startposition=startposition,\n",
    "                    maxrecords=pagesize,\n",
    "                    sortby=sortby)\n",
    "    for rec, item in csw.records.items():\n",
    "        print(item.title)\n",
    "    print()\n",
    "    if csw.results['nextrecord'] == 0:\n",
    "        break\n",
    "    startposition += pagesize\n",
    "    if startposition >= maxrecords:\n",
    "        break"
   ]
  },
  {
   "cell_type": "markdown",
   "metadata": {},
   "source": [
    "Now add a NOT filter to eliminate some entries"
   ]
  },
  {
   "cell_type": "code",
   "execution_count": 17,
   "metadata": {
    "collapsed": false
   },
   "outputs": [],
   "source": [
    "kw = dict(\n",
    "    wildCard='*',\n",
    "    escapeChar='\\\\',\n",
    "    singleChar='?',\n",
    "    propertyname='apiso:AnyText')\n",
    "\n",
    "not_filt = fes.Not([fes.PropertyIsLike(literal='*Waikiki*', **kw)])"
   ]
  },
  {
   "cell_type": "code",
   "execution_count": 18,
   "metadata": {
    "collapsed": false
   },
   "outputs": [
    {
     "name": "stdout",
     "output_type": "stream",
     "text": [
      "getting records 0 to 10\n",
      "Regional Ocean Modeling System (ROMS): Main Hawaiian Islands\n",
      "Regional Ocean Modeling System (ROMS): Main Hawaiian Islands: Data Assimilating\n",
      "Regional Ocean Modeling System (ROMS): Oahu\n",
      "Regional Ocean Modeling System (ROMS): Oahu: Data Assimilating\n",
      "\n"
     ]
    }
   ],
   "source": [
    "filter_list = [fes.And([filter1, filter2, service_filt, bbox_filter, start, stop, not_filt])]\n",
    "\n",
    "startposition = 0\n",
    "while True:\n",
    "    print('getting records %d to %d' % (startposition, startposition+pagesize))\n",
    "    csw.getrecords2(constraints=filter_list,\n",
    "                    startposition=startposition, maxrecords=pagesize, sortby=sortby)\n",
    "    for rec, item in csw.records.items():\n",
    "        print(item.title)\n",
    "    print()\n",
    "    if csw.results['nextrecord'] == 0:\n",
    "        break\n",
    "    startposition += pagesize\n",
    "    if startposition >= maxrecords:\n",
    "        break"
   ]
  },
  {
   "cell_type": "markdown",
   "metadata": {},
   "source": [
    "Hopefully this notebook demonstrated some of the power (and complexity) of CSW!  ;-)"
   ]
  }
 ],
 "metadata": {
  "kernelspec": {
   "display_name": "Python [default]",
   "language": "python",
   "name": "python3"
  },
  "language_info": {
   "codemirror_mode": {
    "name": "ipython",
    "version": 3
   },
   "file_extension": ".py",
   "mimetype": "text/x-python",
   "name": "python",
   "nbconvert_exporter": "python",
   "pygments_lexer": "ipython3",
   "version": "3.5.2"
  }
 },
 "nbformat": 4,
 "nbformat_minor": 0
}
