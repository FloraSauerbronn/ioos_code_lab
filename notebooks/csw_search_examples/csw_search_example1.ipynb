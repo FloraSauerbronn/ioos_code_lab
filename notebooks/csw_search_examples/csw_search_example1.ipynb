{
 "cells": [
  {
   "cell_type": "markdown",
   "metadata": {
    "collapsed": true
   },
   "source": [
    "# Demonstrate some CSW query capabilities "
   ]
  },
  {
   "cell_type": "markdown",
   "metadata": {},
   "source": [
    "We will use the owslib library to construct queries and parse responses from CSW"
   ]
  },
  {
   "cell_type": "code",
   "execution_count": 1,
   "metadata": {
    "collapsed": false
   },
   "outputs": [],
   "source": [
    "from owslib.csw import CatalogueServiceWeb\n",
    "from owslib import fes\n",
    "import numpy as np"
   ]
  },
  {
   "cell_type": "markdown",
   "metadata": {},
   "source": [
    "Specify a CSW endpoint.  You can test if it's working with a getCapabilities request:  \n",
    "```\n",
    "<endpoint>?request=GetCapabilities&service=CSW\n",
    "```\n",
    "for example:\n",
    "```\n",
    "http://catalog.data.gov/csw-all?service=CSW&version=2.0.2&request=GetCapabilities\n",
    "```"
   ]
  },
  {
   "cell_type": "code",
   "execution_count": 2,
   "metadata": {
    "collapsed": false
   },
   "outputs": [
    {
     "name": "stdout",
     "output_type": "stream",
     "text": [
      "2.0.2\n"
     ]
    }
   ],
   "source": [
    "#endpoint = 'http://catalog.data.gov/csw-all'  #granule level production catalog\n",
    "#endpoint = 'https://data.ioos.us/csw'\n",
    "endpoint = 'https://dev-catalog.ioos.us/csw'\n",
    "#endpoint = 'http://geoport.whoi.edu/csw'\n",
    "#endpoint = 'http://www.ngdc.noaa.gov/geoportal/csw'\n",
    "csw = CatalogueServiceWeb(endpoint,timeout=60)\n",
    "print csw.version"
   ]
  },
  {
   "cell_type": "code",
   "execution_count": 3,
   "metadata": {
    "collapsed": false,
    "scrolled": true
   },
   "outputs": [
    {
     "name": "stdout",
     "output_type": "stream",
     "text": [
      "10\n",
      "PacIOOS Water Quality Buoy 03: Kiholo Bay, Big Island, Hawaii\n",
      "UCSC294-20150430T2218\n",
      "ud_134-20150122T1955\n",
      "PacIOOS Nearshore Sensor 09: Cetti Bay, Guam\n",
      "PacIOOS Nearshore Sensor 15: Pago Bay, Guam\n",
      "PacIOOS Nearshore Sensor 10: Maunalua Bay, Oahu, Hawaii\n",
      "HRECOS Aggregated Station HRPVSC Data\n",
      "None\n",
      "None\n",
      "Alaska Regional Data Portal For US Integrated Ocean Observing System\n"
     ]
    }
   ],
   "source": [
    "val = 'sea_water_salinity'\n",
    "#val = 'NODC'\n",
    "filter1 = fes.PropertyIsLike(propertyname='apiso:AnyText',literal=('*%s*' % val),\n",
    "                        escapeChar='\\\\',wildCard='*',singleChar='?')\n",
    "filter_list = [ filter1 ]\n",
    "csw.getrecords2(constraints=filter_list,maxrecords=100,esn='full')\n",
    "print len(csw.records.keys())\n",
    "for rec in list(csw.records.keys()):\n",
    "    print csw.records[rec].title "
   ]
  },
  {
   "cell_type": "markdown",
   "metadata": {},
   "source": [
    "Hmmm..... In the query above, we only get 10 records, even though we specified maxrecords=100.  \n",
    "\n",
    "What's up with that?\n",
    "\n",
    "Turns out the CSW service specified a MaxRecordDefault that cannot be exceeded.\n",
    "For example, checking: https://dev-catalog.ioos.us/csw?request=GetCapabilities&service=CSW we find:\n",
    "```\n",
    "<ows:Constraint name=\"MaxRecordDefault\">\n",
    "    <ows:Value>10</ows:Value>\n",
    "</ows:Constraint>\n",
    "```\n",
    "So we need to loop the getrecords request, incrementing the startposition:"
   ]
  },
  {
   "cell_type": "code",
   "execution_count": 4,
   "metadata": {
    "collapsed": true
   },
   "outputs": [],
   "source": [
    "from owslib.fes import SortBy, SortProperty\n",
    "pagesize = 10\n",
    "sort_property = 'dc:title'  # a supported queryable of the CSW\n",
    "sort_order = 'ASC'  # should be 'ASC' or 'DESC' (ascending or descending)\n",
    "maxrecords = 50\n",
    "sortby = SortBy([SortProperty(sort_property, sort_order)])"
   ]
  },
  {
   "cell_type": "code",
   "execution_count": 5,
   "metadata": {
    "collapsed": false
   },
   "outputs": [
    {
     "name": "stdout",
     "output_type": "stream",
     "text": [
      "getting records 0 to 10\n",
      "Alaska Regional Data Portal For US Integrated Ocean Observing System\n",
      "AOOS/Models/High-resolution Ice/Ocean Modeling and Assimilation System (HIOMAS)\n",
      "Arctic Seas Regional Climatology : sea_water_temperature January 0.25 degree\n",
      "bass-20150706T151619Z\n",
      "bass-20150706T151619Z\n",
      "bass-20150827T1909\n",
      "bass-20150827T1909\n",
      "Bering Sea\n",
      "blue-20150627T1242\n",
      "blue-20150627T1242\n",
      "\n",
      "getting records 10 to 20\n",
      "blue-20150627T1242\n",
      "blue-20160518T1525\n",
      "blue-20160518T1525\n",
      "blue-20160818T1448\n",
      "CariCOOS Realtime Buoy Observations\n",
      "CariCOOS Realtime Buoy Observations\n",
      "CeNCOOS/Models/ROMS/California ROMS/California Coastal Regional Ocean Modeling System (ROMS) Forecast\n",
      "CeNCOOS/Models/ROMS/California ROMS/California Coastal Regional Ocean Modeling System (ROMS) Nowcast\n",
      "CeNCOOS/Models/ROMS/Monterey Bay ROMS (Oct 2010 to Jan 2013)/Monterey Bay (MB) Regional Ocean Modeling System (ROMS) Forecast\n",
      "Central California Regional Data Portal For US Integrated Ocean Observing System\n",
      "\n",
      "getting records 20 to 30\n",
      "clark-20130821T2130\n",
      "clark-20130821T2130\n",
      "clark-20150709T1803\n",
      "clark-20150709T1803\n",
      "clark-20160624T1800\n",
      "EASTCOAST-3D-NAM/Forecast Model Run Collection (2D time coordinates)\n",
      "Fort_Point/sea_water_practical_salinity.nc\n",
      "GCOOS Data Portal\n",
      "Gichigami-20110629T1821\n",
      "Gichigami-20110629T1821\n",
      "\n",
      "getting records 30 to 40\n",
      "gichigami-20110630T2049\n",
      "gichigami-20110630T2049\n",
      "gichigami-20110701T0123\n",
      "gichigami-20110701T0123\n",
      "gichigami-20110701T1556\n",
      "gichigami-20110701T1556\n",
      "gichigami-20110702T1048\n",
      "gichigami-20110702T1048\n",
      "gichigami-20110703T0859\n",
      "gichigami-20110703T0859\n",
      "\n",
      "getting records 40 to 50\n",
      "gichigami-20110704T0352\n",
      "gichigami-20110704T0352\n",
      "gichigami-20110705T1936\n",
      "gichigami-20110705T1936\n",
      "gichigami-20110706T1754\n",
      "gichigami-20110706T1754\n",
      "gichigami-20110707T0056\n",
      "gichigami-20110707T0056\n",
      "Gichigami-20111129T2109\n",
      "Gichigami-20111129T2109\n",
      "\n"
     ]
    }
   ],
   "source": [
    "startposition = 0\n",
    "while True:\n",
    "    print 'getting records %d to %d' % (startposition, startposition+pagesize)\n",
    "    csw.getrecords2(constraints=filter_list,\n",
    "                    startposition=startposition, maxrecords=pagesize, sortby=sortby)\n",
    "    for rec,item in csw.records.iteritems():\n",
    "        print(item.title)\n",
    "    print\n",
    "    if csw.results['nextrecord'] == 0:\n",
    "        break\n",
    "    startposition += pagesize\n",
    "    if startposition >= maxrecords:\n",
    "        break"
   ]
  },
  {
   "cell_type": "markdown",
   "metadata": {},
   "source": [
    "Okay, now lets add another query filter and add it to the first one"
   ]
  },
  {
   "cell_type": "code",
   "execution_count": 6,
   "metadata": {
    "collapsed": false
   },
   "outputs": [],
   "source": [
    "val = 'ROMS'\n",
    "#val = '0115145'\n",
    "filter2 = fes.PropertyIsLike(propertyname='apiso:AnyText',literal=('*%s*' % val),\n",
    "                        escapeChar='\\\\',wildCard='*',singleChar='?')\n",
    "filter_list = [fes.And([filter1, filter2])] "
   ]
  },
  {
   "cell_type": "code",
   "execution_count": 7,
   "metadata": {
    "collapsed": false
   },
   "outputs": [
    {
     "name": "stdout",
     "output_type": "stream",
     "text": [
      "getting records 0 to 10\n",
      "CeNCOOS/Models/ROMS/California ROMS/California Coastal Regional Ocean Modeling System (ROMS) Forecast\n",
      "CeNCOOS/Models/ROMS/California ROMS/California Coastal Regional Ocean Modeling System (ROMS) Nowcast\n",
      "CeNCOOS/Models/ROMS/Monterey Bay ROMS (Oct 2010 to Jan 2013)/Monterey Bay (MB) Regional Ocean Modeling System (ROMS) Forecast\n",
      "Regional Ocean Modeling System (ROMS): CNMI\n",
      "Regional Ocean Modeling System (ROMS): CNMI: Data Assimilating\n",
      "Regional Ocean Modeling System (ROMS): Guam\n",
      "Regional Ocean Modeling System (ROMS): Main Hawaiian Islands\n",
      "Regional Ocean Modeling System (ROMS): Main Hawaiian Islands: Data Assimilating\n",
      "Regional Ocean Modeling System (ROMS): Oahu\n",
      "Regional Ocean Modeling System (ROMS): Oahu: Data Assimilating\n",
      "\n",
      "getting records 10 to 20\n",
      "Regional Ocean Modeling System (ROMS): Oahu: Data Assimilating\n",
      "Regional Ocean Modeling System (ROMS): Oahu South Shore\n",
      "Regional Ocean Modeling System (ROMS): Oregon Coast\n",
      "Regional Ocean Modeling System (ROMS): Samoa\n",
      "Regional Ocean Modeling System (ROMS): Samoa: Data Assimilating\n",
      "Regional Ocean Modeling System (ROMS): Waikiki\n",
      "ROMS/TOMS 3.0 - New Floria Shelf Application\n",
      "UCSC California Current System ROMS Nowcast 10km\n",
      "\n"
     ]
    }
   ],
   "source": [
    "startposition = 0\n",
    "maxrecords = 50\n",
    "while True:\n",
    "    print 'getting records %d to %d' % (startposition, startposition+pagesize)\n",
    "    csw.getrecords2(constraints=filter_list,\n",
    "                    startposition=startposition, maxrecords=pagesize, sortby=sortby)\n",
    "    for rec,item in csw.records.iteritems():\n",
    "        print(item.title)\n",
    "    print\n",
    "    if csw.results['nextrecord'] == 0:\n",
    "        break\n",
    "    startposition += pagesize\n",
    "    if startposition >= maxrecords:\n",
    "        break"
   ]
  },
  {
   "cell_type": "code",
   "execution_count": 8,
   "metadata": {
    "collapsed": false
   },
   "outputs": [
    {
     "name": "stdout",
     "output_type": "stream",
     "text": [
      "Regional Ocean Modeling System (ROMS): Samoa\n"
     ]
    },
    {
     "data": {
      "text/plain": [
       "[{'scheme': 'http',\n",
       "  'url': 'http://oos.soest.hawaii.edu/thredds/catalog/pacioos/roms_forec/samoa/catalog.html?dataset=pacioos/roms_forec/samoa/ROMS_Samoa_Regional_Ocean_Model_best.ncd'},\n",
       " {'scheme': 'http',\n",
       "  'url': 'http://oos.soest.hawaii.edu/thredds/dodsC/pacioos/roms_forec/samoa/ROMS_Samoa_Regional_Ocean_Model_best.ncd.html'},\n",
       " {'scheme': 'http',\n",
       "  'url': 'http://pacioos.org/voyager/index.html?b=-16.732104%2C-176.081929%2C-11.233513%2C-166.727071&o=ofore:1:f:d8'},\n",
       " {'scheme': 'http', 'url': 'http://pacioos.org/currents/model-samoa/'},\n",
       " {'scheme': 'NOAA:LAS',\n",
       "  'url': 'http://oos.soest.hawaii.edu/las/UI.vm?catid=roms_samoa&dsid=roms_samoa&varid=temp-roms_samoa'},\n",
       " {'scheme': 'ERDDAP:griddap',\n",
       "  'url': 'http://oos.soest.hawaii.edu/erddap/griddap/ROMS_Samoa_Best.graph'},\n",
       " {'scheme': 'ERDDAP:griddap',\n",
       "  'url': 'http://oos.soest.hawaii.edu/erddap/griddap/ROMS_Samoa_SSH_Best.graph'},\n",
       " {'scheme': 'OPeNDAP:OPeNDAP',\n",
       "  'url': 'http://oos.soest.hawaii.edu/thredds/dodsC/pacioos/roms_forec/samoa/ROMS_Samoa_Regional_Ocean_Model_best.ncd'},\n",
       " {'scheme': 'OGC:WCS',\n",
       "  'url': 'http://oos.soest.hawaii.edu/thredds/wcs/pacioos/roms_forec/samoa/ROMS_Samoa_Regional_Ocean_Model_best.ncd?service=WCS&version=1.0.0&request=GetCapabilities'},\n",
       " {'scheme': 'OGC:WMS',\n",
       "  'url': 'http://oos.soest.hawaii.edu/thredds/wms/pacioos/roms_forec/samoa/ROMS_Samoa_Regional_Ocean_Model_best.ncd?service=WMS&version=1.3.0&request=GetCapabilities'},\n",
       " {'scheme': 'UNIDATA:NCSS',\n",
       "  'url': 'http://oos.soest.hawaii.edu/thredds/ncss/pacioos/roms_forec/samoa/ROMS_Samoa_Regional_Ocean_Model_best.ncd/dataset.html'}]"
      ]
     },
     "execution_count": 8,
     "metadata": {},
     "output_type": "execute_result"
    }
   ],
   "source": [
    "choice=np.random.choice(list(csw.records.keys()))\n",
    "print(csw.records[choice].title)\n",
    "csw.records[choice].references"
   ]
  },
  {
   "cell_type": "markdown",
   "metadata": {},
   "source": [
    "Lets see what the full XML record looks like"
   ]
  },
  {
   "cell_type": "code",
   "execution_count": 9,
   "metadata": {
    "collapsed": false
   },
   "outputs": [
    {
     "data": {
      "text/plain": [
       "'<csw:SummaryRecord xmlns:csw=\"http://www.opengis.net/cat/csw/2.0.2\" xmlns:dc=\"http://purl.org/dc/elements/1.1/\" xmlns:inspire_common=\"http://inspire.ec.europa.eu/schemas/common/1.0\" xmlns:atom=\"http://www.w3.org/2005/Atom\" xmlns:xs=\"http://www.w3.org/2001/XMLSchema\" xmlns:dct=\"http://purl.org/dc/terms/\" xmlns:ows=\"http://www.opengis.net/ows\" xmlns:apiso=\"http://www.opengis.net/cat/csw/apiso/1.0\" xmlns:gml=\"http://www.opengis.net/gml\" xmlns:dif=\"http://gcmd.gsfc.nasa.gov/Aboutus/xml/dif/\" xmlns:xlink=\"http://www.w3.org/1999/xlink\" xmlns:gco=\"http://www.isotc211.org/2005/gco\" xmlns:gmd=\"http://www.isotc211.org/2005/gmd\" xmlns:rdf=\"http://www.w3.org/1999/02/22-rdf-syntax-ns#\" xmlns:srv=\"http://www.isotc211.org/2005/srv\" xmlns:ogc=\"http://www.opengis.net/ogc\" xmlns:fgdc=\"http://www.opengis.net/cat/csw/csdgm\" xmlns:inspire_ds=\"http://inspire.ec.europa.eu/schemas/inspire_ds/1.0\" xmlns:xsi=\"http://www.w3.org/2001/XMLSchema-instance\" xmlns:os=\"http://a9.com/-/spec/opensearch/1.1/\" xmlns:soapenv=\"http://www.w3.org/2003/05/soap-envelope\" xmlns:sitemap=\"http://www.sitemaps.org/schemas/sitemap/0.9\"><dc:identifier>roms_samoa_forecast</dc:identifier><dc:title>Regional Ocean Modeling System (ROMS): Samoa</dc:title><dc:type>dataset</dc:type><dc:subject>Earth Science Services &gt; Models &gt; Ocean General Circulation Models (OGCM)/Regional Ocean Models</dc:subject><dc:subject>Earth Science Services &gt; Models &gt; Weather Research/Forecast Models</dc:subject><dc:subject>Earth Science &gt; Oceans &gt; Ocean Temperature &gt; Potential Temperature</dc:subject><dc:subject>Earth Science &gt; Oceans &gt; Salinity/Density &gt; Salinity</dc:subject><dc:subject>Earth Science &gt; Oceans &gt; Sea Surface Topography &gt; Sea Surface Height</dc:subject><dc:subject>Earth Science &gt; Oceans &gt; Ocean Circulation &gt; Ocean Currents</dc:subject><dc:subject>Ocean &gt; Pacific Ocean &gt; South Pacific Ocean &gt; Polynesia &gt; Samoa</dc:subject><dc:subject>Ocean &gt; Pacific Ocean &gt; South Pacific Ocean &gt; Polynesia &gt; American Samoa</dc:subject><dc:subject>Pacific Islands Ocean Observing System (PacIOOS)</dc:subject><dc:subject>Pacific Islands Ocean Observing System (PacIOOS)</dc:subject><dc:subject>sea_binary_mask</dc:subject><dc:subject>sea_surface_height</dc:subject><dc:subject>eastward_sea_water_velocity</dc:subject><dc:subject>northward_sea_water_velocity</dc:subject><dc:subject>sea_water_potential_temperature</dc:subject><dc:subject>sea_water_salinity</dc:subject><dc:subject>forecast_period</dc:subject><dc:subject>latitude</dc:subject><dc:subject>longitude</dc:subject><dc:subject>depth</dc:subject><dc:subject>time</dc:subject><dc:subject>forecast_reference_time</dc:subject><dct:references scheme=\"http\">http://oos.soest.hawaii.edu/thredds/catalog/pacioos/roms_forec/samoa/catalog.html?dataset=pacioos/roms_forec/samoa/ROMS_Samoa_Regional_Ocean_Model_best.ncd</dct:references><dct:references scheme=\"http\">http://oos.soest.hawaii.edu/thredds/dodsC/pacioos/roms_forec/samoa/ROMS_Samoa_Regional_Ocean_Model_best.ncd.html</dct:references><dct:references scheme=\"http\">http://pacioos.org/voyager/index.html?b=-16.732104%2C-176.081929%2C-11.233513%2C-166.727071&amp;o=ofore:1:f:d8</dct:references><dct:references scheme=\"http\">http://pacioos.org/currents/model-samoa/</dct:references><dct:references scheme=\"NOAA:LAS\">http://oos.soest.hawaii.edu/las/UI.vm?catid=roms_samoa&amp;dsid=roms_samoa&amp;varid=temp-roms_samoa</dct:references><dct:references scheme=\"ERDDAP:griddap\">http://oos.soest.hawaii.edu/erddap/griddap/ROMS_Samoa_Best.graph</dct:references><dct:references scheme=\"ERDDAP:griddap\">http://oos.soest.hawaii.edu/erddap/griddap/ROMS_Samoa_SSH_Best.graph</dct:references><dct:references scheme=\"OPeNDAP:OPeNDAP\">http://oos.soest.hawaii.edu/thredds/dodsC/pacioos/roms_forec/samoa/ROMS_Samoa_Regional_Ocean_Model_best.ncd</dct:references><dct:references scheme=\"OGC:WCS\">http://oos.soest.hawaii.edu/thredds/wcs/pacioos/roms_forec/samoa/ROMS_Samoa_Regional_Ocean_Model_best.ncd?service=WCS&amp;version=1.0.0&amp;request=GetCapabilities</dct:references><dct:references scheme=\"OGC:WMS\">http://oos.soest.hawaii.edu/thredds/wms/pacioos/roms_forec/samoa/ROMS_Samoa_Regional_Ocean_Model_best.ncd?service=WMS&amp;version=1.3.0&amp;request=GetCapabilities</dct:references><dct:references scheme=\"UNIDATA:NCSS\">http://oos.soest.hawaii.edu/thredds/ncss/pacioos/roms_forec/samoa/ROMS_Samoa_Regional_Ocean_Model_best.ncd/dataset.html</dct:references><dc:relation/><dct:modified>2016-09-01</dct:modified><dct:abstract>Regional Ocean Modeling System (ROMS) 7-day, 3-hourly forecast for the region surrounding the islands of Samoa at approximately 3-km resolution. Boundary conditions provided by the global, 1/12-degree (~9-km) HYbrid Coordinate Ocean Model (HYCOM). Atmospheric forcing generated by the Weather Research and Forecasting (WRF) model for the region surrounding the islands of Samoa (WRF_Samoa) at approximately 3-km resolution. Tide forcing uses the Oregon State University (OSU) Tidal Prediction Software (OTPS) TOPEX/Poseidon global inverse solution (TPXO) to derive barotropic tidal elevation and velocity. Data are assimilated over the previous 3 days using all available observations to improve the model estimate of current ocean state (its nowcast) before forecasts are run. Assimilated observations may include satellite-based sea surface temperatures from MODIS, AVHRR, or OSTIA; satellite-based sea surface height from AVISO; and in-situ water temperature and salinity profiles from ARGO floats. While considerable effort has been made to implement all model components in a thorough, correct, and accurate manner, numerous sources of error are possible. As such, please use these data with the caution appropriate for any ocean related activity.</dct:abstract><ows:BoundingBox crs=\"urn:x-ogc:def:crs:EPSG:6.11:4326\" dimensions=\"2\"><ows:LowerCorner>-15.5 -174.0</ows:LowerCorner><ows:UpperCorner>-12.5 -168.81</ows:UpperCorner></ows:BoundingBox></csw:SummaryRecord>'"
      ]
     },
     "execution_count": 9,
     "metadata": {},
     "output_type": "execute_result"
    }
   ],
   "source": [
    "csw.records[choice].xml"
   ]
  },
  {
   "cell_type": "markdown",
   "metadata": {},
   "source": [
    "Yuk!  That's why we use OWSlib!  :-)\n",
    "\n",
    "Now add contraint to return only records that have either the OPeNDAP or SOS service.  \n",
    "\n",
    "Let's first see what services are advertised:"
   ]
  },
  {
   "cell_type": "code",
   "execution_count": 10,
   "metadata": {
    "collapsed": false
   },
   "outputs": [
    {
     "name": "stdout",
     "output_type": "stream",
     "text": [
      "[None, 'ERDDAP OPeNDAP', 'ERDDAP tabledap,OPeNDAP,ERDDAP Subset', 'OPeNDAP:OPeNDAP', 'OPeNDAP:OPeNDAP,OGC:SOS', 'OPeNDAP:OPeNDAP,OGC:WMS,file', 'Open Geospatial Consortium Web Coverage Service (WCS),Open Geospatial Consortium Web Map Service (WMS),Open Geospatial Consortium Web Map Service - Cached (WMS-C)', 'Open Geospatial Consortium Web Feature Service (WFS),Open Geospatial Consortium Web Map Service (WMS)', 'Open Geospatial Consortium Web Feature Service (WFS),Open Geospatial Consortium Web Map Service (WMS),Open Geospatial Consortium Web Map Service - Cached (WMS-C)', 'Open Geospatial Consortium Web Map Service (WMS)', 'THREDDS OPeNDAP', 'THREDDS OPeNDAP,Open Geospatial Consortium Sensor Observation Service (SOS)', 'THREDDS OPeNDAP,Open Geospatial Consortium Sensor Observation Service (SOS),THREDDS HTTP Service', 'THREDDS OPeNDAP,Open Geospatial Consortium Web Coverage Service (WCS),Open Geospatial Consortium Sensor Observation Service (SOS),THREDDS NetCDF Subset Service', 'THREDDS OPeNDAP,Open Geospatial Consortium Web Coverage Service (WCS),Open Geospatial Consortium Web Map Service (WMS),THREDDS NetCDF Subset Service', 'THREDDS OPeNDAP,Open Geospatial Consortium Web Coverage Service (WCS),THREDDS NetCDF Subset Service', 'THREDDS OPeNDAP,Open Geospatial Consortium Web Map Service (WMS)', 'THREDDS OPeNDAP,Open Geospatial Consortium Web Map Service (WMS),THREDDS HTTP Service', 'THREDDS OPeNDAP,Open Geospatial Consortium Web Map Service (WMS),THREDDS NetCDF Subset Service', 'THREDDS OPeNDAP,THREDDS HTTP Service']\n"
     ]
    }
   ],
   "source": [
    "try:\n",
    "    csw.get_operation_by_name('GetDomain')\n",
    "    csw.getdomain('apiso:ServiceType', 'property')\n",
    "    print(csw.results['values'])\n",
    "except:\n",
    "    print('GetDomain not supported')"
   ]
  },
  {
   "cell_type": "code",
   "execution_count": 11,
   "metadata": {
    "collapsed": false
   },
   "outputs": [],
   "source": [
    "#val = 'OPeNDAP'\n",
    "#val = 'SOS'\n",
    "#filter3 = fes.PropertyIsLike(propertyname='apiso:ServiceType',literal=('*%s*' % val),\n",
    "#                        escapeChar='\\\\',wildCard='*',singleChar='?')\n",
    "\n",
    "services = ['OPeNDAP','SOS'] \n",
    "service_filt = fes.Or([fes.PropertyIsLike(propertyname='apiso:ServiceType',literal=('*%s*' % val),\n",
    "                    escapeChar='\\\\',wildCard='*',singleChar='?') for val in services])\n",
    "    \n",
    "#filter_list = [fes.And([filter1, filter2, filter3])]\n",
    "filter_list = [fes.And([filter1, filter2, service_filt])]"
   ]
  },
  {
   "cell_type": "code",
   "execution_count": 12,
   "metadata": {
    "collapsed": false
   },
   "outputs": [
    {
     "name": "stdout",
     "output_type": "stream",
     "text": [
      "getting records 0 to 10\n",
      "CeNCOOS/Models/ROMS/California ROMS/California Coastal Regional Ocean Modeling System (ROMS) Forecast\n",
      "CeNCOOS/Models/ROMS/California ROMS/California Coastal Regional Ocean Modeling System (ROMS) Nowcast\n",
      "CeNCOOS/Models/ROMS/Monterey Bay ROMS (Oct 2010 to Jan 2013)/Monterey Bay (MB) Regional Ocean Modeling System (ROMS) Forecast\n",
      "Regional Ocean Modeling System (ROMS): CNMI\n",
      "Regional Ocean Modeling System (ROMS): CNMI: Data Assimilating\n",
      "Regional Ocean Modeling System (ROMS): Guam\n",
      "Regional Ocean Modeling System (ROMS): Main Hawaiian Islands\n",
      "Regional Ocean Modeling System (ROMS): Main Hawaiian Islands: Data Assimilating\n",
      "Regional Ocean Modeling System (ROMS): Oahu\n",
      "Regional Ocean Modeling System (ROMS): Oahu: Data Assimilating\n",
      "\n",
      "getting records 10 to 20\n",
      "Regional Ocean Modeling System (ROMS): Oahu: Data Assimilating\n",
      "Regional Ocean Modeling System (ROMS): Oahu South Shore\n",
      "Regional Ocean Modeling System (ROMS): Oregon Coast\n",
      "Regional Ocean Modeling System (ROMS): Samoa\n",
      "Regional Ocean Modeling System (ROMS): Samoa: Data Assimilating\n",
      "Regional Ocean Modeling System (ROMS): Waikiki\n",
      "ROMS/TOMS 3.0 - New Floria Shelf Application\n",
      "UCSC California Current System ROMS Nowcast 10km\n",
      "\n"
     ]
    }
   ],
   "source": [
    "startposition = 0\n",
    "while True:\n",
    "    print 'getting records %d to %d' % (startposition, startposition+pagesize)\n",
    "    csw.getrecords2(constraints=filter_list,\n",
    "                    startposition=startposition, maxrecords=pagesize, sortby=sortby)\n",
    "    for rec,item in csw.records.iteritems():\n",
    "        print(item.title)\n",
    "    print\n",
    "    if csw.results['nextrecord'] == 0:\n",
    "        break\n",
    "    startposition += pagesize\n",
    "    if startposition >= maxrecords:\n",
    "        break  "
   ]
  },
  {
   "cell_type": "markdown",
   "metadata": {},
   "source": [
    "Let's try adding a search for a non-existant service, which should result in no records back:"
   ]
  },
  {
   "cell_type": "code",
   "execution_count": 13,
   "metadata": {
    "collapsed": false
   },
   "outputs": [
    {
     "name": "stdout",
     "output_type": "stream",
     "text": [
      "0\n"
     ]
    }
   ],
   "source": [
    "val = 'not_a_real_service'\n",
    "filter3 = fes.PropertyIsLike(propertyname='apiso:ServiceType',literal=('*%s*' % val),\n",
    "                        escapeChar='\\\\',wildCard='*',singleChar='?')\n",
    "filter_list = [fes.And([filter1, filter2, filter3])]\n",
    "\n",
    "csw.getrecords2(constraints=filter_list,maxrecords=100,esn='full')\n",
    "print len(csw.records.keys())\n",
    "for rec in list(csw.records.keys()):\n",
    "    print csw.records[rec].title "
   ]
  },
  {
   "cell_type": "markdown",
   "metadata": {
    "collapsed": true
   },
   "source": [
    "Good!"
   ]
  },
  {
   "cell_type": "markdown",
   "metadata": {},
   "source": [
    "Now add bounding box constraint. To specify lon,lat order for bbox (which we want to do so that we can use the same bbox with either geoportal server or pycsw requests), we need to request the bounding box specifying the CRS84 coordinate reference system.   The CRS84 option is available in `pycsw 1.1.10`+. The ability to specify the `crs` in the bounding box request is available in `owslib 0.8.12`+.  For more info on the bounding box problem and how it was solved, see this [pycsw issue](https://github.com/geopython/pycsw/issues/287), this [geoportal server issue](https://github.com/Esri/geoportal-server/issues/124), and this [owslib issue](https://github.com/geopython/OWSLib/issues/201)"
   ]
  },
  {
   "cell_type": "code",
   "execution_count": 14,
   "metadata": {
    "collapsed": false
   },
   "outputs": [
    {
     "name": "stdout",
     "output_type": "stream",
     "text": [
      "getting records 0 to 10\n",
      "Regional Ocean Modeling System (ROMS): Main Hawaiian Islands\n",
      "Regional Ocean Modeling System (ROMS): Main Hawaiian Islands: Data Assimilating\n",
      "Regional Ocean Modeling System (ROMS): Oahu\n",
      "Regional Ocean Modeling System (ROMS): Oahu: Data Assimilating\n",
      "Regional Ocean Modeling System (ROMS): Oahu South Shore\n",
      "Regional Ocean Modeling System (ROMS): Waikiki\n",
      "\n"
     ]
    }
   ],
   "source": [
    "bbox = [-158.4, 21.24, -157.5, 21.77]    # [lon_min, lat_min, lon_max, lat_max]\n",
    "bbox_filter = fes.BBox(bbox,crs='urn:ogc:def:crs:OGC:1.3:CRS84')\n",
    "filter_list = [fes.And([filter1, filter2, service_filt, bbox_filter])]\n",
    "\n",
    "startposition = 0\n",
    "while True:\n",
    "    print 'getting records %d to %d' % (startposition, startposition+pagesize)\n",
    "    csw.getrecords2(constraints=filter_list,\n",
    "                    startposition=startposition, maxrecords=pagesize, sortby=sortby)\n",
    "    for rec,item in csw.records.iteritems():\n",
    "        print(item.title)\n",
    "    print\n",
    "    if csw.results['nextrecord'] == 0:\n",
    "        break\n",
    "    startposition += pagesize\n",
    "    if startposition >= maxrecords:\n",
    "        break  "
   ]
  },
  {
   "cell_type": "markdown",
   "metadata": {},
   "source": [
    "Now add time contraints.  Here we first define a function that will return records if any data in the records overlaps the specified time period"
   ]
  },
  {
   "cell_type": "code",
   "execution_count": 15,
   "metadata": {
    "collapsed": true
   },
   "outputs": [],
   "source": [
    "def dateRange(start_date='1900-01-01',stop_date='2100-01-01',constraint='overlaps'):\n",
    "    if constraint == 'overlaps':\n",
    "        start = fes.PropertyIsLessThanOrEqualTo(propertyname='apiso:TempExtent_begin', literal=stop_date)\n",
    "        stop = fes.PropertyIsGreaterThanOrEqualTo(propertyname='apiso:TempExtent_end', literal=start_date)\n",
    "    elif constraint == 'within':\n",
    "        start = fes.PropertyIsGreaterThanOrEqualTo(propertyname='apiso:TempExtent_begin', literal=start_date)\n",
    "        stop = fes.PropertyIsLessThanOrEqualTo(propertyname='apiso:TempExtent_end', literal=stop_date)\n",
    "    return start,stop"
   ]
  },
  {
   "cell_type": "code",
   "execution_count": 16,
   "metadata": {
    "collapsed": false
   },
   "outputs": [
    {
     "name": "stdout",
     "output_type": "stream",
     "text": [
      "('2016-08-30 15:00', 'to', '2016-09-05 15:00')\n"
     ]
    }
   ],
   "source": [
    "import datetime as dt\n",
    "# 2014 recent\n",
    "jd_start = dt.datetime(1988,1,1)\n",
    "jd_stop = dt.datetime(1988,3,1)\n",
    "\n",
    "# 2011 \n",
    "#jd_start = dt.datetime(2013,4,20)\n",
    "#jd_stop = dt.datetime(2013,4,24)\n",
    "\n",
    "# ... or relative to now\n",
    "jd_now = dt.datetime.utcnow()\n",
    "jd_start = jd_now - dt.timedelta(days=3)\n",
    "jd_stop = jd_now + dt.timedelta(days=3)\n",
    "\n",
    "start_date = jd_start.strftime('%Y-%m-%d %H:00')\n",
    "stop_date  = jd_stop.strftime('%Y-%m-%d %H:00')\n",
    "\n",
    "jd_start = dt.datetime.strptime(start_date,'%Y-%m-%d %H:%M')\n",
    "jd_stop = dt.datetime.strptime(stop_date,'%Y-%m-%d %H:%M')\n",
    "\n",
    "print(start_date,'to',stop_date)\n",
    "start,stop = dateRange(start_date,stop_date)"
   ]
  },
  {
   "cell_type": "code",
   "execution_count": 17,
   "metadata": {
    "collapsed": false
   },
   "outputs": [
    {
     "name": "stdout",
     "output_type": "stream",
     "text": [
      "getting records 0 to 10\n",
      "Regional Ocean Modeling System (ROMS): Main Hawaiian Islands\n",
      "Regional Ocean Modeling System (ROMS): Main Hawaiian Islands: Data Assimilating\n",
      "Regional Ocean Modeling System (ROMS): Oahu\n",
      "Regional Ocean Modeling System (ROMS): Oahu: Data Assimilating\n",
      "Regional Ocean Modeling System (ROMS): Oahu South Shore\n",
      "Regional Ocean Modeling System (ROMS): Waikiki\n",
      "\n"
     ]
    }
   ],
   "source": [
    "filter_list = [fes.And([filter1, filter2, service_filt, bbox_filter, start, stop])]\n",
    "\n",
    "startposition = 0\n",
    "while True:\n",
    "    print 'getting records %d to %d' % (startposition, startposition+pagesize)\n",
    "    csw.getrecords2(constraints=filter_list,\n",
    "                    startposition=startposition, maxrecords=pagesize, sortby=sortby)\n",
    "    for rec,item in csw.records.iteritems():\n",
    "        print(item.title)\n",
    "    print\n",
    "    if csw.results['nextrecord'] == 0:\n",
    "        break\n",
    "    startposition += pagesize\n",
    "    if startposition >= maxrecords:\n",
    "        break  "
   ]
  },
  {
   "cell_type": "markdown",
   "metadata": {},
   "source": [
    "Now add a NOT filter to eliminate some entries"
   ]
  },
  {
   "cell_type": "code",
   "execution_count": 18,
   "metadata": {
    "collapsed": false
   },
   "outputs": [],
   "source": [
    "kw = dict(wildCard='*', escapeChar='\\\\',\n",
    "          singleChar='?', propertyname='apiso:AnyText')\n",
    "\n",
    "not_filt = fes.Not([fes.PropertyIsLike(literal='*Waikiki*', **kw)])"
   ]
  },
  {
   "cell_type": "code",
   "execution_count": 19,
   "metadata": {
    "collapsed": false
   },
   "outputs": [
    {
     "name": "stdout",
     "output_type": "stream",
     "text": [
      "getting records 0 to 10\n",
      "Regional Ocean Modeling System (ROMS): Main Hawaiian Islands\n",
      "Regional Ocean Modeling System (ROMS): Main Hawaiian Islands: Data Assimilating\n",
      "Regional Ocean Modeling System (ROMS): Oahu\n",
      "Regional Ocean Modeling System (ROMS): Oahu: Data Assimilating\n",
      "\n"
     ]
    }
   ],
   "source": [
    "filter_list = [fes.And([filter1, filter2, service_filt, bbox_filter, start, stop, not_filt])]\n",
    "\n",
    "startposition = 0\n",
    "while True:\n",
    "    print 'getting records %d to %d' % (startposition, startposition+pagesize)\n",
    "    csw.getrecords2(constraints=filter_list,\n",
    "                    startposition=startposition, maxrecords=pagesize, sortby=sortby)\n",
    "    for rec,item in csw.records.iteritems():\n",
    "        print(item.title)\n",
    "    print\n",
    "    if csw.results['nextrecord'] == 0:\n",
    "        break\n",
    "    startposition += pagesize\n",
    "    if startposition >= maxrecords:\n",
    "        break  "
   ]
  },
  {
   "cell_type": "markdown",
   "metadata": {},
   "source": [
    "Hopefully this notebook demonstrated some of the power (and complexity) of CSW!  ;-)"
   ]
  },
  {
   "cell_type": "code",
   "execution_count": null,
   "metadata": {
    "collapsed": true
   },
   "outputs": [],
   "source": []
  }
 ],
 "metadata": {
  "gist_id": "0ebf02e333bad7f760bf",
  "kernelspec": {
   "display_name": "Python 2",
   "language": "python",
   "name": "python2"
  },
  "language_info": {
   "codemirror_mode": {
    "name": "ipython",
    "version": 2
   },
   "file_extension": ".py",
   "mimetype": "text/x-python",
   "name": "python",
   "nbconvert_exporter": "python",
   "pygments_lexer": "ipython2",
   "version": "2.7.12"
  }
 },
 "nbformat": 4,
 "nbformat_minor": 0
}
