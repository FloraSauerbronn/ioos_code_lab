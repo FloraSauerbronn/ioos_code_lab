{
 "cells": [
  {
   "cell_type": "markdown",
   "metadata": {},
   "source": [
    "# Exploring the THREDDS catalog with Unidata's Siphon\n",
    "\n",
    "[Siphon](http://siphon.readthedocs.io/en/latest/) is a Python module for accessing data hosted on a THREDDS data server.\n",
    "Siphon works by parsing the catalog XML and exposing it with higher level functions.\n",
    "\n",
    "In this notebook we will explore data available on the Central & Northern California Ocean Observing System (CeNCOOS) THREDDS. The cell below extracts the catalog information"
   ]
  },
  {
   "cell_type": "code",
   "execution_count": 1,
   "metadata": {
    "collapsed": false
   },
   "outputs": [
    {
     "name": "stdout",
     "output_type": "stream",
     "text": [
      "\n",
      "Catalog information\n",
      "-------------------\n",
      "\n",
      "Base THREDDS URL: http://thredds.cencoos.org\n",
      "Catalog name: CeNCOOS\n",
      "Catalog URL: http://thredds.cencoos.org/thredds/catalog.xml\n",
      "Metadata: {}\n",
      "\n"
     ]
    }
   ],
   "source": [
    "from siphon.catalog import TDSCatalog\n",
    "\n",
    "catalog = TDSCatalog('http://thredds.cencoos.org/thredds/catalog.xml')\n",
    "\n",
    "\n",
    "info = \"\"\"\n",
    "Catalog information\n",
    "-------------------\n",
    "\n",
    "Base THREDDS URL: {}\n",
    "Catalog name: {}\n",
    "Catalog URL: {}\n",
    "Metadata: {}\n",
    "\"\"\".format(catalog.base_tds_url,\n",
    "           catalog.catalog_name,\n",
    "           catalog.catalog_url,\n",
    "           catalog.metadata)\n",
    "\n",
    "print(info)"
   ]
  },
  {
   "cell_type": "markdown",
   "metadata": {},
   "source": [
    "Unfortunately this catalog has no metadata. So let's check what kind of services are available."
   ]
  },
  {
   "cell_type": "code",
   "execution_count": 2,
   "metadata": {
    "collapsed": false
   },
   "outputs": [
    {
     "name": "stdout",
     "output_type": "stream",
     "text": [
      "all\n",
      "allandsos\n",
      "wms\n"
     ]
    }
   ],
   "source": [
    "for service in catalog.services:\n",
    "    print(service.name)"
   ]
  },
  {
   "cell_type": "markdown",
   "metadata": {},
   "source": [
    "And what datasets are there?"
   ]
  },
  {
   "cell_type": "code",
   "execution_count": 3,
   "metadata": {
    "collapsed": false,
    "scrolled": false
   },
   "outputs": [
    {
     "name": "stdout",
     "output_type": "stream",
     "text": [
      "California Coastal Regional Ocean Modeling System (ROMS) Nowcast\n",
      "California Coastal Regional Ocean Modeling System (ROMS) Forecast\n",
      "Monterey Bay (MB) Regional Ocean Modeling System (ROMS) Nowcast\n",
      "Monterey Bay (MB) Regional Ocean Modeling System (ROMS) Forecast\n",
      "Southern California Bight (SCB) Regional Ocean Modeling System (ROMS) Nowcast\n",
      "UCSC California Current System Model\n",
      "HAB Cellular Domoic Acid Forecast\n",
      "HAB Cellular Domoic Acid Nowcast\n",
      "HAB Particulate Domoic Acid Forecast\n",
      "HAB Particulate Domoic Acid Nowcast\n",
      "HAB Pseudo Nitzschia Forecast\n",
      "HAB Pseudo Nitzschia Nowcast\n",
      "Coupled Ocean/Atmosphere Mesoscale Prediction System (COAMPS) Relative Humidity\n",
      "Coupled Ocean/Atmosphere Mesoscale Prediction System (COAMPS) Total Precipitation\n",
      "Coupled Ocean/Atmosphere Mesoscale Prediction System (COAMPS) Visibility\n",
      "Coupled Ocean/Atmosphere Mesoscale Prediction System (COAMPS) Wind 10 m\n",
      "Coupled Ocean/Atmosphere Mesoscale Prediction System (COAMPS) Air Temp 2 m\n",
      "Coupled Ocean/Atmosphere Mesoscale Prediction System (COAMPS) Cloud Base\n",
      "Coupled Ocean/Atmosphere Mesoscale Prediction System (COAMPS) Ground and Sea Temp\n",
      "Coupled Ocean/Atmosphere Mesoscale Prediction System (COAMPS) Pressure Reduce to MSL\n",
      "Coupled Ocean/Atmosphere Mesoscale Prediction System (COAMPS) Net Short-wave Radiation Surface\n",
      "Coupled Ocean/Atmosphere Mesoscale Prediction System (COAMPS) IR Heat Flux\n",
      "Coupled Ocean/Atmosphere Mesoscale Prediction System (COAMPS) Monthly Averaged Winds\n",
      "Coupled Ocean/Atmosphere Mesoscale Prediction System (COAMPS) Wind 10 m (Historical)\n",
      "Coupled Ocean/Atmosphere Mesoscale Prediction System (COAMPS) Ground and Sea Temp (Historical)\n",
      "Coupled Ocean/Atmosphere Mesoscale Prediction System (COAMPS) Air Temp 2 m (Historical)\n",
      "Hybrid Coordinate Ocean Model\n",
      "Southern California Regional NCOM Model\n",
      "Maurer Meteorological Data\n",
      "Global 1-km Sea Surface Temperature (G1SST)\n",
      "High Resolution Chlorophyll-a concentration from MODIS/Aqua (1 Day Composite)\n",
      "High Resolution Chlorophyll-a concentration from MODIS/Aqua (8 Day Composite)\n",
      "High Resolution Chlorophyll-a concentration from MODIS/Aqua (1 Month Composite)\n",
      "High Resolution Sea Surface Temperature from the Advanced Very-High Resolution Radiometer (1 Day Composite)\n",
      "High Resolution Sea Surface Temperature from the Advanced Very-High Resolution Radiometer (8 Day Composite)\n",
      "High Resolution Sea Surface Temperature from the Advanced Very-High Resolution Radiometer (1 Month Composite)\n",
      "Ocean Surface Currents Monthly Averaged - CORDC High-Frequency Radar (US West Coast), 6 km\n"
     ]
    }
   ],
   "source": [
    "print('\\n'.join(catalog.datasets.keys()))"
   ]
  },
  {
   "cell_type": "markdown",
   "metadata": {},
   "source": [
    "It looks like model runs as well as satellite and HFR data. One can also check the catalog refs for more information"
   ]
  },
  {
   "cell_type": "code",
   "execution_count": 4,
   "metadata": {
    "collapsed": false
   },
   "outputs": [
    {
     "name": "stdout",
     "output_type": "stream",
     "text": [
      "Global\n",
      "Dynamic\n",
      "Static\n",
      "HF RADAR, US West Coast\n",
      "HF RADAR, US West Coast (GNOME Format)\n"
     ]
    }
   ],
   "source": [
    "print('\\n'.join(catalog.catalog_refs.keys()))"
   ]
  },
  {
   "cell_type": "code",
   "execution_count": 5,
   "metadata": {
    "collapsed": false
   },
   "outputs": [
    {
     "data": {
      "text/plain": [
       "['follow', 'href', 'name', 'title']"
      ]
     },
     "execution_count": 5,
     "metadata": {},
     "output_type": "execute_result"
    }
   ],
   "source": [
    "ref = catalog.catalog_refs['Global']\n",
    "\n",
    "[value for value in dir(ref) if not value.startswith('__')]"
   ]
  },
  {
   "cell_type": "code",
   "execution_count": 6,
   "metadata": {
    "collapsed": false
   },
   "outputs": [
    {
     "name": "stdout",
     "output_type": "stream",
     "text": [
      "\n",
      "Href: http://thredds.cencoos.org/thredds/global.xml\n",
      "Name: \n",
      "Title: Global\n",
      "\n"
     ]
    }
   ],
   "source": [
    "info = \"\"\"\n",
    "Href: {}\n",
    "Name: {}\n",
    "Title: {}\n",
    "\"\"\".format(\n",
    "    ref.href,\n",
    "    ref.name,\n",
    "    ref.title)\n",
    "\n",
    "print(info)"
   ]
  },
  {
   "cell_type": "markdown",
   "metadata": {},
   "source": [
    "The `follow` method navigates to that catalog `ref` and returns a new `siphon.catalog.TDSCatalog` object for that part of the THREDDS catalog."
   ]
  },
  {
   "cell_type": "code",
   "execution_count": 7,
   "metadata": {
    "collapsed": false
   },
   "outputs": [
    {
     "name": "stdout",
     "output_type": "stream",
     "text": [
      "<class 'siphon.catalog.TDSCatalog'>\n"
     ]
    }
   ],
   "source": [
    "cat = ref.follow()\n",
    "\n",
    "print(type(cat))"
   ]
  },
  {
   "cell_type": "markdown",
   "metadata": {},
   "source": [
    "That makes it easier to explore a small subset of the datasets available in the catalog.\n",
    "Here are the data from the *Global* subset."
   ]
  },
  {
   "cell_type": "code",
   "execution_count": 8,
   "metadata": {
    "collapsed": false
   },
   "outputs": [
    {
     "name": "stdout",
     "output_type": "stream",
     "text": [
      "NCEP Reanalysis Daily Averages Surface Flux\n",
      "Global 1-km Sea Surface Temperature (G1SST)\n",
      "NCEP Global Forecast System Model (GFS)\n",
      "Aquarius V 3.0 Scatterometer Daily Aggregate\n",
      "Aquarius V 3.0 Scatterometer Seven-Day Aggregate\n",
      "Aquarius V 3.0 Scatterometer Monthly Aggregate\n",
      "Aquarius V 3.0 Radiometer Daily Aggregate\n",
      "Aquarius V 3.0 Radiometer Seven-Day Aggregate\n",
      "Aquarius V 3.0 Radiometer Monthly Aggregate\n",
      "Aquarius V 4.0 Scatterometer Daily Aggregate\n",
      "Aquarius V 4.0 Scatterometer Seven-Day Aggregate\n",
      "Aquarius V 4.0 Scatterometer Monthly Aggregate\n",
      "Aquarius V 4.0 Radiometer Daily Aggregate\n",
      "Aquarius V 4.0 Radiometer Seven-Day Aggregate\n",
      "Aquarius V 4.0 Radiometer Monthly Aggregate\n"
     ]
    }
   ],
   "source": [
    "print('\\n'.join(cat.datasets.keys()))"
   ]
  },
  {
   "cell_type": "markdown",
   "metadata": {},
   "source": [
    "Let's extract the `Global 1-km Sea Surface Temperature` dataset from the global `ref`."
   ]
  },
  {
   "cell_type": "code",
   "execution_count": 9,
   "metadata": {
    "collapsed": false
   },
   "outputs": [
    {
     "data": {
      "text/plain": [
       "('Global 1-km Sea Surface Temperature (G1SST)', 'G1_SST_GLOBAL.nc')"
      ]
     },
     "execution_count": 9,
     "metadata": {},
     "output_type": "execute_result"
    }
   ],
   "source": [
    "dataset = 'Global 1-km Sea Surface Temperature (G1SST)'\n",
    "\n",
    "ds = cat.datasets[dataset]\n",
    "\n",
    "ds.name, ds.url_path"
   ]
  },
  {
   "cell_type": "markdown",
   "metadata": {},
   "source": [
    "Siphon has a `ncss` (NetCDF subset service) access, here is a quote from the documentation:\n",
    "\n",
    "> This module contains code to support making data requests to\n",
    "the NetCDF subset service (NCSS) on a THREDDS Data Server (TDS). This includes\n",
    "forming proper queries as well as parsing the returned data.\n",
    "\n",
    "Let's check if the catalog offers the `NetcdfSubset` in the `access_urls`."
   ]
  },
  {
   "cell_type": "code",
   "execution_count": 10,
   "metadata": {
    "collapsed": false,
    "scrolled": true
   },
   "outputs": [],
   "source": [
    "for name, ds in catalog.datasets.items():\n",
    "    if ds.access_urls:\n",
    "        print(name)"
   ]
  },
  {
   "cell_type": "markdown",
   "metadata": {},
   "source": [
    "All `access_urls` returned empty.... Maybe that is just a metadata issue because there is `NetcdfSubset` access when navigating in the webpage."
   ]
  },
  {
   "cell_type": "code",
   "execution_count": 11,
   "metadata": {
    "collapsed": false
   },
   "outputs": [
    {
     "data": {
      "text/html": [
       "\n",
       "        <iframe\n",
       "            width=\"800\"\n",
       "            height=\"550\"\n",
       "            src=\"http://thredds.cencoos.org/thredds/catalog.html?dataset=G1_SST_US_WEST_COAST\"\n",
       "            frameborder=\"0\"\n",
       "            allowfullscreen\n",
       "        ></iframe>\n",
       "        "
      ],
      "text/plain": [
       "<IPython.lib.display.IFrame at 0x7f6b46d68080>"
      ]
     },
     "execution_count": 11,
     "metadata": {},
     "output_type": "execute_result"
    }
   ],
   "source": [
    "from IPython.display import IFrame\n",
    "\n",
    "url = 'http://thredds.cencoos.org/thredds/catalog.html?dataset=G1_SST_US_WEST_COAST'\n",
    "\n",
    "IFrame(url, width=800, height=550)"
   ]
  },
  {
   "cell_type": "markdown",
   "metadata": {},
   "source": [
    "To finish the post let's check if there is any WMS service available and overlay the data in a slippy (interactive) map."
   ]
  },
  {
   "cell_type": "code",
   "execution_count": 12,
   "metadata": {
    "collapsed": false
   },
   "outputs": [
    {
     "data": {
      "text/plain": [
       "[<siphon.catalog.SimpleService at 0x7f6b237ca9b0>]"
      ]
     },
     "execution_count": 12,
     "metadata": {},
     "output_type": "execute_result"
    }
   ],
   "source": [
    "services = [service for service in catalog.services if service.name == 'wms']\n",
    "\n",
    "services"
   ]
  },
  {
   "cell_type": "markdown",
   "metadata": {},
   "source": [
    "Found only one, let's tease that out and check the URL."
   ]
  },
  {
   "cell_type": "code",
   "execution_count": 13,
   "metadata": {
    "collapsed": false
   },
   "outputs": [
    {
     "data": {
      "text/plain": [
       "'http://pdx.axiomalaska.com/ncWMS/wms'"
      ]
     },
     "execution_count": 13,
     "metadata": {},
     "output_type": "execute_result"
    }
   ],
   "source": [
    "service = services[0]\n",
    "\n",
    "url = service.base\n",
    "\n",
    "url"
   ]
  },
  {
   "cell_type": "markdown",
   "metadata": {},
   "source": [
    "OWSLib helps to inspect the available layers before plotting. Here we will get the first layer that has G1_SST_US_WEST_COAST on it.\n",
    "\n",
    "Note, however, we are skipping the discovery step of the `wms` information and hard-coding it instead.\n",
    "That is to save time because parsing the URL [http://pdx.axiomalaska.com/ncWMS/wms](http://pdx.axiomalaska.com/ncWMS/wms) takes ~ 10 minutes. See [this](https://github.com/ioos/notebooks_demos/pull/171#issuecomment-271705056) issue for more information."
   ]
  },
  {
   "cell_type": "code",
   "execution_count": 14,
   "metadata": {
    "collapsed": false
   },
   "outputs": [],
   "source": [
    "if False:\n",
    "    from owslib.wms import WebMapService\n",
    "    web_map_services = WebMapService(url)\n",
    "    layer = [key for key in web_map_services.contents.keys() if 'G1_SST_US_WEST_COAST' in key][0]\n",
    "    wms = web_map_services.contents[layer]\n",
    "\n",
    "    title = wms.title\n",
    "    lon = (wms.boundingBox[0] + wms.boundingBox[2]) / 2.\n",
    "    lat = (wms.boundingBox[1] + wms.boundingBox[3]) / 2.\n",
    "    time = wms.defaulttimeposition\n",
    "else:\n",
    "    layer = 'G1_SST_US_WEST_COAST/analysed_sst'\n",
    "    title = 'Sea Surface Temperature'\n",
    "    lon, lat = -122.50, 39.50\n",
    "    time = 'undefined'"
   ]
  },
  {
   "cell_type": "code",
   "execution_count": 15,
   "metadata": {
    "collapsed": false
   },
   "outputs": [
    {
     "data": {
      "text/html": [
       "<div style=\"width:100%;\"><div style=\"position:relative;width:100%;height:0;padding-bottom:60%;\"><iframe src=\"data:text/html;base64,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\" style=\"position:absolute;width:100%;height:100%;left:0;top:0;\"></iframe></div></div>"
      ],
      "text/plain": [
       "<folium.folium.Map at 0x7f6b46d683c8>"
      ]
     },
     "execution_count": 15,
     "metadata": {},
     "output_type": "execute_result"
    }
   ],
   "source": [
    "import folium\n",
    "\n",
    "m = folium.Map(location=[lat, lon], zoom_start=4)\n",
    "\n",
    "folium.WmsTileLayer(\n",
    "    name='{} at {}'.format(title, time),\n",
    "    url=url,\n",
    "    layers=layer,\n",
    "    format='image/png'\n",
    ").add_to(m)\n",
    "\n",
    "folium.LayerControl().add_to(m)\n",
    "\n",
    "m"
   ]
  },
  {
   "cell_type": "markdown",
   "metadata": {},
   "source": [
    "<br>\n",
    "Right click and choose Save link as... to\n",
    "[download](https://raw.githubusercontent.com/ioos/notebooks_demos/master/notebooks/2016-12-23-siphon-explore-thredds)\n",
    "this notebook, or see a static view [here](http://nbviewer.ipython.org/urls/raw.githubusercontent.com/ioos/notebooks_demos/master/notebooks/2016-12-23-siphon-explore-thredds)."
   ]
  }
 ],
 "metadata": {
  "kernelspec": {
   "display_name": "Python [default]",
   "language": "python",
   "name": "python3"
  },
  "language_info": {
   "codemirror_mode": {
    "name": "ipython",
    "version": 3
   },
   "file_extension": ".py",
   "mimetype": "text/x-python",
   "name": "python",
   "nbconvert_exporter": "python",
   "pygments_lexer": "ipython3",
   "version": "3.5.2"
  }
 },
 "nbformat": 4,
 "nbformat_minor": 0
}
