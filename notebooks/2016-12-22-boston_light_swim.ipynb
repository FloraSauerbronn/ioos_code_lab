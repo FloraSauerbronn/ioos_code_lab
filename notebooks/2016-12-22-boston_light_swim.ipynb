{
 "cells": [
  {
   "cell_type": "markdown",
   "metadata": {},
   "source": [
    "# The Boston Light Swim temperature analysis with Python\n",
    "\n",
    "In the past we demonstrated how to perform a CSW catalog search with [`OWSLib`](https://ioos.github.io/notebooks_demos//notebooks/2016-12-19-exploring_csw),\n",
    "and how to obtain near real-time data with [`pyoos`](https://ioos.github.io/notebooks_demos//notebooks/2016-10-12-fetching_data).\n",
    "In this notebook we will use both to find all observations and model data around the Boston Harbor to access the sea water temperature.\n",
    "\n",
    "\n",
    "This workflow is part of an example to advise swimmers of the annual [Boston lighthouse swim](http://bostonlightswim.org/) of the Boston Harbor water temperature conditions prior to the race. For more information regarding the workflow presented here see [Signell, Richard P.; Fernandes, Filipe; Wilcox, Kyle.   2016. \"Dynamic Reusable Workflows for Ocean Science.\" *J. Mar. Sci. Eng.* 4, no. 4: 68](http://dx.doi.org/10.3390/jmse4040068)."
   ]
  },
  {
   "cell_type": "code",
   "execution_count": 1,
   "metadata": {
    "collapsed": false
   },
   "outputs": [],
   "source": [
    "import os\n",
    "import sys\n",
    "import warnings\n",
    "\n",
    "ioos_tools = os.path.join(os.path.pardir)\n",
    "sys.path.append(ioos_tools)\n",
    "\n",
    "# Suppresing warnings for a \"pretty output.\"\n",
    "warnings.simplefilter(\"ignore\")"
   ]
  },
  {
   "cell_type": "markdown",
   "metadata": {},
   "source": [
    "This notebook is quite big and complex,\n",
    "so to help us keep things organized we'll define a cell with the most important options and switches.\n",
    "\n",
    "Below we can define the date,\n",
    "bounding box, phenomena `SOS` and `CF` names and units,\n",
    "and the catalogs we will search."
   ]
  },
  {
   "cell_type": "code",
   "execution_count": 2,
   "metadata": {
    "collapsed": false
   },
   "outputs": [
    {
     "name": "stdout",
     "output_type": "stream",
     "text": [
      "Overwriting config.yaml\n"
     ]
    }
   ],
   "source": [
    "%%writefile config.yaml\n",
    "\n",
    "# Specify a YYYY-MM-DD hh:mm:ss date or integer day offset.\n",
    "# If both start and stop are offsets they will be computed relative to datetime.today() at midnight.\n",
    "# Use the dates commented below to reproduce the last Boston Light Swim event forecast.\n",
    "date:\n",
    "    start: -5 # 2016-8-16 00:00:00\n",
    "    stop: +4 # 2016-8-29 00:00:00\n",
    "\n",
    "run_name: 'latest'\n",
    "\n",
    "# Boston harbor.\n",
    "region:\n",
    "    bbox: [-71.3, 42.03, -70.57, 42.63]\n",
    "    crs: 'urn:ogc:def:crs:OGC:1.3:CRS84'\n",
    "\n",
    "sos_name: 'sea_water_temperature'\n",
    "\n",
    "cf_names:\n",
    "    - sea_water_temperature\n",
    "    - sea_surface_temperature\n",
    "    - sea_water_potential_temperature\n",
    "    - equivalent_potential_temperature\n",
    "    - sea_water_conservative_temperature\n",
    "    - pseudo_equivalent_potential_temperature\n",
    "\n",
    "units: 'celsius'\n",
    "\n",
    "catalogs:\n",
    "    - https://data.ioos.us/csw\n",
    "    - http://gamone.whoi.edu/csw"
   ]
  },
  {
   "cell_type": "markdown",
   "metadata": {},
   "source": [
    "We'll print some of the search configuration options along the way to keep track of them."
   ]
  },
  {
   "cell_type": "code",
   "execution_count": 3,
   "metadata": {
    "collapsed": false
   },
   "outputs": [
    {
     "name": "stdout",
     "output_type": "stream",
     "text": [
      "Saving data inside directory /home/filipe/IOOS/notebooks_demos/notebooks/latest\n",
      "*********************** Run information ************************\n",
      "Run date: 2017-01-13 15:51:18\n",
      "Start: 2017-01-08 00:00:00\n",
      "Stop: 2017-01-17 00:00:00\n",
      "Bounding box: -71.30, 42.03,-70.57, 42.63\n"
     ]
    }
   ],
   "source": [
    "import shutil\n",
    "from datetime import datetime\n",
    "from ioos_tools.ioos import parse_config\n",
    "\n",
    "config = parse_config('config.yaml')\n",
    "\n",
    "# Saves downloaded data into a temporary directory.\n",
    "save_dir = os.path.abspath(config['run_name'])\n",
    "if os.path.exists(save_dir):\n",
    "    shutil.rmtree(save_dir)\n",
    "os.makedirs(save_dir)\n",
    "\n",
    "fmt = '{:*^64}'.format\n",
    "print(fmt('Saving data inside directory {}'.format(save_dir)))\n",
    "print(fmt(' Run information '))\n",
    "print('Run date: {:%Y-%m-%d %H:%M:%S}'.format(datetime.utcnow()))\n",
    "print('Start: {:%Y-%m-%d %H:%M:%S}'.format(config['date']['start']))\n",
    "print('Stop: {:%Y-%m-%d %H:%M:%S}'.format(config['date']['stop']))\n",
    "print('Bounding box: {0:3.2f}, {1:3.2f},'\n",
    "      '{2:3.2f}, {3:3.2f}'.format(*config['region']['bbox']))"
   ]
  },
  {
   "cell_type": "markdown",
   "metadata": {},
   "source": [
    "We already created an `OWSLib.fes` filter [before](https://ioos.github.io/notebooks_demos//notebooks/2016-12-19-exploring_csw).\n",
    "The main difference here is that we do not want the atmosphere model data,\n",
    "so we are filtering out all the `GRIB-2` data format."
   ]
  },
  {
   "cell_type": "code",
   "execution_count": 4,
   "metadata": {
    "collapsed": false
   },
   "outputs": [],
   "source": [
    "def make_filter(config):\n",
    "    from owslib import fes\n",
    "    from ioos_tools.ioos import fes_date_filter\n",
    "    kw = dict(wildCard='*', escapeChar='\\\\',\n",
    "              singleChar='?', propertyname='apiso:AnyText')\n",
    "\n",
    "    or_filt = fes.Or([fes.PropertyIsLike(literal=('*%s*' % val), **kw)\n",
    "                      for val in config['cf_names']])\n",
    "\n",
    "    not_filt = fes.Not([fes.PropertyIsLike(literal='GRIB-2', **kw)])\n",
    "\n",
    "    begin, end = fes_date_filter(config['date']['start'],\n",
    "                                 config['date']['stop'])\n",
    "    bbox_crs = fes.BBox(config['region']['bbox'],\n",
    "                        crs=config['region']['crs'])\n",
    "    filter_list = [fes.And([bbox_crs, begin, end, or_filt, not_filt])]\n",
    "    return filter_list\n",
    "\n",
    "\n",
    "filter_list = make_filter(config)"
   ]
  },
  {
   "cell_type": "markdown",
   "metadata": {},
   "source": [
    "In the cell below we ask the catalog for all the returns that match the filter and have an OPeNDAP endpoint."
   ]
  },
  {
   "cell_type": "code",
   "execution_count": 5,
   "metadata": {
    "code_folding": [],
    "collapsed": false
   },
   "outputs": [
    {
     "name": "stdout",
     "output_type": "stream",
     "text": [
      "********************* Catalog information **********************\n",
      "URL: https://data.ioos.us/csw\n",
      "Number of datasets available: 18\n",
      "NERACOOS Gulf of Maine Ocean Array: Realtime Buoy Observations: A01 Massachusetts Bay: A01 CTD1m Massachusetts Bay\n",
      "NERACOOS Gulf of Maine Ocean Array: Realtime Buoy Observations: A01 Massachusetts Bay: A01 CTD20m Massachusetts Bay\n",
      "NERACOOS Gulf of Maine Ocean Array: Realtime Buoy Observations: A01 Massachusetts Bay: A01 MET Massachusetts Bay\n",
      "NERACOOS Gulf of Maine Ocean Array: Realtime Buoy Observations: A01 Massachusetts Bay: A01 OPTICS3m Massachusetts Bay\n",
      "NERACOOS Gulf of Maine Ocean Array: Realtime Buoy Observations: A01 Massachusetts Bay: A01 OPTODE51m Massachusetts Bay\n",
      "NERACOOS Gulf of Maine Ocean Array: Realtime Buoy Observations: A01 Western Maine Shelf: A01 CTD52m Massachusetts Bay\n",
      "NOAA/NCEP Global Forecast System (GFS) Atmospheric Model\n",
      "urn:ioos:station:NOAA.NOS.CO-OPS:8443970 station, Boston, MA\n",
      "NERACOOS Gulf of Maine Ocean Array: Realtime Buoy Observations: A01 Massachusetts Bay: A01 ACCELEROMETER Massachusetts Bay\n",
      "Directional wave and sea surface temperature measurements collected in situ by Datawell Mark 3 directional buoy located near GRAYS HARBOR, WA from 2016/03/16 22:00:00 to 2017/01/12 23:53:36.\n",
      "G1SST, 1km blended SST\n",
      "Directional wave and sea surface temperature measurements collected in situ by Datawell Mark 3 directional buoy located near ASTORIA CANYON, OR from 2016/03/30 17:00:00 to 2017/01/13 00:01:14.\n",
      "Directional wave and sea surface temperature measurements collected in situ by Datawell Mark 3 directional buoy located near OCEAN STATION PAPA from 2015/01/01 01:00:00 to 2017/01/13 00:11:57.\n",
      "NECOFS GOM3 (FVCOM) - Northeast US - Latest Forecast\n",
      "Directional wave and sea surface temperature measurements collected in situ by Datawell Mark 3 directional buoy located near SCRIPPS NEARSHORE, CA from 2015/01/07 23:00:00 to 2017/01/12 23:31:02.\n",
      "NECOFS Massachusetts (FVCOM) - Massachusetts Coastal - Latest Forecast\n",
      "Directional wave and sea surface temperature measurements collected in situ by Datawell Mark 3 directional buoy located near CLATSOP SPIT, OR from 2016/10/12 17:00:00 to 2017/01/13 00:03:09.\n",
      "HYbrid Coordinate Ocean Model (HYCOM): Global\n",
      "***************************** DAP ******************************\n",
      "http://oos.soest.hawaii.edu/thredds/dodsC/hioos/model/atm/ncep_global/NCEP_Global_Atmospheric_Model_best.ncd.html\n",
      "http://oos.soest.hawaii.edu/thredds/dodsC/pacioos/hycom/global.html\n",
      "http://thredds.aoos.org/thredds/dodsC/G1_SST_GLOBAL.nc.html\n",
      "http://www.neracoos.org/thredds/dodsC/UMO/DSG/SOS/A01/Accelerometer/HistoricRealtime/Agg.ncml.html\n",
      "http://www.neracoos.org/thredds/dodsC/UMO/DSG/SOS/A01/CTD1m/HistoricRealtime/Agg.ncml.html\n",
      "http://www.neracoos.org/thredds/dodsC/UMO/DSG/SOS/A01/CTD20m/HistoricRealtime/Agg.ncml.html\n",
      "http://www.neracoos.org/thredds/dodsC/UMO/DSG/SOS/A01/CTD52m/HistoricRealtime/Agg.ncml.html\n",
      "http://www.neracoos.org/thredds/dodsC/UMO/DSG/SOS/A01/Met/HistoricRealtime/Agg.ncml.html\n",
      "http://www.neracoos.org/thredds/dodsC/UMO/DSG/SOS/A01/OPTICS_S3m/HistoricRealtime/Agg.ncml.html\n",
      "http://www.neracoos.org/thredds/dodsC/UMO/DSG/SOS/A01/OPTODE51m/HistoricRealtime/Agg.ncml.html\n",
      "http://www.smast.umassd.edu:8080/thredds/dodsC/FVCOM/NECOFS/Forecasts/NECOFS_FVCOM_OCEAN_MASSBAY_FORECAST.nc.html\n",
      "http://www.smast.umassd.edu:8080/thredds/dodsC/FVCOM/NECOFS/Forecasts/NECOFS_GOM3_FORECAST.nc.html\n",
      "\n",
      "\n",
      "URL: http://gamone.whoi.edu/csw\n",
      "Number of datasets available: 0\n",
      "\n",
      "\n"
     ]
    }
   ],
   "source": [
    "from ioos_tools.ioos import service_urls, get_csw_records\n",
    "from owslib.csw import CatalogueServiceWeb\n",
    "\n",
    "\n",
    "dap_urls = []\n",
    "print(fmt(' Catalog information '))\n",
    "for endpoint in config['catalogs']:\n",
    "    print(\"URL: {}\".format(endpoint))\n",
    "\n",
    "    csw = CatalogueServiceWeb(endpoint, timeout=120)\n",
    "    csw = get_csw_records(csw, filter_list, esn='full')\n",
    "    OPeNDAP = service_urls(csw.records, identifier='OPeNDAP:OPeNDAP')\n",
    "    odp = service_urls(csw.records, identifier='urn:x-esri:specification:ServiceType:odp:url')\n",
    "    dap = OPeNDAP + odp\n",
    "    dap_urls.extend(dap)\n",
    "\n",
    "    print(\"Number of datasets available: {}\".format(len(csw.records.keys())))\n",
    "\n",
    "    for rec, item in csw.records.items():\n",
    "        print('{}'.format(item.title))\n",
    "    if dap:\n",
    "        print(fmt(' DAP '))\n",
    "        for url in dap:\n",
    "            print('{}.html'.format(url))\n",
    "    print('\\n')\n",
    "\n",
    "# Get only unique endpoints.\n",
    "dap_urls = list(set(dap_urls))"
   ]
  },
  {
   "cell_type": "markdown",
   "metadata": {},
   "source": [
    "We found some models, and observations from NERACOOS there.\n",
    "However, we do know that there are some buoys from NDBC and CO-OPS available too.\n",
    "Also, those NERACOOS observations seem to be from a [CTD](http://www.neracoos.org/thredds/dodsC/UMO/DSG/SOS/A01/CTD1m/HistoricRealtime/Agg.ncml.html) mounted at 65 meters below the sea surface. Rendering them useless from our purpose.\n",
    "\n",
    "So let's use the catalog only for the models by filtering the observations with `is_station` below.\n",
    "And we'll rely `CO-OPS` and `NDBC` services for the observations."
   ]
  },
  {
   "cell_type": "code",
   "execution_count": 6,
   "metadata": {
    "collapsed": false
   },
   "outputs": [
    {
     "name": "stdout",
     "output_type": "stream",
     "text": [
      "************************* Filtered DAP *************************\n",
      "http://www.smast.umassd.edu:8080/thredds/dodsC/FVCOM/NECOFS/Forecasts/NECOFS_GOM3_FORECAST.nc.html\n",
      "http://www.smast.umassd.edu:8080/thredds/dodsC/FVCOM/NECOFS/Forecasts/NECOFS_FVCOM_OCEAN_MASSBAY_FORECAST.nc.html\n",
      "http://oos.soest.hawaii.edu/thredds/dodsC/pacioos/hycom/global.html\n",
      "http://thredds.aoos.org/thredds/dodsC/G1_SST_GLOBAL.nc.html\n",
      "http://oos.soest.hawaii.edu/thredds/dodsC/hioos/model/atm/ncep_global/NCEP_Global_Atmospheric_Model_best.ncd.html\n"
     ]
    }
   ],
   "source": [
    "from ioos_tools.ioos import is_station\n",
    "\n",
    "# Filter out some station endpoints.\n",
    "non_stations = []\n",
    "for url in dap_urls:\n",
    "    try:\n",
    "        if not is_station(url):\n",
    "            non_stations.append(url)\n",
    "    except (RuntimeError, OSError) as e:\n",
    "        print(\"Could not access URL {}. {!r}\".format(url, e))\n",
    "\n",
    "dap_urls = non_stations\n",
    "\n",
    "print(fmt(' Filtered DAP '))\n",
    "for url in dap_urls:\n",
    "    print('{}.html'.format(url))"
   ]
  },
  {
   "cell_type": "markdown",
   "metadata": {},
   "source": [
    "Now we can use `pyoos` collectors for `NdbcSos`,"
   ]
  },
  {
   "cell_type": "code",
   "execution_count": 7,
   "metadata": {
    "collapsed": false
   },
   "outputs": [
    {
     "name": "stdout",
     "output_type": "stream",
     "text": [
      "******************* NDBC Collector offerings *******************\n",
      "National Data Buoy Center SOS: 977 offerings\n"
     ]
    }
   ],
   "source": [
    "from pyoos.collectors.ndbc.ndbc_sos import NdbcSos\n",
    "\n",
    "collector_ndbc = NdbcSos()\n",
    "\n",
    "collector_ndbc.set_bbox(config['region']['bbox'])\n",
    "collector_ndbc.end_time = config['date']['stop']\n",
    "collector_ndbc.start_time = config['date']['start']\n",
    "collector_ndbc.variables = [config['sos_name']]\n",
    "\n",
    "ofrs = collector_ndbc.server.offerings\n",
    "title = collector_ndbc.server.identification.title\n",
    "print(fmt(' NDBC Collector offerings '))\n",
    "print('{}: {} offerings'.format(title, len(ofrs)))"
   ]
  },
  {
   "cell_type": "code",
   "execution_count": 8,
   "metadata": {
    "collapsed": false
   },
   "outputs": [
    {
     "data": {
      "text/html": [
       "<div>\n",
       "<table border=\"1\" class=\"dataframe\">\n",
       "  <thead>\n",
       "    <tr style=\"text-align: right;\">\n",
       "      <th></th>\n",
       "      <th>depth</th>\n",
       "      <th>lat</th>\n",
       "      <th>lon</th>\n",
       "      <th>sensor</th>\n",
       "      <th>station_name</th>\n",
       "    </tr>\n",
       "    <tr>\n",
       "      <th>station_code</th>\n",
       "      <th></th>\n",
       "      <th></th>\n",
       "      <th></th>\n",
       "      <th></th>\n",
       "      <th></th>\n",
       "    </tr>\n",
       "  </thead>\n",
       "  <tbody>\n",
       "    <tr>\n",
       "      <th>44013</th>\n",
       "      <td>0.6</td>\n",
       "      <td>42.35</td>\n",
       "      <td>-70.69</td>\n",
       "      <td>urn:ioos:sensor:wmo:44013::watertemp1</td>\n",
       "      <td>BOSTON 16 NM East of Boston, MA</td>\n",
       "    </tr>\n",
       "    <tr>\n",
       "      <th>44029</th>\n",
       "      <td>1.0</td>\n",
       "      <td>42.52</td>\n",
       "      <td>-70.57</td>\n",
       "      <td>urn:ioos:sensor:wmo:44029::ct1</td>\n",
       "      <td>Buoy A0102 - Mass. Bay/Stellwagen</td>\n",
       "    </tr>\n",
       "  </tbody>\n",
       "</table>\n",
       "</div>"
      ],
      "text/plain": [
       "              depth    lat    lon                                 sensor  \\\n",
       "station_code                                                               \n",
       "44013           0.6  42.35 -70.69  urn:ioos:sensor:wmo:44013::watertemp1   \n",
       "44029           1.0  42.52 -70.57         urn:ioos:sensor:wmo:44029::ct1   \n",
       "\n",
       "                                   station_name  \n",
       "station_code                                     \n",
       "44013           BOSTON 16 NM East of Boston, MA  \n",
       "44029         Buoy A0102 - Mass. Bay/Stellwagen  "
      ]
     },
     "execution_count": 8,
     "metadata": {},
     "output_type": "execute_result"
    }
   ],
   "source": [
    "import pandas as pd\n",
    "from ioos_tools.ioos import collector2table\n",
    "\n",
    "ndbc = collector2table(collector=collector_ndbc,\n",
    "                       config=config,\n",
    "                       col='sea_water_temperature (C)')\n",
    "\n",
    "if ndbc:\n",
    "    data = dict(\n",
    "        station_name=[s._metadata.get('station_name') for s in ndbc],\n",
    "        station_code=[s._metadata.get('station_code') for s in ndbc],\n",
    "        sensor=[s._metadata.get('sensor') for s in ndbc],\n",
    "        lon=[s._metadata.get('lon') for s in ndbc],\n",
    "        lat=[s._metadata.get('lat') for s in ndbc],\n",
    "        depth=[s._metadata.get('depth') for s in ndbc],\n",
    "    )\n",
    "\n",
    "table = pd.DataFrame(data).set_index('station_code')\n",
    "table"
   ]
  },
  {
   "cell_type": "markdown",
   "metadata": {},
   "source": [
    "and `CoopsSos`."
   ]
  },
  {
   "cell_type": "code",
   "execution_count": 9,
   "metadata": {
    "collapsed": false
   },
   "outputs": [
    {
     "name": "stdout",
     "output_type": "stream",
     "text": [
      "********************* Collector offerings **********************\n",
      "NOAA.NOS.CO-OPS SOS: 1113 offerings\n"
     ]
    }
   ],
   "source": [
    "from pyoos.collectors.coops.coops_sos import CoopsSos\n",
    "\n",
    "collector_coops = CoopsSos()\n",
    "\n",
    "collector_coops.set_bbox(config['region']['bbox'])\n",
    "collector_coops.end_time = config['date']['stop']\n",
    "collector_coops.start_time = config['date']['start']\n",
    "collector_coops.variables = [config['sos_name']]\n",
    "\n",
    "ofrs = collector_coops.server.offerings\n",
    "title = collector_coops.server.identification.title\n",
    "print(fmt(' Collector offerings '))\n",
    "print('{}: {} offerings'.format(title, len(ofrs)))"
   ]
  },
  {
   "cell_type": "code",
   "execution_count": 10,
   "metadata": {
    "collapsed": false,
    "scrolled": true
   },
   "outputs": [
    {
     "data": {
      "text/html": [
       "<div>\n",
       "<table border=\"1\" class=\"dataframe\">\n",
       "  <thead>\n",
       "    <tr style=\"text-align: right;\">\n",
       "      <th></th>\n",
       "      <th>depth</th>\n",
       "      <th>lat</th>\n",
       "      <th>lon</th>\n",
       "      <th>sensor</th>\n",
       "      <th>station_name</th>\n",
       "    </tr>\n",
       "    <tr>\n",
       "      <th>station_code</th>\n",
       "      <th></th>\n",
       "      <th></th>\n",
       "      <th></th>\n",
       "      <th></th>\n",
       "      <th></th>\n",
       "    </tr>\n",
       "  </thead>\n",
       "  <tbody>\n",
       "    <tr>\n",
       "      <th>8443970</th>\n",
       "      <td>None</td>\n",
       "      <td>42.3548</td>\n",
       "      <td>-71.0534</td>\n",
       "      <td>urn:ioos:sensor:NOAA.NOS.CO-OPS:8443970:E1</td>\n",
       "      <td>Boston, MA</td>\n",
       "    </tr>\n",
       "  </tbody>\n",
       "</table>\n",
       "</div>"
      ],
      "text/plain": [
       "             depth      lat      lon  \\\n",
       "station_code                           \n",
       "8443970       None  42.3548 -71.0534   \n",
       "\n",
       "                                                  sensor station_name  \n",
       "station_code                                                           \n",
       "8443970       urn:ioos:sensor:NOAA.NOS.CO-OPS:8443970:E1   Boston, MA  "
      ]
     },
     "execution_count": 10,
     "metadata": {},
     "output_type": "execute_result"
    }
   ],
   "source": [
    "coops = collector2table(collector=collector_coops,\n",
    "                        config=config,\n",
    "                        col='sea_water_temperature (C)')\n",
    "\n",
    "if coops:\n",
    "    data = dict(\n",
    "        station_name=[s._metadata.get('station_name') for s in coops],\n",
    "        station_code=[s._metadata.get('station_code') for s in coops],\n",
    "        sensor=[s._metadata.get('sensor') for s in coops],\n",
    "        lon=[s._metadata.get('lon') for s in coops],\n",
    "        lat=[s._metadata.get('lat') for s in coops],\n",
    "        depth=[s._metadata.get('depth') for s in coops],\n",
    "    )\n",
    "\n",
    "table = pd.DataFrame(data).set_index('station_code')\n",
    "table"
   ]
  },
  {
   "cell_type": "markdown",
   "metadata": {},
   "source": [
    "We will join all the observations into an uniform series, interpolated to 1-hour interval, for the model-data comparison.\n",
    "\n",
    "This step is necessary because the observations can be 7 or 10 minutes resolution,\n",
    "while the models can be 30 to 60 minutes."
   ]
  },
  {
   "cell_type": "code",
   "execution_count": 11,
   "metadata": {
    "collapsed": false,
    "scrolled": true
   },
   "outputs": [],
   "source": [
    "data = ndbc + coops\n",
    "\n",
    "index = pd.date_range(start=config['date']['start'].replace(tzinfo=None),\n",
    "                      end=config['date']['stop'].replace(tzinfo=None),\n",
    "                      freq='1H')\n",
    "\n",
    "# Preserve metadata with `reindex`.\n",
    "observations = []\n",
    "for series in data:\n",
    "    _metadata = series._metadata\n",
    "    obs = series.reindex(index=index, limit=1, method='nearest')\n",
    "    obs._metadata = _metadata\n",
    "    observations.append(obs)"
   ]
  },
  {
   "cell_type": "markdown",
   "metadata": {},
   "source": [
    "In this next cell we will save the data for quicker access later."
   ]
  },
  {
   "cell_type": "code",
   "execution_count": 12,
   "metadata": {
    "collapsed": false,
    "scrolled": false
   },
   "outputs": [],
   "source": [
    "import iris\n",
    "from ioos_tools.tardis import series2cube\n",
    "\n",
    "attr = dict(\n",
    "    featureType='timeSeries',\n",
    "    Conventions='CF-1.6',\n",
    "    standard_name_vocabulary='CF-1.6',\n",
    "    cdm_data_type=\"Station\",\n",
    "    comment=\"Data from http://opendap.co-ops.nos.noaa.gov\"\n",
    ")\n",
    "\n",
    "\n",
    "cubes = iris.cube.CubeList(\n",
    "    [series2cube(obs, attr=attr) for obs in observations]\n",
    ")\n",
    "\n",
    "outfile = os.path.join(save_dir, 'OBS_DATA.nc')\n",
    "iris.save(cubes, outfile)"
   ]
  },
  {
   "cell_type": "markdown",
   "metadata": {},
   "source": [
    "Now it is time to loop the models we found above,"
   ]
  },
  {
   "cell_type": "code",
   "execution_count": 13,
   "metadata": {
    "collapsed": false
   },
   "outputs": [
    {
     "name": "stdout",
     "output_type": "stream",
     "text": [
      "**************************** Models ****************************\n",
      "\n",
      "[Reading url 1/5]: http://www.smast.umassd.edu:8080/thredds/dodsC/FVCOM/NECOFS/Forecasts/NECOFS_GOM3_FORECAST.nc\n",
      "\n",
      "[Reading url 2/5]: http://www.smast.umassd.edu:8080/thredds/dodsC/FVCOM/NECOFS/Forecasts/NECOFS_FVCOM_OCEAN_MASSBAY_FORECAST.nc\n",
      "\n",
      "[Reading url 3/5]: http://oos.soest.hawaii.edu/thredds/dodsC/pacioos/hycom/global\n",
      "\n",
      "[Reading url 4/5]: http://thredds.aoos.org/thredds/dodsC/G1_SST_GLOBAL.nc\n",
      "\n",
      "[Reading url 5/5]: http://oos.soest.hawaii.edu/thredds/dodsC/hioos/model/atm/ncep_global/NCEP_Global_Atmospheric_Model_best.ncd\n",
      "Cannot get cube for: http://oos.soest.hawaii.edu/thredds/dodsC/hioos/model/atm/ncep_global/NCEP_Global_Atmospheric_Model_best.ncd\n",
      "Cannot find ['sea_water_temperature', 'sea_surface_temperature', 'sea_water_potential_temperature', 'equivalent_potential_temperature', 'sea_water_conservative_temperature', 'pseudo_equivalent_potential_temperature'] in http://oos.soest.hawaii.edu/thredds/dodsC/hioos/model/atm/ncep_global/NCEP_Global_Atmospheric_Model_best.ncd.\n"
     ]
    }
   ],
   "source": [
    "from iris.exceptions import (CoordinateNotFoundError, ConstraintMismatchError,\n",
    "                             MergeError)\n",
    "from ioos_tools.ioos import get_model_name\n",
    "from ioos_tools.tardis import quick_load_cubes, proc_cube, is_model, get_surface\n",
    "\n",
    "print(fmt(' Models '))\n",
    "cubes = dict()\n",
    "for k, url in enumerate(dap_urls):\n",
    "    print('\\n[Reading url {}/{}]: {}'.format(k+1, len(dap_urls), url))\n",
    "    try:\n",
    "        cube = quick_load_cubes(url, config['cf_names'],\n",
    "                                callback=None, strict=True)\n",
    "        if is_model(cube):\n",
    "            cube = proc_cube(cube,\n",
    "                             bbox=config['region']['bbox'],\n",
    "                             time=(config['date']['start'],\n",
    "                                   config['date']['stop']),\n",
    "                             units=config['units'])\n",
    "        else:\n",
    "            print(\"[Not model data]: {}\".format(url))\n",
    "            continue\n",
    "        cube = get_surface(cube)\n",
    "        mod_name = get_model_name(url)\n",
    "        cubes.update({mod_name: cube})\n",
    "    except (RuntimeError, ValueError,\n",
    "            ConstraintMismatchError, CoordinateNotFoundError,\n",
    "            IndexError) as e:\n",
    "        print('Cannot get cube for: {}\\n{}'.format(url, e))"
   ]
  },
  {
   "cell_type": "markdown",
   "metadata": {},
   "source": [
    "Next, we will match them with the nearest observed time-series. The `max_dist=0.08` is in degrees, that is roughly 8 kilometers."
   ]
  },
  {
   "cell_type": "code",
   "execution_count": 14,
   "metadata": {
    "collapsed": false
   },
   "outputs": [
    {
     "name": "stdout",
     "output_type": "stream",
     "text": [
      " Downloading to file /home/filipe/IOOS/notebooks_demos/notebooks/latest/Forecasts-NECOFS_FVCOM_OCEAN_MASSBAY_FORECAST.nc \n",
      "[Water  ] BOSTON 16 NM East of Boston, MA\n",
      "[Water  ] Buoy A0102 - Mass. Bay/Stellwagen\n",
      "[Water  ] Boston, MA\n",
      "Finished processing [Forecasts-NECOFS_FVCOM_OCEAN_MASSBAY_FORECAST]\n",
      " Downloading to file /home/filipe/IOOS/notebooks_demos/notebooks/latest/pacioos_hycom-global.nc \n",
      "[Water  ] BOSTON 16 NM East of Boston, MA\n",
      "[Water  ] Buoy A0102 - Mass. Bay/Stellwagen\n",
      "[Land   ] Boston, MA\n",
      "Finished processing [pacioos_hycom-global]\n",
      " Downloading to file /home/filipe/IOOS/notebooks_demos/notebooks/latest/G1_SST_GLOBAL.nc \n",
      "[Water  ] BOSTON 16 NM East of Boston, MA\n",
      "[Water  ] Buoy A0102 - Mass. Bay/Stellwagen\n",
      "[Water  ] Boston, MA\n",
      "Finished processing [G1_SST_GLOBAL]\n",
      " Downloading to file /home/filipe/IOOS/notebooks_demos/notebooks/latest/FVCOM_Forecasts-NECOFS_GOM3_FORECAST.nc \n",
      "[Water  ] BOSTON 16 NM East of Boston, MA\n",
      "[Water  ] Buoy A0102 - Mass. Bay/Stellwagen\n",
      "[Water  ] Boston, MA\n",
      "Finished processing [FVCOM_Forecasts-NECOFS_GOM3_FORECAST]\n"
     ]
    }
   ],
   "source": [
    "import iris\n",
    "from iris.pandas import as_series\n",
    "from ioos_tools.tardis import (make_tree, get_nearest_water,\n",
    "                               add_station, ensure_timeseries, remove_ssh)\n",
    "\n",
    "for mod_name, cube in cubes.items():\n",
    "    fname = '{}.nc'.format(mod_name)\n",
    "    fname = os.path.join(save_dir, fname)\n",
    "    print(fmt(' Downloading to file {} '.format(fname)))\n",
    "    try:\n",
    "        tree, lon, lat = make_tree(cube)\n",
    "    except CoordinateNotFoundError as e:\n",
    "        print('Cannot make KDTree for: {}'.format(mod_name))\n",
    "        continue\n",
    "    # Get model series at observed locations.\n",
    "    raw_series = dict()\n",
    "    for obs in observations:\n",
    "        obs = obs._metadata\n",
    "        station = obs['station_code']\n",
    "        try:\n",
    "            kw = dict(k=10, max_dist=0.08, min_var=0.01)\n",
    "            args = cube, tree, obs['lon'], obs['lat']\n",
    "            try:\n",
    "                series, dist, idx = get_nearest_water(*args, **kw)\n",
    "            except RuntimeError as e:\n",
    "                print('Cannot download {!r}.\\n{}'.format(cube, e))\n",
    "                series = None\n",
    "        except ValueError as e:\n",
    "            status = \"No Data\"\n",
    "            print('[{}] {}'.format(status, obs['station_name']))\n",
    "            continue\n",
    "        if not series:\n",
    "            status = \"Land   \"\n",
    "        else:\n",
    "            raw_series.update({station: series})\n",
    "            series = as_series(series)\n",
    "            status = \"Water  \"\n",
    "        print('[{}] {}'.format(status, obs['station_name']))\n",
    "    if raw_series:  # Save cube.\n",
    "        for station, cube in raw_series.items():\n",
    "            cube = add_station(cube, station)\n",
    "            cube = remove_ssh(cube)\n",
    "        try:\n",
    "            cube = iris.cube.CubeList(raw_series.values()).merge_cube()\n",
    "        except MergeError as e:\n",
    "            print(e)\n",
    "        ensure_timeseries(cube)\n",
    "        iris.save(cube, fname)\n",
    "        del cube\n",
    "    print('Finished processing [{}]'.format(mod_name))"
   ]
  },
  {
   "cell_type": "markdown",
   "metadata": {},
   "source": [
    "Now it is possible to compute some simple comparison metrics. First we'll calculate the model mean bias:\n",
    "\n",
    "$$ \\text{MB} = \\mathbf{\\overline{m}} - \\mathbf{\\overline{o}}$$"
   ]
  },
  {
   "cell_type": "code",
   "execution_count": 15,
   "metadata": {
    "collapsed": true
   },
   "outputs": [],
   "source": [
    "from ioos_tools.ioos import stations_keys\n",
    "\n",
    "\n",
    "def rename_cols(df, config):\n",
    "    cols = stations_keys(config, key='station_name')\n",
    "    return df.rename(columns=cols)"
   ]
  },
  {
   "cell_type": "code",
   "execution_count": 16,
   "metadata": {
    "collapsed": true
   },
   "outputs": [],
   "source": [
    "from ioos_tools.ioos import load_ncs\n",
    "from ioos_tools.skill_score import mean_bias, apply_skill\n",
    "\n",
    "dfs = load_ncs(config)\n",
    "\n",
    "df = apply_skill(dfs, mean_bias, remove_mean=False, filter_tides=False)\n",
    "skill_score = dict(mean_bias=df.to_dict())\n",
    "\n",
    "# Filter out stations with no valid comparison.\n",
    "df.dropna(how='all', axis=1, inplace=True)\n",
    "df = df.applymap('{:.2f}'.format).replace('nan', '--')"
   ]
  },
  {
   "cell_type": "markdown",
   "metadata": {},
   "source": [
    "And the root mean squared rrror of the deviations from the mean:\n",
    "$$ \\text{CRMS} = \\sqrt{\\left(\\mathbf{m'} - \\mathbf{o'}\\right)^2}$$\n",
    "\n",
    "where: $\\mathbf{m'} = \\mathbf{m} - \\mathbf{\\overline{m}}$ and $\\mathbf{o'} = \\mathbf{o} - \\mathbf{\\overline{o}}$"
   ]
  },
  {
   "cell_type": "code",
   "execution_count": 17,
   "metadata": {
    "collapsed": true
   },
   "outputs": [],
   "source": [
    "from ioos_tools.skill_score import rmse\n",
    "\n",
    "dfs = load_ncs(config)\n",
    "\n",
    "df = apply_skill(dfs, rmse, remove_mean=True, filter_tides=False)\n",
    "skill_score['rmse'] = df.to_dict()\n",
    "\n",
    "# Filter out stations with no valid comparison.\n",
    "df.dropna(how='all', axis=1, inplace=True)\n",
    "df = df.applymap('{:.2f}'.format).replace('nan', '--')"
   ]
  },
  {
   "cell_type": "markdown",
   "metadata": {},
   "source": [
    "The next 2 cells make the scores \"pretty\" for plotting."
   ]
  },
  {
   "cell_type": "code",
   "execution_count": 18,
   "metadata": {
    "collapsed": false
   },
   "outputs": [],
   "source": [
    "import pandas as pd\n",
    "\n",
    "# Stringfy keys.\n",
    "for key in skill_score.keys():\n",
    "    skill_score[key] = {str(k): v for k, v in skill_score[key].items()}\n",
    "\n",
    "mean_bias = pd.DataFrame.from_dict(skill_score['mean_bias'])\n",
    "mean_bias = mean_bias.applymap('{:.2f}'.format).replace('nan', '--')\n",
    "\n",
    "skill_score = pd.DataFrame.from_dict(skill_score['rmse'])\n",
    "skill_score = skill_score.applymap('{:.2f}'.format).replace('nan', '--')"
   ]
  },
  {
   "cell_type": "code",
   "execution_count": 19,
   "metadata": {
    "collapsed": true
   },
   "outputs": [],
   "source": [
    "from ioos_tools.ioos import make_map\n",
    "\n",
    "bbox = config['region']['bbox']\n",
    "units = config['units']\n",
    "run_name = config['run_name']\n",
    "\n",
    "kw = dict(zoom_start=11, line=True, states=False,\n",
    "          secoora_stations=False, layers=False)\n",
    "mapa = make_map(bbox, **kw)"
   ]
  },
  {
   "cell_type": "markdown",
   "metadata": {},
   "source": [
    "The cells from `[20]` to `[25]` create a [`folium`](https://github.com/python-visualization/folium) map with [`bokeh`](http://bokeh.pydata.org/en/latest/) for the time-series at the observed points.\n",
    "\n",
    "Note that we did mark the nearest model cell location used in the comparison."
   ]
  },
  {
   "cell_type": "code",
   "execution_count": 20,
   "metadata": {
    "collapsed": false
   },
   "outputs": [
    {
     "data": {
      "text/plain": [
       "<folium.plugins.marker_cluster.MarkerCluster at 0x7f83cb735b70>"
      ]
     },
     "execution_count": 20,
     "metadata": {},
     "output_type": "execute_result"
    }
   ],
   "source": [
    "all_obs = stations_keys(config)\n",
    "\n",
    "from glob import glob\n",
    "from operator import itemgetter\n",
    "\n",
    "import iris\n",
    "import folium\n",
    "from folium.plugins import MarkerCluster\n",
    "\n",
    "iris.FUTURE.netcdf_promote = True\n",
    "\n",
    "big_list = []\n",
    "for fname in glob(os.path.join(save_dir, \"*.nc\")):\n",
    "    if 'OBS_DATA' in fname:\n",
    "        continue\n",
    "    cube = iris.load_cube(fname)\n",
    "    model = os.path.split(fname)[1].split('-')[-1].split('.')[0]\n",
    "    lons = cube.coord(axis='X').points\n",
    "    lats = cube.coord(axis='Y').points\n",
    "    stations = cube.coord('station_code').points\n",
    "    models = [model]*lons.size\n",
    "    lista = zip(models, lons.tolist(), lats.tolist(), stations.tolist())\n",
    "    big_list.extend(lista)\n",
    "\n",
    "big_list.sort(key=itemgetter(3))\n",
    "df = pd.DataFrame(big_list, columns=['name', 'lon', 'lat', 'station'])\n",
    "df.set_index('station', drop=True, inplace=True)\n",
    "groups = df.groupby(df.index)\n",
    "\n",
    "\n",
    "locations, popups = [], []\n",
    "for station, info in groups:\n",
    "    sta_name = all_obs[station]\n",
    "    for lat, lon, name in zip(info.lat, info.lon, info.name):\n",
    "        locations.append([lat, lon])\n",
    "        popups.append('[{}]: {}'.format(name, sta_name))\n",
    "\n",
    "MarkerCluster(locations=locations, popups=popups).add_to(mapa)"
   ]
  },
  {
   "cell_type": "markdown",
   "metadata": {},
   "source": [
    "Here we use a dictionary with some models we expect to find so we can create a better legend for the plots. If any new models are found, we will use its filename in the legend as a default until we can go back and add a short name to our library."
   ]
  },
  {
   "cell_type": "code",
   "execution_count": 21,
   "metadata": {
    "collapsed": true
   },
   "outputs": [],
   "source": [
    "titles = {\n",
    "    'coawst_4_use_best': 'COAWST_4',\n",
    "    'global': 'HYCOM',\n",
    "    'NECOFS_GOM3_FORECAST': 'NECOFS_GOM3',\n",
    "    'NECOFS_FVCOM_OCEAN_MASSBAY_FORECAST': 'NECOFS_MassBay',\n",
    "    'OBS_DATA': 'Observations'\n",
    "}"
   ]
  },
  {
   "cell_type": "code",
   "execution_count": 22,
   "metadata": {
    "collapsed": true
   },
   "outputs": [],
   "source": [
    "from bokeh.resources import CDN\n",
    "from bokeh.plotting import figure\n",
    "from bokeh.embed import file_html\n",
    "from bokeh.models import HoverTool\n",
    "from itertools import cycle\n",
    "from bokeh.palettes import Spectral6\n",
    "\n",
    "from folium.element import IFrame\n",
    "\n",
    "# Plot defaults.\n",
    "colors = Spectral6\n",
    "colorcycler = cycle(colors)\n",
    "tools = \"pan,box_zoom,reset\"\n",
    "width, height = 750, 250\n",
    "\n",
    "\n",
    "def make_plot(df, station):\n",
    "    p = figure(toolbar_location=\"above\",\n",
    "               x_axis_type=\"datetime\",\n",
    "               width=width,\n",
    "               height=height,\n",
    "               tools=tools,\n",
    "               title=str(station))\n",
    "    for column, series in df.iteritems():\n",
    "        series.dropna(inplace=True)\n",
    "        if not series.empty:\n",
    "            line = p.line(\n",
    "                x=series.index,\n",
    "                y=series.values,\n",
    "                legend=\"%s\" % titles.get(column, column),\n",
    "                line_color=next(colorcycler),\n",
    "                line_width=5,\n",
    "                line_cap='round',\n",
    "                line_join='round'\n",
    "            )\n",
    "            if 'OBS_DATA' not in column:\n",
    "                bias = mean_bias[str(station)][column]\n",
    "                skill = skill_score[str(station)][column]\n",
    "            else:\n",
    "                skill = bias = 'NA'\n",
    "            p.add_tools(HoverTool(tooltips=[(\"Name\", \"%s\" % column),\n",
    "                                            (\"Bias\", bias),\n",
    "                                            (\"Skill\", skill)],\n",
    "                                  renderers=[line]))\n",
    "    return p\n",
    "\n",
    "\n",
    "def make_marker(p, station):\n",
    "    lons = stations_keys(config, key='lon')\n",
    "    lats = stations_keys(config, key='lat')\n",
    "\n",
    "    lon, lat = lons[station], lats[station]\n",
    "    html = file_html(p, CDN, station)\n",
    "    iframe = IFrame(html, width=width+40, height=height+80)\n",
    "\n",
    "    popup = folium.Popup(iframe, max_width=2650)\n",
    "    icon = folium.Icon(color='green', icon='stats')\n",
    "    marker = folium.Marker(location=[lat, lon],\n",
    "                           popup=popup,\n",
    "                           icon=icon)\n",
    "    return marker"
   ]
  },
  {
   "cell_type": "code",
   "execution_count": 23,
   "metadata": {
    "collapsed": false
   },
   "outputs": [
    {
     "data": {
      "text/html": [
       "<div style=\"width:100%;\"><div style=\"position:relative;width:100%;height:0;padding-bottom:60%;\"><iframe src=\"data:text/html;base64,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\" style=\"position:absolute;width:100%;height:100%;left:0;top:0;\"></iframe></div></div>"
      ],
      "text/plain": [
       "<folium.folium.Map at 0x7f83b711ff98>"
      ]
     },
     "execution_count": 23,
     "metadata": {},
     "output_type": "execute_result"
    }
   ],
   "source": [
    "dfs = load_ncs(config)\n",
    "\n",
    "for station in dfs:\n",
    "    sta_name = all_obs[station]\n",
    "    df = dfs[station]\n",
    "    if df.empty:\n",
    "        continue\n",
    "    p = make_plot(df, station)\n",
    "    maker = make_marker(p, station)\n",
    "    maker.add_to(mapa)\n",
    "\n",
    "mapa"
   ]
  },
  {
   "cell_type": "markdown",
   "metadata": {},
   "source": [
    "Now we can navigate the map and click on the markers to explorer our findings.\n",
    "\n",
    "The green markers locate the observations locations. They pop-up an interactive plot with the time-series and scores for the models (hover over the lines to se the scores). The blue markers indicate the nearest model grid point found for the comparison."
   ]
  },
  {
   "cell_type": "markdown",
   "metadata": {},
   "source": [
    "<br>\n",
    "Right click and choose Save link as... to\n",
    "[download](https://raw.githubusercontent.com/ioos/notebooks_demos/master/notebooks/2016-12-22-boston_light_swim.ipynb)\n",
    "this notebook, or see a static view [here](http://nbviewer.ipython.org/urls/raw.githubusercontent.com/ioos/notebooks_demos/master/notebooks/2016-12-22-boston_light_swim.ipynb)."
   ]
  }
 ],
 "metadata": {
  "anaconda-cloud": {},
  "kernelspec": {
   "display_name": "Python [default]",
   "language": "python",
   "name": "python3"
  },
  "language_info": {
   "codemirror_mode": {
    "name": "ipython",
    "version": 3
   },
   "file_extension": ".py",
   "mimetype": "text/x-python",
   "name": "python",
   "nbconvert_exporter": "python",
   "pygments_lexer": "ipython3",
   "version": "3.5.2"
  }
 },
 "nbformat": 4,
 "nbformat_minor": 0
}
