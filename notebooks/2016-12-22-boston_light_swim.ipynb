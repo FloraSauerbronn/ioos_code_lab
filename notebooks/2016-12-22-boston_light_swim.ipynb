{
 "cells": [
  {
   "cell_type": "markdown",
   "metadata": {},
   "source": [
    "# The Boston Light Swim temperature analysis with Python\n",
    "\n",
    "In the past we demonstrated how to perform a CSW catalog search with [`OWSLib`](https://ioos.github.io/notebooks_demos//notebooks/2016-12-19-exploring_csw),\n",
    "and how to obtain near real-time data with [`pyoos`](https://ioos.github.io/notebooks_demos//notebooks/2016-10-12-fetching_data).\n",
    "In this notebook we will use both to find all observations and model data around the Boston Harbor to access the sea water temperature.\n",
    "\n",
    "\n",
    "This workflow is part of an example to advise swimmers of the annual [Boston lighthouse swim](http://bostonlightswim.org/) of the Boston Harbor water temperature conditions prior to the race. For more information regarding the workflow presented here see [Signell, Richard P.; Fernandes, Filipe; Wilcox, Kyle.   2016. \"Dynamic Reusable Workflows for Ocean Science.\" *J. Mar. Sci. Eng.* 4, no. 4: 68](http://dx.doi.org/10.3390/jmse4040068).\n",
    "\n",
    "(This notebook uses a custom `ioos_tools` module that needs to be added to the path separately. We recommend cloning the [repository](https://github.com/ioos/notebooks_demos) on GitHub which already includes the most update version of `ioos_tools`.)"
   ]
  },
  {
   "cell_type": "code",
   "execution_count": 1,
   "metadata": {
    "collapsed": true
   },
   "outputs": [],
   "source": [
    "import os\n",
    "import sys\n",
    "import warnings\n",
    "\n",
    "ioos_tools = os.path.join(os.path.pardir)\n",
    "sys.path.append(ioos_tools)\n",
    "\n",
    "# Suppresing warnings for a \"pretty output.\"\n",
    "warnings.simplefilter('ignore')"
   ]
  },
  {
   "cell_type": "markdown",
   "metadata": {},
   "source": [
    "This notebook is quite big and complex,\n",
    "so to help us keep things organized we'll define a cell with the most important options and switches.\n",
    "\n",
    "Below we can define the date,\n",
    "bounding box, phenomena `SOS` and `CF` names and units,\n",
    "and the catalogs we will search."
   ]
  },
  {
   "cell_type": "code",
   "execution_count": 2,
   "metadata": {},
   "outputs": [
    {
     "name": "stdout",
     "output_type": "stream",
     "text": [
      "Overwriting config.yaml\n"
     ]
    }
   ],
   "source": [
    "%%writefile config.yaml\n",
    "\n",
    "# Specify a YYYY-MM-DD hh:mm:ss date or integer day offset.\n",
    "# If both start and stop are offsets they will be computed relative to datetime.today() at midnight.\n",
    "# Use the dates commented below to reproduce the last Boston Light Swim event forecast.\n",
    "date:\n",
    "    start: -5 # 2016-8-16 00:00:00\n",
    "    stop: +4 # 2016-8-29 00:00:00\n",
    "\n",
    "run_name: 'latest'\n",
    "\n",
    "# Boston harbor.\n",
    "region:\n",
    "    bbox: [-71.3, 42.03, -70.57, 42.63]\n",
    "    crs: 'urn:ogc:def:crs:OGC:1.3:CRS84'\n",
    "\n",
    "sos_name: 'sea_water_temperature'\n",
    "\n",
    "cf_names:\n",
    "    - sea_water_temperature\n",
    "    - sea_surface_temperature\n",
    "    - sea_water_potential_temperature\n",
    "    - equivalent_potential_temperature\n",
    "    - sea_water_conservative_temperature\n",
    "    - pseudo_equivalent_potential_temperature\n",
    "\n",
    "units: 'celsius'\n",
    "\n",
    "catalogs:\n",
    "    - https://data.ioos.us/csw\n",
    "    - https://gamone.whoi.edu/csw"
   ]
  },
  {
   "cell_type": "markdown",
   "metadata": {},
   "source": [
    "We'll print some of the search configuration options along the way to keep track of them."
   ]
  },
  {
   "cell_type": "code",
   "execution_count": 3,
   "metadata": {},
   "outputs": [
    {
     "name": "stdout",
     "output_type": "stream",
     "text": [
      "Saving data inside directory /home/filipe/IOOS/notebooks_demos/notebooks/latest\n",
      "*********************** Run information ************************\n",
      "Run date: 2017-06-06 14:14:41\n",
      "Start: 2017-06-01 00:00:00\n",
      "Stop: 2017-06-10 00:00:00\n",
      "Bounding box: -71.30, 42.03,-70.57, 42.63\n"
     ]
    }
   ],
   "source": [
    "import shutil\n",
    "from datetime import datetime\n",
    "from ioos_tools.ioos import parse_config\n",
    "\n",
    "config = parse_config('config.yaml')\n",
    "\n",
    "# Saves downloaded data into a temporary directory.\n",
    "save_dir = os.path.abspath(config['run_name'])\n",
    "if os.path.exists(save_dir):\n",
    "    shutil.rmtree(save_dir)\n",
    "os.makedirs(save_dir)\n",
    "\n",
    "fmt = '{:*^64}'.format\n",
    "print(fmt('Saving data inside directory {}'.format(save_dir)))\n",
    "print(fmt(' Run information '))\n",
    "print('Run date: {:%Y-%m-%d %H:%M:%S}'.format(datetime.utcnow()))\n",
    "print('Start: {:%Y-%m-%d %H:%M:%S}'.format(config['date']['start']))\n",
    "print('Stop: {:%Y-%m-%d %H:%M:%S}'.format(config['date']['stop']))\n",
    "print('Bounding box: {0:3.2f}, {1:3.2f},'\n",
    "      '{2:3.2f}, {3:3.2f}'.format(*config['region']['bbox']))"
   ]
  },
  {
   "cell_type": "markdown",
   "metadata": {},
   "source": [
    "We already created an `OWSLib.fes` filter [before](https://ioos.github.io/notebooks_demos//notebooks/2016-12-19-exploring_csw).\n",
    "The main difference here is that we do not want the atmosphere model data,\n",
    "so we are filtering out all the `GRIB-2` data format."
   ]
  },
  {
   "cell_type": "code",
   "execution_count": 4,
   "metadata": {
    "collapsed": true
   },
   "outputs": [],
   "source": [
    "def make_filter(config):\n",
    "    from owslib import fes\n",
    "    from ioos_tools.ioos import fes_date_filter\n",
    "    kw = dict(wildCard='*', escapeChar='\\\\',\n",
    "              singleChar='?', propertyname='apiso:AnyText')\n",
    "\n",
    "    or_filt = fes.Or([fes.PropertyIsLike(literal=('*%s*' % val), **kw)\n",
    "                      for val in config['cf_names']])\n",
    "\n",
    "    not_filt = fes.Not([fes.PropertyIsLike(literal='GRIB-2', **kw)])\n",
    "\n",
    "    begin, end = fes_date_filter(config['date']['start'],\n",
    "                                 config['date']['stop'])\n",
    "    bbox_crs = fes.BBox(config['region']['bbox'],\n",
    "                        crs=config['region']['crs'])\n",
    "    filter_list = [fes.And([bbox_crs, begin, end, or_filt, not_filt])]\n",
    "    return filter_list\n",
    "\n",
    "\n",
    "filter_list = make_filter(config)"
   ]
  },
  {
   "cell_type": "markdown",
   "metadata": {},
   "source": [
    "In the cell below we ask the catalog for all the returns that match the filter and have an OPeNDAP endpoint."
   ]
  },
  {
   "cell_type": "code",
   "execution_count": 5,
   "metadata": {
    "code_folding": [],
    "scrolled": false
   },
   "outputs": [
    {
     "name": "stdout",
     "output_type": "stream",
     "text": [
      "********************* Catalog information **********************\n",
      "URL: https://data.ioos.us/csw\n",
      "Number of datasets available: 27\n",
      "NERACOOS Gulf of Maine Ocean Array: Realtime Buoy Observations: A01 Massachusetts Bay: A01 OPTICS3m Massachusetts Bay\n",
      "NERACOOS Gulf of Maine Ocean Array: Realtime Buoy Observations: A01 Massachusetts Bay: A01 OPTICS3m Massachusetts Bay\n",
      "NERACOOS Gulf of Maine Ocean Array: Realtime Buoy Observations: A01 Massachusetts Bay: A01 OPTODE51m Massachusetts Bay\n",
      "NERACOOS Gulf of Maine Ocean Array: Realtime Buoy Observations: A01 Massachusetts Bay: A01 OPTODE51m Massachusetts Bay\n",
      "NOAA Coral Reef Watch Operational Daily Near-Real-Time Global 5-km Satellite Coral Bleaching Monitoring Products\n",
      "ROMS ESPRESSO Real-Time Operational IS4DVAR Forecast System Version 2 (NEW) 2013-present FMRC Averages\n",
      "ROMS ESPRESSO Real-Time Operational IS4DVAR Forecast System Version 2 (NEW) 2013-present FMRC History\n",
      "COAWST Modeling System: USEast: ROMS-WRF-SWAN coupled model (aka CNAPS)\n",
      "Coupled Northwest Atlantic Prediction System (CNAPS)\n",
      "Directional wave and sea surface temperature measurements collected in situ by Datawell Mark 3 directional buoy located near ASTORIA CANYON, OR from 2016/03/30 17:00:00 to 2017/06/05 18:02:09.\n",
      "Directional wave and sea surface temperature measurements collected in situ by Datawell Mark 3 directional buoy located near CLATSOP SPIT, OR from 2016/10/12 17:00:00 to 2017/06/05 18:01:19.\n",
      "Directional wave and sea surface temperature measurements collected in situ by Datawell Mark 3 directional buoy located near GRAYS HARBOR, WA from 2016/03/16 22:00:00 to 2017/06/05 17:55:45.\n",
      "Directional wave and sea surface temperature measurements collected in situ by Datawell Mark 3 directional buoy located near LOWER COOK INLET, AK from 2016/12/16 00:00:00 to 2017/06/05 18:09:35.\n",
      "Directional wave and sea surface temperature measurements collected in situ by Datawell Mark 3 directional buoy located near OCEAN STATION PAPA from 2015/01/01 01:00:00 to 2017/06/05 17:42:48.\n",
      "Directional wave and sea surface temperature measurements collected in situ by Datawell Mark 3 directional buoy located near SCRIPPS NEARSHORE, CA from 2015/01/07 23:00:00 to 2017/06/05 17:30:32.\n",
      "G1SST, 1km blended SST\n",
      "HYbrid Coordinate Ocean Model (HYCOM): Global\n",
      "NECOFS (FVCOM) - Scituate - Latest Forecast\n",
      "NECOFS GOM3 (FVCOM) - Northeast US - Latest Forecast\n",
      "NECOFS Massachusetts (FVCOM) - Boston - Latest Forecast\n",
      "NECOFS Massachusetts (FVCOM) - Massachusetts Coastal - Latest Forecast\n",
      "NERACOOS Gulf of Maine Ocean Array: Realtime Buoy Observations: A01 Massachusetts Bay: A01 ACCELEROMETER Massachusetts Bay\n",
      "NERACOOS Gulf of Maine Ocean Array: Realtime Buoy Observations: A01 Massachusetts Bay: A01 ACCELEROMETER Massachusetts Bay\n",
      "NERACOOS Gulf of Maine Ocean Array: Realtime Buoy Observations: A01 Massachusetts Bay: A01 CTD1m Massachusetts Bay\n",
      "NERACOOS Gulf of Maine Ocean Array: Realtime Buoy Observations: A01 Massachusetts Bay: A01 CTD20m Massachusetts Bay\n",
      "NERACOOS Gulf of Maine Ocean Array: Realtime Buoy Observations: A01 Massachusetts Bay: A01 CTD20m Massachusetts Bay\n",
      "NERACOOS Gulf of Maine Ocean Array: Realtime Buoy Observations: A01 Massachusetts Bay: A01 MET Massachusetts Bay\n",
      "***************************** DAP ******************************\n",
      "http://oos.soest.hawaii.edu/thredds/dodsC/hioos/satellite/dhw_5km.html\n",
      "http://oos.soest.hawaii.edu/thredds/dodsC/pacioos/hycom/global.html\n",
      "http://tds.marine.rutgers.edu/thredds/dodsC/roms/espresso/2013_da/avg/ESPRESSO_Real-Time_v2_Averages_Best.html\n",
      "http://tds.marine.rutgers.edu/thredds/dodsC/roms/espresso/2013_da/his/ESPRESSO_Real-Time_v2_History_Best.html\n",
      "http://thredds.cdip.ucsd.edu/thredds/dodsC/cdip/realtime/036p1_rt.nc.html\n",
      "http://thredds.cdip.ucsd.edu/thredds/dodsC/cdip/realtime/162p1_rt.nc.html\n",
      "http://thredds.cdip.ucsd.edu/thredds/dodsC/cdip/realtime/166p1_rt.nc.html\n",
      "http://thredds.cdip.ucsd.edu/thredds/dodsC/cdip/realtime/179p1_rt.nc.html\n",
      "http://thredds.cdip.ucsd.edu/thredds/dodsC/cdip/realtime/201p1_rt.nc.html\n",
      "http://thredds.cdip.ucsd.edu/thredds/dodsC/cdip/realtime/204p1_rt.nc.html\n",
      "http://thredds.secoora.org/thredds/dodsC/G1_SST_GLOBAL.nc.html\n",
      "http://thredds.secoora.org/thredds/dodsC/SECOORA_NCSU_CNAPS.nc.html\n",
      "http://www.neracoos.org/thredds/dodsC/UMO/DSG/SOS/A01/Accelerometer/HistoricRealtime/Agg.ncml.html\n",
      "http://www.neracoos.org/thredds/dodsC/UMO/DSG/SOS/A01/CTD1m/HistoricRealtime/Agg.ncml.html\n",
      "http://www.neracoos.org/thredds/dodsC/UMO/DSG/SOS/A01/CTD20m/HistoricRealtime/Agg.ncml.html\n",
      "http://www.neracoos.org/thredds/dodsC/UMO/DSG/SOS/A01/OPTICS_S3m/HistoricRealtime/Agg.ncml.html\n",
      "http://www.neracoos.org/thredds/dodsC/UMO/DSG/SOS/A01/OPTODE51m/HistoricRealtime/Agg.ncml.html\n",
      "http://www.neracoos.org/thredds/dodsC/UMO/Realtime/SOS/A01/Accelerometer/Realtime.ncml.html\n",
      "http://www.neracoos.org/thredds/dodsC/UMO/Realtime/SOS/A01/CTD20m/Realtime.ncml.html\n",
      "http://www.neracoos.org/thredds/dodsC/UMO/Realtime/SOS/A01/Met/Realtime.ncml.html\n",
      "http://www.neracoos.org/thredds/dodsC/UMO/Realtime/SOS/A01/OPTICS_S3m/Realtime.ncml.html\n",
      "http://www.neracoos.org/thredds/dodsC/UMO/Realtime/SOS/A01/OPTODE51m/Realtime.ncml.html\n",
      "http://www.smast.umassd.edu:8080/thredds/dodsC/FVCOM/NECOFS/Forecasts/NECOFS_FVCOM_OCEAN_BOSTON_FORECAST.nc.html\n",
      "http://www.smast.umassd.edu:8080/thredds/dodsC/FVCOM/NECOFS/Forecasts/NECOFS_FVCOM_OCEAN_MASSBAY_FORECAST.nc.html\n",
      "http://www.smast.umassd.edu:8080/thredds/dodsC/FVCOM/NECOFS/Forecasts/NECOFS_FVCOM_OCEAN_SCITUATE_FORECAST.nc.html\n",
      "http://www.smast.umassd.edu:8080/thredds/dodsC/FVCOM/NECOFS/Forecasts/NECOFS_GOM3_FORECAST.nc.html\n",
      "\n",
      "\n",
      "URL: https://gamone.whoi.edu/csw\n",
      "Number of datasets available: 2\n",
      "COAWST Forecast System : USGS : US East Coast and Gulf of Mexico (Experimental)\n",
      "COAWST Modeling System: USEast: ROMS-WRF-SWAN coupled model (aka CNAPS)\n",
      "***************************** DAP ******************************\n",
      "http://geoport-dev.whoi.edu/thredds/dodsC/coawst_4/use/fmrc/coawst_4_use_best.ncd.html\n",
      "\n",
      "\n"
     ]
    }
   ],
   "source": [
    "from ioos_tools.ioos import service_urls, get_csw_records\n",
    "from owslib.csw import CatalogueServiceWeb\n",
    "\n",
    "\n",
    "dap_urls = []\n",
    "print(fmt(' Catalog information '))\n",
    "for endpoint in config['catalogs']:\n",
    "    print('URL: {}'.format(endpoint))\n",
    "    try:\n",
    "        csw = CatalogueServiceWeb(endpoint, timeout=120)\n",
    "    except Exception as e:\n",
    "        print('{}'.format(e))\n",
    "        continue\n",
    "    csw = get_csw_records(csw, filter_list, esn='full')\n",
    "    OPeNDAP = service_urls(csw.records, identifier='OPeNDAP:OPeNDAP')\n",
    "    odp = service_urls(csw.records, identifier='urn:x-esri:specification:ServiceType:odp:url')\n",
    "    dap = OPeNDAP + odp\n",
    "    dap_urls.extend(dap)\n",
    "\n",
    "    print('Number of datasets available: {}'.format(len(csw.records.keys())))\n",
    "\n",
    "    for rec, item in csw.records.items():\n",
    "        print('{}'.format(item.title))\n",
    "    if dap:\n",
    "        print(fmt(' DAP '))\n",
    "        for url in dap:\n",
    "            print('{}.html'.format(url))\n",
    "    print('\\n')\n",
    "\n",
    "# Get only unique endpoints.\n",
    "dap_urls = list(set(dap_urls))"
   ]
  },
  {
   "cell_type": "markdown",
   "metadata": {},
   "source": [
    "We found some models, and observations from NERACOOS there.\n",
    "However, we do know that there are some buoys from NDBC and CO-OPS available too.\n",
    "Also, those NERACOOS observations seem to be from a [CTD](http://www.neracoos.org/thredds/dodsC/UMO/DSG/SOS/A01/CTD1m/HistoricRealtime/Agg.ncml.html) mounted at 65 meters below the sea surface. Rendering them useless from our purpose.\n",
    "\n",
    "So let's use the catalog only for the models by filtering the observations with `is_station` below.\n",
    "And we'll rely `CO-OPS` and `NDBC` services for the observations."
   ]
  },
  {
   "cell_type": "code",
   "execution_count": 6,
   "metadata": {},
   "outputs": [
    {
     "name": "stdout",
     "output_type": "stream",
     "text": [
      "************************* Filtered DAP *************************\n",
      "http://oos.soest.hawaii.edu/thredds/dodsC/pacioos/hycom/global.html\n",
      "http://www.smast.umassd.edu:8080/thredds/dodsC/FVCOM/NECOFS/Forecasts/NECOFS_FVCOM_OCEAN_BOSTON_FORECAST.nc.html\n",
      "http://geoport-dev.whoi.edu/thredds/dodsC/coawst_4/use/fmrc/coawst_4_use_best.ncd.html\n",
      "http://tds.marine.rutgers.edu/thredds/dodsC/roms/espresso/2013_da/his/ESPRESSO_Real-Time_v2_History_Best.html\n",
      "http://thredds.secoora.org/thredds/dodsC/G1_SST_GLOBAL.nc.html\n",
      "http://www.smast.umassd.edu:8080/thredds/dodsC/FVCOM/NECOFS/Forecasts/NECOFS_FVCOM_OCEAN_MASSBAY_FORECAST.nc.html\n",
      "http://www.smast.umassd.edu:8080/thredds/dodsC/FVCOM/NECOFS/Forecasts/NECOFS_GOM3_FORECAST.nc.html\n",
      "http://tds.marine.rutgers.edu/thredds/dodsC/roms/espresso/2013_da/avg/ESPRESSO_Real-Time_v2_Averages_Best.html\n",
      "http://www.smast.umassd.edu:8080/thredds/dodsC/FVCOM/NECOFS/Forecasts/NECOFS_FVCOM_OCEAN_SCITUATE_FORECAST.nc.html\n",
      "http://oos.soest.hawaii.edu/thredds/dodsC/hioos/satellite/dhw_5km.html\n",
      "http://thredds.secoora.org/thredds/dodsC/SECOORA_NCSU_CNAPS.nc.html\n"
     ]
    }
   ],
   "source": [
    "from ioos_tools.ioos import is_station\n",
    "\n",
    "# Filter out some station endpoints.\n",
    "non_stations = []\n",
    "for url in dap_urls:\n",
    "    try:\n",
    "        if not is_station(url):\n",
    "            non_stations.append(url)\n",
    "    except (RuntimeError, OSError, IOError) as e:\n",
    "        print('Could not access URL {}. {!r}'.format(url, e))\n",
    "\n",
    "dap_urls = non_stations\n",
    "\n",
    "print(fmt(' Filtered DAP '))\n",
    "for url in dap_urls:\n",
    "    print('{}.html'.format(url))"
   ]
  },
  {
   "cell_type": "markdown",
   "metadata": {},
   "source": [
    "Now we can use `pyoos` collectors for `NdbcSos`,"
   ]
  },
  {
   "cell_type": "code",
   "execution_count": 7,
   "metadata": {},
   "outputs": [
    {
     "name": "stdout",
     "output_type": "stream",
     "text": [
      "******************* NDBC Collector offerings *******************\n",
      "National Data Buoy Center SOS: 986 offerings\n"
     ]
    }
   ],
   "source": [
    "from pyoos.collectors.ndbc.ndbc_sos import NdbcSos\n",
    "\n",
    "collector_ndbc = NdbcSos()\n",
    "\n",
    "collector_ndbc.set_bbox(config['region']['bbox'])\n",
    "collector_ndbc.end_time = config['date']['stop']\n",
    "collector_ndbc.start_time = config['date']['start']\n",
    "collector_ndbc.variables = [config['sos_name']]\n",
    "\n",
    "ofrs = collector_ndbc.server.offerings\n",
    "title = collector_ndbc.server.identification.title\n",
    "print(fmt(' NDBC Collector offerings '))\n",
    "print('{}: {} offerings'.format(title, len(ofrs)))"
   ]
  },
  {
   "cell_type": "code",
   "execution_count": 8,
   "metadata": {},
   "outputs": [
    {
     "data": {
      "text/html": [
       "<div>\n",
       "<style>\n",
       "    .dataframe thead tr:only-child th {\n",
       "        text-align: right;\n",
       "    }\n",
       "\n",
       "    .dataframe thead th {\n",
       "        text-align: left;\n",
       "    }\n",
       "\n",
       "    .dataframe tbody tr th {\n",
       "        vertical-align: top;\n",
       "    }\n",
       "</style>\n",
       "<table border=\"1\" class=\"dataframe\">\n",
       "  <thead>\n",
       "    <tr style=\"text-align: right;\">\n",
       "      <th></th>\n",
       "      <th>depth</th>\n",
       "      <th>lat</th>\n",
       "      <th>lon</th>\n",
       "      <th>sensor</th>\n",
       "      <th>station_name</th>\n",
       "    </tr>\n",
       "    <tr>\n",
       "      <th>station_code</th>\n",
       "      <th></th>\n",
       "      <th></th>\n",
       "      <th></th>\n",
       "      <th></th>\n",
       "      <th></th>\n",
       "    </tr>\n",
       "  </thead>\n",
       "  <tbody>\n",
       "    <tr>\n",
       "      <th>44013</th>\n",
       "      <td>0.6</td>\n",
       "      <td>42.346</td>\n",
       "      <td>-70.651</td>\n",
       "      <td>urn:ioos:sensor:wmo:44013::watertemp1</td>\n",
       "      <td>BOSTON 16 NM East of Boston, MA</td>\n",
       "    </tr>\n",
       "  </tbody>\n",
       "</table>\n",
       "</div>"
      ],
      "text/plain": [
       "              depth     lat     lon                                 sensor  \\\n",
       "station_code                                                                 \n",
       "44013           0.6  42.346 -70.651  urn:ioos:sensor:wmo:44013::watertemp1   \n",
       "\n",
       "                                 station_name  \n",
       "station_code                                   \n",
       "44013         BOSTON 16 NM East of Boston, MA  "
      ]
     },
     "execution_count": 8,
     "metadata": {},
     "output_type": "execute_result"
    }
   ],
   "source": [
    "import pandas as pd\n",
    "from ioos_tools.ioos import collector2table\n",
    "\n",
    "ndbc = collector2table(collector=collector_ndbc,\n",
    "                       config=config,\n",
    "                       col='sea_water_temperature (C)')\n",
    "\n",
    "if ndbc:\n",
    "    data = dict(\n",
    "        station_name=[s._metadata.get('station_name') for s in ndbc],\n",
    "        station_code=[s._metadata.get('station_code') for s in ndbc],\n",
    "        sensor=[s._metadata.get('sensor') for s in ndbc],\n",
    "        lon=[s._metadata.get('lon') for s in ndbc],\n",
    "        lat=[s._metadata.get('lat') for s in ndbc],\n",
    "        depth=[s._metadata.get('depth') for s in ndbc],\n",
    "    )\n",
    "\n",
    "table = pd.DataFrame(data).set_index('station_code')\n",
    "table"
   ]
  },
  {
   "cell_type": "markdown",
   "metadata": {},
   "source": [
    "and `CoopsSos`."
   ]
  },
  {
   "cell_type": "code",
   "execution_count": 9,
   "metadata": {},
   "outputs": [
    {
     "name": "stdout",
     "output_type": "stream",
     "text": [
      "********************* Collector offerings **********************\n",
      "NOAA.NOS.CO-OPS SOS: 1152 offerings\n"
     ]
    }
   ],
   "source": [
    "from pyoos.collectors.coops.coops_sos import CoopsSos\n",
    "\n",
    "collector_coops = CoopsSos()\n",
    "\n",
    "collector_coops.set_bbox(config['region']['bbox'])\n",
    "collector_coops.end_time = config['date']['stop']\n",
    "collector_coops.start_time = config['date']['start']\n",
    "collector_coops.variables = [config['sos_name']]\n",
    "\n",
    "ofrs = collector_coops.server.offerings\n",
    "title = collector_coops.server.identification.title\n",
    "print(fmt(' Collector offerings '))\n",
    "print('{}: {} offerings'.format(title, len(ofrs)))"
   ]
  },
  {
   "cell_type": "code",
   "execution_count": 10,
   "metadata": {
    "scrolled": true
   },
   "outputs": [
    {
     "data": {
      "text/html": [
       "<div>\n",
       "<style>\n",
       "    .dataframe thead tr:only-child th {\n",
       "        text-align: right;\n",
       "    }\n",
       "\n",
       "    .dataframe thead th {\n",
       "        text-align: left;\n",
       "    }\n",
       "\n",
       "    .dataframe tbody tr th {\n",
       "        vertical-align: top;\n",
       "    }\n",
       "</style>\n",
       "<table border=\"1\" class=\"dataframe\">\n",
       "  <thead>\n",
       "    <tr style=\"text-align: right;\">\n",
       "      <th></th>\n",
       "      <th>depth</th>\n",
       "      <th>lat</th>\n",
       "      <th>lon</th>\n",
       "      <th>sensor</th>\n",
       "      <th>station_name</th>\n",
       "    </tr>\n",
       "    <tr>\n",
       "      <th>station_code</th>\n",
       "      <th></th>\n",
       "      <th></th>\n",
       "      <th></th>\n",
       "      <th></th>\n",
       "      <th></th>\n",
       "    </tr>\n",
       "  </thead>\n",
       "  <tbody>\n",
       "    <tr>\n",
       "      <th>8443970</th>\n",
       "      <td>None</td>\n",
       "      <td>42.3548</td>\n",
       "      <td>-71.0534</td>\n",
       "      <td>urn:ioos:sensor:NOAA.NOS.CO-OPS:8443970:E1</td>\n",
       "      <td>Boston, MA</td>\n",
       "    </tr>\n",
       "  </tbody>\n",
       "</table>\n",
       "</div>"
      ],
      "text/plain": [
       "             depth      lat      lon  \\\n",
       "station_code                           \n",
       "8443970       None  42.3548 -71.0534   \n",
       "\n",
       "                                                  sensor station_name  \n",
       "station_code                                                           \n",
       "8443970       urn:ioos:sensor:NOAA.NOS.CO-OPS:8443970:E1   Boston, MA  "
      ]
     },
     "execution_count": 10,
     "metadata": {},
     "output_type": "execute_result"
    }
   ],
   "source": [
    "coops = collector2table(collector=collector_coops,\n",
    "                        config=config,\n",
    "                        col='sea_water_temperature (C)')\n",
    "\n",
    "if coops:\n",
    "    data = dict(\n",
    "        station_name=[s._metadata.get('station_name') for s in coops],\n",
    "        station_code=[s._metadata.get('station_code') for s in coops],\n",
    "        sensor=[s._metadata.get('sensor') for s in coops],\n",
    "        lon=[s._metadata.get('lon') for s in coops],\n",
    "        lat=[s._metadata.get('lat') for s in coops],\n",
    "        depth=[s._metadata.get('depth') for s in coops],\n",
    "    )\n",
    "\n",
    "table = pd.DataFrame(data).set_index('station_code')\n",
    "table"
   ]
  },
  {
   "cell_type": "markdown",
   "metadata": {},
   "source": [
    "We will join all the observations into an uniform series, interpolated to 1-hour interval, for the model-data comparison.\n",
    "\n",
    "This step is necessary because the observations can be 7 or 10 minutes resolution,\n",
    "while the models can be 30 to 60 minutes."
   ]
  },
  {
   "cell_type": "code",
   "execution_count": 11,
   "metadata": {
    "collapsed": true,
    "scrolled": true
   },
   "outputs": [],
   "source": [
    "data = ndbc + coops\n",
    "\n",
    "index = pd.date_range(start=config['date']['start'].replace(tzinfo=None),\n",
    "                      end=config['date']['stop'].replace(tzinfo=None),\n",
    "                      freq='1H')\n",
    "\n",
    "# Preserve metadata with `reindex`.\n",
    "observations = []\n",
    "for series in data:\n",
    "    _metadata = series._metadata\n",
    "    obs = series.reindex(index=index, limit=1, method='nearest')\n",
    "    obs._metadata = _metadata\n",
    "    observations.append(obs)"
   ]
  },
  {
   "cell_type": "markdown",
   "metadata": {},
   "source": [
    "In this next cell we will save the data for quicker access later."
   ]
  },
  {
   "cell_type": "code",
   "execution_count": 12,
   "metadata": {
    "collapsed": true,
    "scrolled": false
   },
   "outputs": [],
   "source": [
    "import iris\n",
    "from ioos_tools.tardis import series2cube\n",
    "\n",
    "attr = dict(\n",
    "    featureType='timeSeries',\n",
    "    Conventions='CF-1.6',\n",
    "    standard_name_vocabulary='CF-1.6',\n",
    "    cdm_data_type='Station',\n",
    "    comment='Data from http://opendap.co-ops.nos.noaa.gov'\n",
    ")\n",
    "\n",
    "\n",
    "cubes = iris.cube.CubeList(\n",
    "    [series2cube(obs, attr=attr) for obs in observations]\n",
    ")\n",
    "\n",
    "outfile = os.path.join(save_dir, 'OBS_DATA.nc')\n",
    "iris.save(cubes, outfile)"
   ]
  },
  {
   "cell_type": "markdown",
   "metadata": {},
   "source": [
    "Now it is time to loop the models we found above,"
   ]
  },
  {
   "cell_type": "code",
   "execution_count": 13,
   "metadata": {},
   "outputs": [
    {
     "name": "stdout",
     "output_type": "stream",
     "text": [
      "**************************** Models ****************************\n",
      "\n",
      "[Reading url 1/11]: http://oos.soest.hawaii.edu/thredds/dodsC/pacioos/hycom/global\n",
      "\n",
      "[Reading url 2/11]: http://www.smast.umassd.edu:8080/thredds/dodsC/FVCOM/NECOFS/Forecasts/NECOFS_FVCOM_OCEAN_BOSTON_FORECAST.nc\n",
      "\n",
      "[Reading url 3/11]: http://geoport-dev.whoi.edu/thredds/dodsC/coawst_4/use/fmrc/coawst_4_use_best.ncd\n",
      "\n",
      "[Reading url 4/11]: http://tds.marine.rutgers.edu/thredds/dodsC/roms/espresso/2013_da/his/ESPRESSO_Real-Time_v2_History_Best\n",
      "\n",
      "[Reading url 5/11]: http://thredds.secoora.org/thredds/dodsC/G1_SST_GLOBAL.nc\n",
      "\n",
      "[Reading url 6/11]: http://www.smast.umassd.edu:8080/thredds/dodsC/FVCOM/NECOFS/Forecasts/NECOFS_FVCOM_OCEAN_MASSBAY_FORECAST.nc\n",
      "\n",
      "[Reading url 7/11]: http://www.smast.umassd.edu:8080/thredds/dodsC/FVCOM/NECOFS/Forecasts/NECOFS_GOM3_FORECAST.nc\n",
      "\n",
      "[Reading url 8/11]: http://tds.marine.rutgers.edu/thredds/dodsC/roms/espresso/2013_da/avg/ESPRESSO_Real-Time_v2_Averages_Best\n",
      "\n",
      "[Reading url 9/11]: http://www.smast.umassd.edu:8080/thredds/dodsC/FVCOM/NECOFS/Forecasts/NECOFS_FVCOM_OCEAN_SCITUATE_FORECAST.nc\n",
      "\n",
      "[Reading url 10/11]: http://oos.soest.hawaii.edu/thredds/dodsC/hioos/satellite/dhw_5km\n",
      "\n",
      "[Reading url 11/11]: http://thredds.secoora.org/thredds/dodsC/SECOORA_NCSU_CNAPS.nc\n"
     ]
    }
   ],
   "source": [
    "from iris.exceptions import (CoordinateNotFoundError, ConstraintMismatchError,\n",
    "                             MergeError)\n",
    "from ioos_tools.ioos import get_model_name\n",
    "from ioos_tools.tardis import quick_load_cubes, proc_cube, is_model, get_surface\n",
    "\n",
    "print(fmt(' Models '))\n",
    "cubes = dict()\n",
    "for k, url in enumerate(dap_urls):\n",
    "    print('\\n[Reading url {}/{}]: {}'.format(k+1, len(dap_urls), url))\n",
    "    try:\n",
    "        cube = quick_load_cubes(url, config['cf_names'],\n",
    "                                callback=None, strict=True)\n",
    "        if is_model(cube):\n",
    "            cube = proc_cube(cube,\n",
    "                             bbox=config['region']['bbox'],\n",
    "                             time=(config['date']['start'],\n",
    "                                   config['date']['stop']),\n",
    "                             units=config['units'])\n",
    "        else:\n",
    "            print('[Not model data]: {}'.format(url))\n",
    "            continue\n",
    "        cube = get_surface(cube)\n",
    "        mod_name = get_model_name(url)\n",
    "        cubes.update({mod_name: cube})\n",
    "    except (RuntimeError, ValueError,\n",
    "            ConstraintMismatchError, CoordinateNotFoundError,\n",
    "            IndexError) as e:\n",
    "        print('Cannot get cube for: {}\\n{}'.format(url, e))"
   ]
  },
  {
   "cell_type": "markdown",
   "metadata": {},
   "source": [
    "Next, we will match them with the nearest observed time-series. The `max_dist=0.08` is in degrees, that is roughly 8 kilometers."
   ]
  },
  {
   "cell_type": "code",
   "execution_count": 14,
   "metadata": {},
   "outputs": [
    {
     "name": "stdout",
     "output_type": "stream",
     "text": [
      " Downloading to file /home/filipe/IOOS/notebooks_demos/notebooks/latest/pacioos_hycom-global.nc \n",
      "[Water  ] BOSTON 16 NM East of Boston, MA\n",
      "[Land   ] Boston, MA\n",
      "Finished processing [pacioos_hycom-global]\n",
      " Downloading to file /home/filipe/IOOS/notebooks_demos/notebooks/latest/Forecasts-NECOFS_FVCOM_OCEAN_BOSTON_FORECAST.nc \n",
      "[No Data] BOSTON 16 NM East of Boston, MA\n",
      "[Land   ] Boston, MA\n",
      "Finished processing [Forecasts-NECOFS_FVCOM_OCEAN_BOSTON_FORECAST]\n",
      " Downloading to file /home/filipe/IOOS/notebooks_demos/notebooks/latest/fmrc-coawst_4_use_best.nc \n",
      "[Water  ] BOSTON 16 NM East of Boston, MA\n",
      "[Water  ] Boston, MA\n",
      "Finished processing [fmrc-coawst_4_use_best]\n",
      " Downloading to file /home/filipe/IOOS/notebooks_demos/notebooks/latest/roms_2013_da-ESPRESSO_Real-Time_v2_History_Best.nc \n",
      "[Land   ] BOSTON 16 NM East of Boston, MA\n",
      "[Land   ] Boston, MA\n",
      "Finished processing [roms_2013_da-ESPRESSO_Real-Time_v2_History_Best]\n",
      " Downloading to file /home/filipe/IOOS/notebooks_demos/notebooks/latest/G1_SST_GLOBAL.nc \n",
      "[Water  ] BOSTON 16 NM East of Boston, MA\n",
      "[Water  ] Boston, MA\n",
      "Finished processing [G1_SST_GLOBAL]\n",
      " Downloading to file /home/filipe/IOOS/notebooks_demos/notebooks/latest/Forecasts-NECOFS_FVCOM_OCEAN_MASSBAY_FORECAST.nc \n",
      "[Water  ] BOSTON 16 NM East of Boston, MA\n",
      "[Water  ] Boston, MA\n",
      "Finished processing [Forecasts-NECOFS_FVCOM_OCEAN_MASSBAY_FORECAST]\n",
      " Downloading to file /home/filipe/IOOS/notebooks_demos/notebooks/latest/FVCOM_Forecasts-NECOFS_GOM3_FORECAST.nc \n",
      "[Water  ] BOSTON 16 NM East of Boston, MA\n",
      "[Water  ] Boston, MA\n",
      "Finished processing [FVCOM_Forecasts-NECOFS_GOM3_FORECAST]\n",
      " Downloading to file /home/filipe/IOOS/notebooks_demos/notebooks/latest/roms_2013_da_avg-ESPRESSO_Real-Time_v2_Averages_Best.nc \n",
      "[Land   ] BOSTON 16 NM East of Boston, MA\n",
      "[Land   ] Boston, MA\n",
      "Finished processing [roms_2013_da_avg-ESPRESSO_Real-Time_v2_Averages_Best]\n",
      " Downloading to file /home/filipe/IOOS/notebooks_demos/notebooks/latest/Forecasts-NECOFS_FVCOM_OCEAN_SCITUATE_FORECAST.nc \n",
      "[No Data] BOSTON 16 NM East of Boston, MA\n",
      "[No Data] Boston, MA\n",
      "Finished processing [Forecasts-NECOFS_FVCOM_OCEAN_SCITUATE_FORECAST]\n",
      " Downloading to file /home/filipe/IOOS/notebooks_demos/notebooks/latest/hioos_satellite-dhw_5km.nc \n",
      "[Water  ] BOSTON 16 NM East of Boston, MA\n",
      "[Water  ] Boston, MA\n",
      "Finished processing [hioos_satellite-dhw_5km]\n",
      " Downloading to file /home/filipe/IOOS/notebooks_demos/notebooks/latest/SECOORA_NCSU_CNAPS.nc \n",
      "[Water  ] BOSTON 16 NM East of Boston, MA\n",
      "[Land   ] Boston, MA\n",
      "Finished processing [SECOORA_NCSU_CNAPS]\n"
     ]
    }
   ],
   "source": [
    "import iris\n",
    "from iris.pandas import as_series\n",
    "from ioos_tools.tardis import (make_tree, get_nearest_water,\n",
    "                               add_station, ensure_timeseries, remove_ssh)\n",
    "\n",
    "for mod_name, cube in cubes.items():\n",
    "    fname = '{}.nc'.format(mod_name)\n",
    "    fname = os.path.join(save_dir, fname)\n",
    "    print(fmt(' Downloading to file {} '.format(fname)))\n",
    "    try:\n",
    "        tree, lon, lat = make_tree(cube)\n",
    "    except CoordinateNotFoundError as e:\n",
    "        print('Cannot make KDTree for: {}'.format(mod_name))\n",
    "        continue\n",
    "    # Get model series at observed locations.\n",
    "    raw_series = dict()\n",
    "    for obs in observations:\n",
    "        obs = obs._metadata\n",
    "        station = obs['station_code']\n",
    "        try:\n",
    "            kw = dict(k=10, max_dist=0.08, min_var=0.01)\n",
    "            args = cube, tree, obs['lon'], obs['lat']\n",
    "            try:\n",
    "                series, dist, idx = get_nearest_water(*args, **kw)\n",
    "            except RuntimeError as e:\n",
    "                print('Cannot download {!r}.\\n{}'.format(cube, e))\n",
    "                series = None\n",
    "        except ValueError as e:\n",
    "            status = 'No Data'\n",
    "            print('[{}] {}'.format(status, obs['station_name']))\n",
    "            continue\n",
    "        if not series:\n",
    "            status = 'Land   '\n",
    "        else:\n",
    "            raw_series.update({station: series})\n",
    "            series = as_series(series)\n",
    "            status = 'Water  '\n",
    "        print('[{}] {}'.format(status, obs['station_name']))\n",
    "    if raw_series:  # Save cube.\n",
    "        for station, cube in raw_series.items():\n",
    "            cube = add_station(cube, station)\n",
    "            cube = remove_ssh(cube)\n",
    "        try:\n",
    "            cube = iris.cube.CubeList(raw_series.values()).merge_cube()\n",
    "        except MergeError as e:\n",
    "            print(e)\n",
    "        ensure_timeseries(cube)\n",
    "        try:\n",
    "            iris.save(cube, fname)\n",
    "        except AttributeError:\n",
    "            # FIXME: we should patch the bad attribute instead of removing everything.\n",
    "            cube.attributes = {}\n",
    "            iris.save(cube, fname)\n",
    "        del cube\n",
    "    print('Finished processing [{}]'.format(mod_name))"
   ]
  },
  {
   "cell_type": "markdown",
   "metadata": {},
   "source": [
    "Now it is possible to compute some simple comparison metrics. First we'll calculate the model mean bias:\n",
    "\n",
    "$$ \\text{MB} = \\mathbf{\\overline{m}} - \\mathbf{\\overline{o}}$$"
   ]
  },
  {
   "cell_type": "code",
   "execution_count": 15,
   "metadata": {
    "collapsed": true
   },
   "outputs": [],
   "source": [
    "from ioos_tools.ioos import stations_keys\n",
    "\n",
    "\n",
    "def rename_cols(df, config):\n",
    "    cols = stations_keys(config, key='station_name')\n",
    "    return df.rename(columns=cols)"
   ]
  },
  {
   "cell_type": "code",
   "execution_count": 16,
   "metadata": {
    "collapsed": true,
    "scrolled": false
   },
   "outputs": [],
   "source": [
    "from ioos_tools.ioos import load_ncs\n",
    "from ioos_tools.skill_score import mean_bias, apply_skill\n",
    "\n",
    "dfs = load_ncs(config)\n",
    "\n",
    "df = apply_skill(dfs, mean_bias, remove_mean=False, filter_tides=False)\n",
    "skill_score = dict(mean_bias=df.to_dict())\n",
    "\n",
    "# Filter out stations with no valid comparison.\n",
    "df.dropna(how='all', axis=1, inplace=True)\n",
    "df = df.applymap('{:.2f}'.format).replace('nan', '--')"
   ]
  },
  {
   "cell_type": "markdown",
   "metadata": {},
   "source": [
    "And the root mean squared rrror of the deviations from the mean:\n",
    "$$ \\text{CRMS} = \\sqrt{\\left(\\mathbf{m'} - \\mathbf{o'}\\right)^2}$$\n",
    "\n",
    "where: $\\mathbf{m'} = \\mathbf{m} - \\mathbf{\\overline{m}}$ and $\\mathbf{o'} = \\mathbf{o} - \\mathbf{\\overline{o}}$"
   ]
  },
  {
   "cell_type": "code",
   "execution_count": 17,
   "metadata": {
    "collapsed": true
   },
   "outputs": [],
   "source": [
    "from ioos_tools.skill_score import rmse\n",
    "\n",
    "dfs = load_ncs(config)\n",
    "\n",
    "df = apply_skill(dfs, rmse, remove_mean=True, filter_tides=False)\n",
    "skill_score['rmse'] = df.to_dict()\n",
    "\n",
    "# Filter out stations with no valid comparison.\n",
    "df.dropna(how='all', axis=1, inplace=True)\n",
    "df = df.applymap('{:.2f}'.format).replace('nan', '--')"
   ]
  },
  {
   "cell_type": "markdown",
   "metadata": {},
   "source": [
    "The next 2 cells make the scores \"pretty\" for plotting."
   ]
  },
  {
   "cell_type": "code",
   "execution_count": 18,
   "metadata": {
    "collapsed": true
   },
   "outputs": [],
   "source": [
    "import pandas as pd\n",
    "\n",
    "# Stringfy keys.\n",
    "for key in skill_score.keys():\n",
    "    skill_score[key] = {str(k): v for k, v in skill_score[key].items()}\n",
    "\n",
    "mean_bias = pd.DataFrame.from_dict(skill_score['mean_bias'])\n",
    "mean_bias = mean_bias.applymap('{:.2f}'.format).replace('nan', '--')\n",
    "\n",
    "skill_score = pd.DataFrame.from_dict(skill_score['rmse'])\n",
    "skill_score = skill_score.applymap('{:.2f}'.format).replace('nan', '--')"
   ]
  },
  {
   "cell_type": "code",
   "execution_count": 19,
   "metadata": {
    "collapsed": true
   },
   "outputs": [],
   "source": [
    "from ioos_tools.ioos import make_map\n",
    "\n",
    "bbox = config['region']['bbox']\n",
    "units = config['units']\n",
    "run_name = config['run_name']\n",
    "\n",
    "kw = dict(zoom_start=11, line=True, states=False,\n",
    "          secoora_stations=False, layers=False)\n",
    "mapa = make_map(bbox, **kw)"
   ]
  },
  {
   "cell_type": "markdown",
   "metadata": {},
   "source": [
    "The cells from `[20]` to `[25]` create a [`folium`](https://github.com/python-visualization/folium) map with [`bokeh`](http://bokeh.pydata.org/en/latest/) for the time-series at the observed points.\n",
    "\n",
    "Note that we did mark the nearest model cell location used in the comparison."
   ]
  },
  {
   "cell_type": "code",
   "execution_count": 20,
   "metadata": {},
   "outputs": [
    {
     "data": {
      "text/plain": [
       "<folium.plugins.marker_cluster.MarkerCluster at 0x7ff173c70d68>"
      ]
     },
     "execution_count": 20,
     "metadata": {},
     "output_type": "execute_result"
    }
   ],
   "source": [
    "all_obs = stations_keys(config)\n",
    "\n",
    "from glob import glob\n",
    "from operator import itemgetter\n",
    "\n",
    "import iris\n",
    "import folium\n",
    "from folium.plugins import MarkerCluster\n",
    "\n",
    "iris.FUTURE.netcdf_promote = True\n",
    "\n",
    "big_list = []\n",
    "for fname in glob(os.path.join(save_dir, '*.nc')):\n",
    "    if 'OBS_DATA' in fname:\n",
    "        continue\n",
    "    cube = iris.load_cube(fname)\n",
    "    model = os.path.split(fname)[1].split('-')[-1].split('.')[0]\n",
    "    lons = cube.coord(axis='X').points\n",
    "    lats = cube.coord(axis='Y').points\n",
    "    stations = cube.coord('station_code').points\n",
    "    models = [model]*lons.size\n",
    "    lista = zip(models, lons.tolist(), lats.tolist(), stations.tolist())\n",
    "    big_list.extend(lista)\n",
    "\n",
    "big_list.sort(key=itemgetter(3))\n",
    "df = pd.DataFrame(big_list, columns=['name', 'lon', 'lat', 'station'])\n",
    "df.set_index('station', drop=True, inplace=True)\n",
    "groups = df.groupby(df.index)\n",
    "\n",
    "\n",
    "locations, popups = [], []\n",
    "for station, info in groups:\n",
    "    sta_name = all_obs[station]\n",
    "    for lat, lon, name in zip(info.lat, info.lon, info.name):\n",
    "        locations.append([lat, lon])\n",
    "        popups.append('[{}]: {}'.format(name, sta_name))\n",
    "\n",
    "MarkerCluster(locations=locations, popups=popups).add_to(mapa)"
   ]
  },
  {
   "cell_type": "markdown",
   "metadata": {},
   "source": [
    "Here we use a dictionary with some models we expect to find so we can create a better legend for the plots. If any new models are found, we will use its filename in the legend as a default until we can go back and add a short name to our library."
   ]
  },
  {
   "cell_type": "code",
   "execution_count": 21,
   "metadata": {
    "collapsed": true
   },
   "outputs": [],
   "source": [
    "titles = {\n",
    "    'coawst_4_use_best': 'COAWST_4',\n",
    "    'global': 'HYCOM',\n",
    "    'NECOFS_GOM3_FORECAST': 'NECOFS_GOM3',\n",
    "    'NECOFS_FVCOM_OCEAN_MASSBAY_FORECAST': 'NECOFS_MassBay',\n",
    "    'OBS_DATA': 'Observations'\n",
    "}"
   ]
  },
  {
   "cell_type": "code",
   "execution_count": 22,
   "metadata": {
    "collapsed": true
   },
   "outputs": [],
   "source": [
    "from bokeh.resources import CDN\n",
    "from bokeh.plotting import figure\n",
    "from bokeh.embed import file_html\n",
    "from bokeh.models import HoverTool\n",
    "from itertools import cycle\n",
    "from bokeh.palettes import Spectral6\n",
    "\n",
    "from folium import IFrame\n",
    "\n",
    "# Plot defaults.\n",
    "colors = Spectral6\n",
    "colorcycler = cycle(colors)\n",
    "tools = 'pan,box_zoom,reset'\n",
    "width, height = 750, 250\n",
    "\n",
    "\n",
    "def make_plot(df, station):\n",
    "    p = figure(toolbar_location='above',\n",
    "               x_axis_type='datetime',\n",
    "               width=width,\n",
    "               height=height,\n",
    "               tools=tools,\n",
    "               title=str(station))\n",
    "    for column, series in df.iteritems():\n",
    "        series.dropna(inplace=True)\n",
    "        if not series.empty:\n",
    "            line = p.line(\n",
    "                x=series.index,\n",
    "                y=series.values,\n",
    "                legend='%s' % titles.get(column, column),\n",
    "                line_color=next(colorcycler),\n",
    "                line_width=5,\n",
    "                line_cap='round',\n",
    "                line_join='round'\n",
    "            )\n",
    "            if 'OBS_DATA' not in column:\n",
    "                bias = mean_bias[str(station)][column]\n",
    "                skill = skill_score[str(station)][column]\n",
    "            else:\n",
    "                skill = bias = 'NA'\n",
    "            p.add_tools(HoverTool(tooltips=[('Name', '%s' % column),\n",
    "                                            ('Bias', bias),\n",
    "                                            ('Skill', skill)],\n",
    "                                  renderers=[line]))\n",
    "    return p\n",
    "\n",
    "\n",
    "def make_marker(p, station):\n",
    "    lons = stations_keys(config, key='lon')\n",
    "    lats = stations_keys(config, key='lat')\n",
    "\n",
    "    lon, lat = lons[station], lats[station]\n",
    "    html = file_html(p, CDN, station)\n",
    "    iframe = IFrame(html, width=width+40, height=height+80)\n",
    "\n",
    "    popup = folium.Popup(iframe, max_width=2650)\n",
    "    icon = folium.Icon(color='green', icon='stats')\n",
    "    marker = folium.Marker(location=[lat, lon],\n",
    "                           popup=popup,\n",
    "                           icon=icon)\n",
    "    return marker"
   ]
  },
  {
   "cell_type": "code",
   "execution_count": 23,
   "metadata": {},
   "outputs": [
    {
     "data": {
      "text/html": [
       "<div style=\"width:100%;\"><div style=\"position:relative;width:100%;height:0;padding-bottom:60%;\"><iframe src=\"data:text/html;charset=utf-8;base64,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\" style=\"position:absolute;width:100%;height:100%;left:0;top:0;border:none !important;\" allowfullscreen webkitallowfullscreen mozallowfullscreen></iframe></div></div>"
      ],
      "text/plain": [
       "<folium.folium.Map at 0x7ff1726b6240>"
      ]
     },
     "execution_count": 23,
     "metadata": {},
     "output_type": "execute_result"
    }
   ],
   "source": [
    "dfs = load_ncs(config)\n",
    "\n",
    "for station in dfs:\n",
    "    sta_name = all_obs[station]\n",
    "    df = dfs[station]\n",
    "    if df.empty:\n",
    "        continue\n",
    "    p = make_plot(df, station)\n",
    "    maker = make_marker(p, station)\n",
    "    maker.add_to(mapa)\n",
    "\n",
    "mapa"
   ]
  },
  {
   "cell_type": "markdown",
   "metadata": {},
   "source": [
    "Now we can navigate the map and click on the markers to explorer our findings.\n",
    "\n",
    "The green markers locate the observations locations. They pop-up an interactive plot with the time-series and scores for the models (hover over the lines to se the scores). The blue markers indicate the nearest model grid point found for the comparison."
   ]
  },
  {
   "cell_type": "markdown",
   "metadata": {},
   "source": [
    "<br>\n",
    "Right click and choose Save link as... to\n",
    "[download](https://raw.githubusercontent.com/ioos/notebooks_demos/master/notebooks/2016-12-22-boston_light_swim.ipynb)\n",
    "this notebook, or see a static view [here](http://nbviewer.ipython.org/urls/raw.githubusercontent.com/ioos/notebooks_demos/master/notebooks/2016-12-22-boston_light_swim.ipynb)."
   ]
  }
 ],
 "metadata": {
  "anaconda-cloud": {},
  "kernelspec": {
   "display_name": "Python [default]",
   "language": "python",
   "name": "python3"
  },
  "language_info": {
   "codemirror_mode": {
    "name": "ipython",
    "version": 3
   },
   "file_extension": ".py",
   "mimetype": "text/x-python",
   "name": "python",
   "nbconvert_exporter": "python",
   "pygments_lexer": "ipython3",
   "version": "3.6.1"
  }
 },
 "nbformat": 4,
 "nbformat_minor": 1
}
