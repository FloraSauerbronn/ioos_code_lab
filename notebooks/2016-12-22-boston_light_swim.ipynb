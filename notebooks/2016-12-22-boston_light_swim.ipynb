{
 "cells": [
  {
   "cell_type": "markdown",
   "metadata": {},
   "source": [
    "# The Boston Light Swim temperature analysis with Python\n",
    "\n",
    "In the past we demonstrated how to perform a CSW catalog search with [`OWSLib`](https://ioos.github.io/notebooks_demos//notebooks/2016-12-19-exploring_csw),\n",
    "and how to obtain near real-time data with [`pyoos`](https://ioos.github.io/notebooks_demos//notebooks/2016-10-12-fetching_data).\n",
    "In this notebook we will use both to find all observations and model data around the Boston Harbor to access the sea water temperature.\n",
    "\n",
    "\n",
    "This workflow is part of an example to advise swimmers of the annual [Boston lighthouse swim](http://bostonlightswim.org/) of the Boston Harbor water temperature conditions prior to the race. For more information regarding the workflow presented here see [Signell, Richard P.; Fernandes, Filipe; Wilcox, Kyle.   2016. \"Dynamic Reusable Workflows for Ocean Science.\" *J. Mar. Sci. Eng.* 4, no. 4: 68](http://dx.doi.org/10.3390/jmse4040068)."
   ]
  },
  {
   "cell_type": "code",
   "execution_count": 1,
   "metadata": {},
   "outputs": [],
   "source": [
    "import warnings\n",
    "\n",
    "# Suppresing warnings for a \"pretty output.\"\n",
    "warnings.simplefilter('ignore')"
   ]
  },
  {
   "cell_type": "markdown",
   "metadata": {},
   "source": [
    "This notebook is quite big and complex,\n",
    "so to help us keep things organized we'll define a cell with the most important options and switches.\n",
    "\n",
    "Below we can define the date,\n",
    "bounding box, phenomena `SOS` and `CF` names and units,\n",
    "and the catalogs we will search."
   ]
  },
  {
   "cell_type": "code",
   "execution_count": 2,
   "metadata": {},
   "outputs": [
    {
     "name": "stdout",
     "output_type": "stream",
     "text": [
      "Writing config.yaml\n"
     ]
    }
   ],
   "source": [
    "%%writefile config.yaml\n",
    "\n",
    "# Specify a YYYY-MM-DD hh:mm:ss date or integer day offset.\n",
    "# If both start and stop are offsets they will be computed relative to datetime.today() at midnight.\n",
    "# Use the dates commented below to reproduce the last Boston Light Swim event forecast.\n",
    "date:\n",
    "    start: -5 # 2016-8-16 00:00:00\n",
    "    stop: +4 # 2016-8-29 00:00:00\n",
    "\n",
    "run_name: 'latest'\n",
    "\n",
    "# Boston harbor.\n",
    "region:\n",
    "    bbox: [-71.3, 42.03, -70.57, 42.63]\n",
    "    # Try the bounding box below to see how the notebook will behave for a different region.\n",
    "    #bbox: [-74.5, 40, -72., 41.5]\n",
    "    crs: 'urn:ogc:def:crs:OGC:1.3:CRS84'\n",
    "\n",
    "sos_name: 'sea_water_temperature'\n",
    "\n",
    "cf_names:\n",
    "    - sea_water_temperature\n",
    "    - sea_surface_temperature\n",
    "    - sea_water_potential_temperature\n",
    "    - equivalent_potential_temperature\n",
    "    - sea_water_conservative_temperature\n",
    "    - pseudo_equivalent_potential_temperature\n",
    "\n",
    "units: 'celsius'\n",
    "\n",
    "catalogs:\n",
    "    - https://data.ioos.us/csw"
   ]
  },
  {
   "cell_type": "markdown",
   "metadata": {},
   "source": [
    "We'll print some of the search configuration options along the way to keep track of them."
   ]
  },
  {
   "cell_type": "code",
   "execution_count": 3,
   "metadata": {},
   "outputs": [
    {
     "name": "stdout",
     "output_type": "stream",
     "text": [
      "Saving data inside directory /home/filipe/IOOS/notebooks_demos/notebooks/latest\n",
      "*********************** Run information ************************\n",
      "Run date: 2019-01-29 17:28:41\n",
      "Start: 2019-01-24 00:00:00\n",
      "Stop: 2019-02-02 00:00:00\n",
      "Bounding box: -71.30, 42.03,-70.57, 42.63\n"
     ]
    }
   ],
   "source": [
    "import os\n",
    "import shutil\n",
    "from datetime import datetime\n",
    "from ioos_tools.ioos import parse_config\n",
    "\n",
    "config = parse_config('config.yaml')\n",
    "\n",
    "# Saves downloaded data into a temporary directory.\n",
    "save_dir = os.path.abspath(config['run_name'])\n",
    "if os.path.exists(save_dir):\n",
    "    shutil.rmtree(save_dir)\n",
    "os.makedirs(save_dir)\n",
    "\n",
    "fmt = '{:*^64}'.format\n",
    "print(fmt('Saving data inside directory {}'.format(save_dir)))\n",
    "print(fmt(' Run information '))\n",
    "print('Run date: {:%Y-%m-%d %H:%M:%S}'.format(datetime.utcnow()))\n",
    "print('Start: {:%Y-%m-%d %H:%M:%S}'.format(config['date']['start']))\n",
    "print('Stop: {:%Y-%m-%d %H:%M:%S}'.format(config['date']['stop']))\n",
    "print('Bounding box: {0:3.2f}, {1:3.2f},'\n",
    "      '{2:3.2f}, {3:3.2f}'.format(*config['region']['bbox']))"
   ]
  },
  {
   "cell_type": "markdown",
   "metadata": {},
   "source": [
    "We already created an `OWSLib.fes` filter [before](https://ioos.github.io/notebooks_demos//notebooks/2016-12-19-exploring_csw).\n",
    "The main difference here is that we do not want the atmosphere model data,\n",
    "so we are filtering out all the `GRIB-2` data format."
   ]
  },
  {
   "cell_type": "code",
   "execution_count": 4,
   "metadata": {},
   "outputs": [],
   "source": [
    "def make_filter(config):\n",
    "    from owslib import fes\n",
    "    from ioos_tools.ioos import fes_date_filter\n",
    "    kw = dict(wildCard='*', escapeChar='\\\\',\n",
    "              singleChar='?', propertyname='apiso:AnyText')\n",
    "\n",
    "    or_filt = fes.Or([fes.PropertyIsLike(literal=('*%s*' % val), **kw)\n",
    "                      for val in config['cf_names']])\n",
    "\n",
    "    not_filt = fes.Not([fes.PropertyIsLike(literal='GRIB-2', **kw)])\n",
    "\n",
    "    begin, end = fes_date_filter(config['date']['start'],\n",
    "                                 config['date']['stop'])\n",
    "    bbox_crs = fes.BBox(config['region']['bbox'],\n",
    "                        crs=config['region']['crs'])\n",
    "    filter_list = [fes.And([bbox_crs, begin, end, or_filt, not_filt])]\n",
    "    return filter_list\n",
    "\n",
    "\n",
    "filter_list = make_filter(config)"
   ]
  },
  {
   "cell_type": "markdown",
   "metadata": {},
   "source": [
    "In the cell below we ask the catalog for all the returns that match the filter and have an OPeNDAP endpoint."
   ]
  },
  {
   "cell_type": "code",
   "execution_count": 5,
   "metadata": {
    "code_folding": [],
    "scrolled": false
   },
   "outputs": [
    {
     "name": "stdout",
     "output_type": "stream",
     "text": [
      "********************* Catalog information **********************\n",
      "URL: https://data.ioos.us/csw\n",
      "Number of datasets available: 29\n",
      "NERACOOS Gulf of Maine Ocean Array: Realtime Buoy Observations: A01 Massachusetts Bay: A01 CTD1m Massachusetts Bay\n",
      "NERACOOS Gulf of Maine Ocean Array: Realtime Buoy Observations: A01 Massachusetts Bay: A01 CTD20m Massachusetts Bay\n",
      "NERACOOS Gulf of Maine Ocean Array: Realtime Buoy Observations: A01 Massachusetts Bay: A01 MET Massachusetts Bay\n",
      "NERACOOS Gulf of Maine Ocean Array: Realtime Buoy Observations: A01 Massachusetts Bay: A01 OPTICS3m Massachusetts Bay\n",
      "NERACOOS Gulf of Maine Ocean Array: Realtime Buoy Observations: A01 Massachusetts Bay: A01 OPTODE51m Massachusetts Bay\n",
      "NOAA Coral Reef Watch Operational Daily Near-Real-Time Global 5-km Satellite Coral Bleaching Monitoring Products\n",
      "ROMS doppio Real-Time Operational PSAS Forecast System Version 1 FMRC Averages\n",
      "ROMS doppio Real-Time Operational PSAS Forecast System Version 1 FMRC History\n",
      "urn:ioos:station:NOAA.NOS.CO-OPS:8443970 station, Boston, MA\n",
      "A01 Accelerometer - Waves\n",
      "A01 Directional Waves (waves.mstrain Experimental)\n",
      "A01 Met - Meteorology\n",
      "A01 Optics - Chlorophyll / Turbidity\n",
      "A01 Optode - Oxygen\n",
      "A01 SBE16 Oxygen\n",
      "A01 Sbe37 - CTD\n",
      "BOSTON 16 NM East of Boston, MA\n",
      "Buoy A01 - Massachusetts Bay\n",
      "Department of Physical Oceanography, School of Marine Sciences, University of Maine A01 Accelerometer Buoy Sensor\n",
      "Department of Physical Oceanography, School of Marine Sciences, University of Maine A01 Met Buoy Sensor\n",
      "Department of Physical Oceanography, School of Marine Sciences, University of Maine A01 Optode 51m Buoy Sensor\n",
      "Department of Physical Oceanography, School of Marine Sciences, University of Maine A01 Sbe37 1m Buoy Sensor\n",
      "Department of Physical Oceanography, School of Marine Sciences, University of Maine A01 Sbe37 20m Buoy Sensor\n",
      "Directional wave and sea surface temperature measurements collected in situ by Datawell DWR-M3 directional buoy located near CLATSOP SPIT, OR from 2018/02/07 22:03:45 to 2019/01/28 18:00:25.\n",
      "Directional wave and sea surface temperature measurements collected in situ by Datawell DWR-M3 directional buoy located near GRAYS HARBOR, WA from 2018/06/28 19:03:45 to 2019/01/28 18:00:25.\n",
      "Latest CDIP real-time buoy observations, 3-day aggregate\n",
      "NECOFS (FVCOM) - Scituate - Latest Forecast\n",
      "NECOFS Massachusetts (FVCOM) - Boston - Latest Forecast\n",
      "NECOFS Massachusetts (FVCOM) - Massachusetts Coastal - Latest Forecast\n",
      "***************************** DAP ******************************\n",
      "http://oos.soest.hawaii.edu/thredds/dodsC/hioos/satellite/dhw_5km.html\n",
      "http://tds.marine.rutgers.edu/thredds/dodsC/roms/doppio/2017_da/avg/Averages_Best.html\n",
      "http://tds.marine.rutgers.edu/thredds/dodsC/roms/doppio/2017_da/his/History_Best.html\n",
      "http://thredds.cdip.ucsd.edu/thredds/dodsC/cdip/realtime/036p1_rt.nc.html\n",
      "http://thredds.cdip.ucsd.edu/thredds/dodsC/cdip/realtime/162p1_rt.nc.html\n",
      "http://thredds.cdip.ucsd.edu/thredds/dodsC/cdip/realtime/latest_gudb_3day.nc.html\n",
      "http://www.neracoos.org/thredds/dodsC/UMO/DSG/SOS/A01/CTD1m/HistoricRealtime.html\n",
      "http://www.neracoos.org/thredds/dodsC/UMO/DSG/SOS/A01/CTD20m/HistoricRealtime.html\n",
      "http://www.neracoos.org/thredds/dodsC/UMO/DSG/SOS/A01/Met/HistoricRealtime.html\n",
      "http://www.neracoos.org/thredds/dodsC/UMO/DSG/SOS/A01/OPTICS_S3m/HistoricRealtime.html\n",
      "http://www.neracoos.org/thredds/dodsC/UMO/DSG/SOS/A01/OPTODE51m/HistoricRealtime.html\n",
      "http://www.neracoos.org/thredds/dodsC/UMO/Realtime/SOS/A01/DSG_A0140.accelerometer.realtime.nc.html\n",
      "http://www.neracoos.org/thredds/dodsC/UMO/Realtime/SOS/A01/DSG_A0140.met.realtime.nc.html\n",
      "http://www.neracoos.org/thredds/dodsC/UMO/Realtime/SOS/A01/DSG_A0140.optode.realtime.51m.nc.html\n",
      "http://www.neracoos.org/thredds/dodsC/UMO/Realtime/SOS/A01/DSG_A0140.sbe37.realtime.1m.nc.html\n",
      "http://www.neracoos.org/thredds/dodsC/UMO/Realtime/SOS/A01/DSG_A0140.sbe37.realtime.20m.nc.html\n",
      "http://www.smast.umassd.edu:8080/thredds/dodsC/FVCOM/NECOFS/Forecasts/NECOFS_FVCOM_OCEAN_BOSTON_FORECAST.nc.html\n",
      "http://www.smast.umassd.edu:8080/thredds/dodsC/FVCOM/NECOFS/Forecasts/NECOFS_FVCOM_OCEAN_MASSBAY_FORECAST.nc.html\n",
      "http://www.smast.umassd.edu:8080/thredds/dodsC/FVCOM/NECOFS/Forecasts/NECOFS_FVCOM_OCEAN_SCITUATE_FORECAST.nc.html\n",
      "https://opendap.co-ops.nos.noaa.gov/ioos-dif-sos/images/tide_gauge.jpg.html\n",
      "\n",
      "\n"
     ]
    }
   ],
   "source": [
    "from ioos_tools.ioos import service_urls, get_csw_records\n",
    "from owslib.csw import CatalogueServiceWeb\n",
    "\n",
    "\n",
    "dap_urls = []\n",
    "print(fmt(' Catalog information '))\n",
    "for endpoint in config['catalogs']:\n",
    "    print('URL: {}'.format(endpoint))\n",
    "    try:\n",
    "        csw = CatalogueServiceWeb(endpoint, timeout=120)\n",
    "    except Exception as e:\n",
    "        print('{}'.format(e))\n",
    "        continue\n",
    "    csw = get_csw_records(csw, filter_list, esn='full')\n",
    "    OPeNDAP = service_urls(csw.records, identifier='OPeNDAP:OPeNDAP')\n",
    "    odp = service_urls(csw.records, identifier='urn:x-esri:specification:ServiceType:odp:url')\n",
    "    dap = OPeNDAP + odp\n",
    "    dap_urls.extend(dap)\n",
    "\n",
    "    print('Number of datasets available: {}'.format(len(csw.records.keys())))\n",
    "\n",
    "    for rec, item in csw.records.items():\n",
    "        print('{}'.format(item.title))\n",
    "    if dap:\n",
    "        print(fmt(' DAP '))\n",
    "        for url in dap:\n",
    "            print('{}.html'.format(url))\n",
    "    print('\\n')\n",
    "\n",
    "# Get only unique endpoints.\n",
    "dap_urls = list(set(dap_urls))"
   ]
  },
  {
   "cell_type": "markdown",
   "metadata": {},
   "source": [
    "We found some models, and observations from NERACOOS there.\n",
    "However, we do know that there are some buoys from NDBC and CO-OPS available too.\n",
    "Also, those NERACOOS observations seem to be from a [CTD](http://www.neracoos.org/thredds/dodsC/UMO/DSG/SOS/A01/CTD1m/HistoricRealtime/Agg.ncml.html) mounted at 65 meters below the sea surface. Rendering them useless from our purpose.\n",
    "\n",
    "So let's use the catalog only for the models by filtering the observations with `is_station` below.\n",
    "And we'll rely `CO-OPS` and `NDBC` services for the observations."
   ]
  },
  {
   "cell_type": "code",
   "execution_count": 6,
   "metadata": {},
   "outputs": [
    {
     "name": "stdout",
     "output_type": "stream",
     "text": [
      "Could not access URL http://www.neracoos.org/thredds/dodsC/UMO/DSG/SOS/A01/OPTICS_S3m/HistoricRealtime.html\n",
      "OSError(-45, 'NetCDF: Not a valid data type or _FillValue type mismatch')\n",
      "Could not access URL http://www.neracoos.org/thredds/dodsC/UMO/DSG/SOS/A01/CTD20m/HistoricRealtime.html\n",
      "OSError(-45, 'NetCDF: Not a valid data type or _FillValue type mismatch')\n",
      "Could not access URL https://opendap.co-ops.nos.noaa.gov/ioos-dif-sos/images/tide_gauge.jpg.html\n",
      "OSError(-90, 'NetCDF: file not found')\n",
      "Could not access URL http://www.neracoos.org/thredds/dodsC/UMO/DSG/SOS/A01/OPTODE51m/HistoricRealtime.html\n",
      "OSError(-45, 'NetCDF: Not a valid data type or _FillValue type mismatch')\n",
      "Could not access URL http://thredds.cdip.ucsd.edu/thredds/dodsC/cdip/realtime/latest_gudb_3day.nc.html\n",
      "OSError(-45, 'NetCDF: Not a valid data type or _FillValue type mismatch')\n",
      "Could not access URL http://thredds.cdip.ucsd.edu/thredds/dodsC/cdip/realtime/162p1_rt.nc.html\n",
      "OSError(-45, 'NetCDF: Not a valid data type or _FillValue type mismatch')\n",
      "Could not access URL http://www.neracoos.org/thredds/dodsC/UMO/DSG/SOS/A01/Met/HistoricRealtime.html\n",
      "OSError(-45, 'NetCDF: Not a valid data type or _FillValue type mismatch')\n",
      "Could not access URL http://thredds.cdip.ucsd.edu/thredds/dodsC/cdip/realtime/036p1_rt.nc.html\n",
      "OSError(-45, 'NetCDF: Not a valid data type or _FillValue type mismatch')\n",
      "Could not access URL http://www.neracoos.org/thredds/dodsC/UMO/Realtime/SOS/A01/DSG_A0140.sbe37.realtime.20m.nc.html\n",
      "OSError(-45, 'NetCDF: Not a valid data type or _FillValue type mismatch')\n",
      "Could not access URL http://oos.soest.hawaii.edu/thredds/dodsC/hioos/satellite/dhw_5km.html\n",
      "OSError(-45, 'NetCDF: Not a valid data type or _FillValue type mismatch')\n",
      "Could not access URL http://www.neracoos.org/thredds/dodsC/UMO/Realtime/SOS/A01/DSG_A0140.accelerometer.realtime.nc.html\n",
      "OSError(-45, 'NetCDF: Not a valid data type or _FillValue type mismatch')\n",
      "Could not access URL http://www.neracoos.org/thredds/dodsC/UMO/Realtime/SOS/A01/DSG_A0140.met.realtime.nc.html\n",
      "OSError(-45, 'NetCDF: Not a valid data type or _FillValue type mismatch')\n",
      "Could not access URL http://www.neracoos.org/thredds/dodsC/UMO/DSG/SOS/A01/CTD1m/HistoricRealtime.html\n",
      "OSError(-45, 'NetCDF: Not a valid data type or _FillValue type mismatch')\n",
      "Could not access URL http://www.neracoos.org/thredds/dodsC/UMO/Realtime/SOS/A01/DSG_A0140.optode.realtime.51m.nc.html\n",
      "OSError(-45, 'NetCDF: Not a valid data type or _FillValue type mismatch')\n",
      "Could not access URL http://www.neracoos.org/thredds/dodsC/UMO/Realtime/SOS/A01/DSG_A0140.sbe37.realtime.1m.nc.html\n",
      "OSError(-45, 'NetCDF: Not a valid data type or _FillValue type mismatch')\n",
      "************************* Filtered DAP *************************\n",
      "http://www.smast.umassd.edu:8080/thredds/dodsC/FVCOM/NECOFS/Forecasts/NECOFS_FVCOM_OCEAN_BOSTON_FORECAST.nc.html\n",
      "http://www.smast.umassd.edu:8080/thredds/dodsC/FVCOM/NECOFS/Forecasts/NECOFS_FVCOM_OCEAN_MASSBAY_FORECAST.nc.html\n",
      "http://tds.marine.rutgers.edu/thredds/dodsC/roms/doppio/2017_da/his/History_Best.html\n",
      "http://www.smast.umassd.edu:8080/thredds/dodsC/FVCOM/NECOFS/Forecasts/NECOFS_FVCOM_OCEAN_SCITUATE_FORECAST.nc.html\n",
      "http://tds.marine.rutgers.edu/thredds/dodsC/roms/doppio/2017_da/avg/Averages_Best.html\n"
     ]
    }
   ],
   "source": [
    "from timeout_decorator import TimeoutError\n",
    "from ioos_tools.ioos import is_station\n",
    "\n",
    "# Filter out some station endpoints.\n",
    "non_stations = []\n",
    "for url in dap_urls:\n",
    "    try:\n",
    "        if not is_station(url):\n",
    "            non_stations.append(url)\n",
    "    except (IOError, OSError, RuntimeError, TimeoutError) as e:\n",
    "        print('Could not access URL {}.html\\n{!r}'.format(url, e))\n",
    "\n",
    "dap_urls = non_stations\n",
    "\n",
    "print(fmt(' Filtered DAP '))\n",
    "for url in dap_urls:\n",
    "    print('{}.html'.format(url))"
   ]
  },
  {
   "cell_type": "markdown",
   "metadata": {},
   "source": [
    "Now we can use `pyoos` collectors for `NdbcSos`,"
   ]
  },
  {
   "cell_type": "code",
   "execution_count": 7,
   "metadata": {},
   "outputs": [
    {
     "name": "stdout",
     "output_type": "stream",
     "text": [
      "******************* NDBC Collector offerings *******************\n",
      "National Data Buoy Center SOS: 1037 offerings\n"
     ]
    }
   ],
   "source": [
    "from pyoos.collectors.ndbc.ndbc_sos import NdbcSos\n",
    "\n",
    "collector_ndbc = NdbcSos()\n",
    "\n",
    "collector_ndbc.set_bbox(config['region']['bbox'])\n",
    "collector_ndbc.end_time = config['date']['stop']\n",
    "collector_ndbc.start_time = config['date']['start']\n",
    "collector_ndbc.variables = [config['sos_name']]\n",
    "\n",
    "ofrs = collector_ndbc.server.offerings\n",
    "title = collector_ndbc.server.identification.title\n",
    "print(fmt(' NDBC Collector offerings '))\n",
    "print('{}: {} offerings'.format(title, len(ofrs)))"
   ]
  },
  {
   "cell_type": "code",
   "execution_count": 8,
   "metadata": {},
   "outputs": [
    {
     "data": {
      "text/html": [
       "<div>\n",
       "<style scoped>\n",
       "    .dataframe tbody tr th:only-of-type {\n",
       "        vertical-align: middle;\n",
       "    }\n",
       "\n",
       "    .dataframe tbody tr th {\n",
       "        vertical-align: top;\n",
       "    }\n",
       "\n",
       "    .dataframe thead th {\n",
       "        text-align: right;\n",
       "    }\n",
       "</style>\n",
       "<table border=\"1\" class=\"dataframe\">\n",
       "  <thead>\n",
       "    <tr style=\"text-align: right;\">\n",
       "      <th></th>\n",
       "      <th>station_name</th>\n",
       "      <th>sensor</th>\n",
       "      <th>lon</th>\n",
       "      <th>lat</th>\n",
       "      <th>depth</th>\n",
       "    </tr>\n",
       "    <tr>\n",
       "      <th>station_code</th>\n",
       "      <th></th>\n",
       "      <th></th>\n",
       "      <th></th>\n",
       "      <th></th>\n",
       "      <th></th>\n",
       "    </tr>\n",
       "  </thead>\n",
       "  <tbody>\n",
       "    <tr>\n",
       "      <th>44013</th>\n",
       "      <td>BOSTON 16 NM East of Boston, MA</td>\n",
       "      <td>urn:ioos:sensor:wmo:44013::watertemp1</td>\n",
       "      <td>-70.651</td>\n",
       "      <td>42.346</td>\n",
       "      <td>0.6</td>\n",
       "    </tr>\n",
       "  </tbody>\n",
       "</table>\n",
       "</div>"
      ],
      "text/plain": [
       "                                 station_name  \\\n",
       "station_code                                    \n",
       "44013         BOSTON 16 NM East of Boston, MA   \n",
       "\n",
       "                                             sensor     lon     lat  depth  \n",
       "station_code                                                                \n",
       "44013         urn:ioos:sensor:wmo:44013::watertemp1 -70.651  42.346    0.6  "
      ]
     },
     "execution_count": 8,
     "metadata": {},
     "output_type": "execute_result"
    }
   ],
   "source": [
    "import pandas as pd\n",
    "from ioos_tools.ioos import collector2table\n",
    "\n",
    "ndbc = collector2table(collector=collector_ndbc,\n",
    "                       config=config,\n",
    "                       col='sea_water_temperature (C)')\n",
    "\n",
    "if ndbc:\n",
    "    data = dict(\n",
    "        station_name=[s._metadata.get('station_name') for s in ndbc],\n",
    "        station_code=[s._metadata.get('station_code') for s in ndbc],\n",
    "        sensor=[s._metadata.get('sensor') for s in ndbc],\n",
    "        lon=[s._metadata.get('lon') for s in ndbc],\n",
    "        lat=[s._metadata.get('lat') for s in ndbc],\n",
    "        depth=[s._metadata.get('depth') for s in ndbc],\n",
    "    )\n",
    "\n",
    "table = pd.DataFrame(data).set_index('station_code')\n",
    "table"
   ]
  },
  {
   "cell_type": "markdown",
   "metadata": {},
   "source": [
    "and `CoopsSos`."
   ]
  },
  {
   "cell_type": "code",
   "execution_count": 9,
   "metadata": {},
   "outputs": [
    {
     "name": "stdout",
     "output_type": "stream",
     "text": [
      "********************* Collector offerings **********************\n",
      "NOAA.NOS.CO-OPS SOS: 1229 offerings\n"
     ]
    }
   ],
   "source": [
    "from pyoos.collectors.coops.coops_sos import CoopsSos\n",
    "\n",
    "collector_coops = CoopsSos()\n",
    "\n",
    "collector_coops.set_bbox(config['region']['bbox'])\n",
    "collector_coops.end_time = config['date']['stop']\n",
    "collector_coops.start_time = config['date']['start']\n",
    "collector_coops.variables = [config['sos_name']]\n",
    "\n",
    "ofrs = collector_coops.server.offerings\n",
    "title = collector_coops.server.identification.title\n",
    "print(fmt(' Collector offerings '))\n",
    "print('{}: {} offerings'.format(title, len(ofrs)))"
   ]
  },
  {
   "cell_type": "code",
   "execution_count": 10,
   "metadata": {
    "scrolled": true
   },
   "outputs": [
    {
     "data": {
      "text/html": [
       "<div>\n",
       "<style scoped>\n",
       "    .dataframe tbody tr th:only-of-type {\n",
       "        vertical-align: middle;\n",
       "    }\n",
       "\n",
       "    .dataframe tbody tr th {\n",
       "        vertical-align: top;\n",
       "    }\n",
       "\n",
       "    .dataframe thead th {\n",
       "        text-align: right;\n",
       "    }\n",
       "</style>\n",
       "<table border=\"1\" class=\"dataframe\">\n",
       "  <thead>\n",
       "    <tr style=\"text-align: right;\">\n",
       "      <th></th>\n",
       "      <th>station_name</th>\n",
       "      <th>sensor</th>\n",
       "      <th>lon</th>\n",
       "      <th>lat</th>\n",
       "      <th>depth</th>\n",
       "    </tr>\n",
       "    <tr>\n",
       "      <th>station_code</th>\n",
       "      <th></th>\n",
       "      <th></th>\n",
       "      <th></th>\n",
       "      <th></th>\n",
       "      <th></th>\n",
       "    </tr>\n",
       "  </thead>\n",
       "  <tbody>\n",
       "    <tr>\n",
       "      <th>44013</th>\n",
       "      <td>BOSTON 16 NM East of Boston, MA</td>\n",
       "      <td>urn:ioos:sensor:wmo:44013::watertemp1</td>\n",
       "      <td>-70.651</td>\n",
       "      <td>42.346</td>\n",
       "      <td>0.6</td>\n",
       "    </tr>\n",
       "  </tbody>\n",
       "</table>\n",
       "</div>"
      ],
      "text/plain": [
       "                                 station_name  \\\n",
       "station_code                                    \n",
       "44013         BOSTON 16 NM East of Boston, MA   \n",
       "\n",
       "                                             sensor     lon     lat  depth  \n",
       "station_code                                                                \n",
       "44013         urn:ioos:sensor:wmo:44013::watertemp1 -70.651  42.346    0.6  "
      ]
     },
     "execution_count": 10,
     "metadata": {},
     "output_type": "execute_result"
    }
   ],
   "source": [
    "coops = collector2table(collector=collector_coops,\n",
    "                        config=config,\n",
    "                        col='sea_water_temperature (C)')\n",
    "\n",
    "if coops:\n",
    "    data = dict(\n",
    "        station_name=[s._metadata.get('station_name') for s in coops],\n",
    "        station_code=[s._metadata.get('station_code') for s in coops],\n",
    "        sensor=[s._metadata.get('sensor') for s in coops],\n",
    "        lon=[s._metadata.get('lon') for s in coops],\n",
    "        lat=[s._metadata.get('lat') for s in coops],\n",
    "        depth=[s._metadata.get('depth') for s in coops],\n",
    "    )\n",
    "\n",
    "table = pd.DataFrame(data).set_index('station_code')\n",
    "table"
   ]
  },
  {
   "cell_type": "markdown",
   "metadata": {},
   "source": [
    "We will join all the observations into an uniform series, interpolated to 1-hour interval, for the model-data comparison.\n",
    "\n",
    "This step is necessary because the observations can be 7 or 10 minutes resolution,\n",
    "while the models can be 30 to 60 minutes."
   ]
  },
  {
   "cell_type": "code",
   "execution_count": 13,
   "metadata": {
    "scrolled": true
   },
   "outputs": [],
   "source": [
    "data = ndbc + coops\n",
    "\n",
    "index = pd.date_range(start=config['date']['start'].replace(tzinfo=None),\n",
    "                      end=config['date']['stop'].replace(tzinfo=None),\n",
    "                      freq='1H')\n",
    "\n",
    "# Preserve metadata with `reindex`.\n",
    "observations = []\n",
    "for series in data:\n",
    "    _metadata = series._metadata\n",
    "    series.index = series.index.tz_localize(None)\n",
    "    series.index = series.index.tz_localize(None)\n",
    "    obs = series.reindex(index=index, limit=1, method='nearest')\n",
    "    obs._metadata = _metadata\n",
    "    observations.append(obs)"
   ]
  },
  {
   "cell_type": "markdown",
   "metadata": {},
   "source": [
    "In this next cell we will save the data for quicker access later."
   ]
  },
  {
   "cell_type": "code",
   "execution_count": 14,
   "metadata": {
    "scrolled": false
   },
   "outputs": [],
   "source": [
    "import iris\n",
    "from ioos_tools.tardis import series2cube\n",
    "\n",
    "attr = dict(\n",
    "    featureType='timeSeries',\n",
    "    Conventions='CF-1.6',\n",
    "    standard_name_vocabulary='CF-1.6',\n",
    "    cdm_data_type='Station',\n",
    "    comment='Data from http://opendap.co-ops.nos.noaa.gov'\n",
    ")\n",
    "\n",
    "\n",
    "cubes = iris.cube.CubeList(\n",
    "    [series2cube(obs, attr=attr) for obs in observations]\n",
    ")\n",
    "\n",
    "outfile = os.path.join(save_dir, 'OBS_DATA.nc')\n",
    "iris.save(cubes, outfile)"
   ]
  },
  {
   "cell_type": "markdown",
   "metadata": {},
   "source": [
    "Taking a quick look at the observations:"
   ]
  },
  {
   "cell_type": "code",
   "execution_count": 15,
   "metadata": {},
   "outputs": [
    {
     "data": {
      "image/png": "[encoded data removed]",
      "text/plain": [
       "<Figure size 792x162 with 1 Axes>"
      ]
     },
     "metadata": {
      "needs_background": "light"
     },
     "output_type": "display_data"
    }
   ],
   "source": [
    "%matplotlib inline\n",
    "\n",
    "ax = pd.concat(data).plot(figsize=(11, 2.25))"
   ]
  },
  {
   "cell_type": "markdown",
   "metadata": {},
   "source": [
    "Now it is time to loop the models we found above,"
   ]
  },
  {
   "cell_type": "code",
   "execution_count": 16,
   "metadata": {},
   "outputs": [
    {
     "name": "stdout",
     "output_type": "stream",
     "text": [
      "**************************** Models ****************************\n",
      "\n",
      "[Reading url 1/5]: http://www.smast.umassd.edu:8080/thredds/dodsC/FVCOM/NECOFS/Forecasts/NECOFS_FVCOM_OCEAN_BOSTON_FORECAST.nc\n",
      "\n",
      "[Reading url 2/5]: http://www.smast.umassd.edu:8080/thredds/dodsC/FVCOM/NECOFS/Forecasts/NECOFS_FVCOM_OCEAN_MASSBAY_FORECAST.nc\n",
      "\n",
      "[Reading url 3/5]: http://tds.marine.rutgers.edu/thredds/dodsC/roms/doppio/2017_da/his/History_Best\n",
      "Cannot get cube for: http://tds.marine.rutgers.edu/thredds/dodsC/roms/doppio/2017_da/his/History_Best\n",
      "'gregorian_proleptic' is an unsupported calendar.\n",
      "\n",
      "[Reading url 4/5]: http://www.smast.umassd.edu:8080/thredds/dodsC/FVCOM/NECOFS/Forecasts/NECOFS_FVCOM_OCEAN_SCITUATE_FORECAST.nc\n",
      "\n",
      "[Reading url 5/5]: http://tds.marine.rutgers.edu/thredds/dodsC/roms/doppio/2017_da/avg/Averages_Best\n",
      "Cannot get cube for: http://tds.marine.rutgers.edu/thredds/dodsC/roms/doppio/2017_da/avg/Averages_Best\n",
      "'gregorian_proleptic' is an unsupported calendar.\n"
     ]
    }
   ],
   "source": [
    "from iris.exceptions import (CoordinateNotFoundError, ConstraintMismatchError,\n",
    "                             MergeError)\n",
    "from ioos_tools.ioos import get_model_name\n",
    "from ioos_tools.tardis import quick_load_cubes, proc_cube, is_model, get_surface\n",
    "\n",
    "print(fmt(' Models '))\n",
    "cubes = dict()\n",
    "for k, url in enumerate(dap_urls):\n",
    "    print('\\n[Reading url {}/{}]: {}'.format(k+1, len(dap_urls), url))\n",
    "    try:\n",
    "        cube = quick_load_cubes(url, config['cf_names'],\n",
    "                                callback=None, strict=True)\n",
    "        if is_model(cube):\n",
    "            cube = proc_cube(cube,\n",
    "                             bbox=config['region']['bbox'],\n",
    "                             time=(config['date']['start'],\n",
    "                                   config['date']['stop']),\n",
    "                             units=config['units'])\n",
    "        else:\n",
    "            print('[Not model data]: {}'.format(url))\n",
    "            continue\n",
    "        cube = get_surface(cube)\n",
    "        mod_name = get_model_name(url)\n",
    "        cubes.update({mod_name: cube})\n",
    "    except (RuntimeError, ValueError,\n",
    "            ConstraintMismatchError, CoordinateNotFoundError,\n",
    "            IndexError) as e:\n",
    "        print('Cannot get cube for: {}\\n{}'.format(url, e))"
   ]
  },
  {
   "cell_type": "markdown",
   "metadata": {},
   "source": [
    "Next, we will match them with the nearest observed time-series. The `max_dist=0.08` is in degrees, that is roughly 8 kilometers."
   ]
  },
  {
   "cell_type": "code",
   "execution_count": 17,
   "metadata": {},
   "outputs": [
    {
     "name": "stdout",
     "output_type": "stream",
     "text": [
      " Downloading to file /home/filipe/IOOS/notebooks_demos/notebooks/latest/Forecasts-NECOFS_FVCOM_OCEAN_BOSTON_FORECAST.nc \n",
      "[No Data] BOSTON 16 NM East of Boston, MA\n",
      "Finished processing [Forecasts-NECOFS_FVCOM_OCEAN_BOSTON_FORECAST]\n",
      " Downloading to file /home/filipe/IOOS/notebooks_demos/notebooks/latest/Forecasts-NECOFS_FVCOM_OCEAN_MASSBAY_FORECAST.nc \n",
      "[Water  ] BOSTON 16 NM East of Boston, MA\n",
      "Finished processing [Forecasts-NECOFS_FVCOM_OCEAN_MASSBAY_FORECAST]\n",
      " Downloading to file /home/filipe/IOOS/notebooks_demos/notebooks/latest/Forecasts-NECOFS_FVCOM_OCEAN_SCITUATE_FORECAST.nc \n",
      "[No Data] BOSTON 16 NM East of Boston, MA\n",
      "Finished processing [Forecasts-NECOFS_FVCOM_OCEAN_SCITUATE_FORECAST]\n"
     ]
    }
   ],
   "source": [
    "import iris\n",
    "from iris.pandas import as_series\n",
    "from ioos_tools.tardis import (make_tree, get_nearest_water,\n",
    "                               add_station, ensure_timeseries, remove_ssh)\n",
    "\n",
    "for mod_name, cube in cubes.items():\n",
    "    fname = '{}.nc'.format(mod_name)\n",
    "    fname = os.path.join(save_dir, fname)\n",
    "    print(fmt(' Downloading to file {} '.format(fname)))\n",
    "    try:\n",
    "        tree, lon, lat = make_tree(cube)\n",
    "    except CoordinateNotFoundError as e:\n",
    "        print('Cannot make KDTree for: {}'.format(mod_name))\n",
    "        continue\n",
    "    # Get model series at observed locations.\n",
    "    raw_series = dict()\n",
    "    for obs in observations:\n",
    "        obs = obs._metadata\n",
    "        station = obs['station_code']\n",
    "        try:\n",
    "            kw = dict(k=10, max_dist=0.08, min_var=0.01)\n",
    "            args = cube, tree, obs['lon'], obs['lat']\n",
    "            try:\n",
    "                series, dist, idx = get_nearest_water(*args, **kw)\n",
    "            except RuntimeError as e:\n",
    "                print('Cannot download {!r}.\\n{}'.format(cube, e))\n",
    "                series = None\n",
    "        except ValueError as e:\n",
    "            status = 'No Data'\n",
    "            print('[{}] {}'.format(status, obs['station_name']))\n",
    "            continue\n",
    "        if not series:\n",
    "            status = 'Land   '\n",
    "        else:\n",
    "            raw_series.update({station: series})\n",
    "            series = as_series(series)\n",
    "            status = 'Water  '\n",
    "        print('[{}] {}'.format(status, obs['station_name']))\n",
    "    if raw_series:  # Save cube.\n",
    "        for station, cube in raw_series.items():\n",
    "            cube = add_station(cube, station)\n",
    "            cube = remove_ssh(cube)\n",
    "        try:\n",
    "            cube = iris.cube.CubeList(raw_series.values()).merge_cube()\n",
    "        except MergeError as e:\n",
    "            print(e)\n",
    "        ensure_timeseries(cube)\n",
    "        try:\n",
    "            iris.save(cube, fname)\n",
    "        except AttributeError:\n",
    "            # FIXME: we should patch the bad attribute instead of removing everything.\n",
    "            cube.attributes = {}\n",
    "            iris.save(cube, fname)\n",
    "        del cube\n",
    "    print('Finished processing [{}]'.format(mod_name))"
   ]
  },
  {
   "cell_type": "markdown",
   "metadata": {},
   "source": [
    "Now it is possible to compute some simple comparison metrics. First we'll calculate the model mean bias:\n",
    "\n",
    "$$ \\text{MB} = \\mathbf{\\overline{m}} - \\mathbf{\\overline{o}}$$"
   ]
  },
  {
   "cell_type": "code",
   "execution_count": 18,
   "metadata": {},
   "outputs": [],
   "source": [
    "from ioos_tools.ioos import stations_keys\n",
    "\n",
    "\n",
    "def rename_cols(df, config):\n",
    "    cols = stations_keys(config, key='station_name')\n",
    "    return df.rename(columns=cols)"
   ]
  },
  {
   "cell_type": "code",
   "execution_count": 19,
   "metadata": {
    "scrolled": false
   },
   "outputs": [],
   "source": [
    "from ioos_tools.ioos import load_ncs\n",
    "from ioos_tools.skill_score import mean_bias, apply_skill\n",
    "\n",
    "dfs = load_ncs(config)\n",
    "\n",
    "df = apply_skill(dfs, mean_bias, remove_mean=False, filter_tides=False)\n",
    "skill_score = dict(mean_bias=df.to_dict())\n",
    "\n",
    "# Filter out stations with no valid comparison.\n",
    "df.dropna(how='all', axis=1, inplace=True)\n",
    "df = df.applymap('{:.2f}'.format).replace('nan', '--')"
   ]
  },
  {
   "cell_type": "markdown",
   "metadata": {},
   "source": [
    "And the root mean squared rrror of the deviations from the mean:\n",
    "$$ \\text{CRMS} = \\sqrt{\\left(\\mathbf{m'} - \\mathbf{o'}\\right)^2}$$\n",
    "\n",
    "where: $\\mathbf{m'} = \\mathbf{m} - \\mathbf{\\overline{m}}$ and $\\mathbf{o'} = \\mathbf{o} - \\mathbf{\\overline{o}}$"
   ]
  },
  {
   "cell_type": "code",
   "execution_count": 20,
   "metadata": {},
   "outputs": [],
   "source": [
    "from ioos_tools.skill_score import rmse\n",
    "\n",
    "dfs = load_ncs(config)\n",
    "\n",
    "df = apply_skill(dfs, rmse, remove_mean=True, filter_tides=False)\n",
    "skill_score['rmse'] = df.to_dict()\n",
    "\n",
    "# Filter out stations with no valid comparison.\n",
    "df.dropna(how='all', axis=1, inplace=True)\n",
    "df = df.applymap('{:.2f}'.format).replace('nan', '--')"
   ]
  },
  {
   "cell_type": "markdown",
   "metadata": {},
   "source": [
    "The next 2 cells make the scores \"pretty\" for plotting."
   ]
  },
  {
   "cell_type": "code",
   "execution_count": 21,
   "metadata": {},
   "outputs": [],
   "source": [
    "import pandas as pd\n",
    "\n",
    "# Stringfy keys.\n",
    "for key in skill_score.keys():\n",
    "    skill_score[key] = {str(k): v for k, v in skill_score[key].items()}\n",
    "\n",
    "mean_bias = pd.DataFrame.from_dict(skill_score['mean_bias'])\n",
    "mean_bias = mean_bias.applymap('{:.2f}'.format).replace('nan', '--')\n",
    "\n",
    "skill_score = pd.DataFrame.from_dict(skill_score['rmse'])\n",
    "skill_score = skill_score.applymap('{:.2f}'.format).replace('nan', '--')"
   ]
  },
  {
   "cell_type": "code",
   "execution_count": 22,
   "metadata": {},
   "outputs": [],
   "source": [
    "import folium\n",
    "from ioos_tools.ioos import get_coordinates\n",
    "\n",
    "\n",
    "def make_map(bbox, **kw):\n",
    "    line = kw.pop('line', True)\n",
    "    layers = kw.pop('layers', True)\n",
    "    zoom_start = kw.pop('zoom_start', 5)\n",
    "\n",
    "    lon = (bbox[0] + bbox[2]) / 2\n",
    "    lat = (bbox[1] + bbox[3]) / 2\n",
    "    m = folium.Map(width='100%', height='100%',\n",
    "                   location=[lat, lon], zoom_start=zoom_start)\n",
    "\n",
    "    if layers:\n",
    "        url = 'http://oos.soest.hawaii.edu/thredds/wms/hioos/satellite/dhw_5km'\n",
    "        w = folium.WmsTileLayer(\n",
    "            url,\n",
    "            name='Sea Surface Temperature',\n",
    "            fmt='image/png',\n",
    "            layers='CRW_SST',\n",
    "            attr='PacIOOS TDS',\n",
    "            overlay=True,\n",
    "            transparent=True)\n",
    "        w.add_to(m)\n",
    "\n",
    "    if line:\n",
    "        p = folium.PolyLine(\n",
    "            get_coordinates(bbox),\n",
    "            color='#FF0000',\n",
    "            weight=2,\n",
    "            opacity=0.9,\n",
    "        )\n",
    "        p.add_to(m)\n",
    "    return m"
   ]
  },
  {
   "cell_type": "code",
   "execution_count": 23,
   "metadata": {},
   "outputs": [],
   "source": [
    "bbox = config['region']['bbox']\n",
    "\n",
    "m = make_map(\n",
    "    bbox,\n",
    "    zoom_start=11,\n",
    "    line=True,\n",
    "    layers=True\n",
    ")"
   ]
  },
  {
   "cell_type": "markdown",
   "metadata": {},
   "source": [
    "The cells from `[20]` to `[25]` create a [`folium`](https://github.com/python-visualization/folium) map with [`bokeh`](http://bokeh.pydata.org/en/latest/) for the time-series at the observed points.\n",
    "\n",
    "Note that we did mark the nearest model cell location used in the comparison."
   ]
  },
  {
   "cell_type": "code",
   "execution_count": 24,
   "metadata": {},
   "outputs": [],
   "source": [
    "all_obs = stations_keys(config)\n",
    "\n",
    "from glob import glob\n",
    "from operator import itemgetter\n",
    "\n",
    "import iris\n",
    "from folium.plugins import MarkerCluster\n",
    "\n",
    "iris.FUTURE.netcdf_promote = True\n",
    "\n",
    "big_list = []\n",
    "for fname in glob(os.path.join(save_dir, '*.nc')):\n",
    "    if 'OBS_DATA' in fname:\n",
    "        continue\n",
    "    cube = iris.load_cube(fname)\n",
    "    model = os.path.split(fname)[1].split('-')[-1].split('.')[0]\n",
    "    lons = cube.coord(axis='X').points\n",
    "    lats = cube.coord(axis='Y').points\n",
    "    stations = cube.coord('station_code').points\n",
    "    models = [model]*lons.size\n",
    "    lista = zip(models, lons.tolist(), lats.tolist(), stations.tolist())\n",
    "    big_list.extend(lista)\n",
    "\n",
    "big_list.sort(key=itemgetter(3))\n",
    "df = pd.DataFrame(big_list, columns=['name', 'lon', 'lat', 'station'])\n",
    "df.set_index('station', drop=True, inplace=True)\n",
    "groups = df.groupby(df.index)\n",
    "\n",
    "\n",
    "locations, popups = [], []\n",
    "for station, info in groups:\n",
    "    sta_name = all_obs[station]\n",
    "    for lat, lon, name in zip(info.lat, info.lon, info.name):\n",
    "        locations.append([lat, lon])\n",
    "        popups.append('[{}]: {}'.format(name, sta_name))\n",
    "\n",
    "MarkerCluster(locations=locations, popups=popups, name='Cluster').add_to(m);"
   ]
  },
  {
   "cell_type": "markdown",
   "metadata": {},
   "source": [
    "Here we use a dictionary with some models we expect to find so we can create a better legend for the plots. If any new models are found, we will use its filename in the legend as a default until we can go back and add a short name to our library."
   ]
  },
  {
   "cell_type": "code",
   "execution_count": 25,
   "metadata": {},
   "outputs": [],
   "source": [
    "titles = {\n",
    "    'coawst_4_use_best': 'COAWST_4',\n",
    "    'global': 'HYCOM',\n",
    "    'NECOFS_GOM3_FORECAST': 'NECOFS_GOM3',\n",
    "    'NECOFS_FVCOM_OCEAN_MASSBAY_FORECAST': 'NECOFS_MassBay',\n",
    "    'OBS_DATA': 'Observations'\n",
    "}"
   ]
  },
  {
   "cell_type": "code",
   "execution_count": 26,
   "metadata": {},
   "outputs": [],
   "source": [
    "from bokeh.resources import CDN\n",
    "from bokeh.plotting import figure\n",
    "from bokeh.embed import file_html\n",
    "from bokeh.models import HoverTool\n",
    "from itertools import cycle\n",
    "from bokeh.palettes import Category20\n",
    "\n",
    "from folium import IFrame\n",
    "\n",
    "# Plot defaults.\n",
    "colors = Category20[20]\n",
    "colorcycler = cycle(colors)\n",
    "tools = 'pan,box_zoom,reset'\n",
    "width, height = 750, 250\n",
    "\n",
    "\n",
    "def make_plot(df, station):\n",
    "    p = figure(\n",
    "        toolbar_location='above',\n",
    "        x_axis_type='datetime',\n",
    "        width=width,\n",
    "        height=height,\n",
    "        tools=tools,\n",
    "        title=str(station)\n",
    "    )\n",
    "    for column, series in df.iteritems():\n",
    "        series.dropna(inplace=True)\n",
    "        if not series.empty:\n",
    "            if 'OBS_DATA' not in column:\n",
    "                bias = mean_bias[str(station)][column]\n",
    "                skill = skill_score[str(station)][column]\n",
    "                line_color = next(colorcycler)\n",
    "                kw = dict(alpha=0.65, line_color=line_color)\n",
    "            else:\n",
    "                skill = bias = 'NA'\n",
    "                kw = dict(alpha=1, color='crimson')\n",
    "            line = p.line(\n",
    "                x=series.index,\n",
    "                y=series.values,\n",
    "                legend='{}'.format(titles.get(column, column)),\n",
    "                line_width=5,\n",
    "                line_cap='round',\n",
    "                line_join='round',\n",
    "                **kw\n",
    "            )\n",
    "            p.add_tools(HoverTool(tooltips=[('Name', '{}'.format(titles.get(column, column))),\n",
    "                                            ('Bias', bias),\n",
    "                                            ('Skill', skill)],\n",
    "                                  renderers=[line]))\n",
    "    return p\n",
    "\n",
    "\n",
    "def make_marker(p, station):\n",
    "    lons = stations_keys(config, key='lon')\n",
    "    lats = stations_keys(config, key='lat')\n",
    "\n",
    "    lon, lat = lons[station], lats[station]\n",
    "    html = file_html(p, CDN, station)\n",
    "    iframe = IFrame(html, width=width+40, height=height+80)\n",
    "\n",
    "    popup = folium.Popup(iframe, max_width=2650)\n",
    "    icon = folium.Icon(color='green', icon='stats')\n",
    "    marker = folium.Marker(location=[lat, lon],\n",
    "                           popup=popup,\n",
    "                           icon=icon)\n",
    "    return marker"
   ]
  },
  {
   "cell_type": "code",
   "execution_count": 27,
   "metadata": {},
   "outputs": [
    {
     "data": {
      "text/html": [
       "<div style=\"width:100%;\"><div style=\"position:relative;width:100%;height:0;padding-bottom:60%;\"><iframe src=\"data:text/html;charset=utf-8;base64,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\" style=\"position:absolute;width:100%;height:100%;left:0;top:0;border:none !important;\" allowfullscreen webkitallowfullscreen mozallowfullscreen></iframe></div></div>"
      ],
      "text/plain": [
       "<folium.folium.Map at 0x7f771fe86e80>"
      ]
     },
     "execution_count": 27,
     "metadata": {},
     "output_type": "execute_result"
    }
   ],
   "source": [
    "dfs = load_ncs(config)\n",
    "\n",
    "for station in dfs:\n",
    "    sta_name = all_obs[station]\n",
    "    df = dfs[station]\n",
    "    if df.empty:\n",
    "        continue\n",
    "    p = make_plot(df, station)\n",
    "    marker = make_marker(p, station)\n",
    "    marker.add_to(m)\n",
    "\n",
    "folium.LayerControl().add_to(m)\n",
    "\n",
    "m"
   ]
  },
  {
   "cell_type": "markdown",
   "metadata": {},
   "source": [
    "Now we can navigate the map and click on the markers to explorer our findings.\n",
    "\n",
    "The green markers locate the observations locations. They pop-up an interactive plot with the time-series and scores for the models (hover over the lines to se the scores). The blue markers indicate the nearest model grid point found for the comparison."
   ]
  }
 ],
 "metadata": {
  "anaconda-cloud": {},
  "kernelspec": {
   "display_name": "Python 3",
   "language": "python",
   "name": "python3"
  },
  "language_info": {
   "codemirror_mode": {
    "name": "ipython",
    "version": 3
   },
   "file_extension": ".py",
   "mimetype": "text/x-python",
   "name": "python",
   "nbconvert_exporter": "python",
   "pygments_lexer": "ipython3",
   "version": "3.7.1"
  }
 },
 "nbformat": 4,
 "nbformat_minor": 1
}
