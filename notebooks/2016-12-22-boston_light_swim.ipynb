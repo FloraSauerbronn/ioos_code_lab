{
 "cells": [
  {
   "cell_type": "markdown",
   "metadata": {},
   "source": [
    "# The Boston Light Swim temperature analysis with Python\n",
    "\n",
    "In the past we demonstrated how to perform a CSW catalog search with [`OWSLib`](https://ioos.github.io/notebooks_demos//notebooks/2016-12-19-exploring_csw),\n",
    "and how to obtain near real-time data with [`pyoos`](https://ioos.github.io/notebooks_demos//notebooks/2016-10-12-fetching_data).\n",
    "In this notebook we will use both to find all observations and model data around the Boston Harbor to access the sea water temperature.\n",
    "\n",
    "\n",
    "This workflow is part of an example to advise swimmers of the annual [Boston lighthouse swim](http://bostonlightswim.org/) of the Boston Harbor water temperature conditions prior to the race. For more information regarding the workflow presented here see [Signell, Richard P.; Fernandes, Filipe; Wilcox, Kyle.   2016. \"Dynamic Reusable Workflows for Ocean Science.\" *J. Mar. Sci. Eng.* 4, no. 4: 68](http://dx.doi.org/10.3390/jmse4040068)."
   ]
  },
  {
   "cell_type": "code",
   "execution_count": 1,
   "metadata": {},
   "outputs": [],
   "source": [
    "import warnings\n",
    "\n",
    "# Suppresing warnings for a \"pretty output.\"\n",
    "warnings.simplefilter('ignore')"
   ]
  },
  {
   "cell_type": "markdown",
   "metadata": {},
   "source": [
    "This notebook is quite big and complex,\n",
    "so to help us keep things organized we'll define a cell with the most important options and switches.\n",
    "\n",
    "Below we can define the date,\n",
    "bounding box, phenomena `SOS` and `CF` names and units,\n",
    "and the catalogs we will search."
   ]
  },
  {
   "cell_type": "code",
   "execution_count": 2,
   "metadata": {},
   "outputs": [
    {
     "name": "stdout",
     "output_type": "stream",
     "text": [
      "Overwriting config.yaml\n"
     ]
    }
   ],
   "source": [
    "%%writefile config.yaml\n",
    "\n",
    "# Specify a YYYY-MM-DD hh:mm:ss date or integer day offset.\n",
    "# If both start and stop are offsets they will be computed relative to datetime.today() at midnight.\n",
    "# Use the dates commented below to reproduce the last Boston Light Swim event forecast.\n",
    "date:\n",
    "    start: -5 # 2016-8-16 00:00:00\n",
    "    stop: +4 # 2016-8-29 00:00:00\n",
    "\n",
    "run_name: 'latest'\n",
    "\n",
    "# Boston harbor.\n",
    "region:\n",
    "    bbox: [-71.3, 42.03, -70.57, 42.63]\n",
    "    # Try the bounding box below to see how the notebook will behave for a different region.\n",
    "    #bbox: [-74.5, 40, -72., 41.5]\n",
    "    crs: 'urn:ogc:def:crs:OGC:1.3:CRS84'\n",
    "\n",
    "sos_name: 'sea_water_temperature'\n",
    "\n",
    "cf_names:\n",
    "    - sea_water_temperature\n",
    "    - sea_surface_temperature\n",
    "    - sea_water_potential_temperature\n",
    "    - equivalent_potential_temperature\n",
    "    - sea_water_conservative_temperature\n",
    "    - pseudo_equivalent_potential_temperature\n",
    "\n",
    "units: 'celsius'\n",
    "\n",
    "catalogs:\n",
    "    - https://data.ioos.us/csw"
   ]
  },
  {
   "cell_type": "markdown",
   "metadata": {},
   "source": [
    "We'll print some of the search configuration options along the way to keep track of them."
   ]
  },
  {
   "cell_type": "code",
   "execution_count": 3,
   "metadata": {},
   "outputs": [
    {
     "name": "stdout",
     "output_type": "stream",
     "text": [
      "Saving data inside directory /home/filipe/IOOS/notebooks_demos/notebooks/latest\n",
      "*********************** Run information ************************\n",
      "Run date: 2019-02-06 19:46:20\n",
      "Start: 2019-02-01 00:00:00\n",
      "Stop: 2019-02-10 00:00:00\n",
      "Bounding box: -71.30, 42.03,-70.57, 42.63\n"
     ]
    }
   ],
   "source": [
    "import os\n",
    "import shutil\n",
    "from datetime import datetime\n",
    "from ioos_tools.ioos import parse_config\n",
    "\n",
    "config = parse_config('config.yaml')\n",
    "\n",
    "# Saves downloaded data into a temporary directory.\n",
    "save_dir = os.path.abspath(config['run_name'])\n",
    "if os.path.exists(save_dir):\n",
    "    shutil.rmtree(save_dir)\n",
    "os.makedirs(save_dir)\n",
    "\n",
    "fmt = '{:*^64}'.format\n",
    "print(fmt('Saving data inside directory {}'.format(save_dir)))\n",
    "print(fmt(' Run information '))\n",
    "print('Run date: {:%Y-%m-%d %H:%M:%S}'.format(datetime.utcnow()))\n",
    "print('Start: {:%Y-%m-%d %H:%M:%S}'.format(config['date']['start']))\n",
    "print('Stop: {:%Y-%m-%d %H:%M:%S}'.format(config['date']['stop']))\n",
    "print('Bounding box: {0:3.2f}, {1:3.2f},'\n",
    "      '{2:3.2f}, {3:3.2f}'.format(*config['region']['bbox']))"
   ]
  },
  {
   "cell_type": "markdown",
   "metadata": {},
   "source": [
    "We already created an `OWSLib.fes` filter [before](https://ioos.github.io/notebooks_demos//notebooks/2016-12-19-exploring_csw).\n",
    "The main difference here is that we do not want the atmosphere model data,\n",
    "so we are filtering out all the `GRIB-2` data format."
   ]
  },
  {
   "cell_type": "code",
   "execution_count": 4,
   "metadata": {},
   "outputs": [],
   "source": [
    "def make_filter(config):\n",
    "    from owslib import fes\n",
    "    from ioos_tools.ioos import fes_date_filter\n",
    "    kw = dict(wildCard='*', escapeChar='\\\\',\n",
    "              singleChar='?', propertyname='apiso:AnyText')\n",
    "\n",
    "    or_filt = fes.Or([fes.PropertyIsLike(literal=('*%s*' % val), **kw)\n",
    "                      for val in config['cf_names']])\n",
    "\n",
    "    not_filt = fes.Not([fes.PropertyIsLike(literal='GRIB-2', **kw)])\n",
    "\n",
    "    begin, end = fes_date_filter(config['date']['start'],\n",
    "                                 config['date']['stop'])\n",
    "    bbox_crs = fes.BBox(config['region']['bbox'],\n",
    "                        crs=config['region']['crs'])\n",
    "    filter_list = [fes.And([bbox_crs, begin, end, or_filt, not_filt])]\n",
    "    return filter_list\n",
    "\n",
    "\n",
    "filter_list = make_filter(config)"
   ]
  },
  {
   "cell_type": "markdown",
   "metadata": {},
   "source": [
    "In the cell below we ask the catalog for all the returns that match the filter and have an OPeNDAP endpoint."
   ]
  },
  {
   "cell_type": "code",
   "execution_count": 5,
   "metadata": {
    "code_folding": [],
    "scrolled": false
   },
   "outputs": [
    {
     "name": "stdout",
     "output_type": "stream",
     "text": [
      "********************* Catalog information **********************\n",
      "URL: https://data.ioos.us/csw\n",
      "Number of datasets available: 33\n",
      "ROMS doppio Real-Time Operational PSAS Forecast System Version 1 FMRC Averages\n",
      "ROMS doppio Real-Time Operational PSAS Forecast System Version 1 FMRC History\n",
      "urn:ioos:station:NOAA.NOS.CO-OPS:8443970 station, Boston, MA\n",
      "A01 Accelerometer - Waves\n",
      "A01 Directional Waves (waves.mstrain Experimental)\n",
      "A01 Met - Meteorology\n",
      "A01 Optics - Chlorophyll / Turbidity\n",
      "A01 Optode - Oxygen\n",
      "A01 SBE16 Oxygen\n",
      "A01 Sbe37 - CTD\n",
      "BOSTON 16 NM East of Boston, MA\n",
      "Buoy A01 - Massachusetts Bay\n",
      "COAWST Modeling System: USEast: ROMS-WRF-SWAN coupled model (aka CNAPS)\n",
      "Coupled Northwest Atlantic Prediction System (CNAPS)\n",
      "Department of Physical Oceanography, School of Marine Sciences, University of Maine A01 Accelerometer Buoy Sensor\n",
      "Department of Physical Oceanography, School of Marine Sciences, University of Maine A01 Met Buoy Sensor\n",
      "Department of Physical Oceanography, School of Marine Sciences, University of Maine A01 Optode 51m Buoy Sensor\n",
      "Department of Physical Oceanography, School of Marine Sciences, University of Maine A01 Sbe37 1m Buoy Sensor\n",
      "Department of Physical Oceanography, School of Marine Sciences, University of Maine A01 Sbe37 20m Buoy Sensor\n",
      "Directional wave and sea surface temperature measurements collected in situ by Datawell DWR-M3 directional buoy located near CLATSOP SPIT, OR from 2018/02/07 22:03:45 to 2019/02/05 18:00:25.\n",
      "Directional wave and sea surface temperature measurements collected in situ by Datawell DWR-M3 directional buoy located near GRAYS HARBOR, WA from 2018/06/28 19:03:45 to 2019/02/05 18:00:25.\n",
      "G1SST, 1km blended SST\n",
      "Global SST & Sea Ice Analysis, L4 OSTIA, 0.05 deg daily (METOFFICE-GLO-SST-L4-NRT-OBS-SST-V2)\n",
      "NDBC Standard Meteorological Buoy Data, 1970-present\n",
      "NECOFS (FVCOM) - Scituate - Latest Forecast\n",
      "NECOFS Massachusetts (FVCOM) - Boston - Latest Forecast\n",
      "NECOFS Massachusetts (FVCOM) - Massachusetts Coastal - Latest Forecast\n",
      "NERACOOS Gulf of Maine Ocean Array: Realtime Buoy Observations: A01 Massachusetts Bay: A01 ACCELEROMETER Massachusetts Bay\n",
      "NERACOOS Gulf of Maine Ocean Array: Realtime Buoy Observations: A01 Massachusetts Bay: A01 CTD1m Massachusetts Bay\n",
      "NERACOOS Gulf of Maine Ocean Array: Realtime Buoy Observations: A01 Massachusetts Bay: A01 CTD20m Massachusetts Bay\n",
      "NERACOOS Gulf of Maine Ocean Array: Realtime Buoy Observations: A01 Massachusetts Bay: A01 MET Massachusetts Bay\n",
      "NERACOOS Gulf of Maine Ocean Array: Realtime Buoy Observations: A01 Massachusetts Bay: A01 OPTICS3m Massachusetts Bay\n",
      "NERACOOS Gulf of Maine Ocean Array: Realtime Buoy Observations: A01 Massachusetts Bay: A01 OPTODE51m Massachusetts Bay\n",
      "***************************** DAP ******************************\n",
      "http://tds.marine.rutgers.edu/thredds/dodsC/roms/doppio/2017_da/avg/Averages_Best.html\n",
      "http://tds.marine.rutgers.edu/thredds/dodsC/roms/doppio/2017_da/his/History_Best.html\n",
      "http://thredds.cdip.ucsd.edu/thredds/dodsC/cdip/realtime/036p1_rt.nc.html\n",
      "http://thredds.cdip.ucsd.edu/thredds/dodsC/cdip/realtime/162p1_rt.nc.html\n",
      "http://thredds.secoora.org/thredds/dodsC/AOOS_OSTIA.nc.html\n",
      "http://thredds.secoora.org/thredds/dodsC/G1_SST_GLOBAL.nc.html\n",
      "http://thredds.secoora.org/thredds/dodsC/SECOORA_NCSU_CNAPS.nc.html\n",
      "http://www.neracoos.org/thredds/dodsC/UMO/DSG/SOS/A01/Accelerometer/HistoricRealtime.html\n",
      "http://www.neracoos.org/thredds/dodsC/UMO/DSG/SOS/A01/CTD1m/HistoricRealtime.html\n",
      "http://www.neracoos.org/thredds/dodsC/UMO/DSG/SOS/A01/CTD20m/HistoricRealtime.html\n",
      "http://www.neracoos.org/thredds/dodsC/UMO/DSG/SOS/A01/Met/HistoricRealtime.html\n",
      "http://www.neracoos.org/thredds/dodsC/UMO/DSG/SOS/A01/OPTICS_S3m/HistoricRealtime.html\n",
      "http://www.neracoos.org/thredds/dodsC/UMO/DSG/SOS/A01/OPTODE51m/HistoricRealtime.html\n",
      "http://www.neracoos.org/thredds/dodsC/UMO/Realtime/SOS/A01/DSG_A0140.accelerometer.realtime.nc.html\n",
      "http://www.neracoos.org/thredds/dodsC/UMO/Realtime/SOS/A01/DSG_A0140.met.realtime.nc.html\n",
      "http://www.neracoos.org/thredds/dodsC/UMO/Realtime/SOS/A01/DSG_A0140.optode.realtime.51m.nc.html\n",
      "http://www.neracoos.org/thredds/dodsC/UMO/Realtime/SOS/A01/DSG_A0140.sbe37.realtime.1m.nc.html\n",
      "http://www.neracoos.org/thredds/dodsC/UMO/Realtime/SOS/A01/DSG_A0140.sbe37.realtime.20m.nc.html\n",
      "http://www.smast.umassd.edu:8080/thredds/dodsC/FVCOM/NECOFS/Forecasts/NECOFS_FVCOM_OCEAN_BOSTON_FORECAST.nc.html\n",
      "http://www.smast.umassd.edu:8080/thredds/dodsC/FVCOM/NECOFS/Forecasts/NECOFS_FVCOM_OCEAN_MASSBAY_FORECAST.nc.html\n",
      "http://www.smast.umassd.edu:8080/thredds/dodsC/FVCOM/NECOFS/Forecasts/NECOFS_FVCOM_OCEAN_SCITUATE_FORECAST.nc.html\n",
      "\n",
      "\n"
     ]
    }
   ],
   "source": [
    "from ioos_tools.ioos import service_urls, get_csw_records\n",
    "from owslib.csw import CatalogueServiceWeb\n",
    "\n",
    "\n",
    "dap_urls = []\n",
    "print(fmt(' Catalog information '))\n",
    "for endpoint in config['catalogs']:\n",
    "    print('URL: {}'.format(endpoint))\n",
    "    try:\n",
    "        csw = CatalogueServiceWeb(endpoint, timeout=120)\n",
    "    except Exception as e:\n",
    "        print('{}'.format(e))\n",
    "        continue\n",
    "    csw = get_csw_records(csw, filter_list, esn='full')\n",
    "    OPeNDAP = service_urls(csw.records, identifier='OPeNDAP:OPeNDAP')\n",
    "    odp = service_urls(csw.records, identifier='urn:x-esri:specification:ServiceType:odp:url')\n",
    "    dap = OPeNDAP + odp\n",
    "    dap_urls.extend(dap)\n",
    "\n",
    "    print('Number of datasets available: {}'.format(len(csw.records.keys())))\n",
    "\n",
    "    for rec, item in csw.records.items():\n",
    "        print('{}'.format(item.title))\n",
    "    if dap:\n",
    "        print(fmt(' DAP '))\n",
    "        for url in dap:\n",
    "            print('{}.html'.format(url))\n",
    "    print('\\n')\n",
    "\n",
    "# Get only unique endpoints.\n",
    "dap_urls = list(set(dap_urls))"
   ]
  },
  {
   "cell_type": "markdown",
   "metadata": {},
   "source": [
    "We found some models, and observations from NERACOOS there.\n",
    "However, we do know that there are some buoys from NDBC and CO-OPS available too.\n",
    "Also, those NERACOOS observations seem to be from a [CTD](http://www.neracoos.org/thredds/dodsC/UMO/DSG/SOS/A01/CTD1m/HistoricRealtime/Agg.ncml.html) mounted at 65 meters below the sea surface. Rendering them useless from our purpose.\n",
    "\n",
    "So let's use the catalog only for the models by filtering the observations with `is_station` below.\n",
    "And we'll rely `CO-OPS` and `NDBC` services for the observations."
   ]
  },
  {
   "cell_type": "code",
   "execution_count": 6,
   "metadata": {},
   "outputs": [
    {
     "name": "stdout",
     "output_type": "stream",
     "text": [
      "************************* Filtered DAP *************************\n",
      "http://www.smast.umassd.edu:8080/thredds/dodsC/FVCOM/NECOFS/Forecasts/NECOFS_FVCOM_OCEAN_MASSBAY_FORECAST.nc#fillmismatch.html\n",
      "http://www.smast.umassd.edu:8080/thredds/dodsC/FVCOM/NECOFS/Forecasts/NECOFS_FVCOM_OCEAN_BOSTON_FORECAST.nc#fillmismatch.html\n",
      "http://www.neracoos.org/thredds/dodsC/UMO/Realtime/SOS/A01/DSG_A0140.optode.realtime.51m.nc#fillmismatch.html\n",
      "http://www.neracoos.org/thredds/dodsC/UMO/Realtime/SOS/A01/DSG_A0140.accelerometer.realtime.nc#fillmismatch.html\n",
      "http://www.neracoos.org/thredds/dodsC/UMO/Realtime/SOS/A01/DSG_A0140.met.realtime.nc#fillmismatch.html\n",
      "http://tds.marine.rutgers.edu/thredds/dodsC/roms/doppio/2017_da/avg/Averages_Best#fillmismatch.html\n",
      "http://tds.marine.rutgers.edu/thredds/dodsC/roms/doppio/2017_da/his/History_Best#fillmismatch.html\n",
      "http://thredds.secoora.org/thredds/dodsC/AOOS_OSTIA.nc#fillmismatch.html\n",
      "http://www.neracoos.org/thredds/dodsC/UMO/Realtime/SOS/A01/DSG_A0140.sbe37.realtime.1m.nc#fillmismatch.html\n",
      "http://thredds.secoora.org/thredds/dodsC/G1_SST_GLOBAL.nc#fillmismatch.html\n",
      "http://thredds.secoora.org/thredds/dodsC/SECOORA_NCSU_CNAPS.nc#fillmismatch.html\n",
      "http://www.smast.umassd.edu:8080/thredds/dodsC/FVCOM/NECOFS/Forecasts/NECOFS_FVCOM_OCEAN_SCITUATE_FORECAST.nc#fillmismatch.html\n",
      "http://www.neracoos.org/thredds/dodsC/UMO/Realtime/SOS/A01/DSG_A0140.sbe37.realtime.20m.nc#fillmismatch.html\n"
     ]
    }
   ],
   "source": [
    "from timeout_decorator import TimeoutError\n",
    "from ioos_tools.ioos import is_station\n",
    "\n",
    "# Filter out some station endpoints.\n",
    "non_stations = []\n",
    "for url in dap_urls:\n",
    "    url = f'{url}#fillmismatch'\n",
    "    try:\n",
    "        if not is_station(url):\n",
    "            non_stations.append(url)\n",
    "    except (IOError, OSError, RuntimeError, TimeoutError) as e:\n",
    "        print('Could not access URL {}.html\\n{!r}'.format(url, e))\n",
    "\n",
    "dap_urls = non_stations\n",
    "\n",
    "print(fmt(' Filtered DAP '))\n",
    "for url in dap_urls:\n",
    "    print('{}.html'.format(url))"
   ]
  },
  {
   "cell_type": "markdown",
   "metadata": {},
   "source": [
    "Now we can use `pyoos` collectors for `NdbcSos`,"
   ]
  },
  {
   "cell_type": "code",
   "execution_count": 7,
   "metadata": {},
   "outputs": [
    {
     "name": "stdout",
     "output_type": "stream",
     "text": [
      "******************* NDBC Collector offerings *******************\n",
      "National Data Buoy Center SOS: 1037 offerings\n"
     ]
    }
   ],
   "source": [
    "from pyoos.collectors.ndbc.ndbc_sos import NdbcSos\n",
    "\n",
    "collector_ndbc = NdbcSos()\n",
    "\n",
    "collector_ndbc.set_bbox(config['region']['bbox'])\n",
    "collector_ndbc.end_time = config['date']['stop']\n",
    "collector_ndbc.start_time = config['date']['start']\n",
    "collector_ndbc.variables = [config['sos_name']]\n",
    "\n",
    "ofrs = collector_ndbc.server.offerings\n",
    "title = collector_ndbc.server.identification.title\n",
    "print(fmt(' NDBC Collector offerings '))\n",
    "print('{}: {} offerings'.format(title, len(ofrs)))"
   ]
  },
  {
   "cell_type": "code",
   "execution_count": 8,
   "metadata": {},
   "outputs": [
    {
     "data": {
      "text/html": [
       "<div>\n",
       "<style scoped>\n",
       "    .dataframe tbody tr th:only-of-type {\n",
       "        vertical-align: middle;\n",
       "    }\n",
       "\n",
       "    .dataframe tbody tr th {\n",
       "        vertical-align: top;\n",
       "    }\n",
       "\n",
       "    .dataframe thead th {\n",
       "        text-align: right;\n",
       "    }\n",
       "</style>\n",
       "<table border=\"1\" class=\"dataframe\">\n",
       "  <thead>\n",
       "    <tr style=\"text-align: right;\">\n",
       "      <th></th>\n",
       "      <th>station_name</th>\n",
       "      <th>sensor</th>\n",
       "      <th>lon</th>\n",
       "      <th>lat</th>\n",
       "      <th>depth</th>\n",
       "    </tr>\n",
       "    <tr>\n",
       "      <th>station_code</th>\n",
       "      <th></th>\n",
       "      <th></th>\n",
       "      <th></th>\n",
       "      <th></th>\n",
       "      <th></th>\n",
       "    </tr>\n",
       "  </thead>\n",
       "  <tbody>\n",
       "    <tr>\n",
       "      <th>44013</th>\n",
       "      <td>BOSTON 16 NM East of Boston, MA</td>\n",
       "      <td>urn:ioos:sensor:wmo:44013::watertemp1</td>\n",
       "      <td>-70.651</td>\n",
       "      <td>42.346</td>\n",
       "      <td>0.6</td>\n",
       "    </tr>\n",
       "  </tbody>\n",
       "</table>\n",
       "</div>"
      ],
      "text/plain": [
       "                                 station_name  \\\n",
       "station_code                                    \n",
       "44013         BOSTON 16 NM East of Boston, MA   \n",
       "\n",
       "                                             sensor     lon     lat  depth  \n",
       "station_code                                                                \n",
       "44013         urn:ioos:sensor:wmo:44013::watertemp1 -70.651  42.346    0.6  "
      ]
     },
     "execution_count": 8,
     "metadata": {},
     "output_type": "execute_result"
    }
   ],
   "source": [
    "import pandas as pd\n",
    "from ioos_tools.ioos import collector2table\n",
    "\n",
    "ndbc = collector2table(collector=collector_ndbc,\n",
    "                       config=config,\n",
    "                       col='sea_water_temperature (C)')\n",
    "\n",
    "if ndbc:\n",
    "    data = dict(\n",
    "        station_name=[s._metadata.get('station_name') for s in ndbc],\n",
    "        station_code=[s._metadata.get('station_code') for s in ndbc],\n",
    "        sensor=[s._metadata.get('sensor') for s in ndbc],\n",
    "        lon=[s._metadata.get('lon') for s in ndbc],\n",
    "        lat=[s._metadata.get('lat') for s in ndbc],\n",
    "        depth=[s._metadata.get('depth') for s in ndbc],\n",
    "    )\n",
    "\n",
    "table = pd.DataFrame(data).set_index('station_code')\n",
    "table"
   ]
  },
  {
   "cell_type": "markdown",
   "metadata": {},
   "source": [
    "and `CoopsSos`."
   ]
  },
  {
   "cell_type": "code",
   "execution_count": 9,
   "metadata": {},
   "outputs": [
    {
     "name": "stdout",
     "output_type": "stream",
     "text": [
      "********************* Collector offerings **********************\n",
      "NOAA.NOS.CO-OPS SOS: 1230 offerings\n"
     ]
    }
   ],
   "source": [
    "from pyoos.collectors.coops.coops_sos import CoopsSos\n",
    "\n",
    "collector_coops = CoopsSos()\n",
    "\n",
    "collector_coops.set_bbox(config['region']['bbox'])\n",
    "collector_coops.end_time = config['date']['stop']\n",
    "collector_coops.start_time = config['date']['start']\n",
    "collector_coops.variables = [config['sos_name']]\n",
    "\n",
    "ofrs = collector_coops.server.offerings\n",
    "title = collector_coops.server.identification.title\n",
    "print(fmt(' Collector offerings '))\n",
    "print('{}: {} offerings'.format(title, len(ofrs)))"
   ]
  },
  {
   "cell_type": "code",
   "execution_count": 10,
   "metadata": {
    "scrolled": true
   },
   "outputs": [
    {
     "data": {
      "text/html": [
       "<div>\n",
       "<style scoped>\n",
       "    .dataframe tbody tr th:only-of-type {\n",
       "        vertical-align: middle;\n",
       "    }\n",
       "\n",
       "    .dataframe tbody tr th {\n",
       "        vertical-align: top;\n",
       "    }\n",
       "\n",
       "    .dataframe thead th {\n",
       "        text-align: right;\n",
       "    }\n",
       "</style>\n",
       "<table border=\"1\" class=\"dataframe\">\n",
       "  <thead>\n",
       "    <tr style=\"text-align: right;\">\n",
       "      <th></th>\n",
       "      <th>station_name</th>\n",
       "      <th>sensor</th>\n",
       "      <th>lon</th>\n",
       "      <th>lat</th>\n",
       "      <th>depth</th>\n",
       "    </tr>\n",
       "    <tr>\n",
       "      <th>station_code</th>\n",
       "      <th></th>\n",
       "      <th></th>\n",
       "      <th></th>\n",
       "      <th></th>\n",
       "      <th></th>\n",
       "    </tr>\n",
       "  </thead>\n",
       "  <tbody>\n",
       "    <tr>\n",
       "      <th>44013</th>\n",
       "      <td>BOSTON 16 NM East of Boston, MA</td>\n",
       "      <td>urn:ioos:sensor:wmo:44013::watertemp1</td>\n",
       "      <td>-70.651</td>\n",
       "      <td>42.346</td>\n",
       "      <td>0.6</td>\n",
       "    </tr>\n",
       "  </tbody>\n",
       "</table>\n",
       "</div>"
      ],
      "text/plain": [
       "                                 station_name  \\\n",
       "station_code                                    \n",
       "44013         BOSTON 16 NM East of Boston, MA   \n",
       "\n",
       "                                             sensor     lon     lat  depth  \n",
       "station_code                                                                \n",
       "44013         urn:ioos:sensor:wmo:44013::watertemp1 -70.651  42.346    0.6  "
      ]
     },
     "execution_count": 10,
     "metadata": {},
     "output_type": "execute_result"
    }
   ],
   "source": [
    "coops = collector2table(collector=collector_coops,\n",
    "                        config=config,\n",
    "                        col='sea_water_temperature (C)')\n",
    "\n",
    "if coops:\n",
    "    data = dict(\n",
    "        station_name=[s._metadata.get('station_name') for s in coops],\n",
    "        station_code=[s._metadata.get('station_code') for s in coops],\n",
    "        sensor=[s._metadata.get('sensor') for s in coops],\n",
    "        lon=[s._metadata.get('lon') for s in coops],\n",
    "        lat=[s._metadata.get('lat') for s in coops],\n",
    "        depth=[s._metadata.get('depth') for s in coops],\n",
    "    )\n",
    "\n",
    "table = pd.DataFrame(data).set_index('station_code')\n",
    "table"
   ]
  },
  {
   "cell_type": "markdown",
   "metadata": {},
   "source": [
    "We will join all the observations into an uniform series, interpolated to 1-hour interval, for the model-data comparison.\n",
    "\n",
    "This step is necessary because the observations can be 7 or 10 minutes resolution,\n",
    "while the models can be 30 to 60 minutes."
   ]
  },
  {
   "cell_type": "code",
   "execution_count": 11,
   "metadata": {
    "scrolled": true
   },
   "outputs": [],
   "source": [
    "data = ndbc + coops\n",
    "\n",
    "index = pd.date_range(start=config['date']['start'].replace(tzinfo=None),\n",
    "                      end=config['date']['stop'].replace(tzinfo=None),\n",
    "                      freq='1H')\n",
    "\n",
    "# Preserve metadata with `reindex`.\n",
    "observations = []\n",
    "for series in data:\n",
    "    _metadata = series._metadata\n",
    "    series.index = series.index.tz_localize(None)\n",
    "    series.index = series.index.tz_localize(None)\n",
    "    obs = series.reindex(index=index, limit=1, method='nearest')\n",
    "    obs._metadata = _metadata\n",
    "    observations.append(obs)"
   ]
  },
  {
   "cell_type": "markdown",
   "metadata": {},
   "source": [
    "In this next cell we will save the data for quicker access later."
   ]
  },
  {
   "cell_type": "code",
   "execution_count": 12,
   "metadata": {
    "scrolled": false
   },
   "outputs": [],
   "source": [
    "import iris\n",
    "from ioos_tools.tardis import series2cube\n",
    "\n",
    "attr = dict(\n",
    "    featureType='timeSeries',\n",
    "    Conventions='CF-1.6',\n",
    "    standard_name_vocabulary='CF-1.6',\n",
    "    cdm_data_type='Station',\n",
    "    comment='Data from http://opendap.co-ops.nos.noaa.gov'\n",
    ")\n",
    "\n",
    "\n",
    "cubes = iris.cube.CubeList(\n",
    "    [series2cube(obs, attr=attr) for obs in observations]\n",
    ")\n",
    "\n",
    "outfile = os.path.join(save_dir, 'OBS_DATA.nc')\n",
    "iris.save(cubes, outfile)"
   ]
  },
  {
   "cell_type": "markdown",
   "metadata": {},
   "source": [
    "Taking a quick look at the observations:"
   ]
  },
  {
   "cell_type": "code",
   "execution_count": 13,
   "metadata": {},
   "outputs": [
    {
     "data": {
      "image/png": "[encoded data removed]",
      "text/plain": [
       "<Figure size 792x162 with 1 Axes>"
      ]
     },
     "metadata": {
      "needs_background": "light"
     },
     "output_type": "display_data"
    }
   ],
   "source": [
    "%matplotlib inline\n",
    "\n",
    "ax = pd.concat(data).plot(figsize=(11, 2.25))"
   ]
  },
  {
   "cell_type": "markdown",
   "metadata": {},
   "source": [
    "Now it is time to loop the models we found above,"
   ]
  },
  {
   "cell_type": "code",
   "execution_count": 14,
   "metadata": {},
   "outputs": [
    {
     "name": "stdout",
     "output_type": "stream",
     "text": [
      "**************************** Models ****************************\n",
      "\n",
      "[Reading url 1/13]: http://www.smast.umassd.edu:8080/thredds/dodsC/FVCOM/NECOFS/Forecasts/NECOFS_FVCOM_OCEAN_MASSBAY_FORECAST.nc#fillmismatch\n",
      "\n",
      "[Reading url 2/13]: http://www.smast.umassd.edu:8080/thredds/dodsC/FVCOM/NECOFS/Forecasts/NECOFS_FVCOM_OCEAN_BOSTON_FORECAST.nc#fillmismatch\n",
      "\n",
      "[Reading url 3/13]: http://www.neracoos.org/thredds/dodsC/UMO/Realtime/SOS/A01/DSG_A0140.optode.realtime.51m.nc#fillmismatch\n",
      "[Not model data]: http://www.neracoos.org/thredds/dodsC/UMO/Realtime/SOS/A01/DSG_A0140.optode.realtime.51m.nc#fillmismatch\n",
      "\n",
      "[Reading url 4/13]: http://www.neracoos.org/thredds/dodsC/UMO/Realtime/SOS/A01/DSG_A0140.accelerometer.realtime.nc#fillmismatch\n",
      "Cannot get cube for: http://www.neracoos.org/thredds/dodsC/UMO/Realtime/SOS/A01/DSG_A0140.accelerometer.realtime.nc#fillmismatch\n",
      "Cannot find ['sea_water_temperature', 'sea_surface_temperature', 'sea_water_potential_temperature', 'equivalent_potential_temperature', 'sea_water_conservative_temperature', 'pseudo_equivalent_potential_temperature'] in http://www.neracoos.org/thredds/dodsC/UMO/Realtime/SOS/A01/DSG_A0140.accelerometer.realtime.nc#fillmismatch.\n",
      "\n",
      "[Reading url 5/13]: http://www.neracoos.org/thredds/dodsC/UMO/Realtime/SOS/A01/DSG_A0140.met.realtime.nc#fillmismatch\n",
      "Cannot get cube for: http://www.neracoos.org/thredds/dodsC/UMO/Realtime/SOS/A01/DSG_A0140.met.realtime.nc#fillmismatch\n",
      "Cannot find ['sea_water_temperature', 'sea_surface_temperature', 'sea_water_potential_temperature', 'equivalent_potential_temperature', 'sea_water_conservative_temperature', 'pseudo_equivalent_potential_temperature'] in http://www.neracoos.org/thredds/dodsC/UMO/Realtime/SOS/A01/DSG_A0140.met.realtime.nc#fillmismatch.\n",
      "\n",
      "[Reading url 6/13]: http://tds.marine.rutgers.edu/thredds/dodsC/roms/doppio/2017_da/avg/Averages_Best#fillmismatch\n",
      "\n",
      "[Reading url 7/13]: http://tds.marine.rutgers.edu/thredds/dodsC/roms/doppio/2017_da/his/History_Best#fillmismatch\n",
      "\n",
      "[Reading url 8/13]: http://thredds.secoora.org/thredds/dodsC/AOOS_OSTIA.nc#fillmismatch\n",
      "[Not model data]: http://thredds.secoora.org/thredds/dodsC/AOOS_OSTIA.nc#fillmismatch\n",
      "\n",
      "[Reading url 9/13]: http://www.neracoos.org/thredds/dodsC/UMO/Realtime/SOS/A01/DSG_A0140.sbe37.realtime.1m.nc#fillmismatch\n",
      "[Not model data]: http://www.neracoos.org/thredds/dodsC/UMO/Realtime/SOS/A01/DSG_A0140.sbe37.realtime.1m.nc#fillmismatch\n",
      "\n",
      "[Reading url 10/13]: http://thredds.secoora.org/thredds/dodsC/G1_SST_GLOBAL.nc#fillmismatch\n",
      "Cannot get cube for: http://thredds.secoora.org/thredds/dodsC/G1_SST_GLOBAL.nc#fillmismatch\n",
      "Found more than one time coordinates!\n",
      "\n",
      "[Reading url 11/13]: http://thredds.secoora.org/thredds/dodsC/SECOORA_NCSU_CNAPS.nc#fillmismatch\n",
      "\n",
      "[Reading url 12/13]: http://www.smast.umassd.edu:8080/thredds/dodsC/FVCOM/NECOFS/Forecasts/NECOFS_FVCOM_OCEAN_SCITUATE_FORECAST.nc#fillmismatch\n",
      "\n",
      "[Reading url 13/13]: http://www.neracoos.org/thredds/dodsC/UMO/Realtime/SOS/A01/DSG_A0140.sbe37.realtime.20m.nc#fillmismatch\n",
      "[Not model data]: http://www.neracoos.org/thredds/dodsC/UMO/Realtime/SOS/A01/DSG_A0140.sbe37.realtime.20m.nc#fillmismatch\n"
     ]
    }
   ],
   "source": [
    "from iris.exceptions import (CoordinateNotFoundError, ConstraintMismatchError,\n",
    "                             MergeError)\n",
    "from ioos_tools.ioos import get_model_name\n",
    "from ioos_tools.tardis import quick_load_cubes, proc_cube, is_model, get_surface\n",
    "\n",
    "print(fmt(' Models '))\n",
    "cubes = dict()\n",
    "for k, url in enumerate(dap_urls):\n",
    "    print('\\n[Reading url {}/{}]: {}'.format(k+1, len(dap_urls), url))\n",
    "    try:\n",
    "        cube = quick_load_cubes(url, config['cf_names'],\n",
    "                                callback=None, strict=True)\n",
    "        if is_model(cube):\n",
    "            cube = proc_cube(cube,\n",
    "                             bbox=config['region']['bbox'],\n",
    "                             time=(config['date']['start'],\n",
    "                                   config['date']['stop']),\n",
    "                             units=config['units'])\n",
    "        else:\n",
    "            print('[Not model data]: {}'.format(url))\n",
    "            continue\n",
    "        cube = get_surface(cube)\n",
    "        mod_name = get_model_name(url)\n",
    "        cubes.update({mod_name: cube})\n",
    "    except (RuntimeError, ValueError,\n",
    "            ConstraintMismatchError, CoordinateNotFoundError,\n",
    "            IndexError) as e:\n",
    "        print('Cannot get cube for: {}\\n{}'.format(url, e))"
   ]
  },
  {
   "cell_type": "markdown",
   "metadata": {},
   "source": [
    "Next, we will match them with the nearest observed time-series. The `max_dist=0.08` is in degrees, that is roughly 8 kilometers."
   ]
  },
  {
   "cell_type": "code",
   "execution_count": 15,
   "metadata": {},
   "outputs": [
    {
     "name": "stdout",
     "output_type": "stream",
     "text": [
      " Downloading to file /home/filipe/IOOS/notebooks_demos/notebooks/latest/Forecasts-NECOFS_FVCOM_OCEAN_MASSBAY_FORECAST.nc#fillmismatch.nc \n",
      "[Water  ] BOSTON 16 NM East of Boston, MA\n",
      "Finished processing [Forecasts-NECOFS_FVCOM_OCEAN_MASSBAY_FORECAST.nc#fillmismatch]\n",
      " Downloading to file /home/filipe/IOOS/notebooks_demos/notebooks/latest/Forecasts-NECOFS_FVCOM_OCEAN_BOSTON_FORECAST.nc#fillmismatch.nc \n",
      "[No Data] BOSTON 16 NM East of Boston, MA\n",
      "Finished processing [Forecasts-NECOFS_FVCOM_OCEAN_BOSTON_FORECAST.nc#fillmismatch]\n",
      " Downloading to file /home/filipe/IOOS/notebooks_demos/notebooks/latest/roms_doppio_2017_da_avg-Averages_Best#fillmismatch.nc \n",
      "[Water  ] BOSTON 16 NM East of Boston, MA\n",
      "Finished processing [roms_doppio_2017_da_avg-Averages_Best#fillmismatch]\n",
      " Downloading to file /home/filipe/IOOS/notebooks_demos/notebooks/latest/roms_doppio_2017_da-History_Best#fillmismatch.nc \n",
      "[Water  ] BOSTON 16 NM East of Boston, MA\n",
      "Finished processing [roms_doppio_2017_da-History_Best#fillmismatch]\n",
      " Downloading to file /home/filipe/IOOS/notebooks_demos/notebooks/latest/SECOORA_NCSU_CNAPS.nc#fillmismatch.nc \n",
      "[Water  ] BOSTON 16 NM East of Boston, MA\n",
      "Finished processing [SECOORA_NCSU_CNAPS.nc#fillmismatch]\n",
      " Downloading to file /home/filipe/IOOS/notebooks_demos/notebooks/latest/Forecasts-NECOFS_FVCOM_OCEAN_SCITUATE_FORECAST.nc#fillmismatch.nc \n",
      "[No Data] BOSTON 16 NM East of Boston, MA\n",
      "Finished processing [Forecasts-NECOFS_FVCOM_OCEAN_SCITUATE_FORECAST.nc#fillmismatch]\n"
     ]
    }
   ],
   "source": [
    "import iris\n",
    "from iris.pandas import as_series\n",
    "from ioos_tools.tardis import (make_tree, get_nearest_water,\n",
    "                               add_station, ensure_timeseries, remove_ssh)\n",
    "\n",
    "for mod_name, cube in cubes.items():\n",
    "    fname = '{}.nc'.format(mod_name)\n",
    "    fname = os.path.join(save_dir, fname)\n",
    "    print(fmt(' Downloading to file {} '.format(fname)))\n",
    "    try:\n",
    "        tree, lon, lat = make_tree(cube)\n",
    "    except CoordinateNotFoundError:\n",
    "        print('Cannot make KDTree for: {}'.format(mod_name))\n",
    "        continue\n",
    "    # Get model series at observed locations.\n",
    "    raw_series = dict()\n",
    "    for obs in observations:\n",
    "        obs = obs._metadata\n",
    "        station = obs['station_code']\n",
    "        try:\n",
    "            kw = dict(k=10, max_dist=0.08, min_var=0.01)\n",
    "            args = cube, tree, obs['lon'], obs['lat']\n",
    "            try:\n",
    "                series, dist, idx = get_nearest_water(*args, **kw)\n",
    "            except RuntimeError as e:\n",
    "                print('Cannot download {!r}.\\n{}'.format(cube, e))\n",
    "                series = None\n",
    "        except ValueError:\n",
    "            status = 'No Data'\n",
    "            print('[{}] {}'.format(status, obs['station_name']))\n",
    "            continue\n",
    "        if not series:\n",
    "            status = 'Land   '\n",
    "        else:\n",
    "            raw_series.update({station: series})\n",
    "            series = as_series(series)\n",
    "            status = 'Water  '\n",
    "        print('[{}] {}'.format(status, obs['station_name']))\n",
    "    if raw_series:  # Save cube.\n",
    "        for station, cube in raw_series.items():\n",
    "            cube = add_station(cube, station)\n",
    "            cube = remove_ssh(cube)\n",
    "        try:\n",
    "            cube = iris.cube.CubeList(raw_series.values()).merge_cube()\n",
    "        except MergeError as e:\n",
    "            print(e)\n",
    "        ensure_timeseries(cube)\n",
    "        try:\n",
    "            iris.save(cube, fname)\n",
    "        except AttributeError:\n",
    "            # FIXME: we should patch the bad attribute instead of removing everything.\n",
    "            cube.attributes = {}\n",
    "            iris.save(cube, fname)\n",
    "        del cube\n",
    "    print('Finished processing [{}]'.format(mod_name))"
   ]
  },
  {
   "cell_type": "markdown",
   "metadata": {},
   "source": [
    "Now it is possible to compute some simple comparison metrics. First we'll calculate the model mean bias:\n",
    "\n",
    "$$ \\text{MB} = \\mathbf{\\overline{m}} - \\mathbf{\\overline{o}}$$"
   ]
  },
  {
   "cell_type": "code",
   "execution_count": 16,
   "metadata": {},
   "outputs": [],
   "source": [
    "from ioos_tools.ioos import stations_keys\n",
    "\n",
    "\n",
    "def rename_cols(df, config):\n",
    "    cols = stations_keys(config, key='station_name')\n",
    "    return df.rename(columns=cols)"
   ]
  },
  {
   "cell_type": "code",
   "execution_count": 17,
   "metadata": {
    "scrolled": false
   },
   "outputs": [],
   "source": [
    "from ioos_tools.ioos import load_ncs\n",
    "from ioos_tools.skill_score import mean_bias, apply_skill\n",
    "\n",
    "dfs = load_ncs(config)\n",
    "\n",
    "df = apply_skill(dfs, mean_bias, remove_mean=False, filter_tides=False)\n",
    "skill_score = dict(mean_bias=df.to_dict())\n",
    "\n",
    "# Filter out stations with no valid comparison.\n",
    "df.dropna(how='all', axis=1, inplace=True)\n",
    "df = df.applymap('{:.2f}'.format).replace('nan', '--')"
   ]
  },
  {
   "cell_type": "markdown",
   "metadata": {},
   "source": [
    "And the root mean squared rrror of the deviations from the mean:\n",
    "$$ \\text{CRMS} = \\sqrt{\\left(\\mathbf{m'} - \\mathbf{o'}\\right)^2}$$\n",
    "\n",
    "where: $\\mathbf{m'} = \\mathbf{m} - \\mathbf{\\overline{m}}$ and $\\mathbf{o'} = \\mathbf{o} - \\mathbf{\\overline{o}}$"
   ]
  },
  {
   "cell_type": "code",
   "execution_count": 18,
   "metadata": {},
   "outputs": [],
   "source": [
    "from ioos_tools.skill_score import rmse\n",
    "\n",
    "dfs = load_ncs(config)\n",
    "\n",
    "df = apply_skill(dfs, rmse, remove_mean=True, filter_tides=False)\n",
    "skill_score['rmse'] = df.to_dict()\n",
    "\n",
    "# Filter out stations with no valid comparison.\n",
    "df.dropna(how='all', axis=1, inplace=True)\n",
    "df = df.applymap('{:.2f}'.format).replace('nan', '--')"
   ]
  },
  {
   "cell_type": "markdown",
   "metadata": {},
   "source": [
    "The next 2 cells make the scores \"pretty\" for plotting."
   ]
  },
  {
   "cell_type": "code",
   "execution_count": 19,
   "metadata": {},
   "outputs": [],
   "source": [
    "import pandas as pd\n",
    "\n",
    "# Stringfy keys.\n",
    "for key in skill_score.keys():\n",
    "    skill_score[key] = {str(k): v for k, v in skill_score[key].items()}\n",
    "\n",
    "mean_bias = pd.DataFrame.from_dict(skill_score['mean_bias'])\n",
    "mean_bias = mean_bias.applymap('{:.2f}'.format).replace('nan', '--')\n",
    "\n",
    "skill_score = pd.DataFrame.from_dict(skill_score['rmse'])\n",
    "skill_score = skill_score.applymap('{:.2f}'.format).replace('nan', '--')"
   ]
  },
  {
   "cell_type": "code",
   "execution_count": 20,
   "metadata": {},
   "outputs": [],
   "source": [
    "import folium\n",
    "from ioos_tools.ioos import get_coordinates\n",
    "\n",
    "\n",
    "def make_map(bbox, **kw):\n",
    "    line = kw.pop('line', True)\n",
    "    layers = kw.pop('layers', True)\n",
    "    zoom_start = kw.pop('zoom_start', 5)\n",
    "\n",
    "    lon = (bbox[0] + bbox[2]) / 2\n",
    "    lat = (bbox[1] + bbox[3]) / 2\n",
    "    m = folium.Map(width='100%', height='100%',\n",
    "                   location=[lat, lon], zoom_start=zoom_start)\n",
    "\n",
    "    if layers:\n",
    "        url = 'http://oos.soest.hawaii.edu/thredds/wms/hioos/satellite/dhw_5km'\n",
    "        w = folium.WmsTileLayer(\n",
    "            url,\n",
    "            name='Sea Surface Temperature',\n",
    "            fmt='image/png',\n",
    "            layers='CRW_SST',\n",
    "            attr='PacIOOS TDS',\n",
    "            overlay=True,\n",
    "            transparent=True)\n",
    "        w.add_to(m)\n",
    "\n",
    "    if line:\n",
    "        p = folium.PolyLine(\n",
    "            get_coordinates(bbox),\n",
    "            color='#FF0000',\n",
    "            weight=2,\n",
    "            opacity=0.9,\n",
    "        )\n",
    "        p.add_to(m)\n",
    "    return m"
   ]
  },
  {
   "cell_type": "code",
   "execution_count": 21,
   "metadata": {},
   "outputs": [],
   "source": [
    "bbox = config['region']['bbox']\n",
    "\n",
    "m = make_map(\n",
    "    bbox,\n",
    "    zoom_start=11,\n",
    "    line=True,\n",
    "    layers=True\n",
    ")"
   ]
  },
  {
   "cell_type": "markdown",
   "metadata": {},
   "source": [
    "The cells from `[20]` to `[25]` create a [`folium`](https://github.com/python-visualization/folium) map with [`bokeh`](http://bokeh.pydata.org/en/latest/) for the time-series at the observed points.\n",
    "\n",
    "Note that we did mark the nearest model cell location used in the comparison."
   ]
  },
  {
   "cell_type": "code",
   "execution_count": 22,
   "metadata": {},
   "outputs": [],
   "source": [
    "all_obs = stations_keys(config)\n",
    "\n",
    "from glob import glob\n",
    "from operator import itemgetter\n",
    "\n",
    "import iris\n",
    "from folium.plugins import MarkerCluster\n",
    "\n",
    "iris.FUTURE.netcdf_promote = True\n",
    "\n",
    "big_list = []\n",
    "for fname in glob(os.path.join(save_dir, '*.nc')):\n",
    "    if 'OBS_DATA' in fname:\n",
    "        continue\n",
    "    cube = iris.load_cube(fname)\n",
    "    model = os.path.split(fname)[1].split('-')[-1].split('.')[0]\n",
    "    lons = cube.coord(axis='X').points\n",
    "    lats = cube.coord(axis='Y').points\n",
    "    stations = cube.coord('station_code').points\n",
    "    models = [model]*lons.size\n",
    "    lista = zip(models, lons.tolist(), lats.tolist(), stations.tolist())\n",
    "    big_list.extend(lista)\n",
    "\n",
    "big_list.sort(key=itemgetter(3))\n",
    "df = pd.DataFrame(big_list, columns=['name', 'lon', 'lat', 'station'])\n",
    "df.set_index('station', drop=True, inplace=True)\n",
    "groups = df.groupby(df.index)\n",
    "\n",
    "\n",
    "locations, popups = [], []\n",
    "for station, info in groups:\n",
    "    sta_name = all_obs[station]\n",
    "    for lat, lon, name in zip(info.lat, info.lon, info.name):\n",
    "        locations.append([lat, lon])\n",
    "        popups.append('[{}]: {}'.format(name, sta_name))\n",
    "\n",
    "MarkerCluster(locations=locations, popups=popups, name='Cluster').add_to(m);"
   ]
  },
  {
   "cell_type": "markdown",
   "metadata": {},
   "source": [
    "Here we use a dictionary with some models we expect to find so we can create a better legend for the plots. If any new models are found, we will use its filename in the legend as a default until we can go back and add a short name to our library."
   ]
  },
  {
   "cell_type": "code",
   "execution_count": 23,
   "metadata": {},
   "outputs": [],
   "source": [
    "titles = {\n",
    "    'coawst_4_use_best': 'COAWST_4',\n",
    "    'global': 'HYCOM',\n",
    "    'NECOFS_GOM3_FORECAST': 'NECOFS_GOM3',\n",
    "    'NECOFS_FVCOM_OCEAN_MASSBAY_FORECAST': 'NECOFS_MassBay',\n",
    "    'OBS_DATA': 'Observations'\n",
    "}"
   ]
  },
  {
   "cell_type": "code",
   "execution_count": 24,
   "metadata": {},
   "outputs": [],
   "source": [
    "from bokeh.resources import CDN\n",
    "from bokeh.plotting import figure\n",
    "from bokeh.embed import file_html\n",
    "from bokeh.models import HoverTool\n",
    "from itertools import cycle\n",
    "from bokeh.palettes import Category20\n",
    "\n",
    "from folium import IFrame\n",
    "\n",
    "# Plot defaults.\n",
    "colors = Category20[20]\n",
    "colorcycler = cycle(colors)\n",
    "tools = 'pan,box_zoom,reset'\n",
    "width, height = 750, 250\n",
    "\n",
    "\n",
    "def make_plot(df, station):\n",
    "    p = figure(\n",
    "        toolbar_location='above',\n",
    "        x_axis_type='datetime',\n",
    "        width=width,\n",
    "        height=height,\n",
    "        tools=tools,\n",
    "        title=str(station)\n",
    "    )\n",
    "    for column, series in df.iteritems():\n",
    "        series.dropna(inplace=True)\n",
    "        if not series.empty:\n",
    "            if 'OBS_DATA' not in column:\n",
    "                bias = mean_bias[str(station)][column]\n",
    "                skill = skill_score[str(station)][column]\n",
    "                line_color = next(colorcycler)\n",
    "                kw = dict(alpha=0.65, line_color=line_color)\n",
    "            else:\n",
    "                skill = bias = 'NA'\n",
    "                kw = dict(alpha=1, color='crimson')\n",
    "            line = p.line(\n",
    "                x=series.index,\n",
    "                y=series.values,\n",
    "                legend='{}'.format(titles.get(column, column)),\n",
    "                line_width=5,\n",
    "                line_cap='round',\n",
    "                line_join='round',\n",
    "                **kw\n",
    "            )\n",
    "            p.add_tools(HoverTool(tooltips=[('Name', '{}'.format(titles.get(column, column))),\n",
    "                                            ('Bias', bias),\n",
    "                                            ('Skill', skill)],\n",
    "                                  renderers=[line]))\n",
    "    return p\n",
    "\n",
    "\n",
    "def make_marker(p, station):\n",
    "    lons = stations_keys(config, key='lon')\n",
    "    lats = stations_keys(config, key='lat')\n",
    "\n",
    "    lon, lat = lons[station], lats[station]\n",
    "    html = file_html(p, CDN, station)\n",
    "    iframe = IFrame(html, width=width+40, height=height+80)\n",
    "\n",
    "    popup = folium.Popup(iframe, max_width=2650)\n",
    "    icon = folium.Icon(color='green', icon='stats')\n",
    "    marker = folium.Marker(location=[lat, lon],\n",
    "                           popup=popup,\n",
    "                           icon=icon)\n",
    "    return marker"
   ]
  },
  {
   "cell_type": "code",
   "execution_count": 25,
   "metadata": {},
   "outputs": [
    {
     "data": {
      "text/html": [
       "<div style=\"width:100%;\"><div style=\"position:relative;width:100%;height:0;padding-bottom:60%;\"><iframe src=\"data:text/html;charset=utf-8;base64,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\" style=\"position:absolute;width:100%;height:100%;left:0;top:0;border:none !important;\" allowfullscreen webkitallowfullscreen mozallowfullscreen></iframe></div></div>"
      ],
      "text/plain": [
       "<folium.folium.Map at 0x7f8c3018b3c8>"
      ]
     },
     "execution_count": 25,
     "metadata": {},
     "output_type": "execute_result"
    }
   ],
   "source": [
    "dfs = load_ncs(config)\n",
    "\n",
    "for station in dfs:\n",
    "    sta_name = all_obs[station]\n",
    "    df = dfs[station]\n",
    "    if df.empty:\n",
    "        continue\n",
    "    p = make_plot(df, station)\n",
    "    marker = make_marker(p, station)\n",
    "    marker.add_to(m)\n",
    "\n",
    "folium.LayerControl().add_to(m)\n",
    "\n",
    "m"
   ]
  },
  {
   "cell_type": "markdown",
   "metadata": {},
   "source": [
    "Now we can navigate the map and click on the markers to explorer our findings.\n",
    "\n",
    "The green markers locate the observations locations. They pop-up an interactive plot with the time-series and scores for the models (hover over the lines to se the scores). The blue markers indicate the nearest model grid point found for the comparison."
   ]
  }
 ],
 "metadata": {
  "_draft": {
   "nbviewer_url": "https://gist.github.com/80d9e3244c1fb3f25136a42168ce2a6c"
  },
  "anaconda-cloud": {},
  "gist": {
   "data": {
    "description": "2016-12-22-boston_light_swim.ipynb",
    "public": true
   },
   "id": "80d9e3244c1fb3f25136a42168ce2a6c"
  },
  "kernelspec": {
   "display_name": "Python 3",
   "language": "python",
   "name": "python3"
  },
  "language_info": {
   "codemirror_mode": {
    "name": "ipython",
    "version": 3
   },
   "file_extension": ".py",
   "mimetype": "text/x-python",
   "name": "python",
   "nbconvert_exporter": "python",
   "pygments_lexer": "ipython3",
   "version": "3.7.1"
  }
 },
 "nbformat": 4,
 "nbformat_minor": 1
}
