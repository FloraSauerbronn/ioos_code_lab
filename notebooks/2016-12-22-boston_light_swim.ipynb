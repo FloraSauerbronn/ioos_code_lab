{
 "cells": [
  {
   "cell_type": "markdown",
   "metadata": {},
   "source": [
    "# [The Boston Light Swim](http://bostonlightswim.org/)\n",
    "\n",
    "Fetching near real time Sea Surface Temperature time-series data from all avialble source and compare them.\n",
    "\n",
    "For more information regaridng the workflow presented here see [Signell, Richard P.; Fernandes, Filipe; Wilcox, Kyle.\t2016. \"Dynamic Reusable Workflows for Ocean Science.\" *J. Mar. Sci. Eng.* 4, no. 4: 68](http://dx.doi.org/10.3390/jmse4040068)."
   ]
  },
  {
   "cell_type": "code",
   "execution_count": 1,
   "metadata": {
    "collapsed": false
   },
   "outputs": [],
   "source": [
    "import os\n",
    "import sys\n",
    "import time\n",
    "import warnings\n",
    "\n",
    "ioos_tools = os.path.join(os.path.pardir)\n",
    "sys.path.append(ioos_tools)\n",
    "\n",
    "# Suppresing warnings for a \"pretty output.\"\n",
    "# Remove this line to debug any possible issues.\n",
    "warnings.simplefilter(\"ignore\")\n",
    "\n",
    "start_time = time.time()"
   ]
  },
  {
   "cell_type": "markdown",
   "metadata": {},
   "source": [
    "### Configuration"
   ]
  },
  {
   "cell_type": "code",
   "execution_count": 2,
   "metadata": {
    "collapsed": false
   },
   "outputs": [
    {
     "name": "stdout",
     "output_type": "stream",
     "text": [
      "Overwriting config.yaml\n"
     ]
    }
   ],
   "source": [
    "%%writefile config.yaml\n",
    "\n",
    "# Specify a YYYY-MM-DD hh:mm:ss date or integer day offset.\n",
    "# If both start and stop are offsets they will be computed relative to datetime.today() at midnight.\n",
    "# Use the dates commented below to reproduce the last Boston Light Swim event forecast.\n",
    "date:\n",
    "    start: -5 # 2016-8-16 00:00:00\n",
    "    stop: +4 # 2016-8-29 00:00:00\n",
    "\n",
    "run_name: 'latest'\n",
    "\n",
    "# Boston harbor.\n",
    "region:\n",
    "    bbox: [-71.3, 42.03, -70.57, 42.63]\n",
    "    crs: 'urn:ogc:def:crs:OGC:1.3:CRS84'\n",
    "\n",
    "sos_name: 'sea_water_temperature'\n",
    "\n",
    "cf_names:\n",
    "    - sea_water_temperature\n",
    "    - sea_surface_temperature\n",
    "    - sea_water_potential_temperature\n",
    "    - sea_water_conservative_temperature\n",
    "\n",
    "units: 'celsius'\n",
    "\n",
    "catalogs:\n",
    "    - https://data.ioos.us/csw\n",
    "    - http://gamone.whoi.edu/csw"
   ]
  },
  {
   "cell_type": "code",
   "execution_count": 3,
   "metadata": {
    "collapsed": false
   },
   "outputs": [
    {
     "name": "stdout",
     "output_type": "stream",
     "text": [
      "Saving data inside directory /home/filipe/IOOS/notebooks_demos/notebooks/latest\n",
      "*********************** Run information ************************\n",
      "Run date: 2017-01-10 17:03:46\n",
      "Start: 2017-01-05 00:00:00\n",
      "Stop: 2017-01-14 00:00:00\n",
      "Bounding box: -71.30, 42.03,-70.57, 42.63\n"
     ]
    }
   ],
   "source": [
    "import shutil\n",
    "from datetime import datetime\n",
    "from ioos_tools.ioos import parse_config\n",
    "\n",
    "config = parse_config('config.yaml')\n",
    "\n",
    "# Saves downloaded data into a temporary directory.\n",
    "save_dir = os.path.abspath(config['run_name'])\n",
    "if os.path.exists(save_dir):\n",
    "    shutil.rmtree(save_dir)\n",
    "os.makedirs(save_dir)\n",
    "\n",
    "fmt = '{:*^64}'.format\n",
    "print(fmt('Saving data inside directory {}'.format(save_dir)))\n",
    "print(fmt(' Run information '))\n",
    "print('Run date: {:%Y-%m-%d %H:%M:%S}'.format(datetime.utcnow()))\n",
    "print('Start: {:%Y-%m-%d %H:%M:%S}'.format(config['date']['start']))\n",
    "print('Stop: {:%Y-%m-%d %H:%M:%S}'.format(config['date']['stop']))\n",
    "print('Bounding box: {0:3.2f}, {1:3.2f},'\n",
    "      '{2:3.2f}, {3:3.2f}'.format(*config['region']['bbox']))"
   ]
  },
  {
   "cell_type": "markdown",
   "metadata": {},
   "source": [
    "### Create the data filter"
   ]
  },
  {
   "cell_type": "code",
   "execution_count": 4,
   "metadata": {
    "collapsed": false
   },
   "outputs": [],
   "source": [
    "def make_filter(config):\n",
    "    from owslib import fes\n",
    "    from ioos_tools.ioos import fes_date_filter\n",
    "    kw = dict(wildCard='*', escapeChar='\\\\',\n",
    "              singleChar='?', propertyname='apiso:AnyText')\n",
    "\n",
    "    or_filt = fes.Or([fes.PropertyIsLike(literal=('*%s*' % val), **kw)\n",
    "                      for val in config['cf_names']])\n",
    "\n",
    "    not_roms_avg = fes.Not([fes.PropertyIsLike(literal='*Averages*', **kw)])\n",
    "    not_ncep = fes.Not([fes.PropertyIsLike(literal='GRIB-2', **kw)])\n",
    "\n",
    "    begin, end = fes_date_filter(config['date']['start'],\n",
    "                                 config['date']['stop'])\n",
    "    bbox_crs = fes.BBox(config['region']['bbox'],\n",
    "                        crs=config['region']['crs'])\n",
    "    return [fes.And([bbox_crs, begin, end, or_filt, not_roms_avg, not_ncep])]\n",
    "\n",
    "\n",
    "filter_list = make_filter(config)"
   ]
  },
  {
   "cell_type": "code",
   "execution_count": 5,
   "metadata": {
    "code_folding": [],
    "collapsed": false
   },
   "outputs": [
    {
     "name": "stdout",
     "output_type": "stream",
     "text": [
      "********************* Catalog information **********************\n",
      "URL: https://data.ioos.us/csw\n",
      "Number of datasets available: 10\n",
      "G1SST, 1km blended SST\n",
      "HYbrid Coordinate Ocean Model (HYCOM): Global\n",
      "NERACOOS Gulf of Maine Ocean Array: Realtime Buoy Observations: A01 Massachusetts Bay: A01 ACCELEROMETER Massachusetts Bay\n",
      "NERACOOS Gulf of Maine Ocean Array: Realtime Buoy Observations: A01 Massachusetts Bay: A01 CTD1m Massachusetts Bay\n",
      "NERACOOS Gulf of Maine Ocean Array: Realtime Buoy Observations: A01 Massachusetts Bay: A01 CTD20m Massachusetts Bay\n",
      "NERACOOS Gulf of Maine Ocean Array: Realtime Buoy Observations: A01 Massachusetts Bay: A01 MET Massachusetts Bay\n",
      "NERACOOS Gulf of Maine Ocean Array: Realtime Buoy Observations: A01 Massachusetts Bay: A01 OPTICS3m Massachusetts Bay\n",
      "NERACOOS Gulf of Maine Ocean Array: Realtime Buoy Observations: A01 Massachusetts Bay: A01 OPTODE51m Massachusetts Bay\n",
      "NERACOOS Gulf of Maine Ocean Array: Realtime Buoy Observations: A01 Western Maine Shelf: A01 CTD52m Massachusetts Bay\n",
      "NOAA/NCEP Global Forecast System (GFS) Atmospheric Model\n",
      "***************************** DAP ******************************\n",
      "http://oos.soest.hawaii.edu/thredds/dodsC/hioos/model/atm/ncep_global/NCEP_Global_Atmospheric_Model_best.ncd.html\n",
      "http://oos.soest.hawaii.edu/thredds/dodsC/pacioos/hycom/global.html\n",
      "http://thredds.aoos.org/thredds/dodsC/G1_SST_GLOBAL.nc.html\n",
      "http://www.neracoos.org/thredds/dodsC/UMO/DSG/SOS/A01/Accelerometer/HistoricRealtime/Agg.ncml.html\n",
      "http://www.neracoos.org/thredds/dodsC/UMO/DSG/SOS/A01/CTD1m/HistoricRealtime/Agg.ncml.html\n",
      "http://www.neracoos.org/thredds/dodsC/UMO/DSG/SOS/A01/CTD20m/HistoricRealtime/Agg.ncml.html\n",
      "http://www.neracoos.org/thredds/dodsC/UMO/DSG/SOS/A01/CTD52m/HistoricRealtime/Agg.ncml.html\n",
      "http://www.neracoos.org/thredds/dodsC/UMO/DSG/SOS/A01/Met/HistoricRealtime/Agg.ncml.html\n",
      "http://www.neracoos.org/thredds/dodsC/UMO/DSG/SOS/A01/OPTICS_S3m/HistoricRealtime/Agg.ncml.html\n",
      "http://www.neracoos.org/thredds/dodsC/UMO/DSG/SOS/A01/OPTODE51m/HistoricRealtime/Agg.ncml.html\n",
      "\n",
      "\n",
      "URL: http://gamone.whoi.edu/csw\n",
      "Number of datasets available: 1\n",
      "COAWST Forecast System : USGS : US East Coast and Gulf of Mexico (Experimental)\n",
      "***************************** DAP ******************************\n",
      "http://geoport-dev.whoi.edu/thredds/dodsC/coawst_4/use/fmrc/coawst_4_use_best.ncd.html\n",
      "\n",
      "\n"
     ]
    }
   ],
   "source": [
    "from ioos_tools.ioos import service_urls, get_csw_records\n",
    "from owslib.csw import CatalogueServiceWeb\n",
    "\n",
    "\n",
    "dap_urls = []\n",
    "print(fmt(' Catalog information '))\n",
    "for endpoint in config['catalogs']:\n",
    "    print(\"URL: {}\".format(endpoint))\n",
    "\n",
    "    csw = CatalogueServiceWeb(endpoint, timeout=120)\n",
    "    get_csw_records(csw, filter_list, esn='full')\n",
    "    OPeNDAP = service_urls(csw.records, identifier='OPeNDAP:OPeNDAP')\n",
    "    odp = service_urls(csw.records, identifier='urn:x-esri:specification:ServiceType:odp:url')\n",
    "    dap = OPeNDAP + odp\n",
    "    dap_urls.extend(dap)\n",
    "\n",
    "    print(\"Number of datasets available: {}\".format(len(csw.records.keys())))\n",
    "\n",
    "    for rec, item in csw.records.items():\n",
    "        print('{}'.format(item.title))\n",
    "    if dap:\n",
    "        print(fmt(' DAP '))\n",
    "        for url in dap:\n",
    "            print('{}.html'.format(url))\n",
    "    print('\\n')\n",
    "\n",
    "# Get only unique endpoints.\n",
    "dap_urls = list(set(dap_urls))"
   ]
  },
  {
   "cell_type": "code",
   "execution_count": 6,
   "metadata": {
    "collapsed": false
   },
   "outputs": [
    {
     "name": "stdout",
     "output_type": "stream",
     "text": [
      "************************* Filtered DAP *************************\n",
      "http://geoport-dev.whoi.edu/thredds/dodsC/coawst_4/use/fmrc/coawst_4_use_best.ncd.html\n",
      "http://oos.soest.hawaii.edu/thredds/dodsC/pacioos/hycom/global.html\n",
      "http://thredds.aoos.org/thredds/dodsC/G1_SST_GLOBAL.nc.html\n",
      "http://oos.soest.hawaii.edu/thredds/dodsC/hioos/model/atm/ncep_global/NCEP_Global_Atmospheric_Model_best.ncd.html\n"
     ]
    }
   ],
   "source": [
    "from ioos_tools.ioos import is_station\n",
    "\n",
    "# Filter out some station endpoints.\n",
    "non_stations = []\n",
    "for url in dap_urls:\n",
    "    try:\n",
    "        if not is_station(url):\n",
    "            non_stations.append(url)\n",
    "    except (RuntimeError, OSError) as e:\n",
    "        print(\"Could not access URL {}. {!r}\".format(url, e))\n",
    "\n",
    "dap_urls = non_stations\n",
    "\n",
    "print(fmt(' Filtered DAP '))\n",
    "for url in dap_urls:\n",
    "    print('{}.html'.format(url))"
   ]
  },
  {
   "cell_type": "markdown",
   "metadata": {},
   "source": [
    "### NdbcSos"
   ]
  },
  {
   "cell_type": "code",
   "execution_count": 7,
   "metadata": {
    "collapsed": false
   },
   "outputs": [
    {
     "name": "stdout",
     "output_type": "stream",
     "text": [
      "******************* NDBC Collector offerings *******************\n",
      "National Data Buoy Center SOS: 977 offerings\n"
     ]
    }
   ],
   "source": [
    "from pyoos.collectors.ndbc.ndbc_sos import NdbcSos\n",
    "\n",
    "collector_ndbc = NdbcSos()\n",
    "\n",
    "collector_ndbc.set_bbox(config['region']['bbox'])\n",
    "collector_ndbc.end_time = config['date']['stop']\n",
    "collector_ndbc.start_time = config['date']['start']\n",
    "collector_ndbc.variables = [config['sos_name']]\n",
    "\n",
    "ofrs = collector_ndbc.server.offerings\n",
    "title = collector_ndbc.server.identification.title\n",
    "print(fmt(' NDBC Collector offerings '))\n",
    "print('{}: {} offerings'.format(title, len(ofrs)))"
   ]
  },
  {
   "cell_type": "code",
   "execution_count": 8,
   "metadata": {
    "collapsed": false
   },
   "outputs": [
    {
     "data": {
      "text/html": [
       "<style>.info {\n",
       "    background-color:#fcf8e3;\n",
       "    border-color:#faebcc;\n",
       "    border-left:5px solid #8a6d3b;\n",
       "    padding:.5em;\n",
       "    color:#8a6d3b\n",
       "}\n",
       "\n",
       ".success {\n",
       "    background-color:#d9edf7;\n",
       "    border-color:#bce8f1;\n",
       "    border-left:5px solid #31708f;\n",
       "    padding:.5em;\n",
       "    color:#31708f\n",
       "}\n",
       "\n",
       ".error {\n",
       "    background-color:#f2dede;\n",
       "    border-color:#ebccd1;\n",
       "    border-left:5px solid #a94442;\n",
       "    padding:.5em;\n",
       "    color:#a94442\n",
       "}\n",
       "\n",
       ".warning {\n",
       "    background-color:#fcf8e3;\n",
       "    border-color:#faebcc;\n",
       "    border-left:5px solid #8a6d3b;\n",
       "    padding:.5em;\n",
       "    color:#8a6d3b\n",
       "}\n",
       "\n",
       ".text-shadow {\n",
       "    text-shadow:0 1px 0 #ccc,0 2px 0 #c9c9c9,0 3px 0 #bbb,0 4px 0 #b9b9b9,0 5px 0 #aaa,0 6px 1px rgba(0,0,0,.1)\n",
       "}\n",
       "\n",
       ".datagrid table {\n",
       "    border-collapse:collapse;\n",
       "    text-align:left;\n",
       "    width:65%\n",
       "}\n",
       "\n",
       ".datagrid td {\n",
       "    border-collapse:collapse;\n",
       "    text-align:right;\n",
       "}\n",
       "\n",
       ".datagrid {\n",
       "    font:normal 12px/150% Arial,Helvetica,sans-serif;\n",
       "    background:#fff;\n",
       "    overflow:hidden;\n",
       "    border:1px solid #069;\n",
       "    -webkit-border-radius:3px;\n",
       "    -moz-border-radius:3px;\n",
       "    border-radius:3px\n",
       "}\n",
       "\n",
       ".datagrid table td,.datagrid table th {\n",
       "    padding:3px 10px\n",
       "}\n",
       "\n",
       ".datagrid table thead th {\n",
       "    background:-webkit-gradient(linear,left top,left bottom,color-stop(0.05,#069),color-stop(1,#00557F));\n",
       "    background:-moz-linear-gradient(center top,#069 5%,#00557F 100%);\n",
       "    filter:progid:DXImageTransform.Microsoft.gradient(startColorstr='#006699',endColorstr='#00557F');\n",
       "    background-color:#069;\n",
       "    color:#FFF;\n",
       "    font-size:15px;\n",
       "    font-weight:700;\n",
       "    border-left:1px solid #0070A8\n",
       "}\n",
       "\n",
       ".datagrid table thead th:first-child {\n",
       "    border:none\n",
       "}\n",
       "\n",
       ".datagrid table tbody td {\n",
       "    color:#00496B;\n",
       "    border-left:1px solid #E1EEF4;\n",
       "    font-size:12px;\n",
       "    font-weight:400\n",
       "}\n",
       "\n",
       ".datagrid table tbody .alt td {\n",
       "    background:#E1EEF4;\n",
       "    color:#00496B\n",
       "}\n",
       "\n",
       ".datagrid table tbody td:first-child {\n",
       "    border-left:none\n",
       "}\n",
       "\n",
       ".datagrid table tbody tr:last-child td {\n",
       "    border-bottom:none\n",
       "}\n",
       "\n",
       ".datagrid table tfoot td div {\n",
       "    border-top:1px solid #069;\n",
       "    background:#E1EEF4\n",
       "}\n",
       "\n",
       ".datagrid table tfoot td {\n",
       "    padding:0;\n",
       "    font-size:12px\n",
       "}\n",
       "\n",
       ".datagrid table tfoot td div {\n",
       "    padding:2px\n",
       "}\n",
       "\n",
       ".datagrid table tfoot td ul {\n",
       "    margin:0;\n",
       "    padding:0;\n",
       "    list-style:none;\n",
       "    text-align:right\n",
       "}\n",
       "\n",
       ".datagrid table tfoot li {\n",
       "    display:inline\n",
       "}\n",
       "\n",
       ".datagrid table tfoot li a {\n",
       "    text-decoration:none;\n",
       "    display:inline-block;\n",
       "    padding:2px 8px;\n",
       "    margin:1px;\n",
       "    color:#FFF;\n",
       "    border:1px solid #069;\n",
       "    -webkit-border-radius:3px;\n",
       "    -moz-border-radius:3px;\n",
       "    border-radius:3px;\n",
       "    background:-webkit-gradient(linear,left top,left bottom,color-stop(0.05,#069),color-stop(1,#00557F));\n",
       "    background:-moz-linear-gradient(center top,#069 5%,#00557F 100%);\n",
       "    filter:progid:DXImageTransform.Microsoft.gradient(startColorstr='#006699',endColorstr='#00557F');\n",
       "    background-color:#069\n",
       "}\n",
       "\n",
       ".datagrid table tfoot ul.active,.datagrid table tfoot ul a:hover {\n",
       "    text-decoration:none;\n",
       "    border-color:#069;\n",
       "    color:#FFF;\n",
       "    background:none;\n",
       "    background-color:#00557F\n",
       "}\n",
       "\n",
       "div.dhtmlx_window_active,div.dhx_modal_cover_dv {\n",
       "    position:fixed!important\n",
       "}\n",
       "</style><div class=\"datagrid\"><table border=\"1\" class=\"dataframe\">\n",
       "  <thead>\n",
       "    <tr style=\"text-align: right;\">\n",
       "      <th></th>\n",
       "      <th>depth</th>\n",
       "      <th>lat</th>\n",
       "      <th>lon</th>\n",
       "      <th>sensor</th>\n",
       "      <th>station_name</th>\n",
       "    </tr>\n",
       "    <tr>\n",
       "      <th>station_code</th>\n",
       "      <th></th>\n",
       "      <th></th>\n",
       "      <th></th>\n",
       "      <th></th>\n",
       "      <th></th>\n",
       "    </tr>\n",
       "  </thead>\n",
       "  <tbody>\n",
       "    <tr>\n",
       "      <th>44013</th>\n",
       "      <td>0.6</td>\n",
       "      <td>42.35</td>\n",
       "      <td>-70.69</td>\n",
       "      <td>urn:ioos:sensor:wmo:44013::watertemp1</td>\n",
       "      <td>BOSTON 16 NM East of Boston, MA</td>\n",
       "    </tr>\n",
       "    <tr>\n",
       "      <th>44029</th>\n",
       "      <td>1.0</td>\n",
       "      <td>42.52</td>\n",
       "      <td>-70.57</td>\n",
       "      <td>urn:ioos:sensor:wmo:44029::ct1</td>\n",
       "      <td>Buoy A0102 - Mass. Bay/Stellwagen</td>\n",
       "    </tr>\n",
       "  </tbody>\n",
       "</table></div>"
      ],
      "text/plain": [
       "<IPython.core.display.HTML object>"
      ]
     },
     "execution_count": 8,
     "metadata": {},
     "output_type": "execute_result"
    }
   ],
   "source": [
    "import pandas as pd\n",
    "from ioos_tools.ioos import collector2table, to_html\n",
    "\n",
    "ndbc = collector2table(collector=collector_ndbc,\n",
    "                       config=config,\n",
    "                       col='sea_water_temperature (C)')\n",
    "\n",
    "if ndbc:\n",
    "    data = dict(\n",
    "        station_name=[s._metadata.get('station_name') for s in ndbc],\n",
    "        station_code=[s._metadata.get('station_code') for s in ndbc],\n",
    "        sensor=[s._metadata.get('sensor') for s in ndbc],\n",
    "        lon=[s._metadata.get('lon') for s in ndbc],\n",
    "        lat=[s._metadata.get('lat') for s in ndbc],\n",
    "        depth=[s._metadata.get('depth') for s in ndbc],\n",
    "    )\n",
    "\n",
    "table = pd.DataFrame(data).set_index('station_code')\n",
    "to_html(table)"
   ]
  },
  {
   "cell_type": "markdown",
   "metadata": {},
   "source": [
    "### CoopsSoS"
   ]
  },
  {
   "cell_type": "code",
   "execution_count": 9,
   "metadata": {
    "collapsed": false
   },
   "outputs": [
    {
     "name": "stdout",
     "output_type": "stream",
     "text": [
      "********************* Collector offerings **********************\n",
      "NOAA.NOS.CO-OPS SOS: 1113 offerings\n"
     ]
    }
   ],
   "source": [
    "from pyoos.collectors.coops.coops_sos import CoopsSos\n",
    "\n",
    "collector_coops = CoopsSos()\n",
    "\n",
    "collector_coops.set_bbox(config['region']['bbox'])\n",
    "collector_coops.end_time = config['date']['stop']\n",
    "collector_coops.start_time = config['date']['start']\n",
    "collector_coops.variables = [config['sos_name']]\n",
    "\n",
    "ofrs = collector_coops.server.offerings\n",
    "title = collector_coops.server.identification.title\n",
    "print(fmt(' Collector offerings '))\n",
    "print('{}: {} offerings'.format(title, len(ofrs)))"
   ]
  },
  {
   "cell_type": "code",
   "execution_count": 10,
   "metadata": {
    "collapsed": false,
    "scrolled": true
   },
   "outputs": [
    {
     "data": {
      "text/html": [
       "<style>.info {\n",
       "    background-color:#fcf8e3;\n",
       "    border-color:#faebcc;\n",
       "    border-left:5px solid #8a6d3b;\n",
       "    padding:.5em;\n",
       "    color:#8a6d3b\n",
       "}\n",
       "\n",
       ".success {\n",
       "    background-color:#d9edf7;\n",
       "    border-color:#bce8f1;\n",
       "    border-left:5px solid #31708f;\n",
       "    padding:.5em;\n",
       "    color:#31708f\n",
       "}\n",
       "\n",
       ".error {\n",
       "    background-color:#f2dede;\n",
       "    border-color:#ebccd1;\n",
       "    border-left:5px solid #a94442;\n",
       "    padding:.5em;\n",
       "    color:#a94442\n",
       "}\n",
       "\n",
       ".warning {\n",
       "    background-color:#fcf8e3;\n",
       "    border-color:#faebcc;\n",
       "    border-left:5px solid #8a6d3b;\n",
       "    padding:.5em;\n",
       "    color:#8a6d3b\n",
       "}\n",
       "\n",
       ".text-shadow {\n",
       "    text-shadow:0 1px 0 #ccc,0 2px 0 #c9c9c9,0 3px 0 #bbb,0 4px 0 #b9b9b9,0 5px 0 #aaa,0 6px 1px rgba(0,0,0,.1)\n",
       "}\n",
       "\n",
       ".datagrid table {\n",
       "    border-collapse:collapse;\n",
       "    text-align:left;\n",
       "    width:65%\n",
       "}\n",
       "\n",
       ".datagrid td {\n",
       "    border-collapse:collapse;\n",
       "    text-align:right;\n",
       "}\n",
       "\n",
       ".datagrid {\n",
       "    font:normal 12px/150% Arial,Helvetica,sans-serif;\n",
       "    background:#fff;\n",
       "    overflow:hidden;\n",
       "    border:1px solid #069;\n",
       "    -webkit-border-radius:3px;\n",
       "    -moz-border-radius:3px;\n",
       "    border-radius:3px\n",
       "}\n",
       "\n",
       ".datagrid table td,.datagrid table th {\n",
       "    padding:3px 10px\n",
       "}\n",
       "\n",
       ".datagrid table thead th {\n",
       "    background:-webkit-gradient(linear,left top,left bottom,color-stop(0.05,#069),color-stop(1,#00557F));\n",
       "    background:-moz-linear-gradient(center top,#069 5%,#00557F 100%);\n",
       "    filter:progid:DXImageTransform.Microsoft.gradient(startColorstr='#006699',endColorstr='#00557F');\n",
       "    background-color:#069;\n",
       "    color:#FFF;\n",
       "    font-size:15px;\n",
       "    font-weight:700;\n",
       "    border-left:1px solid #0070A8\n",
       "}\n",
       "\n",
       ".datagrid table thead th:first-child {\n",
       "    border:none\n",
       "}\n",
       "\n",
       ".datagrid table tbody td {\n",
       "    color:#00496B;\n",
       "    border-left:1px solid #E1EEF4;\n",
       "    font-size:12px;\n",
       "    font-weight:400\n",
       "}\n",
       "\n",
       ".datagrid table tbody .alt td {\n",
       "    background:#E1EEF4;\n",
       "    color:#00496B\n",
       "}\n",
       "\n",
       ".datagrid table tbody td:first-child {\n",
       "    border-left:none\n",
       "}\n",
       "\n",
       ".datagrid table tbody tr:last-child td {\n",
       "    border-bottom:none\n",
       "}\n",
       "\n",
       ".datagrid table tfoot td div {\n",
       "    border-top:1px solid #069;\n",
       "    background:#E1EEF4\n",
       "}\n",
       "\n",
       ".datagrid table tfoot td {\n",
       "    padding:0;\n",
       "    font-size:12px\n",
       "}\n",
       "\n",
       ".datagrid table tfoot td div {\n",
       "    padding:2px\n",
       "}\n",
       "\n",
       ".datagrid table tfoot td ul {\n",
       "    margin:0;\n",
       "    padding:0;\n",
       "    list-style:none;\n",
       "    text-align:right\n",
       "}\n",
       "\n",
       ".datagrid table tfoot li {\n",
       "    display:inline\n",
       "}\n",
       "\n",
       ".datagrid table tfoot li a {\n",
       "    text-decoration:none;\n",
       "    display:inline-block;\n",
       "    padding:2px 8px;\n",
       "    margin:1px;\n",
       "    color:#FFF;\n",
       "    border:1px solid #069;\n",
       "    -webkit-border-radius:3px;\n",
       "    -moz-border-radius:3px;\n",
       "    border-radius:3px;\n",
       "    background:-webkit-gradient(linear,left top,left bottom,color-stop(0.05,#069),color-stop(1,#00557F));\n",
       "    background:-moz-linear-gradient(center top,#069 5%,#00557F 100%);\n",
       "    filter:progid:DXImageTransform.Microsoft.gradient(startColorstr='#006699',endColorstr='#00557F');\n",
       "    background-color:#069\n",
       "}\n",
       "\n",
       ".datagrid table tfoot ul.active,.datagrid table tfoot ul a:hover {\n",
       "    text-decoration:none;\n",
       "    border-color:#069;\n",
       "    color:#FFF;\n",
       "    background:none;\n",
       "    background-color:#00557F\n",
       "}\n",
       "\n",
       "div.dhtmlx_window_active,div.dhx_modal_cover_dv {\n",
       "    position:fixed!important\n",
       "}\n",
       "</style><div class=\"datagrid\"><table border=\"1\" class=\"dataframe\">\n",
       "  <thead>\n",
       "    <tr style=\"text-align: right;\">\n",
       "      <th></th>\n",
       "      <th>depth</th>\n",
       "      <th>lat</th>\n",
       "      <th>lon</th>\n",
       "      <th>sensor</th>\n",
       "      <th>station_name</th>\n",
       "    </tr>\n",
       "    <tr>\n",
       "      <th>station_code</th>\n",
       "      <th></th>\n",
       "      <th></th>\n",
       "      <th></th>\n",
       "      <th></th>\n",
       "      <th></th>\n",
       "    </tr>\n",
       "  </thead>\n",
       "  <tbody>\n",
       "    <tr>\n",
       "      <th>8443970</th>\n",
       "      <td>None</td>\n",
       "      <td>42.3548</td>\n",
       "      <td>-71.0534</td>\n",
       "      <td>urn:ioos:sensor:NOAA.NOS.CO-OPS:8443970:E1</td>\n",
       "      <td>Boston, MA</td>\n",
       "    </tr>\n",
       "  </tbody>\n",
       "</table></div>"
      ],
      "text/plain": [
       "<IPython.core.display.HTML object>"
      ]
     },
     "execution_count": 10,
     "metadata": {},
     "output_type": "execute_result"
    }
   ],
   "source": [
    "coops = collector2table(collector=collector_coops,\n",
    "                        config=config,\n",
    "                        col='sea_water_temperature (C)')\n",
    "\n",
    "if coops:\n",
    "    data = dict(\n",
    "        station_name=[s._metadata.get('station_name') for s in coops],\n",
    "        station_code=[s._metadata.get('station_code') for s in coops],\n",
    "        sensor=[s._metadata.get('sensor') for s in coops],\n",
    "        lon=[s._metadata.get('lon') for s in coops],\n",
    "        lat=[s._metadata.get('lat') for s in coops],\n",
    "        depth=[s._metadata.get('depth') for s in coops],\n",
    "    )\n",
    "\n",
    "table = pd.DataFrame(data).set_index('station_code')\n",
    "to_html(table)"
   ]
  },
  {
   "cell_type": "markdown",
   "metadata": {},
   "source": [
    "### Join CoopsSoS and NdbcSos in uniform 1-hour time base series for model/data comparison"
   ]
  },
  {
   "cell_type": "code",
   "execution_count": 11,
   "metadata": {
    "collapsed": false,
    "scrolled": true
   },
   "outputs": [],
   "source": [
    "data = ndbc + coops\n",
    "\n",
    "index = pd.date_range(start=config['date']['start'].replace(tzinfo=None),\n",
    "                      end=config['date']['stop'].replace(tzinfo=None),\n",
    "                      freq='1H')\n",
    "\n",
    "# Preserve metadata with `reindex`.\n",
    "observations = []\n",
    "for series in data:\n",
    "    _metadata = series._metadata\n",
    "    obs = series.reindex(index=index, limit=1, method='nearest')\n",
    "    obs._metadata = _metadata\n",
    "    observations.append(obs)"
   ]
  },
  {
   "cell_type": "markdown",
   "metadata": {},
   "source": [
    "### Save simpler station code/name file"
   ]
  },
  {
   "cell_type": "code",
   "execution_count": 12,
   "metadata": {
    "collapsed": false,
    "scrolled": false
   },
   "outputs": [],
   "source": [
    "import iris\n",
    "from ioos_tools.tardis import series2cube\n",
    "\n",
    "attr = dict(\n",
    "    featureType='timeSeries',\n",
    "    Conventions='CF-1.6',\n",
    "    standard_name_vocabulary='CF-1.6',\n",
    "    cdm_data_type=\"Station\",\n",
    "    comment=\"Data from http://opendap.co-ops.nos.noaa.gov\"\n",
    ")\n",
    "\n",
    "\n",
    "cubes = iris.cube.CubeList(\n",
    "    [series2cube(obs, attr=attr) for obs in observations]\n",
    ")\n",
    "\n",
    "outfile = os.path.join(save_dir, 'OBS_DATA.nc')\n",
    "iris.save(cubes, outfile)"
   ]
  },
  {
   "cell_type": "markdown",
   "metadata": {},
   "source": [
    "### Loop discovered models and save the nearest time-series"
   ]
  },
  {
   "cell_type": "code",
   "execution_count": 13,
   "metadata": {
    "collapsed": false
   },
   "outputs": [
    {
     "name": "stdout",
     "output_type": "stream",
     "text": [
      "**************************** Models ****************************\n",
      "\n",
      "[Reading url 1/4]: http://geoport-dev.whoi.edu/thredds/dodsC/coawst_4/use/fmrc/coawst_4_use_best.ncd\n",
      "\n",
      "[Reading url 2/4]: http://oos.soest.hawaii.edu/thredds/dodsC/pacioos/hycom/global\n",
      "\n",
      "[Reading url 3/4]: http://thredds.aoos.org/thredds/dodsC/G1_SST_GLOBAL.nc\n",
      "\n",
      "[Reading url 4/4]: http://oos.soest.hawaii.edu/thredds/dodsC/hioos/model/atm/ncep_global/NCEP_Global_Atmospheric_Model_best.ncd\n",
      "Cannot get cube for: http://oos.soest.hawaii.edu/thredds/dodsC/hioos/model/atm/ncep_global/NCEP_Global_Atmospheric_Model_best.ncd\n",
      "Cannot find ['sea_water_temperature', 'sea_surface_temperature', 'sea_water_potential_temperature', 'sea_water_conservative_temperature'] in http://oos.soest.hawaii.edu/thredds/dodsC/hioos/model/atm/ncep_global/NCEP_Global_Atmospheric_Model_best.ncd.\n"
     ]
    }
   ],
   "source": [
    "from iris.exceptions import (CoordinateNotFoundError, ConstraintMismatchError,\n",
    "                             MergeError)\n",
    "from ioos_tools.ioos import get_model_name\n",
    "from ioos_tools.tardis import quick_load_cubes, proc_cube, is_model, get_surface\n",
    "\n",
    "print(fmt(' Models '))\n",
    "cubes = dict()\n",
    "for k, url in enumerate(dap_urls):\n",
    "    print('\\n[Reading url {}/{}]: {}'.format(k+1, len(dap_urls), url))\n",
    "    try:\n",
    "        cube = quick_load_cubes(url, config['cf_names'],\n",
    "                                callback=None, strict=True)\n",
    "        if is_model(cube):\n",
    "            cube = proc_cube(cube,\n",
    "                             bbox=config['region']['bbox'],\n",
    "                             time=(config['date']['start'],\n",
    "                                   config['date']['stop']),\n",
    "                             units=config['units'])\n",
    "        else:\n",
    "            print(\"[Not model data]: {}\".format(url))\n",
    "            continue\n",
    "        cube = get_surface(cube)\n",
    "        mod_name = get_model_name(url)\n",
    "        cubes.update({mod_name: cube})\n",
    "    except (RuntimeError, ValueError,\n",
    "            ConstraintMismatchError, CoordinateNotFoundError,\n",
    "            IndexError) as e:\n",
    "        print('Cannot get cube for: {}\\n{}'.format(url, e))"
   ]
  },
  {
   "cell_type": "code",
   "execution_count": 14,
   "metadata": {
    "collapsed": false
   },
   "outputs": [
    {
     "name": "stdout",
     "output_type": "stream",
     "text": [
      " Downloading to file /home/filipe/IOOS/notebooks_demos/notebooks/latest/G1_SST_GLOBAL.nc \n",
      "[Water  ] BOSTON 16 NM East of Boston, MA\n",
      "[Water  ] Buoy A0102 - Mass. Bay/Stellwagen\n",
      "[Water  ] Boston, MA\n",
      "Finished processing [G1_SST_GLOBAL]\n",
      " Downloading to file /home/filipe/IOOS/notebooks_demos/notebooks/latest/pacioos_hycom-global.nc \n",
      "[Water  ] BOSTON 16 NM East of Boston, MA\n",
      "[Water  ] Buoy A0102 - Mass. Bay/Stellwagen\n",
      "[Land   ] Boston, MA\n",
      "Finished processing [pacioos_hycom-global]\n",
      " Downloading to file /home/filipe/IOOS/notebooks_demos/notebooks/latest/fmrc-coawst_4_use_best.nc \n",
      "[Water  ] BOSTON 16 NM East of Boston, MA\n",
      "[Water  ] Buoy A0102 - Mass. Bay/Stellwagen\n",
      "[Water  ] Boston, MA\n",
      "Finished processing [fmrc-coawst_4_use_best]\n"
     ]
    }
   ],
   "source": [
    "import iris\n",
    "from iris.pandas import as_series\n",
    "from ioos_tools.tardis import (make_tree, get_nearest_water,\n",
    "                               add_station, ensure_timeseries, remove_ssh)\n",
    "\n",
    "for mod_name, cube in cubes.items():\n",
    "    fname = '{}.nc'.format(mod_name)\n",
    "    fname = os.path.join(save_dir, fname)\n",
    "    print(fmt(' Downloading to file {} '.format(fname)))\n",
    "    try:\n",
    "        tree, lon, lat = make_tree(cube)\n",
    "    except CoordinateNotFoundError as e:\n",
    "        print('Cannot make KDTree for: {}'.format(mod_name))\n",
    "        continue\n",
    "    # Get model series at observed locations.\n",
    "    raw_series = dict()\n",
    "    for obs in observations:\n",
    "        obs = obs._metadata\n",
    "        station = obs['station_code']\n",
    "        try:\n",
    "            kw = dict(k=10, max_dist=0.08, min_var=0.01)\n",
    "            args = cube, tree, obs['lon'], obs['lat']\n",
    "            try:\n",
    "                series, dist, idx = get_nearest_water(*args, **kw)\n",
    "            except RuntimeError as e:\n",
    "                print('Cannot download {!r}.\\n{}'.format(cube, e))\n",
    "                series = None\n",
    "        except ValueError as e:\n",
    "            status = \"No Data\"\n",
    "            print('[{}] {}'.format(status, obs['station_name']))\n",
    "            continue\n",
    "        if not series:\n",
    "            status = \"Land   \"\n",
    "        else:\n",
    "            raw_series.update({station: series})\n",
    "            series = as_series(series)\n",
    "            status = \"Water  \"\n",
    "        print('[{}] {}'.format(status, obs['station_name']))\n",
    "    if raw_series:  # Save cube.\n",
    "        for station, cube in raw_series.items():\n",
    "            cube = add_station(cube, station)\n",
    "            cube = remove_ssh(cube)\n",
    "        try:\n",
    "            cube = iris.cube.CubeList(raw_series.values()).merge_cube()\n",
    "        except MergeError as e:\n",
    "            print(e)\n",
    "        ensure_timeseries(cube)\n",
    "        iris.save(cube, fname)\n",
    "        del cube\n",
    "    print('Finished processing [{}]'.format(mod_name))"
   ]
  },
  {
   "cell_type": "markdown",
   "metadata": {},
   "source": [
    "### Load configuration"
   ]
  },
  {
   "cell_type": "code",
   "execution_count": 15,
   "metadata": {
    "collapsed": true
   },
   "outputs": [],
   "source": [
    "from ioos_tools.ioos import parse_config\n",
    "\n",
    "config = parse_config('config.yaml')\n",
    "\n",
    "save_dir = os.path.join(os.path.abspath(config['run_name']))"
   ]
  },
  {
   "cell_type": "markdown",
   "metadata": {},
   "source": [
    "### Skill 1: Model Bias (or Mean Bias)\n",
    "\n",
    "The bias skill compares the model mean temperature against the observations.\n",
    "It is possible to introduce a Mean Bias in the model due to a mismatch of the\n",
    "boundary forcing and the model interior.\n",
    "\n",
    "$$ \\text{MB} = \\mathbf{\\overline{m}} - \\mathbf{\\overline{o}}$$"
   ]
  },
  {
   "cell_type": "code",
   "execution_count": 16,
   "metadata": {
    "collapsed": true
   },
   "outputs": [],
   "source": [
    "from ioos_tools.ioos import stations_keys\n",
    "\n",
    "\n",
    "def rename_cols(df, config):\n",
    "    cols = stations_keys(config, key='station_name')\n",
    "    return df.rename(columns=cols)"
   ]
  },
  {
   "cell_type": "code",
   "execution_count": 17,
   "metadata": {
    "collapsed": true
   },
   "outputs": [],
   "source": [
    "from ioos_tools.ioos import to_html, save_html, load_ncs\n",
    "from ioos_tools.skill_score import mean_bias, apply_skill\n",
    "\n",
    "dfs = load_ncs(config)\n",
    "\n",
    "df = apply_skill(dfs, mean_bias, remove_mean=False, filter_tides=False)\n",
    "skill_score = dict(mean_bias=df.to_dict())\n",
    "\n",
    "# Filter out stations with no valid comparison.\n",
    "df.dropna(how='all', axis=1, inplace=True)\n",
    "df = df.applymap('{:.2f}'.format).replace('nan', '--')\n",
    "\n",
    "# Pretty HTML table.\n",
    "if not df.empty:\n",
    "    df = rename_cols(df, config)\n",
    "    html = to_html(df.T)\n",
    "    fname = os.path.join(save_dir, 'mean_bias.html')\n",
    "    save_html(fname, html)\n",
    "    html"
   ]
  },
  {
   "cell_type": "markdown",
   "metadata": {},
   "source": [
    "### Skill 2: Central Root Mean Squared Error\n",
    "\n",
    "Root Mean Squared Error of the deviations from the mean.\n",
    "\n",
    "$$ \\text{CRMS} = \\sqrt{\\left(\\mathbf{m'} - \\mathbf{o'}\\right)^2}$$\n",
    "\n",
    "where: $\\mathbf{m'} = \\mathbf{m} - \\mathbf{\\overline{m}}$ and $\\mathbf{o'} = \\mathbf{o} - \\mathbf{\\overline{o}}$"
   ]
  },
  {
   "cell_type": "code",
   "execution_count": 18,
   "metadata": {
    "collapsed": true
   },
   "outputs": [],
   "source": [
    "from ioos_tools.skill_score import rmse\n",
    "\n",
    "dfs = load_ncs(config)\n",
    "\n",
    "df = apply_skill(dfs, rmse, remove_mean=True, filter_tides=False)\n",
    "skill_score['rmse'] = df.to_dict()\n",
    "\n",
    "# Filter out stations with no valid comparison.\n",
    "df.dropna(how='all', axis=1, inplace=True)\n",
    "df = df.applymap('{:.2f}'.format).replace('nan', '--')\n",
    "\n",
    "# Pretty HTML table.\n",
    "if not df.empty:\n",
    "    df = rename_cols(df, config)\n",
    "    html = to_html(df.T)\n",
    "    fname = os.path.join(save_dir, 'rmse.html')\n",
    "    save_html(fname, html)\n",
    "    html"
   ]
  },
  {
   "cell_type": "markdown",
   "metadata": {},
   "source": [
    "### Skill 3: R$^2$\n",
    "https://en.wikipedia.org/wiki/Coefficient_of_determination"
   ]
  },
  {
   "cell_type": "code",
   "execution_count": 19,
   "metadata": {
    "collapsed": true
   },
   "outputs": [],
   "source": [
    "from ioos_tools.skill_score import r2\n",
    "\n",
    "dfs = load_ncs(config)\n",
    "\n",
    "df = apply_skill(dfs, r2, remove_mean=True, filter_tides=False)\n",
    "skill_score['r2'] = df.to_dict()\n",
    "\n",
    "# Filter out stations with no valid comparison.\n",
    "df.dropna(how='all', axis=1, inplace=True)\n",
    "df = df.applymap('{:.2f}'.format).replace('nan', '--')\n",
    "\n",
    "# Pretty HTML table.\n",
    "if not df.empty:\n",
    "    df = rename_cols(df, config)\n",
    "    html = to_html(df.T)\n",
    "    fname = os.path.join(save_dir, 'r2.html')\n",
    "    save_html(fname, html)\n",
    "    html"
   ]
  },
  {
   "cell_type": "code",
   "execution_count": 20,
   "metadata": {
    "collapsed": true
   },
   "outputs": [],
   "source": [
    "import json\n",
    "\n",
    "fname = os.path.join(save_dir, 'skill_score.json')\n",
    "\n",
    "# Stringfy keys for json.\n",
    "for key in skill_score.keys():\n",
    "    skill_score[key] = {str(k): v for k, v in skill_score[key].items()}\n",
    "\n",
    "with open(fname, 'w') as f:\n",
    "    f.write(json.dumps(skill_score))"
   ]
  },
  {
   "cell_type": "markdown",
   "metadata": {},
   "source": [
    "### Normalized Taylor diagrams\n",
    "\n",
    "The radius is model standard deviation error divided  by observations deviation,\n",
    "azimuth is arc-cosine of cross correlation (R), and distance to point (1, 0) on the\n",
    "abscissa is Centered RMS."
   ]
  },
  {
   "cell_type": "code",
   "execution_count": 21,
   "metadata": {
    "collapsed": true
   },
   "outputs": [],
   "source": [
    "%matplotlib inline\n",
    "import matplotlib.pyplot as plt\n",
    "from ioos_tools.taylor_diagram import TaylorDiagram\n",
    "\n",
    "\n",
    "def make_taylor(samples):\n",
    "    fig = plt.figure(figsize=(9, 9))\n",
    "    dia = TaylorDiagram(samples['std']['OBS_DATA'],\n",
    "                        fig=fig,\n",
    "                        label=\"Observation\")\n",
    "    # Add samples to Taylor diagram.\n",
    "    samples.drop('OBS_DATA', inplace=True)\n",
    "    for model, row in samples.iterrows():\n",
    "        dia.add_sample(row['std'], row['corr'], marker='s', ls='',\n",
    "                       label=model)\n",
    "    # Add RMS contours, and label them.\n",
    "    contours = dia.add_contours(colors='0.5')\n",
    "    plt.clabel(contours, inline=1, fontsize=10)\n",
    "    # Add a figure legend.\n",
    "    kw = dict(prop=dict(size='small'), loc='upper right')\n",
    "    fig.legend(dia.samplePoints,\n",
    "               [p.get_label() for p in dia.samplePoints],\n",
    "               numpoints=1, **kw)\n",
    "    return fig"
   ]
  },
  {
   "cell_type": "markdown",
   "metadata": {},
   "source": [
    "```python\n",
    "import numpy as np\n",
    "import pandas as pd\n",
    "\n",
    "dfs = load_ncs(config)\n",
    "\n",
    "# Bin and interpolate all series.\n",
    "freq = '30min'\n",
    "for station, df in list(dfs.iteritems()):\n",
    "    df = df.resample(freq).interpolate().dropna(axis=1)\n",
    "    if 'OBS_DATA' in df:\n",
    "        samples = pd.DataFrame.from_dict(dict(std=df.std(),\n",
    "                                              corr=df.corr()['OBS_DATA']))\n",
    "    else:\n",
    "        continue\n",
    "    samples[samples < 0] = np.NaN\n",
    "    samples.dropna(inplace=True)\n",
    "    if len(samples) <= 2:  # 1 obs 1 model.\n",
    "        continue\n",
    "    fig = make_taylor(samples)\n",
    "    fig.savefig(os.path.join(save_dir, '{}.png'.format(station)))\n",
    "    plt.close(fig)\n",
    "```"
   ]
  },
  {
   "cell_type": "markdown",
   "metadata": {},
   "source": [
    "### Load skill_score"
   ]
  },
  {
   "cell_type": "code",
   "execution_count": 22,
   "metadata": {
    "collapsed": true
   },
   "outputs": [],
   "source": [
    "import json\n",
    "\n",
    "fname = os.path.join(config['run_name'], 'skill_score.json')\n",
    "with open(fname, 'r') as f:\n",
    "    skill_score = json.loads(f.read())"
   ]
  },
  {
   "cell_type": "code",
   "execution_count": 23,
   "metadata": {
    "collapsed": true
   },
   "outputs": [],
   "source": [
    "import pandas as pd\n",
    "\n",
    "mean_bias = pd.DataFrame.from_dict(skill_score['mean_bias'])\n",
    "mean_bias = mean_bias.applymap('{:.2f}'.format).replace('nan', '--')\n",
    "\n",
    "skill_score = pd.DataFrame.from_dict(skill_score['rmse'])\n",
    "skill_score = skill_score.applymap('{:.2f}'.format).replace('nan', '--')"
   ]
  },
  {
   "cell_type": "code",
   "execution_count": 24,
   "metadata": {
    "collapsed": true
   },
   "outputs": [],
   "source": [
    "from ioos_tools.ioos import make_map\n",
    "\n",
    "bbox = config['region']['bbox']\n",
    "units = config['units']\n",
    "run_name = config['run_name']\n",
    "\n",
    "kw = dict(zoom_start=11, line=True, states=False,\n",
    "          secoora_stations=False, layers=False)\n",
    "mapa = make_map(bbox, **kw)"
   ]
  },
  {
   "cell_type": "markdown",
   "metadata": {},
   "source": [
    "### Clusters"
   ]
  },
  {
   "cell_type": "code",
   "execution_count": 25,
   "metadata": {
    "collapsed": true
   },
   "outputs": [],
   "source": [
    "all_obs = stations_keys(config)"
   ]
  },
  {
   "cell_type": "code",
   "execution_count": 26,
   "metadata": {
    "collapsed": false
   },
   "outputs": [
    {
     "data": {
      "text/plain": [
       "<folium.plugins.marker_cluster.MarkerCluster at 0x7f88af7def98>"
      ]
     },
     "execution_count": 26,
     "metadata": {},
     "output_type": "execute_result"
    }
   ],
   "source": [
    "from glob import glob\n",
    "from operator import itemgetter\n",
    "\n",
    "import iris\n",
    "import folium\n",
    "from folium.plugins import MarkerCluster\n",
    "\n",
    "iris.FUTURE.netcdf_promote = True\n",
    "\n",
    "big_list = []\n",
    "for fname in glob(os.path.join(save_dir, \"*.nc\")):\n",
    "    if 'OBS_DATA' in fname:\n",
    "        continue\n",
    "    cube = iris.load_cube(fname)\n",
    "    model = fname.split('-')[-1].split('.')[0]\n",
    "    lons = cube.coord(axis='X').points\n",
    "    lats = cube.coord(axis='Y').points\n",
    "    stations = cube.coord('station_code').points\n",
    "    models = [model]*lons.size\n",
    "    lista = zip(models, lons.tolist(), lats.tolist(), stations.tolist())\n",
    "    big_list.extend(lista)\n",
    "\n",
    "big_list.sort(key=itemgetter(3))\n",
    "df = pd.DataFrame(big_list, columns=['name', 'lon', 'lat', 'station'])\n",
    "df.set_index('station', drop=True, inplace=True)\n",
    "groups = df.groupby(df.index)\n",
    "\n",
    "\n",
    "locations, popups = [], []\n",
    "for station, info in groups:\n",
    "    sta_name = all_obs[station]\n",
    "    for lat, lon, name in zip(info.lat, info.lon, info.name):\n",
    "        locations.append([lat, lon])\n",
    "        popups.append('[{}]: {}'.format(name, sta_name))\n",
    "\n",
    "MarkerCluster(locations=locations, popups=popups).add_to(mapa)"
   ]
  },
  {
   "cell_type": "markdown",
   "metadata": {},
   "source": [
    "### Model and observations plots"
   ]
  },
  {
   "cell_type": "code",
   "execution_count": 27,
   "metadata": {
    "collapsed": true
   },
   "outputs": [],
   "source": [
    "import warnings\n",
    "\n",
    "# Suppresing warnings for a \"pretty output.\"\n",
    "# Remove this line to debug any possible issues.\n",
    "warnings.simplefilter(\"ignore\")"
   ]
  },
  {
   "cell_type": "code",
   "execution_count": 28,
   "metadata": {
    "collapsed": true
   },
   "outputs": [],
   "source": [
    "# Legend dictionary. If any new model is found we will use its filename as legend.\n",
    "# Here we only provide some nice names for the models we expect to find.\n",
    "\n",
    "titles = {\n",
    "    'coawst_4_use_best': 'COAWST_4',\n",
    "    'global': 'HYCOM',\n",
    "    'NECOFS_GOM3_FORECAST': 'NECOFS_GOM3',\n",
    "    'NECOFS_FVCOM_OCEAN_MASSBAY_FORECAST': 'NECOFS_MassBay',\n",
    "    'OBS_DATA': 'Observations'\n",
    "}"
   ]
  },
  {
   "cell_type": "code",
   "execution_count": 29,
   "metadata": {
    "collapsed": true
   },
   "outputs": [],
   "source": [
    "from bokeh.resources import CDN\n",
    "from bokeh.plotting import figure\n",
    "from bokeh.embed import file_html\n",
    "from bokeh.models import HoverTool\n",
    "from itertools import cycle\n",
    "from bokeh.palettes import Spectral6\n",
    "\n",
    "from folium.element import IFrame\n",
    "\n",
    "# Plot defaults.\n",
    "colors = Spectral6\n",
    "colorcycler = cycle(colors)\n",
    "tools = \"pan,box_zoom,reset\"\n",
    "width, height = 750, 250\n",
    "\n",
    "\n",
    "def make_plot(df, station):\n",
    "    p = figure(toolbar_location=\"above\",\n",
    "               x_axis_type=\"datetime\",\n",
    "               width=width,\n",
    "               height=height,\n",
    "               tools=tools,\n",
    "               title=str(station))\n",
    "    for column, series in df.iteritems():\n",
    "        series.dropna(inplace=True)\n",
    "        if not series.empty:\n",
    "            line = p.line(\n",
    "                x=series.index,\n",
    "                y=series.values,\n",
    "                legend=\"%s\" % titles.get(column, column),\n",
    "                line_color=next(colorcycler),\n",
    "                line_width=5,\n",
    "                line_cap='round',\n",
    "                line_join='round'\n",
    "            )\n",
    "            if 'OBS_DATA' not in column:\n",
    "                bias = mean_bias[str(station)][column]\n",
    "                skill = skill_score[str(station)][column]\n",
    "            else:\n",
    "                skill = bias = 'NA'\n",
    "            p.add_tools(HoverTool(tooltips=[(\"Name\", \"%s\" % column),\n",
    "                                            (\"Bias\", bias),\n",
    "                                            (\"Skill\", skill)],\n",
    "                                  renderers=[line]))\n",
    "    return p\n",
    "\n",
    "\n",
    "def make_marker(p, station):\n",
    "    lons = stations_keys(config, key='lon')\n",
    "    lats = stations_keys(config, key='lat')\n",
    "\n",
    "    lon, lat = lons[station], lats[station]\n",
    "    html = file_html(p, CDN, station)\n",
    "    iframe = IFrame(html, width=width+40, height=height+80)\n",
    "\n",
    "    popup = folium.Popup(iframe, max_width=2650)\n",
    "    icon = folium.Icon(color='green', icon='stats')\n",
    "    marker = folium.Marker(location=[lat, lon],\n",
    "                           popup=popup,\n",
    "                           icon=icon)\n",
    "    return marker"
   ]
  },
  {
   "cell_type": "code",
   "execution_count": 30,
   "metadata": {
    "collapsed": false
   },
   "outputs": [
    {
     "data": {
      "text/html": [
       "<div style=\"width:100%;\"><div style=\"position:relative;width:100%;height:0;padding-bottom:60%;\"><iframe src=\"data:text/html;base64,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\" style=\"position:absolute;width:100%;height:100%;left:0;top:0;\"></iframe></div></div>"
      ],
      "text/plain": [
       "<folium.folium.Map at 0x7f88abb44d30>"
      ]
     },
     "execution_count": 30,
     "metadata": {},
     "output_type": "execute_result"
    }
   ],
   "source": [
    "dfs = load_ncs(config)\n",
    "\n",
    "for station in dfs:\n",
    "    sta_name = all_obs[station]\n",
    "    df = dfs[station]\n",
    "    if df.empty:\n",
    "        continue\n",
    "    p = make_plot(df, station)\n",
    "    maker = make_marker(p, station)\n",
    "    maker.add_to(mapa)\n",
    "\n",
    "mapa"
   ]
  },
  {
   "cell_type": "code",
   "execution_count": 31,
   "metadata": {
    "collapsed": false
   },
   "outputs": [
    {
     "name": "stdout",
     "output_type": "stream",
     "text": [
      "2.99 minutes\n"
     ]
    }
   ],
   "source": [
    "elapsed = time.time() - start_time\n",
    "print('{:.2f} minutes'.format(elapsed/60.))"
   ]
  },
  {
   "cell_type": "markdown",
   "metadata": {},
   "source": [
    "<br>\n",
    "Right click and choose Save link as... to\n",
    "[download](https://raw.githubusercontent.com/ioos/notebooks_demos/master/notebooks/2016-12-22-boston_light_swim.ipynb)\n",
    "this notebook, or see a static view [here](http://nbviewer.ipython.org/urls/raw.githubusercontent.com/ioos/notebooks_demos/master/notebooks/2016-12-22-boston_light_swim.ipynb)."
   ]
  }
 ],
 "metadata": {
  "kernelspec": {
   "display_name": "Python [default]",
   "language": "python",
   "name": "python3"
  },
  "language_info": {
   "codemirror_mode": {
    "name": "ipython",
    "version": 3
   },
   "file_extension": ".py",
   "mimetype": "text/x-python",
   "name": "python",
   "nbconvert_exporter": "python",
   "pygments_lexer": "ipython3",
   "version": "3.5.2"
  }
 },
 "nbformat": 4,
 "nbformat_minor": 0
}
