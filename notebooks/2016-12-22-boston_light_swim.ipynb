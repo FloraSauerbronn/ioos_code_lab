{
 "cells": [
  {
   "cell_type": "markdown",
   "metadata": {},
   "source": [
    "# [The Boston Light Swim](http://bostonlightswim.org/)\n",
    "\n",
    "Fetching near real time Sea Surface Temperature time-series data from all avialble source and compare them.\n",
    "\n",
    "For more information regaridng the workflow presented here see [Signell, Richard P.; Fernandes, Filipe; Wilcox, Kyle.\t2016. \"Dynamic Reusable Workflows for Ocean Science.\" *J. Mar. Sci. Eng.* 4, no. 4: 68](http://dx.doi.org/10.3390/jmse4040068)."
   ]
  },
  {
   "cell_type": "code",
   "execution_count": 1,
   "metadata": {
    "collapsed": false
   },
   "outputs": [],
   "source": [
    "import os\n",
    "import sys\n",
    "import time\n",
    "import warnings\n",
    "\n",
    "ioos_tools = os.path.join(os.path.pardir)\n",
    "sys.path.append(ioos_tools)\n",
    "\n",
    "# Suppresing warnings for a \"pretty output.\"\n",
    "# Remove this line to debug any possible issues.\n",
    "warnings.simplefilter(\"ignore\")\n",
    "\n",
    "start_time = time.time()"
   ]
  },
  {
   "cell_type": "markdown",
   "metadata": {},
   "source": [
    "### Configuration"
   ]
  },
  {
   "cell_type": "code",
   "execution_count": 2,
   "metadata": {
    "collapsed": false
   },
   "outputs": [
    {
     "name": "stdout",
     "output_type": "stream",
     "text": [
      "Overwriting config.yaml\n"
     ]
    }
   ],
   "source": [
    "%%writefile config.yaml\n",
    "\n",
    "# Specify a YYYY-MM-DD hh:mm:ss date or integer day offset.\n",
    "# If both start and stop are offsets they will be computed relative to datetime.today() at midnight.\n",
    "# Use the dates commented below to reproduce the last Boston Light Swim event forecast.\n",
    "date:\n",
    "    start: -5 # 2016-8-16 00:00:00\n",
    "    stop: +4 # 2016-8-29 00:00:00\n",
    "\n",
    "run_name: 'latest'\n",
    "\n",
    "# Boston harbor.\n",
    "region:\n",
    "    bbox: [-71.3, 42.03, -70.57, 42.63]\n",
    "    crs: 'urn:ogc:def:crs:OGC:1.3:CRS84'\n",
    "\n",
    "sos_name: 'sea_water_temperature'\n",
    "\n",
    "cf_names:\n",
    "    - sea_water_temperature\n",
    "    - sea_surface_temperature\n",
    "    - sea_water_potential_temperature\n",
    "    - sea_water_conservative_temperature\n",
    "\n",
    "units: 'celsius'\n",
    "\n",
    "catalogs:\n",
    "    - https://data.ioos.us/csw\n",
    "    - http://gamone.whoi.edu/csw"
   ]
  },
  {
   "cell_type": "code",
   "execution_count": 3,
   "metadata": {
    "collapsed": false
   },
   "outputs": [
    {
     "name": "stdout",
     "output_type": "stream",
     "text": [
      "Saving data inside directory /home/filipe/IOOS/notebooks_demos/notebooks/latest\n",
      "*********************** Run information ************************\n",
      "Run date: 2017-01-10 16:54:01\n",
      "Start: 2017-01-05 00:00:00\n",
      "Stop: 2017-01-14 00:00:00\n",
      "Bounding box: -71.30, 42.03,-70.57, 42.63\n"
     ]
    }
   ],
   "source": [
    "import shutil\n",
    "from datetime import datetime\n",
    "from ioos_tools.ioos import parse_config\n",
    "\n",
    "config = parse_config('config.yaml')\n",
    "\n",
    "# Saves downloaded data into a temporary directory.\n",
    "save_dir = os.path.abspath(config['run_name'])\n",
    "if os.path.exists(save_dir):\n",
    "    shutil.rmtree(save_dir)\n",
    "os.makedirs(save_dir)\n",
    "\n",
    "fmt = '{:*^64}'.format\n",
    "print(fmt('Saving data inside directory {}'.format(save_dir)))\n",
    "print(fmt(' Run information '))\n",
    "print('Run date: {:%Y-%m-%d %H:%M:%S}'.format(datetime.utcnow()))\n",
    "print('Start: {:%Y-%m-%d %H:%M:%S}'.format(config['date']['start']))\n",
    "print('Stop: {:%Y-%m-%d %H:%M:%S}'.format(config['date']['stop']))\n",
    "print('Bounding box: {0:3.2f}, {1:3.2f},'\n",
    "         '{2:3.2f}, {3:3.2f}'.format(*config['region']['bbox']))"
   ]
  },
  {
   "cell_type": "markdown",
   "metadata": {},
   "source": [
    "### Create the data filter"
   ]
  },
  {
   "cell_type": "code",
   "execution_count": 4,
   "metadata": {
    "collapsed": false
   },
   "outputs": [],
   "source": [
    "def make_filter(config):\n",
    "    from owslib import fes\n",
    "    from ioos_tools.ioos import fes_date_filter\n",
    "    kw = dict(wildCard='*', escapeChar='\\\\',\n",
    "              singleChar='?', propertyname='apiso:AnyText')\n",
    "\n",
    "    or_filt = fes.Or([fes.PropertyIsLike(literal=('*%s*' % val), **kw)\n",
    "                      for val in config['cf_names']])\n",
    "\n",
    "    not_roms_avg = fes.Not([fes.PropertyIsLike(literal='*Averages*', **kw)])\n",
    "    not_ncep = fes.Not([fes.PropertyIsLike(literal='GRIB-2', **kw)])\n",
    "\n",
    "    begin, end = fes_date_filter(config['date']['start'],\n",
    "                                 config['date']['stop'])\n",
    "    bbox_crs = fes.BBox(config['region']['bbox'],\n",
    "                        crs=config['region']['crs'])\n",
    "    return [fes.And([bbox_crs, begin, end, or_filt, not_roms_avg, not_ncep])]\n",
    "\n",
    "\n",
    "filter_list = make_filter(config)"
   ]
  },
  {
   "cell_type": "code",
   "execution_count": 5,
   "metadata": {
    "code_folding": [],
    "collapsed": false
   },
   "outputs": [
    {
     "name": "stdout",
     "output_type": "stream",
     "text": [
      "********************* Catalog information **********************\n",
      "URL: https://data.ioos.us/csw\n",
      "Number of datasets available: 10\n",
      "G1SST, 1km blended SST\n",
      "HYbrid Coordinate Ocean Model (HYCOM): Global\n",
      "NERACOOS Gulf of Maine Ocean Array: Realtime Buoy Observations: A01 Massachusetts Bay: A01 ACCELEROMETER Massachusetts Bay\n",
      "NERACOOS Gulf of Maine Ocean Array: Realtime Buoy Observations: A01 Massachusetts Bay: A01 CTD1m Massachusetts Bay\n",
      "NERACOOS Gulf of Maine Ocean Array: Realtime Buoy Observations: A01 Massachusetts Bay: A01 CTD20m Massachusetts Bay\n",
      "NERACOOS Gulf of Maine Ocean Array: Realtime Buoy Observations: A01 Massachusetts Bay: A01 MET Massachusetts Bay\n",
      "NERACOOS Gulf of Maine Ocean Array: Realtime Buoy Observations: A01 Massachusetts Bay: A01 OPTICS3m Massachusetts Bay\n",
      "NERACOOS Gulf of Maine Ocean Array: Realtime Buoy Observations: A01 Massachusetts Bay: A01 OPTODE51m Massachusetts Bay\n",
      "NERACOOS Gulf of Maine Ocean Array: Realtime Buoy Observations: A01 Western Maine Shelf: A01 CTD52m Massachusetts Bay\n",
      "NOAA/NCEP Global Forecast System (GFS) Atmospheric Model\n",
      "***************************** DAP ******************************\n",
      "http://oos.soest.hawaii.edu/thredds/dodsC/hioos/model/atm/ncep_global/NCEP_Global_Atmospheric_Model_best.ncd.html\n",
      "http://oos.soest.hawaii.edu/thredds/dodsC/pacioos/hycom/global.html\n",
      "http://thredds.aoos.org/thredds/dodsC/G1_SST_GLOBAL.nc.html\n",
      "http://www.neracoos.org/thredds/dodsC/UMO/DSG/SOS/A01/Accelerometer/HistoricRealtime/Agg.ncml.html\n",
      "http://www.neracoos.org/thredds/dodsC/UMO/DSG/SOS/A01/CTD1m/HistoricRealtime/Agg.ncml.html\n",
      "http://www.neracoos.org/thredds/dodsC/UMO/DSG/SOS/A01/CTD20m/HistoricRealtime/Agg.ncml.html\n",
      "http://www.neracoos.org/thredds/dodsC/UMO/DSG/SOS/A01/CTD52m/HistoricRealtime/Agg.ncml.html\n",
      "http://www.neracoos.org/thredds/dodsC/UMO/DSG/SOS/A01/Met/HistoricRealtime/Agg.ncml.html\n",
      "http://www.neracoos.org/thredds/dodsC/UMO/DSG/SOS/A01/OPTICS_S3m/HistoricRealtime/Agg.ncml.html\n",
      "http://www.neracoos.org/thredds/dodsC/UMO/DSG/SOS/A01/OPTODE51m/HistoricRealtime/Agg.ncml.html\n",
      "\n",
      "\n",
      "URL: http://gamone.whoi.edu/csw\n",
      "Number of datasets available: 1\n",
      "COAWST Forecast System : USGS : US East Coast and Gulf of Mexico (Experimental)\n",
      "***************************** DAP ******************************\n",
      "http://geoport-dev.whoi.edu/thredds/dodsC/coawst_4/use/fmrc/coawst_4_use_best.ncd.html\n",
      "\n",
      "\n"
     ]
    }
   ],
   "source": [
    "from ioos_tools.ioos import service_urls, get_csw_records\n",
    "from owslib.csw import CatalogueServiceWeb\n",
    "\n",
    "\n",
    "dap_urls = []\n",
    "print(fmt(' Catalog information '))\n",
    "for endpoint in config['catalogs']:\n",
    "    print(\"URL: {}\".format(endpoint))\n",
    "\n",
    "    csw = CatalogueServiceWeb(endpoint, timeout=120)\n",
    "    get_csw_records(csw, filter_list, esn='full')\n",
    "    OPeNDAP = service_urls(csw.records, identifier='OPeNDAP:OPeNDAP')\n",
    "    odp = service_urls(csw.records, identifier='urn:x-esri:specification:ServiceType:odp:url')\n",
    "    dap = OPeNDAP + odp\n",
    "    dap_urls.extend(dap)\n",
    "\n",
    "    print(\"Number of datasets available: {}\".format(len(csw.records.keys())))\n",
    "\n",
    "    for rec, item in csw.records.items():\n",
    "        print('{}'.format(item.title))\n",
    "    if dap:\n",
    "        print(fmt(' DAP '))\n",
    "        for url in dap:\n",
    "            print('{}.html'.format(url))\n",
    "    print('\\n')\n",
    "\n",
    "# Get only unique endpoints.\n",
    "dap_urls = list(set(dap_urls))"
   ]
  },
  {
   "cell_type": "code",
   "execution_count": 6,
   "metadata": {
    "collapsed": false
   },
   "outputs": [
    {
     "name": "stdout",
     "output_type": "stream",
     "text": [
      "************************* Filtered DAP *************************\n",
      "http://oos.soest.hawaii.edu/thredds/dodsC/pacioos/hycom/global.html\n",
      "http://oos.soest.hawaii.edu/thredds/dodsC/hioos/model/atm/ncep_global/NCEP_Global_Atmospheric_Model_best.ncd.html\n",
      "http://thredds.aoos.org/thredds/dodsC/G1_SST_GLOBAL.nc.html\n",
      "http://geoport-dev.whoi.edu/thredds/dodsC/coawst_4/use/fmrc/coawst_4_use_best.ncd.html\n"
     ]
    }
   ],
   "source": [
    "from ioos_tools.ioos import is_station\n",
    "\n",
    "# Filter out some station endpoints.\n",
    "non_stations = []\n",
    "for url in dap_urls:\n",
    "    try:\n",
    "        if not is_station(url):\n",
    "            non_stations.append(url)\n",
    "    except (RuntimeError, OSError) as e:\n",
    "        print(\"Could not access URL {}. {!r}\".format(url, e))\n",
    "\n",
    "dap_urls = non_stations\n",
    "\n",
    "print(fmt(' Filtered DAP '))\n",
    "for url in dap_urls:\n",
    "    print('{}.html'.format(url))"
   ]
  },
  {
   "cell_type": "markdown",
   "metadata": {},
   "source": [
    "### NdbcSos"
   ]
  },
  {
   "cell_type": "code",
   "execution_count": 7,
   "metadata": {
    "collapsed": false
   },
   "outputs": [
    {
     "name": "stdout",
     "output_type": "stream",
     "text": [
      "******************* NDBC Collector offerings *******************\n",
      "National Data Buoy Center SOS: 977 offerings\n"
     ]
    }
   ],
   "source": [
    "from pyoos.collectors.ndbc.ndbc_sos import NdbcSos\n",
    "\n",
    "collector_ndbc = NdbcSos()\n",
    "\n",
    "collector_ndbc.set_bbox(config['region']['bbox'])\n",
    "collector_ndbc.end_time = config['date']['stop']\n",
    "collector_ndbc.start_time = config['date']['start']\n",
    "collector_ndbc.variables = [config['sos_name']]\n",
    "\n",
    "ofrs = collector_ndbc.server.offerings\n",
    "title = collector_ndbc.server.identification.title\n",
    "print(fmt(' NDBC Collector offerings '))\n",
    "print('{}: {} offerings'.format(title, len(ofrs)))"
   ]
  },
  {
   "cell_type": "code",
   "execution_count": 8,
   "metadata": {
    "collapsed": false
   },
   "outputs": [
    {
     "data": {
      "text/html": [
       "<style>.info {\n",
       "    background-color:#fcf8e3;\n",
       "    border-color:#faebcc;\n",
       "    border-left:5px solid #8a6d3b;\n",
       "    padding:.5em;\n",
       "    color:#8a6d3b\n",
       "}\n",
       "\n",
       ".success {\n",
       "    background-color:#d9edf7;\n",
       "    border-color:#bce8f1;\n",
       "    border-left:5px solid #31708f;\n",
       "    padding:.5em;\n",
       "    color:#31708f\n",
       "}\n",
       "\n",
       ".error {\n",
       "    background-color:#f2dede;\n",
       "    border-color:#ebccd1;\n",
       "    border-left:5px solid #a94442;\n",
       "    padding:.5em;\n",
       "    color:#a94442\n",
       "}\n",
       "\n",
       ".warning {\n",
       "    background-color:#fcf8e3;\n",
       "    border-color:#faebcc;\n",
       "    border-left:5px solid #8a6d3b;\n",
       "    padding:.5em;\n",
       "    color:#8a6d3b\n",
       "}\n",
       "\n",
       ".text-shadow {\n",
       "    text-shadow:0 1px 0 #ccc,0 2px 0 #c9c9c9,0 3px 0 #bbb,0 4px 0 #b9b9b9,0 5px 0 #aaa,0 6px 1px rgba(0,0,0,.1)\n",
       "}\n",
       "\n",
       ".datagrid table {\n",
       "    border-collapse:collapse;\n",
       "    text-align:left;\n",
       "    width:65%\n",
       "}\n",
       "\n",
       ".datagrid td {\n",
       "    border-collapse:collapse;\n",
       "    text-align:right;\n",
       "}\n",
       "\n",
       ".datagrid {\n",
       "    font:normal 12px/150% Arial,Helvetica,sans-serif;\n",
       "    background:#fff;\n",
       "    overflow:hidden;\n",
       "    border:1px solid #069;\n",
       "    -webkit-border-radius:3px;\n",
       "    -moz-border-radius:3px;\n",
       "    border-radius:3px\n",
       "}\n",
       "\n",
       ".datagrid table td,.datagrid table th {\n",
       "    padding:3px 10px\n",
       "}\n",
       "\n",
       ".datagrid table thead th {\n",
       "    background:-webkit-gradient(linear,left top,left bottom,color-stop(0.05,#069),color-stop(1,#00557F));\n",
       "    background:-moz-linear-gradient(center top,#069 5%,#00557F 100%);\n",
       "    filter:progid:DXImageTransform.Microsoft.gradient(startColorstr='#006699',endColorstr='#00557F');\n",
       "    background-color:#069;\n",
       "    color:#FFF;\n",
       "    font-size:15px;\n",
       "    font-weight:700;\n",
       "    border-left:1px solid #0070A8\n",
       "}\n",
       "\n",
       ".datagrid table thead th:first-child {\n",
       "    border:none\n",
       "}\n",
       "\n",
       ".datagrid table tbody td {\n",
       "    color:#00496B;\n",
       "    border-left:1px solid #E1EEF4;\n",
       "    font-size:12px;\n",
       "    font-weight:400\n",
       "}\n",
       "\n",
       ".datagrid table tbody .alt td {\n",
       "    background:#E1EEF4;\n",
       "    color:#00496B\n",
       "}\n",
       "\n",
       ".datagrid table tbody td:first-child {\n",
       "    border-left:none\n",
       "}\n",
       "\n",
       ".datagrid table tbody tr:last-child td {\n",
       "    border-bottom:none\n",
       "}\n",
       "\n",
       ".datagrid table tfoot td div {\n",
       "    border-top:1px solid #069;\n",
       "    background:#E1EEF4\n",
       "}\n",
       "\n",
       ".datagrid table tfoot td {\n",
       "    padding:0;\n",
       "    font-size:12px\n",
       "}\n",
       "\n",
       ".datagrid table tfoot td div {\n",
       "    padding:2px\n",
       "}\n",
       "\n",
       ".datagrid table tfoot td ul {\n",
       "    margin:0;\n",
       "    padding:0;\n",
       "    list-style:none;\n",
       "    text-align:right\n",
       "}\n",
       "\n",
       ".datagrid table tfoot li {\n",
       "    display:inline\n",
       "}\n",
       "\n",
       ".datagrid table tfoot li a {\n",
       "    text-decoration:none;\n",
       "    display:inline-block;\n",
       "    padding:2px 8px;\n",
       "    margin:1px;\n",
       "    color:#FFF;\n",
       "    border:1px solid #069;\n",
       "    -webkit-border-radius:3px;\n",
       "    -moz-border-radius:3px;\n",
       "    border-radius:3px;\n",
       "    background:-webkit-gradient(linear,left top,left bottom,color-stop(0.05,#069),color-stop(1,#00557F));\n",
       "    background:-moz-linear-gradient(center top,#069 5%,#00557F 100%);\n",
       "    filter:progid:DXImageTransform.Microsoft.gradient(startColorstr='#006699',endColorstr='#00557F');\n",
       "    background-color:#069\n",
       "}\n",
       "\n",
       ".datagrid table tfoot ul.active,.datagrid table tfoot ul a:hover {\n",
       "    text-decoration:none;\n",
       "    border-color:#069;\n",
       "    color:#FFF;\n",
       "    background:none;\n",
       "    background-color:#00557F\n",
       "}\n",
       "\n",
       "div.dhtmlx_window_active,div.dhx_modal_cover_dv {\n",
       "    position:fixed!important\n",
       "}\n",
       "</style><div class=\"datagrid\"><table border=\"1\" class=\"dataframe\">\n",
       "  <thead>\n",
       "    <tr style=\"text-align: right;\">\n",
       "      <th></th>\n",
       "      <th>depth</th>\n",
       "      <th>lat</th>\n",
       "      <th>lon</th>\n",
       "      <th>sensor</th>\n",
       "      <th>station_name</th>\n",
       "    </tr>\n",
       "    <tr>\n",
       "      <th>station_code</th>\n",
       "      <th></th>\n",
       "      <th></th>\n",
       "      <th></th>\n",
       "      <th></th>\n",
       "      <th></th>\n",
       "    </tr>\n",
       "  </thead>\n",
       "  <tbody>\n",
       "    <tr>\n",
       "      <th>44013</th>\n",
       "      <td>0.6</td>\n",
       "      <td>42.35</td>\n",
       "      <td>-70.69</td>\n",
       "      <td>urn:ioos:sensor:wmo:44013::watertemp1</td>\n",
       "      <td>BOSTON 16 NM East of Boston, MA</td>\n",
       "    </tr>\n",
       "    <tr>\n",
       "      <th>44029</th>\n",
       "      <td>1.0</td>\n",
       "      <td>42.52</td>\n",
       "      <td>-70.57</td>\n",
       "      <td>urn:ioos:sensor:wmo:44029::ct1</td>\n",
       "      <td>Buoy A0102 - Mass. Bay/Stellwagen</td>\n",
       "    </tr>\n",
       "  </tbody>\n",
       "</table></div>"
      ],
      "text/plain": [
       "<IPython.core.display.HTML object>"
      ]
     },
     "execution_count": 8,
     "metadata": {},
     "output_type": "execute_result"
    }
   ],
   "source": [
    "import pandas as pd\n",
    "from ioos_tools.ioos import collector2table, to_html\n",
    "\n",
    "ndbc = collector2table(collector=collector_ndbc,\n",
    "                       config=config,\n",
    "                       col='sea_water_temperature (C)')\n",
    "\n",
    "if ndbc:\n",
    "    data = dict(\n",
    "        station_name=[s._metadata.get('station_name') for s in ndbc],\n",
    "        station_code=[s._metadata.get('station_code') for s in ndbc],\n",
    "        sensor=[s._metadata.get('sensor') for s in ndbc],\n",
    "        lon=[s._metadata.get('lon') for s in ndbc],\n",
    "        lat=[s._metadata.get('lat') for s in ndbc],\n",
    "        depth=[s._metadata.get('depth') for s in ndbc],\n",
    "    )\n",
    "\n",
    "table = pd.DataFrame(data).set_index('station_code')\n",
    "to_html(table)"
   ]
  },
  {
   "cell_type": "markdown",
   "metadata": {},
   "source": [
    "### CoopsSoS"
   ]
  },
  {
   "cell_type": "code",
   "execution_count": 9,
   "metadata": {
    "collapsed": false
   },
   "outputs": [
    {
     "name": "stdout",
     "output_type": "stream",
     "text": [
      "********************* Collector offerings **********************\n",
      "NOAA.NOS.CO-OPS SOS: 1113 offerings\n"
     ]
    }
   ],
   "source": [
    "from pyoos.collectors.coops.coops_sos import CoopsSos\n",
    "\n",
    "collector_coops = CoopsSos()\n",
    "\n",
    "collector_coops.set_bbox(config['region']['bbox'])\n",
    "collector_coops.end_time = config['date']['stop']\n",
    "collector_coops.start_time = config['date']['start']\n",
    "collector_coops.variables = [config['sos_name']]\n",
    "\n",
    "ofrs = collector_coops.server.offerings\n",
    "title = collector_coops.server.identification.title\n",
    "print(fmt(' Collector offerings '))\n",
    "print('{}: {} offerings'.format(title, len(ofrs)))"
   ]
  },
  {
   "cell_type": "code",
   "execution_count": 10,
   "metadata": {
    "collapsed": false,
    "scrolled": true
   },
   "outputs": [
    {
     "data": {
      "text/html": [
       "<style>.info {\n",
       "    background-color:#fcf8e3;\n",
       "    border-color:#faebcc;\n",
       "    border-left:5px solid #8a6d3b;\n",
       "    padding:.5em;\n",
       "    color:#8a6d3b\n",
       "}\n",
       "\n",
       ".success {\n",
       "    background-color:#d9edf7;\n",
       "    border-color:#bce8f1;\n",
       "    border-left:5px solid #31708f;\n",
       "    padding:.5em;\n",
       "    color:#31708f\n",
       "}\n",
       "\n",
       ".error {\n",
       "    background-color:#f2dede;\n",
       "    border-color:#ebccd1;\n",
       "    border-left:5px solid #a94442;\n",
       "    padding:.5em;\n",
       "    color:#a94442\n",
       "}\n",
       "\n",
       ".warning {\n",
       "    background-color:#fcf8e3;\n",
       "    border-color:#faebcc;\n",
       "    border-left:5px solid #8a6d3b;\n",
       "    padding:.5em;\n",
       "    color:#8a6d3b\n",
       "}\n",
       "\n",
       ".text-shadow {\n",
       "    text-shadow:0 1px 0 #ccc,0 2px 0 #c9c9c9,0 3px 0 #bbb,0 4px 0 #b9b9b9,0 5px 0 #aaa,0 6px 1px rgba(0,0,0,.1)\n",
       "}\n",
       "\n",
       ".datagrid table {\n",
       "    border-collapse:collapse;\n",
       "    text-align:left;\n",
       "    width:65%\n",
       "}\n",
       "\n",
       ".datagrid td {\n",
       "    border-collapse:collapse;\n",
       "    text-align:right;\n",
       "}\n",
       "\n",
       ".datagrid {\n",
       "    font:normal 12px/150% Arial,Helvetica,sans-serif;\n",
       "    background:#fff;\n",
       "    overflow:hidden;\n",
       "    border:1px solid #069;\n",
       "    -webkit-border-radius:3px;\n",
       "    -moz-border-radius:3px;\n",
       "    border-radius:3px\n",
       "}\n",
       "\n",
       ".datagrid table td,.datagrid table th {\n",
       "    padding:3px 10px\n",
       "}\n",
       "\n",
       ".datagrid table thead th {\n",
       "    background:-webkit-gradient(linear,left top,left bottom,color-stop(0.05,#069),color-stop(1,#00557F));\n",
       "    background:-moz-linear-gradient(center top,#069 5%,#00557F 100%);\n",
       "    filter:progid:DXImageTransform.Microsoft.gradient(startColorstr='#006699',endColorstr='#00557F');\n",
       "    background-color:#069;\n",
       "    color:#FFF;\n",
       "    font-size:15px;\n",
       "    font-weight:700;\n",
       "    border-left:1px solid #0070A8\n",
       "}\n",
       "\n",
       ".datagrid table thead th:first-child {\n",
       "    border:none\n",
       "}\n",
       "\n",
       ".datagrid table tbody td {\n",
       "    color:#00496B;\n",
       "    border-left:1px solid #E1EEF4;\n",
       "    font-size:12px;\n",
       "    font-weight:400\n",
       "}\n",
       "\n",
       ".datagrid table tbody .alt td {\n",
       "    background:#E1EEF4;\n",
       "    color:#00496B\n",
       "}\n",
       "\n",
       ".datagrid table tbody td:first-child {\n",
       "    border-left:none\n",
       "}\n",
       "\n",
       ".datagrid table tbody tr:last-child td {\n",
       "    border-bottom:none\n",
       "}\n",
       "\n",
       ".datagrid table tfoot td div {\n",
       "    border-top:1px solid #069;\n",
       "    background:#E1EEF4\n",
       "}\n",
       "\n",
       ".datagrid table tfoot td {\n",
       "    padding:0;\n",
       "    font-size:12px\n",
       "}\n",
       "\n",
       ".datagrid table tfoot td div {\n",
       "    padding:2px\n",
       "}\n",
       "\n",
       ".datagrid table tfoot td ul {\n",
       "    margin:0;\n",
       "    padding:0;\n",
       "    list-style:none;\n",
       "    text-align:right\n",
       "}\n",
       "\n",
       ".datagrid table tfoot li {\n",
       "    display:inline\n",
       "}\n",
       "\n",
       ".datagrid table tfoot li a {\n",
       "    text-decoration:none;\n",
       "    display:inline-block;\n",
       "    padding:2px 8px;\n",
       "    margin:1px;\n",
       "    color:#FFF;\n",
       "    border:1px solid #069;\n",
       "    -webkit-border-radius:3px;\n",
       "    -moz-border-radius:3px;\n",
       "    border-radius:3px;\n",
       "    background:-webkit-gradient(linear,left top,left bottom,color-stop(0.05,#069),color-stop(1,#00557F));\n",
       "    background:-moz-linear-gradient(center top,#069 5%,#00557F 100%);\n",
       "    filter:progid:DXImageTransform.Microsoft.gradient(startColorstr='#006699',endColorstr='#00557F');\n",
       "    background-color:#069\n",
       "}\n",
       "\n",
       ".datagrid table tfoot ul.active,.datagrid table tfoot ul a:hover {\n",
       "    text-decoration:none;\n",
       "    border-color:#069;\n",
       "    color:#FFF;\n",
       "    background:none;\n",
       "    background-color:#00557F\n",
       "}\n",
       "\n",
       "div.dhtmlx_window_active,div.dhx_modal_cover_dv {\n",
       "    position:fixed!important\n",
       "}\n",
       "</style><div class=\"datagrid\"><table border=\"1\" class=\"dataframe\">\n",
       "  <thead>\n",
       "    <tr style=\"text-align: right;\">\n",
       "      <th></th>\n",
       "      <th>depth</th>\n",
       "      <th>lat</th>\n",
       "      <th>lon</th>\n",
       "      <th>sensor</th>\n",
       "      <th>station_name</th>\n",
       "    </tr>\n",
       "    <tr>\n",
       "      <th>station_code</th>\n",
       "      <th></th>\n",
       "      <th></th>\n",
       "      <th></th>\n",
       "      <th></th>\n",
       "      <th></th>\n",
       "    </tr>\n",
       "  </thead>\n",
       "  <tbody>\n",
       "    <tr>\n",
       "      <th>8443970</th>\n",
       "      <td>None</td>\n",
       "      <td>42.3548</td>\n",
       "      <td>-71.0534</td>\n",
       "      <td>urn:ioos:sensor:NOAA.NOS.CO-OPS:8443970:E1</td>\n",
       "      <td>Boston, MA</td>\n",
       "    </tr>\n",
       "  </tbody>\n",
       "</table></div>"
      ],
      "text/plain": [
       "<IPython.core.display.HTML object>"
      ]
     },
     "execution_count": 10,
     "metadata": {},
     "output_type": "execute_result"
    }
   ],
   "source": [
    "coops = collector2table(collector=collector_coops,\n",
    "                        config=config,\n",
    "                        col='sea_water_temperature (C)')\n",
    "\n",
    "if coops:\n",
    "    data = dict(\n",
    "        station_name=[s._metadata.get('station_name') for s in coops],\n",
    "        station_code=[s._metadata.get('station_code') for s in coops],\n",
    "        sensor=[s._metadata.get('sensor') for s in coops],\n",
    "        lon=[s._metadata.get('lon') for s in coops],\n",
    "        lat=[s._metadata.get('lat') for s in coops],\n",
    "        depth=[s._metadata.get('depth') for s in coops],\n",
    "    )\n",
    "\n",
    "table = pd.DataFrame(data).set_index('station_code')\n",
    "to_html(table)"
   ]
  },
  {
   "cell_type": "markdown",
   "metadata": {},
   "source": [
    "### Join CoopsSoS and NdbcSos in uniform 1-hour time base series for model/data comparison"
   ]
  },
  {
   "cell_type": "code",
   "execution_count": 11,
   "metadata": {
    "collapsed": false,
    "scrolled": true
   },
   "outputs": [],
   "source": [
    "data = ndbc + coops\n",
    "\n",
    "index = pd.date_range(start=config['date']['start'].replace(tzinfo=None),\n",
    "                      end=config['date']['stop'].replace(tzinfo=None),\n",
    "                      freq='1H')\n",
    "\n",
    "# Preserve metadata with `reindex`.\n",
    "observations = []\n",
    "for series in data:\n",
    "    _metadata = series._metadata\n",
    "    obs = series.reindex(index=index, limit=1, method='nearest')\n",
    "    obs._metadata = _metadata\n",
    "    observations.append(obs)"
   ]
  },
  {
   "cell_type": "markdown",
   "metadata": {},
   "source": [
    "### Save simpler station code/name file"
   ]
  },
  {
   "cell_type": "code",
   "execution_count": 12,
   "metadata": {
    "collapsed": false,
    "scrolled": false
   },
   "outputs": [],
   "source": [
    "import iris\n",
    "from ioos_tools.tardis import series2cube\n",
    "\n",
    "attr = dict(\n",
    "    featureType='timeSeries',\n",
    "    Conventions='CF-1.6',\n",
    "    standard_name_vocabulary='CF-1.6',\n",
    "    cdm_data_type=\"Station\",\n",
    "    comment=\"Data from http://opendap.co-ops.nos.noaa.gov\"\n",
    ")\n",
    "\n",
    "\n",
    "cubes = iris.cube.CubeList(\n",
    "    [series2cube(obs, attr=attr) for obs in observations]\n",
    ")\n",
    "\n",
    "outfile = os.path.join(save_dir, 'OBS_DATA.nc')\n",
    "iris.save(cubes, outfile)"
   ]
  },
  {
   "cell_type": "markdown",
   "metadata": {},
   "source": [
    "### Loop discovered models and save the nearest time-series"
   ]
  },
  {
   "cell_type": "code",
   "execution_count": 13,
   "metadata": {
    "collapsed": false
   },
   "outputs": [
    {
     "name": "stdout",
     "output_type": "stream",
     "text": [
      "**************************** Models ****************************\n",
      "\n",
      "[Reading url 1/4]: http://oos.soest.hawaii.edu/thredds/dodsC/pacioos/hycom/global\n",
      "\n",
      "[Reading url 2/4]: http://oos.soest.hawaii.edu/thredds/dodsC/hioos/model/atm/ncep_global/NCEP_Global_Atmospheric_Model_best.ncd\n",
      "Cannot get cube for: http://oos.soest.hawaii.edu/thredds/dodsC/hioos/model/atm/ncep_global/NCEP_Global_Atmospheric_Model_best.ncd\n",
      "Cannot find ['sea_water_temperature', 'sea_surface_temperature', 'sea_water_potential_temperature', 'sea_water_conservative_temperature'] in http://oos.soest.hawaii.edu/thredds/dodsC/hioos/model/atm/ncep_global/NCEP_Global_Atmospheric_Model_best.ncd.\n",
      "\n",
      "[Reading url 3/4]: http://thredds.aoos.org/thredds/dodsC/G1_SST_GLOBAL.nc\n",
      "\n",
      "[Reading url 4/4]: http://geoport-dev.whoi.edu/thredds/dodsC/coawst_4/use/fmrc/coawst_4_use_best.ncd\n"
     ]
    }
   ],
   "source": [
    "from iris.exceptions import (CoordinateNotFoundError, ConstraintMismatchError,\n",
    "                             MergeError)\n",
    "from ioos_tools.ioos import get_model_name\n",
    "from ioos_tools.tardis import quick_load_cubes, proc_cube, is_model, get_surface\n",
    "\n",
    "print(fmt(' Models '))\n",
    "cubes = dict()\n",
    "for k, url in enumerate(dap_urls):\n",
    "    print('\\n[Reading url {}/{}]: {}'.format(k+1, len(dap_urls), url))\n",
    "    try:\n",
    "        cube = quick_load_cubes(url, config['cf_names'],\n",
    "                                callback=None, strict=True)\n",
    "        if is_model(cube):\n",
    "            cube = proc_cube(cube,\n",
    "                             bbox=config['region']['bbox'],\n",
    "                             time=(config['date']['start'],\n",
    "                                   config['date']['stop']),\n",
    "                             units=config['units'])\n",
    "        else:\n",
    "            log.warning(\"[Not model data]: {}\".format(url))\n",
    "            continue\n",
    "        cube = get_surface(cube)\n",
    "        mod_name = get_model_name(url)\n",
    "        cubes.update({mod_name: cube})\n",
    "    except (RuntimeError, ValueError,\n",
    "            ConstraintMismatchError, CoordinateNotFoundError,\n",
    "            IndexError) as e:\n",
    "        print('Cannot get cube for: {}\\n{}'.format(url, e))"
   ]
  },
  {
   "cell_type": "code",
   "execution_count": 14,
   "metadata": {
    "collapsed": false
   },
   "outputs": [
    {
     "name": "stdout",
     "output_type": "stream",
     "text": [
      " Downloading to file /home/filipe/IOOS/notebooks_demos/notebooks/latest/G1_SST_GLOBAL.nc \n",
      "[Water  ] BOSTON 16 NM East of Boston, MA\n",
      "[Water  ] Buoy A0102 - Mass. Bay/Stellwagen\n",
      "[Water  ] Boston, MA\n",
      "Finished processing [G1_SST_GLOBAL]\n",
      " Downloading to file /home/filipe/IOOS/notebooks_demos/notebooks/latest/pacioos_hycom-global.nc \n",
      "[Water  ] BOSTON 16 NM East of Boston, MA\n",
      "[Water  ] Buoy A0102 - Mass. Bay/Stellwagen\n",
      "[Land   ] Boston, MA\n",
      "Finished processing [pacioos_hycom-global]\n",
      " Downloading to file /home/filipe/IOOS/notebooks_demos/notebooks/latest/fmrc-coawst_4_use_best.nc \n",
      "[Water  ] BOSTON 16 NM East of Boston, MA\n",
      "[Water  ] Buoy A0102 - Mass. Bay/Stellwagen\n",
      "[Water  ] Boston, MA\n",
      "Finished processing [fmrc-coawst_4_use_best]\n"
     ]
    }
   ],
   "source": [
    "import iris\n",
    "from iris.pandas import as_series\n",
    "from ioos_tools.tardis import (make_tree, get_nearest_water,\n",
    "                               add_station, ensure_timeseries, remove_ssh)\n",
    "\n",
    "for mod_name, cube in cubes.items():\n",
    "    fname = '{}.nc'.format(mod_name)\n",
    "    fname = os.path.join(save_dir, fname)\n",
    "    print(fmt(' Downloading to file {} '.format(fname)))\n",
    "    try:\n",
    "        tree, lon, lat = make_tree(cube)\n",
    "    except CoordinateNotFoundError as e:\n",
    "        log.warning('Cannot make KDTree for: {}'.format(mod_name))\n",
    "        continue\n",
    "    # Get model series at observed locations.\n",
    "    raw_series = dict()\n",
    "    for obs in observations:\n",
    "        obs = obs._metadata\n",
    "        station = obs['station_code']\n",
    "        try:\n",
    "            kw = dict(k=10, max_dist=0.08, min_var=0.01)\n",
    "            args = cube, tree, obs['lon'], obs['lat']\n",
    "            try:\n",
    "                series, dist, idx = get_nearest_water(*args, **kw)\n",
    "            except RuntimeError as e:\n",
    "                print('Cannot download {!r}.\\n{}'.format(cube, e))\n",
    "                series = None\n",
    "        except ValueError as e:\n",
    "            status = \"No Data\"\n",
    "            print('[{}] {}'.format(status, obs['station_name']))\n",
    "            continue\n",
    "        if not series:\n",
    "            status = \"Land   \"\n",
    "        else:\n",
    "            raw_series.update({station: series})\n",
    "            series = as_series(series)\n",
    "            status = \"Water  \"\n",
    "        print('[{}] {}'.format(status, obs['station_name']))\n",
    "    if raw_series:  # Save cube.\n",
    "        for station, cube in raw_series.items():\n",
    "            cube = add_station(cube, station)\n",
    "            cube = remove_ssh(cube)\n",
    "        try:\n",
    "            cube = iris.cube.CubeList(raw_series.values()).merge_cube()\n",
    "        except MergeError as e:\n",
    "            log.warning(e)\n",
    "        ensure_timeseries(cube)\n",
    "        iris.save(cube, fname)\n",
    "        del cube\n",
    "    print('Finished processing [{}]'.format(mod_name))"
   ]
  },
  {
   "cell_type": "markdown",
   "metadata": {},
   "source": [
    "### Load configuration"
   ]
  },
  {
   "cell_type": "code",
   "execution_count": 15,
   "metadata": {
    "collapsed": true
   },
   "outputs": [],
   "source": [
    "from ioos_tools.ioos import parse_config\n",
    "\n",
    "config = parse_config('config.yaml')\n",
    "\n",
    "save_dir = os.path.join(os.path.abspath(config['run_name']))"
   ]
  },
  {
   "cell_type": "markdown",
   "metadata": {},
   "source": [
    "### Skill 1: Model Bias (or Mean Bias)\n",
    "\n",
    "The bias skill compares the model mean temperature against the observations.\n",
    "It is possible to introduce a Mean Bias in the model due to a mismatch of the\n",
    "boundary forcing and the model interior.\n",
    "\n",
    "$$ \\text{MB} = \\mathbf{\\overline{m}} - \\mathbf{\\overline{o}}$$"
   ]
  },
  {
   "cell_type": "code",
   "execution_count": 16,
   "metadata": {
    "collapsed": true
   },
   "outputs": [],
   "source": [
    "from ioos_tools.ioos import stations_keys\n",
    "\n",
    "\n",
    "def rename_cols(df, config):\n",
    "    cols = stations_keys(config, key='station_name')\n",
    "    return df.rename(columns=cols)"
   ]
  },
  {
   "cell_type": "code",
   "execution_count": 17,
   "metadata": {
    "collapsed": true
   },
   "outputs": [],
   "source": [
    "from ioos_tools.ioos import to_html, save_html, load_ncs\n",
    "from ioos_tools.skill_score import mean_bias, apply_skill\n",
    "\n",
    "dfs = load_ncs(config)\n",
    "\n",
    "df = apply_skill(dfs, mean_bias, remove_mean=False, filter_tides=False)\n",
    "skill_score = dict(mean_bias=df.to_dict())\n",
    "\n",
    "# Filter out stations with no valid comparison.\n",
    "df.dropna(how='all', axis=1, inplace=True)\n",
    "df = df.applymap('{:.2f}'.format).replace('nan', '--')\n",
    "\n",
    "# Pretty HTML table.\n",
    "if not df.empty:\n",
    "    df = rename_cols(df, config)\n",
    "    html = to_html(df.T)\n",
    "    fname = os.path.join(save_dir, 'mean_bias.html')\n",
    "    save_html(fname, html)\n",
    "    html"
   ]
  },
  {
   "cell_type": "markdown",
   "metadata": {},
   "source": [
    "### Skill 2: Central Root Mean Squared Error\n",
    "\n",
    "Root Mean Squared Error of the deviations from the mean.\n",
    "\n",
    "$$ \\text{CRMS} = \\sqrt{\\left(\\mathbf{m'} - \\mathbf{o'}\\right)^2}$$\n",
    "\n",
    "where: $\\mathbf{m'} = \\mathbf{m} - \\mathbf{\\overline{m}}$ and $\\mathbf{o'} = \\mathbf{o} - \\mathbf{\\overline{o}}$"
   ]
  },
  {
   "cell_type": "code",
   "execution_count": 18,
   "metadata": {
    "collapsed": true
   },
   "outputs": [],
   "source": [
    "from ioos_tools.skill_score import rmse\n",
    "\n",
    "dfs = load_ncs(config)\n",
    "\n",
    "df = apply_skill(dfs, rmse, remove_mean=True, filter_tides=False)\n",
    "skill_score['rmse'] = df.to_dict()\n",
    "\n",
    "# Filter out stations with no valid comparison.\n",
    "df.dropna(how='all', axis=1, inplace=True)\n",
    "df = df.applymap('{:.2f}'.format).replace('nan', '--')\n",
    "\n",
    "# Pretty HTML table.\n",
    "if not df.empty:\n",
    "    df = rename_cols(df, config)\n",
    "    html = to_html(df.T)\n",
    "    fname = os.path.join(save_dir, 'rmse.html')\n",
    "    save_html(fname, html)\n",
    "    html"
   ]
  },
  {
   "cell_type": "markdown",
   "metadata": {},
   "source": [
    "### Skill 3: R$^2$\n",
    "https://en.wikipedia.org/wiki/Coefficient_of_determination"
   ]
  },
  {
   "cell_type": "code",
   "execution_count": 19,
   "metadata": {
    "collapsed": true
   },
   "outputs": [],
   "source": [
    "from ioos_tools.skill_score import r2\n",
    "\n",
    "dfs = load_ncs(config)\n",
    "\n",
    "df = apply_skill(dfs, r2, remove_mean=True, filter_tides=False)\n",
    "skill_score['r2'] = df.to_dict()\n",
    "\n",
    "# Filter out stations with no valid comparison.\n",
    "df.dropna(how='all', axis=1, inplace=True)\n",
    "df = df.applymap('{:.2f}'.format).replace('nan', '--')\n",
    "\n",
    "# Pretty HTML table.\n",
    "if not df.empty:\n",
    "    df = rename_cols(df, config)\n",
    "    html = to_html(df.T)\n",
    "    fname = os.path.join(save_dir, 'r2.html')\n",
    "    save_html(fname, html)\n",
    "    html"
   ]
  },
  {
   "cell_type": "code",
   "execution_count": 20,
   "metadata": {
    "collapsed": true
   },
   "outputs": [],
   "source": [
    "import json\n",
    "\n",
    "fname = os.path.join(save_dir, 'skill_score.json')\n",
    "\n",
    "# Stringfy keys for json.\n",
    "for key in skill_score.keys():\n",
    "    skill_score[key] = {str(k): v for k, v in skill_score[key].items()}\n",
    "\n",
    "with open(fname, 'w') as f:\n",
    "    f.write(json.dumps(skill_score))"
   ]
  },
  {
   "cell_type": "markdown",
   "metadata": {},
   "source": [
    "### Normalized Taylor diagrams\n",
    "\n",
    "The radius is model standard deviation error divided  by observations deviation,\n",
    "azimuth is arc-cosine of cross correlation (R), and distance to point (1, 0) on the\n",
    "abscissa is Centered RMS."
   ]
  },
  {
   "cell_type": "code",
   "execution_count": 21,
   "metadata": {
    "collapsed": true
   },
   "outputs": [],
   "source": [
    "%matplotlib inline\n",
    "import matplotlib.pyplot as plt\n",
    "from ioos_tools.taylor_diagram import TaylorDiagram\n",
    "\n",
    "\n",
    "def make_taylor(samples):\n",
    "    fig = plt.figure(figsize=(9, 9))\n",
    "    dia = TaylorDiagram(samples['std']['OBS_DATA'],\n",
    "                        fig=fig,\n",
    "                        label=\"Observation\")\n",
    "    # Add samples to Taylor diagram.\n",
    "    samples.drop('OBS_DATA', inplace=True)\n",
    "    for model, row in samples.iterrows():\n",
    "        dia.add_sample(row['std'], row['corr'], marker='s', ls='',\n",
    "                       label=model)\n",
    "    # Add RMS contours, and label them.\n",
    "    contours = dia.add_contours(colors='0.5')\n",
    "    plt.clabel(contours, inline=1, fontsize=10)\n",
    "    # Add a figure legend.\n",
    "    kw = dict(prop=dict(size='small'), loc='upper right')\n",
    "    fig.legend(dia.samplePoints,\n",
    "               [p.get_label() for p in dia.samplePoints],\n",
    "               numpoints=1, **kw)\n",
    "    return fig"
   ]
  },
  {
   "cell_type": "markdown",
   "metadata": {},
   "source": [
    "```python\n",
    "import numpy as np\n",
    "import pandas as pd\n",
    "\n",
    "dfs = load_ncs(config)\n",
    "\n",
    "# Bin and interpolate all series.\n",
    "freq = '30min'\n",
    "for station, df in list(dfs.iteritems()):\n",
    "    df = df.resample(freq).interpolate().dropna(axis=1)\n",
    "    if 'OBS_DATA' in df:\n",
    "        samples = pd.DataFrame.from_dict(dict(std=df.std(),\n",
    "                                              corr=df.corr()['OBS_DATA']))\n",
    "    else:\n",
    "        continue\n",
    "    samples[samples < 0] = np.NaN\n",
    "    samples.dropna(inplace=True)\n",
    "    if len(samples) <= 2:  # 1 obs 1 model.\n",
    "        continue\n",
    "    fig = make_taylor(samples)\n",
    "    fig.savefig(os.path.join(save_dir, '{}.png'.format(station)))\n",
    "    plt.close(fig)\n",
    "```"
   ]
  },
  {
   "cell_type": "markdown",
   "metadata": {},
   "source": [
    "### Load skill_score"
   ]
  },
  {
   "cell_type": "code",
   "execution_count": 22,
   "metadata": {
    "collapsed": true
   },
   "outputs": [],
   "source": [
    "import json\n",
    "\n",
    "fname = os.path.join(config['run_name'], 'skill_score.json')\n",
    "with open(fname, 'r') as f:\n",
    "    skill_score = json.loads(f.read())"
   ]
  },
  {
   "cell_type": "code",
   "execution_count": 23,
   "metadata": {
    "collapsed": true
   },
   "outputs": [],
   "source": [
    "import pandas as pd\n",
    "\n",
    "mean_bias = pd.DataFrame.from_dict(skill_score['mean_bias'])\n",
    "mean_bias = mean_bias.applymap('{:.2f}'.format).replace('nan', '--')\n",
    "\n",
    "skill_score = pd.DataFrame.from_dict(skill_score['rmse'])\n",
    "skill_score = skill_score.applymap('{:.2f}'.format).replace('nan', '--')"
   ]
  },
  {
   "cell_type": "code",
   "execution_count": 24,
   "metadata": {
    "collapsed": true
   },
   "outputs": [],
   "source": [
    "from ioos_tools.ioos import make_map\n",
    "\n",
    "bbox = config['region']['bbox']\n",
    "units = config['units']\n",
    "run_name = config['run_name']\n",
    "\n",
    "kw = dict(zoom_start=11, line=True, states=False,\n",
    "          secoora_stations=False, layers=False)\n",
    "mapa = make_map(bbox, **kw)"
   ]
  },
  {
   "cell_type": "markdown",
   "metadata": {},
   "source": [
    "### Clusters"
   ]
  },
  {
   "cell_type": "code",
   "execution_count": 25,
   "metadata": {
    "collapsed": true
   },
   "outputs": [],
   "source": [
    "all_obs = stations_keys(config)"
   ]
  },
  {
   "cell_type": "code",
   "execution_count": 26,
   "metadata": {
    "collapsed": false
   },
   "outputs": [
    {
     "data": {
      "text/plain": [
       "<folium.plugins.marker_cluster.MarkerCluster at 0x7f2613d87390>"
      ]
     },
     "execution_count": 26,
     "metadata": {},
     "output_type": "execute_result"
    }
   ],
   "source": [
    "from glob import glob\n",
    "from operator import itemgetter\n",
    "\n",
    "import iris\n",
    "import folium\n",
    "from folium.plugins import MarkerCluster\n",
    "\n",
    "iris.FUTURE.netcdf_promote = True\n",
    "\n",
    "big_list = []\n",
    "for fname in glob(os.path.join(save_dir, \"*.nc\")):\n",
    "    if 'OBS_DATA' in fname:\n",
    "        continue\n",
    "    cube = iris.load_cube(fname)\n",
    "    model = fname.split('-')[-1].split('.')[0]\n",
    "    lons = cube.coord(axis='X').points\n",
    "    lats = cube.coord(axis='Y').points\n",
    "    stations = cube.coord('station_code').points\n",
    "    models = [model]*lons.size\n",
    "    lista = zip(models, lons.tolist(), lats.tolist(), stations.tolist())\n",
    "    big_list.extend(lista)\n",
    "\n",
    "big_list.sort(key=itemgetter(3))\n",
    "df = pd.DataFrame(big_list, columns=['name', 'lon', 'lat', 'station'])\n",
    "df.set_index('station', drop=True, inplace=True)\n",
    "groups = df.groupby(df.index)\n",
    "\n",
    "\n",
    "locations, popups = [], []\n",
    "for station, info in groups:\n",
    "    sta_name = all_obs[station]\n",
    "    for lat, lon, name in zip(info.lat, info.lon, info.name):\n",
    "        locations.append([lat, lon])\n",
    "        popups.append('[{}]: {}'.format(name, sta_name))\n",
    "\n",
    "MarkerCluster(locations=locations, popups=popups).add_to(mapa)"
   ]
  },
  {
   "cell_type": "markdown",
   "metadata": {},
   "source": [
    "### Model and observations plots"
   ]
  },
  {
   "cell_type": "code",
   "execution_count": 27,
   "metadata": {
    "collapsed": true
   },
   "outputs": [],
   "source": [
    "import warnings\n",
    "\n",
    "# Suppresing warnings for a \"pretty output.\"\n",
    "# Remove this line to debug any possible issues.\n",
    "warnings.simplefilter(\"ignore\")"
   ]
  },
  {
   "cell_type": "code",
   "execution_count": 28,
   "metadata": {
    "collapsed": true
   },
   "outputs": [],
   "source": [
    "# Legend dictionary. If any new model is found we will use its filename as legend.\n",
    "# Here we only provide some nice names for the models we expect to find.\n",
    "\n",
    "titles = {\n",
    "    'coawst_4_use_best': 'COAWST_4',\n",
    "    'global': 'HYCOM',\n",
    "    'NECOFS_GOM3_FORECAST': 'NECOFS_GOM3',\n",
    "    'NECOFS_FVCOM_OCEAN_MASSBAY_FORECAST': 'NECOFS_MassBay',\n",
    "    'OBS_DATA': 'Observations'\n",
    "}"
   ]
  },
  {
   "cell_type": "code",
   "execution_count": 29,
   "metadata": {
    "collapsed": true
   },
   "outputs": [],
   "source": [
    "from bokeh.resources import CDN\n",
    "from bokeh.plotting import figure\n",
    "from bokeh.embed import file_html\n",
    "from bokeh.models import HoverTool\n",
    "from itertools import cycle\n",
    "from bokeh.palettes import Spectral6\n",
    "\n",
    "from folium.element import IFrame\n",
    "\n",
    "# Plot defaults.\n",
    "colors = Spectral6\n",
    "colorcycler = cycle(colors)\n",
    "tools = \"pan,box_zoom,reset\"\n",
    "width, height = 750, 250\n",
    "\n",
    "\n",
    "def make_plot(df, station):\n",
    "    p = figure(toolbar_location=\"above\",\n",
    "               x_axis_type=\"datetime\",\n",
    "               width=width,\n",
    "               height=height,\n",
    "               tools=tools,\n",
    "               title=str(station))\n",
    "    for column, series in df.iteritems():\n",
    "        series.dropna(inplace=True)\n",
    "        if not series.empty:\n",
    "            line = p.line(\n",
    "                x=series.index,\n",
    "                y=series.values,\n",
    "                legend=\"%s\" % titles.get(column, column),\n",
    "                line_color=next(colorcycler),\n",
    "                line_width=5,\n",
    "                line_cap='round',\n",
    "                line_join='round'\n",
    "            )\n",
    "            if 'OBS_DATA' not in column:\n",
    "                bias = mean_bias[str(station)][column]\n",
    "                skill = skill_score[str(station)][column]\n",
    "            else:\n",
    "                skill = bias = 'NA'\n",
    "            p.add_tools(HoverTool(tooltips=[(\"Name\", \"%s\" % column),\n",
    "                                            (\"Bias\", bias),\n",
    "                                            (\"Skill\", skill)],\n",
    "                                  renderers=[line]))\n",
    "    return p\n",
    "\n",
    "\n",
    "def make_marker(p, station):\n",
    "    lons = stations_keys(config, key='lon')\n",
    "    lats = stations_keys(config, key='lat')\n",
    "\n",
    "    lon, lat = lons[station], lats[station]\n",
    "    html = file_html(p, CDN, station)\n",
    "    iframe = IFrame(html, width=width+40, height=height+80)\n",
    "\n",
    "    popup = folium.Popup(iframe, max_width=2650)\n",
    "    icon = folium.Icon(color='green', icon='stats')\n",
    "    marker = folium.Marker(location=[lat, lon],\n",
    "                           popup=popup,\n",
    "                           icon=icon)\n",
    "    return marker"
   ]
  },
  {
   "cell_type": "code",
   "execution_count": 30,
   "metadata": {
    "collapsed": false
   },
   "outputs": [
    {
     "data": {
      "text/html": [
       "<div style=\"width:100%;\"><div style=\"position:relative;width:100%;height:0;padding-bottom:60%;\"><iframe src=\"data:text/html;base64,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\" style=\"position:absolute;width:100%;height:100%;left:0;top:0;\"></iframe></div></div>"
      ],
      "text/plain": [
       "<folium.folium.Map at 0x7f2614125748>"
      ]
     },
     "execution_count": 30,
     "metadata": {},
     "output_type": "execute_result"
    }
   ],
   "source": [
    "dfs = load_ncs(config)\n",
    "\n",
    "for station in dfs:\n",
    "    sta_name = all_obs[station]\n",
    "    df = dfs[station]\n",
    "    if df.empty:\n",
    "        continue\n",
    "    p = make_plot(df, station)\n",
    "    maker = make_marker(p, station)\n",
    "    maker.add_to(mapa)\n",
    "\n",
    "mapa"
   ]
  },
  {
   "cell_type": "code",
   "execution_count": 31,
   "metadata": {
    "collapsed": false
   },
   "outputs": [
    {
     "name": "stdout",
     "output_type": "stream",
     "text": [
      "2.91 minutes\n"
     ]
    }
   ],
   "source": [
    "elapsed = time.time() - start_time\n",
    "print('{:.2f} minutes'.format(elapsed/60.))"
   ]
  },
  {
   "cell_type": "markdown",
   "metadata": {},
   "source": [
    "<br>\n",
    "Right click and choose Save link as... to\n",
    "[download](https://raw.githubusercontent.com/ioos/notebooks_demos/master/notebooks/2016-12-22-boston_light_swim.ipynb)\n",
    "this notebook, or see a static view [here](http://nbviewer.ipython.org/urls/raw.githubusercontent.com/ioos/notebooks_demos/master/notebooks/2016-12-22-boston_light_swim.ipynb)."
   ]
  }
 ],
 "metadata": {
  "kernelspec": {
   "display_name": "Python [default]",
   "language": "python",
   "name": "python3"
  },
  "language_info": {
   "codemirror_mode": {
    "name": "ipython",
    "version": 3
   },
   "file_extension": ".py",
   "mimetype": "text/x-python",
   "name": "python",
   "nbconvert_exporter": "python",
   "pygments_lexer": "ipython3",
   "version": "3.5.2"
  }
 },
 "nbformat": 4,
 "nbformat_minor": 0
}
