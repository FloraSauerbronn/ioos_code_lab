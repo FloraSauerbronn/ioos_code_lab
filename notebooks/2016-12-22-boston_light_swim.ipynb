{
 "cells": [
  {
   "cell_type": "markdown",
   "metadata": {},
   "source": [
    "# The Boston Light Swim temperature analysis with Python\n",
    "\n",
    "In the past we demonstrated how to perform a CSW catalog search with [`OWSLib`](https://ioos.github.io/notebooks_demos//notebooks/2016-12-19-exploring_csw),\n",
    "and how to obtain near real-time data with [`pyoos`](https://ioos.github.io/notebooks_demos//notebooks/2016-10-12-fetching_data).\n",
    "In this notebook we will use both to find all observations and model data around the Boston Harbor to access the sea water temperature.\n",
    "\n",
    "\n",
    "This workflow is part of an example to advise swimmers of the annual [Boston lighthouse swim](http://bostonlightswim.org/) of the Boston Harbor water temperature conditions prior to the race. For more information regarding the workflow presented here see [Signell, Richard P.; Fernandes, Filipe; Wilcox, Kyle.   2016. \"Dynamic Reusable Workflows for Ocean Science.\" *J. Mar. Sci. Eng.* 4, no. 4: 68](http://dx.doi.org/10.3390/jmse4040068).\n",
    "\n",
    "(This notebook uses a custom `ioos_tools` module that needs to be added to the path separately. We recommend cloning the [repository](https://github.com/ioos/notebooks_demos) on GitHub which already includes the most update version of `ioos_tools`.)"
   ]
  },
  {
   "cell_type": "code",
   "execution_count": 1,
   "metadata": {
    "collapsed": true
   },
   "outputs": [],
   "source": [
    "import os\n",
    "import sys\n",
    "import warnings\n",
    "\n",
    "ioos_tools = os.path.join(os.path.pardir)\n",
    "sys.path.append(ioos_tools)\n",
    "\n",
    "# Suppresing warnings for a \"pretty output.\"\n",
    "warnings.simplefilter('ignore')"
   ]
  },
  {
   "cell_type": "markdown",
   "metadata": {},
   "source": [
    "This notebook is quite big and complex,\n",
    "so to help us keep things organized we'll define a cell with the most important options and switches.\n",
    "\n",
    "Below we can define the date,\n",
    "bounding box, phenomena `SOS` and `CF` names and units,\n",
    "and the catalogs we will search."
   ]
  },
  {
   "cell_type": "code",
   "execution_count": 2,
   "metadata": {},
   "outputs": [
    {
     "name": "stdout",
     "output_type": "stream",
     "text": [
      "Writing config.yaml\n"
     ]
    }
   ],
   "source": [
    "%%writefile config.yaml\n",
    "\n",
    "# Specify a YYYY-MM-DD hh:mm:ss date or integer day offset.\n",
    "# If both start and stop are offsets they will be computed relative to datetime.today() at midnight.\n",
    "# Use the dates commented below to reproduce the last Boston Light Swim event forecast.\n",
    "date:\n",
    "    start: -5 # 2016-8-16 00:00:00\n",
    "    stop: +4 # 2016-8-29 00:00:00\n",
    "\n",
    "run_name: 'latest'\n",
    "\n",
    "# Boston harbor.\n",
    "region:\n",
    "    bbox: [-71.3, 42.03, -70.57, 42.63]\n",
    "    crs: 'urn:ogc:def:crs:OGC:1.3:CRS84'\n",
    "\n",
    "sos_name: 'sea_water_temperature'\n",
    "\n",
    "cf_names:\n",
    "    - sea_water_temperature\n",
    "    - sea_surface_temperature\n",
    "    - sea_water_potential_temperature\n",
    "    - equivalent_potential_temperature\n",
    "    - sea_water_conservative_temperature\n",
    "    - pseudo_equivalent_potential_temperature\n",
    "\n",
    "units: 'celsius'\n",
    "\n",
    "catalogs:\n",
    "    - https://data.ioos.us/csw\n",
    "    - http://gamone.whoi.edu/csw"
   ]
  },
  {
   "cell_type": "markdown",
   "metadata": {},
   "source": [
    "We'll print some of the search configuration options along the way to keep track of them."
   ]
  },
  {
   "cell_type": "code",
   "execution_count": 3,
   "metadata": {},
   "outputs": [
    {
     "name": "stdout",
     "output_type": "stream",
     "text": [
      "Saving data inside directory /home/filipe/IOOS/notebooks_demos/notebooks/latest\n",
      "*********************** Run information ************************\n",
      "Run date: 2017-05-04 18:00:55\n",
      "Start: 2017-04-29 00:00:00\n",
      "Stop: 2017-05-08 00:00:00\n",
      "Bounding box: -71.30, 42.03,-70.57, 42.63\n"
     ]
    }
   ],
   "source": [
    "import shutil\n",
    "from datetime import datetime\n",
    "from ioos_tools.ioos import parse_config\n",
    "\n",
    "config = parse_config('config.yaml')\n",
    "\n",
    "# Saves downloaded data into a temporary directory.\n",
    "save_dir = os.path.abspath(config['run_name'])\n",
    "if os.path.exists(save_dir):\n",
    "    shutil.rmtree(save_dir)\n",
    "os.makedirs(save_dir)\n",
    "\n",
    "fmt = '{:*^64}'.format\n",
    "print(fmt('Saving data inside directory {}'.format(save_dir)))\n",
    "print(fmt(' Run information '))\n",
    "print('Run date: {:%Y-%m-%d %H:%M:%S}'.format(datetime.utcnow()))\n",
    "print('Start: {:%Y-%m-%d %H:%M:%S}'.format(config['date']['start']))\n",
    "print('Stop: {:%Y-%m-%d %H:%M:%S}'.format(config['date']['stop']))\n",
    "print('Bounding box: {0:3.2f}, {1:3.2f},'\n",
    "      '{2:3.2f}, {3:3.2f}'.format(*config['region']['bbox']))"
   ]
  },
  {
   "cell_type": "markdown",
   "metadata": {},
   "source": [
    "We already created an `OWSLib.fes` filter [before](https://ioos.github.io/notebooks_demos//notebooks/2016-12-19-exploring_csw).\n",
    "The main difference here is that we do not want the atmosphere model data,\n",
    "so we are filtering out all the `GRIB-2` data format."
   ]
  },
  {
   "cell_type": "code",
   "execution_count": 4,
   "metadata": {
    "collapsed": true
   },
   "outputs": [],
   "source": [
    "def make_filter(config):\n",
    "    from owslib import fes\n",
    "    from ioos_tools.ioos import fes_date_filter\n",
    "    kw = dict(wildCard='*', escapeChar='\\\\',\n",
    "              singleChar='?', propertyname='apiso:AnyText')\n",
    "\n",
    "    or_filt = fes.Or([fes.PropertyIsLike(literal=('*%s*' % val), **kw)\n",
    "                      for val in config['cf_names']])\n",
    "\n",
    "    not_filt = fes.Not([fes.PropertyIsLike(literal='GRIB-2', **kw)])\n",
    "\n",
    "    begin, end = fes_date_filter(config['date']['start'],\n",
    "                                 config['date']['stop'])\n",
    "    bbox_crs = fes.BBox(config['region']['bbox'],\n",
    "                        crs=config['region']['crs'])\n",
    "    filter_list = [fes.And([bbox_crs, begin, end, or_filt, not_filt])]\n",
    "    return filter_list\n",
    "\n",
    "\n",
    "filter_list = make_filter(config)"
   ]
  },
  {
   "cell_type": "markdown",
   "metadata": {},
   "source": [
    "In the cell below we ask the catalog for all the returns that match the filter and have an OPeNDAP endpoint."
   ]
  },
  {
   "cell_type": "code",
   "execution_count": 5,
   "metadata": {
    "code_folding": [],
    "scrolled": false
   },
   "outputs": [
    {
     "name": "stdout",
     "output_type": "stream",
     "text": [
      "********************* Catalog information **********************\n",
      "URL: https://data.ioos.us/csw\n",
      "Number of datasets available: 34\n",
      "NOAA/NCEP Global Forecast System (GFS) Atmospheric Model\n",
      "ROMS ESPRESSO Real-Time Operational IS4DVAR Forecast System Version 2 (NEW) 2013-present FMRC Averages\n",
      "ROMS ESPRESSO Real-Time Operational IS4DVAR Forecast System Version 2 (NEW) 2013-present FMRC History\n",
      "urn:ioos:station:NOAA.NOS.CO-OPS:8443970 station, Boston, MA\n",
      "COAWST Modeling System: USEast: ROMS-WRF-SWAN coupled model (aka CNAPS)\n",
      "Coupled Northwest Atlantic Prediction System (CNAPS)\n",
      "Directional wave and sea surface temperature measurements collected in situ by Datawell Mark 3 directional buoy located near ASTORIA CANYON, OR from 2016/03/30 17:00:00 to 2017/04/30 18:01:37.\n",
      "Directional wave and sea surface temperature measurements collected in situ by Datawell Mark 3 directional buoy located near ASTORIA CANYON, OR from 2016/03/30 17:00:00 to 2017/05/02 18:01:30.\n",
      "Directional wave and sea surface temperature measurements collected in situ by Datawell Mark 3 directional buoy located near CLATSOP SPIT, OR from 2016/10/12 17:00:00 to 2017/04/30 18:13:18.\n",
      "Directional wave and sea surface temperature measurements collected in situ by Datawell Mark 3 directional buoy located near CLATSOP SPIT, OR from 2016/10/12 17:00:00 to 2017/05/02 18:01:34.\n",
      "Directional wave and sea surface temperature measurements collected in situ by Datawell Mark 3 directional buoy located near GRAYS HARBOR, WA from 2016/03/16 22:00:00 to 2017/04/30 17:54:34.\n",
      "Directional wave and sea surface temperature measurements collected in situ by Datawell Mark 3 directional buoy located near GRAYS HARBOR, WA from 2016/03/16 22:00:00 to 2017/05/02 17:53:39.\n",
      "Directional wave and sea surface temperature measurements collected in situ by Datawell Mark 3 directional buoy located near LOWER COOK INLET, AK from 2016/12/16 00:00:00 to 2017/04/30 18:09:42.\n",
      "Directional wave and sea surface temperature measurements collected in situ by Datawell Mark 3 directional buoy located near LOWER COOK INLET, AK from 2016/12/16 00:00:00 to 2017/05/02 18:09:49.\n",
      "Directional wave and sea surface temperature measurements collected in situ by Datawell Mark 3 directional buoy located near OCEAN STATION PAPA from 2015/01/01 01:00:00 to 2017/04/30 16:03:54.\n",
      "Directional wave and sea surface temperature measurements collected in situ by Datawell Mark 3 directional buoy located near OCEAN STATION PAPA from 2015/01/01 01:00:00 to 2017/05/02 16:00:40.\n",
      "Directional wave and sea surface temperature measurements collected in situ by Datawell Mark 3 directional buoy located near SCRIPPS NEARSHORE, CA from 2015/01/07 23:00:00 to 2017/04/30 18:00:37.\n",
      "Directional wave and sea surface temperature measurements collected in situ by Datawell Mark 3 directional buoy located near SCRIPPS NEARSHORE, CA from 2015/01/07 23:00:00 to 2017/05/02 18:00:51.\n",
      "G1SST, 1km blended SST\n",
      "HYbrid Coordinate Ocean Model (HYCOM): Global\n",
      "NECOFS (FVCOM) - Scituate - Latest Forecast\n",
      "NECOFS GOM3 (FVCOM) - Northeast US - Latest Forecast\n",
      "NECOFS Massachusetts (FVCOM) - Boston - Latest Forecast\n",
      "NECOFS Massachusetts (FVCOM) - Massachusetts Coastal - Latest Forecast\n",
      "NERACOOS Gulf of Maine Ocean Array: Realtime Buoy Observations: A01 Massachusetts Bay: A01 ACCELEROMETER Massachusetts Bay\n",
      "NERACOOS Gulf of Maine Ocean Array: Realtime Buoy Observations: A01 Massachusetts Bay: A01 CTD1m Massachusetts Bay\n",
      "NERACOOS Gulf of Maine Ocean Array: Realtime Buoy Observations: A01 Massachusetts Bay: A01 CTD1m Massachusetts Bay\n",
      "NERACOOS Gulf of Maine Ocean Array: Realtime Buoy Observations: A01 Massachusetts Bay: A01 CTD20m Massachusetts Bay\n",
      "NERACOOS Gulf of Maine Ocean Array: Realtime Buoy Observations: A01 Massachusetts Bay: A01 CTD20m Massachusetts Bay\n",
      "NERACOOS Gulf of Maine Ocean Array: Realtime Buoy Observations: A01 Massachusetts Bay: A01 MET Massachusetts Bay\n",
      "NERACOOS Gulf of Maine Ocean Array: Realtime Buoy Observations: A01 Massachusetts Bay: A01 MET Massachusetts Bay\n",
      "NERACOOS Gulf of Maine Ocean Array: Realtime Buoy Observations: A01 Massachusetts Bay: A01 OPTICS3m Massachusetts Bay\n",
      "NERACOOS Gulf of Maine Ocean Array: Realtime Buoy Observations: A01 Massachusetts Bay: A01 OPTICS3m Massachusetts Bay\n",
      "NERACOOS Gulf of Maine Ocean Array: Realtime Buoy Observations: A01 Massachusetts Bay: A01 OPTODE51m Massachusetts Bay\n",
      "***************************** DAP ******************************\n",
      "http://oos.soest.hawaii.edu/thredds/dodsC/hioos/model/atm/ncep_global/NCEP_Global_Atmospheric_Model_best.ncd.html\n",
      "http://oos.soest.hawaii.edu/thredds/dodsC/pacioos/hycom/global.html\n",
      "http://tds.marine.rutgers.edu/thredds/dodsC/roms/espresso/2013_da/avg/ESPRESSO_Real-Time_v2_Averages_Best.html\n",
      "http://tds.marine.rutgers.edu/thredds/dodsC/roms/espresso/2013_da/his/ESPRESSO_Real-Time_v2_History_Best.html\n",
      "http://thredds.cdip.ucsd.edu/thredds/dodsC/cdip/realtime/036p1_rt.nc.html\n",
      "http://thredds.cdip.ucsd.edu/thredds/dodsC/cdip/realtime/162p1_rt.nc.html\n",
      "http://thredds.cdip.ucsd.edu/thredds/dodsC/cdip/realtime/166p1_rt.nc.html\n",
      "http://thredds.cdip.ucsd.edu/thredds/dodsC/cdip/realtime/179p1_rt.nc.html\n",
      "http://thredds.cdip.ucsd.edu/thredds/dodsC/cdip/realtime/201p1_rt.nc.html\n",
      "http://thredds.cdip.ucsd.edu/thredds/dodsC/cdip/realtime/204p1_rt.nc.html\n",
      "http://thredds.secoora.org/thredds/dodsC/G1_SST_GLOBAL.nc.html\n",
      "http://thredds.secoora.org/thredds/dodsC/SECOORA_NCSU_CNAPS.nc.html\n",
      "http://www.neracoos.org/thredds/dodsC/UMO/DSG/SOS/A01/Accelerometer/HistoricRealtime/Agg.ncml.html\n",
      "http://www.neracoos.org/thredds/dodsC/UMO/DSG/SOS/A01/CTD1m/HistoricRealtime/Agg.ncml.html\n",
      "http://www.neracoos.org/thredds/dodsC/UMO/DSG/SOS/A01/CTD20m/HistoricRealtime/Agg.ncml.html\n",
      "http://www.neracoos.org/thredds/dodsC/UMO/DSG/SOS/A01/Met/HistoricRealtime/Agg.ncml.html\n",
      "http://www.neracoos.org/thredds/dodsC/UMO/DSG/SOS/A01/OPTICS_S3m/HistoricRealtime/Agg.ncml.html\n",
      "http://www.neracoos.org/thredds/dodsC/UMO/DSG/SOS/A01/OPTODE51m/HistoricRealtime/Agg.ncml.html\n",
      "http://www.neracoos.org/thredds/dodsC/UMO/Realtime/SOS/A01/CTD1m/Realtime.ncml.html\n",
      "http://www.neracoos.org/thredds/dodsC/UMO/Realtime/SOS/A01/CTD20m/Realtime.ncml.html\n",
      "http://www.neracoos.org/thredds/dodsC/UMO/Realtime/SOS/A01/Met/Realtime.ncml.html\n",
      "http://www.neracoos.org/thredds/dodsC/UMO/Realtime/SOS/A01/OPTICS_S3m/Realtime.ncml.html\n",
      "http://www.smast.umassd.edu:8080/thredds/dodsC/FVCOM/NECOFS/Forecasts/NECOFS_FVCOM_OCEAN_BOSTON_FORECAST.nc.html\n",
      "http://www.smast.umassd.edu:8080/thredds/dodsC/FVCOM/NECOFS/Forecasts/NECOFS_FVCOM_OCEAN_MASSBAY_FORECAST.nc.html\n",
      "http://www.smast.umassd.edu:8080/thredds/dodsC/FVCOM/NECOFS/Forecasts/NECOFS_FVCOM_OCEAN_SCITUATE_FORECAST.nc.html\n",
      "http://www.smast.umassd.edu:8080/thredds/dodsC/FVCOM/NECOFS/Forecasts/NECOFS_GOM3_FORECAST.nc.html\n",
      "\n",
      "\n",
      "URL: http://gamone.whoi.edu/csw\n",
      "HTTPConnectionPool(host='gamone.whoi.edu', port=80): Max retries exceeded with url: /csw?service=CSW&version=2.0.2&request=GetCapabilities (Caused by NewConnectionError('<requests.packages.urllib3.connection.HTTPConnection object at 0x7f461564a630>: Failed to establish a new connection: [Errno 111] Connection refused',))\n"
     ]
    }
   ],
   "source": [
    "from ioos_tools.ioos import service_urls, get_csw_records\n",
    "from owslib.csw import CatalogueServiceWeb\n",
    "\n",
    "\n",
    "dap_urls = []\n",
    "print(fmt(' Catalog information '))\n",
    "for endpoint in config['catalogs']:\n",
    "    print('URL: {}'.format(endpoint))\n",
    "    try:\n",
    "        csw = CatalogueServiceWeb(endpoint, timeout=120)\n",
    "    except Exception as e:\n",
    "        print('{}'.format(e))\n",
    "        continue\n",
    "    csw = get_csw_records(csw, filter_list, esn='full')\n",
    "    OPeNDAP = service_urls(csw.records, identifier='OPeNDAP:OPeNDAP')\n",
    "    odp = service_urls(csw.records, identifier='urn:x-esri:specification:ServiceType:odp:url')\n",
    "    dap = OPeNDAP + odp\n",
    "    dap_urls.extend(dap)\n",
    "\n",
    "    print('Number of datasets available: {}'.format(len(csw.records.keys())))\n",
    "\n",
    "    for rec, item in csw.records.items():\n",
    "        print('{}'.format(item.title))\n",
    "    if dap:\n",
    "        print(fmt(' DAP '))\n",
    "        for url in dap:\n",
    "            print('{}.html'.format(url))\n",
    "    print('\\n')\n",
    "\n",
    "# Get only unique endpoints.\n",
    "dap_urls = list(set(dap_urls))"
   ]
  },
  {
   "cell_type": "markdown",
   "metadata": {},
   "source": [
    "We found some models, and observations from NERACOOS there.\n",
    "However, we do know that there are some buoys from NDBC and CO-OPS available too.\n",
    "Also, those NERACOOS observations seem to be from a [CTD](http://www.neracoos.org/thredds/dodsC/UMO/DSG/SOS/A01/CTD1m/HistoricRealtime/Agg.ncml.html) mounted at 65 meters below the sea surface. Rendering them useless from our purpose.\n",
    "\n",
    "So let's use the catalog only for the models by filtering the observations with `is_station` below.\n",
    "And we'll rely `CO-OPS` and `NDBC` services for the observations."
   ]
  },
  {
   "cell_type": "code",
   "execution_count": 6,
   "metadata": {},
   "outputs": [
    {
     "name": "stdout",
     "output_type": "stream",
     "text": [
      "************************* Filtered DAP *************************\n",
      "http://www.smast.umassd.edu:8080/thredds/dodsC/FVCOM/NECOFS/Forecasts/NECOFS_FVCOM_OCEAN_SCITUATE_FORECAST.nc.html\n",
      "http://www.smast.umassd.edu:8080/thredds/dodsC/FVCOM/NECOFS/Forecasts/NECOFS_GOM3_FORECAST.nc.html\n",
      "http://oos.soest.hawaii.edu/thredds/dodsC/pacioos/hycom/global.html\n",
      "http://tds.marine.rutgers.edu/thredds/dodsC/roms/espresso/2013_da/his/ESPRESSO_Real-Time_v2_History_Best.html\n",
      "http://oos.soest.hawaii.edu/thredds/dodsC/hioos/model/atm/ncep_global/NCEP_Global_Atmospheric_Model_best.ncd.html\n",
      "http://tds.marine.rutgers.edu/thredds/dodsC/roms/espresso/2013_da/avg/ESPRESSO_Real-Time_v2_Averages_Best.html\n",
      "http://www.smast.umassd.edu:8080/thredds/dodsC/FVCOM/NECOFS/Forecasts/NECOFS_FVCOM_OCEAN_MASSBAY_FORECAST.nc.html\n",
      "http://thredds.secoora.org/thredds/dodsC/G1_SST_GLOBAL.nc.html\n",
      "http://www.smast.umassd.edu:8080/thredds/dodsC/FVCOM/NECOFS/Forecasts/NECOFS_FVCOM_OCEAN_BOSTON_FORECAST.nc.html\n",
      "http://thredds.secoora.org/thredds/dodsC/SECOORA_NCSU_CNAPS.nc.html\n"
     ]
    }
   ],
   "source": [
    "from ioos_tools.ioos import is_station\n",
    "\n",
    "# Filter out some station endpoints.\n",
    "non_stations = []\n",
    "for url in dap_urls:\n",
    "    try:\n",
    "        if not is_station(url):\n",
    "            non_stations.append(url)\n",
    "    except (RuntimeError, OSError, IOError) as e:\n",
    "        print('Could not access URL {}. {!r}'.format(url, e))\n",
    "\n",
    "dap_urls = non_stations\n",
    "\n",
    "print(fmt(' Filtered DAP '))\n",
    "for url in dap_urls:\n",
    "    print('{}.html'.format(url))"
   ]
  },
  {
   "cell_type": "markdown",
   "metadata": {},
   "source": [
    "Now we can use `pyoos` collectors for `NdbcSos`,"
   ]
  },
  {
   "cell_type": "code",
   "execution_count": 7,
   "metadata": {},
   "outputs": [
    {
     "name": "stdout",
     "output_type": "stream",
     "text": [
      "******************* NDBC Collector offerings *******************\n",
      "National Data Buoy Center SOS: 985 offerings\n"
     ]
    }
   ],
   "source": [
    "from pyoos.collectors.ndbc.ndbc_sos import NdbcSos\n",
    "\n",
    "collector_ndbc = NdbcSos()\n",
    "\n",
    "collector_ndbc.set_bbox(config['region']['bbox'])\n",
    "collector_ndbc.end_time = config['date']['stop']\n",
    "collector_ndbc.start_time = config['date']['start']\n",
    "collector_ndbc.variables = [config['sos_name']]\n",
    "\n",
    "ofrs = collector_ndbc.server.offerings\n",
    "title = collector_ndbc.server.identification.title\n",
    "print(fmt(' NDBC Collector offerings '))\n",
    "print('{}: {} offerings'.format(title, len(ofrs)))"
   ]
  },
  {
   "cell_type": "code",
   "execution_count": 8,
   "metadata": {},
   "outputs": [
    {
     "data": {
      "text/html": [
       "<div>\n",
       "<table border=\"1\" class=\"dataframe\">\n",
       "  <thead>\n",
       "    <tr style=\"text-align: right;\">\n",
       "      <th></th>\n",
       "      <th>depth</th>\n",
       "      <th>lat</th>\n",
       "      <th>lon</th>\n",
       "      <th>sensor</th>\n",
       "      <th>station_name</th>\n",
       "    </tr>\n",
       "    <tr>\n",
       "      <th>station_code</th>\n",
       "      <th></th>\n",
       "      <th></th>\n",
       "      <th></th>\n",
       "      <th></th>\n",
       "      <th></th>\n",
       "    </tr>\n",
       "  </thead>\n",
       "  <tbody>\n",
       "    <tr>\n",
       "      <th>44013</th>\n",
       "      <td>0.6</td>\n",
       "      <td>42.346</td>\n",
       "      <td>-70.651</td>\n",
       "      <td>urn:ioos:sensor:wmo:44013::watertemp1</td>\n",
       "      <td>BOSTON 16 NM East of Boston, MA</td>\n",
       "    </tr>\n",
       "  </tbody>\n",
       "</table>\n",
       "</div>"
      ],
      "text/plain": [
       "              depth     lat     lon                                 sensor  \\\n",
       "station_code                                                                 \n",
       "44013           0.6  42.346 -70.651  urn:ioos:sensor:wmo:44013::watertemp1   \n",
       "\n",
       "                                 station_name  \n",
       "station_code                                   \n",
       "44013         BOSTON 16 NM East of Boston, MA  "
      ]
     },
     "execution_count": 8,
     "metadata": {},
     "output_type": "execute_result"
    }
   ],
   "source": [
    "import pandas as pd\n",
    "from ioos_tools.ioos import collector2table\n",
    "\n",
    "ndbc = collector2table(collector=collector_ndbc,\n",
    "                       config=config,\n",
    "                       col='sea_water_temperature (C)')\n",
    "\n",
    "if ndbc:\n",
    "    data = dict(\n",
    "        station_name=[s._metadata.get('station_name') for s in ndbc],\n",
    "        station_code=[s._metadata.get('station_code') for s in ndbc],\n",
    "        sensor=[s._metadata.get('sensor') for s in ndbc],\n",
    "        lon=[s._metadata.get('lon') for s in ndbc],\n",
    "        lat=[s._metadata.get('lat') for s in ndbc],\n",
    "        depth=[s._metadata.get('depth') for s in ndbc],\n",
    "    )\n",
    "\n",
    "table = pd.DataFrame(data).set_index('station_code')\n",
    "table"
   ]
  },
  {
   "cell_type": "markdown",
   "metadata": {},
   "source": [
    "and `CoopsSos`."
   ]
  },
  {
   "cell_type": "code",
   "execution_count": 9,
   "metadata": {},
   "outputs": [
    {
     "name": "stdout",
     "output_type": "stream",
     "text": [
      "********************* Collector offerings **********************\n",
      "NOAA.NOS.CO-OPS SOS: 1146 offerings\n"
     ]
    }
   ],
   "source": [
    "from pyoos.collectors.coops.coops_sos import CoopsSos\n",
    "\n",
    "collector_coops = CoopsSos()\n",
    "\n",
    "collector_coops.set_bbox(config['region']['bbox'])\n",
    "collector_coops.end_time = config['date']['stop']\n",
    "collector_coops.start_time = config['date']['start']\n",
    "collector_coops.variables = [config['sos_name']]\n",
    "\n",
    "ofrs = collector_coops.server.offerings\n",
    "title = collector_coops.server.identification.title\n",
    "print(fmt(' Collector offerings '))\n",
    "print('{}: {} offerings'.format(title, len(ofrs)))"
   ]
  },
  {
   "cell_type": "code",
   "execution_count": 10,
   "metadata": {
    "scrolled": true
   },
   "outputs": [
    {
     "data": {
      "text/html": [
       "<div>\n",
       "<table border=\"1\" class=\"dataframe\">\n",
       "  <thead>\n",
       "    <tr style=\"text-align: right;\">\n",
       "      <th></th>\n",
       "      <th>depth</th>\n",
       "      <th>lat</th>\n",
       "      <th>lon</th>\n",
       "      <th>sensor</th>\n",
       "      <th>station_name</th>\n",
       "    </tr>\n",
       "    <tr>\n",
       "      <th>station_code</th>\n",
       "      <th></th>\n",
       "      <th></th>\n",
       "      <th></th>\n",
       "      <th></th>\n",
       "      <th></th>\n",
       "    </tr>\n",
       "  </thead>\n",
       "  <tbody>\n",
       "    <tr>\n",
       "      <th>8443970</th>\n",
       "      <td>None</td>\n",
       "      <td>42.3548</td>\n",
       "      <td>-71.0534</td>\n",
       "      <td>urn:ioos:sensor:NOAA.NOS.CO-OPS:8443970:E1</td>\n",
       "      <td>Boston, MA</td>\n",
       "    </tr>\n",
       "  </tbody>\n",
       "</table>\n",
       "</div>"
      ],
      "text/plain": [
       "             depth      lat      lon  \\\n",
       "station_code                           \n",
       "8443970       None  42.3548 -71.0534   \n",
       "\n",
       "                                                  sensor station_name  \n",
       "station_code                                                           \n",
       "8443970       urn:ioos:sensor:NOAA.NOS.CO-OPS:8443970:E1   Boston, MA  "
      ]
     },
     "execution_count": 10,
     "metadata": {},
     "output_type": "execute_result"
    }
   ],
   "source": [
    "coops = collector2table(collector=collector_coops,\n",
    "                        config=config,\n",
    "                        col='sea_water_temperature (C)')\n",
    "\n",
    "if coops:\n",
    "    data = dict(\n",
    "        station_name=[s._metadata.get('station_name') for s in coops],\n",
    "        station_code=[s._metadata.get('station_code') for s in coops],\n",
    "        sensor=[s._metadata.get('sensor') for s in coops],\n",
    "        lon=[s._metadata.get('lon') for s in coops],\n",
    "        lat=[s._metadata.get('lat') for s in coops],\n",
    "        depth=[s._metadata.get('depth') for s in coops],\n",
    "    )\n",
    "\n",
    "table = pd.DataFrame(data).set_index('station_code')\n",
    "table"
   ]
  },
  {
   "cell_type": "markdown",
   "metadata": {},
   "source": [
    "We will join all the observations into an uniform series, interpolated to 1-hour interval, for the model-data comparison.\n",
    "\n",
    "This step is necessary because the observations can be 7 or 10 minutes resolution,\n",
    "while the models can be 30 to 60 minutes."
   ]
  },
  {
   "cell_type": "code",
   "execution_count": 11,
   "metadata": {
    "collapsed": true,
    "scrolled": true
   },
   "outputs": [],
   "source": [
    "data = ndbc + coops\n",
    "\n",
    "index = pd.date_range(start=config['date']['start'].replace(tzinfo=None),\n",
    "                      end=config['date']['stop'].replace(tzinfo=None),\n",
    "                      freq='1H')\n",
    "\n",
    "# Preserve metadata with `reindex`.\n",
    "observations = []\n",
    "for series in data:\n",
    "    _metadata = series._metadata\n",
    "    obs = series.reindex(index=index, limit=1, method='nearest')\n",
    "    obs._metadata = _metadata\n",
    "    observations.append(obs)"
   ]
  },
  {
   "cell_type": "markdown",
   "metadata": {},
   "source": [
    "In this next cell we will save the data for quicker access later."
   ]
  },
  {
   "cell_type": "code",
   "execution_count": 12,
   "metadata": {
    "collapsed": true,
    "scrolled": false
   },
   "outputs": [],
   "source": [
    "import iris\n",
    "from ioos_tools.tardis import series2cube\n",
    "\n",
    "attr = dict(\n",
    "    featureType='timeSeries',\n",
    "    Conventions='CF-1.6',\n",
    "    standard_name_vocabulary='CF-1.6',\n",
    "    cdm_data_type='Station',\n",
    "    comment='Data from http://opendap.co-ops.nos.noaa.gov'\n",
    ")\n",
    "\n",
    "\n",
    "cubes = iris.cube.CubeList(\n",
    "    [series2cube(obs, attr=attr) for obs in observations]\n",
    ")\n",
    "\n",
    "outfile = os.path.join(save_dir, 'OBS_DATA.nc')\n",
    "iris.save(cubes, outfile)"
   ]
  },
  {
   "cell_type": "markdown",
   "metadata": {},
   "source": [
    "Now it is time to loop the models we found above,"
   ]
  },
  {
   "cell_type": "code",
   "execution_count": 13,
   "metadata": {},
   "outputs": [
    {
     "name": "stdout",
     "output_type": "stream",
     "text": [
      "**************************** Models ****************************\n",
      "\n",
      "[Reading url 1/10]: http://www.smast.umassd.edu:8080/thredds/dodsC/FVCOM/NECOFS/Forecasts/NECOFS_FVCOM_OCEAN_SCITUATE_FORECAST.nc\n",
      "\n",
      "[Reading url 2/10]: http://www.smast.umassd.edu:8080/thredds/dodsC/FVCOM/NECOFS/Forecasts/NECOFS_GOM3_FORECAST.nc\n",
      "\n",
      "[Reading url 3/10]: http://oos.soest.hawaii.edu/thredds/dodsC/pacioos/hycom/global\n",
      "\n",
      "[Reading url 4/10]: http://tds.marine.rutgers.edu/thredds/dodsC/roms/espresso/2013_da/his/ESPRESSO_Real-Time_v2_History_Best\n",
      "\n",
      "[Reading url 5/10]: http://oos.soest.hawaii.edu/thredds/dodsC/hioos/model/atm/ncep_global/NCEP_Global_Atmospheric_Model_best.ncd\n",
      "Cannot get cube for: http://oos.soest.hawaii.edu/thredds/dodsC/hioos/model/atm/ncep_global/NCEP_Global_Atmospheric_Model_best.ncd\n",
      "Cannot find ['sea_water_temperature', 'sea_surface_temperature', 'sea_water_potential_temperature', 'equivalent_potential_temperature', 'sea_water_conservative_temperature', 'pseudo_equivalent_potential_temperature'] in http://oos.soest.hawaii.edu/thredds/dodsC/hioos/model/atm/ncep_global/NCEP_Global_Atmospheric_Model_best.ncd.\n",
      "\n",
      "[Reading url 6/10]: http://tds.marine.rutgers.edu/thredds/dodsC/roms/espresso/2013_da/avg/ESPRESSO_Real-Time_v2_Averages_Best\n",
      "\n",
      "[Reading url 7/10]: http://www.smast.umassd.edu:8080/thredds/dodsC/FVCOM/NECOFS/Forecasts/NECOFS_FVCOM_OCEAN_MASSBAY_FORECAST.nc\n",
      "\n",
      "[Reading url 8/10]: http://thredds.secoora.org/thredds/dodsC/G1_SST_GLOBAL.nc\n",
      "\n",
      "[Reading url 9/10]: http://www.smast.umassd.edu:8080/thredds/dodsC/FVCOM/NECOFS/Forecasts/NECOFS_FVCOM_OCEAN_BOSTON_FORECAST.nc\n",
      "\n",
      "[Reading url 10/10]: http://thredds.secoora.org/thredds/dodsC/SECOORA_NCSU_CNAPS.nc\n"
     ]
    }
   ],
   "source": [
    "from iris.exceptions import (CoordinateNotFoundError, ConstraintMismatchError,\n",
    "                             MergeError)\n",
    "from ioos_tools.ioos import get_model_name\n",
    "from ioos_tools.tardis import quick_load_cubes, proc_cube, is_model, get_surface\n",
    "\n",
    "print(fmt(' Models '))\n",
    "cubes = dict()\n",
    "for k, url in enumerate(dap_urls):\n",
    "    print('\\n[Reading url {}/{}]: {}'.format(k+1, len(dap_urls), url))\n",
    "    try:\n",
    "        cube = quick_load_cubes(url, config['cf_names'],\n",
    "                                callback=None, strict=True)\n",
    "        if is_model(cube):\n",
    "            cube = proc_cube(cube,\n",
    "                             bbox=config['region']['bbox'],\n",
    "                             time=(config['date']['start'],\n",
    "                                   config['date']['stop']),\n",
    "                             units=config['units'])\n",
    "        else:\n",
    "            print('[Not model data]: {}'.format(url))\n",
    "            continue\n",
    "        cube = get_surface(cube)\n",
    "        mod_name = get_model_name(url)\n",
    "        cubes.update({mod_name: cube})\n",
    "    except (RuntimeError, ValueError,\n",
    "            ConstraintMismatchError, CoordinateNotFoundError,\n",
    "            IndexError) as e:\n",
    "        print('Cannot get cube for: {}\\n{}'.format(url, e))"
   ]
  },
  {
   "cell_type": "markdown",
   "metadata": {},
   "source": [
    "Next, we will match them with the nearest observed time-series. The `max_dist=0.08` is in degrees, that is roughly 8 kilometers."
   ]
  },
  {
   "cell_type": "code",
   "execution_count": 14,
   "metadata": {},
   "outputs": [
    {
     "name": "stdout",
     "output_type": "stream",
     "text": [
      " Downloading to file /home/filipe/IOOS/notebooks_demos/notebooks/latest/Forecasts-NECOFS_FVCOM_OCEAN_SCITUATE_FORECAST.nc \n",
      "[No Data] BOSTON 16 NM East of Boston, MA\n",
      "[No Data] Boston, MA\n",
      "Finished processing [Forecasts-NECOFS_FVCOM_OCEAN_SCITUATE_FORECAST]\n",
      " Downloading to file /home/filipe/IOOS/notebooks_demos/notebooks/latest/FVCOM_Forecasts-NECOFS_GOM3_FORECAST.nc \n",
      "[Water  ] BOSTON 16 NM East of Boston, MA\n",
      "[Water  ] Boston, MA\n",
      "Finished processing [FVCOM_Forecasts-NECOFS_GOM3_FORECAST]\n",
      " Downloading to file /home/filipe/IOOS/notebooks_demos/notebooks/latest/pacioos_hycom-global.nc \n",
      "[Water  ] BOSTON 16 NM East of Boston, MA\n",
      "[Land   ] Boston, MA\n",
      "Finished processing [pacioos_hycom-global]\n",
      " Downloading to file /home/filipe/IOOS/notebooks_demos/notebooks/latest/roms_2013_da-ESPRESSO_Real-Time_v2_History_Best.nc \n",
      "[Land   ] BOSTON 16 NM East of Boston, MA\n",
      "[Land   ] Boston, MA\n",
      "Finished processing [roms_2013_da-ESPRESSO_Real-Time_v2_History_Best]\n",
      " Downloading to file /home/filipe/IOOS/notebooks_demos/notebooks/latest/roms_2013_da_avg-ESPRESSO_Real-Time_v2_Averages_Best.nc \n",
      "[Land   ] BOSTON 16 NM East of Boston, MA\n",
      "[Land   ] Boston, MA\n",
      "Finished processing [roms_2013_da_avg-ESPRESSO_Real-Time_v2_Averages_Best]\n",
      " Downloading to file /home/filipe/IOOS/notebooks_demos/notebooks/latest/Forecasts-NECOFS_FVCOM_OCEAN_MASSBAY_FORECAST.nc \n",
      "[Water  ] BOSTON 16 NM East of Boston, MA\n",
      "[Water  ] Boston, MA\n",
      "Finished processing [Forecasts-NECOFS_FVCOM_OCEAN_MASSBAY_FORECAST]\n",
      " Downloading to file /home/filipe/IOOS/notebooks_demos/notebooks/latest/G1_SST_GLOBAL.nc \n",
      "[Water  ] BOSTON 16 NM East of Boston, MA\n",
      "[Water  ] Boston, MA\n",
      "Finished processing [G1_SST_GLOBAL]\n",
      " Downloading to file /home/filipe/IOOS/notebooks_demos/notebooks/latest/Forecasts-NECOFS_FVCOM_OCEAN_BOSTON_FORECAST.nc \n",
      "[No Data] BOSTON 16 NM East of Boston, MA\n",
      "[Land   ] Boston, MA\n",
      "Finished processing [Forecasts-NECOFS_FVCOM_OCEAN_BOSTON_FORECAST]\n",
      " Downloading to file /home/filipe/IOOS/notebooks_demos/notebooks/latest/SECOORA_NCSU_CNAPS.nc \n",
      "[Water  ] BOSTON 16 NM East of Boston, MA\n",
      "[Land   ] Boston, MA\n",
      "Finished processing [SECOORA_NCSU_CNAPS]\n"
     ]
    }
   ],
   "source": [
    "import iris\n",
    "from iris.pandas import as_series\n",
    "from ioos_tools.tardis import (make_tree, get_nearest_water,\n",
    "                               add_station, ensure_timeseries, remove_ssh)\n",
    "\n",
    "for mod_name, cube in cubes.items():\n",
    "    fname = '{}.nc'.format(mod_name)\n",
    "    fname = os.path.join(save_dir, fname)\n",
    "    print(fmt(' Downloading to file {} '.format(fname)))\n",
    "    try:\n",
    "        tree, lon, lat = make_tree(cube)\n",
    "    except CoordinateNotFoundError as e:\n",
    "        print('Cannot make KDTree for: {}'.format(mod_name))\n",
    "        continue\n",
    "    # Get model series at observed locations.\n",
    "    raw_series = dict()\n",
    "    for obs in observations:\n",
    "        obs = obs._metadata\n",
    "        station = obs['station_code']\n",
    "        try:\n",
    "            kw = dict(k=10, max_dist=0.08, min_var=0.01)\n",
    "            args = cube, tree, obs['lon'], obs['lat']\n",
    "            try:\n",
    "                series, dist, idx = get_nearest_water(*args, **kw)\n",
    "            except RuntimeError as e:\n",
    "                print('Cannot download {!r}.\\n{}'.format(cube, e))\n",
    "                series = None\n",
    "        except ValueError as e:\n",
    "            status = 'No Data'\n",
    "            print('[{}] {}'.format(status, obs['station_name']))\n",
    "            continue\n",
    "        if not series:\n",
    "            status = 'Land   '\n",
    "        else:\n",
    "            raw_series.update({station: series})\n",
    "            series = as_series(series)\n",
    "            status = 'Water  '\n",
    "        print('[{}] {}'.format(status, obs['station_name']))\n",
    "    if raw_series:  # Save cube.\n",
    "        for station, cube in raw_series.items():\n",
    "            cube = add_station(cube, station)\n",
    "            cube = remove_ssh(cube)\n",
    "        try:\n",
    "            cube = iris.cube.CubeList(raw_series.values()).merge_cube()\n",
    "        except MergeError as e:\n",
    "            print(e)\n",
    "        ensure_timeseries(cube)\n",
    "        try:\n",
    "            iris.save(cube, fname)\n",
    "        except AttributeError:\n",
    "            # FIXME: we should patch the bad attribute instead of removing everything.\n",
    "            cube.attributes = {}\n",
    "            iris.save(cube, fname)\n",
    "        del cube\n",
    "    print('Finished processing [{}]'.format(mod_name))"
   ]
  },
  {
   "cell_type": "markdown",
   "metadata": {},
   "source": [
    "Now it is possible to compute some simple comparison metrics. First we'll calculate the model mean bias:\n",
    "\n",
    "$$ \\text{MB} = \\mathbf{\\overline{m}} - \\mathbf{\\overline{o}}$$"
   ]
  },
  {
   "cell_type": "code",
   "execution_count": 15,
   "metadata": {
    "collapsed": true
   },
   "outputs": [],
   "source": [
    "from ioos_tools.ioos import stations_keys\n",
    "\n",
    "\n",
    "def rename_cols(df, config):\n",
    "    cols = stations_keys(config, key='station_name')\n",
    "    return df.rename(columns=cols)"
   ]
  },
  {
   "cell_type": "code",
   "execution_count": 16,
   "metadata": {
    "collapsed": true,
    "scrolled": false
   },
   "outputs": [],
   "source": [
    "from ioos_tools.ioos import load_ncs\n",
    "from ioos_tools.skill_score import mean_bias, apply_skill\n",
    "\n",
    "dfs = load_ncs(config)\n",
    "\n",
    "df = apply_skill(dfs, mean_bias, remove_mean=False, filter_tides=False)\n",
    "skill_score = dict(mean_bias=df.to_dict())\n",
    "\n",
    "# Filter out stations with no valid comparison.\n",
    "df.dropna(how='all', axis=1, inplace=True)\n",
    "df = df.applymap('{:.2f}'.format).replace('nan', '--')"
   ]
  },
  {
   "cell_type": "markdown",
   "metadata": {},
   "source": [
    "And the root mean squared rrror of the deviations from the mean:\n",
    "$$ \\text{CRMS} = \\sqrt{\\left(\\mathbf{m'} - \\mathbf{o'}\\right)^2}$$\n",
    "\n",
    "where: $\\mathbf{m'} = \\mathbf{m} - \\mathbf{\\overline{m}}$ and $\\mathbf{o'} = \\mathbf{o} - \\mathbf{\\overline{o}}$"
   ]
  },
  {
   "cell_type": "code",
   "execution_count": 17,
   "metadata": {
    "collapsed": true
   },
   "outputs": [],
   "source": [
    "from ioos_tools.skill_score import rmse\n",
    "\n",
    "dfs = load_ncs(config)\n",
    "\n",
    "df = apply_skill(dfs, rmse, remove_mean=True, filter_tides=False)\n",
    "skill_score['rmse'] = df.to_dict()\n",
    "\n",
    "# Filter out stations with no valid comparison.\n",
    "df.dropna(how='all', axis=1, inplace=True)\n",
    "df = df.applymap('{:.2f}'.format).replace('nan', '--')"
   ]
  },
  {
   "cell_type": "markdown",
   "metadata": {},
   "source": [
    "The next 2 cells make the scores \"pretty\" for plotting."
   ]
  },
  {
   "cell_type": "code",
   "execution_count": 18,
   "metadata": {
    "collapsed": true
   },
   "outputs": [],
   "source": [
    "import pandas as pd\n",
    "\n",
    "# Stringfy keys.\n",
    "for key in skill_score.keys():\n",
    "    skill_score[key] = {str(k): v for k, v in skill_score[key].items()}\n",
    "\n",
    "mean_bias = pd.DataFrame.from_dict(skill_score['mean_bias'])\n",
    "mean_bias = mean_bias.applymap('{:.2f}'.format).replace('nan', '--')\n",
    "\n",
    "skill_score = pd.DataFrame.from_dict(skill_score['rmse'])\n",
    "skill_score = skill_score.applymap('{:.2f}'.format).replace('nan', '--')"
   ]
  },
  {
   "cell_type": "code",
   "execution_count": 19,
   "metadata": {
    "collapsed": true
   },
   "outputs": [],
   "source": [
    "from ioos_tools.ioos import make_map\n",
    "\n",
    "bbox = config['region']['bbox']\n",
    "units = config['units']\n",
    "run_name = config['run_name']\n",
    "\n",
    "kw = dict(zoom_start=11, line=True, states=False,\n",
    "          secoora_stations=False, layers=False)\n",
    "mapa = make_map(bbox, **kw)"
   ]
  },
  {
   "cell_type": "markdown",
   "metadata": {},
   "source": [
    "The cells from `[20]` to `[25]` create a [`folium`](https://github.com/python-visualization/folium) map with [`bokeh`](http://bokeh.pydata.org/en/latest/) for the time-series at the observed points.\n",
    "\n",
    "Note that we did mark the nearest model cell location used in the comparison."
   ]
  },
  {
   "cell_type": "code",
   "execution_count": 20,
   "metadata": {},
   "outputs": [
    {
     "data": {
      "text/plain": [
       "<folium.plugins.marker_cluster.MarkerCluster at 0x7f4614e65240>"
      ]
     },
     "execution_count": 20,
     "metadata": {},
     "output_type": "execute_result"
    }
   ],
   "source": [
    "all_obs = stations_keys(config)\n",
    "\n",
    "from glob import glob\n",
    "from operator import itemgetter\n",
    "\n",
    "import iris\n",
    "import folium\n",
    "from folium.plugins import MarkerCluster\n",
    "\n",
    "iris.FUTURE.netcdf_promote = True\n",
    "\n",
    "big_list = []\n",
    "for fname in glob(os.path.join(save_dir, '*.nc')):\n",
    "    if 'OBS_DATA' in fname:\n",
    "        continue\n",
    "    cube = iris.load_cube(fname)\n",
    "    model = os.path.split(fname)[1].split('-')[-1].split('.')[0]\n",
    "    lons = cube.coord(axis='X').points\n",
    "    lats = cube.coord(axis='Y').points\n",
    "    stations = cube.coord('station_code').points\n",
    "    models = [model]*lons.size\n",
    "    lista = zip(models, lons.tolist(), lats.tolist(), stations.tolist())\n",
    "    big_list.extend(lista)\n",
    "\n",
    "big_list.sort(key=itemgetter(3))\n",
    "df = pd.DataFrame(big_list, columns=['name', 'lon', 'lat', 'station'])\n",
    "df.set_index('station', drop=True, inplace=True)\n",
    "groups = df.groupby(df.index)\n",
    "\n",
    "\n",
    "locations, popups = [], []\n",
    "for station, info in groups:\n",
    "    sta_name = all_obs[station]\n",
    "    for lat, lon, name in zip(info.lat, info.lon, info.name):\n",
    "        locations.append([lat, lon])\n",
    "        popups.append('[{}]: {}'.format(name, sta_name))\n",
    "\n",
    "MarkerCluster(locations=locations, popups=popups).add_to(mapa)"
   ]
  },
  {
   "cell_type": "markdown",
   "metadata": {},
   "source": [
    "Here we use a dictionary with some models we expect to find so we can create a better legend for the plots. If any new models are found, we will use its filename in the legend as a default until we can go back and add a short name to our library."
   ]
  },
  {
   "cell_type": "code",
   "execution_count": 21,
   "metadata": {
    "collapsed": true
   },
   "outputs": [],
   "source": [
    "titles = {\n",
    "    'coawst_4_use_best': 'COAWST_4',\n",
    "    'global': 'HYCOM',\n",
    "    'NECOFS_GOM3_FORECAST': 'NECOFS_GOM3',\n",
    "    'NECOFS_FVCOM_OCEAN_MASSBAY_FORECAST': 'NECOFS_MassBay',\n",
    "    'OBS_DATA': 'Observations'\n",
    "}"
   ]
  },
  {
   "cell_type": "code",
   "execution_count": 22,
   "metadata": {
    "collapsed": true
   },
   "outputs": [],
   "source": [
    "from bokeh.resources import CDN\n",
    "from bokeh.plotting import figure\n",
    "from bokeh.embed import file_html\n",
    "from bokeh.models import HoverTool\n",
    "from itertools import cycle\n",
    "from bokeh.palettes import Spectral6\n",
    "\n",
    "from folium import IFrame\n",
    "\n",
    "# Plot defaults.\n",
    "colors = Spectral6\n",
    "colorcycler = cycle(colors)\n",
    "tools = 'pan,box_zoom,reset'\n",
    "width, height = 750, 250\n",
    "\n",
    "\n",
    "def make_plot(df, station):\n",
    "    p = figure(toolbar_location='above',\n",
    "               x_axis_type='datetime',\n",
    "               width=width,\n",
    "               height=height,\n",
    "               tools=tools,\n",
    "               title=str(station))\n",
    "    for column, series in df.iteritems():\n",
    "        series.dropna(inplace=True)\n",
    "        if not series.empty:\n",
    "            line = p.line(\n",
    "                x=series.index,\n",
    "                y=series.values,\n",
    "                legend='%s' % titles.get(column, column),\n",
    "                line_color=next(colorcycler),\n",
    "                line_width=5,\n",
    "                line_cap='round',\n",
    "                line_join='round'\n",
    "            )\n",
    "            if 'OBS_DATA' not in column:\n",
    "                bias = mean_bias[str(station)][column]\n",
    "                skill = skill_score[str(station)][column]\n",
    "            else:\n",
    "                skill = bias = 'NA'\n",
    "            p.add_tools(HoverTool(tooltips=[('Name', '%s' % column),\n",
    "                                            ('Bias', bias),\n",
    "                                            ('Skill', skill)],\n",
    "                                  renderers=[line]))\n",
    "    return p\n",
    "\n",
    "\n",
    "def make_marker(p, station):\n",
    "    lons = stations_keys(config, key='lon')\n",
    "    lats = stations_keys(config, key='lat')\n",
    "\n",
    "    lon, lat = lons[station], lats[station]\n",
    "    html = file_html(p, CDN, station)\n",
    "    iframe = IFrame(html, width=width+40, height=height+80)\n",
    "\n",
    "    popup = folium.Popup(iframe, max_width=2650)\n",
    "    icon = folium.Icon(color='green', icon='stats')\n",
    "    marker = folium.Marker(location=[lat, lon],\n",
    "                           popup=popup,\n",
    "                           icon=icon)\n",
    "    return marker"
   ]
  },
  {
   "cell_type": "code",
   "execution_count": 23,
   "metadata": {},
   "outputs": [
    {
     "data": {
      "text/html": [
       "<div style=\"width:100%;\"><div style=\"position:relative;width:100%;height:0;padding-bottom:60%;\"><iframe src=\"data:text/html;charset=utf-8;base64,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\" style=\"position:absolute;width:100%;height:100%;left:0;top:0;border:none !important;\" allowfullscreen webkitallowfullscreen mozallowfullscreen></iframe></div></div>"
      ],
      "text/plain": [
       "<folium.folium.Map at 0x7f4611b21b70>"
      ]
     },
     "execution_count": 23,
     "metadata": {},
     "output_type": "execute_result"
    }
   ],
   "source": [
    "dfs = load_ncs(config)\n",
    "\n",
    "for station in dfs:\n",
    "    sta_name = all_obs[station]\n",
    "    df = dfs[station]\n",
    "    if df.empty:\n",
    "        continue\n",
    "    p = make_plot(df, station)\n",
    "    maker = make_marker(p, station)\n",
    "    maker.add_to(mapa)\n",
    "\n",
    "mapa"
   ]
  },
  {
   "cell_type": "markdown",
   "metadata": {},
   "source": [
    "Now we can navigate the map and click on the markers to explorer our findings.\n",
    "\n",
    "The green markers locate the observations locations. They pop-up an interactive plot with the time-series and scores for the models (hover over the lines to se the scores). The blue markers indicate the nearest model grid point found for the comparison."
   ]
  },
  {
   "cell_type": "markdown",
   "metadata": {},
   "source": [
    "<br>\n",
    "Right click and choose Save link as... to\n",
    "[download](https://raw.githubusercontent.com/ioos/notebooks_demos/master/notebooks/2016-12-22-boston_light_swim.ipynb)\n",
    "this notebook, or see a static view [here](http://nbviewer.ipython.org/urls/raw.githubusercontent.com/ioos/notebooks_demos/master/notebooks/2016-12-22-boston_light_swim.ipynb)."
   ]
  }
 ],
 "metadata": {
  "anaconda-cloud": {},
  "kernelspec": {
   "display_name": "Python [default]",
   "language": "python",
   "name": "python3"
  },
  "language_info": {
   "codemirror_mode": {
    "name": "ipython",
    "version": 3
   },
   "file_extension": ".py",
   "mimetype": "text/x-python",
   "name": "python",
   "nbconvert_exporter": "python",
   "pygments_lexer": "ipython3",
   "version": "3.6.1"
  }
 },
 "nbformat": 4,
 "nbformat_minor": 1
}
