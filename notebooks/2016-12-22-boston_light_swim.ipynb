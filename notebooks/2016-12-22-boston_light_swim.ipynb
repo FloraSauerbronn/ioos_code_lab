{
 "cells": [
  {
   "cell_type": "markdown",
   "metadata": {},
   "source": [
    "# [The Boston Light Swim](http://bostonlightswim.org/)\n",
    "\n",
    "In the past we demonstrated how to perform a CSW catalog search with [`OWSLib`](https://ioos.github.io/notebooks_demos//notebooks/2016-12-19-exploring_csw),\n",
    "and how to obtain near real-time data with [`pyoos`](https://ioos.github.io/notebooks_demos//notebooks/2016-10-12-fetching_data).\n",
    "In this notebooks we will use both to find all observations and model data around the Boston Harbor to access the sea water temperature.\n",
    "\n",
    "\n",
    "For more information regarding the workflow presented here see [Signell, Richard P.; Fernandes, Filipe; Wilcox, Kyle.   2016. \"Dynamic Reusable Workflows for Ocean Science.\" *J. Mar. Sci. Eng.* 4, no. 4: 68](http://dx.doi.org/10.3390/jmse4040068)."
   ]
  },
  {
   "cell_type": "code",
   "execution_count": 1,
   "metadata": {
    "collapsed": false
   },
   "outputs": [],
   "source": [
    "import os\n",
    "import sys\n",
    "import warnings\n",
    "\n",
    "ioos_tools = os.path.join(os.path.pardir)\n",
    "sys.path.append(ioos_tools)\n",
    "\n",
    "# Suppresing warnings for a \"pretty output.\"\n",
    "warnings.simplefilter(\"ignore\")"
   ]
  },
  {
   "cell_type": "markdown",
   "metadata": {},
   "source": [
    "This notebook is quite big and complex,\n",
    "so to help us keep things organized we'll define a cell with the most important options and switches.\n",
    "\n",
    "Below we can define the date,\n",
    "bounding box, phenomena `SOS` and `CF` names and units,\n",
    "and the catalogs we will search."
   ]
  },
  {
   "cell_type": "code",
   "execution_count": 2,
   "metadata": {
    "collapsed": false
   },
   "outputs": [
    {
     "name": "stdout",
     "output_type": "stream",
     "text": [
      "Overwriting config.yaml\n"
     ]
    }
   ],
   "source": [
    "%%writefile config.yaml\n",
    "\n",
    "# Specify a YYYY-MM-DD hh:mm:ss date or integer day offset.\n",
    "# If both start and stop are offsets they will be computed relative to datetime.today() at midnight.\n",
    "# Use the dates commented below to reproduce the last Boston Light Swim event forecast.\n",
    "date:\n",
    "    start: -5 # 2016-8-16 00:00:00\n",
    "    stop: +4 # 2016-8-29 00:00:00\n",
    "\n",
    "run_name: 'latest'\n",
    "\n",
    "# Boston harbor.\n",
    "region:\n",
    "    bbox: [-71.3, 42.03, -70.57, 42.63]\n",
    "    crs: 'urn:ogc:def:crs:OGC:1.3:CRS84'\n",
    "\n",
    "sos_name: 'sea_water_temperature'\n",
    "\n",
    "cf_names:\n",
    "    - sea_water_temperature\n",
    "    - sea_surface_temperature\n",
    "    - sea_water_potential_temperature\n",
    "    - equivalent_potential_temperature\n",
    "    - sea_water_conservative_temperature\n",
    "    - pseudo_equivalent_potential_temperature\n",
    "\n",
    "units: 'celsius'\n",
    "\n",
    "catalogs:\n",
    "    - https://data.ioos.us/csw\n",
    "    - http://gamone.whoi.edu/csw"
   ]
  },
  {
   "cell_type": "markdown",
   "metadata": {},
   "source": [
    "We'll print some of the search configuration options along the way to keep track of them."
   ]
  },
  {
   "cell_type": "code",
   "execution_count": 3,
   "metadata": {
    "collapsed": false
   },
   "outputs": [
    {
     "name": "stdout",
     "output_type": "stream",
     "text": [
      "Saving data inside directory /home/filipe/IOOS/notebooks_demos/notebooks/latest\n",
      "*********************** Run information ************************\n",
      "Run date: 2017-01-10 19:18:34\n",
      "Start: 2017-01-05 00:00:00\n",
      "Stop: 2017-01-14 00:00:00\n",
      "Bounding box: -71.30, 42.03,-70.57, 42.63\n"
     ]
    }
   ],
   "source": [
    "import shutil\n",
    "from datetime import datetime\n",
    "from ioos_tools.ioos import parse_config\n",
    "\n",
    "config = parse_config('config.yaml')\n",
    "\n",
    "# Saves downloaded data into a temporary directory.\n",
    "save_dir = os.path.abspath(config['run_name'])\n",
    "if os.path.exists(save_dir):\n",
    "    shutil.rmtree(save_dir)\n",
    "os.makedirs(save_dir)\n",
    "\n",
    "fmt = '{:*^64}'.format\n",
    "print(fmt('Saving data inside directory {}'.format(save_dir)))\n",
    "print(fmt(' Run information '))\n",
    "print('Run date: {:%Y-%m-%d %H:%M:%S}'.format(datetime.utcnow()))\n",
    "print('Start: {:%Y-%m-%d %H:%M:%S}'.format(config['date']['start']))\n",
    "print('Stop: {:%Y-%m-%d %H:%M:%S}'.format(config['date']['stop']))\n",
    "print('Bounding box: {0:3.2f}, {1:3.2f},'\n",
    "      '{2:3.2f}, {3:3.2f}'.format(*config['region']['bbox']))"
   ]
  },
  {
   "cell_type": "markdown",
   "metadata": {},
   "source": [
    "We already created an `OWSLib.fes` filter [before](https://ioos.github.io/notebooks_demos//notebooks/2016-12-19-exploring_csw).\n",
    "The main difference here is that we do not want the atmosphere model data,\n",
    "so we are filtering out all the `GRIB-2` data format."
   ]
  },
  {
   "cell_type": "code",
   "execution_count": 4,
   "metadata": {
    "collapsed": false
   },
   "outputs": [],
   "source": [
    "def make_filter(config):\n",
    "    from owslib import fes\n",
    "    from ioos_tools.ioos import fes_date_filter\n",
    "    kw = dict(wildCard='*', escapeChar='\\\\',\n",
    "              singleChar='?', propertyname='apiso:AnyText')\n",
    "\n",
    "    or_filt = fes.Or([fes.PropertyIsLike(literal=('*%s*' % val), **kw)\n",
    "                      for val in config['cf_names']])\n",
    "\n",
    "    not_filt = fes.Not([fes.PropertyIsLike(literal='GRIB-2', **kw)])\n",
    "\n",
    "    begin, end = fes_date_filter(config['date']['start'],\n",
    "                                 config['date']['stop'])\n",
    "    bbox_crs = fes.BBox(config['region']['bbox'],\n",
    "                        crs=config['region']['crs'])\n",
    "    filter_list = [fes.And([bbox_crs, begin, end, or_filt, not_filt])]\n",
    "    return filter_list\n",
    "\n",
    "\n",
    "filter_list = make_filter(config)"
   ]
  },
  {
   "cell_type": "markdown",
   "metadata": {},
   "source": [
    "In the cell below we ask the catalog for all the returns that matches the filter and have an OPeNDAP endpoint."
   ]
  },
  {
   "cell_type": "code",
   "execution_count": 5,
   "metadata": {
    "code_folding": [],
    "collapsed": false
   },
   "outputs": [
    {
     "name": "stdout",
     "output_type": "stream",
     "text": [
      "********************* Catalog information **********************\n",
      "URL: https://data.ioos.us/csw\n",
      "Number of datasets available: 18\n",
      "NERACOOS Gulf of Maine Ocean Array: Realtime Buoy Observations: A01 Massachusetts Bay: A01 CTD1m Massachusetts Bay\n",
      "NERACOOS Gulf of Maine Ocean Array: Realtime Buoy Observations: A01 Massachusetts Bay: A01 CTD20m Massachusetts Bay\n",
      "NERACOOS Gulf of Maine Ocean Array: Realtime Buoy Observations: A01 Massachusetts Bay: A01 MET Massachusetts Bay\n",
      "NERACOOS Gulf of Maine Ocean Array: Realtime Buoy Observations: A01 Massachusetts Bay: A01 OPTICS3m Massachusetts Bay\n",
      "NERACOOS Gulf of Maine Ocean Array: Realtime Buoy Observations: A01 Massachusetts Bay: A01 OPTODE51m Massachusetts Bay\n",
      "NERACOOS Gulf of Maine Ocean Array: Realtime Buoy Observations: A01 Western Maine Shelf: A01 CTD52m Massachusetts Bay\n",
      "NOAA/NCEP Global Forecast System (GFS) Atmospheric Model\n",
      "urn:ioos:station:NOAA.NOS.CO-OPS:8443970 station, Boston, MA\n",
      "G1SST, 1km blended SST\n",
      "Directional wave and sea surface temperature measurements collected in situ by Datawell Mark 3 directional buoy located near CLATSOP SPIT, OR from 2016/10/12 17:00:00 to 2017/01/10 00:02:13.\n",
      "NERACOOS Gulf of Maine Ocean Array: Realtime Buoy Observations: A01 Massachusetts Bay: A01 ACCELEROMETER Massachusetts Bay\n",
      "Directional wave and sea surface temperature measurements collected in situ by Datawell Mark 3 directional buoy located near SCRIPPS NEARSHORE, CA from 2015/01/07 23:00:00 to 2017/01/10 00:01:10.\n",
      "Directional wave and sea surface temperature measurements collected in situ by Datawell Mark 3 directional buoy located near GRAYS HARBOR, WA from 2016/03/16 22:00:00 to 2017/01/09 23:53:40.\n",
      "Directional wave and sea surface temperature measurements collected in situ by Datawell Mark 3 directional buoy located near ASTORIA CANYON, OR from 2016/03/30 17:00:00 to 2017/01/10 00:14:16.\n",
      "HYbrid Coordinate Ocean Model (HYCOM): Global\n",
      "NECOFS GOM3 (FVCOM) - Northeast US - Latest Forecast\n",
      "Directional wave and sea surface temperature measurements collected in situ by Datawell Mark 3 directional buoy located near OCEAN STATION PAPA from 2015/01/01 01:00:00 to 2017/01/10 00:00:38.\n",
      "NECOFS Massachusetts (FVCOM) - Massachusetts Coastal - Latest Forecast\n",
      "***************************** DAP ******************************\n",
      "http://oos.soest.hawaii.edu/thredds/dodsC/hioos/model/atm/ncep_global/NCEP_Global_Atmospheric_Model_best.ncd.html\n",
      "http://oos.soest.hawaii.edu/thredds/dodsC/pacioos/hycom/global.html\n",
      "http://thredds.aoos.org/thredds/dodsC/G1_SST_GLOBAL.nc.html\n",
      "http://www.neracoos.org/thredds/dodsC/UMO/DSG/SOS/A01/Accelerometer/HistoricRealtime/Agg.ncml.html\n",
      "http://www.neracoos.org/thredds/dodsC/UMO/DSG/SOS/A01/CTD1m/HistoricRealtime/Agg.ncml.html\n",
      "http://www.neracoos.org/thredds/dodsC/UMO/DSG/SOS/A01/CTD20m/HistoricRealtime/Agg.ncml.html\n",
      "http://www.neracoos.org/thredds/dodsC/UMO/DSG/SOS/A01/CTD52m/HistoricRealtime/Agg.ncml.html\n",
      "http://www.neracoos.org/thredds/dodsC/UMO/DSG/SOS/A01/Met/HistoricRealtime/Agg.ncml.html\n",
      "http://www.neracoos.org/thredds/dodsC/UMO/DSG/SOS/A01/OPTICS_S3m/HistoricRealtime/Agg.ncml.html\n",
      "http://www.neracoos.org/thredds/dodsC/UMO/DSG/SOS/A01/OPTODE51m/HistoricRealtime/Agg.ncml.html\n",
      "http://www.smast.umassd.edu:8080/thredds/dodsC/FVCOM/NECOFS/Forecasts/NECOFS_FVCOM_OCEAN_MASSBAY_FORECAST.nc.html\n",
      "http://www.smast.umassd.edu:8080/thredds/dodsC/FVCOM/NECOFS/Forecasts/NECOFS_GOM3_FORECAST.nc.html\n",
      "\n",
      "\n",
      "URL: http://gamone.whoi.edu/csw\n",
      "Number of datasets available: 1\n",
      "COAWST Forecast System : USGS : US East Coast and Gulf of Mexico (Experimental)\n",
      "***************************** DAP ******************************\n",
      "http://geoport-dev.whoi.edu/thredds/dodsC/coawst_4/use/fmrc/coawst_4_use_best.ncd.html\n",
      "\n",
      "\n"
     ]
    }
   ],
   "source": [
    "from ioos_tools.ioos import service_urls, get_csw_records\n",
    "from owslib.csw import CatalogueServiceWeb\n",
    "\n",
    "\n",
    "dap_urls = []\n",
    "print(fmt(' Catalog information '))\n",
    "for endpoint in config['catalogs']:\n",
    "    print(\"URL: {}\".format(endpoint))\n",
    "\n",
    "    csw = CatalogueServiceWeb(endpoint, timeout=120)\n",
    "    csw = get_csw_records(csw, filter_list, esn='full')\n",
    "    OPeNDAP = service_urls(csw.records, identifier='OPeNDAP:OPeNDAP')\n",
    "    odp = service_urls(csw.records, identifier='urn:x-esri:specification:ServiceType:odp:url')\n",
    "    dap = OPeNDAP + odp\n",
    "    dap_urls.extend(dap)\n",
    "\n",
    "    print(\"Number of datasets available: {}\".format(len(csw.records.keys())))\n",
    "\n",
    "    for rec, item in csw.records.items():\n",
    "        print('{}'.format(item.title))\n",
    "    if dap:\n",
    "        print(fmt(' DAP '))\n",
    "        for url in dap:\n",
    "            print('{}.html'.format(url))\n",
    "    print('\\n')\n",
    "\n",
    "# Get only unique endpoints.\n",
    "dap_urls = list(set(dap_urls))"
   ]
  },
  {
   "cell_type": "markdown",
   "metadata": {},
   "source": [
    "We only want to find model data using the catalog.\n",
    "We'll rely `CO-OPS` and `NDBC` services for the observations.\n",
    "This extra filtering step is performed by `is_station` below."
   ]
  },
  {
   "cell_type": "code",
   "execution_count": 6,
   "metadata": {
    "collapsed": false
   },
   "outputs": [
    {
     "name": "stdout",
     "output_type": "stream",
     "text": [
      "************************* Filtered DAP *************************\n",
      "http://oos.soest.hawaii.edu/thredds/dodsC/hioos/model/atm/ncep_global/NCEP_Global_Atmospheric_Model_best.ncd.html\n",
      "http://oos.soest.hawaii.edu/thredds/dodsC/pacioos/hycom/global.html\n",
      "http://www.smast.umassd.edu:8080/thredds/dodsC/FVCOM/NECOFS/Forecasts/NECOFS_GOM3_FORECAST.nc.html\n",
      "http://thredds.aoos.org/thredds/dodsC/G1_SST_GLOBAL.nc.html\n",
      "http://www.smast.umassd.edu:8080/thredds/dodsC/FVCOM/NECOFS/Forecasts/NECOFS_FVCOM_OCEAN_MASSBAY_FORECAST.nc.html\n",
      "http://geoport-dev.whoi.edu/thredds/dodsC/coawst_4/use/fmrc/coawst_4_use_best.ncd.html\n"
     ]
    }
   ],
   "source": [
    "from ioos_tools.ioos import is_station\n",
    "\n",
    "# Filter out some station endpoints.\n",
    "non_stations = []\n",
    "for url in dap_urls:\n",
    "    try:\n",
    "        if not is_station(url):\n",
    "            non_stations.append(url)\n",
    "    except (RuntimeError, OSError) as e:\n",
    "        print(\"Could not access URL {}. {!r}\".format(url, e))\n",
    "\n",
    "dap_urls = non_stations\n",
    "\n",
    "print(fmt(' Filtered DAP '))\n",
    "for url in dap_urls:\n",
    "    print('{}.html'.format(url))"
   ]
  },
  {
   "cell_type": "markdown",
   "metadata": {},
   "source": [
    "Now we can use `pyoos` collectors for `NdbcSos`,"
   ]
  },
  {
   "cell_type": "code",
   "execution_count": 7,
   "metadata": {
    "collapsed": false
   },
   "outputs": [
    {
     "name": "stdout",
     "output_type": "stream",
     "text": [
      "******************* NDBC Collector offerings *******************\n",
      "National Data Buoy Center SOS: 977 offerings\n"
     ]
    }
   ],
   "source": [
    "from pyoos.collectors.ndbc.ndbc_sos import NdbcSos\n",
    "\n",
    "collector_ndbc = NdbcSos()\n",
    "\n",
    "collector_ndbc.set_bbox(config['region']['bbox'])\n",
    "collector_ndbc.end_time = config['date']['stop']\n",
    "collector_ndbc.start_time = config['date']['start']\n",
    "collector_ndbc.variables = [config['sos_name']]\n",
    "\n",
    "ofrs = collector_ndbc.server.offerings\n",
    "title = collector_ndbc.server.identification.title\n",
    "print(fmt(' NDBC Collector offerings '))\n",
    "print('{}: {} offerings'.format(title, len(ofrs)))"
   ]
  },
  {
   "cell_type": "code",
   "execution_count": 8,
   "metadata": {
    "collapsed": false
   },
   "outputs": [
    {
     "data": {
      "text/html": [
       "<style>.info {\n",
       "    background-color:#fcf8e3;\n",
       "    border-color:#faebcc;\n",
       "    border-left:5px solid #8a6d3b;\n",
       "    padding:.5em;\n",
       "    color:#8a6d3b\n",
       "}\n",
       "\n",
       ".success {\n",
       "    background-color:#d9edf7;\n",
       "    border-color:#bce8f1;\n",
       "    border-left:5px solid #31708f;\n",
       "    padding:.5em;\n",
       "    color:#31708f\n",
       "}\n",
       "\n",
       ".error {\n",
       "    background-color:#f2dede;\n",
       "    border-color:#ebccd1;\n",
       "    border-left:5px solid #a94442;\n",
       "    padding:.5em;\n",
       "    color:#a94442\n",
       "}\n",
       "\n",
       ".warning {\n",
       "    background-color:#fcf8e3;\n",
       "    border-color:#faebcc;\n",
       "    border-left:5px solid #8a6d3b;\n",
       "    padding:.5em;\n",
       "    color:#8a6d3b\n",
       "}\n",
       "\n",
       ".text-shadow {\n",
       "    text-shadow:0 1px 0 #ccc,0 2px 0 #c9c9c9,0 3px 0 #bbb,0 4px 0 #b9b9b9,0 5px 0 #aaa,0 6px 1px rgba(0,0,0,.1)\n",
       "}\n",
       "\n",
       ".datagrid table {\n",
       "    border-collapse:collapse;\n",
       "    text-align:left;\n",
       "    width:65%\n",
       "}\n",
       "\n",
       ".datagrid td {\n",
       "    border-collapse:collapse;\n",
       "    text-align:right;\n",
       "}\n",
       "\n",
       ".datagrid {\n",
       "    font:normal 12px/150% Arial,Helvetica,sans-serif;\n",
       "    background:#fff;\n",
       "    overflow:hidden;\n",
       "    border:1px solid #069;\n",
       "    -webkit-border-radius:3px;\n",
       "    -moz-border-radius:3px;\n",
       "    border-radius:3px\n",
       "}\n",
       "\n",
       ".datagrid table td,.datagrid table th {\n",
       "    padding:3px 10px\n",
       "}\n",
       "\n",
       ".datagrid table thead th {\n",
       "    background:-webkit-gradient(linear,left top,left bottom,color-stop(0.05,#069),color-stop(1,#00557F));\n",
       "    background:-moz-linear-gradient(center top,#069 5%,#00557F 100%);\n",
       "    filter:progid:DXImageTransform.Microsoft.gradient(startColorstr='#006699',endColorstr='#00557F');\n",
       "    background-color:#069;\n",
       "    color:#FFF;\n",
       "    font-size:15px;\n",
       "    font-weight:700;\n",
       "    border-left:1px solid #0070A8\n",
       "}\n",
       "\n",
       ".datagrid table thead th:first-child {\n",
       "    border:none\n",
       "}\n",
       "\n",
       ".datagrid table tbody td {\n",
       "    color:#00496B;\n",
       "    border-left:1px solid #E1EEF4;\n",
       "    font-size:12px;\n",
       "    font-weight:400\n",
       "}\n",
       "\n",
       ".datagrid table tbody .alt td {\n",
       "    background:#E1EEF4;\n",
       "    color:#00496B\n",
       "}\n",
       "\n",
       ".datagrid table tbody td:first-child {\n",
       "    border-left:none\n",
       "}\n",
       "\n",
       ".datagrid table tbody tr:last-child td {\n",
       "    border-bottom:none\n",
       "}\n",
       "\n",
       ".datagrid table tfoot td div {\n",
       "    border-top:1px solid #069;\n",
       "    background:#E1EEF4\n",
       "}\n",
       "\n",
       ".datagrid table tfoot td {\n",
       "    padding:0;\n",
       "    font-size:12px\n",
       "}\n",
       "\n",
       ".datagrid table tfoot td div {\n",
       "    padding:2px\n",
       "}\n",
       "\n",
       ".datagrid table tfoot td ul {\n",
       "    margin:0;\n",
       "    padding:0;\n",
       "    list-style:none;\n",
       "    text-align:right\n",
       "}\n",
       "\n",
       ".datagrid table tfoot li {\n",
       "    display:inline\n",
       "}\n",
       "\n",
       ".datagrid table tfoot li a {\n",
       "    text-decoration:none;\n",
       "    display:inline-block;\n",
       "    padding:2px 8px;\n",
       "    margin:1px;\n",
       "    color:#FFF;\n",
       "    border:1px solid #069;\n",
       "    -webkit-border-radius:3px;\n",
       "    -moz-border-radius:3px;\n",
       "    border-radius:3px;\n",
       "    background:-webkit-gradient(linear,left top,left bottom,color-stop(0.05,#069),color-stop(1,#00557F));\n",
       "    background:-moz-linear-gradient(center top,#069 5%,#00557F 100%);\n",
       "    filter:progid:DXImageTransform.Microsoft.gradient(startColorstr='#006699',endColorstr='#00557F');\n",
       "    background-color:#069\n",
       "}\n",
       "\n",
       ".datagrid table tfoot ul.active,.datagrid table tfoot ul a:hover {\n",
       "    text-decoration:none;\n",
       "    border-color:#069;\n",
       "    color:#FFF;\n",
       "    background:none;\n",
       "    background-color:#00557F\n",
       "}\n",
       "\n",
       "div.dhtmlx_window_active,div.dhx_modal_cover_dv {\n",
       "    position:fixed!important\n",
       "}\n",
       "</style><div class=\"datagrid\"><table border=\"1\" class=\"dataframe\">\n",
       "  <thead>\n",
       "    <tr style=\"text-align: right;\">\n",
       "      <th></th>\n",
       "      <th>depth</th>\n",
       "      <th>lat</th>\n",
       "      <th>lon</th>\n",
       "      <th>sensor</th>\n",
       "      <th>station_name</th>\n",
       "    </tr>\n",
       "    <tr>\n",
       "      <th>station_code</th>\n",
       "      <th></th>\n",
       "      <th></th>\n",
       "      <th></th>\n",
       "      <th></th>\n",
       "      <th></th>\n",
       "    </tr>\n",
       "  </thead>\n",
       "  <tbody>\n",
       "    <tr>\n",
       "      <th>44013</th>\n",
       "      <td>0.6</td>\n",
       "      <td>42.35</td>\n",
       "      <td>-70.69</td>\n",
       "      <td>urn:ioos:sensor:wmo:44013::watertemp1</td>\n",
       "      <td>BOSTON 16 NM East of Boston, MA</td>\n",
       "    </tr>\n",
       "    <tr>\n",
       "      <th>44029</th>\n",
       "      <td>1.0</td>\n",
       "      <td>42.52</td>\n",
       "      <td>-70.57</td>\n",
       "      <td>urn:ioos:sensor:wmo:44029::ct1</td>\n",
       "      <td>Buoy A0102 - Mass. Bay/Stellwagen</td>\n",
       "    </tr>\n",
       "  </tbody>\n",
       "</table></div>"
      ],
      "text/plain": [
       "<IPython.core.display.HTML object>"
      ]
     },
     "execution_count": 8,
     "metadata": {},
     "output_type": "execute_result"
    }
   ],
   "source": [
    "import pandas as pd\n",
    "from ioos_tools.ioos import collector2table, to_html\n",
    "\n",
    "ndbc = collector2table(collector=collector_ndbc,\n",
    "                       config=config,\n",
    "                       col='sea_water_temperature (C)')\n",
    "\n",
    "if ndbc:\n",
    "    data = dict(\n",
    "        station_name=[s._metadata.get('station_name') for s in ndbc],\n",
    "        station_code=[s._metadata.get('station_code') for s in ndbc],\n",
    "        sensor=[s._metadata.get('sensor') for s in ndbc],\n",
    "        lon=[s._metadata.get('lon') for s in ndbc],\n",
    "        lat=[s._metadata.get('lat') for s in ndbc],\n",
    "        depth=[s._metadata.get('depth') for s in ndbc],\n",
    "    )\n",
    "\n",
    "table = pd.DataFrame(data).set_index('station_code')\n",
    "to_html(table)"
   ]
  },
  {
   "cell_type": "markdown",
   "metadata": {},
   "source": [
    "and `CoopsSos`."
   ]
  },
  {
   "cell_type": "code",
   "execution_count": 9,
   "metadata": {
    "collapsed": false
   },
   "outputs": [
    {
     "name": "stdout",
     "output_type": "stream",
     "text": [
      "********************* Collector offerings **********************\n",
      "NOAA.NOS.CO-OPS SOS: 1113 offerings\n"
     ]
    }
   ],
   "source": [
    "from pyoos.collectors.coops.coops_sos import CoopsSos\n",
    "\n",
    "collector_coops = CoopsSos()\n",
    "\n",
    "collector_coops.set_bbox(config['region']['bbox'])\n",
    "collector_coops.end_time = config['date']['stop']\n",
    "collector_coops.start_time = config['date']['start']\n",
    "collector_coops.variables = [config['sos_name']]\n",
    "\n",
    "ofrs = collector_coops.server.offerings\n",
    "title = collector_coops.server.identification.title\n",
    "print(fmt(' Collector offerings '))\n",
    "print('{}: {} offerings'.format(title, len(ofrs)))"
   ]
  },
  {
   "cell_type": "code",
   "execution_count": 10,
   "metadata": {
    "collapsed": false,
    "scrolled": true
   },
   "outputs": [
    {
     "data": {
      "text/html": [
       "<style>.info {\n",
       "    background-color:#fcf8e3;\n",
       "    border-color:#faebcc;\n",
       "    border-left:5px solid #8a6d3b;\n",
       "    padding:.5em;\n",
       "    color:#8a6d3b\n",
       "}\n",
       "\n",
       ".success {\n",
       "    background-color:#d9edf7;\n",
       "    border-color:#bce8f1;\n",
       "    border-left:5px solid #31708f;\n",
       "    padding:.5em;\n",
       "    color:#31708f\n",
       "}\n",
       "\n",
       ".error {\n",
       "    background-color:#f2dede;\n",
       "    border-color:#ebccd1;\n",
       "    border-left:5px solid #a94442;\n",
       "    padding:.5em;\n",
       "    color:#a94442\n",
       "}\n",
       "\n",
       ".warning {\n",
       "    background-color:#fcf8e3;\n",
       "    border-color:#faebcc;\n",
       "    border-left:5px solid #8a6d3b;\n",
       "    padding:.5em;\n",
       "    color:#8a6d3b\n",
       "}\n",
       "\n",
       ".text-shadow {\n",
       "    text-shadow:0 1px 0 #ccc,0 2px 0 #c9c9c9,0 3px 0 #bbb,0 4px 0 #b9b9b9,0 5px 0 #aaa,0 6px 1px rgba(0,0,0,.1)\n",
       "}\n",
       "\n",
       ".datagrid table {\n",
       "    border-collapse:collapse;\n",
       "    text-align:left;\n",
       "    width:65%\n",
       "}\n",
       "\n",
       ".datagrid td {\n",
       "    border-collapse:collapse;\n",
       "    text-align:right;\n",
       "}\n",
       "\n",
       ".datagrid {\n",
       "    font:normal 12px/150% Arial,Helvetica,sans-serif;\n",
       "    background:#fff;\n",
       "    overflow:hidden;\n",
       "    border:1px solid #069;\n",
       "    -webkit-border-radius:3px;\n",
       "    -moz-border-radius:3px;\n",
       "    border-radius:3px\n",
       "}\n",
       "\n",
       ".datagrid table td,.datagrid table th {\n",
       "    padding:3px 10px\n",
       "}\n",
       "\n",
       ".datagrid table thead th {\n",
       "    background:-webkit-gradient(linear,left top,left bottom,color-stop(0.05,#069),color-stop(1,#00557F));\n",
       "    background:-moz-linear-gradient(center top,#069 5%,#00557F 100%);\n",
       "    filter:progid:DXImageTransform.Microsoft.gradient(startColorstr='#006699',endColorstr='#00557F');\n",
       "    background-color:#069;\n",
       "    color:#FFF;\n",
       "    font-size:15px;\n",
       "    font-weight:700;\n",
       "    border-left:1px solid #0070A8\n",
       "}\n",
       "\n",
       ".datagrid table thead th:first-child {\n",
       "    border:none\n",
       "}\n",
       "\n",
       ".datagrid table tbody td {\n",
       "    color:#00496B;\n",
       "    border-left:1px solid #E1EEF4;\n",
       "    font-size:12px;\n",
       "    font-weight:400\n",
       "}\n",
       "\n",
       ".datagrid table tbody .alt td {\n",
       "    background:#E1EEF4;\n",
       "    color:#00496B\n",
       "}\n",
       "\n",
       ".datagrid table tbody td:first-child {\n",
       "    border-left:none\n",
       "}\n",
       "\n",
       ".datagrid table tbody tr:last-child td {\n",
       "    border-bottom:none\n",
       "}\n",
       "\n",
       ".datagrid table tfoot td div {\n",
       "    border-top:1px solid #069;\n",
       "    background:#E1EEF4\n",
       "}\n",
       "\n",
       ".datagrid table tfoot td {\n",
       "    padding:0;\n",
       "    font-size:12px\n",
       "}\n",
       "\n",
       ".datagrid table tfoot td div {\n",
       "    padding:2px\n",
       "}\n",
       "\n",
       ".datagrid table tfoot td ul {\n",
       "    margin:0;\n",
       "    padding:0;\n",
       "    list-style:none;\n",
       "    text-align:right\n",
       "}\n",
       "\n",
       ".datagrid table tfoot li {\n",
       "    display:inline\n",
       "}\n",
       "\n",
       ".datagrid table tfoot li a {\n",
       "    text-decoration:none;\n",
       "    display:inline-block;\n",
       "    padding:2px 8px;\n",
       "    margin:1px;\n",
       "    color:#FFF;\n",
       "    border:1px solid #069;\n",
       "    -webkit-border-radius:3px;\n",
       "    -moz-border-radius:3px;\n",
       "    border-radius:3px;\n",
       "    background:-webkit-gradient(linear,left top,left bottom,color-stop(0.05,#069),color-stop(1,#00557F));\n",
       "    background:-moz-linear-gradient(center top,#069 5%,#00557F 100%);\n",
       "    filter:progid:DXImageTransform.Microsoft.gradient(startColorstr='#006699',endColorstr='#00557F');\n",
       "    background-color:#069\n",
       "}\n",
       "\n",
       ".datagrid table tfoot ul.active,.datagrid table tfoot ul a:hover {\n",
       "    text-decoration:none;\n",
       "    border-color:#069;\n",
       "    color:#FFF;\n",
       "    background:none;\n",
       "    background-color:#00557F\n",
       "}\n",
       "\n",
       "div.dhtmlx_window_active,div.dhx_modal_cover_dv {\n",
       "    position:fixed!important\n",
       "}\n",
       "</style><div class=\"datagrid\"><table border=\"1\" class=\"dataframe\">\n",
       "  <thead>\n",
       "    <tr style=\"text-align: right;\">\n",
       "      <th></th>\n",
       "      <th>depth</th>\n",
       "      <th>lat</th>\n",
       "      <th>lon</th>\n",
       "      <th>sensor</th>\n",
       "      <th>station_name</th>\n",
       "    </tr>\n",
       "    <tr>\n",
       "      <th>station_code</th>\n",
       "      <th></th>\n",
       "      <th></th>\n",
       "      <th></th>\n",
       "      <th></th>\n",
       "      <th></th>\n",
       "    </tr>\n",
       "  </thead>\n",
       "  <tbody>\n",
       "    <tr>\n",
       "      <th>8443970</th>\n",
       "      <td>None</td>\n",
       "      <td>42.3548</td>\n",
       "      <td>-71.0534</td>\n",
       "      <td>urn:ioos:sensor:NOAA.NOS.CO-OPS:8443970:E1</td>\n",
       "      <td>Boston, MA</td>\n",
       "    </tr>\n",
       "  </tbody>\n",
       "</table></div>"
      ],
      "text/plain": [
       "<IPython.core.display.HTML object>"
      ]
     },
     "execution_count": 10,
     "metadata": {},
     "output_type": "execute_result"
    }
   ],
   "source": [
    "coops = collector2table(collector=collector_coops,\n",
    "                        config=config,\n",
    "                        col='sea_water_temperature (C)')\n",
    "\n",
    "if coops:\n",
    "    data = dict(\n",
    "        station_name=[s._metadata.get('station_name') for s in coops],\n",
    "        station_code=[s._metadata.get('station_code') for s in coops],\n",
    "        sensor=[s._metadata.get('sensor') for s in coops],\n",
    "        lon=[s._metadata.get('lon') for s in coops],\n",
    "        lat=[s._metadata.get('lat') for s in coops],\n",
    "        depth=[s._metadata.get('depth') for s in coops],\n",
    "    )\n",
    "\n",
    "table = pd.DataFrame(data).set_index('station_code')\n",
    "to_html(table)"
   ]
  },
  {
   "cell_type": "markdown",
   "metadata": {},
   "source": [
    "We will join all the observations into an uniform series, interpolated to 1-hour interval, for the model-data comparison.\n",
    "\n",
    "This step is necessary because the observations can be 7 or 10 minutes resolution,\n",
    "while the models can be 30 to 60 minutes."
   ]
  },
  {
   "cell_type": "code",
   "execution_count": 11,
   "metadata": {
    "collapsed": false,
    "scrolled": true
   },
   "outputs": [],
   "source": [
    "data = ndbc + coops\n",
    "\n",
    "index = pd.date_range(start=config['date']['start'].replace(tzinfo=None),\n",
    "                      end=config['date']['stop'].replace(tzinfo=None),\n",
    "                      freq='1H')\n",
    "\n",
    "# Preserve metadata with `reindex`.\n",
    "observations = []\n",
    "for series in data:\n",
    "    _metadata = series._metadata\n",
    "    obs = series.reindex(index=index, limit=1, method='nearest')\n",
    "    obs._metadata = _metadata\n",
    "    observations.append(obs)"
   ]
  },
  {
   "cell_type": "markdown",
   "metadata": {},
   "source": [
    "Saving the data for quicker access later."
   ]
  },
  {
   "cell_type": "code",
   "execution_count": 12,
   "metadata": {
    "collapsed": false,
    "scrolled": false
   },
   "outputs": [],
   "source": [
    "import iris\n",
    "from ioos_tools.tardis import series2cube\n",
    "\n",
    "attr = dict(\n",
    "    featureType='timeSeries',\n",
    "    Conventions='CF-1.6',\n",
    "    standard_name_vocabulary='CF-1.6',\n",
    "    cdm_data_type=\"Station\",\n",
    "    comment=\"Data from http://opendap.co-ops.nos.noaa.gov\"\n",
    ")\n",
    "\n",
    "\n",
    "cubes = iris.cube.CubeList(\n",
    "    [series2cube(obs, attr=attr) for obs in observations]\n",
    ")\n",
    "\n",
    "outfile = os.path.join(save_dir, 'OBS_DATA.nc')\n",
    "iris.save(cubes, outfile)"
   ]
  },
  {
   "cell_type": "markdown",
   "metadata": {},
   "source": [
    "Now it is time to loop the models we found above,"
   ]
  },
  {
   "cell_type": "code",
   "execution_count": 13,
   "metadata": {
    "collapsed": false
   },
   "outputs": [
    {
     "name": "stdout",
     "output_type": "stream",
     "text": [
      "**************************** Models ****************************\n",
      "\n",
      "[Reading url 1/6]: http://oos.soest.hawaii.edu/thredds/dodsC/hioos/model/atm/ncep_global/NCEP_Global_Atmospheric_Model_best.ncd\n",
      "Cannot get cube for: http://oos.soest.hawaii.edu/thredds/dodsC/hioos/model/atm/ncep_global/NCEP_Global_Atmospheric_Model_best.ncd\n",
      "Cannot find ['sea_water_temperature', 'sea_surface_temperature', 'sea_water_potential_temperature', 'equivalent_potential_temperature', 'sea_water_conservative_temperature', 'pseudo_equivalent_potential_temperature'] in http://oos.soest.hawaii.edu/thredds/dodsC/hioos/model/atm/ncep_global/NCEP_Global_Atmospheric_Model_best.ncd.\n",
      "\n",
      "[Reading url 2/6]: http://oos.soest.hawaii.edu/thredds/dodsC/pacioos/hycom/global\n",
      "\n",
      "[Reading url 3/6]: http://www.smast.umassd.edu:8080/thredds/dodsC/FVCOM/NECOFS/Forecasts/NECOFS_GOM3_FORECAST.nc\n",
      "\n",
      "[Reading url 4/6]: http://thredds.aoos.org/thredds/dodsC/G1_SST_GLOBAL.nc\n",
      "\n",
      "[Reading url 5/6]: http://www.smast.umassd.edu:8080/thredds/dodsC/FVCOM/NECOFS/Forecasts/NECOFS_FVCOM_OCEAN_MASSBAY_FORECAST.nc\n",
      "\n",
      "[Reading url 6/6]: http://geoport-dev.whoi.edu/thredds/dodsC/coawst_4/use/fmrc/coawst_4_use_best.ncd\n"
     ]
    }
   ],
   "source": [
    "from iris.exceptions import (CoordinateNotFoundError, ConstraintMismatchError,\n",
    "                             MergeError)\n",
    "from ioos_tools.ioos import get_model_name\n",
    "from ioos_tools.tardis import quick_load_cubes, proc_cube, is_model, get_surface\n",
    "\n",
    "print(fmt(' Models '))\n",
    "cubes = dict()\n",
    "for k, url in enumerate(dap_urls):\n",
    "    print('\\n[Reading url {}/{}]: {}'.format(k+1, len(dap_urls), url))\n",
    "    try:\n",
    "        cube = quick_load_cubes(url, config['cf_names'],\n",
    "                                callback=None, strict=True)\n",
    "        if is_model(cube):\n",
    "            cube = proc_cube(cube,\n",
    "                             bbox=config['region']['bbox'],\n",
    "                             time=(config['date']['start'],\n",
    "                                   config['date']['stop']),\n",
    "                             units=config['units'])\n",
    "        else:\n",
    "            print(\"[Not model data]: {}\".format(url))\n",
    "            continue\n",
    "        cube = get_surface(cube)\n",
    "        mod_name = get_model_name(url)\n",
    "        cubes.update({mod_name: cube})\n",
    "    except (RuntimeError, ValueError,\n",
    "            ConstraintMismatchError, CoordinateNotFoundError,\n",
    "            IndexError) as e:\n",
    "        print('Cannot get cube for: {}\\n{}'.format(url, e))"
   ]
  },
  {
   "cell_type": "markdown",
   "metadata": {},
   "source": [
    "and match them with the nearest observed time-series. The `max_dist=0.08` is in degrees, that is roughly 8 kilometers."
   ]
  },
  {
   "cell_type": "code",
   "execution_count": 14,
   "metadata": {
    "collapsed": false
   },
   "outputs": [
    {
     "name": "stdout",
     "output_type": "stream",
     "text": [
      " Downloading to file /home/filipe/IOOS/notebooks_demos/notebooks/latest/Forecasts-NECOFS_FVCOM_OCEAN_MASSBAY_FORECAST.nc \n",
      "[Water  ] BOSTON 16 NM East of Boston, MA\n",
      "[Water  ] Buoy A0102 - Mass. Bay/Stellwagen\n",
      "[Water  ] Boston, MA\n",
      "Finished processing [Forecasts-NECOFS_FVCOM_OCEAN_MASSBAY_FORECAST]\n",
      " Downloading to file /home/filipe/IOOS/notebooks_demos/notebooks/latest/G1_SST_GLOBAL.nc \n",
      "[Water  ] BOSTON 16 NM East of Boston, MA\n",
      "[Water  ] Buoy A0102 - Mass. Bay/Stellwagen\n",
      "[Water  ] Boston, MA\n",
      "Finished processing [G1_SST_GLOBAL]\n",
      " Downloading to file /home/filipe/IOOS/notebooks_demos/notebooks/latest/fmrc-coawst_4_use_best.nc \n",
      "[Water  ] BOSTON 16 NM East of Boston, MA\n",
      "[Water  ] Buoy A0102 - Mass. Bay/Stellwagen\n",
      "[Water  ] Boston, MA\n",
      "Finished processing [fmrc-coawst_4_use_best]\n",
      " Downloading to file /home/filipe/IOOS/notebooks_demos/notebooks/latest/FVCOM_Forecasts-NECOFS_GOM3_FORECAST.nc \n",
      "[Water  ] BOSTON 16 NM East of Boston, MA\n",
      "[Water  ] Buoy A0102 - Mass. Bay/Stellwagen\n",
      "[Water  ] Boston, MA\n",
      "Finished processing [FVCOM_Forecasts-NECOFS_GOM3_FORECAST]\n",
      " Downloading to file /home/filipe/IOOS/notebooks_demos/notebooks/latest/pacioos_hycom-global.nc \n",
      "[Water  ] BOSTON 16 NM East of Boston, MA\n",
      "[Water  ] Buoy A0102 - Mass. Bay/Stellwagen\n",
      "[Land   ] Boston, MA\n",
      "Finished processing [pacioos_hycom-global]\n"
     ]
    }
   ],
   "source": [
    "import iris\n",
    "from iris.pandas import as_series\n",
    "from ioos_tools.tardis import (make_tree, get_nearest_water,\n",
    "                               add_station, ensure_timeseries, remove_ssh)\n",
    "\n",
    "for mod_name, cube in cubes.items():\n",
    "    fname = '{}.nc'.format(mod_name)\n",
    "    fname = os.path.join(save_dir, fname)\n",
    "    print(fmt(' Downloading to file {} '.format(fname)))\n",
    "    try:\n",
    "        tree, lon, lat = make_tree(cube)\n",
    "    except CoordinateNotFoundError as e:\n",
    "        print('Cannot make KDTree for: {}'.format(mod_name))\n",
    "        continue\n",
    "    # Get model series at observed locations.\n",
    "    raw_series = dict()\n",
    "    for obs in observations:\n",
    "        obs = obs._metadata\n",
    "        station = obs['station_code']\n",
    "        try:\n",
    "            kw = dict(k=10, max_dist=0.08, min_var=0.01)\n",
    "            args = cube, tree, obs['lon'], obs['lat']\n",
    "            try:\n",
    "                series, dist, idx = get_nearest_water(*args, **kw)\n",
    "            except RuntimeError as e:\n",
    "                print('Cannot download {!r}.\\n{}'.format(cube, e))\n",
    "                series = None\n",
    "        except ValueError as e:\n",
    "            status = \"No Data\"\n",
    "            print('[{}] {}'.format(status, obs['station_name']))\n",
    "            continue\n",
    "        if not series:\n",
    "            status = \"Land   \"\n",
    "        else:\n",
    "            raw_series.update({station: series})\n",
    "            series = as_series(series)\n",
    "            status = \"Water  \"\n",
    "        print('[{}] {}'.format(status, obs['station_name']))\n",
    "    if raw_series:  # Save cube.\n",
    "        for station, cube in raw_series.items():\n",
    "            cube = add_station(cube, station)\n",
    "            cube = remove_ssh(cube)\n",
    "        try:\n",
    "            cube = iris.cube.CubeList(raw_series.values()).merge_cube()\n",
    "        except MergeError as e:\n",
    "            print(e)\n",
    "        ensure_timeseries(cube)\n",
    "        iris.save(cube, fname)\n",
    "        del cube\n",
    "    print('Finished processing [{}]'.format(mod_name))"
   ]
  },
  {
   "cell_type": "markdown",
   "metadata": {
    "collapsed": true
   },
   "source": [
    "```python\n",
    "from ioos_tools.ioos import parse_config\n",
    "\n",
    "config = parse_config('config.yaml')\n",
    "\n",
    "save_dir = os.path.join(os.path.abspath(config['run_name']))\n",
    "```"
   ]
  },
  {
   "cell_type": "markdown",
   "metadata": {},
   "source": [
    "Now it is possible to compute some simple comparison metrics. First we'll calculate the model mean bias:\n",
    "\n",
    "$$ \\text{MB} = \\mathbf{\\overline{m}} - \\mathbf{\\overline{o}}$$"
   ]
  },
  {
   "cell_type": "code",
   "execution_count": 15,
   "metadata": {
    "collapsed": true
   },
   "outputs": [],
   "source": [
    "from ioos_tools.ioos import stations_keys\n",
    "\n",
    "\n",
    "def rename_cols(df, config):\n",
    "    cols = stations_keys(config, key='station_name')\n",
    "    return df.rename(columns=cols)"
   ]
  },
  {
   "cell_type": "code",
   "execution_count": 16,
   "metadata": {
    "collapsed": true
   },
   "outputs": [],
   "source": [
    "from ioos_tools.ioos import to_html, load_ncs\n",
    "from ioos_tools.skill_score import mean_bias, apply_skill\n",
    "\n",
    "dfs = load_ncs(config)\n",
    "\n",
    "df = apply_skill(dfs, mean_bias, remove_mean=False, filter_tides=False)\n",
    "skill_score = dict(mean_bias=df.to_dict())\n",
    "\n",
    "# Filter out stations with no valid comparison.\n",
    "df.dropna(how='all', axis=1, inplace=True)\n",
    "df = df.applymap('{:.2f}'.format).replace('nan', '--')"
   ]
  },
  {
   "cell_type": "markdown",
   "metadata": {},
   "source": [
    "And the root mean squared rrror of the deviations from the mean:\n",
    "$$ \\text{CRMS} = \\sqrt{\\left(\\mathbf{m'} - \\mathbf{o'}\\right)^2}$$\n",
    "\n",
    "where: $\\mathbf{m'} = \\mathbf{m} - \\mathbf{\\overline{m}}$ and $\\mathbf{o'} = \\mathbf{o} - \\mathbf{\\overline{o}}$"
   ]
  },
  {
   "cell_type": "code",
   "execution_count": 17,
   "metadata": {
    "collapsed": true
   },
   "outputs": [],
   "source": [
    "from ioos_tools.skill_score import rmse\n",
    "\n",
    "dfs = load_ncs(config)\n",
    "\n",
    "df = apply_skill(dfs, rmse, remove_mean=True, filter_tides=False)\n",
    "skill_score['rmse'] = df.to_dict()\n",
    "\n",
    "# Filter out stations with no valid comparison.\n",
    "df.dropna(how='all', axis=1, inplace=True)\n",
    "df = df.applymap('{:.2f}'.format).replace('nan', '--')"
   ]
  },
  {
   "cell_type": "markdown",
   "metadata": {},
   "source": [
    "The next cell make the scores \"pretty\" for plotting."
   ]
  },
  {
   "cell_type": "code",
   "execution_count": 18,
   "metadata": {
    "collapsed": false
   },
   "outputs": [],
   "source": [
    "import pandas as pd\n",
    "\n",
    "# Stringfy keys.\n",
    "for key in skill_score.keys():\n",
    "    skill_score[key] = {str(k): v for k, v in skill_score[key].items()}\n",
    "\n",
    "mean_bias = pd.DataFrame.from_dict(skill_score['mean_bias'])\n",
    "mean_bias = mean_bias.applymap('{:.2f}'.format).replace('nan', '--')\n",
    "\n",
    "skill_score = pd.DataFrame.from_dict(skill_score['rmse'])\n",
    "skill_score = skill_score.applymap('{:.2f}'.format).replace('nan', '--')"
   ]
  },
  {
   "cell_type": "code",
   "execution_count": 19,
   "metadata": {
    "collapsed": true
   },
   "outputs": [],
   "source": [
    "from ioos_tools.ioos import make_map\n",
    "\n",
    "bbox = config['region']['bbox']\n",
    "units = config['units']\n",
    "run_name = config['run_name']\n",
    "\n",
    "kw = dict(zoom_start=11, line=True, states=False,\n",
    "          secoora_stations=False, layers=False)\n",
    "mapa = make_map(bbox, **kw)"
   ]
  },
  {
   "cell_type": "markdown",
   "metadata": {},
   "source": [
    "The cells from `[20]` to `[25]` create a [`folium`](https://github.com/python-visualization/folium) map with [`bokeh`](http://bokeh.pydata.org/en/latest/) for the time-series at the observed points.\n",
    "\n",
    "Note that we did mark the nearest model cell location used in the comparison."
   ]
  },
  {
   "cell_type": "code",
   "execution_count": 20,
   "metadata": {
    "collapsed": false
   },
   "outputs": [
    {
     "data": {
      "text/plain": [
       "<folium.plugins.marker_cluster.MarkerCluster at 0x7ff566154710>"
      ]
     },
     "execution_count": 20,
     "metadata": {},
     "output_type": "execute_result"
    }
   ],
   "source": [
    "all_obs = stations_keys(config)\n",
    "\n",
    "from glob import glob\n",
    "from operator import itemgetter\n",
    "\n",
    "import iris\n",
    "import folium\n",
    "from folium.plugins import MarkerCluster\n",
    "\n",
    "iris.FUTURE.netcdf_promote = True\n",
    "\n",
    "big_list = []\n",
    "for fname in glob(os.path.join(save_dir, \"*.nc\")):\n",
    "    if 'OBS_DATA' in fname:\n",
    "        continue\n",
    "    cube = iris.load_cube(fname)\n",
    "    model = fname.split('-')[-1].split('.')[0]\n",
    "    lons = cube.coord(axis='X').points\n",
    "    lats = cube.coord(axis='Y').points\n",
    "    stations = cube.coord('station_code').points\n",
    "    models = [model]*lons.size\n",
    "    lista = zip(models, lons.tolist(), lats.tolist(), stations.tolist())\n",
    "    big_list.extend(lista)\n",
    "\n",
    "big_list.sort(key=itemgetter(3))\n",
    "df = pd.DataFrame(big_list, columns=['name', 'lon', 'lat', 'station'])\n",
    "df.set_index('station', drop=True, inplace=True)\n",
    "groups = df.groupby(df.index)\n",
    "\n",
    "\n",
    "locations, popups = [], []\n",
    "for station, info in groups:\n",
    "    sta_name = all_obs[station]\n",
    "    for lat, lon, name in zip(info.lat, info.lon, info.name):\n",
    "        locations.append([lat, lon])\n",
    "        popups.append('[{}]: {}'.format(name, sta_name))\n",
    "\n",
    "MarkerCluster(locations=locations, popups=popups).add_to(mapa)"
   ]
  },
  {
   "cell_type": "markdown",
   "metadata": {},
   "source": [
    "Here we use a dictionary with some model we expect to find to create a better legend for the plots.\n",
    "If any new model is found we will use its filename as legend instead."
   ]
  },
  {
   "cell_type": "code",
   "execution_count": 21,
   "metadata": {
    "collapsed": true
   },
   "outputs": [],
   "source": [
    "titles = {\n",
    "    'coawst_4_use_best': 'COAWST_4',\n",
    "    'global': 'HYCOM',\n",
    "    'NECOFS_GOM3_FORECAST': 'NECOFS_GOM3',\n",
    "    'NECOFS_FVCOM_OCEAN_MASSBAY_FORECAST': 'NECOFS_MassBay',\n",
    "    'OBS_DATA': 'Observations'\n",
    "}"
   ]
  },
  {
   "cell_type": "code",
   "execution_count": 22,
   "metadata": {
    "collapsed": true
   },
   "outputs": [],
   "source": [
    "from bokeh.resources import CDN\n",
    "from bokeh.plotting import figure\n",
    "from bokeh.embed import file_html\n",
    "from bokeh.models import HoverTool\n",
    "from itertools import cycle\n",
    "from bokeh.palettes import Spectral6\n",
    "\n",
    "from folium.element import IFrame\n",
    "\n",
    "# Plot defaults.\n",
    "colors = Spectral6\n",
    "colorcycler = cycle(colors)\n",
    "tools = \"pan,box_zoom,reset\"\n",
    "width, height = 750, 250\n",
    "\n",
    "\n",
    "def make_plot(df, station):\n",
    "    p = figure(toolbar_location=\"above\",\n",
    "               x_axis_type=\"datetime\",\n",
    "               width=width,\n",
    "               height=height,\n",
    "               tools=tools,\n",
    "               title=str(station))\n",
    "    for column, series in df.iteritems():\n",
    "        series.dropna(inplace=True)\n",
    "        if not series.empty:\n",
    "            line = p.line(\n",
    "                x=series.index,\n",
    "                y=series.values,\n",
    "                legend=\"%s\" % titles.get(column, column),\n",
    "                line_color=next(colorcycler),\n",
    "                line_width=5,\n",
    "                line_cap='round',\n",
    "                line_join='round'\n",
    "            )\n",
    "            if 'OBS_DATA' not in column:\n",
    "                bias = mean_bias[str(station)][column]\n",
    "                skill = skill_score[str(station)][column]\n",
    "            else:\n",
    "                skill = bias = 'NA'\n",
    "            p.add_tools(HoverTool(tooltips=[(\"Name\", \"%s\" % column),\n",
    "                                            (\"Bias\", bias),\n",
    "                                            (\"Skill\", skill)],\n",
    "                                  renderers=[line]))\n",
    "    return p\n",
    "\n",
    "\n",
    "def make_marker(p, station):\n",
    "    lons = stations_keys(config, key='lon')\n",
    "    lats = stations_keys(config, key='lat')\n",
    "\n",
    "    lon, lat = lons[station], lats[station]\n",
    "    html = file_html(p, CDN, station)\n",
    "    iframe = IFrame(html, width=width+40, height=height+80)\n",
    "\n",
    "    popup = folium.Popup(iframe, max_width=2650)\n",
    "    icon = folium.Icon(color='green', icon='stats')\n",
    "    marker = folium.Marker(location=[lat, lon],\n",
    "                           popup=popup,\n",
    "                           icon=icon)\n",
    "    return marker"
   ]
  },
  {
   "cell_type": "code",
   "execution_count": 23,
   "metadata": {
    "collapsed": false
   },
   "outputs": [
    {
     "data": {
      "text/html": [
       "<div style=\"width:100%;\"><div style=\"position:relative;width:100%;height:0;padding-bottom:60%;\"><iframe src=\"data:text/html;base64,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\" style=\"position:absolute;width:100%;height:100%;left:0;top:0;\"></iframe></div></div>"
      ],
      "text/plain": [
       "<folium.folium.Map at 0x7ff5654b0390>"
      ]
     },
     "execution_count": 23,
     "metadata": {},
     "output_type": "execute_result"
    }
   ],
   "source": [
    "dfs = load_ncs(config)\n",
    "\n",
    "for station in dfs:\n",
    "    sta_name = all_obs[station]\n",
    "    df = dfs[station]\n",
    "    if df.empty:\n",
    "        continue\n",
    "    p = make_plot(df, station)\n",
    "    maker = make_marker(p, station)\n",
    "    maker.add_to(mapa)\n",
    "\n",
    "mapa"
   ]
  },
  {
   "cell_type": "markdown",
   "metadata": {},
   "source": [
    "Here we use a dictionary with some model we expect to find to create a better legend for the plots.\n",
    "If any new model is found we will use its file name as legend instead.\n",
    "\n",
    "Now we can navigate the map and click on the markers to explorer our findings.\n",
    "The green marker are locate at the observations locations and they pop-up a an interactive plot wit the time-series and the scores for the models (hover over the lines).\n",
    "The blue marker indicate the nearest model grid point found for the comparison."
   ]
  },
  {
   "cell_type": "markdown",
   "metadata": {},
   "source": [
    "<br>\n",
    "Right click and choose Save link as... to\n",
    "[download](https://raw.githubusercontent.com/ioos/notebooks_demos/master/notebooks/2016-12-22-boston_light_swim.ipynb)\n",
    "this notebook, or see a static view [here](http://nbviewer.ipython.org/urls/raw.githubusercontent.com/ioos/notebooks_demos/master/notebooks/2016-12-22-boston_light_swim.ipynb)."
   ]
  }
 ],
 "metadata": {
  "kernelspec": {
   "display_name": "Python [default]",
   "language": "python",
   "name": "python3"
  },
  "language_info": {
   "codemirror_mode": {
    "name": "ipython",
    "version": 3
   },
   "file_extension": ".py",
   "mimetype": "text/x-python",
   "name": "python",
   "nbconvert_exporter": "python",
   "pygments_lexer": "ipython3",
   "version": "3.5.2"
  }
 },
 "nbformat": 4,
 "nbformat_minor": 0
}
