{
 "cells": [
  {
   "cell_type": "markdown",
   "metadata": {
    "deletable": true,
    "editable": true
   },
   "source": [
    "# The Boston Light Swim temperature analysis with Python\n",
    "\n",
    "In the past we demonstrated how to perform a CSW catalog search with [`OWSLib`](https://ioos.github.io/notebooks_demos//notebooks/2016-12-19-exploring_csw),\n",
    "and how to obtain near real-time data with [`pyoos`](https://ioos.github.io/notebooks_demos//notebooks/2016-10-12-fetching_data).\n",
    "In this notebook we will use both to find all observations and model data around the Boston Harbor to access the sea water temperature.\n",
    "\n",
    "\n",
    "This workflow is part of an example to advise swimmers of the annual [Boston lighthouse swim](http://bostonlightswim.org/) of the Boston Harbor water temperature conditions prior to the race. For more information regarding the workflow presented here see [Signell, Richard P.; Fernandes, Filipe; Wilcox, Kyle.   2016. \"Dynamic Reusable Workflows for Ocean Science.\" *J. Mar. Sci. Eng.* 4, no. 4: 68](http://dx.doi.org/10.3390/jmse4040068)."
   ]
  },
  {
   "cell_type": "code",
   "execution_count": 1,
   "metadata": {
    "collapsed": false,
    "deletable": true,
    "editable": true
   },
   "outputs": [],
   "source": [
    "import os\n",
    "import sys\n",
    "import warnings\n",
    "\n",
    "ioos_tools = os.path.join(os.path.pardir)\n",
    "sys.path.append(ioos_tools)\n",
    "\n",
    "# Suppresing warnings for a \"pretty output.\"\n",
    "warnings.simplefilter(\"ignore\")"
   ]
  },
  {
   "cell_type": "markdown",
   "metadata": {
    "deletable": true,
    "editable": true
   },
   "source": [
    "This notebook is quite big and complex,\n",
    "so to help us keep things organized we'll define a cell with the most important options and switches.\n",
    "\n",
    "Below we can define the date,\n",
    "bounding box, phenomena `SOS` and `CF` names and units,\n",
    "and the catalogs we will search."
   ]
  },
  {
   "cell_type": "code",
   "execution_count": 2,
   "metadata": {
    "collapsed": false,
    "deletable": true,
    "editable": true
   },
   "outputs": [
    {
     "name": "stdout",
     "output_type": "stream",
     "text": [
      "Writing config.yaml\n"
     ]
    }
   ],
   "source": [
    "%%writefile config.yaml\n",
    "\n",
    "# Specify a YYYY-MM-DD hh:mm:ss date or integer day offset.\n",
    "# If both start and stop are offsets they will be computed relative to datetime.today() at midnight.\n",
    "# Use the dates commented below to reproduce the last Boston Light Swim event forecast.\n",
    "date:\n",
    "    start: -5 # 2016-8-16 00:00:00\n",
    "    stop: +4 # 2016-8-29 00:00:00\n",
    "\n",
    "run_name: 'latest'\n",
    "\n",
    "# Boston harbor.\n",
    "region:\n",
    "    bbox: [-71.3, 42.03, -70.57, 42.63]\n",
    "    crs: 'urn:ogc:def:crs:OGC:1.3:CRS84'\n",
    "\n",
    "sos_name: 'sea_water_temperature'\n",
    "\n",
    "cf_names:\n",
    "    - sea_water_temperature\n",
    "    - sea_surface_temperature\n",
    "    - sea_water_potential_temperature\n",
    "    - equivalent_potential_temperature\n",
    "    - sea_water_conservative_temperature\n",
    "    - pseudo_equivalent_potential_temperature\n",
    "\n",
    "units: 'celsius'\n",
    "\n",
    "catalogs:\n",
    "    - https://data.ioos.us/csw\n",
    "    - http://gamone.whoi.edu/csw"
   ]
  },
  {
   "cell_type": "markdown",
   "metadata": {
    "deletable": true,
    "editable": true
   },
   "source": [
    "We'll print some of the search configuration options along the way to keep track of them."
   ]
  },
  {
   "cell_type": "code",
   "execution_count": 3,
   "metadata": {
    "collapsed": false,
    "deletable": true,
    "editable": true
   },
   "outputs": [
    {
     "name": "stdout",
     "output_type": "stream",
     "text": [
      "Saving data inside directory /home/filipe/IOOS/notebooks_demos/notebooks/latest\n",
      "*********************** Run information ************************\n",
      "Run date: 2017-02-13 14:31:54\n",
      "Start: 2017-02-08 00:00:00\n",
      "Stop: 2017-02-17 00:00:00\n",
      "Bounding box: -71.30, 42.03,-70.57, 42.63\n"
     ]
    }
   ],
   "source": [
    "import shutil\n",
    "from datetime import datetime\n",
    "from ioos_tools.ioos import parse_config\n",
    "\n",
    "config = parse_config('config.yaml')\n",
    "\n",
    "# Saves downloaded data into a temporary directory.\n",
    "save_dir = os.path.abspath(config['run_name'])\n",
    "if os.path.exists(save_dir):\n",
    "    shutil.rmtree(save_dir)\n",
    "os.makedirs(save_dir)\n",
    "\n",
    "fmt = '{:*^64}'.format\n",
    "print(fmt('Saving data inside directory {}'.format(save_dir)))\n",
    "print(fmt(' Run information '))\n",
    "print('Run date: {:%Y-%m-%d %H:%M:%S}'.format(datetime.utcnow()))\n",
    "print('Start: {:%Y-%m-%d %H:%M:%S}'.format(config['date']['start']))\n",
    "print('Stop: {:%Y-%m-%d %H:%M:%S}'.format(config['date']['stop']))\n",
    "print('Bounding box: {0:3.2f}, {1:3.2f},'\n",
    "      '{2:3.2f}, {3:3.2f}'.format(*config['region']['bbox']))"
   ]
  },
  {
   "cell_type": "markdown",
   "metadata": {
    "deletable": true,
    "editable": true
   },
   "source": [
    "We already created an `OWSLib.fes` filter [before](https://ioos.github.io/notebooks_demos//notebooks/2016-12-19-exploring_csw).\n",
    "The main difference here is that we do not want the atmosphere model data,\n",
    "so we are filtering out all the `GRIB-2` data format."
   ]
  },
  {
   "cell_type": "code",
   "execution_count": 4,
   "metadata": {
    "collapsed": false,
    "deletable": true,
    "editable": true
   },
   "outputs": [],
   "source": [
    "def make_filter(config):\n",
    "    from owslib import fes\n",
    "    from ioos_tools.ioos import fes_date_filter\n",
    "    kw = dict(wildCard='*', escapeChar='\\\\',\n",
    "              singleChar='?', propertyname='apiso:AnyText')\n",
    "\n",
    "    or_filt = fes.Or([fes.PropertyIsLike(literal=('*%s*' % val), **kw)\n",
    "                      for val in config['cf_names']])\n",
    "\n",
    "    not_filt = fes.Not([fes.PropertyIsLike(literal='GRIB-2', **kw)])\n",
    "\n",
    "    begin, end = fes_date_filter(config['date']['start'],\n",
    "                                 config['date']['stop'])\n",
    "    bbox_crs = fes.BBox(config['region']['bbox'],\n",
    "                        crs=config['region']['crs'])\n",
    "    filter_list = [fes.And([bbox_crs, begin, end, or_filt, not_filt])]\n",
    "    return filter_list\n",
    "\n",
    "\n",
    "filter_list = make_filter(config)"
   ]
  },
  {
   "cell_type": "markdown",
   "metadata": {
    "deletable": true,
    "editable": true
   },
   "source": [
    "In the cell below we ask the catalog for all the returns that match the filter and have an OPeNDAP endpoint."
   ]
  },
  {
   "cell_type": "code",
   "execution_count": 5,
   "metadata": {
    "code_folding": [],
    "collapsed": false,
    "deletable": true,
    "editable": true
   },
   "outputs": [
    {
     "name": "stdout",
     "output_type": "stream",
     "text": [
      "********************* Catalog information **********************\n",
      "URL: https://data.ioos.us/csw\n",
      "Number of datasets available: 25\n",
      "NERACOOS Gulf of Maine Ocean Array: Realtime Buoy Observations: A01 Massachusetts Bay: A01 OPTODE51m Massachusetts Bay\n",
      "NERACOOS Gulf of Maine Ocean Array: Realtime Buoy Observations: A01 Massachusetts Bay: A01 OPTODE51m Massachusetts Bay\n",
      "NOAA/NCEP Global Forecast System (GFS) Atmospheric Model\n",
      "urn:ioos:station:NOAA.NOS.CO-OPS:8443970 station, Boston, MA\n",
      "USEAST\n",
      "Directional wave and sea surface temperature measurements collected in situ by Datawell Mark 3 directional buoy located near ASTORIA CANYON, OR from 2016/03/30 17:00:00 to 2017/02/12 00:02:00.\n",
      "Directional wave and sea surface temperature measurements collected in situ by Datawell Mark 3 directional buoy located near CLATSOP SPIT, OR from 2016/10/12 17:00:00 to 2017/02/12 00:03:21.\n",
      "NECOFS Massachusetts (FVCOM) - Massachusetts Coastal - Latest Forecast\n",
      "NERACOOS Gulf of Maine Ocean Array: Realtime Buoy Observations: A01 Massachusetts Bay: A01 CTD1m Massachusetts Bay\n",
      "NERACOOS Gulf of Maine Ocean Array: Realtime Buoy Observations: A01 Massachusetts Bay: A01 ACCELEROMETER Massachusetts Bay\n",
      "Coupled Northwest Atlantic Prediction System (CNAPS)\n",
      "NERACOOS Gulf of Maine Ocean Array: Realtime Buoy Observations: A01 Massachusetts Bay: A01 MET Massachusetts Bay\n",
      "Directional wave and sea surface temperature measurements collected in situ by Datawell Mark 3 directional buoy located near OCEAN STATION PAPA from 2015/01/01 01:00:00 to 2017/02/12 00:00:29.\n",
      "Directional wave and sea surface temperature measurements collected in situ by Datawell Mark 3 directional buoy located near UMPQUA OFFSHORE, OR from 2016/12/02 21:00:00 to 2017/02/11 23:48:31.\n",
      "NERACOOS Gulf of Maine Ocean Array: Realtime Buoy Observations: A01 Massachusetts Bay: A01 CTD20m Massachusetts Bay\n",
      "NECOFS GOM3 (FVCOM) - Northeast US - Latest Forecast\n",
      "HYbrid Coordinate Ocean Model (HYCOM): Global\n",
      "NERACOOS Gulf of Maine Ocean Array: Realtime Buoy Observations: A01 Massachusetts Bay: A01 CTD20m Massachusetts Bay\n",
      "NERACOOS Gulf of Maine Ocean Array: Realtime Buoy Observations: A01 Massachusetts Bay: A01 ACCELEROMETER Massachusetts Bay\n",
      "NERACOOS Gulf of Maine Ocean Array: Realtime Buoy Observations: A01 Massachusetts Bay: A01 CTD1m Massachusetts Bay\n",
      "NERACOOS Gulf of Maine Ocean Array: Realtime Buoy Observations: A01 Massachusetts Bay: A01 OPTICS3m Massachusetts Bay\n",
      "Directional wave and sea surface temperature measurements collected in situ by Datawell Mark 3 directional buoy located near SCRIPPS NEARSHORE, CA from 2015/01/07 23:00:00 to 2017/02/12 00:00:57.\n",
      "Directional wave and sea surface temperature measurements collected in situ by Datawell Mark 3 directional buoy located near GRAYS HARBOR, WA from 2016/03/16 22:00:00 to 2017/02/11 23:54:32.\n",
      "NERACOOS Gulf of Maine Ocean Array: Realtime Buoy Observations: A01 Massachusetts Bay: A01 MET Massachusetts Bay\n",
      "G1SST, 1km blended SST\n",
      "***************************** DAP ******************************\n",
      "http://oos.soest.hawaii.edu/thredds/dodsC/hioos/model/atm/ncep_global/NCEP_Global_Atmospheric_Model_best.ncd.html\n",
      "http://oos.soest.hawaii.edu/thredds/dodsC/pacioos/hycom/global.html\n",
      "http://thredds.aoos.org/thredds/dodsC/G1_SST_GLOBAL.nc.html\n",
      "http://thredds.secoora.org/thredds/dodsC/SECOORA_NCSU_CNAPS.nc.html\n",
      "http://www.neracoos.org/thredds/dodsC/UMO/DSG/SOS/A01/Accelerometer/HistoricRealtime/Agg.ncml.html\n",
      "http://www.neracoos.org/thredds/dodsC/UMO/DSG/SOS/A01/CTD1m/HistoricRealtime/Agg.ncml.html\n",
      "http://www.neracoos.org/thredds/dodsC/UMO/DSG/SOS/A01/CTD20m/HistoricRealtime/Agg.ncml.html\n",
      "http://www.neracoos.org/thredds/dodsC/UMO/DSG/SOS/A01/Met/HistoricRealtime/Agg.ncml.html\n",
      "http://www.neracoos.org/thredds/dodsC/UMO/DSG/SOS/A01/OPTODE51m/HistoricRealtime/Agg.ncml.html\n",
      "http://www.neracoos.org/thredds/dodsC/UMO/Realtime/SOS/A01/Accelerometer/Realtime.ncml.html\n",
      "http://www.neracoos.org/thredds/dodsC/UMO/Realtime/SOS/A01/CTD1m/Realtime.ncml.html\n",
      "http://www.neracoos.org/thredds/dodsC/UMO/Realtime/SOS/A01/CTD20m/Realtime.ncml.html\n",
      "http://www.neracoos.org/thredds/dodsC/UMO/Realtime/SOS/A01/Met/Realtime.ncml.html\n",
      "http://www.neracoos.org/thredds/dodsC/UMO/Realtime/SOS/A01/OPTICS_S3m/Realtime.ncml.html\n",
      "http://www.neracoos.org/thredds/dodsC/UMO/Realtime/SOS/A01/OPTODE51m/Realtime.ncml.html\n",
      "http://www.smast.umassd.edu:8080/thredds/dodsC/FVCOM/NECOFS/Forecasts/NECOFS_FVCOM_OCEAN_MASSBAY_FORECAST.nc.html\n",
      "http://www.smast.umassd.edu:8080/thredds/dodsC/FVCOM/NECOFS/Forecasts/NECOFS_GOM3_FORECAST.nc.html\n",
      "\n",
      "\n",
      "URL: http://gamone.whoi.edu/csw\n",
      "Number of datasets available: 2\n",
      "COAWST Forecast System : USGS : US East Coast and Gulf of Mexico (Experimental)\n",
      "USEAST\n",
      "***************************** DAP ******************************\n",
      "http://geoport-dev.whoi.edu/thredds/dodsC/coawst_4/use/fmrc/coawst_4_use_best.ncd.html\n",
      "\n",
      "\n"
     ]
    }
   ],
   "source": [
    "from ioos_tools.ioos import service_urls, get_csw_records\n",
    "from owslib.csw import CatalogueServiceWeb\n",
    "\n",
    "\n",
    "dap_urls = []\n",
    "print(fmt(' Catalog information '))\n",
    "for endpoint in config['catalogs']:\n",
    "    print(\"URL: {}\".format(endpoint))\n",
    "\n",
    "    csw = CatalogueServiceWeb(endpoint, timeout=120)\n",
    "    csw = get_csw_records(csw, filter_list, esn='full')\n",
    "    OPeNDAP = service_urls(csw.records, identifier='OPeNDAP:OPeNDAP')\n",
    "    odp = service_urls(csw.records, identifier='urn:x-esri:specification:ServiceType:odp:url')\n",
    "    dap = OPeNDAP + odp\n",
    "    dap_urls.extend(dap)\n",
    "\n",
    "    print(\"Number of datasets available: {}\".format(len(csw.records.keys())))\n",
    "\n",
    "    for rec, item in csw.records.items():\n",
    "        print('{}'.format(item.title))\n",
    "    if dap:\n",
    "        print(fmt(' DAP '))\n",
    "        for url in dap:\n",
    "            print('{}.html'.format(url))\n",
    "    print('\\n')\n",
    "\n",
    "# Get only unique endpoints.\n",
    "dap_urls = list(set(dap_urls))"
   ]
  },
  {
   "cell_type": "markdown",
   "metadata": {
    "deletable": true,
    "editable": true
   },
   "source": [
    "We found some models, and observations from NERACOOS there.\n",
    "However, we do know that there are some buoys from NDBC and CO-OPS available too.\n",
    "Also, those NERACOOS observations seem to be from a [CTD](http://www.neracoos.org/thredds/dodsC/UMO/DSG/SOS/A01/CTD1m/HistoricRealtime/Agg.ncml.html) mounted at 65 meters below the sea surface. Rendering them useless from our purpose.\n",
    "\n",
    "So let's use the catalog only for the models by filtering the observations with `is_station` below.\n",
    "And we'll rely `CO-OPS` and `NDBC` services for the observations."
   ]
  },
  {
   "cell_type": "code",
   "execution_count": 6,
   "metadata": {
    "collapsed": false,
    "deletable": true,
    "editable": true
   },
   "outputs": [
    {
     "name": "stdout",
     "output_type": "stream",
     "text": [
      "************************* Filtered DAP *************************\n",
      "http://oos.soest.hawaii.edu/thredds/dodsC/hioos/model/atm/ncep_global/NCEP_Global_Atmospheric_Model_best.ncd.html\n",
      "http://geoport-dev.whoi.edu/thredds/dodsC/coawst_4/use/fmrc/coawst_4_use_best.ncd.html\n",
      "http://thredds.aoos.org/thredds/dodsC/G1_SST_GLOBAL.nc.html\n",
      "http://www.smast.umassd.edu:8080/thredds/dodsC/FVCOM/NECOFS/Forecasts/NECOFS_FVCOM_OCEAN_MASSBAY_FORECAST.nc.html\n",
      "http://oos.soest.hawaii.edu/thredds/dodsC/pacioos/hycom/global.html\n",
      "http://www.smast.umassd.edu:8080/thredds/dodsC/FVCOM/NECOFS/Forecasts/NECOFS_GOM3_FORECAST.nc.html\n",
      "http://thredds.secoora.org/thredds/dodsC/SECOORA_NCSU_CNAPS.nc.html\n"
     ]
    }
   ],
   "source": [
    "from ioos_tools.ioos import is_station\n",
    "\n",
    "# Filter out some station endpoints.\n",
    "non_stations = []\n",
    "for url in dap_urls:\n",
    "    try:\n",
    "        if not is_station(url):\n",
    "            non_stations.append(url)\n",
    "    except (RuntimeError, OSError) as e:\n",
    "        print(\"Could not access URL {}. {!r}\".format(url, e))\n",
    "\n",
    "dap_urls = non_stations\n",
    "\n",
    "print(fmt(' Filtered DAP '))\n",
    "for url in dap_urls:\n",
    "    print('{}.html'.format(url))"
   ]
  },
  {
   "cell_type": "markdown",
   "metadata": {
    "deletable": true,
    "editable": true
   },
   "source": [
    "Now we can use `pyoos` collectors for `NdbcSos`,"
   ]
  },
  {
   "cell_type": "code",
   "execution_count": 7,
   "metadata": {
    "collapsed": false,
    "deletable": true,
    "editable": true
   },
   "outputs": [
    {
     "name": "stdout",
     "output_type": "stream",
     "text": [
      "******************* NDBC Collector offerings *******************\n",
      "National Data Buoy Center SOS: 978 offerings\n"
     ]
    }
   ],
   "source": [
    "from pyoos.collectors.ndbc.ndbc_sos import NdbcSos\n",
    "\n",
    "collector_ndbc = NdbcSos()\n",
    "\n",
    "collector_ndbc.set_bbox(config['region']['bbox'])\n",
    "collector_ndbc.end_time = config['date']['stop']\n",
    "collector_ndbc.start_time = config['date']['start']\n",
    "collector_ndbc.variables = [config['sos_name']]\n",
    "\n",
    "ofrs = collector_ndbc.server.offerings\n",
    "title = collector_ndbc.server.identification.title\n",
    "print(fmt(' NDBC Collector offerings '))\n",
    "print('{}: {} offerings'.format(title, len(ofrs)))"
   ]
  },
  {
   "cell_type": "code",
   "execution_count": 8,
   "metadata": {
    "collapsed": false,
    "deletable": true,
    "editable": true
   },
   "outputs": [
    {
     "data": {
      "text/html": [
       "<div>\n",
       "<table border=\"1\" class=\"dataframe\">\n",
       "  <thead>\n",
       "    <tr style=\"text-align: right;\">\n",
       "      <th></th>\n",
       "      <th>depth</th>\n",
       "      <th>lat</th>\n",
       "      <th>lon</th>\n",
       "      <th>sensor</th>\n",
       "      <th>station_name</th>\n",
       "    </tr>\n",
       "    <tr>\n",
       "      <th>station_code</th>\n",
       "      <th></th>\n",
       "      <th></th>\n",
       "      <th></th>\n",
       "      <th></th>\n",
       "      <th></th>\n",
       "    </tr>\n",
       "  </thead>\n",
       "  <tbody>\n",
       "    <tr>\n",
       "      <th>44013</th>\n",
       "      <td>0.6</td>\n",
       "      <td>42.346</td>\n",
       "      <td>-70.651</td>\n",
       "      <td>urn:ioos:sensor:wmo:44013::watertemp1</td>\n",
       "      <td>BOSTON 16 NM East of Boston, MA</td>\n",
       "    </tr>\n",
       "  </tbody>\n",
       "</table>\n",
       "</div>"
      ],
      "text/plain": [
       "              depth     lat     lon                                 sensor  \\\n",
       "station_code                                                                 \n",
       "44013           0.6  42.346 -70.651  urn:ioos:sensor:wmo:44013::watertemp1   \n",
       "\n",
       "                                 station_name  \n",
       "station_code                                   \n",
       "44013         BOSTON 16 NM East of Boston, MA  "
      ]
     },
     "execution_count": 8,
     "metadata": {},
     "output_type": "execute_result"
    }
   ],
   "source": [
    "import pandas as pd\n",
    "from ioos_tools.ioos import collector2table\n",
    "\n",
    "ndbc = collector2table(collector=collector_ndbc,\n",
    "                       config=config,\n",
    "                       col='sea_water_temperature (C)')\n",
    "\n",
    "if ndbc:\n",
    "    data = dict(\n",
    "        station_name=[s._metadata.get('station_name') for s in ndbc],\n",
    "        station_code=[s._metadata.get('station_code') for s in ndbc],\n",
    "        sensor=[s._metadata.get('sensor') for s in ndbc],\n",
    "        lon=[s._metadata.get('lon') for s in ndbc],\n",
    "        lat=[s._metadata.get('lat') for s in ndbc],\n",
    "        depth=[s._metadata.get('depth') for s in ndbc],\n",
    "    )\n",
    "\n",
    "table = pd.DataFrame(data).set_index('station_code')\n",
    "table"
   ]
  },
  {
   "cell_type": "markdown",
   "metadata": {
    "deletable": true,
    "editable": true
   },
   "source": [
    "and `CoopsSos`."
   ]
  },
  {
   "cell_type": "code",
   "execution_count": 9,
   "metadata": {
    "collapsed": false,
    "deletable": true,
    "editable": true
   },
   "outputs": [
    {
     "name": "stdout",
     "output_type": "stream",
     "text": [
      "********************* Collector offerings **********************\n",
      "NOAA.NOS.CO-OPS SOS: 1118 offerings\n"
     ]
    }
   ],
   "source": [
    "from pyoos.collectors.coops.coops_sos import CoopsSos\n",
    "\n",
    "collector_coops = CoopsSos()\n",
    "\n",
    "collector_coops.set_bbox(config['region']['bbox'])\n",
    "collector_coops.end_time = config['date']['stop']\n",
    "collector_coops.start_time = config['date']['start']\n",
    "collector_coops.variables = [config['sos_name']]\n",
    "\n",
    "ofrs = collector_coops.server.offerings\n",
    "title = collector_coops.server.identification.title\n",
    "print(fmt(' Collector offerings '))\n",
    "print('{}: {} offerings'.format(title, len(ofrs)))"
   ]
  },
  {
   "cell_type": "code",
   "execution_count": 10,
   "metadata": {
    "collapsed": false,
    "deletable": true,
    "editable": true,
    "scrolled": true
   },
   "outputs": [
    {
     "data": {
      "text/html": [
       "<div>\n",
       "<table border=\"1\" class=\"dataframe\">\n",
       "  <thead>\n",
       "    <tr style=\"text-align: right;\">\n",
       "      <th></th>\n",
       "      <th>depth</th>\n",
       "      <th>lat</th>\n",
       "      <th>lon</th>\n",
       "      <th>sensor</th>\n",
       "      <th>station_name</th>\n",
       "    </tr>\n",
       "    <tr>\n",
       "      <th>station_code</th>\n",
       "      <th></th>\n",
       "      <th></th>\n",
       "      <th></th>\n",
       "      <th></th>\n",
       "      <th></th>\n",
       "    </tr>\n",
       "  </thead>\n",
       "  <tbody>\n",
       "    <tr>\n",
       "      <th>8443970</th>\n",
       "      <td>None</td>\n",
       "      <td>42.3548</td>\n",
       "      <td>-71.0534</td>\n",
       "      <td>urn:ioos:sensor:NOAA.NOS.CO-OPS:8443970:E1</td>\n",
       "      <td>Boston, MA</td>\n",
       "    </tr>\n",
       "  </tbody>\n",
       "</table>\n",
       "</div>"
      ],
      "text/plain": [
       "             depth      lat      lon  \\\n",
       "station_code                           \n",
       "8443970       None  42.3548 -71.0534   \n",
       "\n",
       "                                                  sensor station_name  \n",
       "station_code                                                           \n",
       "8443970       urn:ioos:sensor:NOAA.NOS.CO-OPS:8443970:E1   Boston, MA  "
      ]
     },
     "execution_count": 10,
     "metadata": {},
     "output_type": "execute_result"
    }
   ],
   "source": [
    "coops = collector2table(collector=collector_coops,\n",
    "                        config=config,\n",
    "                        col='sea_water_temperature (C)')\n",
    "\n",
    "if coops:\n",
    "    data = dict(\n",
    "        station_name=[s._metadata.get('station_name') for s in coops],\n",
    "        station_code=[s._metadata.get('station_code') for s in coops],\n",
    "        sensor=[s._metadata.get('sensor') for s in coops],\n",
    "        lon=[s._metadata.get('lon') for s in coops],\n",
    "        lat=[s._metadata.get('lat') for s in coops],\n",
    "        depth=[s._metadata.get('depth') for s in coops],\n",
    "    )\n",
    "\n",
    "table = pd.DataFrame(data).set_index('station_code')\n",
    "table"
   ]
  },
  {
   "cell_type": "markdown",
   "metadata": {
    "deletable": true,
    "editable": true
   },
   "source": [
    "We will join all the observations into an uniform series, interpolated to 1-hour interval, for the model-data comparison.\n",
    "\n",
    "This step is necessary because the observations can be 7 or 10 minutes resolution,\n",
    "while the models can be 30 to 60 minutes."
   ]
  },
  {
   "cell_type": "code",
   "execution_count": 11,
   "metadata": {
    "collapsed": false,
    "deletable": true,
    "editable": true,
    "scrolled": true
   },
   "outputs": [],
   "source": [
    "data = ndbc + coops\n",
    "\n",
    "index = pd.date_range(start=config['date']['start'].replace(tzinfo=None),\n",
    "                      end=config['date']['stop'].replace(tzinfo=None),\n",
    "                      freq='1H')\n",
    "\n",
    "# Preserve metadata with `reindex`.\n",
    "observations = []\n",
    "for series in data:\n",
    "    _metadata = series._metadata\n",
    "    obs = series.reindex(index=index, limit=1, method='nearest')\n",
    "    obs._metadata = _metadata\n",
    "    observations.append(obs)"
   ]
  },
  {
   "cell_type": "markdown",
   "metadata": {
    "deletable": true,
    "editable": true
   },
   "source": [
    "In this next cell we will save the data for quicker access later."
   ]
  },
  {
   "cell_type": "code",
   "execution_count": 12,
   "metadata": {
    "collapsed": false,
    "deletable": true,
    "editable": true,
    "scrolled": false
   },
   "outputs": [],
   "source": [
    "import iris\n",
    "from ioos_tools.tardis import series2cube\n",
    "\n",
    "attr = dict(\n",
    "    featureType='timeSeries',\n",
    "    Conventions='CF-1.6',\n",
    "    standard_name_vocabulary='CF-1.6',\n",
    "    cdm_data_type=\"Station\",\n",
    "    comment=\"Data from http://opendap.co-ops.nos.noaa.gov\"\n",
    ")\n",
    "\n",
    "\n",
    "cubes = iris.cube.CubeList(\n",
    "    [series2cube(obs, attr=attr) for obs in observations]\n",
    ")\n",
    "\n",
    "outfile = os.path.join(save_dir, 'OBS_DATA.nc')\n",
    "iris.save(cubes, outfile)"
   ]
  },
  {
   "cell_type": "markdown",
   "metadata": {
    "deletable": true,
    "editable": true
   },
   "source": [
    "Now it is time to loop the models we found above,"
   ]
  },
  {
   "cell_type": "code",
   "execution_count": 13,
   "metadata": {
    "collapsed": false,
    "deletable": true,
    "editable": true
   },
   "outputs": [
    {
     "name": "stdout",
     "output_type": "stream",
     "text": [
      "**************************** Models ****************************\n",
      "\n",
      "[Reading url 1/7]: http://oos.soest.hawaii.edu/thredds/dodsC/hioos/model/atm/ncep_global/NCEP_Global_Atmospheric_Model_best.ncd\n",
      "Cannot get cube for: http://oos.soest.hawaii.edu/thredds/dodsC/hioos/model/atm/ncep_global/NCEP_Global_Atmospheric_Model_best.ncd\n",
      "Cannot find ['sea_water_temperature', 'sea_surface_temperature', 'sea_water_potential_temperature', 'equivalent_potential_temperature', 'sea_water_conservative_temperature', 'pseudo_equivalent_potential_temperature'] in http://oos.soest.hawaii.edu/thredds/dodsC/hioos/model/atm/ncep_global/NCEP_Global_Atmospheric_Model_best.ncd.\n",
      "\n",
      "[Reading url 2/7]: http://geoport-dev.whoi.edu/thredds/dodsC/coawst_4/use/fmrc/coawst_4_use_best.ncd\n",
      "\n",
      "[Reading url 3/7]: http://thredds.aoos.org/thredds/dodsC/G1_SST_GLOBAL.nc\n",
      "Cannot get cube for: http://thredds.aoos.org/thredds/dodsC/G1_SST_GLOBAL.nc\n",
      "Could not find \"time\" in ()\n",
      "\n",
      "[Reading url 4/7]: http://www.smast.umassd.edu:8080/thredds/dodsC/FVCOM/NECOFS/Forecasts/NECOFS_FVCOM_OCEAN_MASSBAY_FORECAST.nc\n",
      "\n",
      "[Reading url 5/7]: http://oos.soest.hawaii.edu/thredds/dodsC/pacioos/hycom/global\n",
      "\n",
      "[Reading url 6/7]: http://www.smast.umassd.edu:8080/thredds/dodsC/FVCOM/NECOFS/Forecasts/NECOFS_GOM3_FORECAST.nc\n",
      "\n",
      "[Reading url 7/7]: http://thredds.secoora.org/thredds/dodsC/SECOORA_NCSU_CNAPS.nc\n"
     ]
    }
   ],
   "source": [
    "from iris.exceptions import (CoordinateNotFoundError, ConstraintMismatchError,\n",
    "                             MergeError)\n",
    "from ioos_tools.ioos import get_model_name\n",
    "from ioos_tools.tardis import quick_load_cubes, proc_cube, is_model, get_surface\n",
    "\n",
    "print(fmt(' Models '))\n",
    "cubes = dict()\n",
    "for k, url in enumerate(dap_urls):\n",
    "    print('\\n[Reading url {}/{}]: {}'.format(k+1, len(dap_urls), url))\n",
    "    try:\n",
    "        cube = quick_load_cubes(url, config['cf_names'],\n",
    "                                callback=None, strict=True)\n",
    "        if is_model(cube):\n",
    "            cube = proc_cube(cube,\n",
    "                             bbox=config['region']['bbox'],\n",
    "                             time=(config['date']['start'],\n",
    "                                   config['date']['stop']),\n",
    "                             units=config['units'])\n",
    "        else:\n",
    "            print(\"[Not model data]: {}\".format(url))\n",
    "            continue\n",
    "        cube = get_surface(cube)\n",
    "        mod_name = get_model_name(url)\n",
    "        cubes.update({mod_name: cube})\n",
    "    except (RuntimeError, ValueError,\n",
    "            ConstraintMismatchError, CoordinateNotFoundError,\n",
    "            IndexError) as e:\n",
    "        print('Cannot get cube for: {}\\n{}'.format(url, e))"
   ]
  },
  {
   "cell_type": "markdown",
   "metadata": {
    "deletable": true,
    "editable": true
   },
   "source": [
    "Next, we will match them with the nearest observed time-series. The `max_dist=0.08` is in degrees, that is roughly 8 kilometers."
   ]
  },
  {
   "cell_type": "code",
   "execution_count": 14,
   "metadata": {
    "collapsed": false,
    "deletable": true,
    "editable": true
   },
   "outputs": [
    {
     "name": "stdout",
     "output_type": "stream",
     "text": [
      " Downloading to file /home/filipe/IOOS/notebooks_demos/notebooks/latest/pacioos_hycom-global.nc \n",
      "[Water  ] BOSTON 16 NM East of Boston, MA\n",
      "[Land   ] Boston, MA\n",
      "Finished processing [pacioos_hycom-global]\n",
      " Downloading to file /home/filipe/IOOS/notebooks_demos/notebooks/latest/Forecasts-NECOFS_FVCOM_OCEAN_MASSBAY_FORECAST.nc \n",
      "[Water  ] BOSTON 16 NM East of Boston, MA\n",
      "[Water  ] Boston, MA\n",
      "Finished processing [Forecasts-NECOFS_FVCOM_OCEAN_MASSBAY_FORECAST]\n",
      " Downloading to file /home/filipe/IOOS/notebooks_demos/notebooks/latest/SECOORA_NCSU_CNAPS.nc \n",
      "[Water  ] BOSTON 16 NM East of Boston, MA\n",
      "[Land   ] Boston, MA\n",
      "Finished processing [SECOORA_NCSU_CNAPS]\n",
      " Downloading to file /home/filipe/IOOS/notebooks_demos/notebooks/latest/FVCOM_Forecasts-NECOFS_GOM3_FORECAST.nc \n",
      "[Water  ] BOSTON 16 NM East of Boston, MA\n",
      "[Water  ] Boston, MA\n",
      "Finished processing [FVCOM_Forecasts-NECOFS_GOM3_FORECAST]\n",
      " Downloading to file /home/filipe/IOOS/notebooks_demos/notebooks/latest/fmrc-coawst_4_use_best.nc \n",
      "[Water  ] BOSTON 16 NM East of Boston, MA\n",
      "[Water  ] Boston, MA\n",
      "Finished processing [fmrc-coawst_4_use_best]\n"
     ]
    }
   ],
   "source": [
    "import iris\n",
    "from iris.pandas import as_series\n",
    "from ioos_tools.tardis import (make_tree, get_nearest_water,\n",
    "                               add_station, ensure_timeseries, remove_ssh)\n",
    "\n",
    "for mod_name, cube in cubes.items():\n",
    "    fname = '{}.nc'.format(mod_name)\n",
    "    fname = os.path.join(save_dir, fname)\n",
    "    print(fmt(' Downloading to file {} '.format(fname)))\n",
    "    try:\n",
    "        tree, lon, lat = make_tree(cube)\n",
    "    except CoordinateNotFoundError as e:\n",
    "        print('Cannot make KDTree for: {}'.format(mod_name))\n",
    "        continue\n",
    "    # Get model series at observed locations.\n",
    "    raw_series = dict()\n",
    "    for obs in observations:\n",
    "        obs = obs._metadata\n",
    "        station = obs['station_code']\n",
    "        try:\n",
    "            kw = dict(k=10, max_dist=0.08, min_var=0.01)\n",
    "            args = cube, tree, obs['lon'], obs['lat']\n",
    "            try:\n",
    "                series, dist, idx = get_nearest_water(*args, **kw)\n",
    "            except RuntimeError as e:\n",
    "                print('Cannot download {!r}.\\n{}'.format(cube, e))\n",
    "                series = None\n",
    "        except ValueError as e:\n",
    "            status = \"No Data\"\n",
    "            print('[{}] {}'.format(status, obs['station_name']))\n",
    "            continue\n",
    "        if not series:\n",
    "            status = \"Land   \"\n",
    "        else:\n",
    "            raw_series.update({station: series})\n",
    "            series = as_series(series)\n",
    "            status = \"Water  \"\n",
    "        print('[{}] {}'.format(status, obs['station_name']))\n",
    "    if raw_series:  # Save cube.\n",
    "        for station, cube in raw_series.items():\n",
    "            cube = add_station(cube, station)\n",
    "            cube = remove_ssh(cube)\n",
    "        try:\n",
    "            cube = iris.cube.CubeList(raw_series.values()).merge_cube()\n",
    "        except MergeError as e:\n",
    "            print(e)\n",
    "        ensure_timeseries(cube)\n",
    "        try:\n",
    "            iris.save(cube, fname)\n",
    "        except AttributeError:\n",
    "            # FIXME: we should patch the bad attribute instead of removing everything.\n",
    "            cube.attributes = {}\n",
    "            iris.save(cube, fname)\n",
    "        del cube\n",
    "    print('Finished processing [{}]'.format(mod_name))"
   ]
  },
  {
   "cell_type": "markdown",
   "metadata": {
    "deletable": true,
    "editable": true
   },
   "source": [
    "Now it is possible to compute some simple comparison metrics. First we'll calculate the model mean bias:\n",
    "\n",
    "$$ \\text{MB} = \\mathbf{\\overline{m}} - \\mathbf{\\overline{o}}$$"
   ]
  },
  {
   "cell_type": "code",
   "execution_count": 15,
   "metadata": {
    "collapsed": true,
    "deletable": true,
    "editable": true
   },
   "outputs": [],
   "source": [
    "from ioos_tools.ioos import stations_keys\n",
    "\n",
    "\n",
    "def rename_cols(df, config):\n",
    "    cols = stations_keys(config, key='station_name')\n",
    "    return df.rename(columns=cols)"
   ]
  },
  {
   "cell_type": "code",
   "execution_count": 16,
   "metadata": {
    "collapsed": false,
    "deletable": true,
    "editable": true,
    "scrolled": false
   },
   "outputs": [],
   "source": [
    "from ioos_tools.ioos import load_ncs\n",
    "from ioos_tools.skill_score import mean_bias, apply_skill\n",
    "\n",
    "dfs = load_ncs(config)\n",
    "\n",
    "df = apply_skill(dfs, mean_bias, remove_mean=False, filter_tides=False)\n",
    "skill_score = dict(mean_bias=df.to_dict())\n",
    "\n",
    "# Filter out stations with no valid comparison.\n",
    "df.dropna(how='all', axis=1, inplace=True)\n",
    "df = df.applymap('{:.2f}'.format).replace('nan', '--')"
   ]
  },
  {
   "cell_type": "markdown",
   "metadata": {
    "deletable": true,
    "editable": true
   },
   "source": [
    "And the root mean squared rrror of the deviations from the mean:\n",
    "$$ \\text{CRMS} = \\sqrt{\\left(\\mathbf{m'} - \\mathbf{o'}\\right)^2}$$\n",
    "\n",
    "where: $\\mathbf{m'} = \\mathbf{m} - \\mathbf{\\overline{m}}$ and $\\mathbf{o'} = \\mathbf{o} - \\mathbf{\\overline{o}}$"
   ]
  },
  {
   "cell_type": "code",
   "execution_count": 17,
   "metadata": {
    "collapsed": false,
    "deletable": true,
    "editable": true
   },
   "outputs": [],
   "source": [
    "from ioos_tools.skill_score import rmse\n",
    "\n",
    "dfs = load_ncs(config)\n",
    "\n",
    "df = apply_skill(dfs, rmse, remove_mean=True, filter_tides=False)\n",
    "skill_score['rmse'] = df.to_dict()\n",
    "\n",
    "# Filter out stations with no valid comparison.\n",
    "df.dropna(how='all', axis=1, inplace=True)\n",
    "df = df.applymap('{:.2f}'.format).replace('nan', '--')"
   ]
  },
  {
   "cell_type": "markdown",
   "metadata": {
    "deletable": true,
    "editable": true
   },
   "source": [
    "The next 2 cells make the scores \"pretty\" for plotting."
   ]
  },
  {
   "cell_type": "code",
   "execution_count": 18,
   "metadata": {
    "collapsed": false,
    "deletable": true,
    "editable": true
   },
   "outputs": [],
   "source": [
    "import pandas as pd\n",
    "\n",
    "# Stringfy keys.\n",
    "for key in skill_score.keys():\n",
    "    skill_score[key] = {str(k): v for k, v in skill_score[key].items()}\n",
    "\n",
    "mean_bias = pd.DataFrame.from_dict(skill_score['mean_bias'])\n",
    "mean_bias = mean_bias.applymap('{:.2f}'.format).replace('nan', '--')\n",
    "\n",
    "skill_score = pd.DataFrame.from_dict(skill_score['rmse'])\n",
    "skill_score = skill_score.applymap('{:.2f}'.format).replace('nan', '--')"
   ]
  },
  {
   "cell_type": "code",
   "execution_count": 19,
   "metadata": {
    "collapsed": true,
    "deletable": true,
    "editable": true
   },
   "outputs": [],
   "source": [
    "from ioos_tools.ioos import make_map\n",
    "\n",
    "bbox = config['region']['bbox']\n",
    "units = config['units']\n",
    "run_name = config['run_name']\n",
    "\n",
    "kw = dict(zoom_start=11, line=True, states=False,\n",
    "          secoora_stations=False, layers=False)\n",
    "mapa = make_map(bbox, **kw)"
   ]
  },
  {
   "cell_type": "markdown",
   "metadata": {
    "deletable": true,
    "editable": true
   },
   "source": [
    "The cells from `[20]` to `[25]` create a [`folium`](https://github.com/python-visualization/folium) map with [`bokeh`](http://bokeh.pydata.org/en/latest/) for the time-series at the observed points.\n",
    "\n",
    "Note that we did mark the nearest model cell location used in the comparison."
   ]
  },
  {
   "cell_type": "code",
   "execution_count": 20,
   "metadata": {
    "collapsed": false,
    "deletable": true,
    "editable": true
   },
   "outputs": [
    {
     "data": {
      "text/plain": [
       "<folium.plugins.marker_cluster.MarkerCluster at 0x7f161492a5f8>"
      ]
     },
     "execution_count": 20,
     "metadata": {},
     "output_type": "execute_result"
    }
   ],
   "source": [
    "all_obs = stations_keys(config)\n",
    "\n",
    "from glob import glob\n",
    "from operator import itemgetter\n",
    "\n",
    "import iris\n",
    "import folium\n",
    "from folium.plugins import MarkerCluster\n",
    "\n",
    "iris.FUTURE.netcdf_promote = True\n",
    "\n",
    "big_list = []\n",
    "for fname in glob(os.path.join(save_dir, \"*.nc\")):\n",
    "    if 'OBS_DATA' in fname:\n",
    "        continue\n",
    "    cube = iris.load_cube(fname)\n",
    "    model = os.path.split(fname)[1].split('-')[-1].split('.')[0]\n",
    "    lons = cube.coord(axis='X').points\n",
    "    lats = cube.coord(axis='Y').points\n",
    "    stations = cube.coord('station_code').points\n",
    "    models = [model]*lons.size\n",
    "    lista = zip(models, lons.tolist(), lats.tolist(), stations.tolist())\n",
    "    big_list.extend(lista)\n",
    "\n",
    "big_list.sort(key=itemgetter(3))\n",
    "df = pd.DataFrame(big_list, columns=['name', 'lon', 'lat', 'station'])\n",
    "df.set_index('station', drop=True, inplace=True)\n",
    "groups = df.groupby(df.index)\n",
    "\n",
    "\n",
    "locations, popups = [], []\n",
    "for station, info in groups:\n",
    "    sta_name = all_obs[station]\n",
    "    for lat, lon, name in zip(info.lat, info.lon, info.name):\n",
    "        locations.append([lat, lon])\n",
    "        popups.append('[{}]: {}'.format(name, sta_name))\n",
    "\n",
    "MarkerCluster(locations=locations, popups=popups).add_to(mapa)"
   ]
  },
  {
   "cell_type": "markdown",
   "metadata": {
    "deletable": true,
    "editable": true
   },
   "source": [
    "Here we use a dictionary with some models we expect to find so we can create a better legend for the plots. If any new models are found, we will use its filename in the legend as a default until we can go back and add a short name to our library."
   ]
  },
  {
   "cell_type": "code",
   "execution_count": 21,
   "metadata": {
    "collapsed": true,
    "deletable": true,
    "editable": true
   },
   "outputs": [],
   "source": [
    "titles = {\n",
    "    'coawst_4_use_best': 'COAWST_4',\n",
    "    'global': 'HYCOM',\n",
    "    'NECOFS_GOM3_FORECAST': 'NECOFS_GOM3',\n",
    "    'NECOFS_FVCOM_OCEAN_MASSBAY_FORECAST': 'NECOFS_MassBay',\n",
    "    'OBS_DATA': 'Observations'\n",
    "}"
   ]
  },
  {
   "cell_type": "code",
   "execution_count": 22,
   "metadata": {
    "collapsed": true,
    "deletable": true,
    "editable": true
   },
   "outputs": [],
   "source": [
    "from bokeh.resources import CDN\n",
    "from bokeh.plotting import figure\n",
    "from bokeh.embed import file_html\n",
    "from bokeh.models import HoverTool\n",
    "from itertools import cycle\n",
    "from bokeh.palettes import Spectral6\n",
    "\n",
    "from folium.element import IFrame\n",
    "\n",
    "# Plot defaults.\n",
    "colors = Spectral6\n",
    "colorcycler = cycle(colors)\n",
    "tools = \"pan,box_zoom,reset\"\n",
    "width, height = 750, 250\n",
    "\n",
    "\n",
    "def make_plot(df, station):\n",
    "    p = figure(toolbar_location=\"above\",\n",
    "               x_axis_type=\"datetime\",\n",
    "               width=width,\n",
    "               height=height,\n",
    "               tools=tools,\n",
    "               title=str(station))\n",
    "    for column, series in df.iteritems():\n",
    "        series.dropna(inplace=True)\n",
    "        if not series.empty:\n",
    "            line = p.line(\n",
    "                x=series.index,\n",
    "                y=series.values,\n",
    "                legend=\"%s\" % titles.get(column, column),\n",
    "                line_color=next(colorcycler),\n",
    "                line_width=5,\n",
    "                line_cap='round',\n",
    "                line_join='round'\n",
    "            )\n",
    "            if 'OBS_DATA' not in column:\n",
    "                bias = mean_bias[str(station)][column]\n",
    "                skill = skill_score[str(station)][column]\n",
    "            else:\n",
    "                skill = bias = 'NA'\n",
    "            p.add_tools(HoverTool(tooltips=[(\"Name\", \"%s\" % column),\n",
    "                                            (\"Bias\", bias),\n",
    "                                            (\"Skill\", skill)],\n",
    "                                  renderers=[line]))\n",
    "    return p\n",
    "\n",
    "\n",
    "def make_marker(p, station):\n",
    "    lons = stations_keys(config, key='lon')\n",
    "    lats = stations_keys(config, key='lat')\n",
    "\n",
    "    lon, lat = lons[station], lats[station]\n",
    "    html = file_html(p, CDN, station)\n",
    "    iframe = IFrame(html, width=width+40, height=height+80)\n",
    "\n",
    "    popup = folium.Popup(iframe, max_width=2650)\n",
    "    icon = folium.Icon(color='green', icon='stats')\n",
    "    marker = folium.Marker(location=[lat, lon],\n",
    "                           popup=popup,\n",
    "                           icon=icon)\n",
    "    return marker"
   ]
  },
  {
   "cell_type": "code",
   "execution_count": 23,
   "metadata": {
    "collapsed": false,
    "deletable": true,
    "editable": true
   },
   "outputs": [
    {
     "data": {
      "text/html": [
       "<div style=\"width:100%;\"><div style=\"position:relative;width:100%;height:0;padding-bottom:60%;\"><iframe src=\"data:text/html;base64,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\" style=\"position:absolute;width:100%;height:100%;left:0;top:0;\"></iframe></div></div>"
      ],
      "text/plain": [
       "<folium.folium.Map at 0x7f16148f4630>"
      ]
     },
     "execution_count": 23,
     "metadata": {},
     "output_type": "execute_result"
    }
   ],
   "source": [
    "dfs = load_ncs(config)\n",
    "\n",
    "for station in dfs:\n",
    "    sta_name = all_obs[station]\n",
    "    df = dfs[station]\n",
    "    if df.empty:\n",
    "        continue\n",
    "    p = make_plot(df, station)\n",
    "    maker = make_marker(p, station)\n",
    "    maker.add_to(mapa)\n",
    "\n",
    "mapa"
   ]
  },
  {
   "cell_type": "markdown",
   "metadata": {
    "deletable": true,
    "editable": true
   },
   "source": [
    "Now we can navigate the map and click on the markers to explorer our findings.\n",
    "\n",
    "The green markers locate the observations locations. They pop-up an interactive plot with the time-series and scores for the models (hover over the lines to se the scores). The blue markers indicate the nearest model grid point found for the comparison."
   ]
  },
  {
   "cell_type": "markdown",
   "metadata": {
    "deletable": true,
    "editable": true
   },
   "source": [
    "<br>\n",
    "Right click and choose Save link as... to\n",
    "[download](https://raw.githubusercontent.com/ioos/notebooks_demos/master/notebooks/2016-12-22-boston_light_swim.ipynb)\n",
    "this notebook, or see a static view [here](http://nbviewer.ipython.org/urls/raw.githubusercontent.com/ioos/notebooks_demos/master/notebooks/2016-12-22-boston_light_swim.ipynb)."
   ]
  }
 ],
 "metadata": {
  "anaconda-cloud": {},
  "kernelspec": {
   "display_name": "Python [default]",
   "language": "python",
   "name": "python3"
  },
  "language_info": {
   "codemirror_mode": {
    "name": "ipython",
    "version": 3
   },
   "file_extension": ".py",
   "mimetype": "text/x-python",
   "name": "python",
   "nbconvert_exporter": "python",
   "pygments_lexer": "ipython3",
   "version": "3.5.3"
  }
 },
 "nbformat": 4,
 "nbformat_minor": 0
}
