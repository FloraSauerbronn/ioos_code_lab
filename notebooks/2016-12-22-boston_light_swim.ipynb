{
 "cells": [
  {
   "cell_type": "markdown",
   "metadata": {},
   "source": [
    "# The Boston Light Swim temperature analysis with Python\n",
    "\n",
    "In the past we demonstrated how to perform a CSW catalog search with [`OWSLib`](https://ioos.github.io/notebooks_demos//notebooks/2016-12-19-exploring_csw),\n",
    "and how to obtain near real-time data with [`pyoos`](https://ioos.github.io/notebooks_demos//notebooks/2016-10-12-fetching_data).\n",
    "In this notebook we will use both to find all observations and model data around the Boston Harbor to access the sea water temperature.\n",
    "\n",
    "\n",
    "This workflow is part of an example to advise swimmers of the annual [Boston lighthouse swim](http://bostonlightswim.org/) of the Boston Harbor water temperature conditions prior to the race. For more information regarding the workflow presented here see [Signell, Richard P.; Fernandes, Filipe; Wilcox, Kyle.   2016. \"Dynamic Reusable Workflows for Ocean Science.\" *J. Mar. Sci. Eng.* 4, no. 4: 68](http://dx.doi.org/10.3390/jmse4040068)."
   ]
  },
  {
   "cell_type": "code",
   "execution_count": 1,
   "metadata": {
    "collapsed": true
   },
   "outputs": [],
   "source": [
    "import warnings\n",
    "\n",
    "# Suppresing warnings for a \"pretty output.\"\n",
    "warnings.simplefilter('ignore')"
   ]
  },
  {
   "cell_type": "markdown",
   "metadata": {},
   "source": [
    "This notebook is quite big and complex,\n",
    "so to help us keep things organized we'll define a cell with the most important options and switches.\n",
    "\n",
    "Below we can define the date,\n",
    "bounding box, phenomena `SOS` and `CF` names and units,\n",
    "and the catalogs we will search."
   ]
  },
  {
   "cell_type": "code",
   "execution_count": 2,
   "metadata": {},
   "outputs": [
    {
     "name": "stdout",
     "output_type": "stream",
     "text": [
      "Overwriting config.yaml\n"
     ]
    }
   ],
   "source": [
    "%%writefile config.yaml\n",
    "\n",
    "# Specify a YYYY-MM-DD hh:mm:ss date or integer day offset.\n",
    "# If both start and stop are offsets they will be computed relative to datetime.today() at midnight.\n",
    "# Use the dates commented below to reproduce the last Boston Light Swim event forecast.\n",
    "date:\n",
    "    start: -5 # 2016-8-16 00:00:00\n",
    "    stop: +4 # 2016-8-29 00:00:00\n",
    "\n",
    "run_name: 'latest'\n",
    "\n",
    "# Boston harbor.\n",
    "region:\n",
    "    bbox: [-71.3, 42.03, -70.57, 42.63]\n",
    "    crs: 'urn:ogc:def:crs:OGC:1.3:CRS84'\n",
    "\n",
    "sos_name: 'sea_water_temperature'\n",
    "\n",
    "cf_names:\n",
    "    - sea_water_temperature\n",
    "    - sea_surface_temperature\n",
    "    - sea_water_potential_temperature\n",
    "    - equivalent_potential_temperature\n",
    "    - sea_water_conservative_temperature\n",
    "    - pseudo_equivalent_potential_temperature\n",
    "\n",
    "units: 'celsius'\n",
    "\n",
    "catalogs:\n",
    "    - https://data.ioos.us/csw\n",
    "    - https://gamone.whoi.edu/csw"
   ]
  },
  {
   "cell_type": "markdown",
   "metadata": {},
   "source": [
    "We'll print some of the search configuration options along the way to keep track of them."
   ]
  },
  {
   "cell_type": "code",
   "execution_count": 3,
   "metadata": {},
   "outputs": [
    {
     "name": "stdout",
     "output_type": "stream",
     "text": [
      "Saving data inside directory /home/filipe/IOOS/notebooks_demos/notebooks/latest\n",
      "*********************** Run information ************************\n",
      "Run date: 2017-08-21 18:31:52\n",
      "Start: 2017-08-16 00:00:00\n",
      "Stop: 2017-08-25 00:00:00\n",
      "Bounding box: -71.30, 42.03,-70.57, 42.63\n"
     ]
    }
   ],
   "source": [
    "import os\n",
    "import shutil\n",
    "from datetime import datetime\n",
    "from ioos_tools.ioos import parse_config\n",
    "\n",
    "config = parse_config('config.yaml')\n",
    "\n",
    "# Saves downloaded data into a temporary directory.\n",
    "save_dir = os.path.abspath(config['run_name'])\n",
    "if os.path.exists(save_dir):\n",
    "    shutil.rmtree(save_dir)\n",
    "os.makedirs(save_dir)\n",
    "\n",
    "fmt = '{:*^64}'.format\n",
    "print(fmt('Saving data inside directory {}'.format(save_dir)))\n",
    "print(fmt(' Run information '))\n",
    "print('Run date: {:%Y-%m-%d %H:%M:%S}'.format(datetime.utcnow()))\n",
    "print('Start: {:%Y-%m-%d %H:%M:%S}'.format(config['date']['start']))\n",
    "print('Stop: {:%Y-%m-%d %H:%M:%S}'.format(config['date']['stop']))\n",
    "print('Bounding box: {0:3.2f}, {1:3.2f},'\n",
    "      '{2:3.2f}, {3:3.2f}'.format(*config['region']['bbox']))"
   ]
  },
  {
   "cell_type": "markdown",
   "metadata": {},
   "source": [
    "We already created an `OWSLib.fes` filter [before](https://ioos.github.io/notebooks_demos//notebooks/2016-12-19-exploring_csw).\n",
    "The main difference here is that we do not want the atmosphere model data,\n",
    "so we are filtering out all the `GRIB-2` data format."
   ]
  },
  {
   "cell_type": "code",
   "execution_count": 4,
   "metadata": {
    "collapsed": true
   },
   "outputs": [],
   "source": [
    "def make_filter(config):\n",
    "    from owslib import fes\n",
    "    from ioos_tools.ioos import fes_date_filter\n",
    "    kw = dict(wildCard='*', escapeChar='\\\\',\n",
    "              singleChar='?', propertyname='apiso:AnyText')\n",
    "\n",
    "    or_filt = fes.Or([fes.PropertyIsLike(literal=('*%s*' % val), **kw)\n",
    "                      for val in config['cf_names']])\n",
    "\n",
    "    not_filt = fes.Not([fes.PropertyIsLike(literal='GRIB-2', **kw)])\n",
    "\n",
    "    begin, end = fes_date_filter(config['date']['start'],\n",
    "                                 config['date']['stop'])\n",
    "    bbox_crs = fes.BBox(config['region']['bbox'],\n",
    "                        crs=config['region']['crs'])\n",
    "    filter_list = [fes.And([bbox_crs, begin, end, or_filt, not_filt])]\n",
    "    return filter_list\n",
    "\n",
    "\n",
    "filter_list = make_filter(config)"
   ]
  },
  {
   "cell_type": "markdown",
   "metadata": {},
   "source": [
    "In the cell below we ask the catalog for all the returns that match the filter and have an OPeNDAP endpoint."
   ]
  },
  {
   "cell_type": "code",
   "execution_count": 5,
   "metadata": {
    "code_folding": [],
    "scrolled": false
   },
   "outputs": [
    {
     "name": "stdout",
     "output_type": "stream",
     "text": [
      "********************* Catalog information **********************\n",
      "URL: https://data.ioos.us/csw\n",
      "Number of datasets available: 17\n",
      "NECOFS (FVCOM) - Scituate - Latest Forecast\n",
      "NECOFS GOM3 (FVCOM) - Northeast US - Latest Forecast\n",
      "NECOFS Massachusetts (FVCOM) - Boston - Latest Forecast\n",
      "NECOFS Massachusetts (FVCOM) - Massachusetts Coastal - Latest Forecast\n",
      "NERACOOS Gulf of Maine Ocean Array: Realtime Buoy Observations: A01 Massachusetts Bay: A01 ACCELEROMETER Massachusetts Bay\n",
      "NOAA Coral Reef Watch Operational Daily Near-Real-Time Global 5-km Satellite Coral Bleaching Monitoring Products\n",
      "urn:ioos:station:NOAA.NOS.CO-OPS:8443970 station, Boston, MA\n",
      "A01 Accelerometer - Waves\n",
      "A01 Directional Waves (waves.mstrain Experimental)\n",
      "A01 Met - Meteorology\n",
      "A01 Optode - Oxygen\n",
      "A01 Sbe37 - CTD\n",
      "COAWST Modeling System: USEast: ROMS-WRF-SWAN coupled model (aka CNAPS)\n",
      "Coupled Northwest Atlantic Prediction System (CNAPS)\n",
      "Directional wave and sea surface temperature measurements collected in situ by Datawell Mark 3 directional buoy located near CLATSOP SPIT, OR from 2016/10/12 17:00:00 to 2017/08/19 18:00:29.\n",
      "Directional wave and sea surface temperature measurements collected in situ by Datawell Mark 3 directional buoy located near LAKESIDE, OR from 2017/03/31 23:00:00 to 2017/08/19 17:31:24.\n",
      "HYbrid Coordinate Ocean Model (HYCOM): Global\n",
      "***************************** DAP ******************************\n",
      "http://oos.soest.hawaii.edu/thredds/dodsC/hioos/satellite/dhw_5km.html\n",
      "http://oos.soest.hawaii.edu/thredds/dodsC/pacioos/hycom/global.html\n",
      "http://thredds.cdip.ucsd.edu/thredds/dodsC/cdip/realtime/162p1_rt.nc.html\n",
      "http://thredds.cdip.ucsd.edu/thredds/dodsC/cdip/realtime/231p1_rt.nc.html\n",
      "http://thredds.secoora.org/thredds/dodsC/SECOORA_NCSU_CNAPS.nc.html\n",
      "http://www.neracoos.org/thredds/dodsC/UMO/DSG/SOS/A01/Accelerometer/HistoricRealtime/Agg.ncml.html\n",
      "http://www.smast.umassd.edu:8080/thredds/dodsC/FVCOM/NECOFS/Forecasts/NECOFS_FVCOM_OCEAN_BOSTON_FORECAST.nc.html\n",
      "http://www.smast.umassd.edu:8080/thredds/dodsC/FVCOM/NECOFS/Forecasts/NECOFS_FVCOM_OCEAN_MASSBAY_FORECAST.nc.html\n",
      "http://www.smast.umassd.edu:8080/thredds/dodsC/FVCOM/NECOFS/Forecasts/NECOFS_FVCOM_OCEAN_SCITUATE_FORECAST.nc.html\n",
      "http://www.smast.umassd.edu:8080/thredds/dodsC/FVCOM/NECOFS/Forecasts/NECOFS_GOM3_FORECAST.nc.html\n",
      "\n",
      "\n",
      "URL: https://gamone.whoi.edu/csw\n",
      "Number of datasets available: 2\n",
      "COAWST Forecast System : USGS : US East Coast and Gulf of Mexico (Experimental)\n",
      "COAWST Modeling System: USEast: ROMS-WRF-SWAN coupled model (aka CNAPS)\n",
      "***************************** DAP ******************************\n",
      "http://geoport-dev.whoi.edu/thredds/dodsC/coawst_4/use/fmrc/coawst_4_use_best.ncd.html\n",
      "\n",
      "\n"
     ]
    }
   ],
   "source": [
    "from ioos_tools.ioos import service_urls, get_csw_records\n",
    "from owslib.csw import CatalogueServiceWeb\n",
    "\n",
    "\n",
    "dap_urls = []\n",
    "print(fmt(' Catalog information '))\n",
    "for endpoint in config['catalogs']:\n",
    "    print('URL: {}'.format(endpoint))\n",
    "    try:\n",
    "        csw = CatalogueServiceWeb(endpoint, timeout=120)\n",
    "    except Exception as e:\n",
    "        print('{}'.format(e))\n",
    "        continue\n",
    "    csw = get_csw_records(csw, filter_list, esn='full')\n",
    "    OPeNDAP = service_urls(csw.records, identifier='OPeNDAP:OPeNDAP')\n",
    "    odp = service_urls(csw.records, identifier='urn:x-esri:specification:ServiceType:odp:url')\n",
    "    dap = OPeNDAP + odp\n",
    "    dap_urls.extend(dap)\n",
    "\n",
    "    print('Number of datasets available: {}'.format(len(csw.records.keys())))\n",
    "\n",
    "    for rec, item in csw.records.items():\n",
    "        print('{}'.format(item.title))\n",
    "    if dap:\n",
    "        print(fmt(' DAP '))\n",
    "        for url in dap:\n",
    "            print('{}.html'.format(url))\n",
    "    print('\\n')\n",
    "\n",
    "# Get only unique endpoints.\n",
    "dap_urls = list(set(dap_urls))"
   ]
  },
  {
   "cell_type": "markdown",
   "metadata": {},
   "source": [
    "We found some models, and observations from NERACOOS there.\n",
    "However, we do know that there are some buoys from NDBC and CO-OPS available too.\n",
    "Also, those NERACOOS observations seem to be from a [CTD](http://www.neracoos.org/thredds/dodsC/UMO/DSG/SOS/A01/CTD1m/HistoricRealtime/Agg.ncml.html) mounted at 65 meters below the sea surface. Rendering them useless from our purpose.\n",
    "\n",
    "So let's use the catalog only for the models by filtering the observations with `is_station` below.\n",
    "And we'll rely `CO-OPS` and `NDBC` services for the observations."
   ]
  },
  {
   "cell_type": "code",
   "execution_count": 6,
   "metadata": {},
   "outputs": [
    {
     "name": "stdout",
     "output_type": "stream",
     "text": [
      "************************* Filtered DAP *************************\n",
      "http://thredds.secoora.org/thredds/dodsC/SECOORA_NCSU_CNAPS.nc.html\n",
      "http://oos.soest.hawaii.edu/thredds/dodsC/hioos/satellite/dhw_5km.html\n",
      "http://www.smast.umassd.edu:8080/thredds/dodsC/FVCOM/NECOFS/Forecasts/NECOFS_FVCOM_OCEAN_SCITUATE_FORECAST.nc.html\n",
      "http://www.smast.umassd.edu:8080/thredds/dodsC/FVCOM/NECOFS/Forecasts/NECOFS_GOM3_FORECAST.nc.html\n",
      "http://www.smast.umassd.edu:8080/thredds/dodsC/FVCOM/NECOFS/Forecasts/NECOFS_FVCOM_OCEAN_MASSBAY_FORECAST.nc.html\n",
      "http://geoport-dev.whoi.edu/thredds/dodsC/coawst_4/use/fmrc/coawst_4_use_best.ncd.html\n",
      "http://www.smast.umassd.edu:8080/thredds/dodsC/FVCOM/NECOFS/Forecasts/NECOFS_FVCOM_OCEAN_BOSTON_FORECAST.nc.html\n",
      "http://oos.soest.hawaii.edu/thredds/dodsC/pacioos/hycom/global.html\n"
     ]
    }
   ],
   "source": [
    "from ioos_tools.ioos import is_station\n",
    "\n",
    "# Filter out some station endpoints.\n",
    "non_stations = []\n",
    "for url in dap_urls:\n",
    "    try:\n",
    "        if not is_station(url):\n",
    "            non_stations.append(url)\n",
    "    except (RuntimeError, OSError, IOError) as e:\n",
    "        print('Could not access URL {}. {!r}'.format(url, e))\n",
    "\n",
    "dap_urls = non_stations\n",
    "\n",
    "print(fmt(' Filtered DAP '))\n",
    "for url in dap_urls:\n",
    "    print('{}.html'.format(url))"
   ]
  },
  {
   "cell_type": "markdown",
   "metadata": {},
   "source": [
    "Now we can use `pyoos` collectors for `NdbcSos`,"
   ]
  },
  {
   "cell_type": "code",
   "execution_count": 7,
   "metadata": {},
   "outputs": [
    {
     "name": "stdout",
     "output_type": "stream",
     "text": [
      "******************* NDBC Collector offerings *******************\n",
      "National Data Buoy Center SOS: 992 offerings\n"
     ]
    }
   ],
   "source": [
    "from pyoos.collectors.ndbc.ndbc_sos import NdbcSos\n",
    "\n",
    "collector_ndbc = NdbcSos()\n",
    "\n",
    "collector_ndbc.set_bbox(config['region']['bbox'])\n",
    "collector_ndbc.end_time = config['date']['stop']\n",
    "collector_ndbc.start_time = config['date']['start']\n",
    "collector_ndbc.variables = [config['sos_name']]\n",
    "\n",
    "ofrs = collector_ndbc.server.offerings\n",
    "title = collector_ndbc.server.identification.title\n",
    "print(fmt(' NDBC Collector offerings '))\n",
    "print('{}: {} offerings'.format(title, len(ofrs)))"
   ]
  },
  {
   "cell_type": "code",
   "execution_count": 8,
   "metadata": {},
   "outputs": [
    {
     "data": {
      "text/html": [
       "<div>\n",
       "<style>\n",
       "    .dataframe thead tr:only-child th {\n",
       "        text-align: right;\n",
       "    }\n",
       "\n",
       "    .dataframe thead th {\n",
       "        text-align: left;\n",
       "    }\n",
       "\n",
       "    .dataframe tbody tr th {\n",
       "        vertical-align: top;\n",
       "    }\n",
       "</style>\n",
       "<table border=\"1\" class=\"dataframe\">\n",
       "  <thead>\n",
       "    <tr style=\"text-align: right;\">\n",
       "      <th></th>\n",
       "      <th>depth</th>\n",
       "      <th>lat</th>\n",
       "      <th>lon</th>\n",
       "      <th>sensor</th>\n",
       "      <th>station_name</th>\n",
       "    </tr>\n",
       "    <tr>\n",
       "      <th>station_code</th>\n",
       "      <th></th>\n",
       "      <th></th>\n",
       "      <th></th>\n",
       "      <th></th>\n",
       "      <th></th>\n",
       "    </tr>\n",
       "  </thead>\n",
       "  <tbody>\n",
       "    <tr>\n",
       "      <th>44013</th>\n",
       "      <td>0.6</td>\n",
       "      <td>42.346</td>\n",
       "      <td>-70.651</td>\n",
       "      <td>urn:ioos:sensor:wmo:44013::watertemp1</td>\n",
       "      <td>BOSTON 16 NM East of Boston, MA</td>\n",
       "    </tr>\n",
       "  </tbody>\n",
       "</table>\n",
       "</div>"
      ],
      "text/plain": [
       "              depth     lat     lon                                 sensor  \\\n",
       "station_code                                                                 \n",
       "44013           0.6  42.346 -70.651  urn:ioos:sensor:wmo:44013::watertemp1   \n",
       "\n",
       "                                 station_name  \n",
       "station_code                                   \n",
       "44013         BOSTON 16 NM East of Boston, MA  "
      ]
     },
     "execution_count": 8,
     "metadata": {},
     "output_type": "execute_result"
    }
   ],
   "source": [
    "import pandas as pd\n",
    "from ioos_tools.ioos import collector2table\n",
    "\n",
    "ndbc = collector2table(collector=collector_ndbc,\n",
    "                       config=config,\n",
    "                       col='sea_water_temperature (C)')\n",
    "\n",
    "if ndbc:\n",
    "    data = dict(\n",
    "        station_name=[s._metadata.get('station_name') for s in ndbc],\n",
    "        station_code=[s._metadata.get('station_code') for s in ndbc],\n",
    "        sensor=[s._metadata.get('sensor') for s in ndbc],\n",
    "        lon=[s._metadata.get('lon') for s in ndbc],\n",
    "        lat=[s._metadata.get('lat') for s in ndbc],\n",
    "        depth=[s._metadata.get('depth') for s in ndbc],\n",
    "    )\n",
    "\n",
    "table = pd.DataFrame(data).set_index('station_code')\n",
    "table"
   ]
  },
  {
   "cell_type": "markdown",
   "metadata": {},
   "source": [
    "and `CoopsSos`."
   ]
  },
  {
   "cell_type": "code",
   "execution_count": 9,
   "metadata": {},
   "outputs": [
    {
     "name": "stdout",
     "output_type": "stream",
     "text": [
      "********************* Collector offerings **********************\n",
      "NOAA.NOS.CO-OPS SOS: 1188 offerings\n"
     ]
    }
   ],
   "source": [
    "from pyoos.collectors.coops.coops_sos import CoopsSos\n",
    "\n",
    "collector_coops = CoopsSos()\n",
    "\n",
    "collector_coops.set_bbox(config['region']['bbox'])\n",
    "collector_coops.end_time = config['date']['stop']\n",
    "collector_coops.start_time = config['date']['start']\n",
    "collector_coops.variables = [config['sos_name']]\n",
    "\n",
    "ofrs = collector_coops.server.offerings\n",
    "title = collector_coops.server.identification.title\n",
    "print(fmt(' Collector offerings '))\n",
    "print('{}: {} offerings'.format(title, len(ofrs)))"
   ]
  },
  {
   "cell_type": "code",
   "execution_count": 10,
   "metadata": {
    "scrolled": true
   },
   "outputs": [
    {
     "data": {
      "text/html": [
       "<div>\n",
       "<style>\n",
       "    .dataframe thead tr:only-child th {\n",
       "        text-align: right;\n",
       "    }\n",
       "\n",
       "    .dataframe thead th {\n",
       "        text-align: left;\n",
       "    }\n",
       "\n",
       "    .dataframe tbody tr th {\n",
       "        vertical-align: top;\n",
       "    }\n",
       "</style>\n",
       "<table border=\"1\" class=\"dataframe\">\n",
       "  <thead>\n",
       "    <tr style=\"text-align: right;\">\n",
       "      <th></th>\n",
       "      <th>depth</th>\n",
       "      <th>lat</th>\n",
       "      <th>lon</th>\n",
       "      <th>sensor</th>\n",
       "      <th>station_name</th>\n",
       "    </tr>\n",
       "    <tr>\n",
       "      <th>station_code</th>\n",
       "      <th></th>\n",
       "      <th></th>\n",
       "      <th></th>\n",
       "      <th></th>\n",
       "      <th></th>\n",
       "    </tr>\n",
       "  </thead>\n",
       "  <tbody>\n",
       "    <tr>\n",
       "      <th>44013</th>\n",
       "      <td>0.6</td>\n",
       "      <td>42.346</td>\n",
       "      <td>-70.651</td>\n",
       "      <td>urn:ioos:sensor:wmo:44013::watertemp1</td>\n",
       "      <td>BOSTON 16 NM East of Boston, MA</td>\n",
       "    </tr>\n",
       "  </tbody>\n",
       "</table>\n",
       "</div>"
      ],
      "text/plain": [
       "              depth     lat     lon                                 sensor  \\\n",
       "station_code                                                                 \n",
       "44013           0.6  42.346 -70.651  urn:ioos:sensor:wmo:44013::watertemp1   \n",
       "\n",
       "                                 station_name  \n",
       "station_code                                   \n",
       "44013         BOSTON 16 NM East of Boston, MA  "
      ]
     },
     "execution_count": 10,
     "metadata": {},
     "output_type": "execute_result"
    }
   ],
   "source": [
    "coops = collector2table(collector=collector_coops,\n",
    "                        config=config,\n",
    "                        col='sea_water_temperature (C)')\n",
    "\n",
    "if coops:\n",
    "    data = dict(\n",
    "        station_name=[s._metadata.get('station_name') for s in coops],\n",
    "        station_code=[s._metadata.get('station_code') for s in coops],\n",
    "        sensor=[s._metadata.get('sensor') for s in coops],\n",
    "        lon=[s._metadata.get('lon') for s in coops],\n",
    "        lat=[s._metadata.get('lat') for s in coops],\n",
    "        depth=[s._metadata.get('depth') for s in coops],\n",
    "    )\n",
    "\n",
    "table = pd.DataFrame(data).set_index('station_code')\n",
    "table"
   ]
  },
  {
   "cell_type": "markdown",
   "metadata": {},
   "source": [
    "We will join all the observations into an uniform series, interpolated to 1-hour interval, for the model-data comparison.\n",
    "\n",
    "This step is necessary because the observations can be 7 or 10 minutes resolution,\n",
    "while the models can be 30 to 60 minutes."
   ]
  },
  {
   "cell_type": "code",
   "execution_count": 11,
   "metadata": {
    "collapsed": true,
    "scrolled": true
   },
   "outputs": [],
   "source": [
    "data = ndbc + coops\n",
    "\n",
    "index = pd.date_range(start=config['date']['start'].replace(tzinfo=None),\n",
    "                      end=config['date']['stop'].replace(tzinfo=None),\n",
    "                      freq='1H')\n",
    "\n",
    "# Preserve metadata with `reindex`.\n",
    "observations = []\n",
    "for series in data:\n",
    "    _metadata = series._metadata\n",
    "    obs = series.reindex(index=index, limit=1, method='nearest')\n",
    "    obs._metadata = _metadata\n",
    "    observations.append(obs)"
   ]
  },
  {
   "cell_type": "markdown",
   "metadata": {},
   "source": [
    "In this next cell we will save the data for quicker access later."
   ]
  },
  {
   "cell_type": "code",
   "execution_count": 12,
   "metadata": {
    "collapsed": true,
    "scrolled": false
   },
   "outputs": [],
   "source": [
    "import iris\n",
    "from ioos_tools.tardis import series2cube\n",
    "\n",
    "attr = dict(\n",
    "    featureType='timeSeries',\n",
    "    Conventions='CF-1.6',\n",
    "    standard_name_vocabulary='CF-1.6',\n",
    "    cdm_data_type='Station',\n",
    "    comment='Data from http://opendap.co-ops.nos.noaa.gov'\n",
    ")\n",
    "\n",
    "\n",
    "cubes = iris.cube.CubeList(\n",
    "    [series2cube(obs, attr=attr) for obs in observations]\n",
    ")\n",
    "\n",
    "outfile = os.path.join(save_dir, 'OBS_DATA.nc')\n",
    "iris.save(cubes, outfile)"
   ]
  },
  {
   "cell_type": "markdown",
   "metadata": {},
   "source": [
    "Taking a quick look at the observations:"
   ]
  },
  {
   "cell_type": "code",
   "execution_count": 13,
   "metadata": {},
   "outputs": [
    {
     "data": {
      "image/png": "[encoded data removed]",
      "text/plain": [
       "<matplotlib.figure.Figure at 0x7f8e5e70d908>"
      ]
     },
     "metadata": {},
     "output_type": "display_data"
    }
   ],
   "source": [
    "%matplotlib inline\n",
    "\n",
    "ax = pd.concat(data).plot(figsize=(11, 2.25))"
   ]
  },
  {
   "cell_type": "markdown",
   "metadata": {},
   "source": [
    "Now it is time to loop the models we found above,"
   ]
  },
  {
   "cell_type": "code",
   "execution_count": 14,
   "metadata": {},
   "outputs": [
    {
     "name": "stdout",
     "output_type": "stream",
     "text": [
      "**************************** Models ****************************\n",
      "\n",
      "[Reading url 1/8]: http://thredds.secoora.org/thredds/dodsC/SECOORA_NCSU_CNAPS.nc\n",
      "\n",
      "[Reading url 2/8]: http://oos.soest.hawaii.edu/thredds/dodsC/hioos/satellite/dhw_5km\n",
      "\n",
      "[Reading url 3/8]: http://www.smast.umassd.edu:8080/thredds/dodsC/FVCOM/NECOFS/Forecasts/NECOFS_FVCOM_OCEAN_SCITUATE_FORECAST.nc\n",
      "\n",
      "[Reading url 4/8]: http://www.smast.umassd.edu:8080/thredds/dodsC/FVCOM/NECOFS/Forecasts/NECOFS_GOM3_FORECAST.nc\n",
      "\n",
      "[Reading url 5/8]: http://www.smast.umassd.edu:8080/thredds/dodsC/FVCOM/NECOFS/Forecasts/NECOFS_FVCOM_OCEAN_MASSBAY_FORECAST.nc\n",
      "\n",
      "[Reading url 6/8]: http://geoport-dev.whoi.edu/thredds/dodsC/coawst_4/use/fmrc/coawst_4_use_best.ncd\n",
      "\n",
      "[Reading url 7/8]: http://www.smast.umassd.edu:8080/thredds/dodsC/FVCOM/NECOFS/Forecasts/NECOFS_FVCOM_OCEAN_BOSTON_FORECAST.nc\n",
      "\n",
      "[Reading url 8/8]: http://oos.soest.hawaii.edu/thredds/dodsC/pacioos/hycom/global\n"
     ]
    }
   ],
   "source": [
    "from iris.exceptions import (CoordinateNotFoundError, ConstraintMismatchError,\n",
    "                             MergeError)\n",
    "from ioos_tools.ioos import get_model_name\n",
    "from ioos_tools.tardis import quick_load_cubes, proc_cube, is_model, get_surface\n",
    "\n",
    "print(fmt(' Models '))\n",
    "cubes = dict()\n",
    "for k, url in enumerate(dap_urls):\n",
    "    print('\\n[Reading url {}/{}]: {}'.format(k+1, len(dap_urls), url))\n",
    "    try:\n",
    "        cube = quick_load_cubes(url, config['cf_names'],\n",
    "                                callback=None, strict=True)\n",
    "        if is_model(cube):\n",
    "            cube = proc_cube(cube,\n",
    "                             bbox=config['region']['bbox'],\n",
    "                             time=(config['date']['start'],\n",
    "                                   config['date']['stop']),\n",
    "                             units=config['units'])\n",
    "        else:\n",
    "            print('[Not model data]: {}'.format(url))\n",
    "            continue\n",
    "        cube = get_surface(cube)\n",
    "        mod_name = get_model_name(url)\n",
    "        cubes.update({mod_name: cube})\n",
    "    except (RuntimeError, ValueError,\n",
    "            ConstraintMismatchError, CoordinateNotFoundError,\n",
    "            IndexError) as e:\n",
    "        print('Cannot get cube for: {}\\n{}'.format(url, e))"
   ]
  },
  {
   "cell_type": "markdown",
   "metadata": {},
   "source": [
    "Next, we will match them with the nearest observed time-series. The `max_dist=0.08` is in degrees, that is roughly 8 kilometers."
   ]
  },
  {
   "cell_type": "code",
   "execution_count": 15,
   "metadata": {},
   "outputs": [
    {
     "name": "stdout",
     "output_type": "stream",
     "text": [
      " Downloading to file /home/filipe/IOOS/notebooks_demos/notebooks/latest/SECOORA_NCSU_CNAPS.nc \n",
      "[Water  ] BOSTON 16 NM East of Boston, MA\n",
      "Finished processing [SECOORA_NCSU_CNAPS]\n",
      " Downloading to file /home/filipe/IOOS/notebooks_demos/notebooks/latest/hioos_satellite-dhw_5km.nc \n",
      "[Water  ] BOSTON 16 NM East of Boston, MA\n",
      "Finished processing [hioos_satellite-dhw_5km]\n",
      " Downloading to file /home/filipe/IOOS/notebooks_demos/notebooks/latest/Forecasts-NECOFS_FVCOM_OCEAN_SCITUATE_FORECAST.nc \n",
      "[No Data] BOSTON 16 NM East of Boston, MA\n",
      "Finished processing [Forecasts-NECOFS_FVCOM_OCEAN_SCITUATE_FORECAST]\n",
      " Downloading to file /home/filipe/IOOS/notebooks_demos/notebooks/latest/FVCOM_Forecasts-NECOFS_GOM3_FORECAST.nc \n",
      "[Water  ] BOSTON 16 NM East of Boston, MA\n",
      "Finished processing [FVCOM_Forecasts-NECOFS_GOM3_FORECAST]\n",
      " Downloading to file /home/filipe/IOOS/notebooks_demos/notebooks/latest/Forecasts-NECOFS_FVCOM_OCEAN_MASSBAY_FORECAST.nc \n",
      "[Water  ] BOSTON 16 NM East of Boston, MA\n",
      "Finished processing [Forecasts-NECOFS_FVCOM_OCEAN_MASSBAY_FORECAST]\n",
      " Downloading to file /home/filipe/IOOS/notebooks_demos/notebooks/latest/fmrc-coawst_4_use_best.nc \n",
      "[Water  ] BOSTON 16 NM East of Boston, MA\n",
      "Finished processing [fmrc-coawst_4_use_best]\n",
      " Downloading to file /home/filipe/IOOS/notebooks_demos/notebooks/latest/Forecasts-NECOFS_FVCOM_OCEAN_BOSTON_FORECAST.nc \n",
      "[No Data] BOSTON 16 NM East of Boston, MA\n",
      "Finished processing [Forecasts-NECOFS_FVCOM_OCEAN_BOSTON_FORECAST]\n",
      " Downloading to file /home/filipe/IOOS/notebooks_demos/notebooks/latest/pacioos_hycom-global.nc \n",
      "[Water  ] BOSTON 16 NM East of Boston, MA\n",
      "Finished processing [pacioos_hycom-global]\n"
     ]
    }
   ],
   "source": [
    "import iris\n",
    "from iris.pandas import as_series\n",
    "from ioos_tools.tardis import (make_tree, get_nearest_water,\n",
    "                               add_station, ensure_timeseries, remove_ssh)\n",
    "\n",
    "for mod_name, cube in cubes.items():\n",
    "    fname = '{}.nc'.format(mod_name)\n",
    "    fname = os.path.join(save_dir, fname)\n",
    "    print(fmt(' Downloading to file {} '.format(fname)))\n",
    "    try:\n",
    "        tree, lon, lat = make_tree(cube)\n",
    "    except CoordinateNotFoundError as e:\n",
    "        print('Cannot make KDTree for: {}'.format(mod_name))\n",
    "        continue\n",
    "    # Get model series at observed locations.\n",
    "    raw_series = dict()\n",
    "    for obs in observations:\n",
    "        obs = obs._metadata\n",
    "        station = obs['station_code']\n",
    "        try:\n",
    "            kw = dict(k=10, max_dist=0.08, min_var=0.01)\n",
    "            args = cube, tree, obs['lon'], obs['lat']\n",
    "            try:\n",
    "                series, dist, idx = get_nearest_water(*args, **kw)\n",
    "            except RuntimeError as e:\n",
    "                print('Cannot download {!r}.\\n{}'.format(cube, e))\n",
    "                series = None\n",
    "        except ValueError as e:\n",
    "            status = 'No Data'\n",
    "            print('[{}] {}'.format(status, obs['station_name']))\n",
    "            continue\n",
    "        if not series:\n",
    "            status = 'Land   '\n",
    "        else:\n",
    "            raw_series.update({station: series})\n",
    "            series = as_series(series)\n",
    "            status = 'Water  '\n",
    "        print('[{}] {}'.format(status, obs['station_name']))\n",
    "    if raw_series:  # Save cube.\n",
    "        for station, cube in raw_series.items():\n",
    "            cube = add_station(cube, station)\n",
    "            cube = remove_ssh(cube)\n",
    "        try:\n",
    "            cube = iris.cube.CubeList(raw_series.values()).merge_cube()\n",
    "        except MergeError as e:\n",
    "            print(e)\n",
    "        ensure_timeseries(cube)\n",
    "        try:\n",
    "            iris.save(cube, fname)\n",
    "        except AttributeError:\n",
    "            # FIXME: we should patch the bad attribute instead of removing everything.\n",
    "            cube.attributes = {}\n",
    "            iris.save(cube, fname)\n",
    "        del cube\n",
    "    print('Finished processing [{}]'.format(mod_name))"
   ]
  },
  {
   "cell_type": "markdown",
   "metadata": {},
   "source": [
    "Now it is possible to compute some simple comparison metrics. First we'll calculate the model mean bias:\n",
    "\n",
    "$$ \\text{MB} = \\mathbf{\\overline{m}} - \\mathbf{\\overline{o}}$$"
   ]
  },
  {
   "cell_type": "code",
   "execution_count": 16,
   "metadata": {
    "collapsed": true
   },
   "outputs": [],
   "source": [
    "from ioos_tools.ioos import stations_keys\n",
    "\n",
    "\n",
    "def rename_cols(df, config):\n",
    "    cols = stations_keys(config, key='station_name')\n",
    "    return df.rename(columns=cols)"
   ]
  },
  {
   "cell_type": "code",
   "execution_count": 17,
   "metadata": {
    "collapsed": true,
    "scrolled": false
   },
   "outputs": [],
   "source": [
    "from ioos_tools.ioos import load_ncs\n",
    "from ioos_tools.skill_score import mean_bias, apply_skill\n",
    "\n",
    "dfs = load_ncs(config)\n",
    "\n",
    "df = apply_skill(dfs, mean_bias, remove_mean=False, filter_tides=False)\n",
    "skill_score = dict(mean_bias=df.to_dict())\n",
    "\n",
    "# Filter out stations with no valid comparison.\n",
    "df.dropna(how='all', axis=1, inplace=True)\n",
    "df = df.applymap('{:.2f}'.format).replace('nan', '--')"
   ]
  },
  {
   "cell_type": "markdown",
   "metadata": {},
   "source": [
    "And the root mean squared rrror of the deviations from the mean:\n",
    "$$ \\text{CRMS} = \\sqrt{\\left(\\mathbf{m'} - \\mathbf{o'}\\right)^2}$$\n",
    "\n",
    "where: $\\mathbf{m'} = \\mathbf{m} - \\mathbf{\\overline{m}}$ and $\\mathbf{o'} = \\mathbf{o} - \\mathbf{\\overline{o}}$"
   ]
  },
  {
   "cell_type": "code",
   "execution_count": 18,
   "metadata": {
    "collapsed": true
   },
   "outputs": [],
   "source": [
    "from ioos_tools.skill_score import rmse\n",
    "\n",
    "dfs = load_ncs(config)\n",
    "\n",
    "df = apply_skill(dfs, rmse, remove_mean=True, filter_tides=False)\n",
    "skill_score['rmse'] = df.to_dict()\n",
    "\n",
    "# Filter out stations with no valid comparison.\n",
    "df.dropna(how='all', axis=1, inplace=True)\n",
    "df = df.applymap('{:.2f}'.format).replace('nan', '--')"
   ]
  },
  {
   "cell_type": "markdown",
   "metadata": {},
   "source": [
    "The next 2 cells make the scores \"pretty\" for plotting."
   ]
  },
  {
   "cell_type": "code",
   "execution_count": 19,
   "metadata": {
    "collapsed": true
   },
   "outputs": [],
   "source": [
    "import pandas as pd\n",
    "\n",
    "# Stringfy keys.\n",
    "for key in skill_score.keys():\n",
    "    skill_score[key] = {str(k): v for k, v in skill_score[key].items()}\n",
    "\n",
    "mean_bias = pd.DataFrame.from_dict(skill_score['mean_bias'])\n",
    "mean_bias = mean_bias.applymap('{:.2f}'.format).replace('nan', '--')\n",
    "\n",
    "skill_score = pd.DataFrame.from_dict(skill_score['rmse'])\n",
    "skill_score = skill_score.applymap('{:.2f}'.format).replace('nan', '--')"
   ]
  },
  {
   "cell_type": "code",
   "execution_count": 20,
   "metadata": {},
   "outputs": [],
   "source": [
    "import folium\n",
    "from ioos_tools.ioos import get_coordinates\n",
    "\n",
    "\n",
    "def make_map(bbox, **kw):\n",
    "    import numpy \n",
    "    line = kw.pop('line', True)\n",
    "    layers = kw.pop('layers', True)\n",
    "    zoom_start = kw.pop('zoom_start', 5)\n",
    "\n",
    "    lon = (bbox[0] + bbox[2]) / 2\n",
    "    lat = (bbox[1] + bbox[3]) / 2\n",
    "    m = folium.Map(width='100%', height='100%',\n",
    "                   location=[lat, lon], zoom_start=zoom_start)\n",
    "\n",
    "    if layers:\n",
    "        url = 'http://oos.soest.hawaii.edu/thredds/wms/hioos/satellite/dhw_5km'\n",
    "        w = folium.WmsTileLayer(\n",
    "            url,\n",
    "            name='sea_surface_temperature',\n",
    "            format='image/png',\n",
    "            layers='CRW_SST',\n",
    "            attr='PacIOOS TDS',\n",
    "            overlay=True,\n",
    "            transparent=True)\n",
    "        w.add_to(m)\n",
    "\n",
    "    if line:\n",
    "        p = folium.PolyLine(get_coordinates(bbox),\n",
    "                            color='#FF0000',\n",
    "                            weight=2,\n",
    "                            opacity=0.9,\n",
    "                            latlon=True)\n",
    "        p.add_to(m)\n",
    "\n",
    "    folium.LayerControl().add_to(m)\n",
    "    return m"
   ]
  },
  {
   "cell_type": "code",
   "execution_count": 21,
   "metadata": {},
   "outputs": [],
   "source": [
    "bbox = config['region']['bbox']\n",
    "\n",
    "m = make_map(\n",
    "    bbox,\n",
    "    zoom_start=11,\n",
    "    line=True,\n",
    "    layers=True\n",
    ")"
   ]
  },
  {
   "cell_type": "markdown",
   "metadata": {},
   "source": [
    "The cells from `[20]` to `[25]` create a [`folium`](https://github.com/python-visualization/folium) map with [`bokeh`](http://bokeh.pydata.org/en/latest/) for the time-series at the observed points.\n",
    "\n",
    "Note that we did mark the nearest model cell location used in the comparison."
   ]
  },
  {
   "cell_type": "code",
   "execution_count": 22,
   "metadata": {},
   "outputs": [
    {
     "data": {
      "text/plain": [
       "<folium.plugins.marker_cluster.MarkerCluster at 0x7f8e567019b0>"
      ]
     },
     "execution_count": 22,
     "metadata": {},
     "output_type": "execute_result"
    }
   ],
   "source": [
    "all_obs = stations_keys(config)\n",
    "\n",
    "from glob import glob\n",
    "from operator import itemgetter\n",
    "\n",
    "import iris\n",
    "import folium\n",
    "from folium.plugins import MarkerCluster\n",
    "\n",
    "iris.FUTURE.netcdf_promote = True\n",
    "\n",
    "big_list = []\n",
    "for fname in glob(os.path.join(save_dir, '*.nc')):\n",
    "    if 'OBS_DATA' in fname:\n",
    "        continue\n",
    "    cube = iris.load_cube(fname)\n",
    "    model = os.path.split(fname)[1].split('-')[-1].split('.')[0]\n",
    "    lons = cube.coord(axis='X').points\n",
    "    lats = cube.coord(axis='Y').points\n",
    "    stations = cube.coord('station_code').points\n",
    "    models = [model]*lons.size\n",
    "    lista = zip(models, lons.tolist(), lats.tolist(), stations.tolist())\n",
    "    big_list.extend(lista)\n",
    "\n",
    "big_list.sort(key=itemgetter(3))\n",
    "df = pd.DataFrame(big_list, columns=['name', 'lon', 'lat', 'station'])\n",
    "df.set_index('station', drop=True, inplace=True)\n",
    "groups = df.groupby(df.index)\n",
    "\n",
    "\n",
    "locations, popups = [], []\n",
    "for station, info in groups:\n",
    "    sta_name = all_obs[station]\n",
    "    for lat, lon, name in zip(info.lat, info.lon, info.name):\n",
    "        locations.append([lat, lon])\n",
    "        popups.append('[{}]: {}'.format(name, sta_name))\n",
    "\n",
    "MarkerCluster(locations=locations, popups=popups).add_to(m)"
   ]
  },
  {
   "cell_type": "markdown",
   "metadata": {},
   "source": [
    "Here we use a dictionary with some models we expect to find so we can create a better legend for the plots. If any new models are found, we will use its filename in the legend as a default until we can go back and add a short name to our library."
   ]
  },
  {
   "cell_type": "code",
   "execution_count": 23,
   "metadata": {
    "collapsed": true
   },
   "outputs": [],
   "source": [
    "titles = {\n",
    "    'coawst_4_use_best': 'COAWST_4',\n",
    "    'global': 'HYCOM',\n",
    "    'NECOFS_GOM3_FORECAST': 'NECOFS_GOM3',\n",
    "    'NECOFS_FVCOM_OCEAN_MASSBAY_FORECAST': 'NECOFS_MassBay',\n",
    "    'OBS_DATA': 'Observations'\n",
    "}"
   ]
  },
  {
   "cell_type": "code",
   "execution_count": 24,
   "metadata": {
    "collapsed": true
   },
   "outputs": [],
   "source": [
    "from bokeh.resources import CDN\n",
    "from bokeh.plotting import figure\n",
    "from bokeh.embed import file_html\n",
    "from bokeh.models import HoverTool\n",
    "from itertools import cycle\n",
    "from bokeh.palettes import Category20\n",
    "\n",
    "from folium import IFrame\n",
    "\n",
    "# Plot defaults.\n",
    "colors = Category20[20]\n",
    "colorcycler = cycle(colors)\n",
    "tools = 'pan,box_zoom,reset'\n",
    "width, height = 750, 250\n",
    "\n",
    "\n",
    "def make_plot(df, station):\n",
    "    p = figure(\n",
    "        toolbar_location='above',\n",
    "        x_axis_type='datetime',\n",
    "        width=width,\n",
    "        height=height,\n",
    "        tools=tools,\n",
    "        title=str(station)\n",
    "    )\n",
    "    for column, series in df.iteritems():\n",
    "        series.dropna(inplace=True)\n",
    "        if not series.empty:\n",
    "            if 'OBS_DATA' not in column:\n",
    "                bias = mean_bias[str(station)][column]\n",
    "                skill = skill_score[str(station)][column]\n",
    "                line_color = next(colorcycler)\n",
    "                kw = dict(alpha=0.65, line_color=line_color)\n",
    "            else:\n",
    "                skill = bias = 'NA'\n",
    "                kw = dict(alpha=1, color='crimson')\n",
    "            line = p.line(\n",
    "                x=series.index,\n",
    "                y=series.values,\n",
    "                legend='%s' % titles.get(column, column),\n",
    "                line_width=5,\n",
    "                line_cap='round',\n",
    "                line_join='round',\n",
    "                **kw,\n",
    "            )\n",
    "            p.add_tools(HoverTool(tooltips=[('Name', '%s' % column),\n",
    "                                            ('Bias', bias),\n",
    "                                            ('Skill', skill)],\n",
    "                                  renderers=[line]))\n",
    "    return p\n",
    "\n",
    "\n",
    "def make_marker(p, station):\n",
    "    lons = stations_keys(config, key='lon')\n",
    "    lats = stations_keys(config, key='lat')\n",
    "\n",
    "    lon, lat = lons[station], lats[station]\n",
    "    html = file_html(p, CDN, station)\n",
    "    iframe = IFrame(html, width=width+40, height=height+80)\n",
    "\n",
    "    popup = folium.Popup(iframe, max_width=2650)\n",
    "    icon = folium.Icon(color='green', icon='stats')\n",
    "    marker = folium.Marker(location=[lat, lon],\n",
    "                           popup=popup,\n",
    "                           icon=icon)\n",
    "    return marker"
   ]
  },
  {
   "cell_type": "code",
   "execution_count": 25,
   "metadata": {},
   "outputs": [
    {
     "data": {
      "text/html": [
       "<div style=\"width:100%;\"><div style=\"position:relative;width:100%;height:0;padding-bottom:60%;\"><iframe src=\"data:text/html;charset=utf-8;base64,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\" style=\"position:absolute;width:100%;height:100%;left:0;top:0;border:none !important;\" allowfullscreen webkitallowfullscreen mozallowfullscreen></iframe></div></div>"
      ],
      "text/plain": [
       "<folium.folium.Map at 0x7f8e56c954e0>"
      ]
     },
     "execution_count": 25,
     "metadata": {},
     "output_type": "execute_result"
    }
   ],
   "source": [
    "dfs = load_ncs(config)\n",
    "\n",
    "for station in dfs:\n",
    "    sta_name = all_obs[station]\n",
    "    df = dfs[station]\n",
    "    if df.empty:\n",
    "        continue\n",
    "    p = make_plot(df, station)\n",
    "    maker = make_marker(p, station)\n",
    "    maker.add_to(m)\n",
    "\n",
    "m"
   ]
  },
  {
   "cell_type": "markdown",
   "metadata": {},
   "source": [
    "Now we can navigate the map and click on the markers to explorer our findings.\n",
    "\n",
    "The green markers locate the observations locations. They pop-up an interactive plot with the time-series and scores for the models (hover over the lines to se the scores). The blue markers indicate the nearest model grid point found for the comparison."
   ]
  }
 ],
 "metadata": {
  "anaconda-cloud": {},
  "kernelspec": {
   "display_name": "Python [default]",
   "language": "python",
   "name": "python3"
  },
  "language_info": {
   "codemirror_mode": {
    "name": "ipython",
    "version": 3
   },
   "file_extension": ".py",
   "mimetype": "text/x-python",
   "name": "python",
   "nbconvert_exporter": "python",
   "pygments_lexer": "ipython3",
   "version": "3.6.2"
  }
 },
 "nbformat": 4,
 "nbformat_minor": 1
}
