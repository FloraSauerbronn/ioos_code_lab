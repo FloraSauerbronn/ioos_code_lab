{
 "cells": [
  {
   "cell_type": "markdown",
   "metadata": {},
   "source": [
    "# The Boston Light Swim temperature analysis with Python\n",
    "\n",
    "In the past we demonstrated how to perform a CSW catalog search with [`OWSLib`](https://ioos.github.io/notebooks_demos//notebooks/2016-12-19-exploring_csw),\n",
    "and how to obtain near real-time data with [`pyoos`](https://ioos.github.io/notebooks_demos//notebooks/2016-10-12-fetching_data).\n",
    "In this notebook we will use both to find all observations and model data around the Boston Harbor to access the sea water temperature.\n",
    "\n",
    "\n",
    "This workflow is part of an example to advise swimmers of the annual [Boston lighthouse swim](http://bostonlightswim.org/) of the Boston Harbor water temperature conditions prior to the race. For more information regarding the workflow presented here see [Signell, Richard P.; Fernandes, Filipe; Wilcox, Kyle.   2016. \"Dynamic Reusable Workflows for Ocean Science.\" *J. Mar. Sci. Eng.* 4, no. 4: 68](http://dx.doi.org/10.3390/jmse4040068)."
   ]
  },
  {
   "cell_type": "code",
   "execution_count": 1,
   "metadata": {},
   "outputs": [],
   "source": [
    "import warnings\n",
    "\n",
    "# Suppresing warnings for a \"pretty output.\"\n",
    "warnings.simplefilter('ignore')"
   ]
  },
  {
   "cell_type": "markdown",
   "metadata": {},
   "source": [
    "This notebook is quite big and complex,\n",
    "so to help us keep things organized we'll define a cell with the most important options and switches.\n",
    "\n",
    "Below we can define the date,\n",
    "bounding box, phenomena `SOS` and `CF` names and units,\n",
    "and the catalogs we will search."
   ]
  },
  {
   "cell_type": "code",
   "execution_count": 2,
   "metadata": {},
   "outputs": [
    {
     "name": "stdout",
     "output_type": "stream",
     "text": [
      "Overwriting config.yaml\n"
     ]
    }
   ],
   "source": [
    "%%writefile config.yaml\n",
    "\n",
    "# Specify a YYYY-MM-DD hh:mm:ss date or integer day offset.\n",
    "# If both start and stop are offsets they will be computed relative to datetime.today() at midnight.\n",
    "# Use the dates commented below to reproduce the last Boston Light Swim event forecast.\n",
    "date:\n",
    "    start: -5 # 2016-8-16 00:00:00\n",
    "    stop: +4 # 2016-8-29 00:00:00\n",
    "\n",
    "run_name: 'latest'\n",
    "\n",
    "# Boston harbor.\n",
    "region:\n",
    "    bbox: [-71.3, 42.03, -70.57, 42.63]\n",
    "    # Try the bounding box below to see how the notebook will behave for a different region.\n",
    "    #bbox: [-74.5, 40, -72., 41.5]\n",
    "    crs: 'urn:ogc:def:crs:OGC:1.3:CRS84'\n",
    "\n",
    "sos_name: 'sea_water_temperature'\n",
    "\n",
    "cf_names:\n",
    "    - sea_water_temperature\n",
    "    - sea_surface_temperature\n",
    "    - sea_water_potential_temperature\n",
    "    - equivalent_potential_temperature\n",
    "    - sea_water_conservative_temperature\n",
    "    - pseudo_equivalent_potential_temperature\n",
    "\n",
    "units: 'celsius'\n",
    "\n",
    "catalogs:\n",
    "    - https://data.ioos.us/csw"
   ]
  },
  {
   "cell_type": "markdown",
   "metadata": {},
   "source": [
    "We'll print some of the search configuration options along the way to keep track of them."
   ]
  },
  {
   "cell_type": "code",
   "execution_count": 3,
   "metadata": {},
   "outputs": [
    {
     "name": "stdout",
     "output_type": "stream",
     "text": [
      "Saving data inside directory /home/filipe/IOOS/notebooks_demos/notebooks/latest\n",
      "*********************** Run information ************************\n",
      "Run date: 2018-11-29 21:31:20\n",
      "Start: 2018-11-24 00:00:00\n",
      "Stop: 2018-12-03 00:00:00\n",
      "Bounding box: -71.30, 42.03,-70.57, 42.63\n"
     ]
    }
   ],
   "source": [
    "import os\n",
    "import shutil\n",
    "from datetime import datetime\n",
    "from ioos_tools.ioos import parse_config\n",
    "\n",
    "config = parse_config('config.yaml')\n",
    "\n",
    "# Saves downloaded data into a temporary directory.\n",
    "save_dir = os.path.abspath(config['run_name'])\n",
    "if os.path.exists(save_dir):\n",
    "    shutil.rmtree(save_dir)\n",
    "os.makedirs(save_dir)\n",
    "\n",
    "fmt = '{:*^64}'.format\n",
    "print(fmt('Saving data inside directory {}'.format(save_dir)))\n",
    "print(fmt(' Run information '))\n",
    "print('Run date: {:%Y-%m-%d %H:%M:%S}'.format(datetime.utcnow()))\n",
    "print('Start: {:%Y-%m-%d %H:%M:%S}'.format(config['date']['start']))\n",
    "print('Stop: {:%Y-%m-%d %H:%M:%S}'.format(config['date']['stop']))\n",
    "print('Bounding box: {0:3.2f}, {1:3.2f},'\n",
    "      '{2:3.2f}, {3:3.2f}'.format(*config['region']['bbox']))"
   ]
  },
  {
   "cell_type": "markdown",
   "metadata": {},
   "source": [
    "We already created an `OWSLib.fes` filter [before](https://ioos.github.io/notebooks_demos//notebooks/2016-12-19-exploring_csw).\n",
    "The main difference here is that we do not want the atmosphere model data,\n",
    "so we are filtering out all the `GRIB-2` data format."
   ]
  },
  {
   "cell_type": "code",
   "execution_count": 4,
   "metadata": {},
   "outputs": [],
   "source": [
    "def make_filter(config):\n",
    "    from owslib import fes\n",
    "    from ioos_tools.ioos import fes_date_filter\n",
    "    kw = dict(wildCard='*', escapeChar='\\\\',\n",
    "              singleChar='?', propertyname='apiso:AnyText')\n",
    "\n",
    "    or_filt = fes.Or([fes.PropertyIsLike(literal=('*%s*' % val), **kw)\n",
    "                      for val in config['cf_names']])\n",
    "\n",
    "    not_filt = fes.Not([fes.PropertyIsLike(literal='GRIB-2', **kw)])\n",
    "\n",
    "    begin, end = fes_date_filter(config['date']['start'],\n",
    "                                 config['date']['stop'])\n",
    "    bbox_crs = fes.BBox(config['region']['bbox'],\n",
    "                        crs=config['region']['crs'])\n",
    "    filter_list = [fes.And([bbox_crs, begin, end, or_filt, not_filt])]\n",
    "    return filter_list\n",
    "\n",
    "\n",
    "filter_list = make_filter(config)"
   ]
  },
  {
   "cell_type": "markdown",
   "metadata": {},
   "source": [
    "In the cell below we ask the catalog for all the returns that match the filter and have an OPeNDAP endpoint."
   ]
  },
  {
   "cell_type": "code",
   "execution_count": 5,
   "metadata": {
    "code_folding": [],
    "scrolled": false
   },
   "outputs": [
    {
     "name": "stdout",
     "output_type": "stream",
     "text": [
      "********************* Catalog information **********************\n",
      "URL: https://data.ioos.us/csw\n",
      "Number of datasets available: 33\n",
      "NOAA Coral Reef Watch Operational Daily Near-Real-Time Global 5-km Satellite Coral Bleaching Monitoring Products\n",
      "UNH Appledore Island CO2\n",
      "urn:ioos:station:NOAA.NOS.CO-OPS:8443970 station, Boston, MA\n",
      "A01 Accelerometer - Waves\n",
      "A01 Directional Waves (waves.mstrain Experimental)\n",
      "A01 Met - Meteorology\n",
      "A01 Optics - Chlorophyll / Turbidity\n",
      "A01 Optode - Oxygen\n",
      "A01 SBE16 Oxygen\n",
      "A01 Sbe37 - CTD\n",
      "BOSTON 16 NM East of Boston, MA\n",
      "Buoy A01 - Massachusetts Bay\n",
      "COAWST Modeling System: USEast: ROMS-WRF-SWAN coupled model (aka CNAPS)\n",
      "Coupled Northwest Atlantic Prediction System (CNAPS)\n",
      "Department of Physical Oceanography, School of Marine Sciences, University of Maine A01 Accelerometer Buoy Sensor\n",
      "Department of Physical Oceanography, School of Marine Sciences, University of Maine A01 Met Buoy Sensor\n",
      "Department of Physical Oceanography, School of Marine Sciences, University of Maine A01 Optode 51m Buoy Sensor\n",
      "Department of Physical Oceanography, School of Marine Sciences, University of Maine A01 Sbe37 1m Buoy Sensor\n",
      "Department of Physical Oceanography, School of Marine Sciences, University of Maine A01 Sbe37 20m Buoy Sensor\n",
      "Directional wave and sea surface temperature measurements collected in situ by Datawell DWR-M3 directional buoy located near CLATSOP SPIT, OR from 2018/02/07 22:03:45 to 2018/11/28 18:00:25.\n",
      "Directional wave and sea surface temperature measurements collected in situ by Datawell DWR-M3 directional buoy located near UMPQUA OFFSHORE, OR from 2017/05/04 20:25:45 to 2018/11/28 17:53:25.\n",
      "G1SST, 1km blended SST\n",
      "Global SST & Sea Ice Analysis, L4 OSTIA, 0.05 deg daily (METOFFICE-GLO-SST-L4-NRT-OBS-SST-V2)\n",
      "Latest CDIP real-time buoy observations, 3-day aggregate\n",
      "NDBC Standard Meteorological Buoy Data, 1970-present\n",
      "NECOFS (FVCOM) - Scituate - Latest Forecast\n",
      "NECOFS Massachusetts (FVCOM) - Boston - Latest Forecast\n",
      "NECOFS Massachusetts (FVCOM) - Massachusetts Coastal - Latest Forecast\n",
      "NERACOOS Gulf of Maine Ocean Array: Realtime Buoy Observations: A01 Massachusetts Bay: A01 ACCELEROMETER Massachusetts Bay\n",
      "NERACOOS Gulf of Maine Ocean Array: Realtime Buoy Observations: A01 Massachusetts Bay: A01 CTD1m Massachusetts Bay\n",
      "NERACOOS Gulf of Maine Ocean Array: Realtime Buoy Observations: A01 Massachusetts Bay: A01 CTD20m Massachusetts Bay\n",
      "NERACOOS Gulf of Maine Ocean Array: Realtime Buoy Observations: A01 Massachusetts Bay: A01 MET Massachusetts Bay\n",
      "NERACOOS Gulf of Maine Ocean Array: Realtime Buoy Observations: A01 Massachusetts Bay: A01 OPTICS3m Massachusetts Bay\n",
      "***************************** DAP ******************************\n",
      "http://oos.soest.hawaii.edu/thredds/dodsC/hioos/satellite/dhw_5km.html\n",
      "http://thredds.cdip.ucsd.edu/thredds/dodsC/cdip/realtime/139p1_rt.nc.html\n",
      "http://thredds.cdip.ucsd.edu/thredds/dodsC/cdip/realtime/162p1_rt.nc.html\n",
      "http://thredds.cdip.ucsd.edu/thredds/dodsC/cdip/realtime/latest_gudb_3day.nc.html\n",
      "http://thredds.secoora.org/thredds/dodsC/AOOS_OSTIA.nc.html\n",
      "http://thredds.secoora.org/thredds/dodsC/G1_SST_GLOBAL.nc.html\n",
      "http://thredds.secoora.org/thredds/dodsC/SECOORA_NCSU_CNAPS.nc.html\n",
      "http://www.neracoos.org/thredds/dodsC/UMO/DSG/SOS/A01/Accelerometer/HistoricRealtime.html\n",
      "http://www.neracoos.org/thredds/dodsC/UMO/DSG/SOS/A01/CTD1m/HistoricRealtime.html\n",
      "http://www.neracoos.org/thredds/dodsC/UMO/DSG/SOS/A01/CTD20m/HistoricRealtime.html\n",
      "http://www.neracoos.org/thredds/dodsC/UMO/DSG/SOS/A01/Met/HistoricRealtime.html\n",
      "http://www.neracoos.org/thredds/dodsC/UMO/DSG/SOS/A01/OPTICS_S3m/HistoricRealtime.html\n",
      "http://www.neracoos.org/thredds/dodsC/UMO/Realtime/SOS/A01/DSG_A0140.accelerometer.realtime.nc.html\n",
      "http://www.neracoos.org/thredds/dodsC/UMO/Realtime/SOS/A01/DSG_A0140.met.realtime.nc.html\n",
      "http://www.neracoos.org/thredds/dodsC/UMO/Realtime/SOS/A01/DSG_A0140.optode.realtime.51m.nc.html\n",
      "http://www.neracoos.org/thredds/dodsC/UMO/Realtime/SOS/A01/DSG_A0140.sbe37.realtime.1m.nc.html\n",
      "http://www.neracoos.org/thredds/dodsC/UMO/Realtime/SOS/A01/DSG_A0140.sbe37.realtime.20m.nc.html\n",
      "http://www.smast.umassd.edu:8080/thredds/dodsC/FVCOM/NECOFS/Forecasts/NECOFS_FVCOM_OCEAN_BOSTON_FORECAST.nc.html\n",
      "http://www.smast.umassd.edu:8080/thredds/dodsC/FVCOM/NECOFS/Forecasts/NECOFS_FVCOM_OCEAN_MASSBAY_FORECAST.nc.html\n",
      "http://www.smast.umassd.edu:8080/thredds/dodsC/FVCOM/NECOFS/Forecasts/NECOFS_FVCOM_OCEAN_SCITUATE_FORECAST.nc.html\n",
      "\n",
      "\n"
     ]
    }
   ],
   "source": [
    "from ioos_tools.ioos import service_urls, get_csw_records\n",
    "from owslib.csw import CatalogueServiceWeb\n",
    "\n",
    "\n",
    "dap_urls = []\n",
    "print(fmt(' Catalog information '))\n",
    "for endpoint in config['catalogs']:\n",
    "    print('URL: {}'.format(endpoint))\n",
    "    try:\n",
    "        csw = CatalogueServiceWeb(endpoint, timeout=120)\n",
    "    except Exception as e:\n",
    "        print('{}'.format(e))\n",
    "        continue\n",
    "    csw = get_csw_records(csw, filter_list, esn='full')\n",
    "    OPeNDAP = service_urls(csw.records, identifier='OPeNDAP:OPeNDAP')\n",
    "    odp = service_urls(csw.records, identifier='urn:x-esri:specification:ServiceType:odp:url')\n",
    "    dap = OPeNDAP + odp\n",
    "    dap_urls.extend(dap)\n",
    "\n",
    "    print('Number of datasets available: {}'.format(len(csw.records.keys())))\n",
    "\n",
    "    for rec, item in csw.records.items():\n",
    "        print('{}'.format(item.title))\n",
    "    if dap:\n",
    "        print(fmt(' DAP '))\n",
    "        for url in dap:\n",
    "            print('{}.html'.format(url))\n",
    "    print('\\n')\n",
    "\n",
    "# Get only unique endpoints.\n",
    "dap_urls = list(set(dap_urls))"
   ]
  },
  {
   "cell_type": "markdown",
   "metadata": {},
   "source": [
    "We found some models, and observations from NERACOOS there.\n",
    "However, we do know that there are some buoys from NDBC and CO-OPS available too.\n",
    "Also, those NERACOOS observations seem to be from a [CTD](http://www.neracoos.org/thredds/dodsC/UMO/DSG/SOS/A01/CTD1m/HistoricRealtime/Agg.ncml.html) mounted at 65 meters below the sea surface. Rendering them useless from our purpose.\n",
    "\n",
    "So let's use the catalog only for the models by filtering the observations with `is_station` below.\n",
    "And we'll rely `CO-OPS` and `NDBC` services for the observations."
   ]
  },
  {
   "cell_type": "code",
   "execution_count": 6,
   "metadata": {},
   "outputs": [
    {
     "name": "stdout",
     "output_type": "stream",
     "text": [
      "************************* Filtered DAP *************************\n",
      "http://thredds.secoora.org/thredds/dodsC/AOOS_OSTIA.nc.html\n",
      "http://www.neracoos.org/thredds/dodsC/UMO/Realtime/SOS/A01/DSG_A0140.sbe37.realtime.20m.nc.html\n",
      "http://www.neracoos.org/thredds/dodsC/UMO/Realtime/SOS/A01/DSG_A0140.accelerometer.realtime.nc.html\n",
      "http://www.neracoos.org/thredds/dodsC/UMO/Realtime/SOS/A01/DSG_A0140.sbe37.realtime.1m.nc.html\n",
      "http://www.smast.umassd.edu:8080/thredds/dodsC/FVCOM/NECOFS/Forecasts/NECOFS_FVCOM_OCEAN_MASSBAY_FORECAST.nc.html\n",
      "http://oos.soest.hawaii.edu/thredds/dodsC/hioos/satellite/dhw_5km.html\n",
      "http://thredds.secoora.org/thredds/dodsC/G1_SST_GLOBAL.nc.html\n",
      "http://www.neracoos.org/thredds/dodsC/UMO/Realtime/SOS/A01/DSG_A0140.optode.realtime.51m.nc.html\n",
      "http://www.smast.umassd.edu:8080/thredds/dodsC/FVCOM/NECOFS/Forecasts/NECOFS_FVCOM_OCEAN_BOSTON_FORECAST.nc.html\n",
      "http://thredds.secoora.org/thredds/dodsC/SECOORA_NCSU_CNAPS.nc.html\n",
      "http://www.smast.umassd.edu:8080/thredds/dodsC/FVCOM/NECOFS/Forecasts/NECOFS_FVCOM_OCEAN_SCITUATE_FORECAST.nc.html\n",
      "http://www.neracoos.org/thredds/dodsC/UMO/Realtime/SOS/A01/DSG_A0140.met.realtime.nc.html\n"
     ]
    }
   ],
   "source": [
    "from timeout_decorator import TimeoutError\n",
    "from ioos_tools.ioos import is_station\n",
    "\n",
    "# Filter out some station endpoints.\n",
    "non_stations = []\n",
    "for url in dap_urls:\n",
    "    try:\n",
    "        if not is_station(url):\n",
    "            non_stations.append(url)\n",
    "    except (IOError, OSError, RuntimeError, TimeoutError) as e:\n",
    "        print('Could not access URL {}.html\\n{!r}'.format(url, e))\n",
    "\n",
    "dap_urls = non_stations\n",
    "\n",
    "print(fmt(' Filtered DAP '))\n",
    "for url in dap_urls:\n",
    "    print('{}.html'.format(url))"
   ]
  },
  {
   "cell_type": "markdown",
   "metadata": {},
   "source": [
    "Now we can use `pyoos` collectors for `NdbcSos`,"
   ]
  },
  {
   "cell_type": "code",
   "execution_count": 7,
   "metadata": {},
   "outputs": [
    {
     "name": "stdout",
     "output_type": "stream",
     "text": [
      "******************* NDBC Collector offerings *******************\n",
      "National Data Buoy Center SOS: 1037 offerings\n"
     ]
    }
   ],
   "source": [
    "from pyoos.collectors.ndbc.ndbc_sos import NdbcSos\n",
    "\n",
    "collector_ndbc = NdbcSos()\n",
    "\n",
    "collector_ndbc.set_bbox(config['region']['bbox'])\n",
    "collector_ndbc.end_time = config['date']['stop']\n",
    "collector_ndbc.start_time = config['date']['start']\n",
    "collector_ndbc.variables = [config['sos_name']]\n",
    "\n",
    "ofrs = collector_ndbc.server.offerings\n",
    "title = collector_ndbc.server.identification.title\n",
    "print(fmt(' NDBC Collector offerings '))\n",
    "print('{}: {} offerings'.format(title, len(ofrs)))"
   ]
  },
  {
   "cell_type": "code",
   "execution_count": 8,
   "metadata": {},
   "outputs": [
    {
     "data": {
      "text/html": [
       "<div>\n",
       "<style scoped>\n",
       "    .dataframe tbody tr th:only-of-type {\n",
       "        vertical-align: middle;\n",
       "    }\n",
       "\n",
       "    .dataframe tbody tr th {\n",
       "        vertical-align: top;\n",
       "    }\n",
       "\n",
       "    .dataframe thead th {\n",
       "        text-align: right;\n",
       "    }\n",
       "</style>\n",
       "<table border=\"1\" class=\"dataframe\">\n",
       "  <thead>\n",
       "    <tr style=\"text-align: right;\">\n",
       "      <th></th>\n",
       "      <th>station_name</th>\n",
       "      <th>sensor</th>\n",
       "      <th>lon</th>\n",
       "      <th>lat</th>\n",
       "      <th>depth</th>\n",
       "    </tr>\n",
       "    <tr>\n",
       "      <th>station_code</th>\n",
       "      <th></th>\n",
       "      <th></th>\n",
       "      <th></th>\n",
       "      <th></th>\n",
       "      <th></th>\n",
       "    </tr>\n",
       "  </thead>\n",
       "  <tbody>\n",
       "    <tr>\n",
       "      <th>44013</th>\n",
       "      <td>BOSTON 16 NM East of Boston, MA</td>\n",
       "      <td>urn:ioos:sensor:wmo:44013::watertemp1</td>\n",
       "      <td>-70.651</td>\n",
       "      <td>42.346</td>\n",
       "      <td>0.6</td>\n",
       "    </tr>\n",
       "  </tbody>\n",
       "</table>\n",
       "</div>"
      ],
      "text/plain": [
       "                                 station_name  \\\n",
       "station_code                                    \n",
       "44013         BOSTON 16 NM East of Boston, MA   \n",
       "\n",
       "                                             sensor     lon     lat  depth  \n",
       "station_code                                                                \n",
       "44013         urn:ioos:sensor:wmo:44013::watertemp1 -70.651  42.346    0.6  "
      ]
     },
     "execution_count": 8,
     "metadata": {},
     "output_type": "execute_result"
    }
   ],
   "source": [
    "import pandas as pd\n",
    "from ioos_tools.ioos import collector2table\n",
    "\n",
    "ndbc = collector2table(collector=collector_ndbc,\n",
    "                       config=config,\n",
    "                       col='sea_water_temperature (C)')\n",
    "\n",
    "if ndbc:\n",
    "    data = dict(\n",
    "        station_name=[s._metadata.get('station_name') for s in ndbc],\n",
    "        station_code=[s._metadata.get('station_code') for s in ndbc],\n",
    "        sensor=[s._metadata.get('sensor') for s in ndbc],\n",
    "        lon=[s._metadata.get('lon') for s in ndbc],\n",
    "        lat=[s._metadata.get('lat') for s in ndbc],\n",
    "        depth=[s._metadata.get('depth') for s in ndbc],\n",
    "    )\n",
    "\n",
    "table = pd.DataFrame(data).set_index('station_code')\n",
    "table"
   ]
  },
  {
   "cell_type": "markdown",
   "metadata": {},
   "source": [
    "and `CoopsSos`."
   ]
  },
  {
   "cell_type": "code",
   "execution_count": 9,
   "metadata": {},
   "outputs": [
    {
     "name": "stdout",
     "output_type": "stream",
     "text": [
      "********************* Collector offerings **********************\n",
      "NOAA.NOS.CO-OPS SOS: 1229 offerings\n"
     ]
    }
   ],
   "source": [
    "from pyoos.collectors.coops.coops_sos import CoopsSos\n",
    "\n",
    "collector_coops = CoopsSos()\n",
    "\n",
    "collector_coops.set_bbox(config['region']['bbox'])\n",
    "collector_coops.end_time = config['date']['stop']\n",
    "collector_coops.start_time = config['date']['start']\n",
    "collector_coops.variables = [config['sos_name']]\n",
    "\n",
    "ofrs = collector_coops.server.offerings\n",
    "title = collector_coops.server.identification.title\n",
    "print(fmt(' Collector offerings '))\n",
    "print('{}: {} offerings'.format(title, len(ofrs)))"
   ]
  },
  {
   "cell_type": "code",
   "execution_count": 10,
   "metadata": {
    "scrolled": true
   },
   "outputs": [
    {
     "data": {
      "text/html": [
       "<div>\n",
       "<style scoped>\n",
       "    .dataframe tbody tr th:only-of-type {\n",
       "        vertical-align: middle;\n",
       "    }\n",
       "\n",
       "    .dataframe tbody tr th {\n",
       "        vertical-align: top;\n",
       "    }\n",
       "\n",
       "    .dataframe thead th {\n",
       "        text-align: right;\n",
       "    }\n",
       "</style>\n",
       "<table border=\"1\" class=\"dataframe\">\n",
       "  <thead>\n",
       "    <tr style=\"text-align: right;\">\n",
       "      <th></th>\n",
       "      <th>station_name</th>\n",
       "      <th>sensor</th>\n",
       "      <th>lon</th>\n",
       "      <th>lat</th>\n",
       "      <th>depth</th>\n",
       "    </tr>\n",
       "    <tr>\n",
       "      <th>station_code</th>\n",
       "      <th></th>\n",
       "      <th></th>\n",
       "      <th></th>\n",
       "      <th></th>\n",
       "      <th></th>\n",
       "    </tr>\n",
       "  </thead>\n",
       "  <tbody>\n",
       "    <tr>\n",
       "      <th>44013</th>\n",
       "      <td>BOSTON 16 NM East of Boston, MA</td>\n",
       "      <td>urn:ioos:sensor:wmo:44013::watertemp1</td>\n",
       "      <td>-70.651</td>\n",
       "      <td>42.346</td>\n",
       "      <td>0.6</td>\n",
       "    </tr>\n",
       "  </tbody>\n",
       "</table>\n",
       "</div>"
      ],
      "text/plain": [
       "                                 station_name  \\\n",
       "station_code                                    \n",
       "44013         BOSTON 16 NM East of Boston, MA   \n",
       "\n",
       "                                             sensor     lon     lat  depth  \n",
       "station_code                                                                \n",
       "44013         urn:ioos:sensor:wmo:44013::watertemp1 -70.651  42.346    0.6  "
      ]
     },
     "execution_count": 10,
     "metadata": {},
     "output_type": "execute_result"
    }
   ],
   "source": [
    "coops = collector2table(collector=collector_coops,\n",
    "                        config=config,\n",
    "                        col='sea_water_temperature (C)')\n",
    "\n",
    "if coops:\n",
    "    data = dict(\n",
    "        station_name=[s._metadata.get('station_name') for s in coops],\n",
    "        station_code=[s._metadata.get('station_code') for s in coops],\n",
    "        sensor=[s._metadata.get('sensor') for s in coops],\n",
    "        lon=[s._metadata.get('lon') for s in coops],\n",
    "        lat=[s._metadata.get('lat') for s in coops],\n",
    "        depth=[s._metadata.get('depth') for s in coops],\n",
    "    )\n",
    "\n",
    "table = pd.DataFrame(data).set_index('station_code')\n",
    "table"
   ]
  },
  {
   "cell_type": "markdown",
   "metadata": {},
   "source": [
    "We will join all the observations into an uniform series, interpolated to 1-hour interval, for the model-data comparison.\n",
    "\n",
    "This step is necessary because the observations can be 7 or 10 minutes resolution,\n",
    "while the models can be 30 to 60 minutes."
   ]
  },
  {
   "cell_type": "code",
   "execution_count": 11,
   "metadata": {
    "scrolled": true
   },
   "outputs": [],
   "source": [
    "data = ndbc + coops\n",
    "\n",
    "index = pd.date_range(start=config['date']['start'].replace(tzinfo=None),\n",
    "                      end=config['date']['stop'].replace(tzinfo=None),\n",
    "                      freq='1H')\n",
    "\n",
    "# Preserve metadata with `reindex`.\n",
    "observations = []\n",
    "for series in data:\n",
    "    _metadata = series._metadata\n",
    "    obs = series.reindex(index=index, limit=1, method='nearest')\n",
    "    obs._metadata = _metadata\n",
    "    observations.append(obs)"
   ]
  },
  {
   "cell_type": "markdown",
   "metadata": {},
   "source": [
    "In this next cell we will save the data for quicker access later."
   ]
  },
  {
   "cell_type": "code",
   "execution_count": 12,
   "metadata": {
    "scrolled": false
   },
   "outputs": [],
   "source": [
    "import iris\n",
    "from ioos_tools.tardis import series2cube\n",
    "\n",
    "attr = dict(\n",
    "    featureType='timeSeries',\n",
    "    Conventions='CF-1.6',\n",
    "    standard_name_vocabulary='CF-1.6',\n",
    "    cdm_data_type='Station',\n",
    "    comment='Data from http://opendap.co-ops.nos.noaa.gov'\n",
    ")\n",
    "\n",
    "\n",
    "cubes = iris.cube.CubeList(\n",
    "    [series2cube(obs, attr=attr) for obs in observations]\n",
    ")\n",
    "\n",
    "outfile = os.path.join(save_dir, 'OBS_DATA.nc')\n",
    "iris.save(cubes, outfile)"
   ]
  },
  {
   "cell_type": "markdown",
   "metadata": {},
   "source": [
    "Taking a quick look at the observations:"
   ]
  },
  {
   "cell_type": "code",
   "execution_count": 13,
   "metadata": {},
   "outputs": [
    {
     "data": {
      "image/png": "[encoded data removed]",
      "text/plain": [
       "<Figure size 792x162 with 1 Axes>"
      ]
     },
     "metadata": {
      "needs_background": "light"
     },
     "output_type": "display_data"
    }
   ],
   "source": [
    "%matplotlib inline\n",
    "\n",
    "ax = pd.concat(data).plot(figsize=(11, 2.25))"
   ]
  },
  {
   "cell_type": "markdown",
   "metadata": {},
   "source": [
    "Now it is time to loop the models we found above,"
   ]
  },
  {
   "cell_type": "code",
   "execution_count": 14,
   "metadata": {},
   "outputs": [
    {
     "name": "stdout",
     "output_type": "stream",
     "text": [
      "**************************** Models ****************************\n",
      "\n",
      "[Reading url 1/12]: http://thredds.secoora.org/thredds/dodsC/AOOS_OSTIA.nc\n",
      "[Not model data]: http://thredds.secoora.org/thredds/dodsC/AOOS_OSTIA.nc\n",
      "\n",
      "[Reading url 2/12]: http://www.neracoos.org/thredds/dodsC/UMO/Realtime/SOS/A01/DSG_A0140.sbe37.realtime.20m.nc\n",
      "[Not model data]: http://www.neracoos.org/thredds/dodsC/UMO/Realtime/SOS/A01/DSG_A0140.sbe37.realtime.20m.nc\n",
      "\n",
      "[Reading url 3/12]: http://www.neracoos.org/thredds/dodsC/UMO/Realtime/SOS/A01/DSG_A0140.accelerometer.realtime.nc\n",
      "Cannot get cube for: http://www.neracoos.org/thredds/dodsC/UMO/Realtime/SOS/A01/DSG_A0140.accelerometer.realtime.nc\n",
      "Cannot find ['sea_water_temperature', 'sea_surface_temperature', 'sea_water_potential_temperature', 'equivalent_potential_temperature', 'sea_water_conservative_temperature', 'pseudo_equivalent_potential_temperature'] in http://www.neracoos.org/thredds/dodsC/UMO/Realtime/SOS/A01/DSG_A0140.accelerometer.realtime.nc.\n",
      "\n",
      "[Reading url 4/12]: http://www.neracoos.org/thredds/dodsC/UMO/Realtime/SOS/A01/DSG_A0140.sbe37.realtime.1m.nc\n",
      "[Not model data]: http://www.neracoos.org/thredds/dodsC/UMO/Realtime/SOS/A01/DSG_A0140.sbe37.realtime.1m.nc\n",
      "\n",
      "[Reading url 5/12]: http://www.smast.umassd.edu:8080/thredds/dodsC/FVCOM/NECOFS/Forecasts/NECOFS_FVCOM_OCEAN_MASSBAY_FORECAST.nc\n",
      "\n",
      "[Reading url 6/12]: http://oos.soest.hawaii.edu/thredds/dodsC/hioos/satellite/dhw_5km\n",
      "\n",
      "[Reading url 7/12]: http://thredds.secoora.org/thredds/dodsC/G1_SST_GLOBAL.nc\n",
      "Cannot get cube for: http://thredds.secoora.org/thredds/dodsC/G1_SST_GLOBAL.nc\n",
      "Found more than one time coordinates!\n",
      "\n",
      "[Reading url 8/12]: http://www.neracoos.org/thredds/dodsC/UMO/Realtime/SOS/A01/DSG_A0140.optode.realtime.51m.nc\n",
      "[Not model data]: http://www.neracoos.org/thredds/dodsC/UMO/Realtime/SOS/A01/DSG_A0140.optode.realtime.51m.nc\n",
      "\n",
      "[Reading url 9/12]: http://www.smast.umassd.edu:8080/thredds/dodsC/FVCOM/NECOFS/Forecasts/NECOFS_FVCOM_OCEAN_BOSTON_FORECAST.nc\n",
      "\n",
      "[Reading url 10/12]: http://thredds.secoora.org/thredds/dodsC/SECOORA_NCSU_CNAPS.nc\n",
      "\n",
      "[Reading url 11/12]: http://www.smast.umassd.edu:8080/thredds/dodsC/FVCOM/NECOFS/Forecasts/NECOFS_FVCOM_OCEAN_SCITUATE_FORECAST.nc\n",
      "\n",
      "[Reading url 12/12]: http://www.neracoos.org/thredds/dodsC/UMO/Realtime/SOS/A01/DSG_A0140.met.realtime.nc\n",
      "Cannot get cube for: http://www.neracoos.org/thredds/dodsC/UMO/Realtime/SOS/A01/DSG_A0140.met.realtime.nc\n",
      "Cannot find ['sea_water_temperature', 'sea_surface_temperature', 'sea_water_potential_temperature', 'equivalent_potential_temperature', 'sea_water_conservative_temperature', 'pseudo_equivalent_potential_temperature'] in http://www.neracoos.org/thredds/dodsC/UMO/Realtime/SOS/A01/DSG_A0140.met.realtime.nc.\n"
     ]
    }
   ],
   "source": [
    "from iris.exceptions import (CoordinateNotFoundError, ConstraintMismatchError,\n",
    "                             MergeError)\n",
    "from ioos_tools.ioos import get_model_name\n",
    "from ioos_tools.tardis import quick_load_cubes, proc_cube, is_model, get_surface\n",
    "\n",
    "print(fmt(' Models '))\n",
    "cubes = dict()\n",
    "for k, url in enumerate(dap_urls):\n",
    "    print('\\n[Reading url {}/{}]: {}'.format(k+1, len(dap_urls), url))\n",
    "    try:\n",
    "        cube = quick_load_cubes(url, config['cf_names'],\n",
    "                                callback=None, strict=True)\n",
    "        if is_model(cube):\n",
    "            cube = proc_cube(cube,\n",
    "                             bbox=config['region']['bbox'],\n",
    "                             time=(config['date']['start'],\n",
    "                                   config['date']['stop']),\n",
    "                             units=config['units'])\n",
    "        else:\n",
    "            print('[Not model data]: {}'.format(url))\n",
    "            continue\n",
    "        cube = get_surface(cube)\n",
    "        mod_name = get_model_name(url)\n",
    "        cubes.update({mod_name: cube})\n",
    "    except (RuntimeError, ValueError,\n",
    "            ConstraintMismatchError, CoordinateNotFoundError,\n",
    "            IndexError) as e:\n",
    "        print('Cannot get cube for: {}\\n{}'.format(url, e))"
   ]
  },
  {
   "cell_type": "markdown",
   "metadata": {},
   "source": [
    "Next, we will match them with the nearest observed time-series. The `max_dist=0.08` is in degrees, that is roughly 8 kilometers."
   ]
  },
  {
   "cell_type": "code",
   "execution_count": 15,
   "metadata": {},
   "outputs": [
    {
     "name": "stdout",
     "output_type": "stream",
     "text": [
      " Downloading to file /home/filipe/IOOS/notebooks_demos/notebooks/latest/Forecasts-NECOFS_FVCOM_OCEAN_MASSBAY_FORECAST.nc \n",
      "[Water  ] BOSTON 16 NM East of Boston, MA\n",
      "Finished processing [Forecasts-NECOFS_FVCOM_OCEAN_MASSBAY_FORECAST]\n",
      " Downloading to file /home/filipe/IOOS/notebooks_demos/notebooks/latest/hioos_satellite-dhw_5km.nc \n",
      "Cannot download <iris 'Cube' of sea_surface_temperature / (Celsius) (time: 4; latitude: 12; longitude: 15)>.\n",
      "NetCDF: I/O failure\n",
      "[Land   ] BOSTON 16 NM East of Boston, MA\n",
      "Finished processing [hioos_satellite-dhw_5km]\n",
      " Downloading to file /home/filipe/IOOS/notebooks_demos/notebooks/latest/Forecasts-NECOFS_FVCOM_OCEAN_BOSTON_FORECAST.nc \n",
      "[No Data] BOSTON 16 NM East of Boston, MA\n",
      "Finished processing [Forecasts-NECOFS_FVCOM_OCEAN_BOSTON_FORECAST]\n",
      " Downloading to file /home/filipe/IOOS/notebooks_demos/notebooks/latest/SECOORA_NCSU_CNAPS.nc \n",
      "Cannot download <iris 'Cube' of sea_water_potential_temperature / (degree_Celsius) (time: 56; -- : 8; -- : 7)>.\n",
      "NetCDF: file not found\n",
      "[Land   ] BOSTON 16 NM East of Boston, MA\n",
      "Finished processing [SECOORA_NCSU_CNAPS]\n",
      " Downloading to file /home/filipe/IOOS/notebooks_demos/notebooks/latest/Forecasts-NECOFS_FVCOM_OCEAN_SCITUATE_FORECAST.nc \n",
      "[No Data] BOSTON 16 NM East of Boston, MA\n",
      "Finished processing [Forecasts-NECOFS_FVCOM_OCEAN_SCITUATE_FORECAST]\n"
     ]
    }
   ],
   "source": [
    "import iris\n",
    "from iris.pandas import as_series\n",
    "from ioos_tools.tardis import (make_tree, get_nearest_water,\n",
    "                               add_station, ensure_timeseries, remove_ssh)\n",
    "\n",
    "for mod_name, cube in cubes.items():\n",
    "    fname = '{}.nc'.format(mod_name)\n",
    "    fname = os.path.join(save_dir, fname)\n",
    "    print(fmt(' Downloading to file {} '.format(fname)))\n",
    "    try:\n",
    "        tree, lon, lat = make_tree(cube)\n",
    "    except CoordinateNotFoundError as e:\n",
    "        print('Cannot make KDTree for: {}'.format(mod_name))\n",
    "        continue\n",
    "    # Get model series at observed locations.\n",
    "    raw_series = dict()\n",
    "    for obs in observations:\n",
    "        obs = obs._metadata\n",
    "        station = obs['station_code']\n",
    "        try:\n",
    "            kw = dict(k=10, max_dist=0.08, min_var=0.01)\n",
    "            args = cube, tree, obs['lon'], obs['lat']\n",
    "            try:\n",
    "                series, dist, idx = get_nearest_water(*args, **kw)\n",
    "            except RuntimeError as e:\n",
    "                print('Cannot download {!r}.\\n{}'.format(cube, e))\n",
    "                series = None\n",
    "        except ValueError as e:\n",
    "            status = 'No Data'\n",
    "            print('[{}] {}'.format(status, obs['station_name']))\n",
    "            continue\n",
    "        if not series:\n",
    "            status = 'Land   '\n",
    "        else:\n",
    "            raw_series.update({station: series})\n",
    "            series = as_series(series)\n",
    "            status = 'Water  '\n",
    "        print('[{}] {}'.format(status, obs['station_name']))\n",
    "    if raw_series:  # Save cube.\n",
    "        for station, cube in raw_series.items():\n",
    "            cube = add_station(cube, station)\n",
    "            cube = remove_ssh(cube)\n",
    "        try:\n",
    "            cube = iris.cube.CubeList(raw_series.values()).merge_cube()\n",
    "        except MergeError as e:\n",
    "            print(e)\n",
    "        ensure_timeseries(cube)\n",
    "        try:\n",
    "            iris.save(cube, fname)\n",
    "        except AttributeError:\n",
    "            # FIXME: we should patch the bad attribute instead of removing everything.\n",
    "            cube.attributes = {}\n",
    "            iris.save(cube, fname)\n",
    "        del cube\n",
    "    print('Finished processing [{}]'.format(mod_name))"
   ]
  },
  {
   "cell_type": "markdown",
   "metadata": {},
   "source": [
    "Now it is possible to compute some simple comparison metrics. First we'll calculate the model mean bias:\n",
    "\n",
    "$$ \\text{MB} = \\mathbf{\\overline{m}} - \\mathbf{\\overline{o}}$$"
   ]
  },
  {
   "cell_type": "code",
   "execution_count": 16,
   "metadata": {},
   "outputs": [],
   "source": [
    "from ioos_tools.ioos import stations_keys\n",
    "\n",
    "\n",
    "def rename_cols(df, config):\n",
    "    cols = stations_keys(config, key='station_name')\n",
    "    return df.rename(columns=cols)"
   ]
  },
  {
   "cell_type": "code",
   "execution_count": 17,
   "metadata": {
    "scrolled": false
   },
   "outputs": [],
   "source": [
    "from ioos_tools.ioos import load_ncs\n",
    "from ioos_tools.skill_score import mean_bias, apply_skill\n",
    "\n",
    "dfs = load_ncs(config)\n",
    "\n",
    "df = apply_skill(dfs, mean_bias, remove_mean=False, filter_tides=False)\n",
    "skill_score = dict(mean_bias=df.to_dict())\n",
    "\n",
    "# Filter out stations with no valid comparison.\n",
    "df.dropna(how='all', axis=1, inplace=True)\n",
    "df = df.applymap('{:.2f}'.format).replace('nan', '--')"
   ]
  },
  {
   "cell_type": "markdown",
   "metadata": {},
   "source": [
    "And the root mean squared rrror of the deviations from the mean:\n",
    "$$ \\text{CRMS} = \\sqrt{\\left(\\mathbf{m'} - \\mathbf{o'}\\right)^2}$$\n",
    "\n",
    "where: $\\mathbf{m'} = \\mathbf{m} - \\mathbf{\\overline{m}}$ and $\\mathbf{o'} = \\mathbf{o} - \\mathbf{\\overline{o}}$"
   ]
  },
  {
   "cell_type": "code",
   "execution_count": 18,
   "metadata": {},
   "outputs": [],
   "source": [
    "from ioos_tools.skill_score import rmse\n",
    "\n",
    "dfs = load_ncs(config)\n",
    "\n",
    "df = apply_skill(dfs, rmse, remove_mean=True, filter_tides=False)\n",
    "skill_score['rmse'] = df.to_dict()\n",
    "\n",
    "# Filter out stations with no valid comparison.\n",
    "df.dropna(how='all', axis=1, inplace=True)\n",
    "df = df.applymap('{:.2f}'.format).replace('nan', '--')"
   ]
  },
  {
   "cell_type": "markdown",
   "metadata": {},
   "source": [
    "The next 2 cells make the scores \"pretty\" for plotting."
   ]
  },
  {
   "cell_type": "code",
   "execution_count": 19,
   "metadata": {},
   "outputs": [],
   "source": [
    "import pandas as pd\n",
    "\n",
    "# Stringfy keys.\n",
    "for key in skill_score.keys():\n",
    "    skill_score[key] = {str(k): v for k, v in skill_score[key].items()}\n",
    "\n",
    "mean_bias = pd.DataFrame.from_dict(skill_score['mean_bias'])\n",
    "mean_bias = mean_bias.applymap('{:.2f}'.format).replace('nan', '--')\n",
    "\n",
    "skill_score = pd.DataFrame.from_dict(skill_score['rmse'])\n",
    "skill_score = skill_score.applymap('{:.2f}'.format).replace('nan', '--')"
   ]
  },
  {
   "cell_type": "code",
   "execution_count": 20,
   "metadata": {},
   "outputs": [],
   "source": [
    "import folium\n",
    "from ioos_tools.ioos import get_coordinates\n",
    "\n",
    "\n",
    "def make_map(bbox, **kw):\n",
    "    line = kw.pop('line', True)\n",
    "    layers = kw.pop('layers', True)\n",
    "    zoom_start = kw.pop('zoom_start', 5)\n",
    "\n",
    "    lon = (bbox[0] + bbox[2]) / 2\n",
    "    lat = (bbox[1] + bbox[3]) / 2\n",
    "    m = folium.Map(width='100%', height='100%',\n",
    "                   location=[lat, lon], zoom_start=zoom_start)\n",
    "\n",
    "    if layers:\n",
    "        url = 'http://oos.soest.hawaii.edu/thredds/wms/hioos/satellite/dhw_5km'\n",
    "        w = folium.WmsTileLayer(\n",
    "            url,\n",
    "            name='Sea Surface Temperature',\n",
    "            fmt='image/png',\n",
    "            layers='CRW_SST',\n",
    "            attr='PacIOOS TDS',\n",
    "            overlay=True,\n",
    "            transparent=True)\n",
    "        w.add_to(m)\n",
    "\n",
    "    if line:\n",
    "        p = folium.PolyLine(\n",
    "            get_coordinates(bbox),\n",
    "            color='#FF0000',\n",
    "            weight=2,\n",
    "            opacity=0.9,\n",
    "        )\n",
    "        p.add_to(m)\n",
    "    return m"
   ]
  },
  {
   "cell_type": "code",
   "execution_count": 21,
   "metadata": {},
   "outputs": [],
   "source": [
    "bbox = config['region']['bbox']\n",
    "\n",
    "m = make_map(\n",
    "    bbox,\n",
    "    zoom_start=11,\n",
    "    line=True,\n",
    "    layers=True\n",
    ")"
   ]
  },
  {
   "cell_type": "markdown",
   "metadata": {},
   "source": [
    "The cells from `[20]` to `[25]` create a [`folium`](https://github.com/python-visualization/folium) map with [`bokeh`](http://bokeh.pydata.org/en/latest/) for the time-series at the observed points.\n",
    "\n",
    "Note that we did mark the nearest model cell location used in the comparison."
   ]
  },
  {
   "cell_type": "code",
   "execution_count": 22,
   "metadata": {},
   "outputs": [],
   "source": [
    "all_obs = stations_keys(config)\n",
    "\n",
    "from glob import glob\n",
    "from operator import itemgetter\n",
    "\n",
    "import iris\n",
    "from folium.plugins import MarkerCluster\n",
    "\n",
    "iris.FUTURE.netcdf_promote = True\n",
    "\n",
    "big_list = []\n",
    "for fname in glob(os.path.join(save_dir, '*.nc')):\n",
    "    if 'OBS_DATA' in fname:\n",
    "        continue\n",
    "    cube = iris.load_cube(fname)\n",
    "    model = os.path.split(fname)[1].split('-')[-1].split('.')[0]\n",
    "    lons = cube.coord(axis='X').points\n",
    "    lats = cube.coord(axis='Y').points\n",
    "    stations = cube.coord('station_code').points\n",
    "    models = [model]*lons.size\n",
    "    lista = zip(models, lons.tolist(), lats.tolist(), stations.tolist())\n",
    "    big_list.extend(lista)\n",
    "\n",
    "big_list.sort(key=itemgetter(3))\n",
    "df = pd.DataFrame(big_list, columns=['name', 'lon', 'lat', 'station'])\n",
    "df.set_index('station', drop=True, inplace=True)\n",
    "groups = df.groupby(df.index)\n",
    "\n",
    "\n",
    "locations, popups = [], []\n",
    "for station, info in groups:\n",
    "    sta_name = all_obs[station]\n",
    "    for lat, lon, name in zip(info.lat, info.lon, info.name):\n",
    "        locations.append([lat, lon])\n",
    "        popups.append('[{}]: {}'.format(name, sta_name))\n",
    "\n",
    "MarkerCluster(locations=locations, popups=popups, name='Cluster').add_to(m);"
   ]
  },
  {
   "cell_type": "markdown",
   "metadata": {},
   "source": [
    "Here we use a dictionary with some models we expect to find so we can create a better legend for the plots. If any new models are found, we will use its filename in the legend as a default until we can go back and add a short name to our library."
   ]
  },
  {
   "cell_type": "code",
   "execution_count": 23,
   "metadata": {},
   "outputs": [],
   "source": [
    "titles = {\n",
    "    'coawst_4_use_best': 'COAWST_4',\n",
    "    'global': 'HYCOM',\n",
    "    'NECOFS_GOM3_FORECAST': 'NECOFS_GOM3',\n",
    "    'NECOFS_FVCOM_OCEAN_MASSBAY_FORECAST': 'NECOFS_MassBay',\n",
    "    'OBS_DATA': 'Observations'\n",
    "}"
   ]
  },
  {
   "cell_type": "code",
   "execution_count": 24,
   "metadata": {},
   "outputs": [],
   "source": [
    "from bokeh.resources import CDN\n",
    "from bokeh.plotting import figure\n",
    "from bokeh.embed import file_html\n",
    "from bokeh.models import HoverTool\n",
    "from itertools import cycle\n",
    "from bokeh.palettes import Category20\n",
    "\n",
    "from folium import IFrame\n",
    "\n",
    "# Plot defaults.\n",
    "colors = Category20[20]\n",
    "colorcycler = cycle(colors)\n",
    "tools = 'pan,box_zoom,reset'\n",
    "width, height = 750, 250\n",
    "\n",
    "\n",
    "def make_plot(df, station):\n",
    "    p = figure(\n",
    "        toolbar_location='above',\n",
    "        x_axis_type='datetime',\n",
    "        width=width,\n",
    "        height=height,\n",
    "        tools=tools,\n",
    "        title=str(station)\n",
    "    )\n",
    "    for column, series in df.iteritems():\n",
    "        series.dropna(inplace=True)\n",
    "        if not series.empty:\n",
    "            if 'OBS_DATA' not in column:\n",
    "                bias = mean_bias[str(station)][column]\n",
    "                skill = skill_score[str(station)][column]\n",
    "                line_color = next(colorcycler)\n",
    "                kw = dict(alpha=0.65, line_color=line_color)\n",
    "            else:\n",
    "                skill = bias = 'NA'\n",
    "                kw = dict(alpha=1, color='crimson')\n",
    "            line = p.line(\n",
    "                x=series.index,\n",
    "                y=series.values,\n",
    "                legend='{}'.format(titles.get(column, column)),\n",
    "                line_width=5,\n",
    "                line_cap='round',\n",
    "                line_join='round',\n",
    "                **kw\n",
    "            )\n",
    "            p.add_tools(HoverTool(tooltips=[('Name', '{}'.format(titles.get(column, column))),\n",
    "                                            ('Bias', bias),\n",
    "                                            ('Skill', skill)],\n",
    "                                  renderers=[line]))\n",
    "    return p\n",
    "\n",
    "\n",
    "def make_marker(p, station):\n",
    "    lons = stations_keys(config, key='lon')\n",
    "    lats = stations_keys(config, key='lat')\n",
    "\n",
    "    lon, lat = lons[station], lats[station]\n",
    "    html = file_html(p, CDN, station)\n",
    "    iframe = IFrame(html, width=width+40, height=height+80)\n",
    "\n",
    "    popup = folium.Popup(iframe, max_width=2650)\n",
    "    icon = folium.Icon(color='green', icon='stats')\n",
    "    marker = folium.Marker(location=[lat, lon],\n",
    "                           popup=popup,\n",
    "                           icon=icon)\n",
    "    return marker"
   ]
  },
  {
   "cell_type": "code",
   "execution_count": 25,
   "metadata": {},
   "outputs": [
    {
     "data": {
      "text/html": [
       "<div style=\"width:100%;\"><div style=\"position:relative;width:100%;height:0;padding-bottom:60%;\"><iframe src=\"data:text/html;charset=utf-8;base64,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\" style=\"position:absolute;width:100%;height:100%;left:0;top:0;border:none !important;\" allowfullscreen webkitallowfullscreen mozallowfullscreen></iframe></div></div>"
      ],
      "text/plain": [
       "<folium.folium.Map at 0x7fb963634cf8>"
      ]
     },
     "execution_count": 25,
     "metadata": {},
     "output_type": "execute_result"
    }
   ],
   "source": [
    "dfs = load_ncs(config)\n",
    "\n",
    "for station in dfs:\n",
    "    sta_name = all_obs[station]\n",
    "    df = dfs[station]\n",
    "    if df.empty:\n",
    "        continue\n",
    "    p = make_plot(df, station)\n",
    "    marker = make_marker(p, station)\n",
    "    marker.add_to(m)\n",
    "\n",
    "folium.LayerControl().add_to(m)\n",
    "\n",
    "m"
   ]
  },
  {
   "cell_type": "markdown",
   "metadata": {},
   "source": [
    "Now we can navigate the map and click on the markers to explorer our findings.\n",
    "\n",
    "The green markers locate the observations locations. They pop-up an interactive plot with the time-series and scores for the models (hover over the lines to se the scores). The blue markers indicate the nearest model grid point found for the comparison."
   ]
  }
 ],
 "metadata": {
  "anaconda-cloud": {},
  "kernelspec": {
   "display_name": "Python 3",
   "language": "python",
   "name": "python3"
  },
  "language_info": {
   "codemirror_mode": {
    "name": "ipython",
    "version": 3
   },
   "file_extension": ".py",
   "mimetype": "text/x-python",
   "name": "python",
   "nbconvert_exporter": "python",
   "pygments_lexer": "ipython3",
   "version": "3.6.7"
  }
 },
 "nbformat": 4,
 "nbformat_minor": 1
}
