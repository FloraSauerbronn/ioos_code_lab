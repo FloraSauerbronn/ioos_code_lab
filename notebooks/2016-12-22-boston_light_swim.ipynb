{
 "cells": [
  {
   "cell_type": "markdown",
   "metadata": {},
   "source": [
    "# The Boston Light Swim temperature analysis with Python\n",
    "\n",
    "In the past we demonstrated how to perform a CSW catalog search with [`OWSLib`](https://ioos.github.io/notebooks_demos//notebooks/2016-12-19-exploring_csw),\n",
    "and how to obtain near real-time data with [`pyoos`](https://ioos.github.io/notebooks_demos//notebooks/2016-10-12-fetching_data).\n",
    "In this notebook we will use both to find all observations and model data around the Boston Harbor to access the sea water temperature.\n",
    "\n",
    "\n",
    "This workflow is part of an example to advise swimmers of the annual [Boston lighthouse swim](http://bostonlightswim.org/) of the Boston Harbor water temperature conditions prior to the race. For more information regarding the workflow presented here see [Signell, Richard P.; Fernandes, Filipe; Wilcox, Kyle.   2016. \"Dynamic Reusable Workflows for Ocean Science.\" *J. Mar. Sci. Eng.* 4, no. 4: 68](http://dx.doi.org/10.3390/jmse4040068).\n",
    "\n",
    "(This notebook uses a custom `ioos_tools` module that needs to be added to the path separately. We recommend cloning the [repository](https://github.com/ioos/notebooks_demos) on GitHub which already includes the most update version of `ioos_tools`.)"
   ]
  },
  {
   "cell_type": "code",
   "execution_count": 1,
   "metadata": {
    "collapsed": true
   },
   "outputs": [],
   "source": [
    "import os\n",
    "import sys\n",
    "import warnings\n",
    "\n",
    "ioos_tools = os.path.join(os.path.pardir)\n",
    "sys.path.append(ioos_tools)\n",
    "\n",
    "# Suppresing warnings for a \"pretty output.\"\n",
    "warnings.simplefilter('ignore')"
   ]
  },
  {
   "cell_type": "markdown",
   "metadata": {},
   "source": [
    "This notebook is quite big and complex,\n",
    "so to help us keep things organized we'll define a cell with the most important options and switches.\n",
    "\n",
    "Below we can define the date,\n",
    "bounding box, phenomena `SOS` and `CF` names and units,\n",
    "and the catalogs we will search."
   ]
  },
  {
   "cell_type": "code",
   "execution_count": 2,
   "metadata": {},
   "outputs": [
    {
     "name": "stdout",
     "output_type": "stream",
     "text": [
      "Writing config.yaml\n"
     ]
    }
   ],
   "source": [
    "%%writefile config.yaml\n",
    "\n",
    "# Specify a YYYY-MM-DD hh:mm:ss date or integer day offset.\n",
    "# If both start and stop are offsets they will be computed relative to datetime.today() at midnight.\n",
    "# Use the dates commented below to reproduce the last Boston Light Swim event forecast.\n",
    "date:\n",
    "    start: -5 # 2016-8-16 00:00:00\n",
    "    stop: +4 # 2016-8-29 00:00:00\n",
    "\n",
    "run_name: 'latest'\n",
    "\n",
    "# Boston harbor.\n",
    "region:\n",
    "    bbox: [-71.3, 42.03, -70.57, 42.63]\n",
    "    crs: 'urn:ogc:def:crs:OGC:1.3:CRS84'\n",
    "\n",
    "sos_name: 'sea_water_temperature'\n",
    "\n",
    "cf_names:\n",
    "    - sea_water_temperature\n",
    "    - sea_surface_temperature\n",
    "    - sea_water_potential_temperature\n",
    "    - equivalent_potential_temperature\n",
    "    - sea_water_conservative_temperature\n",
    "    - pseudo_equivalent_potential_temperature\n",
    "\n",
    "units: 'celsius'\n",
    "\n",
    "catalogs:\n",
    "    - https://data.ioos.us/csw\n",
    "    - https://gamone.whoi.edu/csw"
   ]
  },
  {
   "cell_type": "markdown",
   "metadata": {},
   "source": [
    "We'll print some of the search configuration options along the way to keep track of them."
   ]
  },
  {
   "cell_type": "code",
   "execution_count": 3,
   "metadata": {},
   "outputs": [
    {
     "name": "stdout",
     "output_type": "stream",
     "text": [
      "Saving data inside directory /home/filipe/IOOS/notebooks_demos/notebooks/latest\n",
      "*********************** Run information ************************\n",
      "Run date: 2017-05-04 20:24:25\n",
      "Start: 2017-04-29 00:00:00\n",
      "Stop: 2017-05-08 00:00:00\n",
      "Bounding box: -71.30, 42.03,-70.57, 42.63\n"
     ]
    }
   ],
   "source": [
    "import shutil\n",
    "from datetime import datetime\n",
    "from ioos_tools.ioos import parse_config\n",
    "\n",
    "config = parse_config('config.yaml')\n",
    "\n",
    "# Saves downloaded data into a temporary directory.\n",
    "save_dir = os.path.abspath(config['run_name'])\n",
    "if os.path.exists(save_dir):\n",
    "    shutil.rmtree(save_dir)\n",
    "os.makedirs(save_dir)\n",
    "\n",
    "fmt = '{:*^64}'.format\n",
    "print(fmt('Saving data inside directory {}'.format(save_dir)))\n",
    "print(fmt(' Run information '))\n",
    "print('Run date: {:%Y-%m-%d %H:%M:%S}'.format(datetime.utcnow()))\n",
    "print('Start: {:%Y-%m-%d %H:%M:%S}'.format(config['date']['start']))\n",
    "print('Stop: {:%Y-%m-%d %H:%M:%S}'.format(config['date']['stop']))\n",
    "print('Bounding box: {0:3.2f}, {1:3.2f},'\n",
    "      '{2:3.2f}, {3:3.2f}'.format(*config['region']['bbox']))"
   ]
  },
  {
   "cell_type": "markdown",
   "metadata": {},
   "source": [
    "We already created an `OWSLib.fes` filter [before](https://ioos.github.io/notebooks_demos//notebooks/2016-12-19-exploring_csw).\n",
    "The main difference here is that we do not want the atmosphere model data,\n",
    "so we are filtering out all the `GRIB-2` data format."
   ]
  },
  {
   "cell_type": "code",
   "execution_count": 4,
   "metadata": {
    "collapsed": true
   },
   "outputs": [],
   "source": [
    "def make_filter(config):\n",
    "    from owslib import fes\n",
    "    from ioos_tools.ioos import fes_date_filter\n",
    "    kw = dict(wildCard='*', escapeChar='\\\\',\n",
    "              singleChar='?', propertyname='apiso:AnyText')\n",
    "\n",
    "    or_filt = fes.Or([fes.PropertyIsLike(literal=('*%s*' % val), **kw)\n",
    "                      for val in config['cf_names']])\n",
    "\n",
    "    not_filt = fes.Not([fes.PropertyIsLike(literal='GRIB-2', **kw)])\n",
    "\n",
    "    begin, end = fes_date_filter(config['date']['start'],\n",
    "                                 config['date']['stop'])\n",
    "    bbox_crs = fes.BBox(config['region']['bbox'],\n",
    "                        crs=config['region']['crs'])\n",
    "    filter_list = [fes.And([bbox_crs, begin, end, or_filt, not_filt])]\n",
    "    return filter_list\n",
    "\n",
    "\n",
    "filter_list = make_filter(config)"
   ]
  },
  {
   "cell_type": "markdown",
   "metadata": {},
   "source": [
    "In the cell below we ask the catalog for all the returns that match the filter and have an OPeNDAP endpoint."
   ]
  },
  {
   "cell_type": "code",
   "execution_count": 5,
   "metadata": {
    "code_folding": [],
    "scrolled": false
   },
   "outputs": [
    {
     "name": "stdout",
     "output_type": "stream",
     "text": [
      "********************* Catalog information **********************\n",
      "URL: https://data.ioos.us/csw\n",
      "Number of datasets available: 34\n",
      "NOAA/NCEP Global Forecast System (GFS) Atmospheric Model\n",
      "ROMS ESPRESSO Real-Time Operational IS4DVAR Forecast System Version 2 (NEW) 2013-present FMRC Averages\n",
      "ROMS ESPRESSO Real-Time Operational IS4DVAR Forecast System Version 2 (NEW) 2013-present FMRC History\n",
      "urn:ioos:station:NOAA.NOS.CO-OPS:8443970 station, Boston, MA\n",
      "COAWST Modeling System: USEast: ROMS-WRF-SWAN coupled model (aka CNAPS)\n",
      "Coupled Northwest Atlantic Prediction System (CNAPS)\n",
      "Directional wave and sea surface temperature measurements collected in situ by Datawell Mark 3 directional buoy located near ASTORIA CANYON, OR from 2016/03/30 17:00:00 to 2017/04/30 18:01:37.\n",
      "Directional wave and sea surface temperature measurements collected in situ by Datawell Mark 3 directional buoy located near ASTORIA CANYON, OR from 2016/03/30 17:00:00 to 2017/05/04 18:01:51.\n",
      "Directional wave and sea surface temperature measurements collected in situ by Datawell Mark 3 directional buoy located near CLATSOP SPIT, OR from 2016/10/12 17:00:00 to 2017/04/30 18:13:18.\n",
      "Directional wave and sea surface temperature measurements collected in situ by Datawell Mark 3 directional buoy located near CLATSOP SPIT, OR from 2016/10/12 17:00:00 to 2017/05/04 18:03:14.\n",
      "Directional wave and sea surface temperature measurements collected in situ by Datawell Mark 3 directional buoy located near GRAYS HARBOR, WA from 2016/03/16 22:00:00 to 2017/04/30 17:54:34.\n",
      "Directional wave and sea surface temperature measurements collected in situ by Datawell Mark 3 directional buoy located near GRAYS HARBOR, WA from 2016/03/16 22:00:00 to 2017/05/04 17:54:28.\n",
      "Directional wave and sea surface temperature measurements collected in situ by Datawell Mark 3 directional buoy located near LOWER COOK INLET, AK from 2016/12/16 00:00:00 to 2017/04/30 18:09:42.\n",
      "Directional wave and sea surface temperature measurements collected in situ by Datawell Mark 3 directional buoy located near LOWER COOK INLET, AK from 2016/12/16 00:00:00 to 2017/05/04 18:09:57.\n",
      "Directional wave and sea surface temperature measurements collected in situ by Datawell Mark 3 directional buoy located near OCEAN STATION PAPA from 2015/01/01 01:00:00 to 2017/04/30 16:03:54.\n",
      "Directional wave and sea surface temperature measurements collected in situ by Datawell Mark 3 directional buoy located near OCEAN STATION PAPA from 2015/01/01 01:00:00 to 2017/05/04 16:01:32.\n",
      "Directional wave and sea surface temperature measurements collected in situ by Datawell Mark 3 directional buoy located near SCRIPPS NEARSHORE, CA from 2015/01/07 23:00:00 to 2017/04/30 18:00:37.\n",
      "Directional wave and sea surface temperature measurements collected in situ by Datawell Mark 3 directional buoy located near SCRIPPS NEARSHORE, CA from 2015/01/07 23:00:00 to 2017/05/04 18:00:42.\n",
      "G1SST, 1km blended SST\n",
      "HYbrid Coordinate Ocean Model (HYCOM): Global\n",
      "NECOFS (FVCOM) - Scituate - Latest Forecast\n",
      "NECOFS GOM3 (FVCOM) - Northeast US - Latest Forecast\n",
      "NECOFS Massachusetts (FVCOM) - Boston - Latest Forecast\n",
      "NECOFS Massachusetts (FVCOM) - Massachusetts Coastal - Latest Forecast\n",
      "NERACOOS Gulf of Maine Ocean Array: Realtime Buoy Observations: A01 Massachusetts Bay: A01 ACCELEROMETER Massachusetts Bay\n",
      "NERACOOS Gulf of Maine Ocean Array: Realtime Buoy Observations: A01 Massachusetts Bay: A01 CTD1m Massachusetts Bay\n",
      "NERACOOS Gulf of Maine Ocean Array: Realtime Buoy Observations: A01 Massachusetts Bay: A01 CTD1m Massachusetts Bay\n",
      "NERACOOS Gulf of Maine Ocean Array: Realtime Buoy Observations: A01 Massachusetts Bay: A01 CTD20m Massachusetts Bay\n",
      "NERACOOS Gulf of Maine Ocean Array: Realtime Buoy Observations: A01 Massachusetts Bay: A01 CTD20m Massachusetts Bay\n",
      "NERACOOS Gulf of Maine Ocean Array: Realtime Buoy Observations: A01 Massachusetts Bay: A01 MET Massachusetts Bay\n",
      "NERACOOS Gulf of Maine Ocean Array: Realtime Buoy Observations: A01 Massachusetts Bay: A01 MET Massachusetts Bay\n",
      "NERACOOS Gulf of Maine Ocean Array: Realtime Buoy Observations: A01 Massachusetts Bay: A01 OPTICS3m Massachusetts Bay\n",
      "NERACOOS Gulf of Maine Ocean Array: Realtime Buoy Observations: A01 Massachusetts Bay: A01 OPTICS3m Massachusetts Bay\n",
      "NERACOOS Gulf of Maine Ocean Array: Realtime Buoy Observations: A01 Massachusetts Bay: A01 OPTODE51m Massachusetts Bay\n",
      "***************************** DAP ******************************\n",
      "http://oos.soest.hawaii.edu/thredds/dodsC/hioos/model/atm/ncep_global/NCEP_Global_Atmospheric_Model_best.ncd.html\n",
      "http://oos.soest.hawaii.edu/thredds/dodsC/pacioos/hycom/global.html\n",
      "http://tds.marine.rutgers.edu/thredds/dodsC/roms/espresso/2013_da/avg/ESPRESSO_Real-Time_v2_Averages_Best.html\n",
      "http://tds.marine.rutgers.edu/thredds/dodsC/roms/espresso/2013_da/his/ESPRESSO_Real-Time_v2_History_Best.html\n",
      "http://thredds.cdip.ucsd.edu/thredds/dodsC/cdip/realtime/036p1_rt.nc.html\n",
      "http://thredds.cdip.ucsd.edu/thredds/dodsC/cdip/realtime/162p1_rt.nc.html\n",
      "http://thredds.cdip.ucsd.edu/thredds/dodsC/cdip/realtime/166p1_rt.nc.html\n",
      "http://thredds.cdip.ucsd.edu/thredds/dodsC/cdip/realtime/179p1_rt.nc.html\n",
      "http://thredds.cdip.ucsd.edu/thredds/dodsC/cdip/realtime/201p1_rt.nc.html\n",
      "http://thredds.cdip.ucsd.edu/thredds/dodsC/cdip/realtime/204p1_rt.nc.html\n",
      "http://thredds.secoora.org/thredds/dodsC/G1_SST_GLOBAL.nc.html\n",
      "http://thredds.secoora.org/thredds/dodsC/SECOORA_NCSU_CNAPS.nc.html\n",
      "http://www.neracoos.org/thredds/dodsC/UMO/DSG/SOS/A01/CTD1m/HistoricRealtime/Agg.ncml.html\n",
      "http://www.neracoos.org/thredds/dodsC/UMO/DSG/SOS/A01/CTD20m/HistoricRealtime/Agg.ncml.html\n",
      "http://www.neracoos.org/thredds/dodsC/UMO/DSG/SOS/A01/Met/HistoricRealtime/Agg.ncml.html\n",
      "http://www.neracoos.org/thredds/dodsC/UMO/DSG/SOS/A01/OPTICS_S3m/HistoricRealtime/Agg.ncml.html\n",
      "http://www.neracoos.org/thredds/dodsC/UMO/Realtime/SOS/A01/Accelerometer/Realtime.ncml.html\n",
      "http://www.neracoos.org/thredds/dodsC/UMO/Realtime/SOS/A01/CTD1m/Realtime.ncml.html\n",
      "http://www.neracoos.org/thredds/dodsC/UMO/Realtime/SOS/A01/CTD20m/Realtime.ncml.html\n",
      "http://www.neracoos.org/thredds/dodsC/UMO/Realtime/SOS/A01/Met/Realtime.ncml.html\n",
      "http://www.neracoos.org/thredds/dodsC/UMO/Realtime/SOS/A01/OPTICS_S3m/Realtime.ncml.html\n",
      "http://www.neracoos.org/thredds/dodsC/UMO/Realtime/SOS/A01/OPTODE51m/Realtime.ncml.html\n",
      "http://www.smast.umassd.edu:8080/thredds/dodsC/FVCOM/NECOFS/Forecasts/NECOFS_FVCOM_OCEAN_BOSTON_FORECAST.nc.html\n",
      "http://www.smast.umassd.edu:8080/thredds/dodsC/FVCOM/NECOFS/Forecasts/NECOFS_FVCOM_OCEAN_MASSBAY_FORECAST.nc.html\n",
      "http://www.smast.umassd.edu:8080/thredds/dodsC/FVCOM/NECOFS/Forecasts/NECOFS_FVCOM_OCEAN_SCITUATE_FORECAST.nc.html\n",
      "http://www.smast.umassd.edu:8080/thredds/dodsC/FVCOM/NECOFS/Forecasts/NECOFS_GOM3_FORECAST.nc.html\n",
      "https://opendap.co-ops.nos.noaa.gov/ioos-dif-sos/images/tide_gauge.jpg.html\n",
      "\n",
      "\n",
      "URL: https://gamone.whoi.edu/csw\n",
      "Number of datasets available: 2\n",
      "COAWST Forecast System : USGS : US East Coast and Gulf of Mexico (Experimental)\n",
      "COAWST Modeling System: USEast: ROMS-WRF-SWAN coupled model (aka CNAPS)\n",
      "***************************** DAP ******************************\n",
      "http://geoport-dev.whoi.edu/thredds/dodsC/coawst_4/use/fmrc/coawst_4_use_best.ncd.html\n",
      "\n",
      "\n"
     ]
    }
   ],
   "source": [
    "from ioos_tools.ioos import service_urls, get_csw_records\n",
    "from owslib.csw import CatalogueServiceWeb\n",
    "\n",
    "\n",
    "dap_urls = []\n",
    "print(fmt(' Catalog information '))\n",
    "for endpoint in config['catalogs']:\n",
    "    print('URL: {}'.format(endpoint))\n",
    "    try:\n",
    "        csw = CatalogueServiceWeb(endpoint, timeout=120)\n",
    "    except Exception as e:\n",
    "        print('{}'.format(e))\n",
    "        continue\n",
    "    csw = get_csw_records(csw, filter_list, esn='full')\n",
    "    OPeNDAP = service_urls(csw.records, identifier='OPeNDAP:OPeNDAP')\n",
    "    odp = service_urls(csw.records, identifier='urn:x-esri:specification:ServiceType:odp:url')\n",
    "    dap = OPeNDAP + odp\n",
    "    dap_urls.extend(dap)\n",
    "\n",
    "    print('Number of datasets available: {}'.format(len(csw.records.keys())))\n",
    "\n",
    "    for rec, item in csw.records.items():\n",
    "        print('{}'.format(item.title))\n",
    "    if dap:\n",
    "        print(fmt(' DAP '))\n",
    "        for url in dap:\n",
    "            print('{}.html'.format(url))\n",
    "    print('\\n')\n",
    "\n",
    "# Get only unique endpoints.\n",
    "dap_urls = list(set(dap_urls))"
   ]
  },
  {
   "cell_type": "markdown",
   "metadata": {},
   "source": [
    "We found some models, and observations from NERACOOS there.\n",
    "However, we do know that there are some buoys from NDBC and CO-OPS available too.\n",
    "Also, those NERACOOS observations seem to be from a [CTD](http://www.neracoos.org/thredds/dodsC/UMO/DSG/SOS/A01/CTD1m/HistoricRealtime/Agg.ncml.html) mounted at 65 meters below the sea surface. Rendering them useless from our purpose.\n",
    "\n",
    "So let's use the catalog only for the models by filtering the observations with `is_station` below.\n",
    "And we'll rely `CO-OPS` and `NDBC` services for the observations."
   ]
  },
  {
   "cell_type": "code",
   "execution_count": 6,
   "metadata": {},
   "outputs": [
    {
     "name": "stdout",
     "output_type": "stream",
     "text": [
      "Could not access URL https://opendap.co-ops.nos.noaa.gov/ioos-dif-sos/images/tide_gauge.jpg. OSError('NetCDF: file not found',)\n",
      "************************* Filtered DAP *************************\n",
      "http://www.smast.umassd.edu:8080/thredds/dodsC/FVCOM/NECOFS/Forecasts/NECOFS_FVCOM_OCEAN_BOSTON_FORECAST.nc.html\n",
      "http://oos.soest.hawaii.edu/thredds/dodsC/hioos/model/atm/ncep_global/NCEP_Global_Atmospheric_Model_best.ncd.html\n",
      "http://tds.marine.rutgers.edu/thredds/dodsC/roms/espresso/2013_da/his/ESPRESSO_Real-Time_v2_History_Best.html\n",
      "http://geoport-dev.whoi.edu/thredds/dodsC/coawst_4/use/fmrc/coawst_4_use_best.ncd.html\n",
      "http://thredds.secoora.org/thredds/dodsC/G1_SST_GLOBAL.nc.html\n",
      "http://www.smast.umassd.edu:8080/thredds/dodsC/FVCOM/NECOFS/Forecasts/NECOFS_FVCOM_OCEAN_MASSBAY_FORECAST.nc.html\n",
      "http://www.smast.umassd.edu:8080/thredds/dodsC/FVCOM/NECOFS/Forecasts/NECOFS_GOM3_FORECAST.nc.html\n",
      "http://thredds.secoora.org/thredds/dodsC/SECOORA_NCSU_CNAPS.nc.html\n",
      "http://www.smast.umassd.edu:8080/thredds/dodsC/FVCOM/NECOFS/Forecasts/NECOFS_FVCOM_OCEAN_SCITUATE_FORECAST.nc.html\n",
      "http://oos.soest.hawaii.edu/thredds/dodsC/pacioos/hycom/global.html\n",
      "http://tds.marine.rutgers.edu/thredds/dodsC/roms/espresso/2013_da/avg/ESPRESSO_Real-Time_v2_Averages_Best.html\n"
     ]
    }
   ],
   "source": [
    "from ioos_tools.ioos import is_station\n",
    "\n",
    "# Filter out some station endpoints.\n",
    "non_stations = []\n",
    "for url in dap_urls:\n",
    "    try:\n",
    "        if not is_station(url):\n",
    "            non_stations.append(url)\n",
    "    except (RuntimeError, OSError, IOError) as e:\n",
    "        print('Could not access URL {}. {!r}'.format(url, e))\n",
    "\n",
    "dap_urls = non_stations\n",
    "\n",
    "print(fmt(' Filtered DAP '))\n",
    "for url in dap_urls:\n",
    "    print('{}.html'.format(url))"
   ]
  },
  {
   "cell_type": "markdown",
   "metadata": {},
   "source": [
    "Now we can use `pyoos` collectors for `NdbcSos`,"
   ]
  },
  {
   "cell_type": "code",
   "execution_count": 7,
   "metadata": {},
   "outputs": [
    {
     "name": "stdout",
     "output_type": "stream",
     "text": [
      "******************* NDBC Collector offerings *******************\n",
      "National Data Buoy Center SOS: 985 offerings\n"
     ]
    }
   ],
   "source": [
    "from pyoos.collectors.ndbc.ndbc_sos import NdbcSos\n",
    "\n",
    "collector_ndbc = NdbcSos()\n",
    "\n",
    "collector_ndbc.set_bbox(config['region']['bbox'])\n",
    "collector_ndbc.end_time = config['date']['stop']\n",
    "collector_ndbc.start_time = config['date']['start']\n",
    "collector_ndbc.variables = [config['sos_name']]\n",
    "\n",
    "ofrs = collector_ndbc.server.offerings\n",
    "title = collector_ndbc.server.identification.title\n",
    "print(fmt(' NDBC Collector offerings '))\n",
    "print('{}: {} offerings'.format(title, len(ofrs)))"
   ]
  },
  {
   "cell_type": "code",
   "execution_count": 8,
   "metadata": {},
   "outputs": [
    {
     "data": {
      "text/html": [
       "<div>\n",
       "<table border=\"1\" class=\"dataframe\">\n",
       "  <thead>\n",
       "    <tr style=\"text-align: right;\">\n",
       "      <th></th>\n",
       "      <th>depth</th>\n",
       "      <th>lat</th>\n",
       "      <th>lon</th>\n",
       "      <th>sensor</th>\n",
       "      <th>station_name</th>\n",
       "    </tr>\n",
       "    <tr>\n",
       "      <th>station_code</th>\n",
       "      <th></th>\n",
       "      <th></th>\n",
       "      <th></th>\n",
       "      <th></th>\n",
       "      <th></th>\n",
       "    </tr>\n",
       "  </thead>\n",
       "  <tbody>\n",
       "    <tr>\n",
       "      <th>44013</th>\n",
       "      <td>0.6</td>\n",
       "      <td>42.346</td>\n",
       "      <td>-70.651</td>\n",
       "      <td>urn:ioos:sensor:wmo:44013::watertemp1</td>\n",
       "      <td>BOSTON 16 NM East of Boston, MA</td>\n",
       "    </tr>\n",
       "  </tbody>\n",
       "</table>\n",
       "</div>"
      ],
      "text/plain": [
       "              depth     lat     lon                                 sensor  \\\n",
       "station_code                                                                 \n",
       "44013           0.6  42.346 -70.651  urn:ioos:sensor:wmo:44013::watertemp1   \n",
       "\n",
       "                                 station_name  \n",
       "station_code                                   \n",
       "44013         BOSTON 16 NM East of Boston, MA  "
      ]
     },
     "execution_count": 8,
     "metadata": {},
     "output_type": "execute_result"
    }
   ],
   "source": [
    "import pandas as pd\n",
    "from ioos_tools.ioos import collector2table\n",
    "\n",
    "ndbc = collector2table(collector=collector_ndbc,\n",
    "                       config=config,\n",
    "                       col='sea_water_temperature (C)')\n",
    "\n",
    "if ndbc:\n",
    "    data = dict(\n",
    "        station_name=[s._metadata.get('station_name') for s in ndbc],\n",
    "        station_code=[s._metadata.get('station_code') for s in ndbc],\n",
    "        sensor=[s._metadata.get('sensor') for s in ndbc],\n",
    "        lon=[s._metadata.get('lon') for s in ndbc],\n",
    "        lat=[s._metadata.get('lat') for s in ndbc],\n",
    "        depth=[s._metadata.get('depth') for s in ndbc],\n",
    "    )\n",
    "\n",
    "table = pd.DataFrame(data).set_index('station_code')\n",
    "table"
   ]
  },
  {
   "cell_type": "markdown",
   "metadata": {},
   "source": [
    "and `CoopsSos`."
   ]
  },
  {
   "cell_type": "code",
   "execution_count": 9,
   "metadata": {},
   "outputs": [
    {
     "name": "stdout",
     "output_type": "stream",
     "text": [
      "********************* Collector offerings **********************\n",
      "NOAA.NOS.CO-OPS SOS: 1146 offerings\n"
     ]
    }
   ],
   "source": [
    "from pyoos.collectors.coops.coops_sos import CoopsSos\n",
    "\n",
    "collector_coops = CoopsSos()\n",
    "\n",
    "collector_coops.set_bbox(config['region']['bbox'])\n",
    "collector_coops.end_time = config['date']['stop']\n",
    "collector_coops.start_time = config['date']['start']\n",
    "collector_coops.variables = [config['sos_name']]\n",
    "\n",
    "ofrs = collector_coops.server.offerings\n",
    "title = collector_coops.server.identification.title\n",
    "print(fmt(' Collector offerings '))\n",
    "print('{}: {} offerings'.format(title, len(ofrs)))"
   ]
  },
  {
   "cell_type": "code",
   "execution_count": 10,
   "metadata": {
    "scrolled": true
   },
   "outputs": [
    {
     "data": {
      "text/html": [
       "<div>\n",
       "<table border=\"1\" class=\"dataframe\">\n",
       "  <thead>\n",
       "    <tr style=\"text-align: right;\">\n",
       "      <th></th>\n",
       "      <th>depth</th>\n",
       "      <th>lat</th>\n",
       "      <th>lon</th>\n",
       "      <th>sensor</th>\n",
       "      <th>station_name</th>\n",
       "    </tr>\n",
       "    <tr>\n",
       "      <th>station_code</th>\n",
       "      <th></th>\n",
       "      <th></th>\n",
       "      <th></th>\n",
       "      <th></th>\n",
       "      <th></th>\n",
       "    </tr>\n",
       "  </thead>\n",
       "  <tbody>\n",
       "    <tr>\n",
       "      <th>8443970</th>\n",
       "      <td>None</td>\n",
       "      <td>42.3548</td>\n",
       "      <td>-71.0534</td>\n",
       "      <td>urn:ioos:sensor:NOAA.NOS.CO-OPS:8443970:E1</td>\n",
       "      <td>Boston, MA</td>\n",
       "    </tr>\n",
       "  </tbody>\n",
       "</table>\n",
       "</div>"
      ],
      "text/plain": [
       "             depth      lat      lon  \\\n",
       "station_code                           \n",
       "8443970       None  42.3548 -71.0534   \n",
       "\n",
       "                                                  sensor station_name  \n",
       "station_code                                                           \n",
       "8443970       urn:ioos:sensor:NOAA.NOS.CO-OPS:8443970:E1   Boston, MA  "
      ]
     },
     "execution_count": 10,
     "metadata": {},
     "output_type": "execute_result"
    }
   ],
   "source": [
    "coops = collector2table(collector=collector_coops,\n",
    "                        config=config,\n",
    "                        col='sea_water_temperature (C)')\n",
    "\n",
    "if coops:\n",
    "    data = dict(\n",
    "        station_name=[s._metadata.get('station_name') for s in coops],\n",
    "        station_code=[s._metadata.get('station_code') for s in coops],\n",
    "        sensor=[s._metadata.get('sensor') for s in coops],\n",
    "        lon=[s._metadata.get('lon') for s in coops],\n",
    "        lat=[s._metadata.get('lat') for s in coops],\n",
    "        depth=[s._metadata.get('depth') for s in coops],\n",
    "    )\n",
    "\n",
    "table = pd.DataFrame(data).set_index('station_code')\n",
    "table"
   ]
  },
  {
   "cell_type": "markdown",
   "metadata": {},
   "source": [
    "We will join all the observations into an uniform series, interpolated to 1-hour interval, for the model-data comparison.\n",
    "\n",
    "This step is necessary because the observations can be 7 or 10 minutes resolution,\n",
    "while the models can be 30 to 60 minutes."
   ]
  },
  {
   "cell_type": "code",
   "execution_count": 11,
   "metadata": {
    "collapsed": true,
    "scrolled": true
   },
   "outputs": [],
   "source": [
    "data = ndbc + coops\n",
    "\n",
    "index = pd.date_range(start=config['date']['start'].replace(tzinfo=None),\n",
    "                      end=config['date']['stop'].replace(tzinfo=None),\n",
    "                      freq='1H')\n",
    "\n",
    "# Preserve metadata with `reindex`.\n",
    "observations = []\n",
    "for series in data:\n",
    "    _metadata = series._metadata\n",
    "    obs = series.reindex(index=index, limit=1, method='nearest')\n",
    "    obs._metadata = _metadata\n",
    "    observations.append(obs)"
   ]
  },
  {
   "cell_type": "markdown",
   "metadata": {},
   "source": [
    "In this next cell we will save the data for quicker access later."
   ]
  },
  {
   "cell_type": "code",
   "execution_count": 12,
   "metadata": {
    "collapsed": true,
    "scrolled": false
   },
   "outputs": [],
   "source": [
    "import iris\n",
    "from ioos_tools.tardis import series2cube\n",
    "\n",
    "attr = dict(\n",
    "    featureType='timeSeries',\n",
    "    Conventions='CF-1.6',\n",
    "    standard_name_vocabulary='CF-1.6',\n",
    "    cdm_data_type='Station',\n",
    "    comment='Data from http://opendap.co-ops.nos.noaa.gov'\n",
    ")\n",
    "\n",
    "\n",
    "cubes = iris.cube.CubeList(\n",
    "    [series2cube(obs, attr=attr) for obs in observations]\n",
    ")\n",
    "\n",
    "outfile = os.path.join(save_dir, 'OBS_DATA.nc')\n",
    "iris.save(cubes, outfile)"
   ]
  },
  {
   "cell_type": "markdown",
   "metadata": {},
   "source": [
    "Now it is time to loop the models we found above,"
   ]
  },
  {
   "cell_type": "code",
   "execution_count": 13,
   "metadata": {},
   "outputs": [
    {
     "name": "stdout",
     "output_type": "stream",
     "text": [
      "**************************** Models ****************************\n",
      "\n",
      "[Reading url 1/11]: http://www.smast.umassd.edu:8080/thredds/dodsC/FVCOM/NECOFS/Forecasts/NECOFS_FVCOM_OCEAN_BOSTON_FORECAST.nc\n",
      "\n",
      "[Reading url 2/11]: http://oos.soest.hawaii.edu/thredds/dodsC/hioos/model/atm/ncep_global/NCEP_Global_Atmospheric_Model_best.ncd\n",
      "Cannot get cube for: http://oos.soest.hawaii.edu/thredds/dodsC/hioos/model/atm/ncep_global/NCEP_Global_Atmospheric_Model_best.ncd\n",
      "Cannot find ['sea_water_temperature', 'sea_surface_temperature', 'sea_water_potential_temperature', 'equivalent_potential_temperature', 'sea_water_conservative_temperature', 'pseudo_equivalent_potential_temperature'] in http://oos.soest.hawaii.edu/thredds/dodsC/hioos/model/atm/ncep_global/NCEP_Global_Atmospheric_Model_best.ncd.\n",
      "\n",
      "[Reading url 3/11]: http://tds.marine.rutgers.edu/thredds/dodsC/roms/espresso/2013_da/his/ESPRESSO_Real-Time_v2_History_Best\n",
      "\n",
      "[Reading url 4/11]: http://geoport-dev.whoi.edu/thredds/dodsC/coawst_4/use/fmrc/coawst_4_use_best.ncd\n",
      "\n",
      "[Reading url 5/11]: http://thredds.secoora.org/thredds/dodsC/G1_SST_GLOBAL.nc\n",
      "\n",
      "[Reading url 6/11]: http://www.smast.umassd.edu:8080/thredds/dodsC/FVCOM/NECOFS/Forecasts/NECOFS_FVCOM_OCEAN_MASSBAY_FORECAST.nc\n",
      "\n",
      "[Reading url 7/11]: http://www.smast.umassd.edu:8080/thredds/dodsC/FVCOM/NECOFS/Forecasts/NECOFS_GOM3_FORECAST.nc\n",
      "\n",
      "[Reading url 8/11]: http://thredds.secoora.org/thredds/dodsC/SECOORA_NCSU_CNAPS.nc\n",
      "\n",
      "[Reading url 9/11]: http://www.smast.umassd.edu:8080/thredds/dodsC/FVCOM/NECOFS/Forecasts/NECOFS_FVCOM_OCEAN_SCITUATE_FORECAST.nc\n",
      "\n",
      "[Reading url 10/11]: http://oos.soest.hawaii.edu/thredds/dodsC/pacioos/hycom/global\n",
      "\n",
      "[Reading url 11/11]: http://tds.marine.rutgers.edu/thredds/dodsC/roms/espresso/2013_da/avg/ESPRESSO_Real-Time_v2_Averages_Best\n"
     ]
    }
   ],
   "source": [
    "from iris.exceptions import (CoordinateNotFoundError, ConstraintMismatchError,\n",
    "                             MergeError)\n",
    "from ioos_tools.ioos import get_model_name\n",
    "from ioos_tools.tardis import quick_load_cubes, proc_cube, is_model, get_surface\n",
    "\n",
    "print(fmt(' Models '))\n",
    "cubes = dict()\n",
    "for k, url in enumerate(dap_urls):\n",
    "    print('\\n[Reading url {}/{}]: {}'.format(k+1, len(dap_urls), url))\n",
    "    try:\n",
    "        cube = quick_load_cubes(url, config['cf_names'],\n",
    "                                callback=None, strict=True)\n",
    "        if is_model(cube):\n",
    "            cube = proc_cube(cube,\n",
    "                             bbox=config['region']['bbox'],\n",
    "                             time=(config['date']['start'],\n",
    "                                   config['date']['stop']),\n",
    "                             units=config['units'])\n",
    "        else:\n",
    "            print('[Not model data]: {}'.format(url))\n",
    "            continue\n",
    "        cube = get_surface(cube)\n",
    "        mod_name = get_model_name(url)\n",
    "        cubes.update({mod_name: cube})\n",
    "    except (RuntimeError, ValueError,\n",
    "            ConstraintMismatchError, CoordinateNotFoundError,\n",
    "            IndexError) as e:\n",
    "        print('Cannot get cube for: {}\\n{}'.format(url, e))"
   ]
  },
  {
   "cell_type": "markdown",
   "metadata": {},
   "source": [
    "Next, we will match them with the nearest observed time-series. The `max_dist=0.08` is in degrees, that is roughly 8 kilometers."
   ]
  },
  {
   "cell_type": "code",
   "execution_count": 14,
   "metadata": {},
   "outputs": [
    {
     "name": "stdout",
     "output_type": "stream",
     "text": [
      " Downloading to file /home/filipe/IOOS/notebooks_demos/notebooks/latest/Forecasts-NECOFS_FVCOM_OCEAN_BOSTON_FORECAST.nc \n",
      "[No Data] BOSTON 16 NM East of Boston, MA\n",
      "[Land   ] Boston, MA\n",
      "Finished processing [Forecasts-NECOFS_FVCOM_OCEAN_BOSTON_FORECAST]\n",
      " Downloading to file /home/filipe/IOOS/notebooks_demos/notebooks/latest/roms_2013_da-ESPRESSO_Real-Time_v2_History_Best.nc \n",
      "[Land   ] BOSTON 16 NM East of Boston, MA\n",
      "[Land   ] Boston, MA\n",
      "Finished processing [roms_2013_da-ESPRESSO_Real-Time_v2_History_Best]\n",
      " Downloading to file /home/filipe/IOOS/notebooks_demos/notebooks/latest/fmrc-coawst_4_use_best.nc \n",
      "[Water  ] BOSTON 16 NM East of Boston, MA\n",
      "[Water  ] Boston, MA\n",
      "Finished processing [fmrc-coawst_4_use_best]\n",
      " Downloading to file /home/filipe/IOOS/notebooks_demos/notebooks/latest/G1_SST_GLOBAL.nc \n",
      "[Water  ] BOSTON 16 NM East of Boston, MA\n",
      "[Water  ] Boston, MA\n",
      "Finished processing [G1_SST_GLOBAL]\n",
      " Downloading to file /home/filipe/IOOS/notebooks_demos/notebooks/latest/Forecasts-NECOFS_FVCOM_OCEAN_MASSBAY_FORECAST.nc \n",
      "[Water  ] BOSTON 16 NM East of Boston, MA\n",
      "[Water  ] Boston, MA\n",
      "Finished processing [Forecasts-NECOFS_FVCOM_OCEAN_MASSBAY_FORECAST]\n",
      " Downloading to file /home/filipe/IOOS/notebooks_demos/notebooks/latest/FVCOM_Forecasts-NECOFS_GOM3_FORECAST.nc \n",
      "[Water  ] BOSTON 16 NM East of Boston, MA\n",
      "[Water  ] Boston, MA\n",
      "Finished processing [FVCOM_Forecasts-NECOFS_GOM3_FORECAST]\n",
      " Downloading to file /home/filipe/IOOS/notebooks_demos/notebooks/latest/SECOORA_NCSU_CNAPS.nc \n",
      "[Water  ] BOSTON 16 NM East of Boston, MA\n",
      "[Land   ] Boston, MA\n",
      "Finished processing [SECOORA_NCSU_CNAPS]\n",
      " Downloading to file /home/filipe/IOOS/notebooks_demos/notebooks/latest/Forecasts-NECOFS_FVCOM_OCEAN_SCITUATE_FORECAST.nc \n",
      "[No Data] BOSTON 16 NM East of Boston, MA\n",
      "[No Data] Boston, MA\n",
      "Finished processing [Forecasts-NECOFS_FVCOM_OCEAN_SCITUATE_FORECAST]\n",
      " Downloading to file /home/filipe/IOOS/notebooks_demos/notebooks/latest/pacioos_hycom-global.nc \n",
      "[Water  ] BOSTON 16 NM East of Boston, MA\n",
      "[Land   ] Boston, MA\n",
      "Finished processing [pacioos_hycom-global]\n",
      " Downloading to file /home/filipe/IOOS/notebooks_demos/notebooks/latest/roms_2013_da_avg-ESPRESSO_Real-Time_v2_Averages_Best.nc \n",
      "[Land   ] BOSTON 16 NM East of Boston, MA\n",
      "[Land   ] Boston, MA\n",
      "Finished processing [roms_2013_da_avg-ESPRESSO_Real-Time_v2_Averages_Best]\n"
     ]
    }
   ],
   "source": [
    "import iris\n",
    "from iris.pandas import as_series\n",
    "from ioos_tools.tardis import (make_tree, get_nearest_water,\n",
    "                               add_station, ensure_timeseries, remove_ssh)\n",
    "\n",
    "for mod_name, cube in cubes.items():\n",
    "    fname = '{}.nc'.format(mod_name)\n",
    "    fname = os.path.join(save_dir, fname)\n",
    "    print(fmt(' Downloading to file {} '.format(fname)))\n",
    "    try:\n",
    "        tree, lon, lat = make_tree(cube)\n",
    "    except CoordinateNotFoundError as e:\n",
    "        print('Cannot make KDTree for: {}'.format(mod_name))\n",
    "        continue\n",
    "    # Get model series at observed locations.\n",
    "    raw_series = dict()\n",
    "    for obs in observations:\n",
    "        obs = obs._metadata\n",
    "        station = obs['station_code']\n",
    "        try:\n",
    "            kw = dict(k=10, max_dist=0.08, min_var=0.01)\n",
    "            args = cube, tree, obs['lon'], obs['lat']\n",
    "            try:\n",
    "                series, dist, idx = get_nearest_water(*args, **kw)\n",
    "            except RuntimeError as e:\n",
    "                print('Cannot download {!r}.\\n{}'.format(cube, e))\n",
    "                series = None\n",
    "        except ValueError as e:\n",
    "            status = 'No Data'\n",
    "            print('[{}] {}'.format(status, obs['station_name']))\n",
    "            continue\n",
    "        if not series:\n",
    "            status = 'Land   '\n",
    "        else:\n",
    "            raw_series.update({station: series})\n",
    "            series = as_series(series)\n",
    "            status = 'Water  '\n",
    "        print('[{}] {}'.format(status, obs['station_name']))\n",
    "    if raw_series:  # Save cube.\n",
    "        for station, cube in raw_series.items():\n",
    "            cube = add_station(cube, station)\n",
    "            cube = remove_ssh(cube)\n",
    "        try:\n",
    "            cube = iris.cube.CubeList(raw_series.values()).merge_cube()\n",
    "        except MergeError as e:\n",
    "            print(e)\n",
    "        ensure_timeseries(cube)\n",
    "        try:\n",
    "            iris.save(cube, fname)\n",
    "        except AttributeError:\n",
    "            # FIXME: we should patch the bad attribute instead of removing everything.\n",
    "            cube.attributes = {}\n",
    "            iris.save(cube, fname)\n",
    "        del cube\n",
    "    print('Finished processing [{}]'.format(mod_name))"
   ]
  },
  {
   "cell_type": "markdown",
   "metadata": {},
   "source": [
    "Now it is possible to compute some simple comparison metrics. First we'll calculate the model mean bias:\n",
    "\n",
    "$$ \\text{MB} = \\mathbf{\\overline{m}} - \\mathbf{\\overline{o}}$$"
   ]
  },
  {
   "cell_type": "code",
   "execution_count": 15,
   "metadata": {
    "collapsed": true
   },
   "outputs": [],
   "source": [
    "from ioos_tools.ioos import stations_keys\n",
    "\n",
    "\n",
    "def rename_cols(df, config):\n",
    "    cols = stations_keys(config, key='station_name')\n",
    "    return df.rename(columns=cols)"
   ]
  },
  {
   "cell_type": "code",
   "execution_count": 16,
   "metadata": {
    "collapsed": true,
    "scrolled": false
   },
   "outputs": [],
   "source": [
    "from ioos_tools.ioos import load_ncs\n",
    "from ioos_tools.skill_score import mean_bias, apply_skill\n",
    "\n",
    "dfs = load_ncs(config)\n",
    "\n",
    "df = apply_skill(dfs, mean_bias, remove_mean=False, filter_tides=False)\n",
    "skill_score = dict(mean_bias=df.to_dict())\n",
    "\n",
    "# Filter out stations with no valid comparison.\n",
    "df.dropna(how='all', axis=1, inplace=True)\n",
    "df = df.applymap('{:.2f}'.format).replace('nan', '--')"
   ]
  },
  {
   "cell_type": "markdown",
   "metadata": {},
   "source": [
    "And the root mean squared rrror of the deviations from the mean:\n",
    "$$ \\text{CRMS} = \\sqrt{\\left(\\mathbf{m'} - \\mathbf{o'}\\right)^2}$$\n",
    "\n",
    "where: $\\mathbf{m'} = \\mathbf{m} - \\mathbf{\\overline{m}}$ and $\\mathbf{o'} = \\mathbf{o} - \\mathbf{\\overline{o}}$"
   ]
  },
  {
   "cell_type": "code",
   "execution_count": 17,
   "metadata": {
    "collapsed": true
   },
   "outputs": [],
   "source": [
    "from ioos_tools.skill_score import rmse\n",
    "\n",
    "dfs = load_ncs(config)\n",
    "\n",
    "df = apply_skill(dfs, rmse, remove_mean=True, filter_tides=False)\n",
    "skill_score['rmse'] = df.to_dict()\n",
    "\n",
    "# Filter out stations with no valid comparison.\n",
    "df.dropna(how='all', axis=1, inplace=True)\n",
    "df = df.applymap('{:.2f}'.format).replace('nan', '--')"
   ]
  },
  {
   "cell_type": "markdown",
   "metadata": {},
   "source": [
    "The next 2 cells make the scores \"pretty\" for plotting."
   ]
  },
  {
   "cell_type": "code",
   "execution_count": 18,
   "metadata": {
    "collapsed": true
   },
   "outputs": [],
   "source": [
    "import pandas as pd\n",
    "\n",
    "# Stringfy keys.\n",
    "for key in skill_score.keys():\n",
    "    skill_score[key] = {str(k): v for k, v in skill_score[key].items()}\n",
    "\n",
    "mean_bias = pd.DataFrame.from_dict(skill_score['mean_bias'])\n",
    "mean_bias = mean_bias.applymap('{:.2f}'.format).replace('nan', '--')\n",
    "\n",
    "skill_score = pd.DataFrame.from_dict(skill_score['rmse'])\n",
    "skill_score = skill_score.applymap('{:.2f}'.format).replace('nan', '--')"
   ]
  },
  {
   "cell_type": "code",
   "execution_count": 19,
   "metadata": {
    "collapsed": true
   },
   "outputs": [],
   "source": [
    "from ioos_tools.ioos import make_map\n",
    "\n",
    "bbox = config['region']['bbox']\n",
    "units = config['units']\n",
    "run_name = config['run_name']\n",
    "\n",
    "kw = dict(zoom_start=11, line=True, states=False,\n",
    "          secoora_stations=False, layers=False)\n",
    "mapa = make_map(bbox, **kw)"
   ]
  },
  {
   "cell_type": "markdown",
   "metadata": {},
   "source": [
    "The cells from `[20]` to `[25]` create a [`folium`](https://github.com/python-visualization/folium) map with [`bokeh`](http://bokeh.pydata.org/en/latest/) for the time-series at the observed points.\n",
    "\n",
    "Note that we did mark the nearest model cell location used in the comparison."
   ]
  },
  {
   "cell_type": "code",
   "execution_count": 20,
   "metadata": {},
   "outputs": [
    {
     "data": {
      "text/plain": [
       "<folium.plugins.marker_cluster.MarkerCluster at 0x7fd48a9801d0>"
      ]
     },
     "execution_count": 20,
     "metadata": {},
     "output_type": "execute_result"
    }
   ],
   "source": [
    "all_obs = stations_keys(config)\n",
    "\n",
    "from glob import glob\n",
    "from operator import itemgetter\n",
    "\n",
    "import iris\n",
    "import folium\n",
    "from folium.plugins import MarkerCluster\n",
    "\n",
    "iris.FUTURE.netcdf_promote = True\n",
    "\n",
    "big_list = []\n",
    "for fname in glob(os.path.join(save_dir, '*.nc')):\n",
    "    if 'OBS_DATA' in fname:\n",
    "        continue\n",
    "    cube = iris.load_cube(fname)\n",
    "    model = os.path.split(fname)[1].split('-')[-1].split('.')[0]\n",
    "    lons = cube.coord(axis='X').points\n",
    "    lats = cube.coord(axis='Y').points\n",
    "    stations = cube.coord('station_code').points\n",
    "    models = [model]*lons.size\n",
    "    lista = zip(models, lons.tolist(), lats.tolist(), stations.tolist())\n",
    "    big_list.extend(lista)\n",
    "\n",
    "big_list.sort(key=itemgetter(3))\n",
    "df = pd.DataFrame(big_list, columns=['name', 'lon', 'lat', 'station'])\n",
    "df.set_index('station', drop=True, inplace=True)\n",
    "groups = df.groupby(df.index)\n",
    "\n",
    "\n",
    "locations, popups = [], []\n",
    "for station, info in groups:\n",
    "    sta_name = all_obs[station]\n",
    "    for lat, lon, name in zip(info.lat, info.lon, info.name):\n",
    "        locations.append([lat, lon])\n",
    "        popups.append('[{}]: {}'.format(name, sta_name))\n",
    "\n",
    "MarkerCluster(locations=locations, popups=popups).add_to(mapa)"
   ]
  },
  {
   "cell_type": "markdown",
   "metadata": {},
   "source": [
    "Here we use a dictionary with some models we expect to find so we can create a better legend for the plots. If any new models are found, we will use its filename in the legend as a default until we can go back and add a short name to our library."
   ]
  },
  {
   "cell_type": "code",
   "execution_count": 21,
   "metadata": {
    "collapsed": true
   },
   "outputs": [],
   "source": [
    "titles = {\n",
    "    'coawst_4_use_best': 'COAWST_4',\n",
    "    'global': 'HYCOM',\n",
    "    'NECOFS_GOM3_FORECAST': 'NECOFS_GOM3',\n",
    "    'NECOFS_FVCOM_OCEAN_MASSBAY_FORECAST': 'NECOFS_MassBay',\n",
    "    'OBS_DATA': 'Observations'\n",
    "}"
   ]
  },
  {
   "cell_type": "code",
   "execution_count": 22,
   "metadata": {
    "collapsed": true
   },
   "outputs": [],
   "source": [
    "from bokeh.resources import CDN\n",
    "from bokeh.plotting import figure\n",
    "from bokeh.embed import file_html\n",
    "from bokeh.models import HoverTool\n",
    "from itertools import cycle\n",
    "from bokeh.palettes import Spectral6\n",
    "\n",
    "from folium import IFrame\n",
    "\n",
    "# Plot defaults.\n",
    "colors = Spectral6\n",
    "colorcycler = cycle(colors)\n",
    "tools = 'pan,box_zoom,reset'\n",
    "width, height = 750, 250\n",
    "\n",
    "\n",
    "def make_plot(df, station):\n",
    "    p = figure(toolbar_location='above',\n",
    "               x_axis_type='datetime',\n",
    "               width=width,\n",
    "               height=height,\n",
    "               tools=tools,\n",
    "               title=str(station))\n",
    "    for column, series in df.iteritems():\n",
    "        series.dropna(inplace=True)\n",
    "        if not series.empty:\n",
    "            line = p.line(\n",
    "                x=series.index,\n",
    "                y=series.values,\n",
    "                legend='%s' % titles.get(column, column),\n",
    "                line_color=next(colorcycler),\n",
    "                line_width=5,\n",
    "                line_cap='round',\n",
    "                line_join='round'\n",
    "            )\n",
    "            if 'OBS_DATA' not in column:\n",
    "                bias = mean_bias[str(station)][column]\n",
    "                skill = skill_score[str(station)][column]\n",
    "            else:\n",
    "                skill = bias = 'NA'\n",
    "            p.add_tools(HoverTool(tooltips=[('Name', '%s' % column),\n",
    "                                            ('Bias', bias),\n",
    "                                            ('Skill', skill)],\n",
    "                                  renderers=[line]))\n",
    "    return p\n",
    "\n",
    "\n",
    "def make_marker(p, station):\n",
    "    lons = stations_keys(config, key='lon')\n",
    "    lats = stations_keys(config, key='lat')\n",
    "\n",
    "    lon, lat = lons[station], lats[station]\n",
    "    html = file_html(p, CDN, station)\n",
    "    iframe = IFrame(html, width=width+40, height=height+80)\n",
    "\n",
    "    popup = folium.Popup(iframe, max_width=2650)\n",
    "    icon = folium.Icon(color='green', icon='stats')\n",
    "    marker = folium.Marker(location=[lat, lon],\n",
    "                           popup=popup,\n",
    "                           icon=icon)\n",
    "    return marker"
   ]
  },
  {
   "cell_type": "code",
   "execution_count": 23,
   "metadata": {},
   "outputs": [
    {
     "data": {
      "text/html": [
       "<div style=\"width:100%;\"><div style=\"position:relative;width:100%;height:0;padding-bottom:60%;\"><iframe src=\"data:text/html;charset=utf-8;base64,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\" style=\"position:absolute;width:100%;height:100%;left:0;top:0;border:none !important;\" allowfullscreen webkitallowfullscreen mozallowfullscreen></iframe></div></div>"
      ],
      "text/plain": [
       "<folium.folium.Map at 0x7fd432d24da0>"
      ]
     },
     "execution_count": 23,
     "metadata": {},
     "output_type": "execute_result"
    }
   ],
   "source": [
    "dfs = load_ncs(config)\n",
    "\n",
    "for station in dfs:\n",
    "    sta_name = all_obs[station]\n",
    "    df = dfs[station]\n",
    "    if df.empty:\n",
    "        continue\n",
    "    p = make_plot(df, station)\n",
    "    maker = make_marker(p, station)\n",
    "    maker.add_to(mapa)\n",
    "\n",
    "mapa"
   ]
  },
  {
   "cell_type": "markdown",
   "metadata": {},
   "source": [
    "Now we can navigate the map and click on the markers to explorer our findings.\n",
    "\n",
    "The green markers locate the observations locations. They pop-up an interactive plot with the time-series and scores for the models (hover over the lines to se the scores). The blue markers indicate the nearest model grid point found for the comparison."
   ]
  },
  {
   "cell_type": "markdown",
   "metadata": {},
   "source": [
    "<br>\n",
    "Right click and choose Save link as... to\n",
    "[download](https://raw.githubusercontent.com/ioos/notebooks_demos/master/notebooks/2016-12-22-boston_light_swim.ipynb)\n",
    "this notebook, or see a static view [here](http://nbviewer.ipython.org/urls/raw.githubusercontent.com/ioos/notebooks_demos/master/notebooks/2016-12-22-boston_light_swim.ipynb)."
   ]
  }
 ],
 "metadata": {
  "anaconda-cloud": {},
  "kernelspec": {
   "display_name": "Python [default]",
   "language": "python",
   "name": "python3"
  },
  "language_info": {
   "codemirror_mode": {
    "name": "ipython",
    "version": 3
   },
   "file_extension": ".py",
   "mimetype": "text/x-python",
   "name": "python",
   "nbconvert_exporter": "python",
   "pygments_lexer": "ipython3",
   "version": "3.6.1"
  }
 },
 "nbformat": 4,
 "nbformat_minor": 1
}
