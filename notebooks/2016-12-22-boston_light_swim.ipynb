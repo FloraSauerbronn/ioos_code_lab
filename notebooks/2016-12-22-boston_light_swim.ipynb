{
 "cells": [
  {
   "cell_type": "markdown",
   "metadata": {},
   "source": [
    "# The Boston Light Swim temperature analysis with Python\n",
    "\n",
    "In the past we demonstrated how to perform a CSW catalog search with [`OWSLib`](https://ioos.github.io/notebooks_demos//notebooks/2016-12-19-exploring_csw),\n",
    "and how to obtain near real-time data with [`pyoos`](https://ioos.github.io/notebooks_demos//notebooks/2016-10-12-fetching_data).\n",
    "In this notebook we will use both to find all observations and model data around the Boston Harbor to access the sea water temperature.\n",
    "\n",
    "\n",
    "This workflow is part of an example to advise swimmers of the annual [Boston lighthouse swim](http://bostonlightswim.org/) of the Boston Harbor water temperature conditions prior to the race. For more information regarding the workflow presented here see [Signell, Richard P.; Fernandes, Filipe; Wilcox, Kyle.   2016. \"Dynamic Reusable Workflows for Ocean Science.\" *J. Mar. Sci. Eng.* 4, no. 4: 68](http://dx.doi.org/10.3390/jmse4040068)."
   ]
  },
  {
   "cell_type": "code",
   "execution_count": 1,
   "metadata": {
    "collapsed": true
   },
   "outputs": [],
   "source": [
    "import warnings\n",
    "\n",
    "# Suppresing warnings for a \"pretty output.\"\n",
    "warnings.simplefilter('ignore')"
   ]
  },
  {
   "cell_type": "markdown",
   "metadata": {},
   "source": [
    "This notebook is quite big and complex,\n",
    "so to help us keep things organized we'll define a cell with the most important options and switches.\n",
    "\n",
    "Below we can define the date,\n",
    "bounding box, phenomena `SOS` and `CF` names and units,\n",
    "and the catalogs we will search."
   ]
  },
  {
   "cell_type": "code",
   "execution_count": 2,
   "metadata": {},
   "outputs": [
    {
     "name": "stdout",
     "output_type": "stream",
     "text": [
      "Overwriting config.yaml\n"
     ]
    }
   ],
   "source": [
    "%%writefile config.yaml\n",
    "\n",
    "# Specify a YYYY-MM-DD hh:mm:ss date or integer day offset.\n",
    "# If both start and stop are offsets they will be computed relative to datetime.today() at midnight.\n",
    "# Use the dates commented below to reproduce the last Boston Light Swim event forecast.\n",
    "date:\n",
    "    start: -5 # 2016-8-16 00:00:00\n",
    "    stop: +4 # 2016-8-29 00:00:00\n",
    "\n",
    "run_name: 'latest'\n",
    "\n",
    "# Boston harbor.\n",
    "region:\n",
    "    bbox: [-71.3, 42.03, -70.57, 42.63]\n",
    "    # Try the bounding box below to see how the notebook will behave for a different region.\n",
    "    #bbox: [-74.5, 40, -72., 41.5]\n",
    "    crs: 'urn:ogc:def:crs:OGC:1.3:CRS84'\n",
    "\n",
    "sos_name: 'sea_water_temperature'\n",
    "\n",
    "cf_names:\n",
    "    - sea_water_temperature\n",
    "    - sea_surface_temperature\n",
    "    - sea_water_potential_temperature\n",
    "    - equivalent_potential_temperature\n",
    "    - sea_water_conservative_temperature\n",
    "    - pseudo_equivalent_potential_temperature\n",
    "\n",
    "units: 'celsius'\n",
    "\n",
    "catalogs:\n",
    "    - https://data.ioos.us/csw"
   ]
  },
  {
   "cell_type": "markdown",
   "metadata": {},
   "source": [
    "We'll print some of the search configuration options along the way to keep track of them."
   ]
  },
  {
   "cell_type": "code",
   "execution_count": 3,
   "metadata": {},
   "outputs": [
    {
     "name": "stdout",
     "output_type": "stream",
     "text": [
      "Saving data inside directory /home/filipe/IOOS/notebooks_demos/notebooks/latest\n",
      "*********************** Run information ************************\n",
      "Run date: 2017-09-13 23:07:52\n",
      "Start: 2017-09-08 00:00:00\n",
      "Stop: 2017-09-17 00:00:00\n",
      "Bounding box: -71.30, 42.03,-70.57, 42.63\n"
     ]
    }
   ],
   "source": [
    "import os\n",
    "import shutil\n",
    "from datetime import datetime\n",
    "from ioos_tools.ioos import parse_config\n",
    "\n",
    "config = parse_config('config.yaml')\n",
    "\n",
    "# Saves downloaded data into a temporary directory.\n",
    "save_dir = os.path.abspath(config['run_name'])\n",
    "if os.path.exists(save_dir):\n",
    "    shutil.rmtree(save_dir)\n",
    "os.makedirs(save_dir)\n",
    "\n",
    "fmt = '{:*^64}'.format\n",
    "print(fmt('Saving data inside directory {}'.format(save_dir)))\n",
    "print(fmt(' Run information '))\n",
    "print('Run date: {:%Y-%m-%d %H:%M:%S}'.format(datetime.utcnow()))\n",
    "print('Start: {:%Y-%m-%d %H:%M:%S}'.format(config['date']['start']))\n",
    "print('Stop: {:%Y-%m-%d %H:%M:%S}'.format(config['date']['stop']))\n",
    "print('Bounding box: {0:3.2f}, {1:3.2f},'\n",
    "      '{2:3.2f}, {3:3.2f}'.format(*config['region']['bbox']))"
   ]
  },
  {
   "cell_type": "markdown",
   "metadata": {},
   "source": [
    "We already created an `OWSLib.fes` filter [before](https://ioos.github.io/notebooks_demos//notebooks/2016-12-19-exploring_csw).\n",
    "The main difference here is that we do not want the atmosphere model data,\n",
    "so we are filtering out all the `GRIB-2` data format."
   ]
  },
  {
   "cell_type": "code",
   "execution_count": 4,
   "metadata": {
    "collapsed": true
   },
   "outputs": [],
   "source": [
    "def make_filter(config):\n",
    "    from owslib import fes\n",
    "    from ioos_tools.ioos import fes_date_filter\n",
    "    kw = dict(wildCard='*', escapeChar='\\\\',\n",
    "              singleChar='?', propertyname='apiso:AnyText')\n",
    "\n",
    "    or_filt = fes.Or([fes.PropertyIsLike(literal=('*%s*' % val), **kw)\n",
    "                      for val in config['cf_names']])\n",
    "\n",
    "    not_filt = fes.Not([fes.PropertyIsLike(literal='GRIB-2', **kw)])\n",
    "\n",
    "    begin, end = fes_date_filter(config['date']['start'],\n",
    "                                 config['date']['stop'])\n",
    "    bbox_crs = fes.BBox(config['region']['bbox'],\n",
    "                        crs=config['region']['crs'])\n",
    "    filter_list = [fes.And([bbox_crs, begin, end, or_filt, not_filt])]\n",
    "    return filter_list\n",
    "\n",
    "\n",
    "filter_list = make_filter(config)"
   ]
  },
  {
   "cell_type": "markdown",
   "metadata": {},
   "source": [
    "In the cell below we ask the catalog for all the returns that match the filter and have an OPeNDAP endpoint."
   ]
  },
  {
   "cell_type": "code",
   "execution_count": 5,
   "metadata": {
    "code_folding": [],
    "scrolled": false
   },
   "outputs": [
    {
     "name": "stdout",
     "output_type": "stream",
     "text": [
      "********************* Catalog information **********************\n",
      "URL: https://data.ioos.us/csw\n",
      "Number of datasets available: 19\n",
      "Directional wave and sea surface temperature measurements collected in situ by Datawell Mark 3 directional buoy located near SCRIPPS NEARSHORE, CA from 2015/01/07 23:00:00 to 2017/09/13 18:00:18.\n",
      "G1SST, 1km blended SST\n",
      "HYbrid Coordinate Ocean Model (HYCOM): Global\n",
      "NECOFS (FVCOM) - Scituate - Latest Forecast\n",
      "NECOFS GOM3 (FVCOM) - Northeast US - Latest Forecast\n",
      "NECOFS Massachusetts (FVCOM) - Boston - Latest Forecast\n",
      "NECOFS Massachusetts (FVCOM) - Massachusetts Coastal - Latest Forecast\n",
      "NERACOOS Gulf of Maine Ocean Array: Realtime Buoy Observations: A01 Massachusetts Bay: A01 ACCELEROMETER Massachusetts Bay\n",
      "NOAA Coral Reef Watch Operational Daily Near-Real-Time Global 5-km Satellite Coral Bleaching Monitoring Products\n",
      "A01 Accelerometer - Waves\n",
      "A01 Directional Waves (waves.mstrain Experimental)\n",
      "A01 Met - Meteorology\n",
      "A01 Optode - Oxygen\n",
      "A01 Sbe37 - CTD\n",
      "COAWST Modeling System: USEast: ROMS-WRF-SWAN coupled model (aka CNAPS)\n",
      "Coupled Northwest Atlantic Prediction System (CNAPS)\n",
      "Directional wave and sea surface temperature measurements collected in situ by Datawell Mark 3 directional buoy located near LAKESIDE, OR from 2017/03/31 23:00:00 to 2017/09/13 17:42:44.\n",
      "Directional wave and sea surface temperature measurements collected in situ by Datawell Mark 3 directional buoy located near LOWER COOK INLET, AK from 2016/12/16 00:00:00 to 2017/09/13 18:11:01.\n",
      "Directional wave and sea surface temperature measurements collected in situ by Datawell Mark 3 directional buoy located near OCEAN STATION PAPA from 2015/01/01 01:00:00 to 2017/09/13 17:41:06.\n",
      "***************************** DAP ******************************\n",
      "http://oos.soest.hawaii.edu/thredds/dodsC/hioos/satellite/dhw_5km.html\n",
      "http://oos.soest.hawaii.edu/thredds/dodsC/pacioos/hycom/global.html\n",
      "http://thredds.cdip.ucsd.edu/thredds/dodsC/cdip/realtime/166p1_rt.nc.html\n",
      "http://thredds.cdip.ucsd.edu/thredds/dodsC/cdip/realtime/201p1_rt.nc.html\n",
      "http://thredds.cdip.ucsd.edu/thredds/dodsC/cdip/realtime/204p1_rt.nc.html\n",
      "http://thredds.cdip.ucsd.edu/thredds/dodsC/cdip/realtime/231p1_rt.nc.html\n",
      "http://thredds.secoora.org/thredds/dodsC/G1_SST_GLOBAL.nc.html\n",
      "http://thredds.secoora.org/thredds/dodsC/SECOORA_NCSU_CNAPS.nc.html\n",
      "http://www.neracoos.org/thredds/dodsC/UMO/DSG/SOS/A01/Accelerometer/HistoricRealtime/Agg.ncml.html\n",
      "http://www.smast.umassd.edu:8080/thredds/dodsC/FVCOM/NECOFS/Forecasts/NECOFS_FVCOM_OCEAN_BOSTON_FORECAST.nc.html\n",
      "http://www.smast.umassd.edu:8080/thredds/dodsC/FVCOM/NECOFS/Forecasts/NECOFS_FVCOM_OCEAN_MASSBAY_FORECAST.nc.html\n",
      "http://www.smast.umassd.edu:8080/thredds/dodsC/FVCOM/NECOFS/Forecasts/NECOFS_FVCOM_OCEAN_SCITUATE_FORECAST.nc.html\n",
      "http://www.smast.umassd.edu:8080/thredds/dodsC/FVCOM/NECOFS/Forecasts/NECOFS_GOM3_FORECAST.nc.html\n",
      "\n",
      "\n"
     ]
    }
   ],
   "source": [
    "from ioos_tools.ioos import service_urls, get_csw_records\n",
    "from owslib.csw import CatalogueServiceWeb\n",
    "\n",
    "\n",
    "dap_urls = []\n",
    "print(fmt(' Catalog information '))\n",
    "for endpoint in config['catalogs']:\n",
    "    print('URL: {}'.format(endpoint))\n",
    "    try:\n",
    "        csw = CatalogueServiceWeb(endpoint, timeout=120)\n",
    "    except Exception as e:\n",
    "        print('{}'.format(e))\n",
    "        continue\n",
    "    csw = get_csw_records(csw, filter_list, esn='full')\n",
    "    OPeNDAP = service_urls(csw.records, identifier='OPeNDAP:OPeNDAP')\n",
    "    odp = service_urls(csw.records, identifier='urn:x-esri:specification:ServiceType:odp:url')\n",
    "    dap = OPeNDAP + odp\n",
    "    dap_urls.extend(dap)\n",
    "\n",
    "    print('Number of datasets available: {}'.format(len(csw.records.keys())))\n",
    "\n",
    "    for rec, item in csw.records.items():\n",
    "        print('{}'.format(item.title))\n",
    "    if dap:\n",
    "        print(fmt(' DAP '))\n",
    "        for url in dap:\n",
    "            print('{}.html'.format(url))\n",
    "    print('\\n')\n",
    "\n",
    "# Get only unique endpoints.\n",
    "dap_urls = list(set(dap_urls))"
   ]
  },
  {
   "cell_type": "markdown",
   "metadata": {},
   "source": [
    "We found some models, and observations from NERACOOS there.\n",
    "However, we do know that there are some buoys from NDBC and CO-OPS available too.\n",
    "Also, those NERACOOS observations seem to be from a [CTD](http://www.neracoos.org/thredds/dodsC/UMO/DSG/SOS/A01/CTD1m/HistoricRealtime/Agg.ncml.html) mounted at 65 meters below the sea surface. Rendering them useless from our purpose.\n",
    "\n",
    "So let's use the catalog only for the models by filtering the observations with `is_station` below.\n",
    "And we'll rely `CO-OPS` and `NDBC` services for the observations."
   ]
  },
  {
   "cell_type": "code",
   "execution_count": 6,
   "metadata": {},
   "outputs": [
    {
     "name": "stdout",
     "output_type": "stream",
     "text": [
      "************************* Filtered DAP *************************\n",
      "http://oos.soest.hawaii.edu/thredds/dodsC/hioos/satellite/dhw_5km.html\n",
      "http://www.smast.umassd.edu:8080/thredds/dodsC/FVCOM/NECOFS/Forecasts/NECOFS_FVCOM_OCEAN_MASSBAY_FORECAST.nc.html\n",
      "http://www.smast.umassd.edu:8080/thredds/dodsC/FVCOM/NECOFS/Forecasts/NECOFS_GOM3_FORECAST.nc.html\n",
      "http://www.smast.umassd.edu:8080/thredds/dodsC/FVCOM/NECOFS/Forecasts/NECOFS_FVCOM_OCEAN_BOSTON_FORECAST.nc.html\n",
      "http://oos.soest.hawaii.edu/thredds/dodsC/pacioos/hycom/global.html\n",
      "http://thredds.secoora.org/thredds/dodsC/G1_SST_GLOBAL.nc.html\n",
      "http://thredds.secoora.org/thredds/dodsC/SECOORA_NCSU_CNAPS.nc.html\n",
      "http://www.smast.umassd.edu:8080/thredds/dodsC/FVCOM/NECOFS/Forecasts/NECOFS_FVCOM_OCEAN_SCITUATE_FORECAST.nc.html\n"
     ]
    }
   ],
   "source": [
    "from ioos_tools.ioos import is_station\n",
    "\n",
    "# Filter out some station endpoints.\n",
    "non_stations = []\n",
    "for url in dap_urls:\n",
    "    try:\n",
    "        if not is_station(url):\n",
    "            non_stations.append(url)\n",
    "    except (RuntimeError, OSError, IOError) as e:\n",
    "        print('Could not access URL {}. {!r}'.format(url, e))\n",
    "\n",
    "dap_urls = non_stations\n",
    "\n",
    "print(fmt(' Filtered DAP '))\n",
    "for url in dap_urls:\n",
    "    print('{}.html'.format(url))"
   ]
  },
  {
   "cell_type": "markdown",
   "metadata": {},
   "source": [
    "Now we can use `pyoos` collectors for `NdbcSos`,"
   ]
  },
  {
   "cell_type": "code",
   "execution_count": 7,
   "metadata": {},
   "outputs": [
    {
     "name": "stdout",
     "output_type": "stream",
     "text": [
      "******************* NDBC Collector offerings *******************\n",
      "National Data Buoy Center SOS: 993 offerings\n"
     ]
    }
   ],
   "source": [
    "from pyoos.collectors.ndbc.ndbc_sos import NdbcSos\n",
    "\n",
    "collector_ndbc = NdbcSos()\n",
    "\n",
    "collector_ndbc.set_bbox(config['region']['bbox'])\n",
    "collector_ndbc.end_time = config['date']['stop']\n",
    "collector_ndbc.start_time = config['date']['start']\n",
    "collector_ndbc.variables = [config['sos_name']]\n",
    "\n",
    "ofrs = collector_ndbc.server.offerings\n",
    "title = collector_ndbc.server.identification.title\n",
    "print(fmt(' NDBC Collector offerings '))\n",
    "print('{}: {} offerings'.format(title, len(ofrs)))"
   ]
  },
  {
   "cell_type": "code",
   "execution_count": 8,
   "metadata": {},
   "outputs": [
    {
     "data": {
      "text/html": [
       "<div>\n",
       "<style>\n",
       "    .dataframe thead tr:only-child th {\n",
       "        text-align: right;\n",
       "    }\n",
       "\n",
       "    .dataframe thead th {\n",
       "        text-align: left;\n",
       "    }\n",
       "\n",
       "    .dataframe tbody tr th {\n",
       "        vertical-align: top;\n",
       "    }\n",
       "</style>\n",
       "<table border=\"1\" class=\"dataframe\">\n",
       "  <thead>\n",
       "    <tr style=\"text-align: right;\">\n",
       "      <th></th>\n",
       "      <th>depth</th>\n",
       "      <th>lat</th>\n",
       "      <th>lon</th>\n",
       "      <th>sensor</th>\n",
       "      <th>station_name</th>\n",
       "    </tr>\n",
       "    <tr>\n",
       "      <th>station_code</th>\n",
       "      <th></th>\n",
       "      <th></th>\n",
       "      <th></th>\n",
       "      <th></th>\n",
       "      <th></th>\n",
       "    </tr>\n",
       "  </thead>\n",
       "  <tbody>\n",
       "    <tr>\n",
       "      <th>44013</th>\n",
       "      <td>0.6</td>\n",
       "      <td>42.346</td>\n",
       "      <td>-70.651</td>\n",
       "      <td>urn:ioos:sensor:wmo:44013::watertemp1</td>\n",
       "      <td>BOSTON 16 NM East of Boston, MA</td>\n",
       "    </tr>\n",
       "  </tbody>\n",
       "</table>\n",
       "</div>"
      ],
      "text/plain": [
       "              depth     lat     lon                                 sensor  \\\n",
       "station_code                                                                 \n",
       "44013           0.6  42.346 -70.651  urn:ioos:sensor:wmo:44013::watertemp1   \n",
       "\n",
       "                                 station_name  \n",
       "station_code                                   \n",
       "44013         BOSTON 16 NM East of Boston, MA  "
      ]
     },
     "execution_count": 8,
     "metadata": {},
     "output_type": "execute_result"
    }
   ],
   "source": [
    "import pandas as pd\n",
    "from ioos_tools.ioos import collector2table\n",
    "\n",
    "ndbc = collector2table(collector=collector_ndbc,\n",
    "                       config=config,\n",
    "                       col='sea_water_temperature (C)')\n",
    "\n",
    "if ndbc:\n",
    "    data = dict(\n",
    "        station_name=[s._metadata.get('station_name') for s in ndbc],\n",
    "        station_code=[s._metadata.get('station_code') for s in ndbc],\n",
    "        sensor=[s._metadata.get('sensor') for s in ndbc],\n",
    "        lon=[s._metadata.get('lon') for s in ndbc],\n",
    "        lat=[s._metadata.get('lat') for s in ndbc],\n",
    "        depth=[s._metadata.get('depth') for s in ndbc],\n",
    "    )\n",
    "\n",
    "table = pd.DataFrame(data).set_index('station_code')\n",
    "table"
   ]
  },
  {
   "cell_type": "markdown",
   "metadata": {},
   "source": [
    "and `CoopsSos`."
   ]
  },
  {
   "cell_type": "code",
   "execution_count": 9,
   "metadata": {},
   "outputs": [
    {
     "name": "stdout",
     "output_type": "stream",
     "text": [
      "********************* Collector offerings **********************\n",
      "NOAA.NOS.CO-OPS SOS: 1188 offerings\n"
     ]
    }
   ],
   "source": [
    "from pyoos.collectors.coops.coops_sos import CoopsSos\n",
    "\n",
    "collector_coops = CoopsSos()\n",
    "\n",
    "collector_coops.set_bbox(config['region']['bbox'])\n",
    "collector_coops.end_time = config['date']['stop']\n",
    "collector_coops.start_time = config['date']['start']\n",
    "collector_coops.variables = [config['sos_name']]\n",
    "\n",
    "ofrs = collector_coops.server.offerings\n",
    "title = collector_coops.server.identification.title\n",
    "print(fmt(' Collector offerings '))\n",
    "print('{}: {} offerings'.format(title, len(ofrs)))"
   ]
  },
  {
   "cell_type": "code",
   "execution_count": 10,
   "metadata": {
    "scrolled": true
   },
   "outputs": [
    {
     "data": {
      "text/html": [
       "<div>\n",
       "<style>\n",
       "    .dataframe thead tr:only-child th {\n",
       "        text-align: right;\n",
       "    }\n",
       "\n",
       "    .dataframe thead th {\n",
       "        text-align: left;\n",
       "    }\n",
       "\n",
       "    .dataframe tbody tr th {\n",
       "        vertical-align: top;\n",
       "    }\n",
       "</style>\n",
       "<table border=\"1\" class=\"dataframe\">\n",
       "  <thead>\n",
       "    <tr style=\"text-align: right;\">\n",
       "      <th></th>\n",
       "      <th>depth</th>\n",
       "      <th>lat</th>\n",
       "      <th>lon</th>\n",
       "      <th>sensor</th>\n",
       "      <th>station_name</th>\n",
       "    </tr>\n",
       "    <tr>\n",
       "      <th>station_code</th>\n",
       "      <th></th>\n",
       "      <th></th>\n",
       "      <th></th>\n",
       "      <th></th>\n",
       "      <th></th>\n",
       "    </tr>\n",
       "  </thead>\n",
       "  <tbody>\n",
       "    <tr>\n",
       "      <th>44013</th>\n",
       "      <td>0.6</td>\n",
       "      <td>42.346</td>\n",
       "      <td>-70.651</td>\n",
       "      <td>urn:ioos:sensor:wmo:44013::watertemp1</td>\n",
       "      <td>BOSTON 16 NM East of Boston, MA</td>\n",
       "    </tr>\n",
       "  </tbody>\n",
       "</table>\n",
       "</div>"
      ],
      "text/plain": [
       "              depth     lat     lon                                 sensor  \\\n",
       "station_code                                                                 \n",
       "44013           0.6  42.346 -70.651  urn:ioos:sensor:wmo:44013::watertemp1   \n",
       "\n",
       "                                 station_name  \n",
       "station_code                                   \n",
       "44013         BOSTON 16 NM East of Boston, MA  "
      ]
     },
     "execution_count": 10,
     "metadata": {},
     "output_type": "execute_result"
    }
   ],
   "source": [
    "coops = collector2table(collector=collector_coops,\n",
    "                        config=config,\n",
    "                        col='sea_water_temperature (C)')\n",
    "\n",
    "if coops:\n",
    "    data = dict(\n",
    "        station_name=[s._metadata.get('station_name') for s in coops],\n",
    "        station_code=[s._metadata.get('station_code') for s in coops],\n",
    "        sensor=[s._metadata.get('sensor') for s in coops],\n",
    "        lon=[s._metadata.get('lon') for s in coops],\n",
    "        lat=[s._metadata.get('lat') for s in coops],\n",
    "        depth=[s._metadata.get('depth') for s in coops],\n",
    "    )\n",
    "\n",
    "table = pd.DataFrame(data).set_index('station_code')\n",
    "table"
   ]
  },
  {
   "cell_type": "markdown",
   "metadata": {},
   "source": [
    "We will join all the observations into an uniform series, interpolated to 1-hour interval, for the model-data comparison.\n",
    "\n",
    "This step is necessary because the observations can be 7 or 10 minutes resolution,\n",
    "while the models can be 30 to 60 minutes."
   ]
  },
  {
   "cell_type": "code",
   "execution_count": 11,
   "metadata": {
    "collapsed": true,
    "scrolled": true
   },
   "outputs": [],
   "source": [
    "data = ndbc + coops\n",
    "\n",
    "index = pd.date_range(start=config['date']['start'].replace(tzinfo=None),\n",
    "                      end=config['date']['stop'].replace(tzinfo=None),\n",
    "                      freq='1H')\n",
    "\n",
    "# Preserve metadata with `reindex`.\n",
    "observations = []\n",
    "for series in data:\n",
    "    _metadata = series._metadata\n",
    "    obs = series.reindex(index=index, limit=1, method='nearest')\n",
    "    obs._metadata = _metadata\n",
    "    observations.append(obs)"
   ]
  },
  {
   "cell_type": "markdown",
   "metadata": {},
   "source": [
    "In this next cell we will save the data for quicker access later."
   ]
  },
  {
   "cell_type": "code",
   "execution_count": 12,
   "metadata": {
    "collapsed": true,
    "scrolled": false
   },
   "outputs": [],
   "source": [
    "import iris\n",
    "from ioos_tools.tardis import series2cube\n",
    "\n",
    "attr = dict(\n",
    "    featureType='timeSeries',\n",
    "    Conventions='CF-1.6',\n",
    "    standard_name_vocabulary='CF-1.6',\n",
    "    cdm_data_type='Station',\n",
    "    comment='Data from http://opendap.co-ops.nos.noaa.gov'\n",
    ")\n",
    "\n",
    "\n",
    "cubes = iris.cube.CubeList(\n",
    "    [series2cube(obs, attr=attr) for obs in observations]\n",
    ")\n",
    "\n",
    "outfile = os.path.join(save_dir, 'OBS_DATA.nc')\n",
    "iris.save(cubes, outfile)"
   ]
  },
  {
   "cell_type": "markdown",
   "metadata": {},
   "source": [
    "Taking a quick look at the observations:"
   ]
  },
  {
   "cell_type": "code",
   "execution_count": 13,
   "metadata": {},
   "outputs": [
    {
     "data": {
      "image/png": "[encoded data removed]",
      "text/plain": [
       "<matplotlib.figure.Figure at 0x7fced20a8278>"
      ]
     },
     "metadata": {},
     "output_type": "display_data"
    }
   ],
   "source": [
    "%matplotlib inline\n",
    "\n",
    "ax = pd.concat(data).plot(figsize=(11, 2.25))"
   ]
  },
  {
   "cell_type": "markdown",
   "metadata": {},
   "source": [
    "Now it is time to loop the models we found above,"
   ]
  },
  {
   "cell_type": "code",
   "execution_count": 14,
   "metadata": {},
   "outputs": [
    {
     "name": "stdout",
     "output_type": "stream",
     "text": [
      "**************************** Models ****************************\n",
      "\n",
      "[Reading url 1/8]: http://oos.soest.hawaii.edu/thredds/dodsC/hioos/satellite/dhw_5km\n",
      "\n",
      "[Reading url 2/8]: http://www.smast.umassd.edu:8080/thredds/dodsC/FVCOM/NECOFS/Forecasts/NECOFS_FVCOM_OCEAN_MASSBAY_FORECAST.nc\n",
      "\n",
      "[Reading url 3/8]: http://www.smast.umassd.edu:8080/thredds/dodsC/FVCOM/NECOFS/Forecasts/NECOFS_GOM3_FORECAST.nc\n",
      "\n",
      "[Reading url 4/8]: http://www.smast.umassd.edu:8080/thredds/dodsC/FVCOM/NECOFS/Forecasts/NECOFS_FVCOM_OCEAN_BOSTON_FORECAST.nc\n",
      "\n",
      "[Reading url 5/8]: http://oos.soest.hawaii.edu/thredds/dodsC/pacioos/hycom/global\n",
      "\n",
      "[Reading url 6/8]: http://thredds.secoora.org/thredds/dodsC/G1_SST_GLOBAL.nc\n",
      "\n",
      "[Reading url 7/8]: http://thredds.secoora.org/thredds/dodsC/SECOORA_NCSU_CNAPS.nc\n",
      "\n",
      "[Reading url 8/8]: http://www.smast.umassd.edu:8080/thredds/dodsC/FVCOM/NECOFS/Forecasts/NECOFS_FVCOM_OCEAN_SCITUATE_FORECAST.nc\n"
     ]
    }
   ],
   "source": [
    "from iris.exceptions import (CoordinateNotFoundError, ConstraintMismatchError,\n",
    "                             MergeError)\n",
    "from ioos_tools.ioos import get_model_name\n",
    "from ioos_tools.tardis import quick_load_cubes, proc_cube, is_model, get_surface\n",
    "\n",
    "print(fmt(' Models '))\n",
    "cubes = dict()\n",
    "for k, url in enumerate(dap_urls):\n",
    "    print('\\n[Reading url {}/{}]: {}'.format(k+1, len(dap_urls), url))\n",
    "    try:\n",
    "        cube = quick_load_cubes(url, config['cf_names'],\n",
    "                                callback=None, strict=True)\n",
    "        if is_model(cube):\n",
    "            cube = proc_cube(cube,\n",
    "                             bbox=config['region']['bbox'],\n",
    "                             time=(config['date']['start'],\n",
    "                                   config['date']['stop']),\n",
    "                             units=config['units'])\n",
    "        else:\n",
    "            print('[Not model data]: {}'.format(url))\n",
    "            continue\n",
    "        cube = get_surface(cube)\n",
    "        mod_name = get_model_name(url)\n",
    "        cubes.update({mod_name: cube})\n",
    "    except (RuntimeError, ValueError,\n",
    "            ConstraintMismatchError, CoordinateNotFoundError,\n",
    "            IndexError) as e:\n",
    "        print('Cannot get cube for: {}\\n{}'.format(url, e))"
   ]
  },
  {
   "cell_type": "markdown",
   "metadata": {},
   "source": [
    "Next, we will match them with the nearest observed time-series. The `max_dist=0.08` is in degrees, that is roughly 8 kilometers."
   ]
  },
  {
   "cell_type": "code",
   "execution_count": 15,
   "metadata": {},
   "outputs": [
    {
     "name": "stdout",
     "output_type": "stream",
     "text": [
      " Downloading to file /home/filipe/IOOS/notebooks_demos/notebooks/latest/hioos_satellite-dhw_5km.nc \n",
      "[Water  ] BOSTON 16 NM East of Boston, MA\n",
      "Finished processing [hioos_satellite-dhw_5km]\n",
      " Downloading to file /home/filipe/IOOS/notebooks_demos/notebooks/latest/Forecasts-NECOFS_FVCOM_OCEAN_MASSBAY_FORECAST.nc \n",
      "[Water  ] BOSTON 16 NM East of Boston, MA\n",
      "Finished processing [Forecasts-NECOFS_FVCOM_OCEAN_MASSBAY_FORECAST]\n",
      " Downloading to file /home/filipe/IOOS/notebooks_demos/notebooks/latest/FVCOM_Forecasts-NECOFS_GOM3_FORECAST.nc \n",
      "[Water  ] BOSTON 16 NM East of Boston, MA\n",
      "Finished processing [FVCOM_Forecasts-NECOFS_GOM3_FORECAST]\n",
      " Downloading to file /home/filipe/IOOS/notebooks_demos/notebooks/latest/Forecasts-NECOFS_FVCOM_OCEAN_BOSTON_FORECAST.nc \n",
      "[No Data] BOSTON 16 NM East of Boston, MA\n",
      "Finished processing [Forecasts-NECOFS_FVCOM_OCEAN_BOSTON_FORECAST]\n",
      " Downloading to file /home/filipe/IOOS/notebooks_demos/notebooks/latest/pacioos_hycom-global.nc \n",
      "[Water  ] BOSTON 16 NM East of Boston, MA\n",
      "Finished processing [pacioos_hycom-global]\n",
      " Downloading to file /home/filipe/IOOS/notebooks_demos/notebooks/latest/G1_SST_GLOBAL.nc \n",
      "[Water  ] BOSTON 16 NM East of Boston, MA\n",
      "Finished processing [G1_SST_GLOBAL]\n",
      " Downloading to file /home/filipe/IOOS/notebooks_demos/notebooks/latest/SECOORA_NCSU_CNAPS.nc \n",
      "[Water  ] BOSTON 16 NM East of Boston, MA\n",
      "Finished processing [SECOORA_NCSU_CNAPS]\n",
      " Downloading to file /home/filipe/IOOS/notebooks_demos/notebooks/latest/Forecasts-NECOFS_FVCOM_OCEAN_SCITUATE_FORECAST.nc \n",
      "[No Data] BOSTON 16 NM East of Boston, MA\n",
      "Finished processing [Forecasts-NECOFS_FVCOM_OCEAN_SCITUATE_FORECAST]\n"
     ]
    }
   ],
   "source": [
    "import iris\n",
    "from iris.pandas import as_series\n",
    "from ioos_tools.tardis import (make_tree, get_nearest_water,\n",
    "                               add_station, ensure_timeseries, remove_ssh)\n",
    "\n",
    "for mod_name, cube in cubes.items():\n",
    "    fname = '{}.nc'.format(mod_name)\n",
    "    fname = os.path.join(save_dir, fname)\n",
    "    print(fmt(' Downloading to file {} '.format(fname)))\n",
    "    try:\n",
    "        tree, lon, lat = make_tree(cube)\n",
    "    except CoordinateNotFoundError as e:\n",
    "        print('Cannot make KDTree for: {}'.format(mod_name))\n",
    "        continue\n",
    "    # Get model series at observed locations.\n",
    "    raw_series = dict()\n",
    "    for obs in observations:\n",
    "        obs = obs._metadata\n",
    "        station = obs['station_code']\n",
    "        try:\n",
    "            kw = dict(k=10, max_dist=0.08, min_var=0.01)\n",
    "            args = cube, tree, obs['lon'], obs['lat']\n",
    "            try:\n",
    "                series, dist, idx = get_nearest_water(*args, **kw)\n",
    "            except RuntimeError as e:\n",
    "                print('Cannot download {!r}.\\n{}'.format(cube, e))\n",
    "                series = None\n",
    "        except ValueError as e:\n",
    "            status = 'No Data'\n",
    "            print('[{}] {}'.format(status, obs['station_name']))\n",
    "            continue\n",
    "        if not series:\n",
    "            status = 'Land   '\n",
    "        else:\n",
    "            raw_series.update({station: series})\n",
    "            series = as_series(series)\n",
    "            status = 'Water  '\n",
    "        print('[{}] {}'.format(status, obs['station_name']))\n",
    "    if raw_series:  # Save cube.\n",
    "        for station, cube in raw_series.items():\n",
    "            cube = add_station(cube, station)\n",
    "            cube = remove_ssh(cube)\n",
    "        try:\n",
    "            cube = iris.cube.CubeList(raw_series.values()).merge_cube()\n",
    "        except MergeError as e:\n",
    "            print(e)\n",
    "        ensure_timeseries(cube)\n",
    "        try:\n",
    "            iris.save(cube, fname)\n",
    "        except AttributeError:\n",
    "            # FIXME: we should patch the bad attribute instead of removing everything.\n",
    "            cube.attributes = {}\n",
    "            iris.save(cube, fname)\n",
    "        del cube\n",
    "    print('Finished processing [{}]'.format(mod_name))"
   ]
  },
  {
   "cell_type": "markdown",
   "metadata": {},
   "source": [
    "Now it is possible to compute some simple comparison metrics. First we'll calculate the model mean bias:\n",
    "\n",
    "$$ \\text{MB} = \\mathbf{\\overline{m}} - \\mathbf{\\overline{o}}$$"
   ]
  },
  {
   "cell_type": "code",
   "execution_count": 16,
   "metadata": {
    "collapsed": true
   },
   "outputs": [],
   "source": [
    "from ioos_tools.ioos import stations_keys\n",
    "\n",
    "\n",
    "def rename_cols(df, config):\n",
    "    cols = stations_keys(config, key='station_name')\n",
    "    return df.rename(columns=cols)"
   ]
  },
  {
   "cell_type": "code",
   "execution_count": 17,
   "metadata": {
    "collapsed": true,
    "scrolled": false
   },
   "outputs": [],
   "source": [
    "from ioos_tools.ioos import load_ncs\n",
    "from ioos_tools.skill_score import mean_bias, apply_skill\n",
    "\n",
    "dfs = load_ncs(config)\n",
    "\n",
    "df = apply_skill(dfs, mean_bias, remove_mean=False, filter_tides=False)\n",
    "skill_score = dict(mean_bias=df.to_dict())\n",
    "\n",
    "# Filter out stations with no valid comparison.\n",
    "df.dropna(how='all', axis=1, inplace=True)\n",
    "df = df.applymap('{:.2f}'.format).replace('nan', '--')"
   ]
  },
  {
   "cell_type": "markdown",
   "metadata": {},
   "source": [
    "And the root mean squared rrror of the deviations from the mean:\n",
    "$$ \\text{CRMS} = \\sqrt{\\left(\\mathbf{m'} - \\mathbf{o'}\\right)^2}$$\n",
    "\n",
    "where: $\\mathbf{m'} = \\mathbf{m} - \\mathbf{\\overline{m}}$ and $\\mathbf{o'} = \\mathbf{o} - \\mathbf{\\overline{o}}$"
   ]
  },
  {
   "cell_type": "code",
   "execution_count": 18,
   "metadata": {
    "collapsed": true
   },
   "outputs": [],
   "source": [
    "from ioos_tools.skill_score import rmse\n",
    "\n",
    "dfs = load_ncs(config)\n",
    "\n",
    "df = apply_skill(dfs, rmse, remove_mean=True, filter_tides=False)\n",
    "skill_score['rmse'] = df.to_dict()\n",
    "\n",
    "# Filter out stations with no valid comparison.\n",
    "df.dropna(how='all', axis=1, inplace=True)\n",
    "df = df.applymap('{:.2f}'.format).replace('nan', '--')"
   ]
  },
  {
   "cell_type": "markdown",
   "metadata": {},
   "source": [
    "The next 2 cells make the scores \"pretty\" for plotting."
   ]
  },
  {
   "cell_type": "code",
   "execution_count": 19,
   "metadata": {
    "collapsed": true
   },
   "outputs": [],
   "source": [
    "import pandas as pd\n",
    "\n",
    "# Stringfy keys.\n",
    "for key in skill_score.keys():\n",
    "    skill_score[key] = {str(k): v for k, v in skill_score[key].items()}\n",
    "\n",
    "mean_bias = pd.DataFrame.from_dict(skill_score['mean_bias'])\n",
    "mean_bias = mean_bias.applymap('{:.2f}'.format).replace('nan', '--')\n",
    "\n",
    "skill_score = pd.DataFrame.from_dict(skill_score['rmse'])\n",
    "skill_score = skill_score.applymap('{:.2f}'.format).replace('nan', '--')"
   ]
  },
  {
   "cell_type": "code",
   "execution_count": 20,
   "metadata": {
    "collapsed": true
   },
   "outputs": [],
   "source": [
    "import folium\n",
    "from ioos_tools.ioos import get_coordinates\n",
    "\n",
    "\n",
    "def make_map(bbox, **kw):\n",
    "    line = kw.pop('line', True)\n",
    "    layers = kw.pop('layers', True)\n",
    "    zoom_start = kw.pop('zoom_start', 5)\n",
    "\n",
    "    lon = (bbox[0] + bbox[2]) / 2\n",
    "    lat = (bbox[1] + bbox[3]) / 2\n",
    "    m = folium.Map(width='100%', height='100%',\n",
    "                   location=[lat, lon], zoom_start=zoom_start)\n",
    "\n",
    "    if layers:\n",
    "        url = 'http://oos.soest.hawaii.edu/thredds/wms/hioos/satellite/dhw_5km'\n",
    "        w = folium.WmsTileLayer(\n",
    "            url,\n",
    "            name='Sea Surface Temperature',\n",
    "            fmt='image/png',\n",
    "            layers='CRW_SST',\n",
    "            attr='PacIOOS TDS',\n",
    "            overlay=True,\n",
    "            transparent=True)\n",
    "        w.add_to(m)\n",
    "\n",
    "    if line:\n",
    "        p = folium.PolyLine(get_coordinates(bbox),\n",
    "                            color='#FF0000',\n",
    "                            weight=2,\n",
    "                            opacity=0.9,\n",
    "                            latlon=True)\n",
    "        p.add_to(m)\n",
    "    return m"
   ]
  },
  {
   "cell_type": "code",
   "execution_count": 21,
   "metadata": {},
   "outputs": [],
   "source": [
    "bbox = config['region']['bbox']\n",
    "\n",
    "m = make_map(\n",
    "    bbox,\n",
    "    zoom_start=11,\n",
    "    line=True,\n",
    "    layers=True\n",
    ")"
   ]
  },
  {
   "cell_type": "markdown",
   "metadata": {},
   "source": [
    "The cells from `[20]` to `[25]` create a [`folium`](https://github.com/python-visualization/folium) map with [`bokeh`](http://bokeh.pydata.org/en/latest/) for the time-series at the observed points.\n",
    "\n",
    "Note that we did mark the nearest model cell location used in the comparison."
   ]
  },
  {
   "cell_type": "code",
   "execution_count": 22,
   "metadata": {},
   "outputs": [
    {
     "data": {
      "text/plain": [
       "<folium.plugins.marker_cluster.MarkerCluster at 0x7fcec9ca8dd8>"
      ]
     },
     "execution_count": 22,
     "metadata": {},
     "output_type": "execute_result"
    }
   ],
   "source": [
    "all_obs = stations_keys(config)\n",
    "\n",
    "from glob import glob\n",
    "from operator import itemgetter\n",
    "\n",
    "import iris\n",
    "from folium.plugins import MarkerCluster\n",
    "\n",
    "iris.FUTURE.netcdf_promote = True\n",
    "\n",
    "big_list = []\n",
    "for fname in glob(os.path.join(save_dir, '*.nc')):\n",
    "    if 'OBS_DATA' in fname:\n",
    "        continue\n",
    "    cube = iris.load_cube(fname)\n",
    "    model = os.path.split(fname)[1].split('-')[-1].split('.')[0]\n",
    "    lons = cube.coord(axis='X').points\n",
    "    lats = cube.coord(axis='Y').points\n",
    "    stations = cube.coord('station_code').points\n",
    "    models = [model]*lons.size\n",
    "    lista = zip(models, lons.tolist(), lats.tolist(), stations.tolist())\n",
    "    big_list.extend(lista)\n",
    "\n",
    "big_list.sort(key=itemgetter(3))\n",
    "df = pd.DataFrame(big_list, columns=['name', 'lon', 'lat', 'station'])\n",
    "df.set_index('station', drop=True, inplace=True)\n",
    "groups = df.groupby(df.index)\n",
    "\n",
    "\n",
    "locations, popups = [], []\n",
    "for station, info in groups:\n",
    "    sta_name = all_obs[station]\n",
    "    for lat, lon, name in zip(info.lat, info.lon, info.name):\n",
    "        locations.append([lat, lon])\n",
    "        popups.append('[{}]: {}'.format(name, sta_name))\n",
    "\n",
    "MarkerCluster(locations=locations, popups=popups, name='Cluster').add_to(m)"
   ]
  },
  {
   "cell_type": "markdown",
   "metadata": {},
   "source": [
    "Here we use a dictionary with some models we expect to find so we can create a better legend for the plots. If any new models are found, we will use its filename in the legend as a default until we can go back and add a short name to our library."
   ]
  },
  {
   "cell_type": "code",
   "execution_count": 23,
   "metadata": {
    "collapsed": true
   },
   "outputs": [],
   "source": [
    "titles = {\n",
    "    'coawst_4_use_best': 'COAWST_4',\n",
    "    'global': 'HYCOM',\n",
    "    'NECOFS_GOM3_FORECAST': 'NECOFS_GOM3',\n",
    "    'NECOFS_FVCOM_OCEAN_MASSBAY_FORECAST': 'NECOFS_MassBay',\n",
    "    'OBS_DATA': 'Observations'\n",
    "}"
   ]
  },
  {
   "cell_type": "code",
   "execution_count": 24,
   "metadata": {
    "collapsed": true
   },
   "outputs": [],
   "source": [
    "from bokeh.resources import CDN\n",
    "from bokeh.plotting import figure\n",
    "from bokeh.embed import file_html\n",
    "from bokeh.models import HoverTool\n",
    "from itertools import cycle\n",
    "from bokeh.palettes import Category20\n",
    "\n",
    "from folium import IFrame\n",
    "\n",
    "# Plot defaults.\n",
    "colors = Category20[20]\n",
    "colorcycler = cycle(colors)\n",
    "tools = 'pan,box_zoom,reset'\n",
    "width, height = 750, 250\n",
    "\n",
    "\n",
    "def make_plot(df, station):\n",
    "    p = figure(\n",
    "        toolbar_location='above',\n",
    "        x_axis_type='datetime',\n",
    "        width=width,\n",
    "        height=height,\n",
    "        tools=tools,\n",
    "        title=str(station)\n",
    "    )\n",
    "    for column, series in df.iteritems():\n",
    "        series.dropna(inplace=True)\n",
    "        if not series.empty:\n",
    "            if 'OBS_DATA' not in column:\n",
    "                bias = mean_bias[str(station)][column]\n",
    "                skill = skill_score[str(station)][column]\n",
    "                line_color = next(colorcycler)\n",
    "                kw = dict(alpha=0.65, line_color=line_color)\n",
    "            else:\n",
    "                skill = bias = 'NA'\n",
    "                kw = dict(alpha=1, color='crimson')\n",
    "            line = p.line(\n",
    "                x=series.index,\n",
    "                y=series.values,\n",
    "                legend='{}'.format(titles.get(column, column)),\n",
    "                line_width=5,\n",
    "                line_cap='round',\n",
    "                line_join='round',\n",
    "                **kw\n",
    "            )\n",
    "            p.add_tools(HoverTool(tooltips=[('Name', '{}'.format(titles.get(column, column))),\n",
    "                                            ('Bias', bias),\n",
    "                                            ('Skill', skill)],\n",
    "                                  renderers=[line]))\n",
    "    return p\n",
    "\n",
    "\n",
    "def make_marker(p, station):\n",
    "    lons = stations_keys(config, key='lon')\n",
    "    lats = stations_keys(config, key='lat')\n",
    "\n",
    "    lon, lat = lons[station], lats[station]\n",
    "    html = file_html(p, CDN, station)\n",
    "    iframe = IFrame(html, width=width+40, height=height+80)\n",
    "\n",
    "    popup = folium.Popup(iframe, max_width=2650)\n",
    "    icon = folium.Icon(color='green', icon='stats')\n",
    "    marker = folium.Marker(location=[lat, lon],\n",
    "                           popup=popup,\n",
    "                           icon=icon)\n",
    "    return marker"
   ]
  },
  {
   "cell_type": "code",
   "execution_count": 25,
   "metadata": {},
   "outputs": [
    {
     "data": {
      "text/html": [
       "<div style=\"width:100%;\"><div style=\"position:relative;width:100%;height:0;padding-bottom:60%;\"><iframe src=\"data:text/html;charset=utf-8;base64,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\" style=\"position:absolute;width:100%;height:100%;left:0;top:0;border:none !important;\" allowfullscreen webkitallowfullscreen mozallowfullscreen></iframe></div></div>"
      ],
      "text/plain": [
       "<folium.folium.Map at 0x7fcec8afbeb8>"
      ]
     },
     "execution_count": 25,
     "metadata": {},
     "output_type": "execute_result"
    }
   ],
   "source": [
    "dfs = load_ncs(config)\n",
    "\n",
    "for station in dfs:\n",
    "    sta_name = all_obs[station]\n",
    "    df = dfs[station]\n",
    "    if df.empty:\n",
    "        continue\n",
    "    p = make_plot(df, station)\n",
    "    marker = make_marker(p, station)\n",
    "    marker.add_to(m)\n",
    "\n",
    "folium.LayerControl().add_to(m)\n",
    "\n",
    "m"
   ]
  },
  {
   "cell_type": "markdown",
   "metadata": {},
   "source": [
    "Now we can navigate the map and click on the markers to explorer our findings.\n",
    "\n",
    "The green markers locate the observations locations. They pop-up an interactive plot with the time-series and scores for the models (hover over the lines to se the scores). The blue markers indicate the nearest model grid point found for the comparison."
   ]
  }
 ],
 "metadata": {
  "anaconda-cloud": {},
  "kernelspec": {
   "display_name": "Python [default]",
   "language": "python",
   "name": "python3"
  },
  "language_info": {
   "codemirror_mode": {
    "name": "ipython",
    "version": 3
   },
   "file_extension": ".py",
   "mimetype": "text/x-python",
   "name": "python",
   "nbconvert_exporter": "python",
   "pygments_lexer": "ipython3",
   "version": "3.6.2"
  }
 },
 "nbformat": 4,
 "nbformat_minor": 1
}
