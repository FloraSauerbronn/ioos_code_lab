{
 "cells": [
  {
   "cell_type": "markdown",
   "metadata": {},
   "source": [
    "# [The Boston Light Swim](http://bostonlightswim.org/)\n",
    "\n",
    "In the past we demonstrated how to perform a CSW catalog search with [`OWSLib`](https://ioos.github.io/notebooks_demos//notebooks/2016-12-19-exploring_csw),\n",
    "and how to obtain near real-time data with [`pyoos`](https://ioos.github.io/notebooks_demos//notebooks/2016-10-12-fetching_data).\n",
    "In this notebooks we will use both to find all observations and model data around the Boston Harbor to access the sea water temperature.\n",
    "\n",
    "\n",
    "For more information regarding the workflow presented here see [Signell, Richard P.; Fernandes, Filipe; Wilcox, Kyle.   2016. \"Dynamic Reusable Workflows for Ocean Science.\" *J. Mar. Sci. Eng.* 4, no. 4: 68](http://dx.doi.org/10.3390/jmse4040068)."
   ]
  },
  {
   "cell_type": "code",
   "execution_count": 1,
   "metadata": {
    "collapsed": false
   },
   "outputs": [],
   "source": [
    "import os\n",
    "import sys\n",
    "import time\n",
    "import warnings\n",
    "\n",
    "ioos_tools = os.path.join(os.path.pardir)\n",
    "sys.path.append(ioos_tools)\n",
    "\n",
    "# Suppresing warnings for a \"pretty output.\"\n",
    "# Remove this line to debug any possible issues.\n",
    "warnings.simplefilter(\"ignore\")\n",
    "\n",
    "start_time = time.time()"
   ]
  },
  {
   "cell_type": "markdown",
   "metadata": {},
   "source": [
    "This notebook is quite big and complex,\n",
    "so to help us keep things organized we'll define a cell with the most important options and switches.\n",
    "\n",
    "Below we can define the date,\n",
    "bounding box, phenomena `SOS` and `CF` names and units,\n",
    "and the catalogs we will search."
   ]
  },
  {
   "cell_type": "code",
   "execution_count": 2,
   "metadata": {
    "collapsed": false
   },
   "outputs": [
    {
     "name": "stdout",
     "output_type": "stream",
     "text": [
      "Overwriting config.yaml\n"
     ]
    }
   ],
   "source": [
    "%%writefile config.yaml\n",
    "\n",
    "# Specify a YYYY-MM-DD hh:mm:ss date or integer day offset.\n",
    "# If both start and stop are offsets they will be computed relative to datetime.today() at midnight.\n",
    "# Use the dates commented below to reproduce the last Boston Light Swim event forecast.\n",
    "date:\n",
    "    start: -5 # 2016-8-16 00:00:00\n",
    "    stop: +4 # 2016-8-29 00:00:00\n",
    "\n",
    "run_name: 'latest'\n",
    "\n",
    "# Boston harbor.\n",
    "region:\n",
    "    bbox: [-71.3, 42.03, -70.57, 42.63]\n",
    "    crs: 'urn:ogc:def:crs:OGC:1.3:CRS84'\n",
    "\n",
    "sos_name: 'sea_water_temperature'\n",
    "\n",
    "cf_names:\n",
    "    - sea_water_temperature\n",
    "    - sea_surface_temperature\n",
    "    - sea_water_potential_temperature\n",
    "    - equivalent_potential_temperature\n",
    "    - sea_water_conservative_temperature\n",
    "    - pseudo_equivalent_potential_temperature\n",
    "\n",
    "units: 'celsius'\n",
    "\n",
    "catalogs:\n",
    "    - https://data.ioos.us/csw\n",
    "    - http://gamone.whoi.edu/csw"
   ]
  },
  {
   "cell_type": "markdown",
   "metadata": {},
   "source": [
    "We'll print some of the search configuration options along the way to keep track of them."
   ]
  },
  {
   "cell_type": "code",
   "execution_count": 3,
   "metadata": {
    "collapsed": false
   },
   "outputs": [
    {
     "name": "stdout",
     "output_type": "stream",
     "text": [
      "Saving data inside directory /home/filipe/IOOS/notebooks_demos/notebooks/latest\n",
      "*********************** Run information ************************\n",
      "Run date: 2017-01-10 17:47:12\n",
      "Start: 2017-01-05 00:00:00\n",
      "Stop: 2017-01-14 00:00:00\n",
      "Bounding box: -71.30, 42.03,-70.57, 42.63\n"
     ]
    }
   ],
   "source": [
    "import shutil\n",
    "from datetime import datetime\n",
    "from ioos_tools.ioos import parse_config\n",
    "\n",
    "config = parse_config('config.yaml')\n",
    "\n",
    "# Saves downloaded data into a temporary directory.\n",
    "save_dir = os.path.abspath(config['run_name'])\n",
    "if os.path.exists(save_dir):\n",
    "    shutil.rmtree(save_dir)\n",
    "os.makedirs(save_dir)\n",
    "\n",
    "fmt = '{:*^64}'.format\n",
    "print(fmt('Saving data inside directory {}'.format(save_dir)))\n",
    "print(fmt(' Run information '))\n",
    "print('Run date: {:%Y-%m-%d %H:%M:%S}'.format(datetime.utcnow()))\n",
    "print('Start: {:%Y-%m-%d %H:%M:%S}'.format(config['date']['start']))\n",
    "print('Stop: {:%Y-%m-%d %H:%M:%S}'.format(config['date']['stop']))\n",
    "print('Bounding box: {0:3.2f}, {1:3.2f},'\n",
    "      '{2:3.2f}, {3:3.2f}'.format(*config['region']['bbox']))"
   ]
  },
  {
   "cell_type": "markdown",
   "metadata": {},
   "source": [
    "We already created an `OWSLib.fes` filter [before](https://ioos.github.io/notebooks_demos//notebooks/2016-12-19-exploring_csw).\n",
    "The main difference here is that we do not want the atmosphere model data,\n",
    "so we are filtering out all the `GRIB-2` data format."
   ]
  },
  {
   "cell_type": "code",
   "execution_count": 4,
   "metadata": {
    "collapsed": false
   },
   "outputs": [],
   "source": [
    "def make_filter(config):\n",
    "    from owslib import fes\n",
    "    from ioos_tools.ioos import fes_date_filter\n",
    "    kw = dict(wildCard='*', escapeChar='\\\\',\n",
    "              singleChar='?', propertyname='apiso:AnyText')\n",
    "\n",
    "    or_filt = fes.Or([fes.PropertyIsLike(literal=('*%s*' % val), **kw)\n",
    "                      for val in config['cf_names']])\n",
    "\n",
    "    not_filt = fes.Not([fes.PropertyIsLike(literal='GRIB-2', **kw)])\n",
    "\n",
    "    begin, end = fes_date_filter(config['date']['start'],\n",
    "                                 config['date']['stop'])\n",
    "    bbox_crs = fes.BBox(config['region']['bbox'],\n",
    "                        crs=config['region']['crs'])\n",
    "    filter_list = [fes.And([bbox_crs, begin, end, or_filt, not_filt])]\n",
    "    return filter_list\n",
    "\n",
    "\n",
    "filter_list = make_filter(config)"
   ]
  },
  {
   "cell_type": "markdown",
   "metadata": {},
   "source": [
    "In the cell below we ask the catalog for all the returns that matches the filter and have an OPeNDAP endpoint."
   ]
  },
  {
   "cell_type": "code",
   "execution_count": 5,
   "metadata": {
    "code_folding": [],
    "collapsed": false
   },
   "outputs": [
    {
     "name": "stdout",
     "output_type": "stream",
     "text": [
      "********************* Catalog information **********************\n",
      "URL: https://data.ioos.us/csw\n",
      "Number of datasets available: 18\n",
      "NERACOOS Gulf of Maine Ocean Array: Realtime Buoy Observations: A01 Massachusetts Bay: A01 CTD1m Massachusetts Bay\n",
      "NERACOOS Gulf of Maine Ocean Array: Realtime Buoy Observations: A01 Massachusetts Bay: A01 CTD20m Massachusetts Bay\n",
      "NERACOOS Gulf of Maine Ocean Array: Realtime Buoy Observations: A01 Massachusetts Bay: A01 MET Massachusetts Bay\n",
      "NERACOOS Gulf of Maine Ocean Array: Realtime Buoy Observations: A01 Massachusetts Bay: A01 OPTICS3m Massachusetts Bay\n",
      "NERACOOS Gulf of Maine Ocean Array: Realtime Buoy Observations: A01 Massachusetts Bay: A01 OPTODE51m Massachusetts Bay\n",
      "NERACOOS Gulf of Maine Ocean Array: Realtime Buoy Observations: A01 Western Maine Shelf: A01 CTD52m Massachusetts Bay\n",
      "NOAA/NCEP Global Forecast System (GFS) Atmospheric Model\n",
      "urn:ioos:station:NOAA.NOS.CO-OPS:8443970 station, Boston, MA\n",
      "NERACOOS Gulf of Maine Ocean Array: Realtime Buoy Observations: A01 Massachusetts Bay: A01 ACCELEROMETER Massachusetts Bay\n",
      "HYbrid Coordinate Ocean Model (HYCOM): Global\n",
      "Directional wave and sea surface temperature measurements collected in situ by Datawell Mark 3 directional buoy located near ASTORIA CANYON, OR from 2016/03/30 17:00:00 to 2017/01/10 00:14:16.\n",
      "Directional wave and sea surface temperature measurements collected in situ by Datawell Mark 3 directional buoy located near SCRIPPS NEARSHORE, CA from 2015/01/07 23:00:00 to 2017/01/10 00:01:10.\n",
      "NECOFS GOM3 (FVCOM) - Northeast US - Latest Forecast\n",
      "Directional wave and sea surface temperature measurements collected in situ by Datawell Mark 3 directional buoy located near GRAYS HARBOR, WA from 2016/03/16 22:00:00 to 2017/01/09 23:53:40.\n",
      "NECOFS Massachusetts (FVCOM) - Massachusetts Coastal - Latest Forecast\n",
      "Directional wave and sea surface temperature measurements collected in situ by Datawell Mark 3 directional buoy located near CLATSOP SPIT, OR from 2016/10/12 17:00:00 to 2017/01/10 00:02:13.\n",
      "Directional wave and sea surface temperature measurements collected in situ by Datawell Mark 3 directional buoy located near OCEAN STATION PAPA from 2015/01/01 01:00:00 to 2017/01/10 00:00:38.\n",
      "G1SST, 1km blended SST\n",
      "***************************** DAP ******************************\n",
      "http://oos.soest.hawaii.edu/thredds/dodsC/hioos/model/atm/ncep_global/NCEP_Global_Atmospheric_Model_best.ncd.html\n",
      "http://oos.soest.hawaii.edu/thredds/dodsC/pacioos/hycom/global.html\n",
      "http://thredds.aoos.org/thredds/dodsC/G1_SST_GLOBAL.nc.html\n",
      "http://www.neracoos.org/thredds/dodsC/UMO/DSG/SOS/A01/Accelerometer/HistoricRealtime/Agg.ncml.html\n",
      "http://www.neracoos.org/thredds/dodsC/UMO/DSG/SOS/A01/CTD1m/HistoricRealtime/Agg.ncml.html\n",
      "http://www.neracoos.org/thredds/dodsC/UMO/DSG/SOS/A01/CTD20m/HistoricRealtime/Agg.ncml.html\n",
      "http://www.neracoos.org/thredds/dodsC/UMO/DSG/SOS/A01/CTD52m/HistoricRealtime/Agg.ncml.html\n",
      "http://www.neracoos.org/thredds/dodsC/UMO/DSG/SOS/A01/Met/HistoricRealtime/Agg.ncml.html\n",
      "http://www.neracoos.org/thredds/dodsC/UMO/DSG/SOS/A01/OPTICS_S3m/HistoricRealtime/Agg.ncml.html\n",
      "http://www.neracoos.org/thredds/dodsC/UMO/DSG/SOS/A01/OPTODE51m/HistoricRealtime/Agg.ncml.html\n",
      "http://www.smast.umassd.edu:8080/thredds/dodsC/FVCOM/NECOFS/Forecasts/NECOFS_FVCOM_OCEAN_MASSBAY_FORECAST.nc.html\n",
      "http://www.smast.umassd.edu:8080/thredds/dodsC/FVCOM/NECOFS/Forecasts/NECOFS_GOM3_FORECAST.nc.html\n",
      "https://opendap.co-ops.nos.noaa.gov/ioos-dif-sos/images/tide_gauge.jpg.html\n",
      "\n",
      "\n",
      "URL: http://gamone.whoi.edu/csw\n",
      "Number of datasets available: 1\n",
      "COAWST Forecast System : USGS : US East Coast and Gulf of Mexico (Experimental)\n",
      "***************************** DAP ******************************\n",
      "http://geoport-dev.whoi.edu/thredds/dodsC/coawst_4/use/fmrc/coawst_4_use_best.ncd.html\n",
      "\n",
      "\n"
     ]
    }
   ],
   "source": [
    "from ioos_tools.ioos import service_urls, get_csw_records\n",
    "from owslib.csw import CatalogueServiceWeb\n",
    "\n",
    "\n",
    "dap_urls = []\n",
    "print(fmt(' Catalog information '))\n",
    "for endpoint in config['catalogs']:\n",
    "    print(\"URL: {}\".format(endpoint))\n",
    "\n",
    "    csw = CatalogueServiceWeb(endpoint, timeout=120)\n",
    "    csw = get_csw_records(csw, filter_list, esn='full')\n",
    "    OPeNDAP = service_urls(csw.records, identifier='OPeNDAP:OPeNDAP')\n",
    "    odp = service_urls(csw.records, identifier='urn:x-esri:specification:ServiceType:odp:url')\n",
    "    dap = OPeNDAP + odp\n",
    "    dap_urls.extend(dap)\n",
    "\n",
    "    print(\"Number of datasets available: {}\".format(len(csw.records.keys())))\n",
    "\n",
    "    for rec, item in csw.records.items():\n",
    "        print('{}'.format(item.title))\n",
    "    if dap:\n",
    "        print(fmt(' DAP '))\n",
    "        for url in dap:\n",
    "            print('{}.html'.format(url))\n",
    "    print('\\n')\n",
    "\n",
    "# Get only unique endpoints.\n",
    "dap_urls = list(set(dap_urls))"
   ]
  },
  {
   "cell_type": "markdown",
   "metadata": {},
   "source": [
    "We only want to find model data using the catalog.\n",
    "We'll rely `SOS` and `NDBC` services for the observations.\n",
    "This extra filtering step is performed by `is_station` below."
   ]
  },
  {
   "cell_type": "code",
   "execution_count": 6,
   "metadata": {
    "collapsed": false
   },
   "outputs": [
    {
     "name": "stdout",
     "output_type": "stream",
     "text": [
      "Could not access URL https://opendap.co-ops.nos.noaa.gov/ioos-dif-sos/images/tide_gauge.jpg. OSError('NetCDF: file not found',)\n",
      "************************* Filtered DAP *************************\n",
      "http://www.smast.umassd.edu:8080/thredds/dodsC/FVCOM/NECOFS/Forecasts/NECOFS_FVCOM_OCEAN_MASSBAY_FORECAST.nc.html\n",
      "http://www.smast.umassd.edu:8080/thredds/dodsC/FVCOM/NECOFS/Forecasts/NECOFS_GOM3_FORECAST.nc.html\n",
      "http://geoport-dev.whoi.edu/thredds/dodsC/coawst_4/use/fmrc/coawst_4_use_best.ncd.html\n",
      "http://thredds.aoos.org/thredds/dodsC/G1_SST_GLOBAL.nc.html\n",
      "http://oos.soest.hawaii.edu/thredds/dodsC/pacioos/hycom/global.html\n",
      "http://oos.soest.hawaii.edu/thredds/dodsC/hioos/model/atm/ncep_global/NCEP_Global_Atmospheric_Model_best.ncd.html\n"
     ]
    }
   ],
   "source": [
    "from ioos_tools.ioos import is_station\n",
    "\n",
    "# Filter out some station endpoints.\n",
    "non_stations = []\n",
    "for url in dap_urls:\n",
    "    try:\n",
    "        if not is_station(url):\n",
    "            non_stations.append(url)\n",
    "    except (RuntimeError, OSError) as e:\n",
    "        print(\"Could not access URL {}. {!r}\".format(url, e))\n",
    "\n",
    "dap_urls = non_stations\n",
    "\n",
    "print(fmt(' Filtered DAP '))\n",
    "for url in dap_urls:\n",
    "    print('{}.html'.format(url))"
   ]
  },
  {
   "cell_type": "markdown",
   "metadata": {},
   "source": [
    "### NdbcSos"
   ]
  },
  {
   "cell_type": "code",
   "execution_count": 7,
   "metadata": {
    "collapsed": false
   },
   "outputs": [
    {
     "name": "stdout",
     "output_type": "stream",
     "text": [
      "******************* NDBC Collector offerings *******************\n",
      "National Data Buoy Center SOS: 977 offerings\n"
     ]
    }
   ],
   "source": [
    "from pyoos.collectors.ndbc.ndbc_sos import NdbcSos\n",
    "\n",
    "collector_ndbc = NdbcSos()\n",
    "\n",
    "collector_ndbc.set_bbox(config['region']['bbox'])\n",
    "collector_ndbc.end_time = config['date']['stop']\n",
    "collector_ndbc.start_time = config['date']['start']\n",
    "collector_ndbc.variables = [config['sos_name']]\n",
    "\n",
    "ofrs = collector_ndbc.server.offerings\n",
    "title = collector_ndbc.server.identification.title\n",
    "print(fmt(' NDBC Collector offerings '))\n",
    "print('{}: {} offerings'.format(title, len(ofrs)))"
   ]
  },
  {
   "cell_type": "code",
   "execution_count": 8,
   "metadata": {
    "collapsed": false
   },
   "outputs": [
    {
     "data": {
      "text/html": [
       "<style>.info {\n",
       "    background-color:#fcf8e3;\n",
       "    border-color:#faebcc;\n",
       "    border-left:5px solid #8a6d3b;\n",
       "    padding:.5em;\n",
       "    color:#8a6d3b\n",
       "}\n",
       "\n",
       ".success {\n",
       "    background-color:#d9edf7;\n",
       "    border-color:#bce8f1;\n",
       "    border-left:5px solid #31708f;\n",
       "    padding:.5em;\n",
       "    color:#31708f\n",
       "}\n",
       "\n",
       ".error {\n",
       "    background-color:#f2dede;\n",
       "    border-color:#ebccd1;\n",
       "    border-left:5px solid #a94442;\n",
       "    padding:.5em;\n",
       "    color:#a94442\n",
       "}\n",
       "\n",
       ".warning {\n",
       "    background-color:#fcf8e3;\n",
       "    border-color:#faebcc;\n",
       "    border-left:5px solid #8a6d3b;\n",
       "    padding:.5em;\n",
       "    color:#8a6d3b\n",
       "}\n",
       "\n",
       ".text-shadow {\n",
       "    text-shadow:0 1px 0 #ccc,0 2px 0 #c9c9c9,0 3px 0 #bbb,0 4px 0 #b9b9b9,0 5px 0 #aaa,0 6px 1px rgba(0,0,0,.1)\n",
       "}\n",
       "\n",
       ".datagrid table {\n",
       "    border-collapse:collapse;\n",
       "    text-align:left;\n",
       "    width:65%\n",
       "}\n",
       "\n",
       ".datagrid td {\n",
       "    border-collapse:collapse;\n",
       "    text-align:right;\n",
       "}\n",
       "\n",
       ".datagrid {\n",
       "    font:normal 12px/150% Arial,Helvetica,sans-serif;\n",
       "    background:#fff;\n",
       "    overflow:hidden;\n",
       "    border:1px solid #069;\n",
       "    -webkit-border-radius:3px;\n",
       "    -moz-border-radius:3px;\n",
       "    border-radius:3px\n",
       "}\n",
       "\n",
       ".datagrid table td,.datagrid table th {\n",
       "    padding:3px 10px\n",
       "}\n",
       "\n",
       ".datagrid table thead th {\n",
       "    background:-webkit-gradient(linear,left top,left bottom,color-stop(0.05,#069),color-stop(1,#00557F));\n",
       "    background:-moz-linear-gradient(center top,#069 5%,#00557F 100%);\n",
       "    filter:progid:DXImageTransform.Microsoft.gradient(startColorstr='#006699',endColorstr='#00557F');\n",
       "    background-color:#069;\n",
       "    color:#FFF;\n",
       "    font-size:15px;\n",
       "    font-weight:700;\n",
       "    border-left:1px solid #0070A8\n",
       "}\n",
       "\n",
       ".datagrid table thead th:first-child {\n",
       "    border:none\n",
       "}\n",
       "\n",
       ".datagrid table tbody td {\n",
       "    color:#00496B;\n",
       "    border-left:1px solid #E1EEF4;\n",
       "    font-size:12px;\n",
       "    font-weight:400\n",
       "}\n",
       "\n",
       ".datagrid table tbody .alt td {\n",
       "    background:#E1EEF4;\n",
       "    color:#00496B\n",
       "}\n",
       "\n",
       ".datagrid table tbody td:first-child {\n",
       "    border-left:none\n",
       "}\n",
       "\n",
       ".datagrid table tbody tr:last-child td {\n",
       "    border-bottom:none\n",
       "}\n",
       "\n",
       ".datagrid table tfoot td div {\n",
       "    border-top:1px solid #069;\n",
       "    background:#E1EEF4\n",
       "}\n",
       "\n",
       ".datagrid table tfoot td {\n",
       "    padding:0;\n",
       "    font-size:12px\n",
       "}\n",
       "\n",
       ".datagrid table tfoot td div {\n",
       "    padding:2px\n",
       "}\n",
       "\n",
       ".datagrid table tfoot td ul {\n",
       "    margin:0;\n",
       "    padding:0;\n",
       "    list-style:none;\n",
       "    text-align:right\n",
       "}\n",
       "\n",
       ".datagrid table tfoot li {\n",
       "    display:inline\n",
       "}\n",
       "\n",
       ".datagrid table tfoot li a {\n",
       "    text-decoration:none;\n",
       "    display:inline-block;\n",
       "    padding:2px 8px;\n",
       "    margin:1px;\n",
       "    color:#FFF;\n",
       "    border:1px solid #069;\n",
       "    -webkit-border-radius:3px;\n",
       "    -moz-border-radius:3px;\n",
       "    border-radius:3px;\n",
       "    background:-webkit-gradient(linear,left top,left bottom,color-stop(0.05,#069),color-stop(1,#00557F));\n",
       "    background:-moz-linear-gradient(center top,#069 5%,#00557F 100%);\n",
       "    filter:progid:DXImageTransform.Microsoft.gradient(startColorstr='#006699',endColorstr='#00557F');\n",
       "    background-color:#069\n",
       "}\n",
       "\n",
       ".datagrid table tfoot ul.active,.datagrid table tfoot ul a:hover {\n",
       "    text-decoration:none;\n",
       "    border-color:#069;\n",
       "    color:#FFF;\n",
       "    background:none;\n",
       "    background-color:#00557F\n",
       "}\n",
       "\n",
       "div.dhtmlx_window_active,div.dhx_modal_cover_dv {\n",
       "    position:fixed!important\n",
       "}\n",
       "</style><div class=\"datagrid\"><table border=\"1\" class=\"dataframe\">\n",
       "  <thead>\n",
       "    <tr style=\"text-align: right;\">\n",
       "      <th></th>\n",
       "      <th>depth</th>\n",
       "      <th>lat</th>\n",
       "      <th>lon</th>\n",
       "      <th>sensor</th>\n",
       "      <th>station_name</th>\n",
       "    </tr>\n",
       "    <tr>\n",
       "      <th>station_code</th>\n",
       "      <th></th>\n",
       "      <th></th>\n",
       "      <th></th>\n",
       "      <th></th>\n",
       "      <th></th>\n",
       "    </tr>\n",
       "  </thead>\n",
       "  <tbody>\n",
       "    <tr>\n",
       "      <th>44013</th>\n",
       "      <td>0.6</td>\n",
       "      <td>42.35</td>\n",
       "      <td>-70.69</td>\n",
       "      <td>urn:ioos:sensor:wmo:44013::watertemp1</td>\n",
       "      <td>BOSTON 16 NM East of Boston, MA</td>\n",
       "    </tr>\n",
       "    <tr>\n",
       "      <th>44029</th>\n",
       "      <td>1.0</td>\n",
       "      <td>42.52</td>\n",
       "      <td>-70.57</td>\n",
       "      <td>urn:ioos:sensor:wmo:44029::ct1</td>\n",
       "      <td>Buoy A0102 - Mass. Bay/Stellwagen</td>\n",
       "    </tr>\n",
       "  </tbody>\n",
       "</table></div>"
      ],
      "text/plain": [
       "<IPython.core.display.HTML object>"
      ]
     },
     "execution_count": 8,
     "metadata": {},
     "output_type": "execute_result"
    }
   ],
   "source": [
    "import pandas as pd\n",
    "from ioos_tools.ioos import collector2table, to_html\n",
    "\n",
    "ndbc = collector2table(collector=collector_ndbc,\n",
    "                       config=config,\n",
    "                       col='sea_water_temperature (C)')\n",
    "\n",
    "if ndbc:\n",
    "    data = dict(\n",
    "        station_name=[s._metadata.get('station_name') for s in ndbc],\n",
    "        station_code=[s._metadata.get('station_code') for s in ndbc],\n",
    "        sensor=[s._metadata.get('sensor') for s in ndbc],\n",
    "        lon=[s._metadata.get('lon') for s in ndbc],\n",
    "        lat=[s._metadata.get('lat') for s in ndbc],\n",
    "        depth=[s._metadata.get('depth') for s in ndbc],\n",
    "    )\n",
    "\n",
    "table = pd.DataFrame(data).set_index('station_code')\n",
    "to_html(table)"
   ]
  },
  {
   "cell_type": "markdown",
   "metadata": {},
   "source": [
    "### CoopsSoS"
   ]
  },
  {
   "cell_type": "code",
   "execution_count": 9,
   "metadata": {
    "collapsed": false
   },
   "outputs": [
    {
     "name": "stdout",
     "output_type": "stream",
     "text": [
      "********************* Collector offerings **********************\n",
      "NOAA.NOS.CO-OPS SOS: 1113 offerings\n"
     ]
    }
   ],
   "source": [
    "from pyoos.collectors.coops.coops_sos import CoopsSos\n",
    "\n",
    "collector_coops = CoopsSos()\n",
    "\n",
    "collector_coops.set_bbox(config['region']['bbox'])\n",
    "collector_coops.end_time = config['date']['stop']\n",
    "collector_coops.start_time = config['date']['start']\n",
    "collector_coops.variables = [config['sos_name']]\n",
    "\n",
    "ofrs = collector_coops.server.offerings\n",
    "title = collector_coops.server.identification.title\n",
    "print(fmt(' Collector offerings '))\n",
    "print('{}: {} offerings'.format(title, len(ofrs)))"
   ]
  },
  {
   "cell_type": "code",
   "execution_count": 10,
   "metadata": {
    "collapsed": false,
    "scrolled": true
   },
   "outputs": [
    {
     "data": {
      "text/html": [
       "<style>.info {\n",
       "    background-color:#fcf8e3;\n",
       "    border-color:#faebcc;\n",
       "    border-left:5px solid #8a6d3b;\n",
       "    padding:.5em;\n",
       "    color:#8a6d3b\n",
       "}\n",
       "\n",
       ".success {\n",
       "    background-color:#d9edf7;\n",
       "    border-color:#bce8f1;\n",
       "    border-left:5px solid #31708f;\n",
       "    padding:.5em;\n",
       "    color:#31708f\n",
       "}\n",
       "\n",
       ".error {\n",
       "    background-color:#f2dede;\n",
       "    border-color:#ebccd1;\n",
       "    border-left:5px solid #a94442;\n",
       "    padding:.5em;\n",
       "    color:#a94442\n",
       "}\n",
       "\n",
       ".warning {\n",
       "    background-color:#fcf8e3;\n",
       "    border-color:#faebcc;\n",
       "    border-left:5px solid #8a6d3b;\n",
       "    padding:.5em;\n",
       "    color:#8a6d3b\n",
       "}\n",
       "\n",
       ".text-shadow {\n",
       "    text-shadow:0 1px 0 #ccc,0 2px 0 #c9c9c9,0 3px 0 #bbb,0 4px 0 #b9b9b9,0 5px 0 #aaa,0 6px 1px rgba(0,0,0,.1)\n",
       "}\n",
       "\n",
       ".datagrid table {\n",
       "    border-collapse:collapse;\n",
       "    text-align:left;\n",
       "    width:65%\n",
       "}\n",
       "\n",
       ".datagrid td {\n",
       "    border-collapse:collapse;\n",
       "    text-align:right;\n",
       "}\n",
       "\n",
       ".datagrid {\n",
       "    font:normal 12px/150% Arial,Helvetica,sans-serif;\n",
       "    background:#fff;\n",
       "    overflow:hidden;\n",
       "    border:1px solid #069;\n",
       "    -webkit-border-radius:3px;\n",
       "    -moz-border-radius:3px;\n",
       "    border-radius:3px\n",
       "}\n",
       "\n",
       ".datagrid table td,.datagrid table th {\n",
       "    padding:3px 10px\n",
       "}\n",
       "\n",
       ".datagrid table thead th {\n",
       "    background:-webkit-gradient(linear,left top,left bottom,color-stop(0.05,#069),color-stop(1,#00557F));\n",
       "    background:-moz-linear-gradient(center top,#069 5%,#00557F 100%);\n",
       "    filter:progid:DXImageTransform.Microsoft.gradient(startColorstr='#006699',endColorstr='#00557F');\n",
       "    background-color:#069;\n",
       "    color:#FFF;\n",
       "    font-size:15px;\n",
       "    font-weight:700;\n",
       "    border-left:1px solid #0070A8\n",
       "}\n",
       "\n",
       ".datagrid table thead th:first-child {\n",
       "    border:none\n",
       "}\n",
       "\n",
       ".datagrid table tbody td {\n",
       "    color:#00496B;\n",
       "    border-left:1px solid #E1EEF4;\n",
       "    font-size:12px;\n",
       "    font-weight:400\n",
       "}\n",
       "\n",
       ".datagrid table tbody .alt td {\n",
       "    background:#E1EEF4;\n",
       "    color:#00496B\n",
       "}\n",
       "\n",
       ".datagrid table tbody td:first-child {\n",
       "    border-left:none\n",
       "}\n",
       "\n",
       ".datagrid table tbody tr:last-child td {\n",
       "    border-bottom:none\n",
       "}\n",
       "\n",
       ".datagrid table tfoot td div {\n",
       "    border-top:1px solid #069;\n",
       "    background:#E1EEF4\n",
       "}\n",
       "\n",
       ".datagrid table tfoot td {\n",
       "    padding:0;\n",
       "    font-size:12px\n",
       "}\n",
       "\n",
       ".datagrid table tfoot td div {\n",
       "    padding:2px\n",
       "}\n",
       "\n",
       ".datagrid table tfoot td ul {\n",
       "    margin:0;\n",
       "    padding:0;\n",
       "    list-style:none;\n",
       "    text-align:right\n",
       "}\n",
       "\n",
       ".datagrid table tfoot li {\n",
       "    display:inline\n",
       "}\n",
       "\n",
       ".datagrid table tfoot li a {\n",
       "    text-decoration:none;\n",
       "    display:inline-block;\n",
       "    padding:2px 8px;\n",
       "    margin:1px;\n",
       "    color:#FFF;\n",
       "    border:1px solid #069;\n",
       "    -webkit-border-radius:3px;\n",
       "    -moz-border-radius:3px;\n",
       "    border-radius:3px;\n",
       "    background:-webkit-gradient(linear,left top,left bottom,color-stop(0.05,#069),color-stop(1,#00557F));\n",
       "    background:-moz-linear-gradient(center top,#069 5%,#00557F 100%);\n",
       "    filter:progid:DXImageTransform.Microsoft.gradient(startColorstr='#006699',endColorstr='#00557F');\n",
       "    background-color:#069\n",
       "}\n",
       "\n",
       ".datagrid table tfoot ul.active,.datagrid table tfoot ul a:hover {\n",
       "    text-decoration:none;\n",
       "    border-color:#069;\n",
       "    color:#FFF;\n",
       "    background:none;\n",
       "    background-color:#00557F\n",
       "}\n",
       "\n",
       "div.dhtmlx_window_active,div.dhx_modal_cover_dv {\n",
       "    position:fixed!important\n",
       "}\n",
       "</style><div class=\"datagrid\"><table border=\"1\" class=\"dataframe\">\n",
       "  <thead>\n",
       "    <tr style=\"text-align: right;\">\n",
       "      <th></th>\n",
       "      <th>depth</th>\n",
       "      <th>lat</th>\n",
       "      <th>lon</th>\n",
       "      <th>sensor</th>\n",
       "      <th>station_name</th>\n",
       "    </tr>\n",
       "    <tr>\n",
       "      <th>station_code</th>\n",
       "      <th></th>\n",
       "      <th></th>\n",
       "      <th></th>\n",
       "      <th></th>\n",
       "      <th></th>\n",
       "    </tr>\n",
       "  </thead>\n",
       "  <tbody>\n",
       "    <tr>\n",
       "      <th>8443970</th>\n",
       "      <td>None</td>\n",
       "      <td>42.3548</td>\n",
       "      <td>-71.0534</td>\n",
       "      <td>urn:ioos:sensor:NOAA.NOS.CO-OPS:8443970:E1</td>\n",
       "      <td>Boston, MA</td>\n",
       "    </tr>\n",
       "  </tbody>\n",
       "</table></div>"
      ],
      "text/plain": [
       "<IPython.core.display.HTML object>"
      ]
     },
     "execution_count": 10,
     "metadata": {},
     "output_type": "execute_result"
    }
   ],
   "source": [
    "coops = collector2table(collector=collector_coops,\n",
    "                        config=config,\n",
    "                        col='sea_water_temperature (C)')\n",
    "\n",
    "if coops:\n",
    "    data = dict(\n",
    "        station_name=[s._metadata.get('station_name') for s in coops],\n",
    "        station_code=[s._metadata.get('station_code') for s in coops],\n",
    "        sensor=[s._metadata.get('sensor') for s in coops],\n",
    "        lon=[s._metadata.get('lon') for s in coops],\n",
    "        lat=[s._metadata.get('lat') for s in coops],\n",
    "        depth=[s._metadata.get('depth') for s in coops],\n",
    "    )\n",
    "\n",
    "table = pd.DataFrame(data).set_index('station_code')\n",
    "to_html(table)"
   ]
  },
  {
   "cell_type": "markdown",
   "metadata": {},
   "source": [
    "### Join CoopsSoS and NdbcSos in uniform 1-hour time base series for model/data comparison"
   ]
  },
  {
   "cell_type": "code",
   "execution_count": 11,
   "metadata": {
    "collapsed": false,
    "scrolled": true
   },
   "outputs": [],
   "source": [
    "data = ndbc + coops\n",
    "\n",
    "index = pd.date_range(start=config['date']['start'].replace(tzinfo=None),\n",
    "                      end=config['date']['stop'].replace(tzinfo=None),\n",
    "                      freq='1H')\n",
    "\n",
    "# Preserve metadata with `reindex`.\n",
    "observations = []\n",
    "for series in data:\n",
    "    _metadata = series._metadata\n",
    "    obs = series.reindex(index=index, limit=1, method='nearest')\n",
    "    obs._metadata = _metadata\n",
    "    observations.append(obs)"
   ]
  },
  {
   "cell_type": "markdown",
   "metadata": {},
   "source": [
    "### Save simpler station code/name file"
   ]
  },
  {
   "cell_type": "code",
   "execution_count": 12,
   "metadata": {
    "collapsed": false,
    "scrolled": false
   },
   "outputs": [],
   "source": [
    "import iris\n",
    "from ioos_tools.tardis import series2cube\n",
    "\n",
    "attr = dict(\n",
    "    featureType='timeSeries',\n",
    "    Conventions='CF-1.6',\n",
    "    standard_name_vocabulary='CF-1.6',\n",
    "    cdm_data_type=\"Station\",\n",
    "    comment=\"Data from http://opendap.co-ops.nos.noaa.gov\"\n",
    ")\n",
    "\n",
    "\n",
    "cubes = iris.cube.CubeList(\n",
    "    [series2cube(obs, attr=attr) for obs in observations]\n",
    ")\n",
    "\n",
    "outfile = os.path.join(save_dir, 'OBS_DATA.nc')\n",
    "iris.save(cubes, outfile)"
   ]
  },
  {
   "cell_type": "markdown",
   "metadata": {},
   "source": [
    "### Loop discovered models and save the nearest time-series"
   ]
  },
  {
   "cell_type": "code",
   "execution_count": 13,
   "metadata": {
    "collapsed": false
   },
   "outputs": [
    {
     "name": "stdout",
     "output_type": "stream",
     "text": [
      "**************************** Models ****************************\n",
      "\n",
      "[Reading url 1/6]: http://www.smast.umassd.edu:8080/thredds/dodsC/FVCOM/NECOFS/Forecasts/NECOFS_FVCOM_OCEAN_MASSBAY_FORECAST.nc\n",
      "\n",
      "[Reading url 2/6]: http://www.smast.umassd.edu:8080/thredds/dodsC/FVCOM/NECOFS/Forecasts/NECOFS_GOM3_FORECAST.nc\n",
      "\n",
      "[Reading url 3/6]: http://geoport-dev.whoi.edu/thredds/dodsC/coawst_4/use/fmrc/coawst_4_use_best.ncd\n",
      "\n",
      "[Reading url 4/6]: http://thredds.aoos.org/thredds/dodsC/G1_SST_GLOBAL.nc\n",
      "\n",
      "[Reading url 5/6]: http://oos.soest.hawaii.edu/thredds/dodsC/pacioos/hycom/global\n",
      "\n",
      "[Reading url 6/6]: http://oos.soest.hawaii.edu/thredds/dodsC/hioos/model/atm/ncep_global/NCEP_Global_Atmospheric_Model_best.ncd\n",
      "Cannot get cube for: http://oos.soest.hawaii.edu/thredds/dodsC/hioos/model/atm/ncep_global/NCEP_Global_Atmospheric_Model_best.ncd\n",
      "Cannot find ['sea_water_temperature', 'sea_surface_temperature', 'sea_water_potential_temperature', 'equivalent_potential_temperature', 'sea_water_conservative_temperature', 'pseudo_equivalent_potential_temperature'] in http://oos.soest.hawaii.edu/thredds/dodsC/hioos/model/atm/ncep_global/NCEP_Global_Atmospheric_Model_best.ncd.\n"
     ]
    }
   ],
   "source": [
    "from iris.exceptions import (CoordinateNotFoundError, ConstraintMismatchError,\n",
    "                             MergeError)\n",
    "from ioos_tools.ioos import get_model_name\n",
    "from ioos_tools.tardis import quick_load_cubes, proc_cube, is_model, get_surface\n",
    "\n",
    "print(fmt(' Models '))\n",
    "cubes = dict()\n",
    "for k, url in enumerate(dap_urls):\n",
    "    print('\\n[Reading url {}/{}]: {}'.format(k+1, len(dap_urls), url))\n",
    "    try:\n",
    "        cube = quick_load_cubes(url, config['cf_names'],\n",
    "                                callback=None, strict=True)\n",
    "        if is_model(cube):\n",
    "            cube = proc_cube(cube,\n",
    "                             bbox=config['region']['bbox'],\n",
    "                             time=(config['date']['start'],\n",
    "                                   config['date']['stop']),\n",
    "                             units=config['units'])\n",
    "        else:\n",
    "            print(\"[Not model data]: {}\".format(url))\n",
    "            continue\n",
    "        cube = get_surface(cube)\n",
    "        mod_name = get_model_name(url)\n",
    "        cubes.update({mod_name: cube})\n",
    "    except (RuntimeError, ValueError,\n",
    "            ConstraintMismatchError, CoordinateNotFoundError,\n",
    "            IndexError) as e:\n",
    "        print('Cannot get cube for: {}\\n{}'.format(url, e))"
   ]
  },
  {
   "cell_type": "code",
   "execution_count": 14,
   "metadata": {
    "collapsed": false
   },
   "outputs": [
    {
     "name": "stdout",
     "output_type": "stream",
     "text": [
      " Downloading to file /home/filipe/IOOS/notebooks_demos/notebooks/latest/G1_SST_GLOBAL.nc \n",
      "[Water  ] BOSTON 16 NM East of Boston, MA\n",
      "[Water  ] Buoy A0102 - Mass. Bay/Stellwagen\n",
      "[Water  ] Boston, MA\n",
      "Finished processing [G1_SST_GLOBAL]\n",
      " Downloading to file /home/filipe/IOOS/notebooks_demos/notebooks/latest/pacioos_hycom-global.nc \n",
      "[Water  ] BOSTON 16 NM East of Boston, MA\n",
      "[Water  ] Buoy A0102 - Mass. Bay/Stellwagen\n",
      "[Land   ] Boston, MA\n",
      "Finished processing [pacioos_hycom-global]\n",
      " Downloading to file /home/filipe/IOOS/notebooks_demos/notebooks/latest/FVCOM_Forecasts-NECOFS_GOM3_FORECAST.nc \n",
      "[Water  ] BOSTON 16 NM East of Boston, MA\n",
      "[Water  ] Buoy A0102 - Mass. Bay/Stellwagen\n",
      "[Water  ] Boston, MA\n",
      "Finished processing [FVCOM_Forecasts-NECOFS_GOM3_FORECAST]\n",
      " Downloading to file /home/filipe/IOOS/notebooks_demos/notebooks/latest/Forecasts-NECOFS_FVCOM_OCEAN_MASSBAY_FORECAST.nc \n",
      "[Water  ] BOSTON 16 NM East of Boston, MA\n",
      "[Water  ] Buoy A0102 - Mass. Bay/Stellwagen\n",
      "[Water  ] Boston, MA\n",
      "Finished processing [Forecasts-NECOFS_FVCOM_OCEAN_MASSBAY_FORECAST]\n",
      " Downloading to file /home/filipe/IOOS/notebooks_demos/notebooks/latest/fmrc-coawst_4_use_best.nc \n",
      "[Water  ] BOSTON 16 NM East of Boston, MA\n",
      "[Water  ] Buoy A0102 - Mass. Bay/Stellwagen\n",
      "[Water  ] Boston, MA\n",
      "Finished processing [fmrc-coawst_4_use_best]\n"
     ]
    }
   ],
   "source": [
    "import iris\n",
    "from iris.pandas import as_series\n",
    "from ioos_tools.tardis import (make_tree, get_nearest_water,\n",
    "                               add_station, ensure_timeseries, remove_ssh)\n",
    "\n",
    "for mod_name, cube in cubes.items():\n",
    "    fname = '{}.nc'.format(mod_name)\n",
    "    fname = os.path.join(save_dir, fname)\n",
    "    print(fmt(' Downloading to file {} '.format(fname)))\n",
    "    try:\n",
    "        tree, lon, lat = make_tree(cube)\n",
    "    except CoordinateNotFoundError as e:\n",
    "        print('Cannot make KDTree for: {}'.format(mod_name))\n",
    "        continue\n",
    "    # Get model series at observed locations.\n",
    "    raw_series = dict()\n",
    "    for obs in observations:\n",
    "        obs = obs._metadata\n",
    "        station = obs['station_code']\n",
    "        try:\n",
    "            kw = dict(k=10, max_dist=0.08, min_var=0.01)\n",
    "            args = cube, tree, obs['lon'], obs['lat']\n",
    "            try:\n",
    "                series, dist, idx = get_nearest_water(*args, **kw)\n",
    "            except RuntimeError as e:\n",
    "                print('Cannot download {!r}.\\n{}'.format(cube, e))\n",
    "                series = None\n",
    "        except ValueError as e:\n",
    "            status = \"No Data\"\n",
    "            print('[{}] {}'.format(status, obs['station_name']))\n",
    "            continue\n",
    "        if not series:\n",
    "            status = \"Land   \"\n",
    "        else:\n",
    "            raw_series.update({station: series})\n",
    "            series = as_series(series)\n",
    "            status = \"Water  \"\n",
    "        print('[{}] {}'.format(status, obs['station_name']))\n",
    "    if raw_series:  # Save cube.\n",
    "        for station, cube in raw_series.items():\n",
    "            cube = add_station(cube, station)\n",
    "            cube = remove_ssh(cube)\n",
    "        try:\n",
    "            cube = iris.cube.CubeList(raw_series.values()).merge_cube()\n",
    "        except MergeError as e:\n",
    "            print(e)\n",
    "        ensure_timeseries(cube)\n",
    "        iris.save(cube, fname)\n",
    "        del cube\n",
    "    print('Finished processing [{}]'.format(mod_name))"
   ]
  },
  {
   "cell_type": "markdown",
   "metadata": {},
   "source": [
    "### Load configuration"
   ]
  },
  {
   "cell_type": "code",
   "execution_count": 15,
   "metadata": {
    "collapsed": true
   },
   "outputs": [],
   "source": [
    "from ioos_tools.ioos import parse_config\n",
    "\n",
    "config = parse_config('config.yaml')\n",
    "\n",
    "save_dir = os.path.join(os.path.abspath(config['run_name']))"
   ]
  },
  {
   "cell_type": "markdown",
   "metadata": {},
   "source": [
    "### Skill 1: Model Bias (or Mean Bias)\n",
    "\n",
    "The bias skill compares the model mean temperature against the observations.\n",
    "It is possible to introduce a Mean Bias in the model due to a mismatch of the\n",
    "boundary forcing and the model interior.\n",
    "\n",
    "$$ \\text{MB} = \\mathbf{\\overline{m}} - \\mathbf{\\overline{o}}$$"
   ]
  },
  {
   "cell_type": "code",
   "execution_count": 16,
   "metadata": {
    "collapsed": true
   },
   "outputs": [],
   "source": [
    "from ioos_tools.ioos import stations_keys\n",
    "\n",
    "\n",
    "def rename_cols(df, config):\n",
    "    cols = stations_keys(config, key='station_name')\n",
    "    return df.rename(columns=cols)"
   ]
  },
  {
   "cell_type": "code",
   "execution_count": 17,
   "metadata": {
    "collapsed": true
   },
   "outputs": [],
   "source": [
    "from ioos_tools.ioos import to_html, save_html, load_ncs\n",
    "from ioos_tools.skill_score import mean_bias, apply_skill\n",
    "\n",
    "dfs = load_ncs(config)\n",
    "\n",
    "df = apply_skill(dfs, mean_bias, remove_mean=False, filter_tides=False)\n",
    "skill_score = dict(mean_bias=df.to_dict())\n",
    "\n",
    "# Filter out stations with no valid comparison.\n",
    "df.dropna(how='all', axis=1, inplace=True)\n",
    "df = df.applymap('{:.2f}'.format).replace('nan', '--')\n",
    "\n",
    "# Pretty HTML table.\n",
    "if not df.empty:\n",
    "    df = rename_cols(df, config)\n",
    "    html = to_html(df.T)\n",
    "    fname = os.path.join(save_dir, 'mean_bias.html')\n",
    "    save_html(fname, html)\n",
    "    html"
   ]
  },
  {
   "cell_type": "markdown",
   "metadata": {},
   "source": [
    "### Skill 2: Central Root Mean Squared Error\n",
    "\n",
    "Root Mean Squared Error of the deviations from the mean.\n",
    "\n",
    "$$ \\text{CRMS} = \\sqrt{\\left(\\mathbf{m'} - \\mathbf{o'}\\right)^2}$$\n",
    "\n",
    "where: $\\mathbf{m'} = \\mathbf{m} - \\mathbf{\\overline{m}}$ and $\\mathbf{o'} = \\mathbf{o} - \\mathbf{\\overline{o}}$"
   ]
  },
  {
   "cell_type": "code",
   "execution_count": 18,
   "metadata": {
    "collapsed": true
   },
   "outputs": [],
   "source": [
    "from ioos_tools.skill_score import rmse\n",
    "\n",
    "dfs = load_ncs(config)\n",
    "\n",
    "df = apply_skill(dfs, rmse, remove_mean=True, filter_tides=False)\n",
    "skill_score['rmse'] = df.to_dict()\n",
    "\n",
    "# Filter out stations with no valid comparison.\n",
    "df.dropna(how='all', axis=1, inplace=True)\n",
    "df = df.applymap('{:.2f}'.format).replace('nan', '--')\n",
    "\n",
    "# Pretty HTML table.\n",
    "if not df.empty:\n",
    "    df = rename_cols(df, config)\n",
    "    html = to_html(df.T)\n",
    "    fname = os.path.join(save_dir, 'rmse.html')\n",
    "    save_html(fname, html)\n",
    "    html"
   ]
  },
  {
   "cell_type": "markdown",
   "metadata": {},
   "source": [
    "### Skill 3: R$^2$\n",
    "https://en.wikipedia.org/wiki/Coefficient_of_determination"
   ]
  },
  {
   "cell_type": "code",
   "execution_count": 19,
   "metadata": {
    "collapsed": true
   },
   "outputs": [],
   "source": [
    "from ioos_tools.skill_score import r2\n",
    "\n",
    "dfs = load_ncs(config)\n",
    "\n",
    "df = apply_skill(dfs, r2, remove_mean=True, filter_tides=False)\n",
    "skill_score['r2'] = df.to_dict()\n",
    "\n",
    "# Filter out stations with no valid comparison.\n",
    "df.dropna(how='all', axis=1, inplace=True)\n",
    "df = df.applymap('{:.2f}'.format).replace('nan', '--')\n",
    "\n",
    "# Pretty HTML table.\n",
    "if not df.empty:\n",
    "    df = rename_cols(df, config)\n",
    "    html = to_html(df.T)\n",
    "    fname = os.path.join(save_dir, 'r2.html')\n",
    "    save_html(fname, html)\n",
    "    html"
   ]
  },
  {
   "cell_type": "code",
   "execution_count": 20,
   "metadata": {
    "collapsed": true
   },
   "outputs": [],
   "source": [
    "import json\n",
    "\n",
    "fname = os.path.join(save_dir, 'skill_score.json')\n",
    "\n",
    "# Stringfy keys for json.\n",
    "for key in skill_score.keys():\n",
    "    skill_score[key] = {str(k): v for k, v in skill_score[key].items()}\n",
    "\n",
    "with open(fname, 'w') as f:\n",
    "    f.write(json.dumps(skill_score))"
   ]
  },
  {
   "cell_type": "markdown",
   "metadata": {},
   "source": [
    "### Normalized Taylor diagrams\n",
    "\n",
    "The radius is model standard deviation error divided  by observations deviation,\n",
    "azimuth is arc-cosine of cross correlation (R), and distance to point (1, 0) on the\n",
    "abscissa is Centered RMS."
   ]
  },
  {
   "cell_type": "code",
   "execution_count": 21,
   "metadata": {
    "collapsed": true
   },
   "outputs": [],
   "source": [
    "%matplotlib inline\n",
    "import matplotlib.pyplot as plt\n",
    "from ioos_tools.taylor_diagram import TaylorDiagram\n",
    "\n",
    "\n",
    "def make_taylor(samples):\n",
    "    fig = plt.figure(figsize=(9, 9))\n",
    "    dia = TaylorDiagram(samples['std']['OBS_DATA'],\n",
    "                        fig=fig,\n",
    "                        label=\"Observation\")\n",
    "    # Add samples to Taylor diagram.\n",
    "    samples.drop('OBS_DATA', inplace=True)\n",
    "    for model, row in samples.iterrows():\n",
    "        dia.add_sample(row['std'], row['corr'], marker='s', ls='',\n",
    "                       label=model)\n",
    "    # Add RMS contours, and label them.\n",
    "    contours = dia.add_contours(colors='0.5')\n",
    "    plt.clabel(contours, inline=1, fontsize=10)\n",
    "    # Add a figure legend.\n",
    "    kw = dict(prop=dict(size='small'), loc='upper right')\n",
    "    fig.legend(dia.samplePoints,\n",
    "               [p.get_label() for p in dia.samplePoints],\n",
    "               numpoints=1, **kw)\n",
    "    return fig"
   ]
  },
  {
   "cell_type": "markdown",
   "metadata": {},
   "source": [
    "### Load skill_score"
   ]
  },
  {
   "cell_type": "code",
   "execution_count": 22,
   "metadata": {
    "collapsed": true
   },
   "outputs": [],
   "source": [
    "import json\n",
    "\n",
    "fname = os.path.join(config['run_name'], 'skill_score.json')\n",
    "with open(fname, 'r') as f:\n",
    "    skill_score = json.loads(f.read())"
   ]
  },
  {
   "cell_type": "code",
   "execution_count": 23,
   "metadata": {
    "collapsed": true
   },
   "outputs": [],
   "source": [
    "import pandas as pd\n",
    "\n",
    "mean_bias = pd.DataFrame.from_dict(skill_score['mean_bias'])\n",
    "mean_bias = mean_bias.applymap('{:.2f}'.format).replace('nan', '--')\n",
    "\n",
    "skill_score = pd.DataFrame.from_dict(skill_score['rmse'])\n",
    "skill_score = skill_score.applymap('{:.2f}'.format).replace('nan', '--')"
   ]
  },
  {
   "cell_type": "code",
   "execution_count": 24,
   "metadata": {
    "collapsed": true
   },
   "outputs": [],
   "source": [
    "from ioos_tools.ioos import make_map\n",
    "\n",
    "bbox = config['region']['bbox']\n",
    "units = config['units']\n",
    "run_name = config['run_name']\n",
    "\n",
    "kw = dict(zoom_start=11, line=True, states=False,\n",
    "          secoora_stations=False, layers=False)\n",
    "mapa = make_map(bbox, **kw)"
   ]
  },
  {
   "cell_type": "markdown",
   "metadata": {},
   "source": [
    "### Clusters"
   ]
  },
  {
   "cell_type": "code",
   "execution_count": 25,
   "metadata": {
    "collapsed": true
   },
   "outputs": [],
   "source": [
    "all_obs = stations_keys(config)"
   ]
  },
  {
   "cell_type": "code",
   "execution_count": 26,
   "metadata": {
    "collapsed": false
   },
   "outputs": [
    {
     "data": {
      "text/plain": [
       "<folium.plugins.marker_cluster.MarkerCluster at 0x7f05e4eb7358>"
      ]
     },
     "execution_count": 26,
     "metadata": {},
     "output_type": "execute_result"
    }
   ],
   "source": [
    "from glob import glob\n",
    "from operator import itemgetter\n",
    "\n",
    "import iris\n",
    "import folium\n",
    "from folium.plugins import MarkerCluster\n",
    "\n",
    "iris.FUTURE.netcdf_promote = True\n",
    "\n",
    "big_list = []\n",
    "for fname in glob(os.path.join(save_dir, \"*.nc\")):\n",
    "    if 'OBS_DATA' in fname:\n",
    "        continue\n",
    "    cube = iris.load_cube(fname)\n",
    "    model = fname.split('-')[-1].split('.')[0]\n",
    "    lons = cube.coord(axis='X').points\n",
    "    lats = cube.coord(axis='Y').points\n",
    "    stations = cube.coord('station_code').points\n",
    "    models = [model]*lons.size\n",
    "    lista = zip(models, lons.tolist(), lats.tolist(), stations.tolist())\n",
    "    big_list.extend(lista)\n",
    "\n",
    "big_list.sort(key=itemgetter(3))\n",
    "df = pd.DataFrame(big_list, columns=['name', 'lon', 'lat', 'station'])\n",
    "df.set_index('station', drop=True, inplace=True)\n",
    "groups = df.groupby(df.index)\n",
    "\n",
    "\n",
    "locations, popups = [], []\n",
    "for station, info in groups:\n",
    "    sta_name = all_obs[station]\n",
    "    for lat, lon, name in zip(info.lat, info.lon, info.name):\n",
    "        locations.append([lat, lon])\n",
    "        popups.append('[{}]: {}'.format(name, sta_name))\n",
    "\n",
    "MarkerCluster(locations=locations, popups=popups).add_to(mapa)"
   ]
  },
  {
   "cell_type": "markdown",
   "metadata": {},
   "source": [
    "### Model and observations plots"
   ]
  },
  {
   "cell_type": "code",
   "execution_count": 27,
   "metadata": {
    "collapsed": true
   },
   "outputs": [],
   "source": [
    "import warnings\n",
    "\n",
    "# Suppresing warnings for a \"pretty output.\"\n",
    "# Remove this line to debug any possible issues.\n",
    "warnings.simplefilter(\"ignore\")"
   ]
  },
  {
   "cell_type": "code",
   "execution_count": 28,
   "metadata": {
    "collapsed": true
   },
   "outputs": [],
   "source": [
    "# Legend dictionary. If any new model is found we will use its filename as legend.\n",
    "# Here we only provide some nice names for the models we expect to find.\n",
    "\n",
    "titles = {\n",
    "    'coawst_4_use_best': 'COAWST_4',\n",
    "    'global': 'HYCOM',\n",
    "    'NECOFS_GOM3_FORECAST': 'NECOFS_GOM3',\n",
    "    'NECOFS_FVCOM_OCEAN_MASSBAY_FORECAST': 'NECOFS_MassBay',\n",
    "    'OBS_DATA': 'Observations'\n",
    "}"
   ]
  },
  {
   "cell_type": "code",
   "execution_count": 29,
   "metadata": {
    "collapsed": true
   },
   "outputs": [],
   "source": [
    "from bokeh.resources import CDN\n",
    "from bokeh.plotting import figure\n",
    "from bokeh.embed import file_html\n",
    "from bokeh.models import HoverTool\n",
    "from itertools import cycle\n",
    "from bokeh.palettes import Spectral6\n",
    "\n",
    "from folium.element import IFrame\n",
    "\n",
    "# Plot defaults.\n",
    "colors = Spectral6\n",
    "colorcycler = cycle(colors)\n",
    "tools = \"pan,box_zoom,reset\"\n",
    "width, height = 750, 250\n",
    "\n",
    "\n",
    "def make_plot(df, station):\n",
    "    p = figure(toolbar_location=\"above\",\n",
    "               x_axis_type=\"datetime\",\n",
    "               width=width,\n",
    "               height=height,\n",
    "               tools=tools,\n",
    "               title=str(station))\n",
    "    for column, series in df.iteritems():\n",
    "        series.dropna(inplace=True)\n",
    "        if not series.empty:\n",
    "            line = p.line(\n",
    "                x=series.index,\n",
    "                y=series.values,\n",
    "                legend=\"%s\" % titles.get(column, column),\n",
    "                line_color=next(colorcycler),\n",
    "                line_width=5,\n",
    "                line_cap='round',\n",
    "                line_join='round'\n",
    "            )\n",
    "            if 'OBS_DATA' not in column:\n",
    "                bias = mean_bias[str(station)][column]\n",
    "                skill = skill_score[str(station)][column]\n",
    "            else:\n",
    "                skill = bias = 'NA'\n",
    "            p.add_tools(HoverTool(tooltips=[(\"Name\", \"%s\" % column),\n",
    "                                            (\"Bias\", bias),\n",
    "                                            (\"Skill\", skill)],\n",
    "                                  renderers=[line]))\n",
    "    return p\n",
    "\n",
    "\n",
    "def make_marker(p, station):\n",
    "    lons = stations_keys(config, key='lon')\n",
    "    lats = stations_keys(config, key='lat')\n",
    "\n",
    "    lon, lat = lons[station], lats[station]\n",
    "    html = file_html(p, CDN, station)\n",
    "    iframe = IFrame(html, width=width+40, height=height+80)\n",
    "\n",
    "    popup = folium.Popup(iframe, max_width=2650)\n",
    "    icon = folium.Icon(color='green', icon='stats')\n",
    "    marker = folium.Marker(location=[lat, lon],\n",
    "                           popup=popup,\n",
    "                           icon=icon)\n",
    "    return marker"
   ]
  },
  {
   "cell_type": "code",
   "execution_count": 30,
   "metadata": {
    "collapsed": false
   },
   "outputs": [
    {
     "data": {
      "text/html": [
       "<div style=\"width:100%;\"><div style=\"position:relative;width:100%;height:0;padding-bottom:60%;\"><iframe src=\"data:text/html;base64,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\" style=\"position:absolute;width:100%;height:100%;left:0;top:0;\"></iframe></div></div>"
      ],
      "text/plain": [
       "<folium.folium.Map at 0x7f05e4eb3470>"
      ]
     },
     "execution_count": 30,
     "metadata": {},
     "output_type": "execute_result"
    }
   ],
   "source": [
    "dfs = load_ncs(config)\n",
    "\n",
    "for station in dfs:\n",
    "    sta_name = all_obs[station]\n",
    "    df = dfs[station]\n",
    "    if df.empty:\n",
    "        continue\n",
    "    p = make_plot(df, station)\n",
    "    maker = make_marker(p, station)\n",
    "    maker.add_to(mapa)\n",
    "\n",
    "mapa"
   ]
  },
  {
   "cell_type": "code",
   "execution_count": 31,
   "metadata": {
    "collapsed": false
   },
   "outputs": [
    {
     "name": "stdout",
     "output_type": "stream",
     "text": [
      "3.74 minutes\n"
     ]
    }
   ],
   "source": [
    "elapsed = time.time() - start_time\n",
    "print('{:.2f} minutes'.format(elapsed/60.))"
   ]
  },
  {
   "cell_type": "markdown",
   "metadata": {},
   "source": [
    "<br>\n",
    "Right click and choose Save link as... to\n",
    "[download](https://raw.githubusercontent.com/ioos/notebooks_demos/master/notebooks/2016-12-22-boston_light_swim.ipynb)\n",
    "this notebook, or see a static view [here](http://nbviewer.ipython.org/urls/raw.githubusercontent.com/ioos/notebooks_demos/master/notebooks/2016-12-22-boston_light_swim.ipynb)."
   ]
  }
 ],
 "metadata": {
  "kernelspec": {
   "display_name": "Python [default]",
   "language": "python",
   "name": "python3"
  },
  "language_info": {
   "codemirror_mode": {
    "name": "ipython",
    "version": 3
   },
   "file_extension": ".py",
   "mimetype": "text/x-python",
   "name": "python",
   "nbconvert_exporter": "python",
   "pygments_lexer": "ipython3",
   "version": "3.5.2"
  }
 },
 "nbformat": 4,
 "nbformat_minor": 0
}
