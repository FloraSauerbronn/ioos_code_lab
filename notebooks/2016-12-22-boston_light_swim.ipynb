{
 "cells": [
  {
   "cell_type": "markdown",
   "metadata": {},
   "source": [
    "# [The Boston Light Swim](http://bostonlightswim.org/)\n",
    "\n",
    "In the past we demonstrated how to perform a CSW catalog search with [`OWSLib`](https://ioos.github.io/notebooks_demos//notebooks/2016-12-19-exploring_csw),\n",
    "and how to obtain near real-time data with [`pyoos`](https://ioos.github.io/notebooks_demos//notebooks/2016-10-12-fetching_data).\n",
    "In this notebook we will use both to find all observations and model data around the Boston Harbor to access the sea water temperature.\n",
    "\n",
    "\n",
    "This workflow is part of an example to advise swimmers of the annual Boston lighthouse swim of the Boston Harbor water temperature conditions prior to the race. For more information regarding the workflow presented here see [Signell, Richard P.; Fernandes, Filipe; Wilcox, Kyle.   2016. \"Dynamic Reusable Workflows for Ocean Science.\" *J. Mar. Sci. Eng.* 4, no. 4: 68](http://dx.doi.org/10.3390/jmse4040068)."
   ]
  },
  {
   "cell_type": "code",
   "execution_count": 1,
   "metadata": {
    "collapsed": false
   },
   "outputs": [],
   "source": [
    "import os\n",
    "import sys\n",
    "import warnings\n",
    "\n",
    "ioos_tools = os.path.join(os.path.pardir)\n",
    "sys.path.append(ioos_tools)\n",
    "\n",
    "# Suppresing warnings for a \"pretty output.\"\n",
    "warnings.simplefilter(\"ignore\")"
   ]
  },
  {
   "cell_type": "markdown",
   "metadata": {},
   "source": [
    "This notebook is quite big and complex,\n",
    "so to help us keep things organized we'll define a cell with the most important options and switches.\n",
    "\n",
    "Below we can define the date,\n",
    "bounding box, phenomena `SOS` and `CF` names and units,\n",
    "and the catalogs we will search."
   ]
  },
  {
   "cell_type": "code",
   "execution_count": 2,
   "metadata": {
    "collapsed": false
   },
   "outputs": [
    {
     "name": "stdout",
     "output_type": "stream",
     "text": [
      "Overwriting config.yaml\n"
     ]
    }
   ],
   "source": [
    "%%writefile config.yaml\n",
    "\n",
    "# Specify a YYYY-MM-DD hh:mm:ss date or integer day offset.\n",
    "# If both start and stop are offsets they will be computed relative to datetime.today() at midnight.\n",
    "# Use the dates commented below to reproduce the last Boston Light Swim event forecast.\n",
    "date:\n",
    "    start: -5 # 2016-8-16 00:00:00\n",
    "    stop: +4 # 2016-8-29 00:00:00\n",
    "\n",
    "run_name: 'latest'\n",
    "\n",
    "# Boston harbor.\n",
    "region:\n",
    "    bbox: [-71.3, 42.03, -70.57, 42.63]\n",
    "    crs: 'urn:ogc:def:crs:OGC:1.3:CRS84'\n",
    "\n",
    "sos_name: 'sea_water_temperature'\n",
    "\n",
    "cf_names:\n",
    "    - sea_water_temperature\n",
    "    - sea_surface_temperature\n",
    "    - sea_water_potential_temperature\n",
    "    - equivalent_potential_temperature\n",
    "    - sea_water_conservative_temperature\n",
    "    - pseudo_equivalent_potential_temperature\n",
    "\n",
    "units: 'celsius'\n",
    "\n",
    "catalogs:\n",
    "    - https://data.ioos.us/csw\n",
    "    - http://gamone.whoi.edu/csw"
   ]
  },
  {
   "cell_type": "markdown",
   "metadata": {},
   "source": [
    "We'll print some of the search configuration options along the way to keep track of them."
   ]
  },
  {
   "cell_type": "code",
   "execution_count": 3,
   "metadata": {
    "collapsed": false
   },
   "outputs": [
    {
     "name": "stdout",
     "output_type": "stream",
     "text": [
      "Saving data inside directory /home/filipe/IOOS/notebooks_demos/notebooks/latest\n",
      "*********************** Run information ************************\n",
      "Run date: 2017-01-10 21:30:23\n",
      "Start: 2017-01-05 00:00:00\n",
      "Stop: 2017-01-14 00:00:00\n",
      "Bounding box: -71.30, 42.03,-70.57, 42.63\n"
     ]
    }
   ],
   "source": [
    "import shutil\n",
    "from datetime import datetime\n",
    "from ioos_tools.ioos import parse_config\n",
    "\n",
    "config = parse_config('config.yaml')\n",
    "\n",
    "# Saves downloaded data into a temporary directory.\n",
    "save_dir = os.path.abspath(config['run_name'])\n",
    "if os.path.exists(save_dir):\n",
    "    shutil.rmtree(save_dir)\n",
    "os.makedirs(save_dir)\n",
    "\n",
    "fmt = '{:*^64}'.format\n",
    "print(fmt('Saving data inside directory {}'.format(save_dir)))\n",
    "print(fmt(' Run information '))\n",
    "print('Run date: {:%Y-%m-%d %H:%M:%S}'.format(datetime.utcnow()))\n",
    "print('Start: {:%Y-%m-%d %H:%M:%S}'.format(config['date']['start']))\n",
    "print('Stop: {:%Y-%m-%d %H:%M:%S}'.format(config['date']['stop']))\n",
    "print('Bounding box: {0:3.2f}, {1:3.2f},'\n",
    "      '{2:3.2f}, {3:3.2f}'.format(*config['region']['bbox']))"
   ]
  },
  {
   "cell_type": "markdown",
   "metadata": {},
   "source": [
    "We already created an `OWSLib.fes` filter [before](https://ioos.github.io/notebooks_demos//notebooks/2016-12-19-exploring_csw).\n",
    "The main difference here is that we do not want the atmosphere model data,\n",
    "so we are filtering out all the `GRIB-2` data format."
   ]
  },
  {
   "cell_type": "code",
   "execution_count": 4,
   "metadata": {
    "collapsed": false
   },
   "outputs": [],
   "source": [
    "def make_filter(config):\n",
    "    from owslib import fes\n",
    "    from ioos_tools.ioos import fes_date_filter\n",
    "    kw = dict(wildCard='*', escapeChar='\\\\',\n",
    "              singleChar='?', propertyname='apiso:AnyText')\n",
    "\n",
    "    or_filt = fes.Or([fes.PropertyIsLike(literal=('*%s*' % val), **kw)\n",
    "                      for val in config['cf_names']])\n",
    "\n",
    "    not_filt = fes.Not([fes.PropertyIsLike(literal='GRIB-2', **kw)])\n",
    "\n",
    "    begin, end = fes_date_filter(config['date']['start'],\n",
    "                                 config['date']['stop'])\n",
    "    bbox_crs = fes.BBox(config['region']['bbox'],\n",
    "                        crs=config['region']['crs'])\n",
    "    filter_list = [fes.And([bbox_crs, begin, end, or_filt, not_filt])]\n",
    "    return filter_list\n",
    "\n",
    "\n",
    "filter_list = make_filter(config)"
   ]
  },
  {
   "cell_type": "markdown",
   "metadata": {},
   "source": [
    "In the cell below we ask the catalog for all the returns that match the filter and have an OPeNDAP endpoint."
   ]
  },
  {
   "cell_type": "code",
   "execution_count": 5,
   "metadata": {
    "code_folding": [],
    "collapsed": false
   },
   "outputs": [
    {
     "name": "stdout",
     "output_type": "stream",
     "text": [
      "********************* Catalog information **********************\n",
      "URL: https://data.ioos.us/csw\n",
      "Number of datasets available: 18\n",
      "NERACOOS Gulf of Maine Ocean Array: Realtime Buoy Observations: A01 Massachusetts Bay: A01 CTD1m Massachusetts Bay\n",
      "NERACOOS Gulf of Maine Ocean Array: Realtime Buoy Observations: A01 Massachusetts Bay: A01 CTD20m Massachusetts Bay\n",
      "NERACOOS Gulf of Maine Ocean Array: Realtime Buoy Observations: A01 Massachusetts Bay: A01 MET Massachusetts Bay\n",
      "NERACOOS Gulf of Maine Ocean Array: Realtime Buoy Observations: A01 Massachusetts Bay: A01 OPTICS3m Massachusetts Bay\n",
      "NERACOOS Gulf of Maine Ocean Array: Realtime Buoy Observations: A01 Massachusetts Bay: A01 OPTODE51m Massachusetts Bay\n",
      "NERACOOS Gulf of Maine Ocean Array: Realtime Buoy Observations: A01 Western Maine Shelf: A01 CTD52m Massachusetts Bay\n",
      "NOAA/NCEP Global Forecast System (GFS) Atmospheric Model\n",
      "urn:ioos:station:NOAA.NOS.CO-OPS:8443970 station, Boston, MA\n",
      "Directional wave and sea surface temperature measurements collected in situ by Datawell Mark 3 directional buoy located near ASTORIA CANYON, OR from 2016/03/30 17:00:00 to 2017/01/10 00:14:16.\n",
      "NECOFS GOM3 (FVCOM) - Northeast US - Latest Forecast\n",
      "Directional wave and sea surface temperature measurements collected in situ by Datawell Mark 3 directional buoy located near OCEAN STATION PAPA from 2015/01/01 01:00:00 to 2017/01/10 00:00:38.\n",
      "G1SST, 1km blended SST\n",
      "Directional wave and sea surface temperature measurements collected in situ by Datawell Mark 3 directional buoy located near SCRIPPS NEARSHORE, CA from 2015/01/07 23:00:00 to 2017/01/10 00:01:10.\n",
      "Directional wave and sea surface temperature measurements collected in situ by Datawell Mark 3 directional buoy located near GRAYS HARBOR, WA from 2016/03/16 22:00:00 to 2017/01/09 23:53:40.\n",
      "NERACOOS Gulf of Maine Ocean Array: Realtime Buoy Observations: A01 Massachusetts Bay: A01 ACCELEROMETER Massachusetts Bay\n",
      "Directional wave and sea surface temperature measurements collected in situ by Datawell Mark 3 directional buoy located near CLATSOP SPIT, OR from 2016/10/12 17:00:00 to 2017/01/10 00:02:13.\n",
      "HYbrid Coordinate Ocean Model (HYCOM): Global\n",
      "NECOFS Massachusetts (FVCOM) - Massachusetts Coastal - Latest Forecast\n",
      "***************************** DAP ******************************\n",
      "http://oos.soest.hawaii.edu/thredds/dodsC/hioos/model/atm/ncep_global/NCEP_Global_Atmospheric_Model_best.ncd.html\n",
      "http://oos.soest.hawaii.edu/thredds/dodsC/pacioos/hycom/global.html\n",
      "http://thredds.aoos.org/thredds/dodsC/G1_SST_GLOBAL.nc.html\n",
      "http://www.neracoos.org/thredds/dodsC/UMO/DSG/SOS/A01/Accelerometer/HistoricRealtime/Agg.ncml.html\n",
      "http://www.neracoos.org/thredds/dodsC/UMO/DSG/SOS/A01/CTD1m/HistoricRealtime/Agg.ncml.html\n",
      "http://www.neracoos.org/thredds/dodsC/UMO/DSG/SOS/A01/CTD20m/HistoricRealtime/Agg.ncml.html\n",
      "http://www.neracoos.org/thredds/dodsC/UMO/DSG/SOS/A01/CTD52m/HistoricRealtime/Agg.ncml.html\n",
      "http://www.neracoos.org/thredds/dodsC/UMO/DSG/SOS/A01/Met/HistoricRealtime/Agg.ncml.html\n",
      "http://www.neracoos.org/thredds/dodsC/UMO/DSG/SOS/A01/OPTICS_S3m/HistoricRealtime/Agg.ncml.html\n",
      "http://www.neracoos.org/thredds/dodsC/UMO/DSG/SOS/A01/OPTODE51m/HistoricRealtime/Agg.ncml.html\n",
      "http://www.smast.umassd.edu:8080/thredds/dodsC/FVCOM/NECOFS/Forecasts/NECOFS_FVCOM_OCEAN_MASSBAY_FORECAST.nc.html\n",
      "http://www.smast.umassd.edu:8080/thredds/dodsC/FVCOM/NECOFS/Forecasts/NECOFS_GOM3_FORECAST.nc.html\n",
      "\n",
      "\n",
      "URL: http://gamone.whoi.edu/csw\n",
      "Number of datasets available: 1\n",
      "COAWST Forecast System : USGS : US East Coast and Gulf of Mexico (Experimental)\n",
      "***************************** DAP ******************************\n",
      "http://geoport-dev.whoi.edu/thredds/dodsC/coawst_4/use/fmrc/coawst_4_use_best.ncd.html\n",
      "\n",
      "\n"
     ]
    }
   ],
   "source": [
    "from ioos_tools.ioos import service_urls, get_csw_records\n",
    "from owslib.csw import CatalogueServiceWeb\n",
    "\n",
    "\n",
    "dap_urls = []\n",
    "print(fmt(' Catalog information '))\n",
    "for endpoint in config['catalogs']:\n",
    "    print(\"URL: {}\".format(endpoint))\n",
    "\n",
    "    csw = CatalogueServiceWeb(endpoint, timeout=120)\n",
    "    csw = get_csw_records(csw, filter_list, esn='full')\n",
    "    OPeNDAP = service_urls(csw.records, identifier='OPeNDAP:OPeNDAP')\n",
    "    odp = service_urls(csw.records, identifier='urn:x-esri:specification:ServiceType:odp:url')\n",
    "    dap = OPeNDAP + odp\n",
    "    dap_urls.extend(dap)\n",
    "\n",
    "    print(\"Number of datasets available: {}\".format(len(csw.records.keys())))\n",
    "\n",
    "    for rec, item in csw.records.items():\n",
    "        print('{}'.format(item.title))\n",
    "    if dap:\n",
    "        print(fmt(' DAP '))\n",
    "        for url in dap:\n",
    "            print('{}.html'.format(url))\n",
    "    print('\\n')\n",
    "\n",
    "# Get only unique endpoints.\n",
    "dap_urls = list(set(dap_urls))"
   ]
  },
  {
   "cell_type": "markdown",
   "metadata": {},
   "source": [
    "We found some models, and observations from NERACOOS there.\n",
    "However, we do know that there are some buoys from NDBC and CO-OPS available too.\n",
    "Also, those NERACOOS observations seem to be from a [CTD](http://www.neracoos.org/thredds/dodsC/UMO/DSG/SOS/A01/CTD1m/HistoricRealtime/Agg.ncml.html) mounted at 65 meters below the sea surface. Rendering them useless from our purpose.\n",
    "\n",
    "So let's use the catalog only for the models by filtering the observations with `is_station` below.\n",
    "And we'll rely `CO-OPS` and `NDBC` services for the observations."
   ]
  },
  {
   "cell_type": "code",
   "execution_count": 6,
   "metadata": {
    "collapsed": false
   },
   "outputs": [
    {
     "name": "stdout",
     "output_type": "stream",
     "text": [
      "************************* Filtered DAP *************************\n",
      "http://thredds.aoos.org/thredds/dodsC/G1_SST_GLOBAL.nc.html\n",
      "http://www.smast.umassd.edu:8080/thredds/dodsC/FVCOM/NECOFS/Forecasts/NECOFS_FVCOM_OCEAN_MASSBAY_FORECAST.nc.html\n",
      "http://www.smast.umassd.edu:8080/thredds/dodsC/FVCOM/NECOFS/Forecasts/NECOFS_GOM3_FORECAST.nc.html\n",
      "http://oos.soest.hawaii.edu/thredds/dodsC/hioos/model/atm/ncep_global/NCEP_Global_Atmospheric_Model_best.ncd.html\n",
      "http://oos.soest.hawaii.edu/thredds/dodsC/pacioos/hycom/global.html\n",
      "http://geoport-dev.whoi.edu/thredds/dodsC/coawst_4/use/fmrc/coawst_4_use_best.ncd.html\n"
     ]
    }
   ],
   "source": [
    "from ioos_tools.ioos import is_station\n",
    "\n",
    "# Filter out some station endpoints.\n",
    "non_stations = []\n",
    "for url in dap_urls:\n",
    "    try:\n",
    "        if not is_station(url):\n",
    "            non_stations.append(url)\n",
    "    except (RuntimeError, OSError) as e:\n",
    "        print(\"Could not access URL {}. {!r}\".format(url, e))\n",
    "\n",
    "dap_urls = non_stations\n",
    "\n",
    "print(fmt(' Filtered DAP '))\n",
    "for url in dap_urls:\n",
    "    print('{}.html'.format(url))"
   ]
  },
  {
   "cell_type": "markdown",
   "metadata": {},
   "source": [
    "Now we can use `pyoos` collectors for `NdbcSos`,"
   ]
  },
  {
   "cell_type": "code",
   "execution_count": 7,
   "metadata": {
    "collapsed": false
   },
   "outputs": [
    {
     "name": "stdout",
     "output_type": "stream",
     "text": [
      "******************* NDBC Collector offerings *******************\n",
      "National Data Buoy Center SOS: 977 offerings\n"
     ]
    }
   ],
   "source": [
    "from pyoos.collectors.ndbc.ndbc_sos import NdbcSos\n",
    "\n",
    "collector_ndbc = NdbcSos()\n",
    "\n",
    "collector_ndbc.set_bbox(config['region']['bbox'])\n",
    "collector_ndbc.end_time = config['date']['stop']\n",
    "collector_ndbc.start_time = config['date']['start']\n",
    "collector_ndbc.variables = [config['sos_name']]\n",
    "\n",
    "ofrs = collector_ndbc.server.offerings\n",
    "title = collector_ndbc.server.identification.title\n",
    "print(fmt(' NDBC Collector offerings '))\n",
    "print('{}: {} offerings'.format(title, len(ofrs)))"
   ]
  },
  {
   "cell_type": "code",
   "execution_count": 8,
   "metadata": {
    "collapsed": false
   },
   "outputs": [
    {
     "data": {
      "text/html": [
       "<style>.info {\n",
       "    background-color:#fcf8e3;\n",
       "    border-color:#faebcc;\n",
       "    border-left:5px solid #8a6d3b;\n",
       "    padding:.5em;\n",
       "    color:#8a6d3b\n",
       "}\n",
       "\n",
       ".success {\n",
       "    background-color:#d9edf7;\n",
       "    border-color:#bce8f1;\n",
       "    border-left:5px solid #31708f;\n",
       "    padding:.5em;\n",
       "    color:#31708f\n",
       "}\n",
       "\n",
       ".error {\n",
       "    background-color:#f2dede;\n",
       "    border-color:#ebccd1;\n",
       "    border-left:5px solid #a94442;\n",
       "    padding:.5em;\n",
       "    color:#a94442\n",
       "}\n",
       "\n",
       ".warning {\n",
       "    background-color:#fcf8e3;\n",
       "    border-color:#faebcc;\n",
       "    border-left:5px solid #8a6d3b;\n",
       "    padding:.5em;\n",
       "    color:#8a6d3b\n",
       "}\n",
       "\n",
       ".text-shadow {\n",
       "    text-shadow:0 1px 0 #ccc,0 2px 0 #c9c9c9,0 3px 0 #bbb,0 4px 0 #b9b9b9,0 5px 0 #aaa,0 6px 1px rgba(0,0,0,.1)\n",
       "}\n",
       "\n",
       ".datagrid table {\n",
       "    border-collapse:collapse;\n",
       "    text-align:left;\n",
       "    width:65%\n",
       "}\n",
       "\n",
       ".datagrid td {\n",
       "    border-collapse:collapse;\n",
       "    text-align:right;\n",
       "}\n",
       "\n",
       ".datagrid {\n",
       "    font:normal 12px/150% Arial,Helvetica,sans-serif;\n",
       "    background:#fff;\n",
       "    overflow:hidden;\n",
       "    border:1px solid #069;\n",
       "    -webkit-border-radius:3px;\n",
       "    -moz-border-radius:3px;\n",
       "    border-radius:3px\n",
       "}\n",
       "\n",
       ".datagrid table td,.datagrid table th {\n",
       "    padding:3px 10px\n",
       "}\n",
       "\n",
       ".datagrid table thead th {\n",
       "    background:-webkit-gradient(linear,left top,left bottom,color-stop(0.05,#069),color-stop(1,#00557F));\n",
       "    background:-moz-linear-gradient(center top,#069 5%,#00557F 100%);\n",
       "    filter:progid:DXImageTransform.Microsoft.gradient(startColorstr='#006699',endColorstr='#00557F');\n",
       "    background-color:#069;\n",
       "    color:#FFF;\n",
       "    font-size:15px;\n",
       "    font-weight:700;\n",
       "    border-left:1px solid #0070A8\n",
       "}\n",
       "\n",
       ".datagrid table thead th:first-child {\n",
       "    border:none\n",
       "}\n",
       "\n",
       ".datagrid table tbody td {\n",
       "    color:#00496B;\n",
       "    border-left:1px solid #E1EEF4;\n",
       "    font-size:12px;\n",
       "    font-weight:400\n",
       "}\n",
       "\n",
       ".datagrid table tbody .alt td {\n",
       "    background:#E1EEF4;\n",
       "    color:#00496B\n",
       "}\n",
       "\n",
       ".datagrid table tbody td:first-child {\n",
       "    border-left:none\n",
       "}\n",
       "\n",
       ".datagrid table tbody tr:last-child td {\n",
       "    border-bottom:none\n",
       "}\n",
       "\n",
       ".datagrid table tfoot td div {\n",
       "    border-top:1px solid #069;\n",
       "    background:#E1EEF4\n",
       "}\n",
       "\n",
       ".datagrid table tfoot td {\n",
       "    padding:0;\n",
       "    font-size:12px\n",
       "}\n",
       "\n",
       ".datagrid table tfoot td div {\n",
       "    padding:2px\n",
       "}\n",
       "\n",
       ".datagrid table tfoot td ul {\n",
       "    margin:0;\n",
       "    padding:0;\n",
       "    list-style:none;\n",
       "    text-align:right\n",
       "}\n",
       "\n",
       ".datagrid table tfoot li {\n",
       "    display:inline\n",
       "}\n",
       "\n",
       ".datagrid table tfoot li a {\n",
       "    text-decoration:none;\n",
       "    display:inline-block;\n",
       "    padding:2px 8px;\n",
       "    margin:1px;\n",
       "    color:#FFF;\n",
       "    border:1px solid #069;\n",
       "    -webkit-border-radius:3px;\n",
       "    -moz-border-radius:3px;\n",
       "    border-radius:3px;\n",
       "    background:-webkit-gradient(linear,left top,left bottom,color-stop(0.05,#069),color-stop(1,#00557F));\n",
       "    background:-moz-linear-gradient(center top,#069 5%,#00557F 100%);\n",
       "    filter:progid:DXImageTransform.Microsoft.gradient(startColorstr='#006699',endColorstr='#00557F');\n",
       "    background-color:#069\n",
       "}\n",
       "\n",
       ".datagrid table tfoot ul.active,.datagrid table tfoot ul a:hover {\n",
       "    text-decoration:none;\n",
       "    border-color:#069;\n",
       "    color:#FFF;\n",
       "    background:none;\n",
       "    background-color:#00557F\n",
       "}\n",
       "\n",
       "div.dhtmlx_window_active,div.dhx_modal_cover_dv {\n",
       "    position:fixed!important\n",
       "}\n",
       "</style><div class=\"datagrid\"><table border=\"1\" class=\"dataframe\">\n",
       "  <thead>\n",
       "    <tr style=\"text-align: right;\">\n",
       "      <th></th>\n",
       "      <th>depth</th>\n",
       "      <th>lat</th>\n",
       "      <th>lon</th>\n",
       "      <th>sensor</th>\n",
       "      <th>station_name</th>\n",
       "    </tr>\n",
       "    <tr>\n",
       "      <th>station_code</th>\n",
       "      <th></th>\n",
       "      <th></th>\n",
       "      <th></th>\n",
       "      <th></th>\n",
       "      <th></th>\n",
       "    </tr>\n",
       "  </thead>\n",
       "  <tbody>\n",
       "    <tr>\n",
       "      <th>44013</th>\n",
       "      <td>0.6</td>\n",
       "      <td>42.35</td>\n",
       "      <td>-70.69</td>\n",
       "      <td>urn:ioos:sensor:wmo:44013::watertemp1</td>\n",
       "      <td>BOSTON 16 NM East of Boston, MA</td>\n",
       "    </tr>\n",
       "    <tr>\n",
       "      <th>44029</th>\n",
       "      <td>1.0</td>\n",
       "      <td>42.52</td>\n",
       "      <td>-70.57</td>\n",
       "      <td>urn:ioos:sensor:wmo:44029::ct1</td>\n",
       "      <td>Buoy A0102 - Mass. Bay/Stellwagen</td>\n",
       "    </tr>\n",
       "  </tbody>\n",
       "</table></div>"
      ],
      "text/plain": [
       "<IPython.core.display.HTML object>"
      ]
     },
     "execution_count": 8,
     "metadata": {},
     "output_type": "execute_result"
    }
   ],
   "source": [
    "import pandas as pd\n",
    "from ioos_tools.ioos import collector2table, to_html\n",
    "\n",
    "ndbc = collector2table(collector=collector_ndbc,\n",
    "                       config=config,\n",
    "                       col='sea_water_temperature (C)')\n",
    "\n",
    "if ndbc:\n",
    "    data = dict(\n",
    "        station_name=[s._metadata.get('station_name') for s in ndbc],\n",
    "        station_code=[s._metadata.get('station_code') for s in ndbc],\n",
    "        sensor=[s._metadata.get('sensor') for s in ndbc],\n",
    "        lon=[s._metadata.get('lon') for s in ndbc],\n",
    "        lat=[s._metadata.get('lat') for s in ndbc],\n",
    "        depth=[s._metadata.get('depth') for s in ndbc],\n",
    "    )\n",
    "\n",
    "table = pd.DataFrame(data).set_index('station_code')\n",
    "to_html(table)"
   ]
  },
  {
   "cell_type": "markdown",
   "metadata": {},
   "source": [
    "and `CoopsSos`."
   ]
  },
  {
   "cell_type": "code",
   "execution_count": 9,
   "metadata": {
    "collapsed": false
   },
   "outputs": [
    {
     "name": "stdout",
     "output_type": "stream",
     "text": [
      "********************* Collector offerings **********************\n",
      "NOAA.NOS.CO-OPS SOS: 1113 offerings\n"
     ]
    }
   ],
   "source": [
    "from pyoos.collectors.coops.coops_sos import CoopsSos\n",
    "\n",
    "collector_coops = CoopsSos()\n",
    "\n",
    "collector_coops.set_bbox(config['region']['bbox'])\n",
    "collector_coops.end_time = config['date']['stop']\n",
    "collector_coops.start_time = config['date']['start']\n",
    "collector_coops.variables = [config['sos_name']]\n",
    "\n",
    "ofrs = collector_coops.server.offerings\n",
    "title = collector_coops.server.identification.title\n",
    "print(fmt(' Collector offerings '))\n",
    "print('{}: {} offerings'.format(title, len(ofrs)))"
   ]
  },
  {
   "cell_type": "code",
   "execution_count": 10,
   "metadata": {
    "collapsed": false,
    "scrolled": true
   },
   "outputs": [
    {
     "data": {
      "text/html": [
       "<style>.info {\n",
       "    background-color:#fcf8e3;\n",
       "    border-color:#faebcc;\n",
       "    border-left:5px solid #8a6d3b;\n",
       "    padding:.5em;\n",
       "    color:#8a6d3b\n",
       "}\n",
       "\n",
       ".success {\n",
       "    background-color:#d9edf7;\n",
       "    border-color:#bce8f1;\n",
       "    border-left:5px solid #31708f;\n",
       "    padding:.5em;\n",
       "    color:#31708f\n",
       "}\n",
       "\n",
       ".error {\n",
       "    background-color:#f2dede;\n",
       "    border-color:#ebccd1;\n",
       "    border-left:5px solid #a94442;\n",
       "    padding:.5em;\n",
       "    color:#a94442\n",
       "}\n",
       "\n",
       ".warning {\n",
       "    background-color:#fcf8e3;\n",
       "    border-color:#faebcc;\n",
       "    border-left:5px solid #8a6d3b;\n",
       "    padding:.5em;\n",
       "    color:#8a6d3b\n",
       "}\n",
       "\n",
       ".text-shadow {\n",
       "    text-shadow:0 1px 0 #ccc,0 2px 0 #c9c9c9,0 3px 0 #bbb,0 4px 0 #b9b9b9,0 5px 0 #aaa,0 6px 1px rgba(0,0,0,.1)\n",
       "}\n",
       "\n",
       ".datagrid table {\n",
       "    border-collapse:collapse;\n",
       "    text-align:left;\n",
       "    width:65%\n",
       "}\n",
       "\n",
       ".datagrid td {\n",
       "    border-collapse:collapse;\n",
       "    text-align:right;\n",
       "}\n",
       "\n",
       ".datagrid {\n",
       "    font:normal 12px/150% Arial,Helvetica,sans-serif;\n",
       "    background:#fff;\n",
       "    overflow:hidden;\n",
       "    border:1px solid #069;\n",
       "    -webkit-border-radius:3px;\n",
       "    -moz-border-radius:3px;\n",
       "    border-radius:3px\n",
       "}\n",
       "\n",
       ".datagrid table td,.datagrid table th {\n",
       "    padding:3px 10px\n",
       "}\n",
       "\n",
       ".datagrid table thead th {\n",
       "    background:-webkit-gradient(linear,left top,left bottom,color-stop(0.05,#069),color-stop(1,#00557F));\n",
       "    background:-moz-linear-gradient(center top,#069 5%,#00557F 100%);\n",
       "    filter:progid:DXImageTransform.Microsoft.gradient(startColorstr='#006699',endColorstr='#00557F');\n",
       "    background-color:#069;\n",
       "    color:#FFF;\n",
       "    font-size:15px;\n",
       "    font-weight:700;\n",
       "    border-left:1px solid #0070A8\n",
       "}\n",
       "\n",
       ".datagrid table thead th:first-child {\n",
       "    border:none\n",
       "}\n",
       "\n",
       ".datagrid table tbody td {\n",
       "    color:#00496B;\n",
       "    border-left:1px solid #E1EEF4;\n",
       "    font-size:12px;\n",
       "    font-weight:400\n",
       "}\n",
       "\n",
       ".datagrid table tbody .alt td {\n",
       "    background:#E1EEF4;\n",
       "    color:#00496B\n",
       "}\n",
       "\n",
       ".datagrid table tbody td:first-child {\n",
       "    border-left:none\n",
       "}\n",
       "\n",
       ".datagrid table tbody tr:last-child td {\n",
       "    border-bottom:none\n",
       "}\n",
       "\n",
       ".datagrid table tfoot td div {\n",
       "    border-top:1px solid #069;\n",
       "    background:#E1EEF4\n",
       "}\n",
       "\n",
       ".datagrid table tfoot td {\n",
       "    padding:0;\n",
       "    font-size:12px\n",
       "}\n",
       "\n",
       ".datagrid table tfoot td div {\n",
       "    padding:2px\n",
       "}\n",
       "\n",
       ".datagrid table tfoot td ul {\n",
       "    margin:0;\n",
       "    padding:0;\n",
       "    list-style:none;\n",
       "    text-align:right\n",
       "}\n",
       "\n",
       ".datagrid table tfoot li {\n",
       "    display:inline\n",
       "}\n",
       "\n",
       ".datagrid table tfoot li a {\n",
       "    text-decoration:none;\n",
       "    display:inline-block;\n",
       "    padding:2px 8px;\n",
       "    margin:1px;\n",
       "    color:#FFF;\n",
       "    border:1px solid #069;\n",
       "    -webkit-border-radius:3px;\n",
       "    -moz-border-radius:3px;\n",
       "    border-radius:3px;\n",
       "    background:-webkit-gradient(linear,left top,left bottom,color-stop(0.05,#069),color-stop(1,#00557F));\n",
       "    background:-moz-linear-gradient(center top,#069 5%,#00557F 100%);\n",
       "    filter:progid:DXImageTransform.Microsoft.gradient(startColorstr='#006699',endColorstr='#00557F');\n",
       "    background-color:#069\n",
       "}\n",
       "\n",
       ".datagrid table tfoot ul.active,.datagrid table tfoot ul a:hover {\n",
       "    text-decoration:none;\n",
       "    border-color:#069;\n",
       "    color:#FFF;\n",
       "    background:none;\n",
       "    background-color:#00557F\n",
       "}\n",
       "\n",
       "div.dhtmlx_window_active,div.dhx_modal_cover_dv {\n",
       "    position:fixed!important\n",
       "}\n",
       "</style><div class=\"datagrid\"><table border=\"1\" class=\"dataframe\">\n",
       "  <thead>\n",
       "    <tr style=\"text-align: right;\">\n",
       "      <th></th>\n",
       "      <th>depth</th>\n",
       "      <th>lat</th>\n",
       "      <th>lon</th>\n",
       "      <th>sensor</th>\n",
       "      <th>station_name</th>\n",
       "    </tr>\n",
       "    <tr>\n",
       "      <th>station_code</th>\n",
       "      <th></th>\n",
       "      <th></th>\n",
       "      <th></th>\n",
       "      <th></th>\n",
       "      <th></th>\n",
       "    </tr>\n",
       "  </thead>\n",
       "  <tbody>\n",
       "    <tr>\n",
       "      <th>8443970</th>\n",
       "      <td>None</td>\n",
       "      <td>42.3548</td>\n",
       "      <td>-71.0534</td>\n",
       "      <td>urn:ioos:sensor:NOAA.NOS.CO-OPS:8443970:E1</td>\n",
       "      <td>Boston, MA</td>\n",
       "    </tr>\n",
       "  </tbody>\n",
       "</table></div>"
      ],
      "text/plain": [
       "<IPython.core.display.HTML object>"
      ]
     },
     "execution_count": 10,
     "metadata": {},
     "output_type": "execute_result"
    }
   ],
   "source": [
    "coops = collector2table(collector=collector_coops,\n",
    "                        config=config,\n",
    "                        col='sea_water_temperature (C)')\n",
    "\n",
    "if coops:\n",
    "    data = dict(\n",
    "        station_name=[s._metadata.get('station_name') for s in coops],\n",
    "        station_code=[s._metadata.get('station_code') for s in coops],\n",
    "        sensor=[s._metadata.get('sensor') for s in coops],\n",
    "        lon=[s._metadata.get('lon') for s in coops],\n",
    "        lat=[s._metadata.get('lat') for s in coops],\n",
    "        depth=[s._metadata.get('depth') for s in coops],\n",
    "    )\n",
    "\n",
    "table = pd.DataFrame(data).set_index('station_code')\n",
    "to_html(table)"
   ]
  },
  {
   "cell_type": "markdown",
   "metadata": {},
   "source": [
    "We will join all the observations into an uniform series, interpolated to 1-hour interval, for the model-data comparison.\n",
    "\n",
    "This step is necessary because the observations can be 7 or 10 minutes resolution,\n",
    "while the models can be 30 to 60 minutes."
   ]
  },
  {
   "cell_type": "code",
   "execution_count": 11,
   "metadata": {
    "collapsed": false,
    "scrolled": true
   },
   "outputs": [],
   "source": [
    "data = ndbc + coops\n",
    "\n",
    "index = pd.date_range(start=config['date']['start'].replace(tzinfo=None),\n",
    "                      end=config['date']['stop'].replace(tzinfo=None),\n",
    "                      freq='1H')\n",
    "\n",
    "# Preserve metadata with `reindex`.\n",
    "observations = []\n",
    "for series in data:\n",
    "    _metadata = series._metadata\n",
    "    obs = series.reindex(index=index, limit=1, method='nearest')\n",
    "    obs._metadata = _metadata\n",
    "    observations.append(obs)"
   ]
  },
  {
   "cell_type": "markdown",
   "metadata": {},
   "source": [
    "In this next cell we will save the data for quicker access later."
   ]
  },
  {
   "cell_type": "code",
   "execution_count": 12,
   "metadata": {
    "collapsed": false,
    "scrolled": false
   },
   "outputs": [],
   "source": [
    "import iris\n",
    "from ioos_tools.tardis import series2cube\n",
    "\n",
    "attr = dict(\n",
    "    featureType='timeSeries',\n",
    "    Conventions='CF-1.6',\n",
    "    standard_name_vocabulary='CF-1.6',\n",
    "    cdm_data_type=\"Station\",\n",
    "    comment=\"Data from http://opendap.co-ops.nos.noaa.gov\"\n",
    ")\n",
    "\n",
    "\n",
    "cubes = iris.cube.CubeList(\n",
    "    [series2cube(obs, attr=attr) for obs in observations]\n",
    ")\n",
    "\n",
    "outfile = os.path.join(save_dir, 'OBS_DATA.nc')\n",
    "iris.save(cubes, outfile)"
   ]
  },
  {
   "cell_type": "markdown",
   "metadata": {},
   "source": [
    "Now it is time to loop the models we found above,"
   ]
  },
  {
   "cell_type": "code",
   "execution_count": 13,
   "metadata": {
    "collapsed": false
   },
   "outputs": [
    {
     "name": "stdout",
     "output_type": "stream",
     "text": [
      "**************************** Models ****************************\n",
      "\n",
      "[Reading url 1/6]: http://thredds.aoos.org/thredds/dodsC/G1_SST_GLOBAL.nc\n",
      "\n",
      "[Reading url 2/6]: http://www.smast.umassd.edu:8080/thredds/dodsC/FVCOM/NECOFS/Forecasts/NECOFS_FVCOM_OCEAN_MASSBAY_FORECAST.nc\n",
      "\n",
      "[Reading url 3/6]: http://www.smast.umassd.edu:8080/thredds/dodsC/FVCOM/NECOFS/Forecasts/NECOFS_GOM3_FORECAST.nc\n",
      "\n",
      "[Reading url 4/6]: http://oos.soest.hawaii.edu/thredds/dodsC/hioos/model/atm/ncep_global/NCEP_Global_Atmospheric_Model_best.ncd\n",
      "Cannot get cube for: http://oos.soest.hawaii.edu/thredds/dodsC/hioos/model/atm/ncep_global/NCEP_Global_Atmospheric_Model_best.ncd\n",
      "Cannot find ['sea_water_temperature', 'sea_surface_temperature', 'sea_water_potential_temperature', 'equivalent_potential_temperature', 'sea_water_conservative_temperature', 'pseudo_equivalent_potential_temperature'] in http://oos.soest.hawaii.edu/thredds/dodsC/hioos/model/atm/ncep_global/NCEP_Global_Atmospheric_Model_best.ncd.\n",
      "\n",
      "[Reading url 5/6]: http://oos.soest.hawaii.edu/thredds/dodsC/pacioos/hycom/global\n",
      "\n",
      "[Reading url 6/6]: http://geoport-dev.whoi.edu/thredds/dodsC/coawst_4/use/fmrc/coawst_4_use_best.ncd\n"
     ]
    }
   ],
   "source": [
    "from iris.exceptions import (CoordinateNotFoundError, ConstraintMismatchError,\n",
    "                             MergeError)\n",
    "from ioos_tools.ioos import get_model_name\n",
    "from ioos_tools.tardis import quick_load_cubes, proc_cube, is_model, get_surface\n",
    "\n",
    "print(fmt(' Models '))\n",
    "cubes = dict()\n",
    "for k, url in enumerate(dap_urls):\n",
    "    print('\\n[Reading url {}/{}]: {}'.format(k+1, len(dap_urls), url))\n",
    "    try:\n",
    "        cube = quick_load_cubes(url, config['cf_names'],\n",
    "                                callback=None, strict=True)\n",
    "        if is_model(cube):\n",
    "            cube = proc_cube(cube,\n",
    "                             bbox=config['region']['bbox'],\n",
    "                             time=(config['date']['start'],\n",
    "                                   config['date']['stop']),\n",
    "                             units=config['units'])\n",
    "        else:\n",
    "            print(\"[Not model data]: {}\".format(url))\n",
    "            continue\n",
    "        cube = get_surface(cube)\n",
    "        mod_name = get_model_name(url)\n",
    "        cubes.update({mod_name: cube})\n",
    "    except (RuntimeError, ValueError,\n",
    "            ConstraintMismatchError, CoordinateNotFoundError,\n",
    "            IndexError) as e:\n",
    "        print('Cannot get cube for: {}\\n{}'.format(url, e))"
   ]
  },
  {
   "cell_type": "markdown",
   "metadata": {},
   "source": [
    "Next, we will match them with the nearest observed time-series. The `max_dist=0.08` is in degrees, that is roughly 8 kilometers."
   ]
  },
  {
   "cell_type": "code",
   "execution_count": 14,
   "metadata": {
    "collapsed": false
   },
   "outputs": [
    {
     "name": "stdout",
     "output_type": "stream",
     "text": [
      " Downloading to file /home/filipe/IOOS/notebooks_demos/notebooks/latest/Forecasts-NECOFS_FVCOM_OCEAN_MASSBAY_FORECAST.nc \n",
      "[Water  ] BOSTON 16 NM East of Boston, MA\n",
      "[Water  ] Buoy A0102 - Mass. Bay/Stellwagen\n",
      "[Water  ] Boston, MA\n",
      "Finished processing [Forecasts-NECOFS_FVCOM_OCEAN_MASSBAY_FORECAST]\n",
      " Downloading to file /home/filipe/IOOS/notebooks_demos/notebooks/latest/pacioos_hycom-global.nc \n",
      "[Water  ] BOSTON 16 NM East of Boston, MA\n",
      "[Water  ] Buoy A0102 - Mass. Bay/Stellwagen\n",
      "[Land   ] Boston, MA\n",
      "Finished processing [pacioos_hycom-global]\n",
      " Downloading to file /home/filipe/IOOS/notebooks_demos/notebooks/latest/fmrc-coawst_4_use_best.nc \n",
      "[Water  ] BOSTON 16 NM East of Boston, MA\n",
      "[Water  ] Buoy A0102 - Mass. Bay/Stellwagen\n",
      "[Water  ] Boston, MA\n",
      "Finished processing [fmrc-coawst_4_use_best]\n",
      " Downloading to file /home/filipe/IOOS/notebooks_demos/notebooks/latest/G1_SST_GLOBAL.nc \n",
      "[Water  ] BOSTON 16 NM East of Boston, MA\n",
      "[Water  ] Buoy A0102 - Mass. Bay/Stellwagen\n",
      "[Water  ] Boston, MA\n",
      "Finished processing [G1_SST_GLOBAL]\n",
      " Downloading to file /home/filipe/IOOS/notebooks_demos/notebooks/latest/FVCOM_Forecasts-NECOFS_GOM3_FORECAST.nc \n",
      "[Water  ] BOSTON 16 NM East of Boston, MA\n",
      "[Water  ] Buoy A0102 - Mass. Bay/Stellwagen\n",
      "[Water  ] Boston, MA\n",
      "Finished processing [FVCOM_Forecasts-NECOFS_GOM3_FORECAST]\n"
     ]
    }
   ],
   "source": [
    "import iris\n",
    "from iris.pandas import as_series\n",
    "from ioos_tools.tardis import (make_tree, get_nearest_water,\n",
    "                               add_station, ensure_timeseries, remove_ssh)\n",
    "\n",
    "for mod_name, cube in cubes.items():\n",
    "    fname = '{}.nc'.format(mod_name)\n",
    "    fname = os.path.join(save_dir, fname)\n",
    "    print(fmt(' Downloading to file {} '.format(fname)))\n",
    "    try:\n",
    "        tree, lon, lat = make_tree(cube)\n",
    "    except CoordinateNotFoundError as e:\n",
    "        print('Cannot make KDTree for: {}'.format(mod_name))\n",
    "        continue\n",
    "    # Get model series at observed locations.\n",
    "    raw_series = dict()\n",
    "    for obs in observations:\n",
    "        obs = obs._metadata\n",
    "        station = obs['station_code']\n",
    "        try:\n",
    "            kw = dict(k=10, max_dist=0.08, min_var=0.01)\n",
    "            args = cube, tree, obs['lon'], obs['lat']\n",
    "            try:\n",
    "                series, dist, idx = get_nearest_water(*args, **kw)\n",
    "            except RuntimeError as e:\n",
    "                print('Cannot download {!r}.\\n{}'.format(cube, e))\n",
    "                series = None\n",
    "        except ValueError as e:\n",
    "            status = \"No Data\"\n",
    "            print('[{}] {}'.format(status, obs['station_name']))\n",
    "            continue\n",
    "        if not series:\n",
    "            status = \"Land   \"\n",
    "        else:\n",
    "            raw_series.update({station: series})\n",
    "            series = as_series(series)\n",
    "            status = \"Water  \"\n",
    "        print('[{}] {}'.format(status, obs['station_name']))\n",
    "    if raw_series:  # Save cube.\n",
    "        for station, cube in raw_series.items():\n",
    "            cube = add_station(cube, station)\n",
    "            cube = remove_ssh(cube)\n",
    "        try:\n",
    "            cube = iris.cube.CubeList(raw_series.values()).merge_cube()\n",
    "        except MergeError as e:\n",
    "            print(e)\n",
    "        ensure_timeseries(cube)\n",
    "        iris.save(cube, fname)\n",
    "        del cube\n",
    "    print('Finished processing [{}]'.format(mod_name))"
   ]
  },
  {
   "cell_type": "markdown",
   "metadata": {},
   "source": [
    "Now it is possible to compute some simple comparison metrics. First we'll calculate the model mean bias:\n",
    "\n",
    "$$ \\text{MB} = \\mathbf{\\overline{m}} - \\mathbf{\\overline{o}}$$"
   ]
  },
  {
   "cell_type": "code",
   "execution_count": 15,
   "metadata": {
    "collapsed": true
   },
   "outputs": [],
   "source": [
    "from ioos_tools.ioos import stations_keys\n",
    "\n",
    "\n",
    "def rename_cols(df, config):\n",
    "    cols = stations_keys(config, key='station_name')\n",
    "    return df.rename(columns=cols)"
   ]
  },
  {
   "cell_type": "code",
   "execution_count": 16,
   "metadata": {
    "collapsed": true
   },
   "outputs": [],
   "source": [
    "from ioos_tools.ioos import to_html, load_ncs\n",
    "from ioos_tools.skill_score import mean_bias, apply_skill\n",
    "\n",
    "dfs = load_ncs(config)\n",
    "\n",
    "df = apply_skill(dfs, mean_bias, remove_mean=False, filter_tides=False)\n",
    "skill_score = dict(mean_bias=df.to_dict())\n",
    "\n",
    "# Filter out stations with no valid comparison.\n",
    "df.dropna(how='all', axis=1, inplace=True)\n",
    "df = df.applymap('{:.2f}'.format).replace('nan', '--')"
   ]
  },
  {
   "cell_type": "markdown",
   "metadata": {},
   "source": [
    "And the root mean squared rrror of the deviations from the mean:\n",
    "$$ \\text{CRMS} = \\sqrt{\\left(\\mathbf{m'} - \\mathbf{o'}\\right)^2}$$\n",
    "\n",
    "where: $\\mathbf{m'} = \\mathbf{m} - \\mathbf{\\overline{m}}$ and $\\mathbf{o'} = \\mathbf{o} - \\mathbf{\\overline{o}}$"
   ]
  },
  {
   "cell_type": "code",
   "execution_count": 17,
   "metadata": {
    "collapsed": true
   },
   "outputs": [],
   "source": [
    "from ioos_tools.skill_score import rmse\n",
    "\n",
    "dfs = load_ncs(config)\n",
    "\n",
    "df = apply_skill(dfs, rmse, remove_mean=True, filter_tides=False)\n",
    "skill_score['rmse'] = df.to_dict()\n",
    "\n",
    "# Filter out stations with no valid comparison.\n",
    "df.dropna(how='all', axis=1, inplace=True)\n",
    "df = df.applymap('{:.2f}'.format).replace('nan', '--')"
   ]
  },
  {
   "cell_type": "markdown",
   "metadata": {},
   "source": [
    "The next 2 cells make the scores \"pretty\" for plotting."
   ]
  },
  {
   "cell_type": "code",
   "execution_count": 18,
   "metadata": {
    "collapsed": false
   },
   "outputs": [],
   "source": [
    "import pandas as pd\n",
    "\n",
    "# Stringfy keys.\n",
    "for key in skill_score.keys():\n",
    "    skill_score[key] = {str(k): v for k, v in skill_score[key].items()}\n",
    "\n",
    "mean_bias = pd.DataFrame.from_dict(skill_score['mean_bias'])\n",
    "mean_bias = mean_bias.applymap('{:.2f}'.format).replace('nan', '--')\n",
    "\n",
    "skill_score = pd.DataFrame.from_dict(skill_score['rmse'])\n",
    "skill_score = skill_score.applymap('{:.2f}'.format).replace('nan', '--')"
   ]
  },
  {
   "cell_type": "code",
   "execution_count": 19,
   "metadata": {
    "collapsed": true
   },
   "outputs": [],
   "source": [
    "from ioos_tools.ioos import make_map\n",
    "\n",
    "bbox = config['region']['bbox']\n",
    "units = config['units']\n",
    "run_name = config['run_name']\n",
    "\n",
    "kw = dict(zoom_start=11, line=True, states=False,\n",
    "          secoora_stations=False, layers=False)\n",
    "mapa = make_map(bbox, **kw)"
   ]
  },
  {
   "cell_type": "markdown",
   "metadata": {},
   "source": [
    "The cells from `[20]` to `[25]` create a [`folium`](https://github.com/python-visualization/folium) map with [`bokeh`](http://bokeh.pydata.org/en/latest/) for the time-series at the observed points.\n",
    "\n",
    "Note that we did mark the nearest model cell location used in the comparison."
   ]
  },
  {
   "cell_type": "code",
   "execution_count": 20,
   "metadata": {
    "collapsed": false
   },
   "outputs": [
    {
     "data": {
      "text/plain": [
       "<folium.plugins.marker_cluster.MarkerCluster at 0x7f0a29e629b0>"
      ]
     },
     "execution_count": 20,
     "metadata": {},
     "output_type": "execute_result"
    }
   ],
   "source": [
    "all_obs = stations_keys(config)\n",
    "\n",
    "from glob import glob\n",
    "from operator import itemgetter\n",
    "\n",
    "import iris\n",
    "import folium\n",
    "from folium.plugins import MarkerCluster\n",
    "\n",
    "iris.FUTURE.netcdf_promote = True\n",
    "\n",
    "big_list = []\n",
    "for fname in glob(os.path.join(save_dir, \"*.nc\")):\n",
    "    if 'OBS_DATA' in fname:\n",
    "        continue\n",
    "    cube = iris.load_cube(fname)\n",
    "    model = os.path.split(fname)[1].split('-')[-1].split('.')[0]\n",
    "    lons = cube.coord(axis='X').points\n",
    "    lats = cube.coord(axis='Y').points\n",
    "    stations = cube.coord('station_code').points\n",
    "    models = [model]*lons.size\n",
    "    lista = zip(models, lons.tolist(), lats.tolist(), stations.tolist())\n",
    "    big_list.extend(lista)\n",
    "\n",
    "big_list.sort(key=itemgetter(3))\n",
    "df = pd.DataFrame(big_list, columns=['name', 'lon', 'lat', 'station'])\n",
    "df.set_index('station', drop=True, inplace=True)\n",
    "groups = df.groupby(df.index)\n",
    "\n",
    "\n",
    "locations, popups = [], []\n",
    "for station, info in groups:\n",
    "    sta_name = all_obs[station]\n",
    "    for lat, lon, name in zip(info.lat, info.lon, info.name):\n",
    "        locations.append([lat, lon])\n",
    "        popups.append('[{}]: {}'.format(name, sta_name))\n",
    "\n",
    "MarkerCluster(locations=locations, popups=popups).add_to(mapa)"
   ]
  },
  {
   "cell_type": "markdown",
   "metadata": {},
   "source": [
    "Here we use a dictionary with some models we expect to find so we can create a better legend for the plots. If any new models are found, we will use its filename in the legend as a default until we can go back and add a short name to our library."
   ]
  },
  {
   "cell_type": "code",
   "execution_count": 21,
   "metadata": {
    "collapsed": true
   },
   "outputs": [],
   "source": [
    "titles = {\n",
    "    'coawst_4_use_best': 'COAWST_4',\n",
    "    'global': 'HYCOM',\n",
    "    'NECOFS_GOM3_FORECAST': 'NECOFS_GOM3',\n",
    "    'NECOFS_FVCOM_OCEAN_MASSBAY_FORECAST': 'NECOFS_MassBay',\n",
    "    'OBS_DATA': 'Observations'\n",
    "}"
   ]
  },
  {
   "cell_type": "code",
   "execution_count": 22,
   "metadata": {
    "collapsed": true
   },
   "outputs": [],
   "source": [
    "from bokeh.resources import CDN\n",
    "from bokeh.plotting import figure\n",
    "from bokeh.embed import file_html\n",
    "from bokeh.models import HoverTool\n",
    "from itertools import cycle\n",
    "from bokeh.palettes import Spectral6\n",
    "\n",
    "from folium.element import IFrame\n",
    "\n",
    "# Plot defaults.\n",
    "colors = Spectral6\n",
    "colorcycler = cycle(colors)\n",
    "tools = \"pan,box_zoom,reset\"\n",
    "width, height = 750, 250\n",
    "\n",
    "\n",
    "def make_plot(df, station):\n",
    "    p = figure(toolbar_location=\"above\",\n",
    "               x_axis_type=\"datetime\",\n",
    "               width=width,\n",
    "               height=height,\n",
    "               tools=tools,\n",
    "               title=str(station))\n",
    "    for column, series in df.iteritems():\n",
    "        series.dropna(inplace=True)\n",
    "        if not series.empty:\n",
    "            line = p.line(\n",
    "                x=series.index,\n",
    "                y=series.values,\n",
    "                legend=\"%s\" % titles.get(column, column),\n",
    "                line_color=next(colorcycler),\n",
    "                line_width=5,\n",
    "                line_cap='round',\n",
    "                line_join='round'\n",
    "            )\n",
    "            if 'OBS_DATA' not in column:\n",
    "                bias = mean_bias[str(station)][column]\n",
    "                skill = skill_score[str(station)][column]\n",
    "            else:\n",
    "                skill = bias = 'NA'\n",
    "            p.add_tools(HoverTool(tooltips=[(\"Name\", \"%s\" % column),\n",
    "                                            (\"Bias\", bias),\n",
    "                                            (\"Skill\", skill)],\n",
    "                                  renderers=[line]))\n",
    "    return p\n",
    "\n",
    "\n",
    "def make_marker(p, station):\n",
    "    lons = stations_keys(config, key='lon')\n",
    "    lats = stations_keys(config, key='lat')\n",
    "\n",
    "    lon, lat = lons[station], lats[station]\n",
    "    html = file_html(p, CDN, station)\n",
    "    iframe = IFrame(html, width=width+40, height=height+80)\n",
    "\n",
    "    popup = folium.Popup(iframe, max_width=2650)\n",
    "    icon = folium.Icon(color='green', icon='stats')\n",
    "    marker = folium.Marker(location=[lat, lon],\n",
    "                           popup=popup,\n",
    "                           icon=icon)\n",
    "    return marker"
   ]
  },
  {
   "cell_type": "code",
   "execution_count": 23,
   "metadata": {
    "collapsed": false
   },
   "outputs": [
    {
     "data": {
      "text/html": [
       "<div style=\"width:100%;\"><div style=\"position:relative;width:100%;height:0;padding-bottom:60%;\"><iframe src=\"data:text/html;base64,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\" style=\"position:absolute;width:100%;height:100%;left:0;top:0;\"></iframe></div></div>"
      ],
      "text/plain": [
       "<folium.folium.Map at 0x7f0a2a1286a0>"
      ]
     },
     "execution_count": 23,
     "metadata": {},
     "output_type": "execute_result"
    }
   ],
   "source": [
    "dfs = load_ncs(config)\n",
    "\n",
    "for station in dfs:\n",
    "    sta_name = all_obs[station]\n",
    "    df = dfs[station]\n",
    "    if df.empty:\n",
    "        continue\n",
    "    p = make_plot(df, station)\n",
    "    maker = make_marker(p, station)\n",
    "    maker.add_to(mapa)\n",
    "\n",
    "mapa"
   ]
  },
  {
   "cell_type": "markdown",
   "metadata": {},
   "source": [
    "Now we can navigate the map and click on the markers to explorer our findings.\n",
    "\n",
    "The green markers locate the observations locations. They pop-up an interactive plot with the time-series and scores for the models (hover over the lines to se the scores). The blue markers indicate the nearest model grid point found for the comparison."
   ]
  },
  {
   "cell_type": "markdown",
   "metadata": {},
   "source": [
    "<br>\n",
    "Right click and choose Save link as... to\n",
    "[download](https://raw.githubusercontent.com/ioos/notebooks_demos/master/notebooks/2016-12-22-boston_light_swim.ipynb)\n",
    "this notebook, or see a static view [here](http://nbviewer.ipython.org/urls/raw.githubusercontent.com/ioos/notebooks_demos/master/notebooks/2016-12-22-boston_light_swim.ipynb)."
   ]
  }
 ],
 "metadata": {
  "kernelspec": {
   "display_name": "Python [default]",
   "language": "python",
   "name": "python3"
  },
  "language_info": {
   "codemirror_mode": {
    "name": "ipython",
    "version": 3
   },
   "file_extension": ".py",
   "mimetype": "text/x-python",
   "name": "python",
   "nbconvert_exporter": "python",
   "pygments_lexer": "ipython3",
   "version": "3.5.2"
  }
 },
 "nbformat": 4,
 "nbformat_minor": 0
}
