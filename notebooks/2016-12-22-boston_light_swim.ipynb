{
 "cells": [
  {
   "cell_type": "markdown",
   "metadata": {
    "deletable": true,
    "editable": true
   },
   "source": [
    "# The Boston Light Swim temperature analysis with Python\n",
    "\n",
    "In the past we demonstrated how to perform a CSW catalog search with [`OWSLib`](https://ioos.github.io/notebooks_demos//notebooks/2016-12-19-exploring_csw),\n",
    "and how to obtain near real-time data with [`pyoos`](https://ioos.github.io/notebooks_demos//notebooks/2016-10-12-fetching_data).\n",
    "In this notebook we will use both to find all observations and model data around the Boston Harbor to access the sea water temperature.\n",
    "\n",
    "\n",
    "This workflow is part of an example to advise swimmers of the annual [Boston lighthouse swim](http://bostonlightswim.org/) of the Boston Harbor water temperature conditions prior to the race. For more information regarding the workflow presented here see [Signell, Richard P.; Fernandes, Filipe; Wilcox, Kyle.   2016. \"Dynamic Reusable Workflows for Ocean Science.\" *J. Mar. Sci. Eng.* 4, no. 4: 68](http://dx.doi.org/10.3390/jmse4040068)."
   ]
  },
  {
   "cell_type": "code",
   "execution_count": 1,
   "metadata": {
    "collapsed": false,
    "deletable": true,
    "editable": true
   },
   "outputs": [],
   "source": [
    "import os\n",
    "import sys\n",
    "import warnings\n",
    "\n",
    "ioos_tools = os.path.join(os.path.pardir)\n",
    "sys.path.append(ioos_tools)\n",
    "\n",
    "# Suppresing warnings for a \"pretty output.\"\n",
    "warnings.simplefilter(\"ignore\")"
   ]
  },
  {
   "cell_type": "markdown",
   "metadata": {
    "deletable": true,
    "editable": true
   },
   "source": [
    "This notebook is quite big and complex,\n",
    "so to help us keep things organized we'll define a cell with the most important options and switches.\n",
    "\n",
    "Below we can define the date,\n",
    "bounding box, phenomena `SOS` and `CF` names and units,\n",
    "and the catalogs we will search."
   ]
  },
  {
   "cell_type": "code",
   "execution_count": 2,
   "metadata": {
    "collapsed": false,
    "deletable": true,
    "editable": true
   },
   "outputs": [
    {
     "name": "stdout",
     "output_type": "stream",
     "text": [
      "Writing config.yaml\n"
     ]
    }
   ],
   "source": [
    "%%writefile config.yaml\n",
    "\n",
    "# Specify a YYYY-MM-DD hh:mm:ss date or integer day offset.\n",
    "# If both start and stop are offsets they will be computed relative to datetime.today() at midnight.\n",
    "# Use the dates commented below to reproduce the last Boston Light Swim event forecast.\n",
    "date:\n",
    "    start: -5 # 2016-8-16 00:00:00\n",
    "    stop: +4 # 2016-8-29 00:00:00\n",
    "\n",
    "run_name: 'latest'\n",
    "\n",
    "# Boston harbor.\n",
    "region:\n",
    "    bbox: [-71.3, 42.03, -70.57, 42.63]\n",
    "    crs: 'urn:ogc:def:crs:OGC:1.3:CRS84'\n",
    "\n",
    "sos_name: 'sea_water_temperature'\n",
    "\n",
    "cf_names:\n",
    "    - sea_water_temperature\n",
    "    - sea_surface_temperature\n",
    "    - sea_water_potential_temperature\n",
    "    - equivalent_potential_temperature\n",
    "    - sea_water_conservative_temperature\n",
    "    - pseudo_equivalent_potential_temperature\n",
    "\n",
    "units: 'celsius'\n",
    "\n",
    "catalogs:\n",
    "    - https://data.ioos.us/csw\n",
    "    - http://gamone.whoi.edu/csw"
   ]
  },
  {
   "cell_type": "markdown",
   "metadata": {
    "deletable": true,
    "editable": true
   },
   "source": [
    "We'll print some of the search configuration options along the way to keep track of them."
   ]
  },
  {
   "cell_type": "code",
   "execution_count": 3,
   "metadata": {
    "collapsed": false,
    "deletable": true,
    "editable": true
   },
   "outputs": [
    {
     "name": "stdout",
     "output_type": "stream",
     "text": [
      "Saving data inside directory /home/filipe/IOOS/notebooks_demos/notebooks/latest\n",
      "*********************** Run information ************************\n",
      "Run date: 2017-02-19 11:21:54\n",
      "Start: 2017-02-14 00:00:00\n",
      "Stop: 2017-02-23 00:00:00\n",
      "Bounding box: -71.30, 42.03,-70.57, 42.63\n"
     ]
    }
   ],
   "source": [
    "import shutil\n",
    "from datetime import datetime\n",
    "from ioos_tools.ioos import parse_config\n",
    "\n",
    "config = parse_config('config.yaml')\n",
    "\n",
    "# Saves downloaded data into a temporary directory.\n",
    "save_dir = os.path.abspath(config['run_name'])\n",
    "if os.path.exists(save_dir):\n",
    "    shutil.rmtree(save_dir)\n",
    "os.makedirs(save_dir)\n",
    "\n",
    "fmt = '{:*^64}'.format\n",
    "print(fmt('Saving data inside directory {}'.format(save_dir)))\n",
    "print(fmt(' Run information '))\n",
    "print('Run date: {:%Y-%m-%d %H:%M:%S}'.format(datetime.utcnow()))\n",
    "print('Start: {:%Y-%m-%d %H:%M:%S}'.format(config['date']['start']))\n",
    "print('Stop: {:%Y-%m-%d %H:%M:%S}'.format(config['date']['stop']))\n",
    "print('Bounding box: {0:3.2f}, {1:3.2f},'\n",
    "      '{2:3.2f}, {3:3.2f}'.format(*config['region']['bbox']))"
   ]
  },
  {
   "cell_type": "markdown",
   "metadata": {
    "deletable": true,
    "editable": true
   },
   "source": [
    "We already created an `OWSLib.fes` filter [before](https://ioos.github.io/notebooks_demos//notebooks/2016-12-19-exploring_csw).\n",
    "The main difference here is that we do not want the atmosphere model data,\n",
    "so we are filtering out all the `GRIB-2` data format."
   ]
  },
  {
   "cell_type": "code",
   "execution_count": 4,
   "metadata": {
    "collapsed": false,
    "deletable": true,
    "editable": true
   },
   "outputs": [],
   "source": [
    "def make_filter(config):\n",
    "    from owslib import fes\n",
    "    from ioos_tools.ioos import fes_date_filter\n",
    "    kw = dict(wildCard='*', escapeChar='\\\\',\n",
    "              singleChar='?', propertyname='apiso:AnyText')\n",
    "\n",
    "    or_filt = fes.Or([fes.PropertyIsLike(literal=('*%s*' % val), **kw)\n",
    "                      for val in config['cf_names']])\n",
    "\n",
    "    not_filt = fes.Not([fes.PropertyIsLike(literal='GRIB-2', **kw)])\n",
    "\n",
    "    begin, end = fes_date_filter(config['date']['start'],\n",
    "                                 config['date']['stop'])\n",
    "    bbox_crs = fes.BBox(config['region']['bbox'],\n",
    "                        crs=config['region']['crs'])\n",
    "    filter_list = [fes.And([bbox_crs, begin, end, or_filt, not_filt])]\n",
    "    return filter_list\n",
    "\n",
    "\n",
    "filter_list = make_filter(config)"
   ]
  },
  {
   "cell_type": "markdown",
   "metadata": {
    "deletable": true,
    "editable": true
   },
   "source": [
    "In the cell below we ask the catalog for all the returns that match the filter and have an OPeNDAP endpoint."
   ]
  },
  {
   "cell_type": "code",
   "execution_count": 5,
   "metadata": {
    "code_folding": [],
    "collapsed": false,
    "deletable": true,
    "editable": true
   },
   "outputs": [
    {
     "name": "stdout",
     "output_type": "stream",
     "text": [
      "********************* Catalog information **********************\n",
      "URL: https://data.ioos.us/csw\n",
      "Number of datasets available: 6\n",
      "Coupled Northwest Atlantic Prediction System (CNAPS)\n",
      "HYbrid Coordinate Ocean Model (HYCOM): Global\n",
      "NECOFS GOM3 (FVCOM) - Northeast US - Latest Forecast\n",
      "NECOFS Massachusetts (FVCOM) - Massachusetts Coastal - Latest Forecast\n",
      "NOAA/NCEP Global Forecast System (GFS) Atmospheric Model\n",
      "USEAST\n",
      "***************************** DAP ******************************\n",
      "http://oos.soest.hawaii.edu/thredds/dodsC/hioos/model/atm/ncep_global/NCEP_Global_Atmospheric_Model_best.ncd.html\n",
      "http://oos.soest.hawaii.edu/thredds/dodsC/pacioos/hycom/global.html\n",
      "http://thredds.secoora.org/thredds/dodsC/SECOORA_NCSU_CNAPS.nc.html\n",
      "http://www.smast.umassd.edu:8080/thredds/dodsC/FVCOM/NECOFS/Forecasts/NECOFS_FVCOM_OCEAN_MASSBAY_FORECAST.nc.html\n",
      "http://www.smast.umassd.edu:8080/thredds/dodsC/FVCOM/NECOFS/Forecasts/NECOFS_GOM3_FORECAST.nc.html\n",
      "\n",
      "\n",
      "URL: http://gamone.whoi.edu/csw\n",
      "Number of datasets available: 1\n",
      "USEAST\n",
      "\n",
      "\n"
     ]
    }
   ],
   "source": [
    "from ioos_tools.ioos import service_urls, get_csw_records\n",
    "from owslib.csw import CatalogueServiceWeb\n",
    "\n",
    "\n",
    "dap_urls = []\n",
    "print(fmt(' Catalog information '))\n",
    "for endpoint in config['catalogs']:\n",
    "    print(\"URL: {}\".format(endpoint))\n",
    "\n",
    "    csw = CatalogueServiceWeb(endpoint, timeout=120)\n",
    "    csw = get_csw_records(csw, filter_list, esn='full')\n",
    "    OPeNDAP = service_urls(csw.records, identifier='OPeNDAP:OPeNDAP')\n",
    "    odp = service_urls(csw.records, identifier='urn:x-esri:specification:ServiceType:odp:url')\n",
    "    dap = OPeNDAP + odp\n",
    "    dap_urls.extend(dap)\n",
    "\n",
    "    print(\"Number of datasets available: {}\".format(len(csw.records.keys())))\n",
    "\n",
    "    for rec, item in csw.records.items():\n",
    "        print('{}'.format(item.title))\n",
    "    if dap:\n",
    "        print(fmt(' DAP '))\n",
    "        for url in dap:\n",
    "            print('{}.html'.format(url))\n",
    "    print('\\n')\n",
    "\n",
    "# Get only unique endpoints.\n",
    "dap_urls = list(set(dap_urls))"
   ]
  },
  {
   "cell_type": "markdown",
   "metadata": {
    "deletable": true,
    "editable": true
   },
   "source": [
    "We found some models, and observations from NERACOOS there.\n",
    "However, we do know that there are some buoys from NDBC and CO-OPS available too.\n",
    "Also, those NERACOOS observations seem to be from a [CTD](http://www.neracoos.org/thredds/dodsC/UMO/DSG/SOS/A01/CTD1m/HistoricRealtime/Agg.ncml.html) mounted at 65 meters below the sea surface. Rendering them useless from our purpose.\n",
    "\n",
    "So let's use the catalog only for the models by filtering the observations with `is_station` below.\n",
    "And we'll rely `CO-OPS` and `NDBC` services for the observations."
   ]
  },
  {
   "cell_type": "code",
   "execution_count": 6,
   "metadata": {
    "collapsed": false,
    "deletable": true,
    "editable": true
   },
   "outputs": [
    {
     "name": "stdout",
     "output_type": "stream",
     "text": [
      "************************* Filtered DAP *************************\n",
      "http://www.smast.umassd.edu:8080/thredds/dodsC/FVCOM/NECOFS/Forecasts/NECOFS_GOM3_FORECAST.nc.html\n",
      "http://oos.soest.hawaii.edu/thredds/dodsC/pacioos/hycom/global.html\n",
      "http://www.smast.umassd.edu:8080/thredds/dodsC/FVCOM/NECOFS/Forecasts/NECOFS_FVCOM_OCEAN_MASSBAY_FORECAST.nc.html\n",
      "http://thredds.secoora.org/thredds/dodsC/SECOORA_NCSU_CNAPS.nc.html\n",
      "http://oos.soest.hawaii.edu/thredds/dodsC/hioos/model/atm/ncep_global/NCEP_Global_Atmospheric_Model_best.ncd.html\n"
     ]
    }
   ],
   "source": [
    "from ioos_tools.ioos import is_station\n",
    "\n",
    "# Filter out some station endpoints.\n",
    "non_stations = []\n",
    "for url in dap_urls:\n",
    "    try:\n",
    "        if not is_station(url):\n",
    "            non_stations.append(url)\n",
    "    except (RuntimeError, OSError, IOError) as e:\n",
    "        print(\"Could not access URL {}. {!r}\".format(url, e))\n",
    "\n",
    "dap_urls = non_stations\n",
    "\n",
    "print(fmt(' Filtered DAP '))\n",
    "for url in dap_urls:\n",
    "    print('{}.html'.format(url))"
   ]
  },
  {
   "cell_type": "markdown",
   "metadata": {
    "deletable": true,
    "editable": true
   },
   "source": [
    "Now we can use `pyoos` collectors for `NdbcSos`,"
   ]
  },
  {
   "cell_type": "code",
   "execution_count": 7,
   "metadata": {
    "collapsed": false,
    "deletable": true,
    "editable": true
   },
   "outputs": [
    {
     "name": "stdout",
     "output_type": "stream",
     "text": [
      "******************* NDBC Collector offerings *******************\n",
      "National Data Buoy Center SOS: 979 offerings\n"
     ]
    }
   ],
   "source": [
    "from pyoos.collectors.ndbc.ndbc_sos import NdbcSos\n",
    "\n",
    "collector_ndbc = NdbcSos()\n",
    "\n",
    "collector_ndbc.set_bbox(config['region']['bbox'])\n",
    "collector_ndbc.end_time = config['date']['stop']\n",
    "collector_ndbc.start_time = config['date']['start']\n",
    "collector_ndbc.variables = [config['sos_name']]\n",
    "\n",
    "ofrs = collector_ndbc.server.offerings\n",
    "title = collector_ndbc.server.identification.title\n",
    "print(fmt(' NDBC Collector offerings '))\n",
    "print('{}: {} offerings'.format(title, len(ofrs)))"
   ]
  },
  {
   "cell_type": "code",
   "execution_count": 8,
   "metadata": {
    "collapsed": false,
    "deletable": true,
    "editable": true
   },
   "outputs": [
    {
     "data": {
      "text/html": [
       "<div>\n",
       "<table border=\"1\" class=\"dataframe\">\n",
       "  <thead>\n",
       "    <tr style=\"text-align: right;\">\n",
       "      <th></th>\n",
       "      <th>depth</th>\n",
       "      <th>lat</th>\n",
       "      <th>lon</th>\n",
       "      <th>sensor</th>\n",
       "      <th>station_name</th>\n",
       "    </tr>\n",
       "    <tr>\n",
       "      <th>station_code</th>\n",
       "      <th></th>\n",
       "      <th></th>\n",
       "      <th></th>\n",
       "      <th></th>\n",
       "      <th></th>\n",
       "    </tr>\n",
       "  </thead>\n",
       "  <tbody>\n",
       "    <tr>\n",
       "      <th>44013</th>\n",
       "      <td>0.6</td>\n",
       "      <td>42.346</td>\n",
       "      <td>-70.651</td>\n",
       "      <td>urn:ioos:sensor:wmo:44013::watertemp1</td>\n",
       "      <td>BOSTON 16 NM East of Boston, MA</td>\n",
       "    </tr>\n",
       "  </tbody>\n",
       "</table>\n",
       "</div>"
      ],
      "text/plain": [
       "              depth     lat     lon                                 sensor  \\\n",
       "station_code                                                                 \n",
       "44013           0.6  42.346 -70.651  urn:ioos:sensor:wmo:44013::watertemp1   \n",
       "\n",
       "                                 station_name  \n",
       "station_code                                   \n",
       "44013         BOSTON 16 NM East of Boston, MA  "
      ]
     },
     "execution_count": 8,
     "metadata": {},
     "output_type": "execute_result"
    }
   ],
   "source": [
    "import pandas as pd\n",
    "from ioos_tools.ioos import collector2table\n",
    "\n",
    "ndbc = collector2table(collector=collector_ndbc,\n",
    "                       config=config,\n",
    "                       col='sea_water_temperature (C)')\n",
    "\n",
    "if ndbc:\n",
    "    data = dict(\n",
    "        station_name=[s._metadata.get('station_name') for s in ndbc],\n",
    "        station_code=[s._metadata.get('station_code') for s in ndbc],\n",
    "        sensor=[s._metadata.get('sensor') for s in ndbc],\n",
    "        lon=[s._metadata.get('lon') for s in ndbc],\n",
    "        lat=[s._metadata.get('lat') for s in ndbc],\n",
    "        depth=[s._metadata.get('depth') for s in ndbc],\n",
    "    )\n",
    "\n",
    "table = pd.DataFrame(data).set_index('station_code')\n",
    "table"
   ]
  },
  {
   "cell_type": "markdown",
   "metadata": {
    "deletable": true,
    "editable": true
   },
   "source": [
    "and `CoopsSos`."
   ]
  },
  {
   "cell_type": "code",
   "execution_count": 9,
   "metadata": {
    "collapsed": false,
    "deletable": true,
    "editable": true
   },
   "outputs": [
    {
     "name": "stdout",
     "output_type": "stream",
     "text": [
      "********************* Collector offerings **********************\n",
      "NOAA.NOS.CO-OPS SOS: 1118 offerings\n"
     ]
    }
   ],
   "source": [
    "from pyoos.collectors.coops.coops_sos import CoopsSos\n",
    "\n",
    "collector_coops = CoopsSos()\n",
    "\n",
    "collector_coops.set_bbox(config['region']['bbox'])\n",
    "collector_coops.end_time = config['date']['stop']\n",
    "collector_coops.start_time = config['date']['start']\n",
    "collector_coops.variables = [config['sos_name']]\n",
    "\n",
    "ofrs = collector_coops.server.offerings\n",
    "title = collector_coops.server.identification.title\n",
    "print(fmt(' Collector offerings '))\n",
    "print('{}: {} offerings'.format(title, len(ofrs)))"
   ]
  },
  {
   "cell_type": "code",
   "execution_count": 10,
   "metadata": {
    "collapsed": false,
    "deletable": true,
    "editable": true,
    "scrolled": true
   },
   "outputs": [
    {
     "data": {
      "text/html": [
       "<div>\n",
       "<table border=\"1\" class=\"dataframe\">\n",
       "  <thead>\n",
       "    <tr style=\"text-align: right;\">\n",
       "      <th></th>\n",
       "      <th>depth</th>\n",
       "      <th>lat</th>\n",
       "      <th>lon</th>\n",
       "      <th>sensor</th>\n",
       "      <th>station_name</th>\n",
       "    </tr>\n",
       "    <tr>\n",
       "      <th>station_code</th>\n",
       "      <th></th>\n",
       "      <th></th>\n",
       "      <th></th>\n",
       "      <th></th>\n",
       "      <th></th>\n",
       "    </tr>\n",
       "  </thead>\n",
       "  <tbody>\n",
       "    <tr>\n",
       "      <th>8443970</th>\n",
       "      <td>None</td>\n",
       "      <td>42.3548</td>\n",
       "      <td>-71.0534</td>\n",
       "      <td>urn:ioos:sensor:NOAA.NOS.CO-OPS:8443970:E1</td>\n",
       "      <td>Boston, MA</td>\n",
       "    </tr>\n",
       "  </tbody>\n",
       "</table>\n",
       "</div>"
      ],
      "text/plain": [
       "             depth      lat      lon  \\\n",
       "station_code                           \n",
       "8443970       None  42.3548 -71.0534   \n",
       "\n",
       "                                                  sensor station_name  \n",
       "station_code                                                           \n",
       "8443970       urn:ioos:sensor:NOAA.NOS.CO-OPS:8443970:E1   Boston, MA  "
      ]
     },
     "execution_count": 10,
     "metadata": {},
     "output_type": "execute_result"
    }
   ],
   "source": [
    "coops = collector2table(collector=collector_coops,\n",
    "                        config=config,\n",
    "                        col='sea_water_temperature (C)')\n",
    "\n",
    "if coops:\n",
    "    data = dict(\n",
    "        station_name=[s._metadata.get('station_name') for s in coops],\n",
    "        station_code=[s._metadata.get('station_code') for s in coops],\n",
    "        sensor=[s._metadata.get('sensor') for s in coops],\n",
    "        lon=[s._metadata.get('lon') for s in coops],\n",
    "        lat=[s._metadata.get('lat') for s in coops],\n",
    "        depth=[s._metadata.get('depth') for s in coops],\n",
    "    )\n",
    "\n",
    "table = pd.DataFrame(data).set_index('station_code')\n",
    "table"
   ]
  },
  {
   "cell_type": "markdown",
   "metadata": {
    "deletable": true,
    "editable": true
   },
   "source": [
    "We will join all the observations into an uniform series, interpolated to 1-hour interval, for the model-data comparison.\n",
    "\n",
    "This step is necessary because the observations can be 7 or 10 minutes resolution,\n",
    "while the models can be 30 to 60 minutes."
   ]
  },
  {
   "cell_type": "code",
   "execution_count": 11,
   "metadata": {
    "collapsed": false,
    "deletable": true,
    "editable": true,
    "scrolled": true
   },
   "outputs": [],
   "source": [
    "data = ndbc + coops\n",
    "\n",
    "index = pd.date_range(start=config['date']['start'].replace(tzinfo=None),\n",
    "                      end=config['date']['stop'].replace(tzinfo=None),\n",
    "                      freq='1H')\n",
    "\n",
    "# Preserve metadata with `reindex`.\n",
    "observations = []\n",
    "for series in data:\n",
    "    _metadata = series._metadata\n",
    "    obs = series.reindex(index=index, limit=1, method='nearest')\n",
    "    obs._metadata = _metadata\n",
    "    observations.append(obs)"
   ]
  },
  {
   "cell_type": "markdown",
   "metadata": {
    "deletable": true,
    "editable": true
   },
   "source": [
    "In this next cell we will save the data for quicker access later."
   ]
  },
  {
   "cell_type": "code",
   "execution_count": 12,
   "metadata": {
    "collapsed": false,
    "deletable": true,
    "editable": true,
    "scrolled": false
   },
   "outputs": [],
   "source": [
    "import iris\n",
    "from ioos_tools.tardis import series2cube\n",
    "\n",
    "attr = dict(\n",
    "    featureType='timeSeries',\n",
    "    Conventions='CF-1.6',\n",
    "    standard_name_vocabulary='CF-1.6',\n",
    "    cdm_data_type=\"Station\",\n",
    "    comment=\"Data from http://opendap.co-ops.nos.noaa.gov\"\n",
    ")\n",
    "\n",
    "\n",
    "cubes = iris.cube.CubeList(\n",
    "    [series2cube(obs, attr=attr) for obs in observations]\n",
    ")\n",
    "\n",
    "outfile = os.path.join(save_dir, 'OBS_DATA.nc')\n",
    "iris.save(cubes, outfile)"
   ]
  },
  {
   "cell_type": "markdown",
   "metadata": {
    "deletable": true,
    "editable": true
   },
   "source": [
    "Now it is time to loop the models we found above,"
   ]
  },
  {
   "cell_type": "code",
   "execution_count": 13,
   "metadata": {
    "collapsed": false,
    "deletable": true,
    "editable": true
   },
   "outputs": [
    {
     "name": "stdout",
     "output_type": "stream",
     "text": [
      "**************************** Models ****************************\n",
      "\n",
      "[Reading url 1/5]: http://www.smast.umassd.edu:8080/thredds/dodsC/FVCOM/NECOFS/Forecasts/NECOFS_GOM3_FORECAST.nc\n",
      "\n",
      "[Reading url 2/5]: http://oos.soest.hawaii.edu/thredds/dodsC/pacioos/hycom/global\n",
      "Cannot get cube for: http://oos.soest.hawaii.edu/thredds/dodsC/pacioos/hycom/global\n",
      "Could not find \"time\" in (DimCoord(array([   0.,   10.,   20.,   30.,   50.,   75.,  100.,  125.,  150.,  200.]), standard_name=None, units=Unit('meters'), long_name='altitude', var_name='lev', attributes={'grads_dim': 'z', 'grads_mapping': 'levels', 'maximum': 200.0, 'minimum': 0.0, 'name': 'Depth', 'positive': 'down', 'resolution': 22.222221}), DimCoord(array([ 42.0877,  42.1471,  42.2064,  42.2656,  42.3248,  42.3839,\n",
      "        42.4429,  42.502 ,  42.5609,  42.6198]), standard_name='latitude', units=Unit('degrees'), long_name='latitude', var_name='lat', attributes={'grads_dim': 'y', 'grads_mapping': 'levels', 'grads_size': '2170', 'maximum': 46.878100000000003, 'minimum': -78.640000000000001, 'resolution': 0.05786911}), DimCoord(array([-71.27997, -71.19997, -71.11997, -71.03997, -70.95997, -70.87997,\n",
      "       -70.79997, -70.71997, -70.63997]), standard_name='longitude', units=Unit('degrees'), long_name='longitude', var_name='lon', attributes={'grads_dim': 'x', 'grads_mapping': 'linear', 'grads_size': '4500', 'maximum': 434.08003000000002, 'minimum': 74.160030000000006, 'resolution': 0.079999998}))\n",
      "\n",
      "[Reading url 3/5]: http://www.smast.umassd.edu:8080/thredds/dodsC/FVCOM/NECOFS/Forecasts/NECOFS_FVCOM_OCEAN_MASSBAY_FORECAST.nc\n",
      "\n",
      "[Reading url 4/5]: http://thredds.secoora.org/thredds/dodsC/SECOORA_NCSU_CNAPS.nc\n",
      "\n",
      "[Reading url 5/5]: http://oos.soest.hawaii.edu/thredds/dodsC/hioos/model/atm/ncep_global/NCEP_Global_Atmospheric_Model_best.ncd\n",
      "Cannot get cube for: http://oos.soest.hawaii.edu/thredds/dodsC/hioos/model/atm/ncep_global/NCEP_Global_Atmospheric_Model_best.ncd\n",
      "Cannot find ['sea_water_temperature', 'sea_surface_temperature', 'sea_water_potential_temperature', 'equivalent_potential_temperature', 'sea_water_conservative_temperature', 'pseudo_equivalent_potential_temperature'] in http://oos.soest.hawaii.edu/thredds/dodsC/hioos/model/atm/ncep_global/NCEP_Global_Atmospheric_Model_best.ncd.\n"
     ]
    }
   ],
   "source": [
    "from iris.exceptions import (CoordinateNotFoundError, ConstraintMismatchError,\n",
    "                             MergeError)\n",
    "from ioos_tools.ioos import get_model_name\n",
    "from ioos_tools.tardis import quick_load_cubes, proc_cube, is_model, get_surface\n",
    "\n",
    "print(fmt(' Models '))\n",
    "cubes = dict()\n",
    "for k, url in enumerate(dap_urls):\n",
    "    print('\\n[Reading url {}/{}]: {}'.format(k+1, len(dap_urls), url))\n",
    "    try:\n",
    "        cube = quick_load_cubes(url, config['cf_names'],\n",
    "                                callback=None, strict=True)\n",
    "        if is_model(cube):\n",
    "            cube = proc_cube(cube,\n",
    "                             bbox=config['region']['bbox'],\n",
    "                             time=(config['date']['start'],\n",
    "                                   config['date']['stop']),\n",
    "                             units=config['units'])\n",
    "        else:\n",
    "            print(\"[Not model data]: {}\".format(url))\n",
    "            continue\n",
    "        cube = get_surface(cube)\n",
    "        mod_name = get_model_name(url)\n",
    "        cubes.update({mod_name: cube})\n",
    "    except (RuntimeError, ValueError,\n",
    "            ConstraintMismatchError, CoordinateNotFoundError,\n",
    "            IndexError) as e:\n",
    "        print('Cannot get cube for: {}\\n{}'.format(url, e))"
   ]
  },
  {
   "cell_type": "markdown",
   "metadata": {
    "deletable": true,
    "editable": true
   },
   "source": [
    "Next, we will match them with the nearest observed time-series. The `max_dist=0.08` is in degrees, that is roughly 8 kilometers."
   ]
  },
  {
   "cell_type": "code",
   "execution_count": 14,
   "metadata": {
    "collapsed": false,
    "deletable": true,
    "editable": true
   },
   "outputs": [
    {
     "name": "stdout",
     "output_type": "stream",
     "text": [
      " Downloading to file /home/filipe/IOOS/notebooks_demos/notebooks/latest/FVCOM_Forecasts-NECOFS_GOM3_FORECAST.nc \n",
      "[Water  ] BOSTON 16 NM East of Boston, MA\n",
      "[Water  ] Boston, MA\n",
      "Finished processing [FVCOM_Forecasts-NECOFS_GOM3_FORECAST]\n",
      " Downloading to file /home/filipe/IOOS/notebooks_demos/notebooks/latest/Forecasts-NECOFS_FVCOM_OCEAN_MASSBAY_FORECAST.nc \n",
      "[Water  ] BOSTON 16 NM East of Boston, MA\n",
      "[Water  ] Boston, MA\n",
      "Finished processing [Forecasts-NECOFS_FVCOM_OCEAN_MASSBAY_FORECAST]\n",
      " Downloading to file /home/filipe/IOOS/notebooks_demos/notebooks/latest/SECOORA_NCSU_CNAPS.nc \n",
      "[Water  ] BOSTON 16 NM East of Boston, MA\n",
      "[Land   ] Boston, MA\n",
      "Finished processing [SECOORA_NCSU_CNAPS]\n"
     ]
    }
   ],
   "source": [
    "import iris\n",
    "from iris.pandas import as_series\n",
    "from ioos_tools.tardis import (make_tree, get_nearest_water,\n",
    "                               add_station, ensure_timeseries, remove_ssh)\n",
    "\n",
    "for mod_name, cube in cubes.items():\n",
    "    fname = '{}.nc'.format(mod_name)\n",
    "    fname = os.path.join(save_dir, fname)\n",
    "    print(fmt(' Downloading to file {} '.format(fname)))\n",
    "    try:\n",
    "        tree, lon, lat = make_tree(cube)\n",
    "    except CoordinateNotFoundError as e:\n",
    "        print('Cannot make KDTree for: {}'.format(mod_name))\n",
    "        continue\n",
    "    # Get model series at observed locations.\n",
    "    raw_series = dict()\n",
    "    for obs in observations:\n",
    "        obs = obs._metadata\n",
    "        station = obs['station_code']\n",
    "        try:\n",
    "            kw = dict(k=10, max_dist=0.08, min_var=0.01)\n",
    "            args = cube, tree, obs['lon'], obs['lat']\n",
    "            try:\n",
    "                series, dist, idx = get_nearest_water(*args, **kw)\n",
    "            except RuntimeError as e:\n",
    "                print('Cannot download {!r}.\\n{}'.format(cube, e))\n",
    "                series = None\n",
    "        except ValueError as e:\n",
    "            status = \"No Data\"\n",
    "            print('[{}] {}'.format(status, obs['station_name']))\n",
    "            continue\n",
    "        if not series:\n",
    "            status = \"Land   \"\n",
    "        else:\n",
    "            raw_series.update({station: series})\n",
    "            series = as_series(series)\n",
    "            status = \"Water  \"\n",
    "        print('[{}] {}'.format(status, obs['station_name']))\n",
    "    if raw_series:  # Save cube.\n",
    "        for station, cube in raw_series.items():\n",
    "            cube = add_station(cube, station)\n",
    "            cube = remove_ssh(cube)\n",
    "        try:\n",
    "            cube = iris.cube.CubeList(raw_series.values()).merge_cube()\n",
    "        except MergeError as e:\n",
    "            print(e)\n",
    "        ensure_timeseries(cube)\n",
    "        try:\n",
    "            iris.save(cube, fname)\n",
    "        except AttributeError:\n",
    "            # FIXME: we should patch the bad attribute instead of removing everything.\n",
    "            cube.attributes = {}\n",
    "            iris.save(cube, fname)\n",
    "        del cube\n",
    "    print('Finished processing [{}]'.format(mod_name))"
   ]
  },
  {
   "cell_type": "markdown",
   "metadata": {
    "deletable": true,
    "editable": true
   },
   "source": [
    "Now it is possible to compute some simple comparison metrics. First we'll calculate the model mean bias:\n",
    "\n",
    "$$ \\text{MB} = \\mathbf{\\overline{m}} - \\mathbf{\\overline{o}}$$"
   ]
  },
  {
   "cell_type": "code",
   "execution_count": 15,
   "metadata": {
    "collapsed": true,
    "deletable": true,
    "editable": true
   },
   "outputs": [],
   "source": [
    "from ioos_tools.ioos import stations_keys\n",
    "\n",
    "\n",
    "def rename_cols(df, config):\n",
    "    cols = stations_keys(config, key='station_name')\n",
    "    return df.rename(columns=cols)"
   ]
  },
  {
   "cell_type": "code",
   "execution_count": 16,
   "metadata": {
    "collapsed": false,
    "deletable": true,
    "editable": true,
    "scrolled": false
   },
   "outputs": [],
   "source": [
    "from ioos_tools.ioos import load_ncs\n",
    "from ioos_tools.skill_score import mean_bias, apply_skill\n",
    "\n",
    "dfs = load_ncs(config)\n",
    "\n",
    "df = apply_skill(dfs, mean_bias, remove_mean=False, filter_tides=False)\n",
    "skill_score = dict(mean_bias=df.to_dict())\n",
    "\n",
    "# Filter out stations with no valid comparison.\n",
    "df.dropna(how='all', axis=1, inplace=True)\n",
    "df = df.applymap('{:.2f}'.format).replace('nan', '--')"
   ]
  },
  {
   "cell_type": "markdown",
   "metadata": {
    "deletable": true,
    "editable": true
   },
   "source": [
    "And the root mean squared rrror of the deviations from the mean:\n",
    "$$ \\text{CRMS} = \\sqrt{\\left(\\mathbf{m'} - \\mathbf{o'}\\right)^2}$$\n",
    "\n",
    "where: $\\mathbf{m'} = \\mathbf{m} - \\mathbf{\\overline{m}}$ and $\\mathbf{o'} = \\mathbf{o} - \\mathbf{\\overline{o}}$"
   ]
  },
  {
   "cell_type": "code",
   "execution_count": 17,
   "metadata": {
    "collapsed": false,
    "deletable": true,
    "editable": true
   },
   "outputs": [],
   "source": [
    "from ioos_tools.skill_score import rmse\n",
    "\n",
    "dfs = load_ncs(config)\n",
    "\n",
    "df = apply_skill(dfs, rmse, remove_mean=True, filter_tides=False)\n",
    "skill_score['rmse'] = df.to_dict()\n",
    "\n",
    "# Filter out stations with no valid comparison.\n",
    "df.dropna(how='all', axis=1, inplace=True)\n",
    "df = df.applymap('{:.2f}'.format).replace('nan', '--')"
   ]
  },
  {
   "cell_type": "markdown",
   "metadata": {
    "deletable": true,
    "editable": true
   },
   "source": [
    "The next 2 cells make the scores \"pretty\" for plotting."
   ]
  },
  {
   "cell_type": "code",
   "execution_count": 18,
   "metadata": {
    "collapsed": false,
    "deletable": true,
    "editable": true
   },
   "outputs": [],
   "source": [
    "import pandas as pd\n",
    "\n",
    "# Stringfy keys.\n",
    "for key in skill_score.keys():\n",
    "    skill_score[key] = {str(k): v for k, v in skill_score[key].items()}\n",
    "\n",
    "mean_bias = pd.DataFrame.from_dict(skill_score['mean_bias'])\n",
    "mean_bias = mean_bias.applymap('{:.2f}'.format).replace('nan', '--')\n",
    "\n",
    "skill_score = pd.DataFrame.from_dict(skill_score['rmse'])\n",
    "skill_score = skill_score.applymap('{:.2f}'.format).replace('nan', '--')"
   ]
  },
  {
   "cell_type": "code",
   "execution_count": 19,
   "metadata": {
    "collapsed": true,
    "deletable": true,
    "editable": true
   },
   "outputs": [],
   "source": [
    "from ioos_tools.ioos import make_map\n",
    "\n",
    "bbox = config['region']['bbox']\n",
    "units = config['units']\n",
    "run_name = config['run_name']\n",
    "\n",
    "kw = dict(zoom_start=11, line=True, states=False,\n",
    "          secoora_stations=False, layers=False)\n",
    "mapa = make_map(bbox, **kw)"
   ]
  },
  {
   "cell_type": "markdown",
   "metadata": {
    "deletable": true,
    "editable": true
   },
   "source": [
    "The cells from `[20]` to `[25]` create a [`folium`](https://github.com/python-visualization/folium) map with [`bokeh`](http://bokeh.pydata.org/en/latest/) for the time-series at the observed points.\n",
    "\n",
    "Note that we did mark the nearest model cell location used in the comparison."
   ]
  },
  {
   "cell_type": "code",
   "execution_count": 20,
   "metadata": {
    "collapsed": false,
    "deletable": true,
    "editable": true
   },
   "outputs": [
    {
     "data": {
      "text/plain": [
       "<folium.plugins.marker_cluster.MarkerCluster at 0x7feaaf2e3e10>"
      ]
     },
     "execution_count": 20,
     "metadata": {},
     "output_type": "execute_result"
    }
   ],
   "source": [
    "all_obs = stations_keys(config)\n",
    "\n",
    "from glob import glob\n",
    "from operator import itemgetter\n",
    "\n",
    "import iris\n",
    "import folium\n",
    "from folium.plugins import MarkerCluster\n",
    "\n",
    "iris.FUTURE.netcdf_promote = True\n",
    "\n",
    "big_list = []\n",
    "for fname in glob(os.path.join(save_dir, \"*.nc\")):\n",
    "    if 'OBS_DATA' in fname:\n",
    "        continue\n",
    "    cube = iris.load_cube(fname)\n",
    "    model = os.path.split(fname)[1].split('-')[-1].split('.')[0]\n",
    "    lons = cube.coord(axis='X').points\n",
    "    lats = cube.coord(axis='Y').points\n",
    "    stations = cube.coord('station_code').points\n",
    "    models = [model]*lons.size\n",
    "    lista = zip(models, lons.tolist(), lats.tolist(), stations.tolist())\n",
    "    big_list.extend(lista)\n",
    "\n",
    "big_list.sort(key=itemgetter(3))\n",
    "df = pd.DataFrame(big_list, columns=['name', 'lon', 'lat', 'station'])\n",
    "df.set_index('station', drop=True, inplace=True)\n",
    "groups = df.groupby(df.index)\n",
    "\n",
    "\n",
    "locations, popups = [], []\n",
    "for station, info in groups:\n",
    "    sta_name = all_obs[station]\n",
    "    for lat, lon, name in zip(info.lat, info.lon, info.name):\n",
    "        locations.append([lat, lon])\n",
    "        popups.append('[{}]: {}'.format(name, sta_name))\n",
    "\n",
    "MarkerCluster(locations=locations, popups=popups).add_to(mapa)"
   ]
  },
  {
   "cell_type": "markdown",
   "metadata": {
    "deletable": true,
    "editable": true
   },
   "source": [
    "Here we use a dictionary with some models we expect to find so we can create a better legend for the plots. If any new models are found, we will use its filename in the legend as a default until we can go back and add a short name to our library."
   ]
  },
  {
   "cell_type": "code",
   "execution_count": 21,
   "metadata": {
    "collapsed": true,
    "deletable": true,
    "editable": true
   },
   "outputs": [],
   "source": [
    "titles = {\n",
    "    'coawst_4_use_best': 'COAWST_4',\n",
    "    'global': 'HYCOM',\n",
    "    'NECOFS_GOM3_FORECAST': 'NECOFS_GOM3',\n",
    "    'NECOFS_FVCOM_OCEAN_MASSBAY_FORECAST': 'NECOFS_MassBay',\n",
    "    'OBS_DATA': 'Observations'\n",
    "}"
   ]
  },
  {
   "cell_type": "code",
   "execution_count": 22,
   "metadata": {
    "collapsed": true,
    "deletable": true,
    "editable": true
   },
   "outputs": [],
   "source": [
    "from bokeh.resources import CDN\n",
    "from bokeh.plotting import figure\n",
    "from bokeh.embed import file_html\n",
    "from bokeh.models import HoverTool\n",
    "from itertools import cycle\n",
    "from bokeh.palettes import Spectral6\n",
    "\n",
    "from folium.element import IFrame\n",
    "\n",
    "# Plot defaults.\n",
    "colors = Spectral6\n",
    "colorcycler = cycle(colors)\n",
    "tools = \"pan,box_zoom,reset\"\n",
    "width, height = 750, 250\n",
    "\n",
    "\n",
    "def make_plot(df, station):\n",
    "    p = figure(toolbar_location=\"above\",\n",
    "               x_axis_type=\"datetime\",\n",
    "               width=width,\n",
    "               height=height,\n",
    "               tools=tools,\n",
    "               title=str(station))\n",
    "    for column, series in df.iteritems():\n",
    "        series.dropna(inplace=True)\n",
    "        if not series.empty:\n",
    "            line = p.line(\n",
    "                x=series.index,\n",
    "                y=series.values,\n",
    "                legend=\"%s\" % titles.get(column, column),\n",
    "                line_color=next(colorcycler),\n",
    "                line_width=5,\n",
    "                line_cap='round',\n",
    "                line_join='round'\n",
    "            )\n",
    "            if 'OBS_DATA' not in column:\n",
    "                bias = mean_bias[str(station)][column]\n",
    "                skill = skill_score[str(station)][column]\n",
    "            else:\n",
    "                skill = bias = 'NA'\n",
    "            p.add_tools(HoverTool(tooltips=[(\"Name\", \"%s\" % column),\n",
    "                                            (\"Bias\", bias),\n",
    "                                            (\"Skill\", skill)],\n",
    "                                  renderers=[line]))\n",
    "    return p\n",
    "\n",
    "\n",
    "def make_marker(p, station):\n",
    "    lons = stations_keys(config, key='lon')\n",
    "    lats = stations_keys(config, key='lat')\n",
    "\n",
    "    lon, lat = lons[station], lats[station]\n",
    "    html = file_html(p, CDN, station)\n",
    "    iframe = IFrame(html, width=width+40, height=height+80)\n",
    "\n",
    "    popup = folium.Popup(iframe, max_width=2650)\n",
    "    icon = folium.Icon(color='green', icon='stats')\n",
    "    marker = folium.Marker(location=[lat, lon],\n",
    "                           popup=popup,\n",
    "                           icon=icon)\n",
    "    return marker"
   ]
  },
  {
   "cell_type": "code",
   "execution_count": 23,
   "metadata": {
    "collapsed": false,
    "deletable": true,
    "editable": true
   },
   "outputs": [
    {
     "data": {
      "text/html": [
       "<div style=\"width:100%;\"><div style=\"position:relative;width:100%;height:0;padding-bottom:60%;\"><iframe src=\"data:text/html;base64,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\" style=\"position:absolute;width:100%;height:100%;left:0;top:0;\"></iframe></div></div>"
      ],
      "text/plain": [
       "<folium.folium.Map at 0x7feaaf5c9c18>"
      ]
     },
     "execution_count": 23,
     "metadata": {},
     "output_type": "execute_result"
    }
   ],
   "source": [
    "dfs = load_ncs(config)\n",
    "\n",
    "for station in dfs:\n",
    "    sta_name = all_obs[station]\n",
    "    df = dfs[station]\n",
    "    if df.empty:\n",
    "        continue\n",
    "    p = make_plot(df, station)\n",
    "    maker = make_marker(p, station)\n",
    "    maker.add_to(mapa)\n",
    "\n",
    "mapa"
   ]
  },
  {
   "cell_type": "markdown",
   "metadata": {
    "deletable": true,
    "editable": true
   },
   "source": [
    "Now we can navigate the map and click on the markers to explorer our findings.\n",
    "\n",
    "The green markers locate the observations locations. They pop-up an interactive plot with the time-series and scores for the models (hover over the lines to se the scores). The blue markers indicate the nearest model grid point found for the comparison."
   ]
  },
  {
   "cell_type": "markdown",
   "metadata": {
    "deletable": true,
    "editable": true
   },
   "source": [
    "<br>\n",
    "Right click and choose Save link as... to\n",
    "[download](https://raw.githubusercontent.com/ioos/notebooks_demos/master/notebooks/2016-12-22-boston_light_swim.ipynb)\n",
    "this notebook, or see a static view [here](http://nbviewer.ipython.org/urls/raw.githubusercontent.com/ioos/notebooks_demos/master/notebooks/2016-12-22-boston_light_swim.ipynb)."
   ]
  }
 ],
 "metadata": {
  "anaconda-cloud": {},
  "kernelspec": {
   "display_name": "Python [default]",
   "language": "python",
   "name": "python3"
  },
  "language_info": {
   "codemirror_mode": {
    "name": "ipython",
    "version": 3
   },
   "file_extension": ".py",
   "mimetype": "text/x-python",
   "name": "python",
   "nbconvert_exporter": "python",
   "pygments_lexer": "ipython3",
   "version": "3.6.0"
  }
 },
 "nbformat": 4,
 "nbformat_minor": 0
}
