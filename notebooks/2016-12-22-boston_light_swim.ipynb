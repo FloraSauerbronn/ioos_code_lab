{
 "cells": [
  {
   "cell_type": "markdown",
   "metadata": {},
   "source": [
    "# The Boston Light Swim temperature analysis with Python\n",
    "\n",
    "In the past we demonstrated how to perform a CSW catalog search with [`OWSLib`](https://ioos.github.io/notebooks_demos//notebooks/2016-12-19-exploring_csw),\n",
    "and how to obtain near real-time data with [`pyoos`](https://ioos.github.io/notebooks_demos//notebooks/2016-10-12-fetching_data).\n",
    "In this notebook we will use both to find all observations and model data around the Boston Harbor to access the sea water temperature.\n",
    "\n",
    "\n",
    "This workflow is part of an example to advise swimmers of the annual [Boston lighthouse swim](http://bostonlightswim.org/) of the Boston Harbor water temperature conditions prior to the race. For more information regarding the workflow presented here see [Signell, Richard P.; Fernandes, Filipe; Wilcox, Kyle.   2016. \"Dynamic Reusable Workflows for Ocean Science.\" *J. Mar. Sci. Eng.* 4, no. 4: 68](http://dx.doi.org/10.3390/jmse4040068).\n",
    "\n",
    "(This notebook uses a custom `ioos_tools` module that needs to be added to the path separately. We recommend cloning the [repository](https://github.com/ioos/notebooks_demos) on GitHub which already includes the most update version of `ioos_tools`.)"
   ]
  },
  {
   "cell_type": "code",
   "execution_count": 1,
   "metadata": {
    "collapsed": true
   },
   "outputs": [],
   "source": [
    "import os\n",
    "import sys\n",
    "import warnings\n",
    "\n",
    "ioos_tools = os.path.join(os.path.pardir)\n",
    "sys.path.append(ioos_tools)\n",
    "\n",
    "# Suppresing warnings for a \"pretty output.\"\n",
    "warnings.simplefilter('ignore')"
   ]
  },
  {
   "cell_type": "markdown",
   "metadata": {},
   "source": [
    "This notebook is quite big and complex,\n",
    "so to help us keep things organized we'll define a cell with the most important options and switches.\n",
    "\n",
    "Below we can define the date,\n",
    "bounding box, phenomena `SOS` and `CF` names and units,\n",
    "and the catalogs we will search."
   ]
  },
  {
   "cell_type": "code",
   "execution_count": 2,
   "metadata": {},
   "outputs": [
    {
     "name": "stdout",
     "output_type": "stream",
     "text": [
      "Overwriting config.yaml\n"
     ]
    }
   ],
   "source": [
    "%%writefile config.yaml\n",
    "\n",
    "# Specify a YYYY-MM-DD hh:mm:ss date or integer day offset.\n",
    "# If both start and stop are offsets they will be computed relative to datetime.today() at midnight.\n",
    "# Use the dates commented below to reproduce the last Boston Light Swim event forecast.\n",
    "date:\n",
    "    start: -5 # 2016-8-16 00:00:00\n",
    "    stop: +4 # 2016-8-29 00:00:00\n",
    "\n",
    "run_name: 'latest'\n",
    "\n",
    "# Boston harbor.\n",
    "region:\n",
    "    bbox: [-71.3, 42.03, -70.57, 42.63]\n",
    "    crs: 'urn:ogc:def:crs:OGC:1.3:CRS84'\n",
    "\n",
    "sos_name: 'sea_water_temperature'\n",
    "\n",
    "cf_names:\n",
    "    - sea_water_temperature\n",
    "    - sea_surface_temperature\n",
    "    - sea_water_potential_temperature\n",
    "    - equivalent_potential_temperature\n",
    "    - sea_water_conservative_temperature\n",
    "    - pseudo_equivalent_potential_temperature\n",
    "\n",
    "units: 'celsius'\n",
    "\n",
    "catalogs:\n",
    "    - https://data.ioos.us/csw\n",
    "    - https://gamone.whoi.edu/csw"
   ]
  },
  {
   "cell_type": "markdown",
   "metadata": {},
   "source": [
    "We'll print some of the search configuration options along the way to keep track of them."
   ]
  },
  {
   "cell_type": "code",
   "execution_count": 3,
   "metadata": {},
   "outputs": [
    {
     "name": "stdout",
     "output_type": "stream",
     "text": [
      "Saving data inside directory /home/filipe/IOOS/notebooks_demos/notebooks/latest\n",
      "*********************** Run information ************************\n",
      "Run date: 2017-07-03 16:45:31\n",
      "Start: 2017-06-28 00:00:00\n",
      "Stop: 2017-07-07 00:00:00\n",
      "Bounding box: -71.30, 42.03,-70.57, 42.63\n"
     ]
    }
   ],
   "source": [
    "import shutil\n",
    "from datetime import datetime\n",
    "from ioos_tools.ioos import parse_config\n",
    "\n",
    "config = parse_config('config.yaml')\n",
    "\n",
    "# Saves downloaded data into a temporary directory.\n",
    "save_dir = os.path.abspath(config['run_name'])\n",
    "if os.path.exists(save_dir):\n",
    "    shutil.rmtree(save_dir)\n",
    "os.makedirs(save_dir)\n",
    "\n",
    "fmt = '{:*^64}'.format\n",
    "print(fmt('Saving data inside directory {}'.format(save_dir)))\n",
    "print(fmt(' Run information '))\n",
    "print('Run date: {:%Y-%m-%d %H:%M:%S}'.format(datetime.utcnow()))\n",
    "print('Start: {:%Y-%m-%d %H:%M:%S}'.format(config['date']['start']))\n",
    "print('Stop: {:%Y-%m-%d %H:%M:%S}'.format(config['date']['stop']))\n",
    "print('Bounding box: {0:3.2f}, {1:3.2f},'\n",
    "      '{2:3.2f}, {3:3.2f}'.format(*config['region']['bbox']))"
   ]
  },
  {
   "cell_type": "markdown",
   "metadata": {},
   "source": [
    "We already created an `OWSLib.fes` filter [before](https://ioos.github.io/notebooks_demos//notebooks/2016-12-19-exploring_csw).\n",
    "The main difference here is that we do not want the atmosphere model data,\n",
    "so we are filtering out all the `GRIB-2` data format."
   ]
  },
  {
   "cell_type": "code",
   "execution_count": 4,
   "metadata": {
    "collapsed": true
   },
   "outputs": [],
   "source": [
    "def make_filter(config):\n",
    "    from owslib import fes\n",
    "    from ioos_tools.ioos import fes_date_filter\n",
    "    kw = dict(wildCard='*', escapeChar='\\\\',\n",
    "              singleChar='?', propertyname='apiso:AnyText')\n",
    "\n",
    "    or_filt = fes.Or([fes.PropertyIsLike(literal=('*%s*' % val), **kw)\n",
    "                      for val in config['cf_names']])\n",
    "\n",
    "    not_filt = fes.Not([fes.PropertyIsLike(literal='GRIB-2', **kw)])\n",
    "\n",
    "    begin, end = fes_date_filter(config['date']['start'],\n",
    "                                 config['date']['stop'])\n",
    "    bbox_crs = fes.BBox(config['region']['bbox'],\n",
    "                        crs=config['region']['crs'])\n",
    "    filter_list = [fes.And([bbox_crs, begin, end, or_filt, not_filt])]\n",
    "    return filter_list\n",
    "\n",
    "\n",
    "filter_list = make_filter(config)"
   ]
  },
  {
   "cell_type": "markdown",
   "metadata": {},
   "source": [
    "In the cell below we ask the catalog for all the returns that match the filter and have an OPeNDAP endpoint."
   ]
  },
  {
   "cell_type": "code",
   "execution_count": 5,
   "metadata": {
    "code_folding": [],
    "scrolled": false
   },
   "outputs": [
    {
     "name": "stdout",
     "output_type": "stream",
     "text": [
      "********************* Catalog information **********************\n",
      "URL: https://data.ioos.us/csw\n",
      "Number of datasets available: 17\n",
      "HYbrid Coordinate Ocean Model (HYCOM): Global\n",
      "NECOFS (FVCOM) - Scituate - Latest Forecast\n",
      "NECOFS GOM3 (FVCOM) - Northeast US - Latest Forecast\n",
      "NECOFS Massachusetts (FVCOM) - Boston - Latest Forecast\n",
      "NECOFS Massachusetts (FVCOM) - Massachusetts Coastal - Latest Forecast\n",
      "NERACOOS Gulf of Maine Ocean Array: Realtime Buoy Observations: A01 Massachusetts Bay: A01 ACCELEROMETER Massachusetts Bay\n",
      "NOAA Coral Reef Watch Operational Daily Near-Real-Time Global 5-km Satellite Coral Bleaching Monitoring Products\n",
      "COAWST Modeling System: USEast: ROMS-WRF-SWAN coupled model (aka CNAPS)\n",
      "Coupled Northwest Atlantic Prediction System (CNAPS)\n",
      "Directional wave and sea surface temperature measurements collected in situ by Datawell Mark 3 directional buoy located near ASTORIA CANYON, OR from 2016/03/30 17:00:00 to 2017/07/02 18:00:52.\n",
      "Directional wave and sea surface temperature measurements collected in situ by Datawell Mark 3 directional buoy located near CLATSOP SPIT, OR from 2016/10/12 17:00:00 to 2017/07/02 18:00:50.\n",
      "Directional wave and sea surface temperature measurements collected in situ by Datawell Mark 3 directional buoy located near LAKESIDE, OR from 2017/03/31 23:00:00 to 2017/07/02 17:31:24.\n",
      "Directional wave and sea surface temperature measurements collected in situ by Datawell Mark 3 directional buoy located near LOWER COOK INLET, AK from 2016/12/16 00:00:00 to 2017/07/02 18:09:37.\n",
      "Directional wave and sea surface temperature measurements collected in situ by Datawell Mark 3 directional buoy located near OCEAN STATION PAPA from 2015/01/01 01:00:00 to 2017/07/02 17:41:11.\n",
      "Directional wave and sea surface temperature measurements collected in situ by Datawell Mark 3 directional buoy located near POST-RECOVERY GRAYS HARBOR from 2017/06/29 13:00:00 to 2017/07/02 17:55:34.\n",
      "Directional wave and sea surface temperature measurements collected in situ by Datawell Mark 3 directional buoy located near SCRIPPS NEARSHORE, CA from 2015/01/07 23:00:00 to 2017/07/02 18:00:22.\n",
      "G1SST, 1km blended SST\n",
      "***************************** DAP ******************************\n",
      "http://oos.soest.hawaii.edu/thredds/dodsC/hioos/satellite/dhw_5km.html\n",
      "http://oos.soest.hawaii.edu/thredds/dodsC/pacioos/hycom/global.html\n",
      "http://thredds.cdip.ucsd.edu/thredds/dodsC/cdip/realtime/162p1_rt.nc.html\n",
      "http://thredds.cdip.ucsd.edu/thredds/dodsC/cdip/realtime/166p1_rt.nc.html\n",
      "http://thredds.cdip.ucsd.edu/thredds/dodsC/cdip/realtime/179p1_rt.nc.html\n",
      "http://thredds.cdip.ucsd.edu/thredds/dodsC/cdip/realtime/201p1_rt.nc.html\n",
      "http://thredds.cdip.ucsd.edu/thredds/dodsC/cdip/realtime/204p1_rt.nc.html\n",
      "http://thredds.cdip.ucsd.edu/thredds/dodsC/cdip/realtime/231p1_rt.nc.html\n",
      "http://thredds.cdip.ucsd.edu/thredds/dodsC/cdip/realtime/997p1_rt.nc.html\n",
      "http://thredds.secoora.org/thredds/dodsC/G1_SST_GLOBAL.nc.html\n",
      "http://thredds.secoora.org/thredds/dodsC/SECOORA_NCSU_CNAPS.nc.html\n",
      "http://www.neracoos.org/thredds/dodsC/UMO/DSG/SOS/A01/Accelerometer/HistoricRealtime/Agg.ncml.html\n",
      "http://www.smast.umassd.edu:8080/thredds/dodsC/FVCOM/NECOFS/Forecasts/NECOFS_FVCOM_OCEAN_BOSTON_FORECAST.nc.html\n",
      "http://www.smast.umassd.edu:8080/thredds/dodsC/FVCOM/NECOFS/Forecasts/NECOFS_FVCOM_OCEAN_MASSBAY_FORECAST.nc.html\n",
      "http://www.smast.umassd.edu:8080/thredds/dodsC/FVCOM/NECOFS/Forecasts/NECOFS_FVCOM_OCEAN_SCITUATE_FORECAST.nc.html\n",
      "http://www.smast.umassd.edu:8080/thredds/dodsC/FVCOM/NECOFS/Forecasts/NECOFS_GOM3_FORECAST.nc.html\n",
      "\n",
      "\n",
      "URL: https://gamone.whoi.edu/csw\n",
      "Number of datasets available: 2\n",
      "COAWST Forecast System : USGS : US East Coast and Gulf of Mexico (Experimental)\n",
      "COAWST Modeling System: USEast: ROMS-WRF-SWAN coupled model (aka CNAPS)\n",
      "***************************** DAP ******************************\n",
      "http://geoport-dev.whoi.edu/thredds/dodsC/coawst_4/use/fmrc/coawst_4_use_best.ncd.html\n",
      "\n",
      "\n"
     ]
    }
   ],
   "source": [
    "from ioos_tools.ioos import service_urls, get_csw_records\n",
    "from owslib.csw import CatalogueServiceWeb\n",
    "\n",
    "\n",
    "dap_urls = []\n",
    "print(fmt(' Catalog information '))\n",
    "for endpoint in config['catalogs']:\n",
    "    print('URL: {}'.format(endpoint))\n",
    "    try:\n",
    "        csw = CatalogueServiceWeb(endpoint, timeout=120)\n",
    "    except Exception as e:\n",
    "        print('{}'.format(e))\n",
    "        continue\n",
    "    csw = get_csw_records(csw, filter_list, esn='full')\n",
    "    OPeNDAP = service_urls(csw.records, identifier='OPeNDAP:OPeNDAP')\n",
    "    odp = service_urls(csw.records, identifier='urn:x-esri:specification:ServiceType:odp:url')\n",
    "    dap = OPeNDAP + odp\n",
    "    dap_urls.extend(dap)\n",
    "\n",
    "    print('Number of datasets available: {}'.format(len(csw.records.keys())))\n",
    "\n",
    "    for rec, item in csw.records.items():\n",
    "        print('{}'.format(item.title))\n",
    "    if dap:\n",
    "        print(fmt(' DAP '))\n",
    "        for url in dap:\n",
    "            print('{}.html'.format(url))\n",
    "    print('\\n')\n",
    "\n",
    "# Get only unique endpoints.\n",
    "dap_urls = list(set(dap_urls))"
   ]
  },
  {
   "cell_type": "markdown",
   "metadata": {},
   "source": [
    "We found some models, and observations from NERACOOS there.\n",
    "However, we do know that there are some buoys from NDBC and CO-OPS available too.\n",
    "Also, those NERACOOS observations seem to be from a [CTD](http://www.neracoos.org/thredds/dodsC/UMO/DSG/SOS/A01/CTD1m/HistoricRealtime/Agg.ncml.html) mounted at 65 meters below the sea surface. Rendering them useless from our purpose.\n",
    "\n",
    "So let's use the catalog only for the models by filtering the observations with `is_station` below.\n",
    "And we'll rely `CO-OPS` and `NDBC` services for the observations."
   ]
  },
  {
   "cell_type": "code",
   "execution_count": 6,
   "metadata": {},
   "outputs": [
    {
     "name": "stdout",
     "output_type": "stream",
     "text": [
      "************************* Filtered DAP *************************\n",
      "http://www.smast.umassd.edu:8080/thredds/dodsC/FVCOM/NECOFS/Forecasts/NECOFS_FVCOM_OCEAN_SCITUATE_FORECAST.nc.html\n",
      "http://oos.soest.hawaii.edu/thredds/dodsC/pacioos/hycom/global.html\n",
      "http://www.smast.umassd.edu:8080/thredds/dodsC/FVCOM/NECOFS/Forecasts/NECOFS_FVCOM_OCEAN_MASSBAY_FORECAST.nc.html\n",
      "http://www.smast.umassd.edu:8080/thredds/dodsC/FVCOM/NECOFS/Forecasts/NECOFS_FVCOM_OCEAN_BOSTON_FORECAST.nc.html\n",
      "http://geoport-dev.whoi.edu/thredds/dodsC/coawst_4/use/fmrc/coawst_4_use_best.ncd.html\n",
      "http://thredds.secoora.org/thredds/dodsC/G1_SST_GLOBAL.nc.html\n",
      "http://www.smast.umassd.edu:8080/thredds/dodsC/FVCOM/NECOFS/Forecasts/NECOFS_GOM3_FORECAST.nc.html\n",
      "http://oos.soest.hawaii.edu/thredds/dodsC/hioos/satellite/dhw_5km.html\n",
      "http://thredds.secoora.org/thredds/dodsC/SECOORA_NCSU_CNAPS.nc.html\n"
     ]
    }
   ],
   "source": [
    "from ioos_tools.ioos import is_station\n",
    "\n",
    "# Filter out some station endpoints.\n",
    "non_stations = []\n",
    "for url in dap_urls:\n",
    "    try:\n",
    "        if not is_station(url):\n",
    "            non_stations.append(url)\n",
    "    except (RuntimeError, OSError, IOError) as e:\n",
    "        print('Could not access URL {}. {!r}'.format(url, e))\n",
    "\n",
    "dap_urls = non_stations\n",
    "\n",
    "print(fmt(' Filtered DAP '))\n",
    "for url in dap_urls:\n",
    "    print('{}.html'.format(url))"
   ]
  },
  {
   "cell_type": "markdown",
   "metadata": {},
   "source": [
    "Now we can use `pyoos` collectors for `NdbcSos`,"
   ]
  },
  {
   "cell_type": "code",
   "execution_count": 7,
   "metadata": {},
   "outputs": [
    {
     "name": "stdout",
     "output_type": "stream",
     "text": [
      "******************* NDBC Collector offerings *******************\n",
      "National Data Buoy Center SOS: 988 offerings\n"
     ]
    }
   ],
   "source": [
    "from pyoos.collectors.ndbc.ndbc_sos import NdbcSos\n",
    "\n",
    "collector_ndbc = NdbcSos()\n",
    "\n",
    "collector_ndbc.set_bbox(config['region']['bbox'])\n",
    "collector_ndbc.end_time = config['date']['stop']\n",
    "collector_ndbc.start_time = config['date']['start']\n",
    "collector_ndbc.variables = [config['sos_name']]\n",
    "\n",
    "ofrs = collector_ndbc.server.offerings\n",
    "title = collector_ndbc.server.identification.title\n",
    "print(fmt(' NDBC Collector offerings '))\n",
    "print('{}: {} offerings'.format(title, len(ofrs)))"
   ]
  },
  {
   "cell_type": "code",
   "execution_count": 8,
   "metadata": {},
   "outputs": [
    {
     "data": {
      "text/html": [
       "<div>\n",
       "<style>\n",
       "    .dataframe thead tr:only-child th {\n",
       "        text-align: right;\n",
       "    }\n",
       "\n",
       "    .dataframe thead th {\n",
       "        text-align: left;\n",
       "    }\n",
       "\n",
       "    .dataframe tbody tr th {\n",
       "        vertical-align: top;\n",
       "    }\n",
       "</style>\n",
       "<table border=\"1\" class=\"dataframe\">\n",
       "  <thead>\n",
       "    <tr style=\"text-align: right;\">\n",
       "      <th></th>\n",
       "      <th>depth</th>\n",
       "      <th>lat</th>\n",
       "      <th>lon</th>\n",
       "      <th>sensor</th>\n",
       "      <th>station_name</th>\n",
       "    </tr>\n",
       "    <tr>\n",
       "      <th>station_code</th>\n",
       "      <th></th>\n",
       "      <th></th>\n",
       "      <th></th>\n",
       "      <th></th>\n",
       "      <th></th>\n",
       "    </tr>\n",
       "  </thead>\n",
       "  <tbody>\n",
       "    <tr>\n",
       "      <th>44013</th>\n",
       "      <td>0.6</td>\n",
       "      <td>42.346</td>\n",
       "      <td>-70.651</td>\n",
       "      <td>urn:ioos:sensor:wmo:44013::watertemp1</td>\n",
       "      <td>BOSTON 16 NM East of Boston, MA</td>\n",
       "    </tr>\n",
       "  </tbody>\n",
       "</table>\n",
       "</div>"
      ],
      "text/plain": [
       "              depth     lat     lon                                 sensor  \\\n",
       "station_code                                                                 \n",
       "44013           0.6  42.346 -70.651  urn:ioos:sensor:wmo:44013::watertemp1   \n",
       "\n",
       "                                 station_name  \n",
       "station_code                                   \n",
       "44013         BOSTON 16 NM East of Boston, MA  "
      ]
     },
     "execution_count": 8,
     "metadata": {},
     "output_type": "execute_result"
    }
   ],
   "source": [
    "import pandas as pd\n",
    "from ioos_tools.ioos import collector2table\n",
    "\n",
    "ndbc = collector2table(collector=collector_ndbc,\n",
    "                       config=config,\n",
    "                       col='sea_water_temperature (C)')\n",
    "\n",
    "if ndbc:\n",
    "    data = dict(\n",
    "        station_name=[s._metadata.get('station_name') for s in ndbc],\n",
    "        station_code=[s._metadata.get('station_code') for s in ndbc],\n",
    "        sensor=[s._metadata.get('sensor') for s in ndbc],\n",
    "        lon=[s._metadata.get('lon') for s in ndbc],\n",
    "        lat=[s._metadata.get('lat') for s in ndbc],\n",
    "        depth=[s._metadata.get('depth') for s in ndbc],\n",
    "    )\n",
    "\n",
    "table = pd.DataFrame(data).set_index('station_code')\n",
    "table"
   ]
  },
  {
   "cell_type": "markdown",
   "metadata": {},
   "source": [
    "and `CoopsSos`."
   ]
  },
  {
   "cell_type": "code",
   "execution_count": 9,
   "metadata": {},
   "outputs": [
    {
     "name": "stdout",
     "output_type": "stream",
     "text": [
      "********************* Collector offerings **********************\n",
      "NOAA.NOS.CO-OPS SOS: 1180 offerings\n"
     ]
    }
   ],
   "source": [
    "from pyoos.collectors.coops.coops_sos import CoopsSos\n",
    "\n",
    "collector_coops = CoopsSos()\n",
    "\n",
    "collector_coops.set_bbox(config['region']['bbox'])\n",
    "collector_coops.end_time = config['date']['stop']\n",
    "collector_coops.start_time = config['date']['start']\n",
    "collector_coops.variables = [config['sos_name']]\n",
    "\n",
    "ofrs = collector_coops.server.offerings\n",
    "title = collector_coops.server.identification.title\n",
    "print(fmt(' Collector offerings '))\n",
    "print('{}: {} offerings'.format(title, len(ofrs)))"
   ]
  },
  {
   "cell_type": "code",
   "execution_count": 10,
   "metadata": {
    "scrolled": true
   },
   "outputs": [
    {
     "data": {
      "text/html": [
       "<div>\n",
       "<style>\n",
       "    .dataframe thead tr:only-child th {\n",
       "        text-align: right;\n",
       "    }\n",
       "\n",
       "    .dataframe thead th {\n",
       "        text-align: left;\n",
       "    }\n",
       "\n",
       "    .dataframe tbody tr th {\n",
       "        vertical-align: top;\n",
       "    }\n",
       "</style>\n",
       "<table border=\"1\" class=\"dataframe\">\n",
       "  <thead>\n",
       "    <tr style=\"text-align: right;\">\n",
       "      <th></th>\n",
       "      <th>depth</th>\n",
       "      <th>lat</th>\n",
       "      <th>lon</th>\n",
       "      <th>sensor</th>\n",
       "      <th>station_name</th>\n",
       "    </tr>\n",
       "    <tr>\n",
       "      <th>station_code</th>\n",
       "      <th></th>\n",
       "      <th></th>\n",
       "      <th></th>\n",
       "      <th></th>\n",
       "      <th></th>\n",
       "    </tr>\n",
       "  </thead>\n",
       "  <tbody>\n",
       "    <tr>\n",
       "      <th>44013</th>\n",
       "      <td>0.6</td>\n",
       "      <td>42.346</td>\n",
       "      <td>-70.651</td>\n",
       "      <td>urn:ioos:sensor:wmo:44013::watertemp1</td>\n",
       "      <td>BOSTON 16 NM East of Boston, MA</td>\n",
       "    </tr>\n",
       "  </tbody>\n",
       "</table>\n",
       "</div>"
      ],
      "text/plain": [
       "              depth     lat     lon                                 sensor  \\\n",
       "station_code                                                                 \n",
       "44013           0.6  42.346 -70.651  urn:ioos:sensor:wmo:44013::watertemp1   \n",
       "\n",
       "                                 station_name  \n",
       "station_code                                   \n",
       "44013         BOSTON 16 NM East of Boston, MA  "
      ]
     },
     "execution_count": 10,
     "metadata": {},
     "output_type": "execute_result"
    }
   ],
   "source": [
    "coops = collector2table(collector=collector_coops,\n",
    "                        config=config,\n",
    "                        col='sea_water_temperature (C)')\n",
    "\n",
    "if coops:\n",
    "    data = dict(\n",
    "        station_name=[s._metadata.get('station_name') for s in coops],\n",
    "        station_code=[s._metadata.get('station_code') for s in coops],\n",
    "        sensor=[s._metadata.get('sensor') for s in coops],\n",
    "        lon=[s._metadata.get('lon') for s in coops],\n",
    "        lat=[s._metadata.get('lat') for s in coops],\n",
    "        depth=[s._metadata.get('depth') for s in coops],\n",
    "    )\n",
    "\n",
    "table = pd.DataFrame(data).set_index('station_code')\n",
    "table"
   ]
  },
  {
   "cell_type": "markdown",
   "metadata": {},
   "source": [
    "We will join all the observations into an uniform series, interpolated to 1-hour interval, for the model-data comparison.\n",
    "\n",
    "This step is necessary because the observations can be 7 or 10 minutes resolution,\n",
    "while the models can be 30 to 60 minutes."
   ]
  },
  {
   "cell_type": "code",
   "execution_count": 11,
   "metadata": {
    "scrolled": true
   },
   "outputs": [],
   "source": [
    "data = ndbc + coops\n",
    "\n",
    "index = pd.date_range(start=config['date']['start'].replace(tzinfo=None),\n",
    "                      end=config['date']['stop'].replace(tzinfo=None),\n",
    "                      freq='1H')\n",
    "\n",
    "# Preserve metadata with `reindex`.\n",
    "observations = []\n",
    "for series in data:\n",
    "    _metadata = series._metadata\n",
    "    obs = series.reindex(index=index, limit=1, method='nearest')\n",
    "    obs._metadata = _metadata\n",
    "    observations.append(obs)"
   ]
  },
  {
   "cell_type": "markdown",
   "metadata": {},
   "source": [
    "In this next cell we will save the data for quicker access later."
   ]
  },
  {
   "cell_type": "code",
   "execution_count": 12,
   "metadata": {
    "collapsed": true,
    "scrolled": false
   },
   "outputs": [],
   "source": [
    "import iris\n",
    "from ioos_tools.tardis import series2cube\n",
    "\n",
    "attr = dict(\n",
    "    featureType='timeSeries',\n",
    "    Conventions='CF-1.6',\n",
    "    standard_name_vocabulary='CF-1.6',\n",
    "    cdm_data_type='Station',\n",
    "    comment='Data from http://opendap.co-ops.nos.noaa.gov'\n",
    ")\n",
    "\n",
    "\n",
    "cubes = iris.cube.CubeList(\n",
    "    [series2cube(obs, attr=attr) for obs in observations]\n",
    ")\n",
    "\n",
    "outfile = os.path.join(save_dir, 'OBS_DATA.nc')\n",
    "iris.save(cubes, outfile)"
   ]
  },
  {
   "cell_type": "markdown",
   "metadata": {},
   "source": [
    "Taking a quick look at the observations:"
   ]
  },
  {
   "cell_type": "code",
   "execution_count": 13,
   "metadata": {},
   "outputs": [
    {
     "data": {
      "image/png": "[encoded data removed]",
      "text/plain": [
       "<matplotlib.figure.Figure at 0x7f865b737128>"
      ]
     },
     "metadata": {},
     "output_type": "display_data"
    }
   ],
   "source": [
    "%matplotlib inline\n",
    "\n",
    "ax = pd.concat(data).plot(figsize=(11, 2.25))"
   ]
  },
  {
   "cell_type": "markdown",
   "metadata": {},
   "source": [
    "Now it is time to loop the models we found above,"
   ]
  },
  {
   "cell_type": "code",
   "execution_count": 14,
   "metadata": {},
   "outputs": [
    {
     "name": "stdout",
     "output_type": "stream",
     "text": [
      "**************************** Models ****************************\n",
      "\n",
      "[Reading url 1/9]: http://www.smast.umassd.edu:8080/thredds/dodsC/FVCOM/NECOFS/Forecasts/NECOFS_FVCOM_OCEAN_SCITUATE_FORECAST.nc\n",
      "\n",
      "[Reading url 2/9]: http://oos.soest.hawaii.edu/thredds/dodsC/pacioos/hycom/global\n",
      "\n",
      "[Reading url 3/9]: http://www.smast.umassd.edu:8080/thredds/dodsC/FVCOM/NECOFS/Forecasts/NECOFS_FVCOM_OCEAN_MASSBAY_FORECAST.nc\n",
      "\n",
      "[Reading url 4/9]: http://www.smast.umassd.edu:8080/thredds/dodsC/FVCOM/NECOFS/Forecasts/NECOFS_FVCOM_OCEAN_BOSTON_FORECAST.nc\n",
      "\n",
      "[Reading url 5/9]: http://geoport-dev.whoi.edu/thredds/dodsC/coawst_4/use/fmrc/coawst_4_use_best.ncd\n",
      "\n",
      "[Reading url 6/9]: http://thredds.secoora.org/thredds/dodsC/G1_SST_GLOBAL.nc\n",
      "\n",
      "[Reading url 7/9]: http://www.smast.umassd.edu:8080/thredds/dodsC/FVCOM/NECOFS/Forecasts/NECOFS_GOM3_FORECAST.nc\n",
      "\n",
      "[Reading url 8/9]: http://oos.soest.hawaii.edu/thredds/dodsC/hioos/satellite/dhw_5km\n",
      "\n",
      "[Reading url 9/9]: http://thredds.secoora.org/thredds/dodsC/SECOORA_NCSU_CNAPS.nc\n"
     ]
    }
   ],
   "source": [
    "from iris.exceptions import (CoordinateNotFoundError, ConstraintMismatchError,\n",
    "                             MergeError)\n",
    "from ioos_tools.ioos import get_model_name\n",
    "from ioos_tools.tardis import quick_load_cubes, proc_cube, is_model, get_surface\n",
    "\n",
    "print(fmt(' Models '))\n",
    "cubes = dict()\n",
    "for k, url in enumerate(dap_urls):\n",
    "    print('\\n[Reading url {}/{}]: {}'.format(k+1, len(dap_urls), url))\n",
    "    try:\n",
    "        cube = quick_load_cubes(url, config['cf_names'],\n",
    "                                callback=None, strict=True)\n",
    "        if is_model(cube):\n",
    "            cube = proc_cube(cube,\n",
    "                             bbox=config['region']['bbox'],\n",
    "                             time=(config['date']['start'],\n",
    "                                   config['date']['stop']),\n",
    "                             units=config['units'])\n",
    "        else:\n",
    "            print('[Not model data]: {}'.format(url))\n",
    "            continue\n",
    "        cube = get_surface(cube)\n",
    "        mod_name = get_model_name(url)\n",
    "        cubes.update({mod_name: cube})\n",
    "    except (RuntimeError, ValueError,\n",
    "            ConstraintMismatchError, CoordinateNotFoundError,\n",
    "            IndexError) as e:\n",
    "        print('Cannot get cube for: {}\\n{}'.format(url, e))"
   ]
  },
  {
   "cell_type": "markdown",
   "metadata": {},
   "source": [
    "Next, we will match them with the nearest observed time-series. The `max_dist=0.08` is in degrees, that is roughly 8 kilometers."
   ]
  },
  {
   "cell_type": "code",
   "execution_count": 15,
   "metadata": {},
   "outputs": [
    {
     "name": "stdout",
     "output_type": "stream",
     "text": [
      " Downloading to file /home/filipe/IOOS/notebooks_demos/notebooks/latest/Forecasts-NECOFS_FVCOM_OCEAN_SCITUATE_FORECAST.nc \n",
      "[No Data] BOSTON 16 NM East of Boston, MA\n",
      "Finished processing [Forecasts-NECOFS_FVCOM_OCEAN_SCITUATE_FORECAST]\n",
      " Downloading to file /home/filipe/IOOS/notebooks_demos/notebooks/latest/pacioos_hycom-global.nc \n",
      "[Water  ] BOSTON 16 NM East of Boston, MA\n",
      "Finished processing [pacioos_hycom-global]\n",
      " Downloading to file /home/filipe/IOOS/notebooks_demos/notebooks/latest/Forecasts-NECOFS_FVCOM_OCEAN_MASSBAY_FORECAST.nc \n",
      "[Water  ] BOSTON 16 NM East of Boston, MA\n",
      "Finished processing [Forecasts-NECOFS_FVCOM_OCEAN_MASSBAY_FORECAST]\n",
      " Downloading to file /home/filipe/IOOS/notebooks_demos/notebooks/latest/Forecasts-NECOFS_FVCOM_OCEAN_BOSTON_FORECAST.nc \n",
      "[No Data] BOSTON 16 NM East of Boston, MA\n",
      "Finished processing [Forecasts-NECOFS_FVCOM_OCEAN_BOSTON_FORECAST]\n",
      " Downloading to file /home/filipe/IOOS/notebooks_demos/notebooks/latest/fmrc-coawst_4_use_best.nc \n",
      "[Water  ] BOSTON 16 NM East of Boston, MA\n",
      "Finished processing [fmrc-coawst_4_use_best]\n",
      " Downloading to file /home/filipe/IOOS/notebooks_demos/notebooks/latest/G1_SST_GLOBAL.nc \n",
      "[Water  ] BOSTON 16 NM East of Boston, MA\n",
      "Finished processing [G1_SST_GLOBAL]\n",
      " Downloading to file /home/filipe/IOOS/notebooks_demos/notebooks/latest/FVCOM_Forecasts-NECOFS_GOM3_FORECAST.nc \n",
      "[Water  ] BOSTON 16 NM East of Boston, MA\n",
      "Finished processing [FVCOM_Forecasts-NECOFS_GOM3_FORECAST]\n",
      " Downloading to file /home/filipe/IOOS/notebooks_demos/notebooks/latest/hioos_satellite-dhw_5km.nc \n",
      "[Water  ] BOSTON 16 NM East of Boston, MA\n",
      "Finished processing [hioos_satellite-dhw_5km]\n",
      " Downloading to file /home/filipe/IOOS/notebooks_demos/notebooks/latest/SECOORA_NCSU_CNAPS.nc \n",
      "[Water  ] BOSTON 16 NM East of Boston, MA\n",
      "Finished processing [SECOORA_NCSU_CNAPS]\n"
     ]
    }
   ],
   "source": [
    "import iris\n",
    "from iris.pandas import as_series\n",
    "from ioos_tools.tardis import (make_tree, get_nearest_water,\n",
    "                               add_station, ensure_timeseries, remove_ssh)\n",
    "\n",
    "for mod_name, cube in cubes.items():\n",
    "    fname = '{}.nc'.format(mod_name)\n",
    "    fname = os.path.join(save_dir, fname)\n",
    "    print(fmt(' Downloading to file {} '.format(fname)))\n",
    "    try:\n",
    "        tree, lon, lat = make_tree(cube)\n",
    "    except CoordinateNotFoundError as e:\n",
    "        print('Cannot make KDTree for: {}'.format(mod_name))\n",
    "        continue\n",
    "    # Get model series at observed locations.\n",
    "    raw_series = dict()\n",
    "    for obs in observations:\n",
    "        obs = obs._metadata\n",
    "        station = obs['station_code']\n",
    "        try:\n",
    "            kw = dict(k=10, max_dist=0.08, min_var=0.01)\n",
    "            args = cube, tree, obs['lon'], obs['lat']\n",
    "            try:\n",
    "                series, dist, idx = get_nearest_water(*args, **kw)\n",
    "            except RuntimeError as e:\n",
    "                print('Cannot download {!r}.\\n{}'.format(cube, e))\n",
    "                series = None\n",
    "        except ValueError as e:\n",
    "            status = 'No Data'\n",
    "            print('[{}] {}'.format(status, obs['station_name']))\n",
    "            continue\n",
    "        if not series:\n",
    "            status = 'Land   '\n",
    "        else:\n",
    "            raw_series.update({station: series})\n",
    "            series = as_series(series)\n",
    "            status = 'Water  '\n",
    "        print('[{}] {}'.format(status, obs['station_name']))\n",
    "    if raw_series:  # Save cube.\n",
    "        for station, cube in raw_series.items():\n",
    "            cube = add_station(cube, station)\n",
    "            cube = remove_ssh(cube)\n",
    "        try:\n",
    "            cube = iris.cube.CubeList(raw_series.values()).merge_cube()\n",
    "        except MergeError as e:\n",
    "            print(e)\n",
    "        ensure_timeseries(cube)\n",
    "        try:\n",
    "            iris.save(cube, fname)\n",
    "        except AttributeError:\n",
    "            # FIXME: we should patch the bad attribute instead of removing everything.\n",
    "            cube.attributes = {}\n",
    "            iris.save(cube, fname)\n",
    "        del cube\n",
    "    print('Finished processing [{}]'.format(mod_name))"
   ]
  },
  {
   "cell_type": "markdown",
   "metadata": {},
   "source": [
    "Now it is possible to compute some simple comparison metrics. First we'll calculate the model mean bias:\n",
    "\n",
    "$$ \\text{MB} = \\mathbf{\\overline{m}} - \\mathbf{\\overline{o}}$$"
   ]
  },
  {
   "cell_type": "code",
   "execution_count": 16,
   "metadata": {
    "collapsed": true
   },
   "outputs": [],
   "source": [
    "from ioos_tools.ioos import stations_keys\n",
    "\n",
    "\n",
    "def rename_cols(df, config):\n",
    "    cols = stations_keys(config, key='station_name')\n",
    "    return df.rename(columns=cols)"
   ]
  },
  {
   "cell_type": "code",
   "execution_count": 17,
   "metadata": {
    "collapsed": true,
    "scrolled": false
   },
   "outputs": [],
   "source": [
    "from ioos_tools.ioos import load_ncs\n",
    "from ioos_tools.skill_score import mean_bias, apply_skill\n",
    "\n",
    "dfs = load_ncs(config)\n",
    "\n",
    "df = apply_skill(dfs, mean_bias, remove_mean=False, filter_tides=False)\n",
    "skill_score = dict(mean_bias=df.to_dict())\n",
    "\n",
    "# Filter out stations with no valid comparison.\n",
    "df.dropna(how='all', axis=1, inplace=True)\n",
    "df = df.applymap('{:.2f}'.format).replace('nan', '--')"
   ]
  },
  {
   "cell_type": "markdown",
   "metadata": {},
   "source": [
    "And the root mean squared rrror of the deviations from the mean:\n",
    "$$ \\text{CRMS} = \\sqrt{\\left(\\mathbf{m'} - \\mathbf{o'}\\right)^2}$$\n",
    "\n",
    "where: $\\mathbf{m'} = \\mathbf{m} - \\mathbf{\\overline{m}}$ and $\\mathbf{o'} = \\mathbf{o} - \\mathbf{\\overline{o}}$"
   ]
  },
  {
   "cell_type": "code",
   "execution_count": 18,
   "metadata": {
    "collapsed": true
   },
   "outputs": [],
   "source": [
    "from ioos_tools.skill_score import rmse\n",
    "\n",
    "dfs = load_ncs(config)\n",
    "\n",
    "df = apply_skill(dfs, rmse, remove_mean=True, filter_tides=False)\n",
    "skill_score['rmse'] = df.to_dict()\n",
    "\n",
    "# Filter out stations with no valid comparison.\n",
    "df.dropna(how='all', axis=1, inplace=True)\n",
    "df = df.applymap('{:.2f}'.format).replace('nan', '--')"
   ]
  },
  {
   "cell_type": "markdown",
   "metadata": {},
   "source": [
    "The next 2 cells make the scores \"pretty\" for plotting."
   ]
  },
  {
   "cell_type": "code",
   "execution_count": 19,
   "metadata": {
    "collapsed": true
   },
   "outputs": [],
   "source": [
    "import pandas as pd\n",
    "\n",
    "# Stringfy keys.\n",
    "for key in skill_score.keys():\n",
    "    skill_score[key] = {str(k): v for k, v in skill_score[key].items()}\n",
    "\n",
    "mean_bias = pd.DataFrame.from_dict(skill_score['mean_bias'])\n",
    "mean_bias = mean_bias.applymap('{:.2f}'.format).replace('nan', '--')\n",
    "\n",
    "skill_score = pd.DataFrame.from_dict(skill_score['rmse'])\n",
    "skill_score = skill_score.applymap('{:.2f}'.format).replace('nan', '--')"
   ]
  },
  {
   "cell_type": "code",
   "execution_count": 20,
   "metadata": {},
   "outputs": [],
   "source": [
    "from ioos_tools.ioos import make_map\n",
    "\n",
    "bbox = config['region']['bbox']\n",
    "units = config['units']\n",
    "run_name = config['run_name']\n",
    "\n",
    "kw = dict(zoom_start=11, line=True, states=False,\n",
    "          secoora_stations=False, layers=False)\n",
    "mapa = make_map(bbox, **kw)"
   ]
  },
  {
   "cell_type": "markdown",
   "metadata": {},
   "source": [
    "The cells from `[20]` to `[25]` create a [`folium`](https://github.com/python-visualization/folium) map with [`bokeh`](http://bokeh.pydata.org/en/latest/) for the time-series at the observed points.\n",
    "\n",
    "Note that we did mark the nearest model cell location used in the comparison."
   ]
  },
  {
   "cell_type": "code",
   "execution_count": 21,
   "metadata": {},
   "outputs": [
    {
     "data": {
      "text/plain": [
       "<folium.plugins.marker_cluster.MarkerCluster at 0x7f8653351ef0>"
      ]
     },
     "execution_count": 21,
     "metadata": {},
     "output_type": "execute_result"
    }
   ],
   "source": [
    "all_obs = stations_keys(config)\n",
    "\n",
    "from glob import glob\n",
    "from operator import itemgetter\n",
    "\n",
    "import iris\n",
    "import folium\n",
    "from folium.plugins import MarkerCluster\n",
    "\n",
    "iris.FUTURE.netcdf_promote = True\n",
    "\n",
    "big_list = []\n",
    "for fname in glob(os.path.join(save_dir, '*.nc')):\n",
    "    if 'OBS_DATA' in fname:\n",
    "        continue\n",
    "    cube = iris.load_cube(fname)\n",
    "    model = os.path.split(fname)[1].split('-')[-1].split('.')[0]\n",
    "    lons = cube.coord(axis='X').points\n",
    "    lats = cube.coord(axis='Y').points\n",
    "    stations = cube.coord('station_code').points\n",
    "    models = [model]*lons.size\n",
    "    lista = zip(models, lons.tolist(), lats.tolist(), stations.tolist())\n",
    "    big_list.extend(lista)\n",
    "\n",
    "big_list.sort(key=itemgetter(3))\n",
    "df = pd.DataFrame(big_list, columns=['name', 'lon', 'lat', 'station'])\n",
    "df.set_index('station', drop=True, inplace=True)\n",
    "groups = df.groupby(df.index)\n",
    "\n",
    "\n",
    "locations, popups = [], []\n",
    "for station, info in groups:\n",
    "    sta_name = all_obs[station]\n",
    "    for lat, lon, name in zip(info.lat, info.lon, info.name):\n",
    "        locations.append([lat, lon])\n",
    "        popups.append('[{}]: {}'.format(name, sta_name))\n",
    "\n",
    "MarkerCluster(locations=locations, popups=popups).add_to(mapa)"
   ]
  },
  {
   "cell_type": "markdown",
   "metadata": {},
   "source": [
    "Here we use a dictionary with some models we expect to find so we can create a better legend for the plots. If any new models are found, we will use its filename in the legend as a default until we can go back and add a short name to our library."
   ]
  },
  {
   "cell_type": "code",
   "execution_count": 22,
   "metadata": {
    "collapsed": true
   },
   "outputs": [],
   "source": [
    "titles = {\n",
    "    'coawst_4_use_best': 'COAWST_4',\n",
    "    'global': 'HYCOM',\n",
    "    'NECOFS_GOM3_FORECAST': 'NECOFS_GOM3',\n",
    "    'NECOFS_FVCOM_OCEAN_MASSBAY_FORECAST': 'NECOFS_MassBay',\n",
    "    'OBS_DATA': 'Observations'\n",
    "}"
   ]
  },
  {
   "cell_type": "code",
   "execution_count": 23,
   "metadata": {
    "collapsed": true
   },
   "outputs": [],
   "source": [
    "from bokeh.resources import CDN\n",
    "from bokeh.plotting import figure\n",
    "from bokeh.embed import file_html\n",
    "from bokeh.models import HoverTool\n",
    "from itertools import cycle\n",
    "from bokeh.palettes import Spectral6\n",
    "\n",
    "from folium import IFrame\n",
    "\n",
    "# Plot defaults.\n",
    "colors = Spectral6\n",
    "colorcycler = cycle(colors)\n",
    "tools = 'pan,box_zoom,reset'\n",
    "width, height = 750, 250\n",
    "\n",
    "\n",
    "def make_plot(df, station):\n",
    "    p = figure(toolbar_location='above',\n",
    "               x_axis_type='datetime',\n",
    "               width=width,\n",
    "               height=height,\n",
    "               tools=tools,\n",
    "               title=str(station))\n",
    "    for column, series in df.iteritems():\n",
    "        series.dropna(inplace=True)\n",
    "        if not series.empty:\n",
    "            line = p.line(\n",
    "                x=series.index,\n",
    "                y=series.values,\n",
    "                legend='%s' % titles.get(column, column),\n",
    "                line_color=next(colorcycler),\n",
    "                line_width=5,\n",
    "                line_cap='round',\n",
    "                line_join='round'\n",
    "            )\n",
    "            if 'OBS_DATA' not in column:\n",
    "                bias = mean_bias[str(station)][column]\n",
    "                skill = skill_score[str(station)][column]\n",
    "            else:\n",
    "                skill = bias = 'NA'\n",
    "            p.add_tools(HoverTool(tooltips=[('Name', '%s' % column),\n",
    "                                            ('Bias', bias),\n",
    "                                            ('Skill', skill)],\n",
    "                                  renderers=[line]))\n",
    "    return p\n",
    "\n",
    "\n",
    "def make_marker(p, station):\n",
    "    lons = stations_keys(config, key='lon')\n",
    "    lats = stations_keys(config, key='lat')\n",
    "\n",
    "    lon, lat = lons[station], lats[station]\n",
    "    html = file_html(p, CDN, station)\n",
    "    iframe = IFrame(html, width=width+40, height=height+80)\n",
    "\n",
    "    popup = folium.Popup(iframe, max_width=2650)\n",
    "    icon = folium.Icon(color='green', icon='stats')\n",
    "    marker = folium.Marker(location=[lat, lon],\n",
    "                           popup=popup,\n",
    "                           icon=icon)\n",
    "    return marker"
   ]
  },
  {
   "cell_type": "code",
   "execution_count": 24,
   "metadata": {},
   "outputs": [
    {
     "data": {
      "text/html": [
       "<div style=\"width:100%;\"><div style=\"position:relative;width:100%;height:0;padding-bottom:60%;\"><iframe src=\"data:text/html;charset=utf-8;base64,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\" style=\"position:absolute;width:100%;height:100%;left:0;top:0;border:none !important;\" allowfullscreen webkitallowfullscreen mozallowfullscreen></iframe></div></div>"
      ],
      "text/plain": [
       "<folium.folium.Map at 0x7f865336c7f0>"
      ]
     },
     "execution_count": 24,
     "metadata": {},
     "output_type": "execute_result"
    }
   ],
   "source": [
    "dfs = load_ncs(config)\n",
    "\n",
    "for station in dfs:\n",
    "    sta_name = all_obs[station]\n",
    "    df = dfs[station]\n",
    "    if df.empty:\n",
    "        continue\n",
    "    p = make_plot(df, station)\n",
    "    maker = make_marker(p, station)\n",
    "    maker.add_to(mapa)\n",
    "\n",
    "mapa"
   ]
  },
  {
   "cell_type": "markdown",
   "metadata": {},
   "source": [
    "Now we can navigate the map and click on the markers to explorer our findings.\n",
    "\n",
    "The green markers locate the observations locations. They pop-up an interactive plot with the time-series and scores for the models (hover over the lines to se the scores). The blue markers indicate the nearest model grid point found for the comparison."
   ]
  }
 ],
 "metadata": {
  "anaconda-cloud": {},
  "kernelspec": {
   "display_name": "Python [default]",
   "language": "python",
   "name": "python3"
  },
  "language_info": {
   "codemirror_mode": {
    "name": "ipython",
    "version": 3
   },
   "file_extension": ".py",
   "mimetype": "text/x-python",
   "name": "python",
   "nbconvert_exporter": "python",
   "pygments_lexer": "ipython3",
   "version": "3.6.1"
  }
 },
 "nbformat": 4,
 "nbformat_minor": 1
}
