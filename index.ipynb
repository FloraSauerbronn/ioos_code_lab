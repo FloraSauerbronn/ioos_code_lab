{
 "cells": [
  {
   "cell_type": "markdown",
   "metadata": {},
   "source": [
    "![](_static/IOOS_Emblem_Tertiary_B_RGB.png)\n",
    "\n",
    "# Demonstrations and examples notebooks\n",
    "\n",
    "- [CF, UGRID, and SGRID conventions](notebooks/conventions/CF-UGRID-SGRID-conventions.ipynb)\n",
    "- [Boston Light Swim part 0](notebooks/boston_light_swim/00-fetch_data.ipynb), [part 1](notebooks/boston_light_swim/01-skill_score.ipynb), and [part 2](notebooks/boston_light_swim/02-create_map.ipynb)\n",
    "- [HF Radar Compliance Checker](notebooks/hfradar/CC_NDBC_SIO_HFRdata.ipynb)\n",
    "- How to use unidata's siphon package: [exploring a THREDDS catalog](notebooks/siphon/siphon-explore-catalog.ipynb) and [subsetting data with NCSS](notebooks/siphon/siphon-ncss.ipynb)\n",
    "- [CSW earch example](notebooks/csw_search_examples/csw_search_example.ipynb)\n",
    "- Virtual glider tracks: [HYCOM](notebooks/glider/glider_hycom_iris.ipynb) and [USEAST](notebooks/glider/glider_useast_iris.ipynb)"
   ]
  }
 ],
 "metadata": {
  "kernelspec": {
   "display_name": "Python [default]",
   "language": "python",
   "name": "python3"
  },
  "language_info": {
   "codemirror_mode": {
    "name": "ipython",
    "version": 3
   },
   "file_extension": ".py",
   "mimetype": "text/x-python",
   "name": "python",
   "nbconvert_exporter": "python",
   "pygments_lexer": "ipython3",
   "version": "3.5.2"
  }
 },
 "nbformat": 4,
 "nbformat_minor": 0
}
