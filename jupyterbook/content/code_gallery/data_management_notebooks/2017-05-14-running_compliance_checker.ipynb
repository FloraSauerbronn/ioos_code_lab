{
 "cells": [
  {
   "cell_type": "code",
   "execution_count": null,
   "metadata": {
    "tags": [
     "remove-cell"
    ]
   },
   "outputs": [],
   "source": [
    "import subprocess\n",
    "import sys\n",
    "\n",
    "COLAB = \"google.colab\" in sys.modules\n",
    "\n",
    "\n",
    "def _install(package):\n",
    "    if COLAB:\n",
    "        ans = input(f\"Install { package }? [y/n]:\")\n",
    "        if ans.lower() in [\"y\", \"yes\"]:\n",
    "            subprocess.check_call(\n",
    "                [sys.executable, \"-m\", \"pip\", \"install\", \"--quiet\", package]\n",
    "            )\n",
    "            print(f\"{ package } installed!\")\n",
    "\n",
    "\n",
    "def _colab_install_missing_deps(deps):\n",
    "    import importlib\n",
    "\n",
    "    for dep in deps:\n",
    "        if importlib.util.find_spec(dep) is None:\n",
    "            if dep == \"iris\":\n",
    "                dep = \"scitools-iris\"\n",
    "            _install(dep)\n",
    "\n",
    "\n",
    "deps = [\"compliance-checker\"]\n",
    "_colab_install_missing_deps(deps)"
   ]
  },
  {
   "cell_type": "markdown",
   "metadata": {},
   "source": [
    "# Shore Station Compliance Checker Script\n",
    "\n",
    "Created: 2017-05-14\n",
    "\n",
    "The IOOS Compliance Checker is a Python-based tool that helps users check the meta data compliance of a netCDF file. This software can be run in a web interface here: [https://compliance.ioos.us/index.html](https://compliance.ioos.us/index.html) The checker can also be run as a Python tool either on the command line or in a Python script.  This notebook demonstrates the python usage of the Compliance Checker.\n",
    "\n",
    "## Purpose:\n",
    "\n",
    "Run the compliance checker python tool on a Scipps Pier shore station dataset to check for the metadata compliance.\n",
    "\n",
    "The Scripps Pier automated shore station operated by Southern California Coastal Ocean Observing System (SCCOOS) at Scripps Institution of Oceanography (SIO) is mounted at a nominal depth of 5 meters MLLW. The instrument package includes a Seabird SBE 16plus SEACAT Conductivity, Temperature, and Pressure recorder, and a Seapoint Chlorophyll Fluorometer with a 0-50 ug/L gain setting.\n",
    "\n",
    "## Dependencies:\n",
    "\n",
    "This script must be run in the \"IOOS\" environment for the compliance checker to work properly.\n",
    "\n",
    "Written by: J.Bosch Feb. 10, 2017"
   ]
  },
  {
   "cell_type": "code",
   "execution_count": 1,
   "metadata": {},
   "outputs": [
    {
     "name": "stdout",
     "output_type": "stream",
     "text": [
      "4.3.4\n"
     ]
    }
   ],
   "source": [
    "import compliance_checker\n",
    "\n",
    "print(compliance_checker.__version__)"
   ]
  },
  {
   "cell_type": "code",
   "execution_count": 2,
   "metadata": {},
   "outputs": [],
   "source": [
    "# First import the compliance checker and test that it is installed properly.\n",
    "from compliance_checker.runner import CheckSuite, ComplianceChecker\n",
    "\n",
    "# Load all available checker classes.\n",
    "check_suite = CheckSuite()\n",
    "check_suite.load_all_available_checkers()"
   ]
  },
  {
   "cell_type": "code",
   "execution_count": 3,
   "metadata": {},
   "outputs": [],
   "source": [
    "# Path to the Scripps Pier Data.\n",
    "\n",
    "url = \"http://gliders.ioos.us/thredds/dodsC/deployments/rutgers/ru29-20150623T1046/ru29-20150623T1046.nc3.nc\""
   ]
  },
  {
   "cell_type": "markdown",
   "metadata": {},
   "source": [
    "### Running Compliance Checker on the Scripps Pier shore station data\n",
    "\n",
    "This code is written with all the arguments spelled out, following the usage instructions on the README section of compliance checker github page: https://github.com/ioos/compliance-checker"
   ]
  },
  {
   "cell_type": "code",
   "execution_count": 4,
   "metadata": {
    "scrolled": false
   },
   "outputs": [],
   "source": [
    "output_file = \"buoy_testCC.txt\"\n",
    "\n",
    "return_value, errors = ComplianceChecker.run_checker(\n",
    "    ds_loc=url,\n",
    "    checker_names=[\"cf\", \"acdd\"],\n",
    "    verbose=True,\n",
    "    criteria=\"normal\",\n",
    "    skip_checks=None,\n",
    "    output_filename=output_file,\n",
    "    output_format=\"text\",\n",
    ")"
   ]
  },
  {
   "cell_type": "code",
   "execution_count": 5,
   "metadata": {
    "scrolled": false
   },
   "outputs": [
    {
     "name": "stdout",
     "output_type": "stream",
     "text": [
      "\n",
      "\n",
      "--------------------------------------------------------------------------------\n",
      "                         IOOS Compliance Checker Report                         \n",
      "                                 Version 4.3.4                                  \n",
      "                     Report generated 2022-01-14T13:19:59Z                      \n",
      "                                     cf:1.7                                     \n",
      "http://cfconventions.org/Data/cf-conventions/cf-conventions-1.7/cf-conventions.html\n",
      "--------------------------------------------------------------------------------\n",
      "                               Corrective Actions                               \n",
      "ru29-20150623T1046.nc3.nc#fillmismatch has 5 potential issues\n",
      "\n",
      "\n",
      "                                     Errors                                     \n",
      "--------------------------------------------------------------------------------\n",
      "§3.5 Flags\n",
      "* precise_lat_qc's flag_meanings and flag_values should have the same number of elements.\n",
      "* precise_lon_qc's flag_meanings and flag_values should have the same number of elements.\n",
      "\n",
      "§9.1 Features and feature types\n",
      "* Different feature types discovered in this dataset: mapped-grid (u, v), trajectoryprofile (conductivity, density, platform_meta, pressure, salinity, temperature)\n",
      "\n",
      "\n",
      "                                    Warnings                                    \n",
      "--------------------------------------------------------------------------------\n",
      "§2.3 Naming Conventions\n",
      "* attribute trajectory:_Encoding should begin with a letter and be composed of letters, digits, and underscores\n",
      "* attribute wmo_id:_Encoding should begin with a letter and be composed of letters, digits, and underscores\n",
      "\n",
      "§2.6 Attributes\n",
      "* §2.6.1 Conventions global attribute does not contain \"CF-1.7\"\n",
      "\n",
      "§9.1 Features and feature types\n",
      "* u is not a trajectoryprofile, it is detected as a mapped-grid\n",
      "* v is not a trajectoryprofile, it is detected as a mapped-grid\n",
      "\n",
      "\n",
      "--------------------------------------------------------------------------------\n",
      "                         IOOS Compliance Checker Report                         \n",
      "                                 Version 4.3.4                                  \n",
      "                     Report generated 2022-01-14T13:19:59Z                      \n",
      "                                    acdd:1.3                                    \n",
      "http://wiki.esipfed.org/index.php?title=Category:Attribute_Conventions_Dataset_Discovery\n",
      "--------------------------------------------------------------------------------\n",
      "                               Corrective Actions                               \n",
      "ru29-20150623T1046.nc3.nc#fillmismatch has 11 potential issues\n",
      "\n",
      "\n",
      "                               Highly Recommended                               \n",
      "--------------------------------------------------------------------------------\n",
      "Global Attributes\n",
      "* Conventions does not contain 'ACDD-1.3'\n",
      "\n",
      "variable \"conductivity\" missing the following attributes:\n",
      "* coverage_content_type\n",
      "\n",
      "variable \"density\" missing the following attributes:\n",
      "* coverage_content_type\n",
      "\n",
      "variable \"platform_meta\" missing the following attributes:\n",
      "* coverage_content_type\n",
      "* standard_name\n",
      "\n",
      "variable \"pressure\" missing the following attributes:\n",
      "* coverage_content_type\n",
      "\n",
      "variable \"salinity\" missing the following attributes:\n",
      "* coverage_content_type\n",
      "\n",
      "variable \"temperature\" missing the following attributes:\n",
      "* coverage_content_type\n",
      "\n",
      "variable \"u\" missing the following attributes:\n",
      "* coverage_content_type\n",
      "\n",
      "variable \"v\" missing the following attributes:\n",
      "* coverage_content_type\n",
      "\n",
      "\n",
      "                                  Recommended                                   \n",
      "--------------------------------------------------------------------------------\n",
      "Global Attributes\n",
      "* geospatial_bounds not present\n",
      "* geospatial_bounds_crs not present\n",
      "* geospatial_bounds_vertical_crs not present\n",
      "* time_coverage_duration not present\n",
      "* time_coverage_resolution not present\n",
      "\n",
      "time_coverage_extents_match\n",
      "* Failed to retrieve and convert times for variables time.\n",
      "\n"
     ]
    }
   ],
   "source": [
    "with open(output_file) as f:\n",
    "    print(f.read())"
   ]
  },
  {
   "cell_type": "markdown",
   "metadata": {
    "collapsed": true
   },
   "source": [
    "This Compliance Checker Report can be used to identify where file meta data can be improved.  A strong meta data record allows for greater utility of the data for a broader audience of data analysts."
   ]
  },
  {
   "cell_type": "code",
   "execution_count": 6,
   "metadata": {},
   "outputs": [
    {
     "name": "stdout",
     "output_type": "stream",
     "text": [
      "https://data.ioos.us/compliance/api/run?report_format=html&test=acdd&url=http://gliders.ioos.us/thredds/dodsC/deployments/rutgers/ru29-20150623T1046/ru29-20150623T1046.nc3.nc#fillmismatch\n",
      "b'{\"error\":\"OSError\",\"message\":\"[Errno -45] NetCDF: Not a valid data type or _FillValue type mismatch: b\\'https://gliders.ioos.us/thredds/dodsC/deployments/rutgers/ru29-20150623T1046/ru29-20150623T1046.nc3.nc\\'\"}\\n'\n"
     ]
    }
   ],
   "source": [
    "import requests\n",
    "test = \"acdd\"\n",
    "\n",
    "cc_url = f\"https://data.ioos.us/compliance/api/run?report_format=html&test={test}&url={url}\"\n",
    "print(cc_url)\n",
    "\n",
    "\n",
    "r = requests.get(cc_url)\n",
    "print(r.content)"
   ]
  },
  {
   "cell_type": "code",
   "execution_count": 7,
   "metadata": {},
   "outputs": [
    {
     "name": "stdout",
     "output_type": "stream",
     "text": [
      "https://data.ioos.us/compliance/api/run?report_format=html&test=cf&url=http://gliders.ioos.us/thredds/dodsC/deployments/rutgers/ru29-20150623T1046/ru29-20150623T1046.nc3.nc#fillmismatch\n",
      "b'{\"error\":\"OSError\",\"message\":\"[Errno -45] NetCDF: Not a valid data type or _FillValue type mismatch: b\\'https://gliders.ioos.us/thredds/dodsC/deployments/rutgers/ru29-20150623T1046/ru29-20150623T1046.nc3.nc\\'\"}\\n'\n"
     ]
    }
   ],
   "source": [
    "test = \"cf\"\n",
    "\n",
    "cc_url = f\"https://data.ioos.us/compliance/api/run?report_format=html&test={test}&url={url}\"\n",
    "print(cc_url)\n",
    "\n",
    "\n",
    "r = requests.get(cc_url)\n",
    "print(r.content)"
   ]
  }
 ],
 "metadata": {
  "_draft": {
   "nbviewer_url": "https://gist.github.com/68144718926fb68097cfebcf8aab012a"
  },
  "anaconda-cloud": {},
  "gist": {
   "data": {
    "description": "code_gallery/data_management_notebooks/2017-05-14-running_compliance_checker.ipynb",
    "public": true
   },
   "id": "68144718926fb68097cfebcf8aab012a"
  },
  "kernelspec": {
   "display_name": "Python 3 (ipykernel)",
   "language": "python",
   "name": "python3"
  },
  "language_info": {
   "codemirror_mode": {
    "name": "ipython",
    "version": 3
   },
   "file_extension": ".py",
   "mimetype": "text/x-python",
   "name": "python",
   "nbconvert_exporter": "python",
   "pygments_lexer": "ipython3",
   "version": "3.11.5"
  }
 },
 "nbformat": 4,
 "nbformat_minor": 1
}
