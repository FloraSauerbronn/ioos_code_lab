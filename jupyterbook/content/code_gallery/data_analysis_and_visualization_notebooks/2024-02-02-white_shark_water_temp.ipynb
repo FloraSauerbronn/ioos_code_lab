{
 "cells": [
  {
   "cell_type": "markdown",
   "metadata": {},
   "source": [
    "# Interpolate MURSST to great white shark telemetry track with R and ERDDAP\n",
    "\n",
    "Created: 2022-03-23\n",
    "\n",
    "Updated: 2024-02-02\n",
    "\n",
    "This notebook walks through downloading a netCDF file from NCEI. The file follows a specific specification for ATN satellite trajectory observations as documented [here](https://github.com/ioos/ioos-atn-data/blob/main/templates/atn_trajectory_template.cdl). More information about the ATN netCDF specification can be found at https://ioos.github.io/ioos-atn-data/.\n",
    "\n",
    "Since most of the examples in the IOOS Code Lab are in the python programming language, we wanted to show an example of working with a netCDF file in the R programming language to be inclusive of those users. \n",
    "\n",
    "For more information on the tidync package, see this R blog: [https://ropensci.org/blog/2019/11/05/tidync/](https://ropensci.org/blog/2019/11/05/tidync/)\n",
    "\n",
    "Data used in this notebook are available from NCEI at the following link https://www.ncei.noaa.gov/archive/accession/0282699."
   ]
  },
  {
   "cell_type": "code",
   "execution_count": 1,
   "metadata": {},
   "outputs": [
    {
     "name": "stderr",
     "output_type": "stream",
     "text": [
      "The legacy packages maptools, rgdal, and rgeos, underpinning the sp package,\n",
      "which was just loaded, will retire in October 2023.\n",
      "Please refer to R-spatial evolution reports for details, especially\n",
      "https://r-spatial.org/r/2023/05/15/evolution4.html.\n",
      "It may be desirable to make the sf package available;\n",
      "package maintainers should consider adding sf to Suggests:.\n",
      "The sp package is now running under evolution status 2\n",
      "     (status 2 uses the sf package in place of rgdal)\n",
      "\n",
      "-- \u001b[1mAttaching packages\u001b[22m ----------------------------------------------------------------------------------------------------------------------------------------------------------------------------------------------- tidyverse 1.3.2 --\n",
      "\u001b[32mv\u001b[39m \u001b[34mggplot2\u001b[39m 3.4.2     \u001b[32mv\u001b[39m \u001b[34mpurrr  \u001b[39m 1.0.1\n",
      "\u001b[32mv\u001b[39m \u001b[34mtibble \u001b[39m 3.2.1     \u001b[32mv\u001b[39m \u001b[34mdplyr  \u001b[39m 1.1.1\n",
      "\u001b[32mv\u001b[39m \u001b[34mtidyr  \u001b[39m 1.3.0     \u001b[32mv\u001b[39m \u001b[34mstringr\u001b[39m 1.5.0\n",
      "\u001b[32mv\u001b[39m \u001b[34mreadr  \u001b[39m 2.1.4     \u001b[32mv\u001b[39m \u001b[34mforcats\u001b[39m 1.0.0\n",
      "-- \u001b[1mConflicts\u001b[22m -------------------------------------------------------------------------------------------------------------------------------------------------------------------------------------------------- tidyverse_conflicts() --\n",
      "\u001b[31mx\u001b[39m \u001b[34mdplyr\u001b[39m::\u001b[32mfilter()\u001b[39m masks \u001b[34mstats\u001b[39m::filter()\n",
      "\u001b[31mx\u001b[39m \u001b[34mdplyr\u001b[39m::\u001b[32mlag()\u001b[39m    masks \u001b[34mstats\u001b[39m::lag()\n",
      "\n",
      "Attaching package: 'lubridate'\n",
      "\n",
      "\n",
      "The following objects are masked from 'package:base':\n",
      "\n",
      "    date, intersect, setdiff, union\n",
      "\n",
      "\n",
      "\n",
      "Attaching package: 'maps'\n",
      "\n",
      "\n",
      "The following object is masked from 'package:purrr':\n",
      "\n",
      "    map\n",
      "\n",
      "\n"
     ]
    }
   ],
   "source": [
    "library(tidync)\n",
    "library(obistools)\n",
    "library(ncdf4)\n",
    "library(tidyverse)\n",
    "library(lubridate)\n",
    "library(maps)\n",
    "library(mapdata)"
   ]
  },
  {
   "cell_type": "markdown",
   "metadata": {},
   "source": [
    "## Download the netCDF file from the NCEI Archive\n",
    "\n",
    "See https://www.ncei.noaa.gov/archive/accession/0282699"
   ]
  },
  {
   "cell_type": "code",
   "execution_count": 2,
   "metadata": {},
   "outputs": [],
   "source": [
    "url = 'https://www.nodc.noaa.gov/archive/arc0217/0282699/1.1/data/0-data/atn_45866_great-white-shark_trajectory_20090923-20091123.nc'\n",
    "\n",
    "fname = basename(url)\n",
    "\n",
    "download.file(url, fname, mode = \"wb\")"
   ]
  },
  {
   "cell_type": "markdown",
   "metadata": {},
   "source": [
    "## Collect all the metadata from the netCDF file.\n",
    "\n",
    "This gathers not only the global attributes, but the variable level attributes as well. As you can see in the **variable** column the term `NC_GLOBAL` refers to global attributes."
   ]
  },
  {
   "cell_type": "code",
   "execution_count": 3,
   "metadata": {},
   "outputs": [],
   "source": [
    "metadata <- ncmeta::nc_atts(fname)"
   ]
  },
  {
   "cell_type": "markdown",
   "metadata": {},
   "source": [
    "## Example extracting attributes from netCDF\n",
    "\n",
    "To give you an idea of what observations are in this file, we can print out the human readable `summary` and `long_name` attributes from all the variables."
   ]
  },
  {
   "cell_type": "code",
   "execution_count": 4,
   "metadata": {},
   "outputs": [
    {
     "data": {
      "text/html": [
       "<table class=\"dataframe\">\n",
       "<caption>A tibble: 1 × 4</caption>\n",
       "<thead>\n",
       "\t<tr><th scope=col>id</th><th scope=col>name</th><th scope=col>variable</th><th scope=col>value</th></tr>\n",
       "\t<tr><th scope=col>&lt;int&gt;</th><th scope=col>&lt;chr&gt;</th><th scope=col>&lt;chr&gt;</th><th scope=col>&lt;named list&gt;</th></tr>\n",
       "</thead>\n",
       "<tbody>\n",
       "\t<tr><td>46</td><td>summary</td><td>NC_GLOBAL</td><td>Wildlife Computers SPOT5 tag (ptt id 45866) deployed on a great white shark (Carcharodon carcharias) by Chris G. Lowe in the North Pacific Ocean from 2009-09-23 to 2009-11-23</td></tr>\n",
       "</tbody>\n",
       "</table>\n"
      ],
      "text/latex": [
       "A tibble: 1 × 4\n",
       "\\begin{tabular}{llll}\n",
       " id & name & variable & value\\\\\n",
       " <int> & <chr> & <chr> & <named list>\\\\\n",
       "\\hline\n",
       "\t 46 & summary & NC\\_GLOBAL & Wildlife Computers SPOT5 tag (ptt id 45866) deployed on a great white shark (Carcharodon carcharias) by Chris G. Lowe in the North Pacific Ocean from 2009-09-23 to 2009-11-23\\\\\n",
       "\\end{tabular}\n"
      ],
      "text/markdown": [
       "\n",
       "A tibble: 1 × 4\n",
       "\n",
       "| id &lt;int&gt; | name &lt;chr&gt; | variable &lt;chr&gt; | value &lt;named list&gt; |\n",
       "|---|---|---|---|\n",
       "| 46 | summary | NC_GLOBAL | Wildlife Computers SPOT5 tag (ptt id 45866) deployed on a great white shark (Carcharodon carcharias) by Chris G. Lowe in the North Pacific Ocean from 2009-09-23 to 2009-11-23 |\n",
       "\n"
      ],
      "text/plain": [
       "  id name    variable \n",
       "1 46 summary NC_GLOBAL\n",
       "  value                                                                                                                                                                         \n",
       "1 Wildlife Computers SPOT5 tag (ptt id 45866) deployed on a great white shark (Carcharodon carcharias) by Chris G. Lowe in the North Pacific Ocean from 2009-09-23 to 2009-11-23"
      ]
     },
     "metadata": {},
     "output_type": "display_data"
    }
   ],
   "source": [
    "metadata %>% dplyr::filter(name == \"summary\")"
   ]
  },
  {
   "cell_type": "code",
   "execution_count": 5,
   "metadata": {},
   "outputs": [
    {
     "data": {
      "text/html": [
       "<table class=\"dataframe\">\n",
       "<caption>A tibble: 36 × 4</caption>\n",
       "<thead>\n",
       "\t<tr><th scope=col>id</th><th scope=col>name</th><th scope=col>variable</th><th scope=col>value</th></tr>\n",
       "\t<tr><th scope=col>&lt;int&gt;</th><th scope=col>&lt;chr&gt;</th><th scope=col>&lt;chr&gt;</th><th scope=col>&lt;named list&gt;</th></tr>\n",
       "</thead>\n",
       "<tbody>\n",
       "\t<tr><td>0</td><td>long_name</td><td>deploy_id           </td><td>id for this deployment. This is typically the tag ptt</td></tr>\n",
       "\t<tr><td>5</td><td>long_name</td><td>time                </td><td>Time of the measurement, in seconds since 1990-01-01</td></tr>\n",
       "\t<tr><td>2</td><td>long_name</td><td>z                   </td><td>depth of measurement</td></tr>\n",
       "\t<tr><td>2</td><td>long_name</td><td>lat                 </td><td>Latitude portion of location in decimal degrees North</td></tr>\n",
       "\t<tr><td>2</td><td>long_name</td><td>lon                 </td><td>Longitude portion of location in decimal degrees East</td></tr>\n",
       "\t<tr><td>2</td><td>long_name</td><td>ptt                 </td><td>Platform Transmitter Terminal (PTT) id used for Argos transmissions</td></tr>\n",
       "\t<tr><td>2</td><td>long_name</td><td>instrument          </td><td>Instrument family</td></tr>\n",
       "\t<tr><td>2</td><td>long_name</td><td>type                </td><td>Type of location information - Argos, GPS satellite or user provided location</td></tr>\n",
       "\t<tr><td>3</td><td>long_name</td><td>location_class      </td><td>Location Quality Code from ARGOS satellite system</td></tr>\n",
       "\t<tr><td>2</td><td>long_name</td><td>error_radius        </td><td>Error radius</td></tr>\n",
       "\t<tr><td>2</td><td>long_name</td><td>semi_major_axis     </td><td>Error - ellipse semi-major axis</td></tr>\n",
       "\t<tr><td>2</td><td>long_name</td><td>semi_minor_axis     </td><td>Error - ellipse semi-minor axis</td></tr>\n",
       "\t<tr><td>2</td><td>long_name</td><td>ellipse_orientation </td><td>Error - ellipse orientation in degrees clockwise from true north</td></tr>\n",
       "\t<tr><td>2</td><td>long_name</td><td>offset              </td><td>Error - offset in meters to center of error ellipse or circle</td></tr>\n",
       "\t<tr><td>2</td><td>long_name</td><td>offset_orientation  </td><td>Error - offset orientation angle to ellipse center</td></tr>\n",
       "\t<tr><td>2</td><td>long_name</td><td>gpe_msd             </td><td></td></tr>\n",
       "\t<tr><td>2</td><td>long_name</td><td>gpe_u               </td><td></td></tr>\n",
       "\t<tr><td>3</td><td>long_name</td><td>count               </td><td>Count</td></tr>\n",
       "\t<tr><td>3</td><td>long_name</td><td>qartod_time_flag    </td><td>Time QC test - gross range test</td></tr>\n",
       "\t<tr><td>3</td><td>long_name</td><td>qartod_speed_flag   </td><td>Speed QC test - gross range test</td></tr>\n",
       "\t<tr><td>3</td><td>long_name</td><td>qartod_location_flag</td><td>Location QC test - Location test</td></tr>\n",
       "\t<tr><td>3</td><td>long_name</td><td>qartod_rollup_flag  </td><td>Aggregate QC value</td></tr>\n",
       "\t<tr><td>3</td><td>long_name</td><td>crs                 </td><td>Coordinate Reference System - http://www.opengis.net/def/crs/EPSG/0/4326</td></tr>\n",
       "\t<tr><td>1</td><td>long_name</td><td>trajectory          </td><td>trajectory identifier</td></tr>\n",
       "\t<tr><td>2</td><td>long_name</td><td>animal_age          </td><td>age of the animal as measured or estimated at deployment</td></tr>\n",
       "\t<tr><td>1</td><td>long_name</td><td>animal_life_stage   </td><td>Lifestage of the animal at time of deployment </td></tr>\n",
       "\t<tr><td>1</td><td>long_name</td><td>animal_sex          </td><td>sex of the animal at time of tag deployment</td></tr>\n",
       "\t<tr><td>2</td><td>long_name</td><td>animal_weight       </td><td>mass of the animal as measured or estimated at deployment</td></tr>\n",
       "\t<tr><td>4</td><td>long_name</td><td>animal_length       </td><td>length of the animal as measured or estimated at deployment</td></tr>\n",
       "\t<tr><td>4</td><td>long_name</td><td>animal_length_2     </td><td>length of the animal as measured or estimated at deployment</td></tr>\n",
       "\t<tr><td>3</td><td>long_name</td><td>animal              </td><td>tagged animal id</td></tr>\n",
       "\t<tr><td>3</td><td>long_name</td><td>instrument_tag      </td><td>telemetry tag applied to animal</td></tr>\n",
       "\t<tr><td>3</td><td>long_name</td><td>instrument_location </td><td>Wildlife Computers SPOT5</td></tr>\n",
       "\t<tr><td>1</td><td>long_name</td><td>taxon_name          </td><td>most precise taxonomic classification for the tagged animal</td></tr>\n",
       "\t<tr><td>1</td><td>long_name</td><td>taxon_lsid          </td><td>Namespaced Taxon Identifier for the tagged animal</td></tr>\n",
       "\t<tr><td>0</td><td>long_name</td><td>comment             </td><td>Comment</td></tr>\n",
       "</tbody>\n",
       "</table>\n"
      ],
      "text/latex": [
       "A tibble: 36 × 4\n",
       "\\begin{tabular}{llll}\n",
       " id & name & variable & value\\\\\n",
       " <int> & <chr> & <chr> & <named list>\\\\\n",
       "\\hline\n",
       "\t 0 & long\\_name & deploy\\_id            & id for this deployment. This is typically the tag ptt\\\\\n",
       "\t 5 & long\\_name & time                 & Time of the measurement, in seconds since 1990-01-01\\\\\n",
       "\t 2 & long\\_name & z                    & depth of measurement\\\\\n",
       "\t 2 & long\\_name & lat                  & Latitude portion of location in decimal degrees North\\\\\n",
       "\t 2 & long\\_name & lon                  & Longitude portion of location in decimal degrees East\\\\\n",
       "\t 2 & long\\_name & ptt                  & Platform Transmitter Terminal (PTT) id used for Argos transmissions\\\\\n",
       "\t 2 & long\\_name & instrument           & Instrument family\\\\\n",
       "\t 2 & long\\_name & type                 & Type of location information - Argos, GPS satellite or user provided location\\\\\n",
       "\t 3 & long\\_name & location\\_class       & Location Quality Code from ARGOS satellite system\\\\\n",
       "\t 2 & long\\_name & error\\_radius         & Error radius\\\\\n",
       "\t 2 & long\\_name & semi\\_major\\_axis      & Error - ellipse semi-major axis\\\\\n",
       "\t 2 & long\\_name & semi\\_minor\\_axis      & Error - ellipse semi-minor axis\\\\\n",
       "\t 2 & long\\_name & ellipse\\_orientation  & Error - ellipse orientation in degrees clockwise from true north\\\\\n",
       "\t 2 & long\\_name & offset               & Error - offset in meters to center of error ellipse or circle\\\\\n",
       "\t 2 & long\\_name & offset\\_orientation   & Error - offset orientation angle to ellipse center\\\\\n",
       "\t 2 & long\\_name & gpe\\_msd              & \\\\\n",
       "\t 2 & long\\_name & gpe\\_u                & \\\\\n",
       "\t 3 & long\\_name & count                & Count\\\\\n",
       "\t 3 & long\\_name & qartod\\_time\\_flag     & Time QC test - gross range test\\\\\n",
       "\t 3 & long\\_name & qartod\\_speed\\_flag    & Speed QC test - gross range test\\\\\n",
       "\t 3 & long\\_name & qartod\\_location\\_flag & Location QC test - Location test\\\\\n",
       "\t 3 & long\\_name & qartod\\_rollup\\_flag   & Aggregate QC value\\\\\n",
       "\t 3 & long\\_name & crs                  & Coordinate Reference System - http://www.opengis.net/def/crs/EPSG/0/4326\\\\\n",
       "\t 1 & long\\_name & trajectory           & trajectory identifier\\\\\n",
       "\t 2 & long\\_name & animal\\_age           & age of the animal as measured or estimated at deployment\\\\\n",
       "\t 1 & long\\_name & animal\\_life\\_stage    & Lifestage of the animal at time of deployment \\\\\n",
       "\t 1 & long\\_name & animal\\_sex           & sex of the animal at time of tag deployment\\\\\n",
       "\t 2 & long\\_name & animal\\_weight        & mass of the animal as measured or estimated at deployment\\\\\n",
       "\t 4 & long\\_name & animal\\_length        & length of the animal as measured or estimated at deployment\\\\\n",
       "\t 4 & long\\_name & animal\\_length\\_2      & length of the animal as measured or estimated at deployment\\\\\n",
       "\t 3 & long\\_name & animal               & tagged animal id\\\\\n",
       "\t 3 & long\\_name & instrument\\_tag       & telemetry tag applied to animal\\\\\n",
       "\t 3 & long\\_name & instrument\\_location  & Wildlife Computers SPOT5\\\\\n",
       "\t 1 & long\\_name & taxon\\_name           & most precise taxonomic classification for the tagged animal\\\\\n",
       "\t 1 & long\\_name & taxon\\_lsid           & Namespaced Taxon Identifier for the tagged animal\\\\\n",
       "\t 0 & long\\_name & comment              & Comment\\\\\n",
       "\\end{tabular}\n"
      ],
      "text/markdown": [
       "\n",
       "A tibble: 36 × 4\n",
       "\n",
       "| id &lt;int&gt; | name &lt;chr&gt; | variable &lt;chr&gt; | value &lt;named list&gt; |\n",
       "|---|---|---|---|\n",
       "| 0 | long_name | deploy_id            | id for this deployment. This is typically the tag ptt |\n",
       "| 5 | long_name | time                 | Time of the measurement, in seconds since 1990-01-01 |\n",
       "| 2 | long_name | z                    | depth of measurement |\n",
       "| 2 | long_name | lat                  | Latitude portion of location in decimal degrees North |\n",
       "| 2 | long_name | lon                  | Longitude portion of location in decimal degrees East |\n",
       "| 2 | long_name | ptt                  | Platform Transmitter Terminal (PTT) id used for Argos transmissions |\n",
       "| 2 | long_name | instrument           | Instrument family |\n",
       "| 2 | long_name | type                 | Type of location information - Argos, GPS satellite or user provided location |\n",
       "| 3 | long_name | location_class       | Location Quality Code from ARGOS satellite system |\n",
       "| 2 | long_name | error_radius         | Error radius |\n",
       "| 2 | long_name | semi_major_axis      | Error - ellipse semi-major axis |\n",
       "| 2 | long_name | semi_minor_axis      | Error - ellipse semi-minor axis |\n",
       "| 2 | long_name | ellipse_orientation  | Error - ellipse orientation in degrees clockwise from true north |\n",
       "| 2 | long_name | offset               | Error - offset in meters to center of error ellipse or circle |\n",
       "| 2 | long_name | offset_orientation   | Error - offset orientation angle to ellipse center |\n",
       "| 2 | long_name | gpe_msd              | <!----> |\n",
       "| 2 | long_name | gpe_u                | <!----> |\n",
       "| 3 | long_name | count                | Count |\n",
       "| 3 | long_name | qartod_time_flag     | Time QC test - gross range test |\n",
       "| 3 | long_name | qartod_speed_flag    | Speed QC test - gross range test |\n",
       "| 3 | long_name | qartod_location_flag | Location QC test - Location test |\n",
       "| 3 | long_name | qartod_rollup_flag   | Aggregate QC value |\n",
       "| 3 | long_name | crs                  | Coordinate Reference System - http://www.opengis.net/def/crs/EPSG/0/4326 |\n",
       "| 1 | long_name | trajectory           | trajectory identifier |\n",
       "| 2 | long_name | animal_age           | age of the animal as measured or estimated at deployment |\n",
       "| 1 | long_name | animal_life_stage    | Lifestage of the animal at time of deployment  |\n",
       "| 1 | long_name | animal_sex           | sex of the animal at time of tag deployment |\n",
       "| 2 | long_name | animal_weight        | mass of the animal as measured or estimated at deployment |\n",
       "| 4 | long_name | animal_length        | length of the animal as measured or estimated at deployment |\n",
       "| 4 | long_name | animal_length_2      | length of the animal as measured or estimated at deployment |\n",
       "| 3 | long_name | animal               | tagged animal id |\n",
       "| 3 | long_name | instrument_tag       | telemetry tag applied to animal |\n",
       "| 3 | long_name | instrument_location  | Wildlife Computers SPOT5 |\n",
       "| 1 | long_name | taxon_name           | most precise taxonomic classification for the tagged animal |\n",
       "| 1 | long_name | taxon_lsid           | Namespaced Taxon Identifier for the tagged animal |\n",
       "| 0 | long_name | comment              | Comment |\n",
       "\n"
      ],
      "text/plain": [
       "   id name      variable            \n",
       "1  0  long_name deploy_id           \n",
       "2  5  long_name time                \n",
       "3  2  long_name z                   \n",
       "4  2  long_name lat                 \n",
       "5  2  long_name lon                 \n",
       "6  2  long_name ptt                 \n",
       "7  2  long_name instrument          \n",
       "8  2  long_name type                \n",
       "9  3  long_name location_class      \n",
       "10 2  long_name error_radius        \n",
       "11 2  long_name semi_major_axis     \n",
       "12 2  long_name semi_minor_axis     \n",
       "13 2  long_name ellipse_orientation \n",
       "14 2  long_name offset              \n",
       "15 2  long_name offset_orientation  \n",
       "16 2  long_name gpe_msd             \n",
       "17 2  long_name gpe_u               \n",
       "18 3  long_name count               \n",
       "19 3  long_name qartod_time_flag    \n",
       "20 3  long_name qartod_speed_flag   \n",
       "21 3  long_name qartod_location_flag\n",
       "22 3  long_name qartod_rollup_flag  \n",
       "23 3  long_name crs                 \n",
       "24 1  long_name trajectory          \n",
       "25 2  long_name animal_age          \n",
       "26 1  long_name animal_life_stage   \n",
       "27 1  long_name animal_sex          \n",
       "28 2  long_name animal_weight       \n",
       "29 4  long_name animal_length       \n",
       "30 4  long_name animal_length_2     \n",
       "31 3  long_name animal              \n",
       "32 3  long_name instrument_tag      \n",
       "33 3  long_name instrument_location \n",
       "34 1  long_name taxon_name          \n",
       "35 1  long_name taxon_lsid          \n",
       "36 0  long_name comment             \n",
       "   value                                                                        \n",
       "1  id for this deployment. This is typically the tag ptt                        \n",
       "2  Time of the measurement, in seconds since 1990-01-01                         \n",
       "3  depth of measurement                                                         \n",
       "4  Latitude portion of location in decimal degrees North                        \n",
       "5  Longitude portion of location in decimal degrees East                        \n",
       "6  Platform Transmitter Terminal (PTT) id used for Argos transmissions          \n",
       "7  Instrument family                                                            \n",
       "8  Type of location information - Argos, GPS satellite or user provided location\n",
       "9  Location Quality Code from ARGOS satellite system                            \n",
       "10 Error radius                                                                 \n",
       "11 Error - ellipse semi-major axis                                              \n",
       "12 Error - ellipse semi-minor axis                                              \n",
       "13 Error - ellipse orientation in degrees clockwise from true north             \n",
       "14 Error - offset in meters to center of error ellipse or circle                \n",
       "15 Error - offset orientation angle to ellipse center                           \n",
       "16                                                                              \n",
       "17                                                                              \n",
       "18 Count                                                                        \n",
       "19 Time QC test - gross range test                                              \n",
       "20 Speed QC test - gross range test                                             \n",
       "21 Location QC test - Location test                                             \n",
       "22 Aggregate QC value                                                           \n",
       "23 Coordinate Reference System - http://www.opengis.net/def/crs/EPSG/0/4326     \n",
       "24 trajectory identifier                                                        \n",
       "25 age of the animal as measured or estimated at deployment                     \n",
       "26 Lifestage of the animal at time of deployment                                \n",
       "27 sex of the animal at time of tag deployment                                  \n",
       "28 mass of the animal as measured or estimated at deployment                    \n",
       "29 length of the animal as measured or estimated at deployment                  \n",
       "30 length of the animal as measured or estimated at deployment                  \n",
       "31 tagged animal id                                                             \n",
       "32 telemetry tag applied to animal                                              \n",
       "33 Wildlife Computers SPOT5                                                     \n",
       "34 most precise taxonomic classification for the tagged animal                  \n",
       "35 Namespaced Taxon Identifier for the tagged animal                            \n",
       "36 Comment                                                                      "
      ]
     },
     "metadata": {},
     "output_type": "display_data"
    }
   ],
   "source": [
    "metadata %>% dplyr::filter(name == \"long_name\")"
   ]
  },
  {
   "cell_type": "markdown",
   "metadata": {},
   "source": [
    "## Store the data as a tibble in a variable\n",
    "Collect the data dimensioned by `time` from the netCDF file as a tibble. Then, print the first few rows."
   ]
  },
  {
   "cell_type": "code",
   "execution_count": 6,
   "metadata": {},
   "outputs": [
    {
     "data": {
      "text/html": [
       "<table class=\"dataframe\">\n",
       "<caption>A tibble: 4 × 23</caption>\n",
       "<thead>\n",
       "\t<tr><th scope=col>time</th><th scope=col>z</th><th scope=col>lat</th><th scope=col>lon</th><th scope=col>ptt</th><th scope=col>instrument</th><th scope=col>type</th><th scope=col>location_class</th><th scope=col>error_radius</th><th scope=col>semi_major_axis</th><th scope=col>...</th><th scope=col>offset_orientation</th><th scope=col>gpe_msd</th><th scope=col>gpe_u</th><th scope=col>count</th><th scope=col>qartod_time_flag</th><th scope=col>qartod_speed_flag</th><th scope=col>qartod_location_flag</th><th scope=col>qartod_rollup_flag</th><th scope=col>comment</th><th scope=col>obs</th></tr>\n",
       "\t<tr><th scope=col>&lt;dbl&gt;</th><th scope=col>&lt;int&gt;</th><th scope=col>&lt;dbl&gt;</th><th scope=col>&lt;dbl&gt;</th><th scope=col>&lt;int&gt;</th><th scope=col>&lt;chr&gt;</th><th scope=col>&lt;chr&gt;</th><th scope=col>&lt;chr&gt;</th><th scope=col>&lt;int&gt;</th><th scope=col>&lt;int&gt;</th><th scope=col>...</th><th scope=col>&lt;int&gt;</th><th scope=col>&lt;dbl&gt;</th><th scope=col>&lt;dbl&gt;</th><th scope=col>&lt;int&gt;</th><th scope=col>&lt;int&gt;</th><th scope=col>&lt;int&gt;</th><th scope=col>&lt;int&gt;</th><th scope=col>&lt;int&gt;</th><th scope=col>&lt;chr&gt;</th><th scope=col>&lt;int&gt;</th></tr>\n",
       "</thead>\n",
       "<tbody>\n",
       "\t<tr><td>622512000</td><td>0</td><td>34.030</td><td>-118.560</td><td>45866</td><td>SPOT</td><td>User </td><td>nan</td><td>NA</td><td>NA</td><td>...</td><td>NA</td><td>NaN</td><td>NaN</td><td>NA</td><td>1</td><td>2</td><td>1</td><td>1</td><td></td><td>1</td></tr>\n",
       "\t<tr><td>622708920</td><td>0</td><td>23.590</td><td>-166.180</td><td>45866</td><td>SPOT</td><td>Argos</td><td>A  </td><td>NA</td><td>NA</td><td>...</td><td>NA</td><td>NaN</td><td>NaN</td><td>NA</td><td>1</td><td>4</td><td>1</td><td>4</td><td></td><td>2</td></tr>\n",
       "\t<tr><td>622724940</td><td>0</td><td>34.024</td><td>-118.556</td><td>45866</td><td>SPOT</td><td>Argos</td><td>1  </td><td>NA</td><td>NA</td><td>...</td><td>NA</td><td>NaN</td><td>NaN</td><td>NA</td><td>1</td><td>4</td><td>1</td><td>4</td><td></td><td>3</td></tr>\n",
       "\t<tr><td>622725060</td><td>0</td><td>34.035</td><td>-118.549</td><td>45866</td><td>SPOT</td><td>Argos</td><td>0  </td><td>NA</td><td>NA</td><td>...</td><td>NA</td><td>NaN</td><td>NaN</td><td>NA</td><td>1</td><td>4</td><td>1</td><td>4</td><td></td><td>4</td></tr>\n",
       "</tbody>\n",
       "</table>\n"
      ],
      "text/latex": [
       "A tibble: 4 × 23\n",
       "\\begin{tabular}{lllllllllllllllllllll}\n",
       " time & z & lat & lon & ptt & instrument & type & location\\_class & error\\_radius & semi\\_major\\_axis & ... & offset\\_orientation & gpe\\_msd & gpe\\_u & count & qartod\\_time\\_flag & qartod\\_speed\\_flag & qartod\\_location\\_flag & qartod\\_rollup\\_flag & comment & obs\\\\\n",
       " <dbl> & <int> & <dbl> & <dbl> & <int> & <chr> & <chr> & <chr> & <int> & <int> & ... & <int> & <dbl> & <dbl> & <int> & <int> & <int> & <int> & <int> & <chr> & <int>\\\\\n",
       "\\hline\n",
       "\t 622512000 & 0 & 34.030 & -118.560 & 45866 & SPOT & User  & nan & NA & NA & ... & NA & NaN & NaN & NA & 1 & 2 & 1 & 1 &  & 1\\\\\n",
       "\t 622708920 & 0 & 23.590 & -166.180 & 45866 & SPOT & Argos & A   & NA & NA & ... & NA & NaN & NaN & NA & 1 & 4 & 1 & 4 &  & 2\\\\\n",
       "\t 622724940 & 0 & 34.024 & -118.556 & 45866 & SPOT & Argos & 1   & NA & NA & ... & NA & NaN & NaN & NA & 1 & 4 & 1 & 4 &  & 3\\\\\n",
       "\t 622725060 & 0 & 34.035 & -118.549 & 45866 & SPOT & Argos & 0   & NA & NA & ... & NA & NaN & NaN & NA & 1 & 4 & 1 & 4 &  & 4\\\\\n",
       "\\end{tabular}\n"
      ],
      "text/markdown": [
       "\n",
       "A tibble: 4 × 23\n",
       "\n",
       "| time &lt;dbl&gt; | z &lt;int&gt; | lat &lt;dbl&gt; | lon &lt;dbl&gt; | ptt &lt;int&gt; | instrument &lt;chr&gt; | type &lt;chr&gt; | location_class &lt;chr&gt; | error_radius &lt;int&gt; | semi_major_axis &lt;int&gt; | ... ... | offset_orientation &lt;int&gt; | gpe_msd &lt;dbl&gt; | gpe_u &lt;dbl&gt; | count &lt;int&gt; | qartod_time_flag &lt;int&gt; | qartod_speed_flag &lt;int&gt; | qartod_location_flag &lt;int&gt; | qartod_rollup_flag &lt;int&gt; | comment &lt;chr&gt; | obs &lt;int&gt; |\n",
       "|---|---|---|---|---|---|---|---|---|---|---|---|---|---|---|---|---|---|---|---|---|\n",
       "| 622512000 | 0 | 34.030 | -118.560 | 45866 | SPOT | User  | nan | NA | NA | ... | NA | NaN | NaN | NA | 1 | 2 | 1 | 1 | <!----> | 1 |\n",
       "| 622708920 | 0 | 23.590 | -166.180 | 45866 | SPOT | Argos | A   | NA | NA | ... | NA | NaN | NaN | NA | 1 | 4 | 1 | 4 | <!----> | 2 |\n",
       "| 622724940 | 0 | 34.024 | -118.556 | 45866 | SPOT | Argos | 1   | NA | NA | ... | NA | NaN | NaN | NA | 1 | 4 | 1 | 4 | <!----> | 3 |\n",
       "| 622725060 | 0 | 34.035 | -118.549 | 45866 | SPOT | Argos | 0   | NA | NA | ... | NA | NaN | NaN | NA | 1 | 4 | 1 | 4 | <!----> | 4 |\n",
       "\n"
      ],
      "text/plain": [
       "  time      z lat    lon      ptt   instrument type  location_class\n",
       "1 622512000 0 34.030 -118.560 45866 SPOT       User  nan           \n",
       "2 622708920 0 23.590 -166.180 45866 SPOT       Argos A             \n",
       "3 622724940 0 34.024 -118.556 45866 SPOT       Argos 1             \n",
       "4 622725060 0 34.035 -118.549 45866 SPOT       Argos 0             \n",
       "  error_radius semi_major_axis ... offset_orientation gpe_msd gpe_u count\n",
       "1 NA           NA              ... NA                 NaN     NaN   NA   \n",
       "2 NA           NA              ... NA                 NaN     NaN   NA   \n",
       "3 NA           NA              ... NA                 NaN     NaN   NA   \n",
       "4 NA           NA              ... NA                 NaN     NaN   NA   \n",
       "  qartod_time_flag qartod_speed_flag qartod_location_flag qartod_rollup_flag\n",
       "1 1                2                 1                    1                 \n",
       "2 1                4                 1                    4                 \n",
       "3 1                4                 1                    4                 \n",
       "4 1                4                 1                    4                 \n",
       "  comment obs\n",
       "1         1  \n",
       "2         2  \n",
       "3         3  \n",
       "4         4  "
      ]
     },
     "metadata": {},
     "output_type": "display_data"
    }
   ],
   "source": [
    "atn <- tidync(fname)\n",
    "\n",
    "atn_tbl <- atn %>% hyper_tibble(force=TRUE)\n",
    "\n",
    "head(atn_tbl, n=4)"
   ]
  },
  {
   "cell_type": "markdown",
   "metadata": {},
   "source": [
    "## Dealing with time\n",
    "\n",
    "Notice the data in the **time** column aren't formatted as times. We need to read the metadata associated with the time variable to understand what the units are. Below, we print a tibble of all the attributes from the **time** variable.\n",
    "\n",
    "Notice the _units_ attribute and it's value of `seconds since 1990-01-01 00:00:00Z`. We need to use that information to convert the time variable to something useful that `ggplot` can handle."
   ]
  },
  {
   "cell_type": "code",
   "execution_count": 7,
   "metadata": {},
   "outputs": [
    {
     "data": {
      "text/html": [
       "<table class=\"dataframe\">\n",
       "<caption>A tibble: 13 × 4</caption>\n",
       "<thead>\n",
       "\t<tr><th scope=col>id</th><th scope=col>name</th><th scope=col>variable</th><th scope=col>value</th></tr>\n",
       "\t<tr><th scope=col>&lt;int&gt;</th><th scope=col>&lt;chr&gt;</th><th scope=col>&lt;chr&gt;</th><th scope=col>&lt;named list&gt;</th></tr>\n",
       "</thead>\n",
       "<tbody>\n",
       "\t<tr><td> 0</td><td>units                </td><td>time</td><td>seconds since 1990-01-01 00:00:00Z</td></tr>\n",
       "\t<tr><td> 1</td><td>standard_name        </td><td>time</td><td>time</td></tr>\n",
       "\t<tr><td> 2</td><td>axis                 </td><td>time</td><td>T</td></tr>\n",
       "\t<tr><td> 3</td><td>_CoordinateAxisType  </td><td>time</td><td>Time</td></tr>\n",
       "\t<tr><td> 4</td><td>calendar             </td><td>time</td><td>standard</td></tr>\n",
       "\t<tr><td> 5</td><td>long_name            </td><td>time</td><td>Time of the measurement, in seconds since 1990-01-01</td></tr>\n",
       "\t<tr><td> 6</td><td>actual_min           </td><td>time</td><td>2009-09-23T00:00:00Z</td></tr>\n",
       "\t<tr><td> 7</td><td>actual_max           </td><td>time</td><td>2009-11-23T05:12:00Z</td></tr>\n",
       "\t<tr><td> 8</td><td>ancillary_variables  </td><td>time</td><td>qartod_time_flag qartod_rollup_flag qartod_speed_flag</td></tr>\n",
       "\t<tr><td> 9</td><td>instrument           </td><td>time</td><td>instrument_location</td></tr>\n",
       "\t<tr><td>10</td><td>platform             </td><td>time</td><td>animal</td></tr>\n",
       "\t<tr><td>11</td><td>coverage_content_type</td><td>time</td><td>coordinate</td></tr>\n",
       "\t<tr><td>12</td><td>_FillValue           </td><td>time</td><td>NaN</td></tr>\n",
       "</tbody>\n",
       "</table>\n"
      ],
      "text/latex": [
       "A tibble: 13 × 4\n",
       "\\begin{tabular}{llll}\n",
       " id & name & variable & value\\\\\n",
       " <int> & <chr> & <chr> & <named list>\\\\\n",
       "\\hline\n",
       "\t  0 & units                 & time & seconds since 1990-01-01 00:00:00Z\\\\\n",
       "\t  1 & standard\\_name         & time & time\\\\\n",
       "\t  2 & axis                  & time & T\\\\\n",
       "\t  3 & \\_CoordinateAxisType   & time & Time\\\\\n",
       "\t  4 & calendar              & time & standard\\\\\n",
       "\t  5 & long\\_name             & time & Time of the measurement, in seconds since 1990-01-01\\\\\n",
       "\t  6 & actual\\_min            & time & 2009-09-23T00:00:00Z\\\\\n",
       "\t  7 & actual\\_max            & time & 2009-11-23T05:12:00Z\\\\\n",
       "\t  8 & ancillary\\_variables   & time & qartod\\_time\\_flag qartod\\_rollup\\_flag qartod\\_speed\\_flag\\\\\n",
       "\t  9 & instrument            & time & instrument\\_location\\\\\n",
       "\t 10 & platform              & time & animal\\\\\n",
       "\t 11 & coverage\\_content\\_type & time & coordinate\\\\\n",
       "\t 12 & \\_FillValue            & time & NaN\\\\\n",
       "\\end{tabular}\n"
      ],
      "text/markdown": [
       "\n",
       "A tibble: 13 × 4\n",
       "\n",
       "| id &lt;int&gt; | name &lt;chr&gt; | variable &lt;chr&gt; | value &lt;named list&gt; |\n",
       "|---|---|---|---|\n",
       "|  0 | units                 | time | seconds since 1990-01-01 00:00:00Z |\n",
       "|  1 | standard_name         | time | time |\n",
       "|  2 | axis                  | time | T |\n",
       "|  3 | _CoordinateAxisType   | time | Time |\n",
       "|  4 | calendar              | time | standard |\n",
       "|  5 | long_name             | time | Time of the measurement, in seconds since 1990-01-01 |\n",
       "|  6 | actual_min            | time | 2009-09-23T00:00:00Z |\n",
       "|  7 | actual_max            | time | 2009-11-23T05:12:00Z |\n",
       "|  8 | ancillary_variables   | time | qartod_time_flag qartod_rollup_flag qartod_speed_flag |\n",
       "|  9 | instrument            | time | instrument_location |\n",
       "| 10 | platform              | time | animal |\n",
       "| 11 | coverage_content_type | time | coordinate |\n",
       "| 12 | _FillValue            | time | NaN |\n",
       "\n"
      ],
      "text/plain": [
       "   id name                  variable\n",
       "1   0 units                 time    \n",
       "2   1 standard_name         time    \n",
       "3   2 axis                  time    \n",
       "4   3 _CoordinateAxisType   time    \n",
       "5   4 calendar              time    \n",
       "6   5 long_name             time    \n",
       "7   6 actual_min            time    \n",
       "8   7 actual_max            time    \n",
       "9   8 ancillary_variables   time    \n",
       "10  9 instrument            time    \n",
       "11 10 platform              time    \n",
       "12 11 coverage_content_type time    \n",
       "13 12 _FillValue            time    \n",
       "   value                                                \n",
       "1  seconds since 1990-01-01 00:00:00Z                   \n",
       "2  time                                                 \n",
       "3  T                                                    \n",
       "4  Time                                                 \n",
       "5  standard                                             \n",
       "6  Time of the measurement, in seconds since 1990-01-01 \n",
       "7  2009-09-23T00:00:00Z                                 \n",
       "8  2009-11-23T05:12:00Z                                 \n",
       "9  qartod_time_flag qartod_rollup_flag qartod_speed_flag\n",
       "10 instrument_location                                  \n",
       "11 animal                                               \n",
       "12 coordinate                                           \n",
       "13 NaN                                                  "
      ]
     },
     "metadata": {},
     "output_type": "display_data"
    }
   ],
   "source": [
    "time_attrs <- metadata %>% dplyr::filter(variable == \"time\")\n",
    "time_attrs"
   ]
  },
  {
   "cell_type": "markdown",
   "metadata": {},
   "source": [
    "So, we grab the value from the `units` attribute, split the string to collect the date information, and apply that to a time conversion function `as.POSIXct`."
   ]
  },
  {
   "cell_type": "code",
   "execution_count": 8,
   "metadata": {},
   "outputs": [
    {
     "data": {
      "text/html": [
       "<table class=\"dataframe\">\n",
       "<caption>A tibble: 2 × 23</caption>\n",
       "<thead>\n",
       "\t<tr><th scope=col>time</th><th scope=col>z</th><th scope=col>lat</th><th scope=col>lon</th><th scope=col>ptt</th><th scope=col>instrument</th><th scope=col>type</th><th scope=col>location_class</th><th scope=col>error_radius</th><th scope=col>semi_major_axis</th><th scope=col>...</th><th scope=col>offset_orientation</th><th scope=col>gpe_msd</th><th scope=col>gpe_u</th><th scope=col>count</th><th scope=col>qartod_time_flag</th><th scope=col>qartod_speed_flag</th><th scope=col>qartod_location_flag</th><th scope=col>qartod_rollup_flag</th><th scope=col>comment</th><th scope=col>obs</th></tr>\n",
       "\t<tr><th scope=col>&lt;dttm&gt;</th><th scope=col>&lt;int&gt;</th><th scope=col>&lt;dbl&gt;</th><th scope=col>&lt;dbl&gt;</th><th scope=col>&lt;int&gt;</th><th scope=col>&lt;chr&gt;</th><th scope=col>&lt;chr&gt;</th><th scope=col>&lt;chr&gt;</th><th scope=col>&lt;int&gt;</th><th scope=col>&lt;int&gt;</th><th scope=col>...</th><th scope=col>&lt;int&gt;</th><th scope=col>&lt;dbl&gt;</th><th scope=col>&lt;dbl&gt;</th><th scope=col>&lt;int&gt;</th><th scope=col>&lt;int&gt;</th><th scope=col>&lt;int&gt;</th><th scope=col>&lt;int&gt;</th><th scope=col>&lt;int&gt;</th><th scope=col>&lt;chr&gt;</th><th scope=col>&lt;int&gt;</th></tr>\n",
       "</thead>\n",
       "<tbody>\n",
       "\t<tr><td>2009-09-23 00:00:00</td><td>0</td><td>34.03</td><td>-118.56</td><td>45866</td><td>SPOT</td><td>User </td><td>nan</td><td>NA</td><td>NA</td><td>...</td><td>NA</td><td>NaN</td><td>NaN</td><td>NA</td><td>1</td><td>2</td><td>1</td><td>1</td><td></td><td>1</td></tr>\n",
       "\t<tr><td>2009-09-25 06:42:00</td><td>0</td><td>23.59</td><td>-166.18</td><td>45866</td><td>SPOT</td><td>Argos</td><td>A  </td><td>NA</td><td>NA</td><td>...</td><td>NA</td><td>NaN</td><td>NaN</td><td>NA</td><td>1</td><td>4</td><td>1</td><td>4</td><td></td><td>2</td></tr>\n",
       "</tbody>\n",
       "</table>\n"
      ],
      "text/latex": [
       "A tibble: 2 × 23\n",
       "\\begin{tabular}{lllllllllllllllllllll}\n",
       " time & z & lat & lon & ptt & instrument & type & location\\_class & error\\_radius & semi\\_major\\_axis & ... & offset\\_orientation & gpe\\_msd & gpe\\_u & count & qartod\\_time\\_flag & qartod\\_speed\\_flag & qartod\\_location\\_flag & qartod\\_rollup\\_flag & comment & obs\\\\\n",
       " <dttm> & <int> & <dbl> & <dbl> & <int> & <chr> & <chr> & <chr> & <int> & <int> & ... & <int> & <dbl> & <dbl> & <int> & <int> & <int> & <int> & <int> & <chr> & <int>\\\\\n",
       "\\hline\n",
       "\t 2009-09-23 00:00:00 & 0 & 34.03 & -118.56 & 45866 & SPOT & User  & nan & NA & NA & ... & NA & NaN & NaN & NA & 1 & 2 & 1 & 1 &  & 1\\\\\n",
       "\t 2009-09-25 06:42:00 & 0 & 23.59 & -166.18 & 45866 & SPOT & Argos & A   & NA & NA & ... & NA & NaN & NaN & NA & 1 & 4 & 1 & 4 &  & 2\\\\\n",
       "\\end{tabular}\n"
      ],
      "text/markdown": [
       "\n",
       "A tibble: 2 × 23\n",
       "\n",
       "| time &lt;dttm&gt; | z &lt;int&gt; | lat &lt;dbl&gt; | lon &lt;dbl&gt; | ptt &lt;int&gt; | instrument &lt;chr&gt; | type &lt;chr&gt; | location_class &lt;chr&gt; | error_radius &lt;int&gt; | semi_major_axis &lt;int&gt; | ... ... | offset_orientation &lt;int&gt; | gpe_msd &lt;dbl&gt; | gpe_u &lt;dbl&gt; | count &lt;int&gt; | qartod_time_flag &lt;int&gt; | qartod_speed_flag &lt;int&gt; | qartod_location_flag &lt;int&gt; | qartod_rollup_flag &lt;int&gt; | comment &lt;chr&gt; | obs &lt;int&gt; |\n",
       "|---|---|---|---|---|---|---|---|---|---|---|---|---|---|---|---|---|---|---|---|---|\n",
       "| 2009-09-23 00:00:00 | 0 | 34.03 | -118.56 | 45866 | SPOT | User  | nan | NA | NA | ... | NA | NaN | NaN | NA | 1 | 2 | 1 | 1 | <!----> | 1 |\n",
       "| 2009-09-25 06:42:00 | 0 | 23.59 | -166.18 | 45866 | SPOT | Argos | A   | NA | NA | ... | NA | NaN | NaN | NA | 1 | 4 | 1 | 4 | <!----> | 2 |\n",
       "\n"
      ],
      "text/plain": [
       "  time                z lat   lon     ptt   instrument type  location_class\n",
       "1 2009-09-23 00:00:00 0 34.03 -118.56 45866 SPOT       User  nan           \n",
       "2 2009-09-25 06:42:00 0 23.59 -166.18 45866 SPOT       Argos A             \n",
       "  error_radius semi_major_axis ... offset_orientation gpe_msd gpe_u count\n",
       "1 NA           NA              ... NA                 NaN     NaN   NA   \n",
       "2 NA           NA              ... NA                 NaN     NaN   NA   \n",
       "  qartod_time_flag qartod_speed_flag qartod_location_flag qartod_rollup_flag\n",
       "1 1                2                 1                    1                 \n",
       "2 1                4                 1                    4                 \n",
       "  comment obs\n",
       "1         1  \n",
       "2         2  "
      ]
     },
     "metadata": {},
     "output_type": "display_data"
    }
   ],
   "source": [
    "tunit <- time_attrs %>% dplyr::filter(name == \"units\")\n",
    "lunit <- str_split(tunit$value,' ')[[1]]\n",
    "atn_tbl$time <- as.POSIXct(atn_tbl$time, origin=lunit[3], tz=\"GMT\")\n",
    "\n",
    "head(atn_tbl, n=2)"
   ]
  },
  {
   "cell_type": "markdown",
   "metadata": {},
   "source": [
    "## Plotting the raw data\n",
    "\n",
    "Now lets make some plots just to take a look at what data we're working with. Here we make a plot of time vs longitude."
   ]
  },
  {
   "cell_type": "code",
   "execution_count": 9,
   "metadata": {},
   "outputs": [
    {
     "data": {
      "image/png": "[encoded data removed]",
      "text/plain": [
       "plot without title"
      ]
     },
     "metadata": {
      "image/png": {
       "height": 420,
       "width": 1200
      }
     },
     "output_type": "display_data"
    }
   ],
   "source": [
    "options(repr.plot.width = 20, repr.plot.height = 7)\n",
    "\n",
    "# collect title from global attributes\n",
    "title <- metadata %>% dplyr::filter(variable == \"NC_GLOBAL\") %>% dplyr::filter(name == \"title\")\n",
    "\n",
    "# Map limits.\n",
    "ylim <- c( min(atn_tbl$lat)-0.25, max(atn_tbl$lat)+0.25 )\n",
    "xlim <- c( min(atn_tbl$lon)-0.25, max(atn_tbl$lon)+0.25 )\n",
    "\n",
    "# Get outline data for map.\n",
    "w <- map_data( 'worldHires', ylim = ylim, xlim = xlim )\n",
    "\n",
    "z <- ggplot(atn_tbl, aes( x = lon, y = lat )) +\n",
    "     geom_point( aes(color=location_class), size=2) +\n",
    "     geom_line( color = 'grey' ) +\n",
    "     scale_shape_manual( values = c(19, 1) )\n",
    "\n",
    "z + geom_polygon(data = w, aes(x = long, y = lat, group = group), fill = 'grey80') + \n",
    "    theme_bw() +\n",
    "    coord_fixed(1.3, xlim = xlim, ylim = ylim) + \n",
    "    labs(title = paste( strwrap(title$value, width = 150), collapse = \"\\n\"))"
   ]
  },
  {
   "cell_type": "markdown",
   "metadata": {},
   "source": [
    "What do these `location_class` codes mean?"
   ]
  },
  {
   "cell_type": "code",
   "execution_count": 10,
   "metadata": {},
   "outputs": [
    {
     "data": {
      "text/html": [
       "<table class=\"dataframe\">\n",
       "<caption>A matrix: 2 × 8 of type chr</caption>\n",
       "<tbody>\n",
       "\t<tr><td>G                                                                         </td><td>3                                                                          </td><td>2                                                                        </td><td>1                                                                         </td><td>0                                                                              </td><td>A                                                                                                                      </td><td>B                                                                                                                           </td><td>Z                                                                               </td></tr>\n",
       "\t<tr><td>estimated error less than 100m and 1+ messages received per satellite pass</td><td> estimated error less than 250m and 4+ messages received per satellite pass</td><td> estimated error between 250m and 500m and 4+ messages per satellite pass</td><td> estimated error between 500m and 1500m and 4+ messages per satellite pass</td><td> estimated error greater than 1500m and 4+ messages received per satellite pass</td><td> no least squares estimated error or unbounded kalman filter estimated error and 3 messages received per satellite pass</td><td> no least squares estimated error or unbounded kalman filter estimated error and 1 or 2 messages received per satellite pass</td><td> invalid location (available for Service Plus or Auxilliary Location Processing)</td></tr>\n",
       "</tbody>\n",
       "</table>\n"
      ],
      "text/latex": [
       "A matrix: 2 × 8 of type chr\n",
       "\\begin{tabular}{llllllll}\n",
       "\t G                                                                          & 3                                                                           & 2                                                                         & 1                                                                          & 0                                                                               & A                                                                                                                       & B                                                                                                                            & Z                                                                               \\\\\n",
       "\t estimated error less than 100m and 1+ messages received per satellite pass &  estimated error less than 250m and 4+ messages received per satellite pass &  estimated error between 250m and 500m and 4+ messages per satellite pass &  estimated error between 500m and 1500m and 4+ messages per satellite pass &  estimated error greater than 1500m and 4+ messages received per satellite pass &  no least squares estimated error or unbounded kalman filter estimated error and 3 messages received per satellite pass &  no least squares estimated error or unbounded kalman filter estimated error and 1 or 2 messages received per satellite pass &  invalid location (available for Service Plus or Auxilliary Location Processing)\\\\\n",
       "\\end{tabular}\n"
      ],
      "text/markdown": [
       "\n",
       "A matrix: 2 × 8 of type chr\n",
       "\n",
       "| G                                                                          | 3                                                                           | 2                                                                         | 1                                                                          | 0                                                                               | A                                                                                                                       | B                                                                                                                            | Z                                                                                |\n",
       "| estimated error less than 100m and 1+ messages received per satellite pass |  estimated error less than 250m and 4+ messages received per satellite pass |  estimated error between 250m and 500m and 4+ messages per satellite pass |  estimated error between 500m and 1500m and 4+ messages per satellite pass |  estimated error greater than 1500m and 4+ messages received per satellite pass |  no least squares estimated error or unbounded kalman filter estimated error and 3 messages received per satellite pass |  no least squares estimated error or unbounded kalman filter estimated error and 1 or 2 messages received per satellite pass |  invalid location (available for Service Plus or Auxilliary Location Processing) |\n",
       "\n"
      ],
      "text/plain": [
       "     [,1]                                                                      \n",
       "[1,] G                                                                         \n",
       "[2,] estimated error less than 100m and 1+ messages received per satellite pass\n",
       "     [,2]                                                                       \n",
       "[1,] 3                                                                          \n",
       "[2,]  estimated error less than 250m and 4+ messages received per satellite pass\n",
       "     [,3]                                                                     \n",
       "[1,] 2                                                                        \n",
       "[2,]  estimated error between 250m and 500m and 4+ messages per satellite pass\n",
       "     [,4]                                                                      \n",
       "[1,] 1                                                                         \n",
       "[2,]  estimated error between 500m and 1500m and 4+ messages per satellite pass\n",
       "     [,5]                                                                           \n",
       "[1,] 0                                                                              \n",
       "[2,]  estimated error greater than 1500m and 4+ messages received per satellite pass\n",
       "     [,6]                                                                                                                   \n",
       "[1,] A                                                                                                                      \n",
       "[2,]  no least squares estimated error or unbounded kalman filter estimated error and 3 messages received per satellite pass\n",
       "     [,7]                                                                                                                        \n",
       "[1,] B                                                                                                                           \n",
       "[2,]  no least squares estimated error or unbounded kalman filter estimated error and 1 or 2 messages received per satellite pass\n",
       "     [,8]                                                                            \n",
       "[1,] Z                                                                               \n",
       "[2,]  invalid location (available for Service Plus or Auxilliary Location Processing)"
      ]
     },
     "metadata": {},
     "output_type": "display_data"
    }
   ],
   "source": [
    "code_defs <- metadata %>% dplyr::filter(variable == \"location_class\") %>% dplyr::filter(name==\"code_meanings\" | name==\"code_values\")\n",
    "\n",
    "str_split_fixed(code_defs$value,\",\",8)"
   ]
  },
  {
   "cell_type": "markdown",
   "metadata": {},
   "source": [
    "Review location uncertainty information and map to how many meters the uncertainty is.\n",
    "\n",
    "From the table above, only `nan`, `G`, `3`, `2`, `1`, and `0` are valid points with known undertainties."
   ]
  },
  {
   "cell_type": "code",
   "execution_count": 11,
   "metadata": {},
   "outputs": [
    {
     "data": {
      "text/html": [
       "<table class=\"dataframe\">\n",
       "<caption>A tibble: 6 × 23</caption>\n",
       "<thead>\n",
       "\t<tr><th scope=col>time</th><th scope=col>z</th><th scope=col>lat</th><th scope=col>lon</th><th scope=col>ptt</th><th scope=col>instrument</th><th scope=col>type</th><th scope=col>location_class</th><th scope=col>error_radius</th><th scope=col>semi_major_axis</th><th scope=col>...</th><th scope=col>offset_orientation</th><th scope=col>gpe_msd</th><th scope=col>gpe_u</th><th scope=col>count</th><th scope=col>qartod_time_flag</th><th scope=col>qartod_speed_flag</th><th scope=col>qartod_location_flag</th><th scope=col>qartod_rollup_flag</th><th scope=col>comment</th><th scope=col>obs</th></tr>\n",
       "\t<tr><th scope=col>&lt;dttm&gt;</th><th scope=col>&lt;int&gt;</th><th scope=col>&lt;dbl&gt;</th><th scope=col>&lt;dbl&gt;</th><th scope=col>&lt;int&gt;</th><th scope=col>&lt;chr&gt;</th><th scope=col>&lt;chr&gt;</th><th scope=col>&lt;chr&gt;</th><th scope=col>&lt;int&gt;</th><th scope=col>&lt;int&gt;</th><th scope=col>...</th><th scope=col>&lt;int&gt;</th><th scope=col>&lt;dbl&gt;</th><th scope=col>&lt;dbl&gt;</th><th scope=col>&lt;int&gt;</th><th scope=col>&lt;int&gt;</th><th scope=col>&lt;int&gt;</th><th scope=col>&lt;int&gt;</th><th scope=col>&lt;int&gt;</th><th scope=col>&lt;chr&gt;</th><th scope=col>&lt;int&gt;</th></tr>\n",
       "</thead>\n",
       "<tbody>\n",
       "\t<tr><td>2009-09-23 00:00:00</td><td>0</td><td>34.030</td><td>-118.560</td><td>45866</td><td>SPOT</td><td>User </td><td>nan</td><td>NA</td><td>NA</td><td>...</td><td>NA</td><td>NaN</td><td>NaN</td><td>NA</td><td>1</td><td>2</td><td>1</td><td>1</td><td></td><td>1</td></tr>\n",
       "\t<tr><td>2009-09-25 11:09:00</td><td>0</td><td>34.024</td><td>-118.556</td><td>45866</td><td>SPOT</td><td>Argos</td><td>1  </td><td>NA</td><td>NA</td><td>...</td><td>NA</td><td>NaN</td><td>NaN</td><td>NA</td><td>1</td><td>4</td><td>1</td><td>4</td><td></td><td>3</td></tr>\n",
       "\t<tr><td>2009-09-25 11:11:00</td><td>0</td><td>34.035</td><td>-118.549</td><td>45866</td><td>SPOT</td><td>Argos</td><td>0  </td><td>NA</td><td>NA</td><td>...</td><td>NA</td><td>NaN</td><td>NaN</td><td>NA</td><td>1</td><td>4</td><td>1</td><td>4</td><td></td><td>4</td></tr>\n",
       "\t<tr><td>2009-09-27 17:58:00</td><td>0</td><td>34.033</td><td>-118.547</td><td>45866</td><td>SPOT</td><td>Argos</td><td>1  </td><td>NA</td><td>NA</td><td>...</td><td>NA</td><td>NaN</td><td>NaN</td><td>NA</td><td>1</td><td>1</td><td>1</td><td>1</td><td></td><td>5</td></tr>\n",
       "\t<tr><td>2009-10-08 20:24:00</td><td>0</td><td>34.038</td><td>-118.581</td><td>45866</td><td>SPOT</td><td>Argos</td><td>2  </td><td>NA</td><td>NA</td><td>...</td><td>NA</td><td>NaN</td><td>NaN</td><td>NA</td><td>1</td><td>1</td><td>1</td><td>1</td><td></td><td>7</td></tr>\n",
       "\t<tr><td>2009-10-15 11:05:00</td><td>0</td><td>33.995</td><td>-118.678</td><td>45866</td><td>SPOT</td><td>Argos</td><td>0  </td><td>NA</td><td>NA</td><td>...</td><td>NA</td><td>NaN</td><td>NaN</td><td>NA</td><td>1</td><td>1</td><td>1</td><td>1</td><td></td><td>8</td></tr>\n",
       "</tbody>\n",
       "</table>\n"
      ],
      "text/latex": [
       "A tibble: 6 × 23\n",
       "\\begin{tabular}{lllllllllllllllllllll}\n",
       " time & z & lat & lon & ptt & instrument & type & location\\_class & error\\_radius & semi\\_major\\_axis & ... & offset\\_orientation & gpe\\_msd & gpe\\_u & count & qartod\\_time\\_flag & qartod\\_speed\\_flag & qartod\\_location\\_flag & qartod\\_rollup\\_flag & comment & obs\\\\\n",
       " <dttm> & <int> & <dbl> & <dbl> & <int> & <chr> & <chr> & <chr> & <int> & <int> & ... & <int> & <dbl> & <dbl> & <int> & <int> & <int> & <int> & <int> & <chr> & <int>\\\\\n",
       "\\hline\n",
       "\t 2009-09-23 00:00:00 & 0 & 34.030 & -118.560 & 45866 & SPOT & User  & nan & NA & NA & ... & NA & NaN & NaN & NA & 1 & 2 & 1 & 1 &  & 1\\\\\n",
       "\t 2009-09-25 11:09:00 & 0 & 34.024 & -118.556 & 45866 & SPOT & Argos & 1   & NA & NA & ... & NA & NaN & NaN & NA & 1 & 4 & 1 & 4 &  & 3\\\\\n",
       "\t 2009-09-25 11:11:00 & 0 & 34.035 & -118.549 & 45866 & SPOT & Argos & 0   & NA & NA & ... & NA & NaN & NaN & NA & 1 & 4 & 1 & 4 &  & 4\\\\\n",
       "\t 2009-09-27 17:58:00 & 0 & 34.033 & -118.547 & 45866 & SPOT & Argos & 1   & NA & NA & ... & NA & NaN & NaN & NA & 1 & 1 & 1 & 1 &  & 5\\\\\n",
       "\t 2009-10-08 20:24:00 & 0 & 34.038 & -118.581 & 45866 & SPOT & Argos & 2   & NA & NA & ... & NA & NaN & NaN & NA & 1 & 1 & 1 & 1 &  & 7\\\\\n",
       "\t 2009-10-15 11:05:00 & 0 & 33.995 & -118.678 & 45866 & SPOT & Argos & 0   & NA & NA & ... & NA & NaN & NaN & NA & 1 & 1 & 1 & 1 &  & 8\\\\\n",
       "\\end{tabular}\n"
      ],
      "text/markdown": [
       "\n",
       "A tibble: 6 × 23\n",
       "\n",
       "| time &lt;dttm&gt; | z &lt;int&gt; | lat &lt;dbl&gt; | lon &lt;dbl&gt; | ptt &lt;int&gt; | instrument &lt;chr&gt; | type &lt;chr&gt; | location_class &lt;chr&gt; | error_radius &lt;int&gt; | semi_major_axis &lt;int&gt; | ... ... | offset_orientation &lt;int&gt; | gpe_msd &lt;dbl&gt; | gpe_u &lt;dbl&gt; | count &lt;int&gt; | qartod_time_flag &lt;int&gt; | qartod_speed_flag &lt;int&gt; | qartod_location_flag &lt;int&gt; | qartod_rollup_flag &lt;int&gt; | comment &lt;chr&gt; | obs &lt;int&gt; |\n",
       "|---|---|---|---|---|---|---|---|---|---|---|---|---|---|---|---|---|---|---|---|---|\n",
       "| 2009-09-23 00:00:00 | 0 | 34.030 | -118.560 | 45866 | SPOT | User  | nan | NA | NA | ... | NA | NaN | NaN | NA | 1 | 2 | 1 | 1 | <!----> | 1 |\n",
       "| 2009-09-25 11:09:00 | 0 | 34.024 | -118.556 | 45866 | SPOT | Argos | 1   | NA | NA | ... | NA | NaN | NaN | NA | 1 | 4 | 1 | 4 | <!----> | 3 |\n",
       "| 2009-09-25 11:11:00 | 0 | 34.035 | -118.549 | 45866 | SPOT | Argos | 0   | NA | NA | ... | NA | NaN | NaN | NA | 1 | 4 | 1 | 4 | <!----> | 4 |\n",
       "| 2009-09-27 17:58:00 | 0 | 34.033 | -118.547 | 45866 | SPOT | Argos | 1   | NA | NA | ... | NA | NaN | NaN | NA | 1 | 1 | 1 | 1 | <!----> | 5 |\n",
       "| 2009-10-08 20:24:00 | 0 | 34.038 | -118.581 | 45866 | SPOT | Argos | 2   | NA | NA | ... | NA | NaN | NaN | NA | 1 | 1 | 1 | 1 | <!----> | 7 |\n",
       "| 2009-10-15 11:05:00 | 0 | 33.995 | -118.678 | 45866 | SPOT | Argos | 0   | NA | NA | ... | NA | NaN | NaN | NA | 1 | 1 | 1 | 1 | <!----> | 8 |\n",
       "\n"
      ],
      "text/plain": [
       "  time                z lat    lon      ptt   instrument type  location_class\n",
       "1 2009-09-23 00:00:00 0 34.030 -118.560 45866 SPOT       User  nan           \n",
       "2 2009-09-25 11:09:00 0 34.024 -118.556 45866 SPOT       Argos 1             \n",
       "3 2009-09-25 11:11:00 0 34.035 -118.549 45866 SPOT       Argos 0             \n",
       "4 2009-09-27 17:58:00 0 34.033 -118.547 45866 SPOT       Argos 1             \n",
       "5 2009-10-08 20:24:00 0 34.038 -118.581 45866 SPOT       Argos 2             \n",
       "6 2009-10-15 11:05:00 0 33.995 -118.678 45866 SPOT       Argos 0             \n",
       "  error_radius semi_major_axis ... offset_orientation gpe_msd gpe_u count\n",
       "1 NA           NA              ... NA                 NaN     NaN   NA   \n",
       "2 NA           NA              ... NA                 NaN     NaN   NA   \n",
       "3 NA           NA              ... NA                 NaN     NaN   NA   \n",
       "4 NA           NA              ... NA                 NaN     NaN   NA   \n",
       "5 NA           NA              ... NA                 NaN     NaN   NA   \n",
       "6 NA           NA              ... NA                 NaN     NaN   NA   \n",
       "  qartod_time_flag qartod_speed_flag qartod_location_flag qartod_rollup_flag\n",
       "1 1                2                 1                    1                 \n",
       "2 1                4                 1                    4                 \n",
       "3 1                4                 1                    4                 \n",
       "4 1                1                 1                    1                 \n",
       "5 1                1                 1                    1                 \n",
       "6 1                1                 1                    1                 \n",
       "  comment obs\n",
       "1         1  \n",
       "2         3  \n",
       "3         4  \n",
       "4         5  \n",
       "5         7  \n",
       "6         8  "
      ]
     },
     "metadata": {},
     "output_type": "display_data"
    }
   ],
   "source": [
    "atn_tbl_qc <- atn_tbl %>%\n",
    "    filter(location_class %in% c('nan','G','3','2','1','0')) %>%\n",
    "#     mutate(  # This returns NA for any other values than those defined below\n",
    "#         coordinateUncertaintyInMeters = case_when(location_class == 'nan' ~ 0,\n",
    "#                                                      location_class == 'G' ~ 200,\n",
    "#                                                      location_class == '3' ~ 250,\n",
    "#                                                      location_class == '2' ~ 500,\n",
    "#                                                      location_class == '1' ~ 1500,\n",
    "#                                                      location_class == '0' ~ 10000) # https://github.com/ioos/bio_data_guide/issues/145#issuecomment-1805739244\n",
    "#           ) %>% \n",
    "    arrange(time)\n",
    "\n",
    "head(atn_tbl_qc)"
   ]
  },
  {
   "cell_type": "markdown",
   "metadata": {},
   "source": [
    "## Making a map\n",
    "\n",
    "Next, let's make a map of the locations of this animal with the colors identifying the location classes described in the table above.\n"
   ]
  },
  {
   "cell_type": "code",
   "execution_count": 12,
   "metadata": {},
   "outputs": [
    {
     "data": {
      "image/png": "[encoded data removed]",
      "text/plain": [
       "plot without title"
      ]
     },
     "metadata": {
      "image/png": {
       "height": 1200,
       "width": 1200
      }
     },
     "output_type": "display_data"
    }
   ],
   "source": [
    "options(repr.plot.width = 20, repr.plot.height = 20)\n",
    "\n",
    "# collect title from global attributes\n",
    "title <- metadata %>% dplyr::filter(variable == \"NC_GLOBAL\") %>% dplyr::filter(name == \"title\")\n",
    "\n",
    "# Map limits.\n",
    "ylim <- c( min(atn_tbl_qc$lat)-0.25, max(atn_tbl_qc$lat)+0.25 )\n",
    "xlim <- c( min(atn_tbl_qc$lon)-0.25, max(atn_tbl_qc$lon)+0.25 )\n",
    "\n",
    "# Get outline data for map.\n",
    "w <- map_data( 'worldHires', ylim = ylim, xlim = xlim )\n",
    "\n",
    "z <- ggplot(atn_tbl_qc, aes( x = lon, y = lat )) +\n",
    "     geom_point( aes(color = location_class, size = 2 )) +\n",
    "     geom_line( color='grey' ) +\n",
    "     scale_shape_manual( values = c(19, 1) )\n",
    "\n",
    "z + geom_polygon(data = w, aes(x = long, y = lat, group = group), fill = 'grey80') + \n",
    "    theme_bw() +\n",
    "    coord_fixed(1.3, xlim = xlim, ylim = ylim) + \n",
    "    labs(title = paste( strwrap(title$value, width = 150), collapse = \"\\n\"))"
   ]
  },
  {
   "cell_type": "markdown",
   "metadata": {},
   "source": [
    "## Interpolating MURSST to white shark tracks using ERDDAP"
   ]
  },
  {
   "cell_type": "markdown",
   "metadata": {},
   "source": [
    "We need to prepare the data to send to the server. As mentioned above the request will take a table with a header `\"time,latitude,longitude\"`, then its values. Note that we rename the columns, then pick the subset to store as one long string to create the request."
   ]
  },
  {
   "cell_type": "code",
   "execution_count": 13,
   "metadata": {},
   "outputs": [],
   "source": [
    "time_lat_lon <- atn_tbl_qc %>%\n",
    "    rename(  \n",
    "        latitude = lat,\n",
    "        longitude = lon)\n",
    "\n",
    "time_lat_lon <- format_csv(time_lat_lon[c('time','latitude','longitude')])"
   ]
  },
  {
   "cell_type": "markdown",
   "metadata": {},
   "source": [
    "The cell below builds the request and download get it back as a data.frame."
   ]
  },
  {
   "cell_type": "code",
   "execution_count": 14,
   "metadata": {},
   "outputs": [],
   "source": [
    "response = \"csv\"\n",
    "dataset_id = \"jplMURSST41\"\n",
    "variable = \"analysed_sst\"\n",
    "algorithm = \"Nearest\"\n",
    "nearby = 216\n",
    "\n",
    "url = paste0(\n",
    "    \"http://coastwatch.pfeg.noaa.gov/erddap/\",\n",
    "    \"convert/interpolate.\",response,\n",
    "    \"?TimeLatLonTable=\",URLencode(time_lat_lon, reserved=TRUE),\n",
    "    \"&requestCSV=\",dataset_id,\n",
    "    \"/\",variable,\n",
    "    \"/\",algorithm,\n",
    "    \"/\",nearby\n",
    ")\n",
    "\n",
    "df <- read.csv(url)"
   ]
  },
  {
   "cell_type": "markdown",
   "metadata": {},
   "source": [
    "Now let's plot what the interpolated sea surface temperatures were for that animal at that location and time."
   ]
  },
  {
   "cell_type": "code",
   "execution_count": 15,
   "metadata": {},
   "outputs": [
    {
     "data": {
      "image/png": "[encoded data removed]",
      "text/plain": [
       "plot without title"
      ]
     },
     "metadata": {
      "image/png": {
       "height": 1200,
       "width": 1200
      }
     },
     "output_type": "display_data"
    }
   ],
   "source": [
    "options(repr.plot.width = 20, repr.plot.height = 20)\n",
    "\n",
    "# collect title from global attributes\n",
    "title <- metadata %>% dplyr::filter(variable == \"NC_GLOBAL\") %>% dplyr::filter(name == \"title\")\n",
    "\n",
    "# Map limits.\n",
    "ylim <- c( min(df$latitude)-0.25, max(df$latitude)+0.25 )\n",
    "xlim <- c( min(df$longitude)-0.25, max(df$longitude)+0.25 )\n",
    "\n",
    "# Get outline data for map.\n",
    "w <- map_data( 'worldHires', ylim = ylim, xlim = xlim )\n",
    "\n",
    "z <- ggplot(df, aes( x = longitude, y = latitude )) +\n",
    "     geom_point( aes(color = jplMURSST41_analysed_sst_Nearest_216, size=2)) +\n",
    "     geom_line() +\n",
    "     scale_shape_manual( values = c(22, 17) ) +\n",
    "     scale_color_gradient(low=\"blue\", high=\"red\")\n",
    "\n",
    "z + geom_polygon(data = w, aes(x = long, y = lat, group = group), fill = 'grey80') + \n",
    "    theme_bw() +\n",
    "    coord_fixed(1.3, xlim = xlim, ylim = ylim) + \n",
    "    labs(title = paste( strwrap(title$value, width = 200), collapse = \"\\n\"))"
   ]
  },
  {
   "cell_type": "code",
   "execution_count": 16,
   "metadata": {},
   "outputs": [
    {
     "data": {
      "text/plain": [
       "R version 4.1.3 (2022-03-10)\n",
       "Platform: x86_64-w64-mingw32/x64 (64-bit)\n",
       "Running under: Windows 10 x64 (build 19045)\n",
       "\n",
       "Matrix products: default\n",
       "\n",
       "locale:\n",
       "[1] LC_COLLATE=English_United States.1252 \n",
       "[2] LC_CTYPE=English_United States.1252   \n",
       "[3] LC_MONETARY=English_United States.1252\n",
       "[4] LC_NUMERIC=C                          \n",
       "[5] LC_TIME=English_United States.1252    \n",
       "\n",
       "attached base packages:\n",
       "[1] stats     graphics  grDevices utils     datasets  methods   base     \n",
       "\n",
       "other attached packages:\n",
       " [1] mapdata_2.3.1    maps_3.4.1       lubridate_1.9.2  forcats_1.0.0   \n",
       " [5] stringr_1.5.0    dplyr_1.1.1      purrr_1.0.1      readr_2.1.4     \n",
       " [9] tidyr_1.3.0      tibble_3.2.1     ggplot2_3.4.2    tidyverse_1.3.2 \n",
       "[13] ncdf4_1.21       obistools_0.0.10 tidync_0.3.0    \n",
       "\n",
       "loaded via a namespace (and not attached):\n",
       " [1] httr_1.4.6          bit64_4.0.5         vroom_1.6.1        \n",
       " [4] jsonlite_1.8.4      modelr_0.1.11       sp_2.0-0           \n",
       " [7] googlesheets4_1.1.0 cellranger_1.1.0    pillar_1.9.0       \n",
       "[10] backports_1.4.1     lattice_0.20-45     glue_1.6.2         \n",
       "[13] uuid_1.1-0          digest_0.6.31       rvest_1.0.3        \n",
       "[16] colorspace_2.1-0    htmltools_0.5.5     pkgconfig_2.0.3    \n",
       "[19] broom_1.0.4         haven_2.5.2         scales_1.2.1       \n",
       "[22] tzdb_0.3.0          timechange_0.2.0    googledrive_2.1.0  \n",
       "[25] farver_2.1.1        generics_0.1.3      withr_2.5.0        \n",
       "[28] repr_1.1.6          cli_3.6.0           readxl_1.4.2       \n",
       "[31] magrittr_2.0.3      crayon_1.5.2        evaluate_0.20      \n",
       "[34] data.tree_1.0.0     fs_1.6.1            fansi_1.0.4        \n",
       "[37] xml2_1.3.3          tools_4.1.3         hms_1.1.3          \n",
       "[40] geosphere_1.5-18    gargle_1.4.0        lifecycle_1.0.3    \n",
       "[43] reprex_2.0.2        munsell_0.5.0       compiler_4.1.3     \n",
       "[46] RNetCDF_2.6-2       rlang_1.1.0         grid_4.1.3         \n",
       "[49] pbdZMQ_0.3-9        IRkernel_1.3.2      rappdirs_0.3.3     \n",
       "[52] htmlwidgets_1.6.2   crosstalk_1.2.0     labeling_0.4.2     \n",
       "[55] base64enc_0.1-3     rmarkdown_2.20      gtable_0.3.3       \n",
       "[58] DBI_1.1.3           R6_2.5.1            ncmeta_0.3.5       \n",
       "[61] knitr_1.42          bit_4.0.5           fastmap_1.1.1      \n",
       "[64] rgeos_0.6-2         utf8_1.2.3          stringi_1.7.12     \n",
       "[67] parallel_4.1.3      IRdisplay_1.1       Rcpp_1.0.10        \n",
       "[70] vctrs_0.6.1         leaflet_2.1.2       dbplyr_2.3.2       \n",
       "[73] tidyselect_1.2.0    xfun_0.37          "
      ]
     },
     "metadata": {},
     "output_type": "display_data"
    }
   ],
   "source": [
    "sessionInfo()"
   ]
  }
 ],
 "metadata": {
  "anaconda-cloud": {},
  "kernelspec": {
   "display_name": "R",
   "language": "R",
   "name": "ir"
  },
  "language_info": {
   "codemirror_mode": "r",
   "file_extension": ".r",
   "mimetype": "text/x-r-source",
   "name": "R",
   "pygments_lexer": "r",
   "version": "4.1.3"
  }
 },
 "nbformat": 4,
 "nbformat_minor": 4
}
