{
 "cells": [
  {
   "cell_type": "markdown",
   "metadata": {},
   "source": [
    "# Parsing Conventions and standards with Python\n",
    "\n",
    "Created: 2019-11-16\n",
    "\n",
    "Metadata conventions, like the Climate and Forecast (CF) conventions,\n",
    "can be cumbersome to adhere to but it will be very handy when you or other users manipulate the data later in time.\n",
    "\n",
    "In this notebook we will explore three Python modules that parse [`CF-1.6`](http://cfconventions.org/cf-conventions/v1.6.0/cf-conventions.html),\n",
    "[`UGRID-1.0`](http://ugrid-conventions.github.io/ugrid-conventions/),\n",
    "and [`SGRID-0.3`](http://sgrid.github.io/sgrid/)\n",
    "\n",
    "## CF-1.6 with cf_xarray\n",
    "\n",
    "There are many Python libraries to read and write CF metadata,\n",
    "including [`iris`](http://scitools.org.uk/iris/) and [`cf_xarray`](https://cf-xarray.readthedocs.io/).\n",
    "\n",
    "\n",
    "We will explore `cf_xarray` in this notebook because it is built on top of the popular `xarray` package."
   ]
  },
  {
   "cell_type": "code",
   "execution_count": 1,
   "metadata": {
    "scrolled": false
   },
   "outputs": [
    {
     "data": {
      "text/plain": [
       "Coordinates:\n",
       "- CF Axes: * Z: ['s_rho', 's_w']\n",
       "           * T: ['ocean_time']\n",
       "             X, Y: n/a\n",
       "\n",
       "- CF Coordinates:   longitude: ['lon_psi', 'lon_rho', 'lon_u', 'lon_v']\n",
       "                    latitude: ['lat_psi', 'lat_rho', 'lat_u', 'lat_v']\n",
       "                  * vertical: ['s_rho', 's_w']\n",
       "                  * time: ['ocean_time']\n",
       "\n",
       "- Cell Measures:   area, volume: n/a\n",
       "\n",
       "- Standard Names: * forecast_reference_time: ['run']\n",
       "                    latitude: ['lat_psi', 'lat_rho', 'lat_u', 'lat_v']\n",
       "                    longitude: ['lon_psi', 'lon_rho', 'lon_u', 'lon_v']\n",
       "                  * ocean_s_coordinate_g1: ['s_rho', 's_w']\n",
       "\n",
       "- Bounds:   n/a\n",
       "\n",
       "Data Variables:\n",
       "- Cell Measures:   area, volume: n/a\n",
       "\n",
       "- Standard Names:   sea_floor_depth_below_sea_surface: ['h']\n",
       "                    sea_surface_elevation_anomaly: ['zeta']\n",
       "                    sea_water_potential_temperature: ['temp']\n",
       "                    sea_water_practical_salinity: ['salt']\n",
       "                    sea_water_x_velocity: ['u']\n",
       "                    sea_water_y_velocity: ['v']\n",
       "\n",
       "- Bounds:   n/a"
      ]
     },
     "execution_count": 1,
     "metadata": {},
     "output_type": "execute_result"
    }
   ],
   "source": [
    "import cf_xarray\n",
    "import xarray as xr\n",
    "\n",
    "\n",
    "url = \"http://tds.marine.rutgers.edu/thredds/dodsC/roms/espresso/2013_da/his/ESPRESSO_Real-Time_v2_History_fmrc.ncd\"\n",
    "ds = xr.open_dataset(url, drop_variables=\"time\")  # see https://github.com/pydata/xarray/issues/2233 for more context on dropping the time variable here.\n",
    "ds.cf"
   ]
  },
  {
   "cell_type": "markdown",
   "metadata": {},
   "source": [
    "The `cf_xarray` package does not compute the vertical coordinate, as `iris`, yet but you can easily compute it using the formula term in the metadata:"
   ]
  },
  {
   "cell_type": "code",
   "execution_count": 6,
   "metadata": {},
   "outputs": [],
   "source": [
    "from odvc.formulas import ocean_s_coordinate_g1\n",
    "\n",
    "ocean_s_coordinate_g1??"
   ]
  },
  {
   "cell_type": "code",
   "execution_count": null,
   "metadata": {},
   "outputs": [],
   "source": [
    "def ocean_s_coordinate_g1(s, c, eta, depth, depth_c):\n",
    "    \"\"\"\n",
    "    Creates a dimensioned version of ocean s-coordinate generic form 1.\n",
    "    z(n,k,j,i) = S(k,j,i) + eta(n,j,i) * (1 + S(k,j,i) / depth(j,i))\n",
    "    where:\n",
    "        S(k,j,i) = depth_c * s(k) + (depth(j,i) - depth_c) * C(k)\n",
    "    \"\"\"\n",
    "    S = (depth_c * s) + ((depth - depth_c) * c)\n",
    "    return eta * (S / depth + 1) + S\n",
    "\n",
    "\n",
    "s = ds.cf[\"s_rho\"]\n",
    "C = ds.cf[\"Cs_r\"]\n",
    "eta = ds.cf[\"zeta\"]#[-1, -1, 42, 42]\n",
    "depth = ds.cf[\"h\"]#[42, 42]\n",
    "depth_c = ds.cf[\"hc\"]\n",
    "\n",
    "z = ocean_s_coordinate_g1(s, C, eta, depth, depth_c)"
   ]
  },
  {
   "cell_type": "markdown",
   "metadata": {},
   "source": [
    "The main advantage of the CF data model is to use high level language to access variables."
   ]
  },
  {
   "cell_type": "code",
   "execution_count": 8,
   "metadata": {
    "scrolled": false
   },
   "outputs": [
    {
     "name": "stderr",
     "output_type": "stream",
     "text": [
      "/home/filipe/miniforge3/envs/IOOS/lib/python3.10/site-packages/cf_xarray/accessor.py:1530: UserWarning: Variables {'time', ''} not found in object but are referred to in the CF attributes.\n",
      "  warnings.warn(\n"
     ]
    },
    {
     "data": {
      "text/html": [
       "<div><svg style=\"position: absolute; width: 0; height: 0; overflow: hidden\">\n",
       "<defs>\n",
       "<symbol id=\"icon-database\" viewBox=\"0 0 32 32\">\n",
       "<path d=\"M16 0c-8.837 0-16 2.239-16 5v4c0 2.761 7.163 5 16 5s16-2.239 16-5v-4c0-2.761-7.163-5-16-5z\"></path>\n",
       "<path d=\"M16 17c-8.837 0-16-2.239-16-5v6c0 2.761 7.163 5 16 5s16-2.239 16-5v-6c0 2.761-7.163 5-16 5z\"></path>\n",
       "<path d=\"M16 26c-8.837 0-16-2.239-16-5v6c0 2.761 7.163 5 16 5s16-2.239 16-5v-6c0 2.761-7.163 5-16 5z\"></path>\n",
       "</symbol>\n",
       "<symbol id=\"icon-file-text2\" viewBox=\"0 0 32 32\">\n",
       "<path d=\"M28.681 7.159c-0.694-0.947-1.662-2.053-2.724-3.116s-2.169-2.030-3.116-2.724c-1.612-1.182-2.393-1.319-2.841-1.319h-15.5c-1.378 0-2.5 1.121-2.5 2.5v27c0 1.378 1.122 2.5 2.5 2.5h23c1.378 0 2.5-1.122 2.5-2.5v-19.5c0-0.448-0.137-1.23-1.319-2.841zM24.543 5.457c0.959 0.959 1.712 1.825 2.268 2.543h-4.811v-4.811c0.718 0.556 1.584 1.309 2.543 2.268zM28 29.5c0 0.271-0.229 0.5-0.5 0.5h-23c-0.271 0-0.5-0.229-0.5-0.5v-27c0-0.271 0.229-0.5 0.5-0.5 0 0 15.499-0 15.5 0v7c0 0.552 0.448 1 1 1h7v19.5z\"></path>\n",
       "<path d=\"M23 26h-14c-0.552 0-1-0.448-1-1s0.448-1 1-1h14c0.552 0 1 0.448 1 1s-0.448 1-1 1z\"></path>\n",
       "<path d=\"M23 22h-14c-0.552 0-1-0.448-1-1s0.448-1 1-1h14c0.552 0 1 0.448 1 1s-0.448 1-1 1z\"></path>\n",
       "<path d=\"M23 18h-14c-0.552 0-1-0.448-1-1s0.448-1 1-1h14c0.552 0 1 0.448 1 1s-0.448 1-1 1z\"></path>\n",
       "</symbol>\n",
       "</defs>\n",
       "</svg>\n",
       "<style>/* CSS stylesheet for displaying xarray objects in jupyterlab.\n",
       " *\n",
       " */\n",
       "\n",
       ":root {\n",
       "  --xr-font-color0: var(--jp-content-font-color0, rgba(0, 0, 0, 1));\n",
       "  --xr-font-color2: var(--jp-content-font-color2, rgba(0, 0, 0, 0.54));\n",
       "  --xr-font-color3: var(--jp-content-font-color3, rgba(0, 0, 0, 0.38));\n",
       "  --xr-border-color: var(--jp-border-color2, #e0e0e0);\n",
       "  --xr-disabled-color: var(--jp-layout-color3, #bdbdbd);\n",
       "  --xr-background-color: var(--jp-layout-color0, white);\n",
       "  --xr-background-color-row-even: var(--jp-layout-color1, white);\n",
       "  --xr-background-color-row-odd: var(--jp-layout-color2, #eeeeee);\n",
       "}\n",
       "\n",
       "html[theme=dark],\n",
       "body.vscode-dark {\n",
       "  --xr-font-color0: rgba(255, 255, 255, 1);\n",
       "  --xr-font-color2: rgba(255, 255, 255, 0.54);\n",
       "  --xr-font-color3: rgba(255, 255, 255, 0.38);\n",
       "  --xr-border-color: #1F1F1F;\n",
       "  --xr-disabled-color: #515151;\n",
       "  --xr-background-color: #111111;\n",
       "  --xr-background-color-row-even: #111111;\n",
       "  --xr-background-color-row-odd: #313131;\n",
       "}\n",
       "\n",
       ".xr-wrap {\n",
       "  display: block !important;\n",
       "  min-width: 300px;\n",
       "  max-width: 700px;\n",
       "}\n",
       "\n",
       ".xr-text-repr-fallback {\n",
       "  /* fallback to plain text repr when CSS is not injected (untrusted notebook) */\n",
       "  display: none;\n",
       "}\n",
       "\n",
       ".xr-header {\n",
       "  padding-top: 6px;\n",
       "  padding-bottom: 6px;\n",
       "  margin-bottom: 4px;\n",
       "  border-bottom: solid 1px var(--xr-border-color);\n",
       "}\n",
       "\n",
       ".xr-header > div,\n",
       ".xr-header > ul {\n",
       "  display: inline;\n",
       "  margin-top: 0;\n",
       "  margin-bottom: 0;\n",
       "}\n",
       "\n",
       ".xr-obj-type,\n",
       ".xr-array-name {\n",
       "  margin-left: 2px;\n",
       "  margin-right: 10px;\n",
       "}\n",
       "\n",
       ".xr-obj-type {\n",
       "  color: var(--xr-font-color2);\n",
       "}\n",
       "\n",
       ".xr-sections {\n",
       "  padding-left: 0 !important;\n",
       "  display: grid;\n",
       "  grid-template-columns: 150px auto auto 1fr 20px 20px;\n",
       "}\n",
       "\n",
       ".xr-section-item {\n",
       "  display: contents;\n",
       "}\n",
       "\n",
       ".xr-section-item input {\n",
       "  display: none;\n",
       "}\n",
       "\n",
       ".xr-section-item input + label {\n",
       "  color: var(--xr-disabled-color);\n",
       "}\n",
       "\n",
       ".xr-section-item input:enabled + label {\n",
       "  cursor: pointer;\n",
       "  color: var(--xr-font-color2);\n",
       "}\n",
       "\n",
       ".xr-section-item input:enabled + label:hover {\n",
       "  color: var(--xr-font-color0);\n",
       "}\n",
       "\n",
       ".xr-section-summary {\n",
       "  grid-column: 1;\n",
       "  color: var(--xr-font-color2);\n",
       "  font-weight: 500;\n",
       "}\n",
       "\n",
       ".xr-section-summary > span {\n",
       "  display: inline-block;\n",
       "  padding-left: 0.5em;\n",
       "}\n",
       "\n",
       ".xr-section-summary-in:disabled + label {\n",
       "  color: var(--xr-font-color2);\n",
       "}\n",
       "\n",
       ".xr-section-summary-in + label:before {\n",
       "  display: inline-block;\n",
       "  content: '►';\n",
       "  font-size: 11px;\n",
       "  width: 15px;\n",
       "  text-align: center;\n",
       "}\n",
       "\n",
       ".xr-section-summary-in:disabled + label:before {\n",
       "  color: var(--xr-disabled-color);\n",
       "}\n",
       "\n",
       ".xr-section-summary-in:checked + label:before {\n",
       "  content: '▼';\n",
       "}\n",
       "\n",
       ".xr-section-summary-in:checked + label > span {\n",
       "  display: none;\n",
       "}\n",
       "\n",
       ".xr-section-summary,\n",
       ".xr-section-inline-details {\n",
       "  padding-top: 4px;\n",
       "  padding-bottom: 4px;\n",
       "}\n",
       "\n",
       ".xr-section-inline-details {\n",
       "  grid-column: 2 / -1;\n",
       "}\n",
       "\n",
       ".xr-section-details {\n",
       "  display: none;\n",
       "  grid-column: 1 / -1;\n",
       "  margin-bottom: 5px;\n",
       "}\n",
       "\n",
       ".xr-section-summary-in:checked ~ .xr-section-details {\n",
       "  display: contents;\n",
       "}\n",
       "\n",
       ".xr-array-wrap {\n",
       "  grid-column: 1 / -1;\n",
       "  display: grid;\n",
       "  grid-template-columns: 20px auto;\n",
       "}\n",
       "\n",
       ".xr-array-wrap > label {\n",
       "  grid-column: 1;\n",
       "  vertical-align: top;\n",
       "}\n",
       "\n",
       ".xr-preview {\n",
       "  color: var(--xr-font-color3);\n",
       "}\n",
       "\n",
       ".xr-array-preview,\n",
       ".xr-array-data {\n",
       "  padding: 0 5px !important;\n",
       "  grid-column: 2;\n",
       "}\n",
       "\n",
       ".xr-array-data,\n",
       ".xr-array-in:checked ~ .xr-array-preview {\n",
       "  display: none;\n",
       "}\n",
       "\n",
       ".xr-array-in:checked ~ .xr-array-data,\n",
       ".xr-array-preview {\n",
       "  display: inline-block;\n",
       "}\n",
       "\n",
       ".xr-dim-list {\n",
       "  display: inline-block !important;\n",
       "  list-style: none;\n",
       "  padding: 0 !important;\n",
       "  margin: 0;\n",
       "}\n",
       "\n",
       ".xr-dim-list li {\n",
       "  display: inline-block;\n",
       "  padding: 0;\n",
       "  margin: 0;\n",
       "}\n",
       "\n",
       ".xr-dim-list:before {\n",
       "  content: '(';\n",
       "}\n",
       "\n",
       ".xr-dim-list:after {\n",
       "  content: ')';\n",
       "}\n",
       "\n",
       ".xr-dim-list li:not(:last-child):after {\n",
       "  content: ',';\n",
       "  padding-right: 5px;\n",
       "}\n",
       "\n",
       ".xr-has-index {\n",
       "  font-weight: bold;\n",
       "}\n",
       "\n",
       ".xr-var-list,\n",
       ".xr-var-item {\n",
       "  display: contents;\n",
       "}\n",
       "\n",
       ".xr-var-item > div,\n",
       ".xr-var-item label,\n",
       ".xr-var-item > .xr-var-name span {\n",
       "  background-color: var(--xr-background-color-row-even);\n",
       "  margin-bottom: 0;\n",
       "}\n",
       "\n",
       ".xr-var-item > .xr-var-name:hover span {\n",
       "  padding-right: 5px;\n",
       "}\n",
       "\n",
       ".xr-var-list > li:nth-child(odd) > div,\n",
       ".xr-var-list > li:nth-child(odd) > label,\n",
       ".xr-var-list > li:nth-child(odd) > .xr-var-name span {\n",
       "  background-color: var(--xr-background-color-row-odd);\n",
       "}\n",
       "\n",
       ".xr-var-name {\n",
       "  grid-column: 1;\n",
       "}\n",
       "\n",
       ".xr-var-dims {\n",
       "  grid-column: 2;\n",
       "}\n",
       "\n",
       ".xr-var-dtype {\n",
       "  grid-column: 3;\n",
       "  text-align: right;\n",
       "  color: var(--xr-font-color2);\n",
       "}\n",
       "\n",
       ".xr-var-preview {\n",
       "  grid-column: 4;\n",
       "}\n",
       "\n",
       ".xr-var-name,\n",
       ".xr-var-dims,\n",
       ".xr-var-dtype,\n",
       ".xr-preview,\n",
       ".xr-attrs dt {\n",
       "  white-space: nowrap;\n",
       "  overflow: hidden;\n",
       "  text-overflow: ellipsis;\n",
       "  padding-right: 10px;\n",
       "}\n",
       "\n",
       ".xr-var-name:hover,\n",
       ".xr-var-dims:hover,\n",
       ".xr-var-dtype:hover,\n",
       ".xr-attrs dt:hover {\n",
       "  overflow: visible;\n",
       "  width: auto;\n",
       "  z-index: 1;\n",
       "}\n",
       "\n",
       ".xr-var-attrs,\n",
       ".xr-var-data {\n",
       "  display: none;\n",
       "  background-color: var(--xr-background-color) !important;\n",
       "  padding-bottom: 5px !important;\n",
       "}\n",
       "\n",
       ".xr-var-attrs-in:checked ~ .xr-var-attrs,\n",
       ".xr-var-data-in:checked ~ .xr-var-data {\n",
       "  display: block;\n",
       "}\n",
       "\n",
       ".xr-var-data > table {\n",
       "  float: right;\n",
       "}\n",
       "\n",
       ".xr-var-name span,\n",
       ".xr-var-data,\n",
       ".xr-attrs {\n",
       "  padding-left: 25px !important;\n",
       "}\n",
       "\n",
       ".xr-attrs,\n",
       ".xr-var-attrs,\n",
       ".xr-var-data {\n",
       "  grid-column: 1 / -1;\n",
       "}\n",
       "\n",
       "dl.xr-attrs {\n",
       "  padding: 0;\n",
       "  margin: 0;\n",
       "  display: grid;\n",
       "  grid-template-columns: 125px auto;\n",
       "}\n",
       "\n",
       ".xr-attrs dt,\n",
       ".xr-attrs dd {\n",
       "  padding: 0;\n",
       "  margin: 0;\n",
       "  float: left;\n",
       "  padding-right: 10px;\n",
       "  width: auto;\n",
       "}\n",
       "\n",
       ".xr-attrs dt {\n",
       "  font-weight: normal;\n",
       "  grid-column: 1;\n",
       "}\n",
       "\n",
       ".xr-attrs dt:hover span {\n",
       "  display: inline-block;\n",
       "  background: var(--xr-background-color);\n",
       "  padding-right: 10px;\n",
       "}\n",
       "\n",
       ".xr-attrs dd {\n",
       "  grid-column: 2;\n",
       "  white-space: pre-wrap;\n",
       "  word-break: break-all;\n",
       "}\n",
       "\n",
       ".xr-icon-database,\n",
       ".xr-icon-file-text2 {\n",
       "  display: inline-block;\n",
       "  vertical-align: middle;\n",
       "  width: 1em;\n",
       "  height: 1.5em !important;\n",
       "  stroke-width: 0;\n",
       "  stroke: currentColor;\n",
       "  fill: currentColor;\n",
       "}\n",
       "</style><pre class='xr-text-repr-fallback'>&lt;xarray.DataArray &#x27;temp&#x27; (run: 1929, time: 157, s_rho: 36, eta_rho: 82,\n",
       "                          xi_rho: 130)&gt;\n",
       "[116222867280 values with dtype=float32]\n",
       "Coordinates:\n",
       "  * s_rho    (s_rho) float64 -0.9861 -0.9583 -0.9306 ... -0.04167 -0.01389\n",
       "  * run      (run) datetime64[ns] 2013-05-18 2013-05-19 ... 2018-09-14\n",
       "    lat_rho  (eta_rho, xi_rho) float64 33.74 33.79 33.84 ... 42.78 42.82 42.87\n",
       "    lon_rho  (eta_rho, xi_rho) float64 -75.84 -75.78 -75.71 ... -71.49 -71.43\n",
       "Dimensions without coordinates: time, eta_rho, xi_rho\n",
       "Attributes:\n",
       "    units:          Celsius\n",
       "    long_name:      potential temperature\n",
       "    time:           ocean_time\n",
       "    field:          temperature, scalar, series\n",
       "    _ChunkSizes:    [  1  36  82 130]\n",
       "    standard_name:  sea_water_potential_temperature</pre><div class='xr-wrap' style='display:none'><div class='xr-header'><div class='xr-obj-type'>xarray.DataArray</div><div class='xr-array-name'>'temp'</div><ul class='xr-dim-list'><li><span class='xr-has-index'>run</span>: 1929</li><li><span>time</span>: 157</li><li><span class='xr-has-index'>s_rho</span>: 36</li><li><span>eta_rho</span>: 82</li><li><span>xi_rho</span>: 130</li></ul></div><ul class='xr-sections'><li class='xr-section-item'><div class='xr-array-wrap'><input id='section-a492cab7-461f-4d08-9e53-7786b8d307d5' class='xr-array-in' type='checkbox' checked><label for='section-a492cab7-461f-4d08-9e53-7786b8d307d5' title='Show/hide data repr'><svg class='icon xr-icon-database'><use xlink:href='#icon-database'></use></svg></label><div class='xr-array-preview xr-preview'><span>...</span></div><div class='xr-array-data'><pre>[116222867280 values with dtype=float32]</pre></div></div></li><li class='xr-section-item'><input id='section-d889221e-2366-4081-be88-66c380d56de6' class='xr-section-summary-in' type='checkbox'  checked><label for='section-d889221e-2366-4081-be88-66c380d56de6' class='xr-section-summary' >Coordinates: <span>(4)</span></label><div class='xr-section-inline-details'></div><div class='xr-section-details'><ul class='xr-var-list'><li class='xr-var-item'><div class='xr-var-name'><span class='xr-has-index'>s_rho</span></div><div class='xr-var-dims'>(s_rho)</div><div class='xr-var-dtype'>float64</div><div class='xr-var-preview xr-preview'>-0.9861 -0.9583 ... -0.01389</div><input id='attrs-f967071e-a4ce-4a49-bf1f-a9ba49a9e004' class='xr-var-attrs-in' type='checkbox' ><label for='attrs-f967071e-a4ce-4a49-bf1f-a9ba49a9e004' title='Show/Hide attributes'><svg class='icon xr-icon-file-text2'><use xlink:href='#icon-file-text2'></use></svg></label><input id='data-4786f164-538f-43a5-a70a-fbf0886ef6cd' class='xr-var-data-in' type='checkbox'><label for='data-4786f164-538f-43a5-a70a-fbf0886ef6cd' title='Show/Hide data repr'><svg class='icon xr-icon-database'><use xlink:href='#icon-database'></use></svg></label><div class='xr-var-attrs'><dl class='xr-attrs'><dt><span>units :</span></dt><dd></dd><dt><span>long_name :</span></dt><dd>S-coordinate at RHO-points</dd><dt><span>valid_min :</span></dt><dd>-1.0</dd><dt><span>valid_max :</span></dt><dd>0.0</dd><dt><span>positive :</span></dt><dd>up</dd><dt><span>standard_name :</span></dt><dd>ocean_s_coordinate_g1</dd><dt><span>formula_terms :</span></dt><dd>s: s_rho C: Cs_r eta: zeta depth: h depth_c: hc</dd><dt><span>field :</span></dt><dd>s_rho, scalar</dd><dt><span>_CoordinateTransformType :</span></dt><dd>Vertical</dd><dt><span>_CoordinateAxisType :</span></dt><dd>GeoZ</dd><dt><span>_CoordinateZisPositive :</span></dt><dd>up</dd><dt><span>_CoordinateAxes :</span></dt><dd>s_rho</dd></dl></div><div class='xr-var-data'><pre>array([-0.986111, -0.958333, -0.930556, -0.902778, -0.875   , -0.847222,\n",
       "       -0.819444, -0.791667, -0.763889, -0.736111, -0.708333, -0.680556,\n",
       "       -0.652778, -0.625   , -0.597222, -0.569444, -0.541667, -0.513889,\n",
       "       -0.486111, -0.458333, -0.430556, -0.402778, -0.375   , -0.347222,\n",
       "       -0.319444, -0.291667, -0.263889, -0.236111, -0.208333, -0.180556,\n",
       "       -0.152778, -0.125   , -0.097222, -0.069444, -0.041667, -0.013889])</pre></div></li><li class='xr-var-item'><div class='xr-var-name'><span class='xr-has-index'>run</span></div><div class='xr-var-dims'>(run)</div><div class='xr-var-dtype'>datetime64[ns]</div><div class='xr-var-preview xr-preview'>2013-05-18 ... 2018-09-14</div><input id='attrs-f0420bf8-132f-4823-a2a1-293079f5b837' class='xr-var-attrs-in' type='checkbox' ><label for='attrs-f0420bf8-132f-4823-a2a1-293079f5b837' title='Show/Hide attributes'><svg class='icon xr-icon-file-text2'><use xlink:href='#icon-file-text2'></use></svg></label><input id='data-e042ae2b-4f3f-4774-8891-7b602b6e3e7f' class='xr-var-data-in' type='checkbox'><label for='data-e042ae2b-4f3f-4774-8891-7b602b6e3e7f' title='Show/Hide data repr'><svg class='icon xr-icon-database'><use xlink:href='#icon-database'></use></svg></label><div class='xr-var-attrs'><dl class='xr-attrs'><dt><span>long_name :</span></dt><dd>Run time for ForecastModelRunCollection</dd><dt><span>standard_name :</span></dt><dd>forecast_reference_time</dd><dt><span>_CoordinateAxisType :</span></dt><dd>RunTime</dd></dl></div><div class='xr-var-data'><pre>array([&#x27;2013-05-18T00:00:00.000000000&#x27;, &#x27;2013-05-19T00:00:00.000000000&#x27;,\n",
       "       &#x27;2013-05-20T00:00:00.000000000&#x27;, ..., &#x27;2018-09-12T00:00:00.000000000&#x27;,\n",
       "       &#x27;2018-09-13T00:00:00.000000000&#x27;, &#x27;2018-09-14T00:00:00.000000000&#x27;],\n",
       "      dtype=&#x27;datetime64[ns]&#x27;)</pre></div></li><li class='xr-var-item'><div class='xr-var-name'><span>lat_rho</span></div><div class='xr-var-dims'>(eta_rho, xi_rho)</div><div class='xr-var-dtype'>float64</div><div class='xr-var-preview xr-preview'>33.74 33.79 33.84 ... 42.82 42.87</div><input id='attrs-79841fd4-c5cf-481c-8390-b473ac0fe844' class='xr-var-attrs-in' type='checkbox' ><label for='attrs-79841fd4-c5cf-481c-8390-b473ac0fe844' title='Show/Hide attributes'><svg class='icon xr-icon-file-text2'><use xlink:href='#icon-file-text2'></use></svg></label><input id='data-8aa21c2a-9bc3-4c5e-b774-1d54a5f02e9c' class='xr-var-data-in' type='checkbox'><label for='data-8aa21c2a-9bc3-4c5e-b774-1d54a5f02e9c' title='Show/Hide data repr'><svg class='icon xr-icon-database'><use xlink:href='#icon-database'></use></svg></label><div class='xr-var-attrs'><dl class='xr-attrs'><dt><span>units :</span></dt><dd>degrees_north</dd><dt><span>long_name :</span></dt><dd>latitude of RHO-points</dd><dt><span>standard_name :</span></dt><dd>latitude</dd><dt><span>field :</span></dt><dd>lat_rho, scalar</dd><dt><span>_ChunkSizes :</span></dt><dd>[ 82 130]</dd><dt><span>_CoordinateAxisType :</span></dt><dd>Lat</dd></dl></div><div class='xr-var-data'><pre>array([[33.744605, 33.794267, 33.843908, ..., 39.803658, 39.849137, 39.894587],\n",
       "       [33.784963, 33.834601, 33.884218, ..., 39.840616, 39.886067, 39.93149 ],\n",
       "       [33.825301, 33.874916, 33.924509, ..., 39.877575, 39.923   , 39.968397],\n",
       "       ...,\n",
       "       [36.874968, 36.922822, 36.970654, ..., 42.708485, 42.752428, 42.796348],\n",
       "       [36.91383 , 36.961662, 37.009472, ..., 42.744764, 42.788691, 42.832595],\n",
       "       [36.952673, 37.000482, 37.04827 , ..., 42.781022, 42.824933, 42.868822]])</pre></div></li><li class='xr-var-item'><div class='xr-var-name'><span>lon_rho</span></div><div class='xr-var-dims'>(eta_rho, xi_rho)</div><div class='xr-var-dtype'>float64</div><div class='xr-var-preview xr-preview'>-75.84 -75.78 ... -71.49 -71.43</div><input id='attrs-12905673-91c6-4011-9760-51bf2b8812e7' class='xr-var-attrs-in' type='checkbox' ><label for='attrs-12905673-91c6-4011-9760-51bf2b8812e7' title='Show/Hide attributes'><svg class='icon xr-icon-file-text2'><use xlink:href='#icon-file-text2'></use></svg></label><input id='data-4206c514-6e9b-4cf9-8981-a33b95176968' class='xr-var-data-in' type='checkbox'><label for='data-4206c514-6e9b-4cf9-8981-a33b95176968' title='Show/Hide data repr'><svg class='icon xr-icon-database'><use xlink:href='#icon-database'></use></svg></label><div class='xr-var-attrs'><dl class='xr-attrs'><dt><span>units :</span></dt><dd>degrees_east</dd><dt><span>long_name :</span></dt><dd>longitude of RHO-points</dd><dt><span>standard_name :</span></dt><dd>longitude</dd><dt><span>field :</span></dt><dd>lon_rho, scalar</dd><dt><span>_ChunkSizes :</span></dt><dd>[ 82 130]</dd><dt><span>_CoordinateAxisType :</span></dt><dd>Lon</dd></dl></div><div class='xr-var-data'><pre>array([[-75.838286, -75.775218, -75.712149, ..., -67.832953, -67.770109,\n",
       "        -67.707269],\n",
       "       [-75.884579, -75.821508, -75.758437, ..., -67.879134, -67.816286,\n",
       "        -67.753442],\n",
       "       [-75.930873, -75.8678  , -75.804727, ..., -67.925302, -67.862449,\n",
       "        -67.7996  ],\n",
       "       ...,\n",
       "       [-79.496038, -79.432795, -79.369551, ..., -71.464237, -71.400995,\n",
       "        -71.337752],\n",
       "       [-79.542336, -79.47909 , -79.415844, ..., -71.510168, -71.446923,\n",
       "        -71.383677],\n",
       "       [-79.588635, -79.525386, -79.462137, ..., -71.556099, -71.492851,\n",
       "        -71.429602]])</pre></div></li></ul></div></li><li class='xr-section-item'><input id='section-3815b268-6320-4afa-a54e-57705906a662' class='xr-section-summary-in' type='checkbox'  checked><label for='section-3815b268-6320-4afa-a54e-57705906a662' class='xr-section-summary' >Attributes: <span>(6)</span></label><div class='xr-section-inline-details'></div><div class='xr-section-details'><dl class='xr-attrs'><dt><span>units :</span></dt><dd>Celsius</dd><dt><span>long_name :</span></dt><dd>potential temperature</dd><dt><span>time :</span></dt><dd>ocean_time</dd><dt><span>field :</span></dt><dd>temperature, scalar, series</dd><dt><span>_ChunkSizes :</span></dt><dd>[  1  36  82 130]</dd><dt><span>standard_name :</span></dt><dd>sea_water_potential_temperature</dd></dl></div></li></ul></div></div>"
      ],
      "text/plain": [
       "<xarray.DataArray 'temp' (run: 1929, time: 157, s_rho: 36, eta_rho: 82,\n",
       "                          xi_rho: 130)>\n",
       "[116222867280 values with dtype=float32]\n",
       "Coordinates:\n",
       "  * s_rho    (s_rho) float64 -0.9861 -0.9583 -0.9306 ... -0.04167 -0.01389\n",
       "  * run      (run) datetime64[ns] 2013-05-18 2013-05-19 ... 2018-09-14\n",
       "    lat_rho  (eta_rho, xi_rho) float64 33.74 33.79 33.84 ... 42.78 42.82 42.87\n",
       "    lon_rho  (eta_rho, xi_rho) float64 -75.84 -75.78 -75.71 ... -71.49 -71.43\n",
       "Dimensions without coordinates: time, eta_rho, xi_rho\n",
       "Attributes:\n",
       "    units:          Celsius\n",
       "    long_name:      potential temperature\n",
       "    time:           ocean_time\n",
       "    field:          temperature, scalar, series\n",
       "    _ChunkSizes:    [  1  36  82 130]\n",
       "    standard_name:  sea_water_potential_temperature"
      ]
     },
     "execution_count": 8,
     "metadata": {},
     "output_type": "execute_result"
    }
   ],
   "source": [
    "temp = ds.cf[\"sea_water_potential_temperature\"]\n",
    "\n",
    "temp"
   ]
  },
  {
   "cell_type": "code",
   "execution_count": 9,
   "metadata": {},
   "outputs": [],
   "source": [
    "# Surface at the last time step.\n",
    "T = temp[-1, -1, -1, ...]\n",
    "\n",
    "# Random profile at the last time step.\n",
    "t_profile = temp[-1, -1, :, 42, 42]"
   ]
  },
  {
   "cell_type": "code",
   "execution_count": 10,
   "metadata": {},
   "outputs": [
    {
     "data": {
      "image/png": "[encoded data removed]",
      "text/plain": [
       "<Figure size 432x288 with 2 Axes>"
      ]
     },
     "metadata": {
      "needs_background": "light"
     },
     "output_type": "display_data"
    }
   ],
   "source": [
    "T.plot();"
   ]
  },
  {
   "cell_type": "code",
   "execution_count": 13,
   "metadata": {},
   "outputs": [
    {
     "data": {
      "image/png": "[encoded data removed]",
      "text/plain": [
       "<Figure size 216x504 with 1 Axes>"
      ]
     },
     "metadata": {
      "needs_background": "light"
     },
     "output_type": "display_data"
    }
   ],
   "source": [
    "import matplotlib.pyplot as plt\n",
    "fig, ax = plt.subplots(figsize=(3, 7))\n",
    "\n",
    "ax.plot(t_profile, z);"
   ]
  },
  {
   "cell_type": "markdown",
   "metadata": {},
   "source": [
    "## UGRID-1.0 with pyugrid\n",
    "\n",
    "The Unstructured Grids convention encompasses any type of grid topology,\n",
    "and the details of the convention are documented in [https://ugrid-conventions.github.io/ugrid-conventions](http://bit.ly/2gvtmqQ).\n",
    "Right now `pyugrid` supports only triangular topologies, more will be added in the near future.\n",
    "\n",
    "In a nutshell the `pyugrid` parses and exposes the underlying grid topology in a python object."
   ]
  },
  {
   "cell_type": "code",
   "execution_count": null,
   "metadata": {},
   "outputs": [],
   "source": [
    "import pyugrid\n",
    "\n",
    "url = \"http://www.smast.umassd.edu:8080/thredds/dodsC/FVCOM/NECOFS/Forecasts/NECOFS_GOM3_FORECAST.nc\"\n",
    "ugrid = pyugrid.UGrid.from_ncfile(url)"
   ]
  },
  {
   "cell_type": "markdown",
   "metadata": {},
   "source": [
    "Sometimes the topology is incomplete but,\n",
    "if the data is `UGRID` compliant,\n",
    "`pyugrid` can derive the rest for you."
   ]
  },
  {
   "cell_type": "code",
   "execution_count": null,
   "metadata": {},
   "outputs": [],
   "source": [
    "ugrid.build_edges()"
   ]
  },
  {
   "cell_type": "markdown",
   "metadata": {},
   "source": [
    "The topology can be extracted from `ugrid` object and used for plotting."
   ]
  },
  {
   "cell_type": "code",
   "execution_count": null,
   "metadata": {},
   "outputs": [],
   "source": [
    "lon = ugrid.nodes[:, 0]\n",
    "lat = ugrid.nodes[:, 1]\n",
    "triangles = ugrid.faces[:]"
   ]
  },
  {
   "cell_type": "code",
   "execution_count": null,
   "metadata": {},
   "outputs": [],
   "source": [
    "import cartopy.crs as ccrs\n",
    "from cartopy.mpl.gridliner import LATITUDE_FORMATTER, LONGITUDE_FORMATTER\n",
    "\n",
    "\n",
    "def make_map(projection=ccrs.PlateCarree()):\n",
    "    fig, ax = plt.subplots(figsize=(8, 6), subplot_kw=dict(projection=projection))\n",
    "    ax.coastlines(resolution=\"50m\")\n",
    "    gl = ax.gridlines(draw_labels=True)\n",
    "    gl.top_labels = gl.right_labels = False\n",
    "    gl.xformatter = LONGITUDE_FORMATTER\n",
    "    gl.yformatter = LATITUDE_FORMATTER\n",
    "    return fig, ax\n",
    "\n",
    "\n",
    "fig, ax = make_map()\n",
    "\n",
    "kw = {\"marker\": \".\", \"linestyle\": \"-\", \"alpha\": 0.25, \"color\": \"darkgray\"}\n",
    "ax.triplot(lon, lat, triangles, **kw)\n",
    "ax.coastlines();"
   ]
  },
  {
   "cell_type": "markdown",
   "metadata": {},
   "source": [
    "There is some effort in the development community to integrate `pyugrid` into `iris` to augment the cube object to be both CF and UGRID aware.\n",
    "It will add convenience plotting and slicing methods.\n",
    "\n",
    "Check a longer `pyugrid` example [here](http://bit.ly/2gaZLCy)."
   ]
  },
  {
   "cell_type": "markdown",
   "metadata": {},
   "source": [
    "## SGRID-0.3 with `pysgrid`\n",
    "\n",
    "The Staggered Grid conventions help users to interpret grids from models like ROMS and DELFT,\n",
    "where the variables are defined in different grids.\n",
    "The specs are detailed in [https://sgrid.github.io/sgrid](https://sgrid.github.io/sgrid).\n",
    "\n",
    "The `pysgrid` module is similar to `pyugrid`. The grid topology is parsed into a Python object with methods and attributes that translate the SGRID conventions."
   ]
  },
  {
   "cell_type": "code",
   "execution_count": null,
   "metadata": {},
   "outputs": [],
   "source": [
    "import pysgrid\n",
    "\n",
    "url = \"http://geoport.whoi.edu/thredds/dodsC/coawst_4/use/fmrc/coawst_4_use_best.ncd\"\n",
    "sgrid = pysgrid.load_grid(url)"
   ]
  },
  {
   "cell_type": "markdown",
   "metadata": {},
   "source": [
    "All the raw grid information is present, like edges, dimensions, padding, grid center, and slicing."
   ]
  },
  {
   "cell_type": "code",
   "execution_count": null,
   "metadata": {},
   "outputs": [],
   "source": [
    "sgrid.edge1_coordinates, sgrid.edge1_dimensions, sgrid.edge1_padding"
   ]
  },
  {
   "cell_type": "code",
   "execution_count": null,
   "metadata": {},
   "outputs": [],
   "source": [
    "u_var = sgrid.u\n",
    "\n",
    "u_var.center_axis, u_var.node_axis"
   ]
  },
  {
   "cell_type": "code",
   "execution_count": null,
   "metadata": {},
   "outputs": [],
   "source": [
    "v_var = sgrid.v\n",
    "v_var.center_axis, v_var.node_axis"
   ]
  },
  {
   "cell_type": "code",
   "execution_count": null,
   "metadata": {},
   "outputs": [],
   "source": [
    "u_var.center_slicing, v_var.center_slicing"
   ]
  },
  {
   "cell_type": "markdown",
   "metadata": {},
   "source": [
    "The API is \"raw\" but comprehensive.\n",
    "There is plenty of room to create convenience methods using the low level access provided by the library.\n",
    "\n",
    "See below an example of the API and some simple convenience methods to `slice`, `pad`, `average`, and `rotate` the structure grid for plotting."
   ]
  },
  {
   "cell_type": "code",
   "execution_count": null,
   "metadata": {},
   "outputs": [],
   "source": [
    "from netCDF4 import Dataset\n",
    "\n",
    "# Compute the speed.\n",
    "# **Rotate the grid.\n",
    "# Average at the center.\n",
    "from pysgrid.processing_2d import avg_to_cell_center, rotate_vectors, vector_sum\n",
    "\n",
    "nc = Dataset(url)\n",
    "u_velocity = nc.variables[u_var.variable]\n",
    "v_velocity = nc.variables[v_var.variable]\n",
    "\n",
    "v_idx = 0  # surface\n",
    "time_idx = -1  # Last time step.\n",
    "\n",
    "u = u_velocity[time_idx, v_idx, u_var.center_slicing[-2], u_var.center_slicing[-1]]\n",
    "v = v_velocity[time_idx, v_idx, v_var.center_slicing[-2], v_var.center_slicing[-1]]\n",
    "\n",
    "\n",
    "u = avg_to_cell_center(u, u_var.center_axis)\n",
    "v = avg_to_cell_center(v, v_var.center_axis)\n",
    "\n",
    "\n",
    "angles = nc.variables[sgrid.angle.variable][sgrid.angle.center_slicing]\n",
    "u, v = rotate_vectors(u, v, angles)\n",
    "\n",
    "\n",
    "speed = vector_sum(u, v)"
   ]
  },
  {
   "cell_type": "markdown",
   "metadata": {},
   "source": [
    "\\*\\* CF convention does describe the angle variable for grids that needs rotation, but there is no action expected. For example, in the formula_terms, pysgrid must be improved to abstract that action when needed via a simpler method.\n",
    "\n",
    "```xml\n",
    "<entry id=\"angle_of_rotation_from_east_to_x\">\n",
    "    <canonical_units>degree</canonical_units>\n",
    "    <grib></grib>\n",
    "    <amip></amip>\n",
    "    <description>The quantity with standard name angle_of_rotation_from_east_to_x is the angle, anticlockwise reckoned positive, between due East and (dr/di)jk, where r(i,j,k) is the vector 3D position of the point with coordinate indices (i,j,k).  It could be used for rotating vector fields between model space and latitude-longitude space.</description>\n",
    "</entry>\n",
    "```"
   ]
  },
  {
   "cell_type": "code",
   "execution_count": null,
   "metadata": {},
   "outputs": [],
   "source": [
    "lon_var_name, lat_var_name = sgrid.face_coordinates\n",
    "\n",
    "sg_lon = getattr(sgrid, lon_var_name)\n",
    "sg_lat = getattr(sgrid, lat_var_name)\n",
    "\n",
    "lon = sgrid.center_lon[sg_lon.center_slicing]\n",
    "lat = sgrid.center_lat[sg_lat.center_slicing]"
   ]
  },
  {
   "cell_type": "markdown",
   "metadata": {},
   "source": [
    "Ideally all the steps above could be performed in the background, in a high level object method call, like the `iris` cube plotting methods.\n",
    "\n",
    "Let's subset and center the velocity for better visualization (not a mandatory step but recommended)."
   ]
  },
  {
   "cell_type": "code",
   "execution_count": null,
   "metadata": {},
   "outputs": [],
   "source": [
    "def is_monotonically_increasing(arr, axis=0):\n",
    "    return np.all(np.diff(arr, axis=axis) > 0)\n",
    "\n",
    "\n",
    "def is_monotonically_decreasing(arr, axis=0):\n",
    "    return np.all(np.diff(arr, axis=axis) < 0)\n",
    "\n",
    "\n",
    "def is_monotonic(arr):\n",
    "    return is_monotonically_increasing(arr) or is_monotonically_decreasing(arr)\n",
    "\n",
    "\n",
    "def extent_bounds(arr, bound_position=0.5, axis=0):\n",
    "    if not is_monotonic(arr):\n",
    "        msg = \"Array {!r} must be monotonic to guess bounds\".format\n",
    "        raise ValueError(msg(arr))\n",
    "\n",
    "    x = arr.copy()\n",
    "    x = np.c_[x[:, 0], (bound_position * (x[:, :-1] + x[:, 1:])), x[:, -1]]\n",
    "    x = np.r_[\n",
    "        x[0, :][None, ...],\n",
    "        (bound_position * (x[:-1, :] + x[1:, :])),\n",
    "        x[-1, :][None, ...],\n",
    "    ]\n",
    "\n",
    "    return x"
   ]
  },
  {
   "cell_type": "code",
   "execution_count": null,
   "metadata": {},
   "outputs": [],
   "source": [
    "import numpy as np\n",
    "\n",
    "# For plotting reasons we will subsample every 10th point here\n",
    "# 100 times less data!\n",
    "sub = 10\n",
    "\n",
    "lon = lon[::sub, ::sub]\n",
    "lat = lat[::sub, ::sub]\n",
    "u, v = u[::sub, ::sub], v[::sub, ::sub]\n",
    "speed = speed[::sub, ::sub]\n",
    "\n",
    "x = extent_bounds(lon)\n",
    "y = extent_bounds(lat)"
   ]
  },
  {
   "cell_type": "markdown",
   "metadata": {},
   "source": [
    "Now we can use quiver to plot the velocity components in a single grid. "
   ]
  },
  {
   "cell_type": "code",
   "execution_count": null,
   "metadata": {},
   "outputs": [],
   "source": [
    "def make_map(projection=ccrs.PlateCarree(), figsize=(9, 9)):\n",
    "    fig, ax = plt.subplots(figsize=figsize, subplot_kw=dict(projection=projection))\n",
    "    gl = ax.gridlines(draw_labels=True)\n",
    "    gl.top_labels = gl.right_labels = False\n",
    "    gl.xformatter = LONGITUDE_FORMATTER\n",
    "    gl.yformatter = LATITUDE_FORMATTER\n",
    "    return fig, ax"
   ]
  },
  {
   "cell_type": "code",
   "execution_count": null,
   "metadata": {
    "scrolled": false
   },
   "outputs": [],
   "source": [
    "scale = 0.06\n",
    "\n",
    "fig, ax = make_map()\n",
    "\n",
    "kw = dict(scale=1.0 / scale, pivot=\"middle\", width=0.003, color=\"black\")\n",
    "q = plt.quiver(lon, lat, u, v, zorder=2, **kw)\n",
    "\n",
    "plt.pcolormesh(x, y, speed, zorder=1, cmap=plt.cm.rainbow)\n",
    "\n",
    "c = ax.coastlines(\"10m\")\n",
    "ax.set_extent([-73.5, -62.5, 38, 46])"
   ]
  },
  {
   "cell_type": "markdown",
   "metadata": {},
   "source": [
    "For more examples on `pysgrid` check this [post](http://bit.ly/2fKVk0x) out."
   ]
  }
 ],
 "metadata": {
  "kernelspec": {
   "display_name": "Python 3 (ipykernel)",
   "language": "python",
   "name": "python3"
  },
  "language_info": {
   "codemirror_mode": {
    "name": "ipython",
    "version": 3
   },
   "file_extension": ".py",
   "mimetype": "text/x-python",
   "name": "python",
   "nbconvert_exporter": "python",
   "pygments_lexer": "ipython3",
   "version": "3.10.4"
  }
 },
 "nbformat": 4,
 "nbformat_minor": 1
}
